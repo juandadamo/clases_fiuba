{
 "cells": [
  {
   "cell_type": "code",
   "execution_count": 1,
   "id": "diverse-enemy",
   "metadata": {
    "_cell_guid": "b1076dfc-b9ad-4769-8c92-a6c4dae69d19",
    "_kg_hide-input": true,
    "_kg_hide-output": true,
    "_uuid": "8f2839f25d086af736a60e9eeb907d3b93b6e0e5",
    "execution": {
     "iopub.execute_input": "2021-04-17T16:17:13.139429Z",
     "iopub.status.busy": "2021-04-17T16:17:13.127678Z",
     "iopub.status.idle": "2021-04-17T16:17:22.179077Z",
     "shell.execute_reply": "2021-04-17T16:17:22.179552Z"
    },
    "papermill": {
     "duration": 9.06407,
     "end_time": "2021-04-17T16:17:22.179879",
     "exception": false,
     "start_time": "2021-04-17T16:17:13.115809",
     "status": "completed"
    },
    "tags": []
   },
   "outputs": [
    {
     "name": "stdout",
     "output_type": "stream",
     "text": [
      "Collecting pint\r\n",
      "  Downloading Pint-0.17-py2.py3-none-any.whl (204 kB)\r\n",
      "\u001b[K     |████████████████████████████████| 204 kB 419 kB/s \r\n",
      "\u001b[?25hRequirement already satisfied: packaging in /opt/conda/lib/python3.7/site-packages (from pint) (20.9)\r\n",
      "Requirement already satisfied: importlib-metadata in /opt/conda/lib/python3.7/site-packages (from pint) (3.4.0)\r\n",
      "Requirement already satisfied: typing-extensions>=3.6.4 in /opt/conda/lib/python3.7/site-packages (from importlib-metadata->pint) (3.7.4.3)\r\n",
      "Requirement already satisfied: zipp>=0.5 in /opt/conda/lib/python3.7/site-packages (from importlib-metadata->pint) (3.4.0)\r\n",
      "Requirement already satisfied: pyparsing>=2.0.2 in /opt/conda/lib/python3.7/site-packages (from packaging->pint) (2.4.7)\r\n",
      "Installing collected packages: pint\r\n",
      "Successfully installed pint-0.17\r\n"
     ]
    }
   ],
   "source": [
    "!pip install pint"
   ]
  },
  {
   "cell_type": "code",
   "execution_count": 2,
   "id": "packed-dragon",
   "metadata": {
    "_kg_hide-input": true,
    "_kg_hide-output": true,
    "execution": {
     "iopub.execute_input": "2021-04-17T16:17:22.200959Z",
     "iopub.status.busy": "2021-04-17T16:17:22.200370Z",
     "iopub.status.idle": "2021-04-17T16:17:23.410642Z",
     "shell.execute_reply": "2021-04-17T16:17:23.411102Z"
    },
    "papermill": {
     "duration": 1.223041,
     "end_time": "2021-04-17T16:17:23.411284",
     "exception": false,
     "start_time": "2021-04-17T16:17:22.188243",
     "status": "completed"
    },
    "tags": []
   },
   "outputs": [],
   "source": [
    "import numpy as np \n",
    "import pint\n",
    "from IPython.display import  Latex\n",
    "from ipywidgets import interact, interactive,widgets,Layout\n",
    "ureg = pint.UnitRegistry(fmt_locale='es_ES')"
   ]
  },
  {
   "cell_type": "code",
   "execution_count": 3,
   "id": "downtown-survey",
   "metadata": {
    "execution": {
     "iopub.execute_input": "2021-04-17T16:17:23.431830Z",
     "iopub.status.busy": "2021-04-17T16:17:23.431261Z",
     "iopub.status.idle": "2021-04-17T16:17:23.434360Z",
     "shell.execute_reply": "2021-04-17T16:17:23.434818Z"
    },
    "papermill": {
     "duration": 0.016052,
     "end_time": "2021-04-17T16:17:23.434997",
     "exception": false,
     "start_time": "2021-04-17T16:17:23.418945",
     "status": "completed"
    },
    "tags": []
   },
   "outputs": [],
   "source": [
    "velocidad_1 = 1.2*ureg.kilometer_per_hour\n",
    "tiempo_1 = (10*ureg.second)\n",
    "distancia_1 = (velocidad_1*tiempo_1).to_base_units()"
   ]
  },
  {
   "cell_type": "code",
   "execution_count": 4,
   "id": "visible-radius",
   "metadata": {
    "execution": {
     "iopub.execute_input": "2021-04-17T16:17:23.454209Z",
     "iopub.status.busy": "2021-04-17T16:17:23.453637Z",
     "iopub.status.idle": "2021-04-17T16:17:23.525432Z",
     "shell.execute_reply": "2021-04-17T16:17:23.525839Z"
    },
    "papermill": {
     "duration": 0.083389,
     "end_time": "2021-04-17T16:17:23.526002",
     "exception": false,
     "start_time": "2021-04-17T16:17:23.442613",
     "status": "completed"
    },
    "tags": []
   },
   "outputs": [
    {
     "data": {
      "text/latex": [
       "La distancia es 3.33 m, recorrida a un velocidad constante de 1.20 kilómetros por hora"
      ],
      "text/plain": [
       "<IPython.core.display.Latex object>"
      ]
     },
     "execution_count": 4,
     "metadata": {},
     "output_type": "execute_result"
    }
   ],
   "source": [
    "Latex(f'La distancia es {distancia_1:~.2f}, recorrida a un velocidad constante de {velocidad_1:~.2f}')"
   ]
  },
  {
   "cell_type": "code",
   "execution_count": 5,
   "id": "recognized-blackberry",
   "metadata": {
    "execution": {
     "iopub.execute_input": "2021-04-17T16:17:23.544831Z",
     "iopub.status.busy": "2021-04-17T16:17:23.544258Z",
     "iopub.status.idle": "2021-04-17T16:17:23.548022Z",
     "shell.execute_reply": "2021-04-17T16:17:23.548471Z"
    },
    "papermill": {
     "duration": 0.014524,
     "end_time": "2021-04-17T16:17:23.548630",
     "exception": false,
     "start_time": "2021-04-17T16:17:23.534106",
     "status": "completed"
    },
    "tags": []
   },
   "outputs": [],
   "source": [
    "def calcula_distancia(V,t):\n",
    "    velocidad_1 = V*ureg.kilometer_per_hour\n",
    "    tiempo_1 = (t*ureg.second)\n",
    "    distancia_1 = (velocidad_1*tiempo_1).to_base_units()\n",
    "    texto_out = Latex(f'La distancia es {distancia_1:~.2f}, recorrida a un velocidad constante de {velocidad_1:~.2f}')\n",
    "    return texto_out"
   ]
  },
  {
   "cell_type": "code",
   "execution_count": 6,
   "id": "professional-victorian",
   "metadata": {
    "execution": {
     "iopub.execute_input": "2021-04-17T16:17:23.568521Z",
     "iopub.status.busy": "2021-04-17T16:17:23.567936Z",
     "iopub.status.idle": "2021-04-17T16:17:23.606475Z",
     "shell.execute_reply": "2021-04-17T16:17:23.606052Z"
    },
    "papermill": {
     "duration": 0.049539,
     "end_time": "2021-04-17T16:17:23.606604",
     "exception": false,
     "start_time": "2021-04-17T16:17:23.557065",
     "status": "completed"
    },
    "tags": []
   },
   "outputs": [
    {
     "data": {
      "application/vnd.jupyter.widget-view+json": {
       "model_id": "e991b751a594404e8078222304efc2e3",
       "version_major": 2,
       "version_minor": 0
      },
      "text/plain": [
       "interactive(children=(FloatSlider(value=6.0, description='Veloc.[km/h]', max=10.0, step=0.2), IntSlider(value=…"
      ]
     },
     "metadata": {},
     "output_type": "display_data"
    }
   ],
   "source": [
    "interact(calcula_distancia,V=widgets.FloatSlider(min=0,max=10,step=0.2,value=6,description='Veloc.[km/h]'),t=widgets.IntSlider(min=0,max=100,step=1,value=10,description='Tiempo [s]'),layout=Layout(width='100%', height='80px'));"
   ]
  },
  {
   "cell_type": "code",
   "execution_count": null,
   "id": "worst-salem",
   "metadata": {
    "papermill": {
     "duration": 0.008525,
     "end_time": "2021-04-17T16:17:23.624559",
     "exception": false,
     "start_time": "2021-04-17T16:17:23.616034",
     "status": "completed"
    },
    "tags": []
   },
   "outputs": [],
   "source": []
  }
 ],
 "metadata": {
  "kernelspec": {
   "display_name": "Python 3",
   "language": "python",
   "name": "python3"
  },
  "language_info": {
   "codemirror_mode": {
    "name": "ipython",
    "version": 3
   },
   "file_extension": ".py",
   "mimetype": "text/x-python",
   "name": "python",
   "nbconvert_exporter": "python",
   "pygments_lexer": "ipython3",
   "version": "3.7.9"
  },
  "papermill": {
   "default_parameters": {},
   "duration": 16.349947,
   "end_time": "2021-04-17T16:17:24.242867",
   "environment_variables": {},
   "exception": null,
   "input_path": "__notebook__.ipynb",
   "output_path": "__notebook__.ipynb",
   "parameters": {},
   "start_time": "2021-04-17T16:17:07.892920",
   "version": "2.3.2"
  },
  "widgets": {
   "application/vnd.jupyter.widget-state+json": {
    "state": {
     "0efb4023a3ff4788b2183a06a6628cda": {
      "model_module": "@jupyter-widgets/controls",
      "model_module_version": "1.5.0",
      "model_name": "FloatSliderModel",
      "state": {
       "_dom_classes": [],
       "_model_module": "@jupyter-widgets/controls",
       "_model_module_version": "1.5.0",
       "_model_name": "FloatSliderModel",
       "_view_count": null,
       "_view_module": "@jupyter-widgets/controls",
       "_view_module_version": "1.5.0",
       "_view_name": "FloatSliderView",
       "continuous_update": true,
       "description": "Veloc.[km/h]",
       "description_tooltip": null,
       "disabled": false,
       "layout": "IPY_MODEL_7db4f69f618649d1b970e8bd37944838",
       "max": 10.0,
       "min": 0.0,
       "orientation": "horizontal",
       "readout": true,
       "readout_format": ".2f",
       "step": 0.2,
       "style": "IPY_MODEL_71da656a2f9d4072922a742d8c814fde",
       "value": 6.0
      }
     },
     "209eaf48c585488f8f2ad4b6356a6bc8": {
      "model_module": "@jupyter-widgets/base",
      "model_module_version": "1.2.0",
      "model_name": "LayoutModel",
      "state": {
       "_model_module": "@jupyter-widgets/base",
       "_model_module_version": "1.2.0",
       "_model_name": "LayoutModel",
       "_view_count": null,
       "_view_module": "@jupyter-widgets/base",
       "_view_module_version": "1.2.0",
       "_view_name": "LayoutView",
       "align_content": null,
       "align_items": null,
       "align_self": null,
       "border": null,
       "bottom": null,
       "display": null,
       "flex": null,
       "flex_flow": null,
       "grid_area": null,
       "grid_auto_columns": null,
       "grid_auto_flow": null,
       "grid_auto_rows": null,
       "grid_column": null,
       "grid_gap": null,
       "grid_row": null,
       "grid_template_areas": null,
       "grid_template_columns": null,
       "grid_template_rows": null,
       "height": null,
       "justify_content": null,
       "justify_items": null,
       "left": null,
       "margin": null,
       "max_height": null,
       "max_width": null,
       "min_height": null,
       "min_width": null,
       "object_fit": null,
       "object_position": null,
       "order": null,
       "overflow": null,
       "overflow_x": null,
       "overflow_y": null,
       "padding": null,
       "right": null,
       "top": null,
       "visibility": null,
       "width": null
      }
     },
     "2839b05ea974413992e7c3240403797b": {
      "model_module": "@jupyter-widgets/output",
      "model_module_version": "1.0.0",
      "model_name": "OutputModel",
      "state": {
       "_dom_classes": [],
       "_model_module": "@jupyter-widgets/output",
       "_model_module_version": "1.0.0",
       "_model_name": "OutputModel",
       "_view_count": null,
       "_view_module": "@jupyter-widgets/output",
       "_view_module_version": "1.0.0",
       "_view_name": "OutputView",
       "layout": "IPY_MODEL_b344300b331c4d90b0e91c439d935514",
       "msg_id": "",
       "outputs": [
        {
         "data": {
          "text/latex": "La distancia es 16.67 m, recorrida a un velocidad constante de 6.00 kilómetros por hora",
          "text/plain": "<IPython.core.display.Latex object>"
         },
         "metadata": {},
         "output_type": "display_data"
        }
       ]
      }
     },
     "4ab7bb7af9554ed082464c9e810391c6": {
      "model_module": "@jupyter-widgets/base",
      "model_module_version": "1.2.0",
      "model_name": "LayoutModel",
      "state": {
       "_model_module": "@jupyter-widgets/base",
       "_model_module_version": "1.2.0",
       "_model_name": "LayoutModel",
       "_view_count": null,
       "_view_module": "@jupyter-widgets/base",
       "_view_module_version": "1.2.0",
       "_view_name": "LayoutView",
       "align_content": null,
       "align_items": null,
       "align_self": null,
       "border": null,
       "bottom": null,
       "display": null,
       "flex": null,
       "flex_flow": null,
       "grid_area": null,
       "grid_auto_columns": null,
       "grid_auto_flow": null,
       "grid_auto_rows": null,
       "grid_column": null,
       "grid_gap": null,
       "grid_row": null,
       "grid_template_areas": null,
       "grid_template_columns": null,
       "grid_template_rows": null,
       "height": null,
       "justify_content": null,
       "justify_items": null,
       "left": null,
       "margin": null,
       "max_height": null,
       "max_width": null,
       "min_height": null,
       "min_width": null,
       "object_fit": null,
       "object_position": null,
       "order": null,
       "overflow": null,
       "overflow_x": null,
       "overflow_y": null,
       "padding": null,
       "right": null,
       "top": null,
       "visibility": null,
       "width": null
      }
     },
     "71da656a2f9d4072922a742d8c814fde": {
      "model_module": "@jupyter-widgets/controls",
      "model_module_version": "1.5.0",
      "model_name": "SliderStyleModel",
      "state": {
       "_model_module": "@jupyter-widgets/controls",
       "_model_module_version": "1.5.0",
       "_model_name": "SliderStyleModel",
       "_view_count": null,
       "_view_module": "@jupyter-widgets/base",
       "_view_module_version": "1.2.0",
       "_view_name": "StyleView",
       "description_width": "",
       "handle_color": null
      }
     },
     "7db4f69f618649d1b970e8bd37944838": {
      "model_module": "@jupyter-widgets/base",
      "model_module_version": "1.2.0",
      "model_name": "LayoutModel",
      "state": {
       "_model_module": "@jupyter-widgets/base",
       "_model_module_version": "1.2.0",
       "_model_name": "LayoutModel",
       "_view_count": null,
       "_view_module": "@jupyter-widgets/base",
       "_view_module_version": "1.2.0",
       "_view_name": "LayoutView",
       "align_content": null,
       "align_items": null,
       "align_self": null,
       "border": null,
       "bottom": null,
       "display": null,
       "flex": null,
       "flex_flow": null,
       "grid_area": null,
       "grid_auto_columns": null,
       "grid_auto_flow": null,
       "grid_auto_rows": null,
       "grid_column": null,
       "grid_gap": null,
       "grid_row": null,
       "grid_template_areas": null,
       "grid_template_columns": null,
       "grid_template_rows": null,
       "height": null,
       "justify_content": null,
       "justify_items": null,
       "left": null,
       "margin": null,
       "max_height": null,
       "max_width": null,
       "min_height": null,
       "min_width": null,
       "object_fit": null,
       "object_position": null,
       "order": null,
       "overflow": null,
       "overflow_x": null,
       "overflow_y": null,
       "padding": null,
       "right": null,
       "top": null,
       "visibility": null,
       "width": null
      }
     },
     "7f682c586f3941498c0fb213fd9a7ec1": {
      "model_module": "@jupyter-widgets/controls",
      "model_module_version": "1.5.0",
      "model_name": "IntSliderModel",
      "state": {
       "_dom_classes": [],
       "_model_module": "@jupyter-widgets/controls",
       "_model_module_version": "1.5.0",
       "_model_name": "IntSliderModel",
       "_view_count": null,
       "_view_module": "@jupyter-widgets/controls",
       "_view_module_version": "1.5.0",
       "_view_name": "IntSliderView",
       "continuous_update": true,
       "description": "Tiempo [s]",
       "description_tooltip": null,
       "disabled": false,
       "layout": "IPY_MODEL_4ab7bb7af9554ed082464c9e810391c6",
       "max": 100,
       "min": 0,
       "orientation": "horizontal",
       "readout": true,
       "readout_format": "d",
       "step": 1,
       "style": "IPY_MODEL_99962bf7238f403a9271ba016c32facd",
       "value": 10
      }
     },
     "99962bf7238f403a9271ba016c32facd": {
      "model_module": "@jupyter-widgets/controls",
      "model_module_version": "1.5.0",
      "model_name": "SliderStyleModel",
      "state": {
       "_model_module": "@jupyter-widgets/controls",
       "_model_module_version": "1.5.0",
       "_model_name": "SliderStyleModel",
       "_view_count": null,
       "_view_module": "@jupyter-widgets/base",
       "_view_module_version": "1.2.0",
       "_view_name": "StyleView",
       "description_width": "",
       "handle_color": null
      }
     },
     "b344300b331c4d90b0e91c439d935514": {
      "model_module": "@jupyter-widgets/base",
      "model_module_version": "1.2.0",
      "model_name": "LayoutModel",
      "state": {
       "_model_module": "@jupyter-widgets/base",
       "_model_module_version": "1.2.0",
       "_model_name": "LayoutModel",
       "_view_count": null,
       "_view_module": "@jupyter-widgets/base",
       "_view_module_version": "1.2.0",
       "_view_name": "LayoutView",
       "align_content": null,
       "align_items": null,
       "align_self": null,
       "border": null,
       "bottom": null,
       "display": null,
       "flex": null,
       "flex_flow": null,
       "grid_area": null,
       "grid_auto_columns": null,
       "grid_auto_flow": null,
       "grid_auto_rows": null,
       "grid_column": null,
       "grid_gap": null,
       "grid_row": null,
       "grid_template_areas": null,
       "grid_template_columns": null,
       "grid_template_rows": null,
       "height": null,
       "justify_content": null,
       "justify_items": null,
       "left": null,
       "margin": null,
       "max_height": null,
       "max_width": null,
       "min_height": null,
       "min_width": null,
       "object_fit": null,
       "object_position": null,
       "order": null,
       "overflow": null,
       "overflow_x": null,
       "overflow_y": null,
       "padding": null,
       "right": null,
       "top": null,
       "visibility": null,
       "width": null
      }
     },
     "e991b751a594404e8078222304efc2e3": {
      "model_module": "@jupyter-widgets/controls",
      "model_module_version": "1.5.0",
      "model_name": "VBoxModel",
      "state": {
       "_dom_classes": [
        "widget-interact"
       ],
       "_model_module": "@jupyter-widgets/controls",
       "_model_module_version": "1.5.0",
       "_model_name": "VBoxModel",
       "_view_count": null,
       "_view_module": "@jupyter-widgets/controls",
       "_view_module_version": "1.5.0",
       "_view_name": "VBoxView",
       "box_style": "",
       "children": [
        "IPY_MODEL_0efb4023a3ff4788b2183a06a6628cda",
        "IPY_MODEL_7f682c586f3941498c0fb213fd9a7ec1",
        "IPY_MODEL_2839b05ea974413992e7c3240403797b"
       ],
       "layout": "IPY_MODEL_209eaf48c585488f8f2ad4b6356a6bc8"
      }
     },
     "eefdb0bfb6044b6cb3eed26a5a832841": {
      "model_module": "@jupyter-widgets/base",
      "model_module_version": "1.2.0",
      "model_name": "LayoutModel",
      "state": {
       "_model_module": "@jupyter-widgets/base",
       "_model_module_version": "1.2.0",
       "_model_name": "LayoutModel",
       "_view_count": null,
       "_view_module": "@jupyter-widgets/base",
       "_view_module_version": "1.2.0",
       "_view_name": "LayoutView",
       "align_content": null,
       "align_items": null,
       "align_self": null,
       "border": null,
       "bottom": null,
       "display": null,
       "flex": null,
       "flex_flow": null,
       "grid_area": null,
       "grid_auto_columns": null,
       "grid_auto_flow": null,
       "grid_auto_rows": null,
       "grid_column": null,
       "grid_gap": null,
       "grid_row": null,
       "grid_template_areas": null,
       "grid_template_columns": null,
       "grid_template_rows": null,
       "height": "80px",
       "justify_content": null,
       "justify_items": null,
       "left": null,
       "margin": null,
       "max_height": null,
       "max_width": null,
       "min_height": null,
       "min_width": null,
       "object_fit": null,
       "object_position": null,
       "order": null,
       "overflow": null,
       "overflow_x": null,
       "overflow_y": null,
       "padding": null,
       "right": null,
       "top": null,
       "visibility": null,
       "width": "100%"
      }
     }
    },
    "version_major": 2,
    "version_minor": 0
   }
  }
 },
 "nbformat": 4,
 "nbformat_minor": 5
}
