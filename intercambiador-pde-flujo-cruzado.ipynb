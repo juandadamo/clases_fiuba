{
 "cells": [
  {
   "cell_type": "code",
   "execution_count": 1,
   "id": "administrative-twist",
   "metadata": {
    "_kg_hide-input": true,
    "_kg_hide-output": true,
    "execution": {
     "iopub.execute_input": "2021-05-30T21:24:05.811537Z",
     "iopub.status.busy": "2021-05-30T21:24:05.810578Z",
     "iopub.status.idle": "2021-05-30T21:24:18.188574Z",
     "shell.execute_reply": "2021-05-30T21:24:18.187493Z",
     "shell.execute_reply.started": "2021-05-30T20:48:51.244697Z"
    },
    "papermill": {
     "duration": 12.40044,
     "end_time": "2021-05-30T21:24:18.188788",
     "exception": false,
     "start_time": "2021-05-30T21:24:05.788348",
     "status": "completed"
    },
    "tags": []
   },
   "outputs": [
    {
     "name": "stdout",
     "output_type": "stream",
     "text": [
      "Collecting ht\r\n",
      "  Downloading ht-1.0.1.tar.gz (899 kB)\r\n",
      "\u001b[K     |████████████████████████████████| 899 kB 4.5 MB/s \r\n",
      "\u001b[?25hCollecting CoolProp\r\n",
      "  Downloading CoolProp-6.4.1-cp37-cp37m-manylinux1_x86_64.whl (4.2 MB)\r\n",
      "\u001b[K     |████████████████████████████████| 4.2 MB 12.9 MB/s \r\n",
      "\u001b[?25hCollecting fluids\r\n",
      "  Downloading fluids-1.0.7.tar.gz (2.9 MB)\r\n",
      "\u001b[K     |████████████████████████████████| 2.9 MB 61.9 MB/s \r\n",
      "\u001b[?25hCollecting xlrd\r\n",
      "  Downloading xlrd-2.0.1-py2.py3-none-any.whl (96 kB)\r\n",
      "\u001b[K     |████████████████████████████████| 96 kB 5.1 MB/s \r\n",
      "\u001b[?25hCollecting xlwt\r\n",
      "  Downloading xlwt-1.3.0-py2.py3-none-any.whl (99 kB)\r\n",
      "\u001b[K     |████████████████████████████████| 99 kB 7.8 MB/s \r\n",
      "\u001b[?25hRequirement already satisfied: numpy>=1.5.0 in /opt/conda/lib/python3.7/site-packages (from fluids) (1.19.5)\r\n",
      "Requirement already satisfied: scipy>=0.9.0 in /opt/conda/lib/python3.7/site-packages (from fluids) (1.5.4)\r\n",
      "Building wheels for collected packages: fluids, ht\r\n",
      "  Building wheel for fluids (setup.py) ... \u001b[?25l-\b \b\\\b \b|\b \b/\b \bdone\r\n",
      "\u001b[?25h  Created wheel for fluids: filename=fluids-1.0.7-py3-none-any.whl size=1481215 sha256=c0a2d75355dc2daab845fa169a7ddffc1e060c0ea753ccdac68f0d00ca8faf1a\r\n",
      "  Stored in directory: /root/.cache/pip/wheels/e8/17/90/b2088060f2bc3744a2ace45369f20f1d13a92b5968fe2de822\r\n",
      "  Building wheel for ht (setup.py) ... \u001b[?25l-\b \b\\\b \b|\b \bdone\r\n",
      "\u001b[?25h  Created wheel for ht: filename=ht-1.0.1-py3-none-any.whl size=837891 sha256=61cc929b0283e8d74349a04b5e32c2914841b172e439bb0b43e472d13adece4a\r\n",
      "  Stored in directory: /root/.cache/pip/wheels/27/7f/fd/663f7442317cb8408db8d87f256bb804274910c8f1c081cad1\r\n",
      "Successfully built fluids ht\r\n",
      "Installing collected packages: fluids, xlwt, xlrd, ht, CoolProp\r\n",
      "Successfully installed CoolProp-6.4.1 fluids-1.0.7 ht-1.0.1 xlrd-2.0.1 xlwt-1.3.0\r\n"
     ]
    }
   ],
   "source": [
    "!pip install ht CoolProp fluids xlrd xlwt"
   ]
  },
  {
   "cell_type": "code",
   "execution_count": 2,
   "id": "alone-stanford",
   "metadata": {
    "_cell_guid": "b1076dfc-b9ad-4769-8c92-a6c4dae69d19",
    "_kg_hide-input": true,
    "_kg_hide-output": true,
    "_uuid": "8f2839f25d086af736a60e9eeb907d3b93b6e0e5",
    "execution": {
     "iopub.execute_input": "2021-05-30T21:24:18.248475Z",
     "iopub.status.busy": "2021-05-30T21:24:18.247881Z",
     "iopub.status.idle": "2021-05-30T21:24:18.339878Z",
     "shell.execute_reply": "2021-05-30T21:24:18.339363Z",
     "shell.execute_reply.started": "2021-05-30T20:49:03.305336Z"
    },
    "papermill": {
     "duration": 0.12376,
     "end_time": "2021-05-30T21:24:18.340027",
     "exception": false,
     "start_time": "2021-05-30T21:24:18.216267",
     "status": "completed"
    },
    "tags": []
   },
   "outputs": [],
   "source": [
    "import numpy as np # linear algebra\n",
    "import pandas as pd # data processing, CSV file I/O (e.g. pd.read_csv)\n",
    "import xlwt as xw\n",
    "lista_data = []\n",
    "import matplotlib.pyplot as plt\n",
    "import ht,fluids,os\n",
    "import CoolProp as cp\n",
    "from IPython.display import Latex\n",
    "from shutil import copyfile\n",
    "copyfile(src = \"../input/prop-fluidos-intercambiadores/prop_fluidos_intercambiadores.py\", dst = \"../working/prop_fluidos_intercambiadores.py\")\n",
    "from prop_fluidos_intercambiadores import fluido_intercambiador\n",
    "#data_excel = pd.read_excel('../input/data-eduardo-leon-rev1/Calculo calentador aire mandioca Rev1.xls',sheet_name=1)"
   ]
  },
  {
   "cell_type": "markdown",
   "id": "terminal-latter",
   "metadata": {
    "papermill": {
     "duration": 0.026188,
     "end_time": "2021-05-30T21:24:18.392866",
     "exception": false,
     "start_time": "2021-05-30T21:24:18.366678",
     "status": "completed"
    },
    "tags": []
   },
   "source": [
    "## Intercambiador de Calor\n",
    "#### HIPOTESIS DE CALCULO:\n",
    "\n",
    "\n",
    "1. Intercambiador de calor tubular de tubos lisos (sin aletas)\n",
    "2. Flujo de aire dentro de tubos\n",
    "3. Flujo cruzado de gases externo a tubos\n",
    "4. Distribución de tubos alineados"
   ]
  },
  {
   "cell_type": "markdown",
   "id": "latest-hacker",
   "metadata": {
    "papermill": {
     "duration": 0.025894,
     "end_time": "2021-05-30T21:24:18.445078",
     "exception": false,
     "start_time": "2021-05-30T21:24:18.419184",
     "status": "completed"
    },
    "tags": []
   },
   "source": [
    "Se propone un paso de tubos p = 1.5 D. En intercambiadores casco y tubo, lo usual es encontrar pasos p= D o p = 1.3D. Ver pej \n",
    "- Shah, R. K., & Sekulic, D. P. (2003). Fundamentals of heat exchanger design. John Wiley & Sons. \n",
    "- Cao, E. (2010). Heat transfer in process engineering. McGraw-Hill Education. (pags 509-522)"
   ]
  },
  {
   "cell_type": "code",
   "execution_count": 3,
   "id": "close-teens",
   "metadata": {
    "execution": {
     "iopub.execute_input": "2021-05-30T21:24:18.509359Z",
     "iopub.status.busy": "2021-05-30T21:24:18.508431Z",
     "iopub.status.idle": "2021-05-30T21:24:18.511284Z",
     "shell.execute_reply": "2021-05-30T21:24:18.510847Z",
     "shell.execute_reply.started": "2021-05-30T20:49:03.407935Z"
    },
    "papermill": {
     "duration": 0.040034,
     "end_time": "2021-05-30T21:24:18.511413",
     "exception": false,
     "start_time": "2021-05-30T21:24:18.471379",
     "status": "completed"
    },
    "tags": []
   },
   "outputs": [],
   "source": [
    "#constantes de calculo\n",
    "g = 9.8; cal2joule = 4.184\n",
    "###########################################################\n",
    "#           DATOS  del Intercambiador  \n",
    "#\n",
    "###########################################################\n",
    "# Definición de Flujos\n",
    "Gases = fluido_intercambiador('Gases combustion') \n",
    "Aire = fluido_intercambiador('Aire')\n",
    "# Temperaturas\n",
    "Gases.temp_entrada = 400 \n",
    "Gases.temp_salida = 150\n",
    "Aire.temp_entrada = 20\n",
    "Aire.temp_salida = 70\n",
    "Gases.caudal = 0.15*1.3/Gases.rho  #kg/s un 30% mayor a la condicion de diseño del horno\n",
    "Q = Gases.rho*Gases.cp*(Gases.temp_entrada-Gases.temp_salida)*Gases.caudal\n",
    "\n",
    "Aire.caudal = Q/ (Aire.rho*(Aire.temp_salida-Aire.temp_entrada)*Aire.cp  )\n",
    "Gases.calor_intercambiado, Aire.calor_intercambiado = [Q,Q]\n",
    "\n",
    "# Geometría del Intercambiador\n",
    "Tubo_dext = 60.3e-3\n",
    "Tubo_esp = 2*1e-3\n",
    "Tubo_dint = Tubo_dext-Tubo_esp*2\n",
    "Tubo_long = 1.45   ### pregunta de corte \n",
    "paso_tubos = 1.25*Tubo_dext\n",
    "Ncarcasa = 1\n",
    "Rf = 4e-3  #factor de ensuciamiento. Ver Cao pag 524"
   ]
  },
  {
   "cell_type": "markdown",
   "id": "respected-stamp",
   "metadata": {
    "papermill": {
     "duration": 0.026453,
     "end_time": "2021-05-30T21:24:18.564709",
     "exception": false,
     "start_time": "2021-05-30T21:24:18.538256",
     "status": "completed"
    },
    "tags": []
   },
   "source": [
    "Observación: Se propone un paso de tubos p = 1.5 D. En intercambiadores casco y tubo, lo usual es encontrar pasos p= D o p = 1.3D. Ver pej \n",
    "- Shah, R. K., & Sekulic, D. P. (2003). Fundamentals of heat exchanger design. John Wiley & Sons. \n",
    "- Cao, E. (2010). Heat transfer in process engineering. McGraw-Hill Education. (pags 509-522)\n",
    "\n",
    "Pero la elección p = 1.5D tiene razones de facilidad en la limpieza, pej."
   ]
  },
  {
   "cell_type": "markdown",
   "id": "compressed-resident",
   "metadata": {
    "papermill": {
     "duration": 0.026308,
     "end_time": "2021-05-30T21:24:18.617700",
     "exception": false,
     "start_time": "2021-05-30T21:24:18.591392",
     "status": "completed"
    },
    "tags": []
   },
   "source": [
    "### Eficiencia térmica. Calor Intercambiado."
   ]
  },
  {
   "cell_type": "code",
   "execution_count": 4,
   "id": "sophisticated-flight",
   "metadata": {
    "execution": {
     "iopub.execute_input": "2021-05-30T21:24:18.677220Z",
     "iopub.status.busy": "2021-05-30T21:24:18.676475Z",
     "iopub.status.idle": "2021-05-30T21:24:18.680490Z",
     "shell.execute_reply": "2021-05-30T21:24:18.680073Z",
     "shell.execute_reply.started": "2021-05-30T20:49:03.418812Z"
    },
    "papermill": {
     "duration": 0.036227,
     "end_time": "2021-05-30T21:24:18.680611",
     "exception": false,
     "start_time": "2021-05-30T21:24:18.644384",
     "status": "completed"
    },
    "tags": []
   },
   "outputs": [
    {
     "name": "stdout",
     "output_type": "stream",
     "text": [
      "Capacidad Térmica Mínima Cmin = 202.7 W/K\n",
      "Calor Máximo disponible Qmax=77.0 kW\n",
      "Calor Intercambiado = 43606.9 kcal/h\n",
      "Eficiencia térmica del equipo = 0.66\n"
     ]
    }
   ],
   "source": [
    "#Capacidad Térmica Mínima\n",
    "Cmin = np.min((Aire.cp*Aire.caudal*Aire.rho,Gases.cp*Gases.caudal*Gases.rho))\n",
    "#Mayor Salto Térmico del sistema\n",
    "DeltaT_max = Gases.temp_entrada-Aire.temp_entrada\n",
    "#Calor Máximo disponible\n",
    "Qmax = Cmin*DeltaT_max\n",
    "#ficiencia térmica\n",
    "eficiencia = Q/Qmax\n",
    "\n",
    " \n",
    "print(f'Capacidad Térmica Mínima Cmin = %.1f W/K'%Cmin)\n",
    "print(f'Calor Máximo disponible Qmax=%.1f kW'%(Qmax*1e-3))\n",
    "print(f'Calor Intercambiado = {Q/cal2joule*1e-3*3600:.1f} kcal/h')\n",
    "print(f'Eficiencia térmica del equipo = %.2f'%eficiencia)\n"
   ]
  },
  {
   "cell_type": "markdown",
   "id": "basic-turkey",
   "metadata": {
    "papermill": {
     "duration": 0.026476,
     "end_time": "2021-05-30T21:24:18.733833",
     "exception": false,
     "start_time": "2021-05-30T21:24:18.707357",
     "status": "completed"
    },
    "tags": []
   },
   "source": [
    "## LMTD, área y Coeficiente Global \n"
   ]
  },
  {
   "cell_type": "code",
   "execution_count": 5,
   "id": "studied-ottawa",
   "metadata": {
    "execution": {
     "iopub.execute_input": "2021-05-30T21:24:18.819495Z",
     "iopub.status.busy": "2021-05-30T21:24:18.818888Z",
     "iopub.status.idle": "2021-05-30T21:24:18.823458Z",
     "shell.execute_reply": "2021-05-30T21:24:18.822677Z",
     "shell.execute_reply.started": "2021-05-30T20:49:03.437382Z"
    },
    "papermill": {
     "duration": 0.053378,
     "end_time": "2021-05-30T21:24:18.823659",
     "exception": false,
     "start_time": "2021-05-30T21:24:18.770281",
     "status": "completed"
    },
    "tags": []
   },
   "outputs": [
    {
     "name": "stdout",
     "output_type": "stream",
     "text": [
      "Temperatura logaritmica media 214.7 C\n",
      "Número de Unidades de Transferencia (Nut) = 1.20\n",
      "G_Gases =0.3 m3/s\n",
      "G_Aire =0.9 m3/s \n",
      "Area propuesta =12.8\n",
      "Area real =13.2\n",
      "Numero de tubos 48\n"
     ]
    }
   ],
   "source": [
    "LMTD = ht.LMTD(Tci=Aire.temp_entrada, Tco=Aire.temp_salida, Thi=Gases.temp_entrada, Tho=Gases.temp_salida)\n",
    "\n",
    "ht.Ft_aircooler(Tci=Aire.temp_entrada, Tco=Aire.temp_salida, Thi=Gases.temp_entrada,\n",
    "                Tho=Gases.temp_salida, Ntp=1, rows=6)\n",
    "\n",
    "Ft = ht.Ft_aircooler(Tci=Aire.temp_entrada, Tco=Aire.temp_salida, Thi=Gases.temp_entrada,Tho=Gases.temp_salida, Ntp=1, rows=6)\n",
    "\n",
    "#######################\n",
    "UA = Q/(LMTD*Ft)\n",
    "Upropuesto = 19\n",
    "Apropuesta = UA/Upropuesto\n",
    "Ntubos_0_0  = np.int(Apropuesta / (np.pi*Tubo_dext*Tubo_long))  ## numero de tubos inicial\n",
    "Ntubos_0 = np.ceil(Ntubos_0_0/4)*4\n",
    "#Ntubos_0 = Ntubos_0_0\n",
    "Areal = Ntubos_0*(np.pi*Tubo_dext*Tubo_long)\n",
    "print('Temperatura logaritmica media %.1f C'%LMTD)\n",
    "print('Número de Unidades de Transferencia (Nut) = %.2f'%(UA/Cmin))\n",
    "print('G_Gases =%.1f m3/s'%Gases.caudal)\n",
    "print('G_Aire =%.1f m3/s '%Aire.caudal)\n",
    "print('Area propuesta =%.1f'%Apropuesta)\n",
    "print('Area real =%.1f'%Areal)\n",
    "print('Numero de tubos %0d'%Ntubos_0)\n",
    "\n",
    "Npasostubos = 1\n",
    "Aire.area =  Tubo_dint**2/4*np.pi*Ntubos_0/(Npasostubos+1)\n",
    "Aire.long = Tubo_dint\n",
    "Aire.veloc = Aire.caudal / Aire.area\n",
    "Aire.Reynolds()\n",
    "#Npasotubos =  Re_design*(np.pi*Tubo_dext-Tubo_esp*2*Ntubos_0*m ) / (4*m_t)"
   ]
  },
  {
   "cell_type": "code",
   "execution_count": 6,
   "id": "illegal-glory",
   "metadata": {
    "execution": {
     "iopub.execute_input": "2021-05-30T21:24:18.887957Z",
     "iopub.status.busy": "2021-05-30T21:24:18.887349Z",
     "iopub.status.idle": "2021-05-30T21:24:18.890175Z",
     "shell.execute_reply": "2021-05-30T21:24:18.889604Z",
     "shell.execute_reply.started": "2021-05-30T20:49:03.455600Z"
    },
    "papermill": {
     "duration": 0.035153,
     "end_time": "2021-05-30T21:24:18.890302",
     "exception": false,
     "start_time": "2021-05-30T21:24:18.855149",
     "status": "completed"
    },
    "tags": []
   },
   "outputs": [
    {
     "name": "stdout",
     "output_type": "stream",
     "text": [
      "Area de pasaje de Gases 0.211 m2\n",
      "Velocidad de Gases 1.435 m/s\n",
      "Velocidad de Banco max 1.663 m/s\n"
     ]
    }
   ],
   "source": [
    "#nfilas será normal al escurrimiento de gases\n",
    "#ncolumndas sera paralelo al escurrimiento de gases\n",
    "###########################################################\n",
    "# Determinacion de Area de pasaje del aire por la carcasa\n",
    "# alrededor del paquete de tubos\n",
    "###########################################################\n",
    "#Tubo_area_ext = Tubo_dext**2/4*np.pi\n",
    "carcasa_huelgo = 20e-3\n",
    "\n",
    "#Atencion ponemos esto a MANO##\n",
    "nfilas = 6\n",
    "###############################\n",
    "\n",
    "ncolumnas = Ntubos_0/nfilas\n",
    "\n",
    "carcasa_xmax,carcasa_ymax = [paso_tubos*(ncolumnas-1)+carcasa_huelgo*2+Tubo_dext,\n",
    "                                                       paso_tubos*(nfilas-1)+carcasa_huelgo*2+Tubo_dext]\n",
    "carcasa_area = carcasa_xmax*carcasa_ymax\n",
    "\n",
    "Veloc_banco_entrada  = Gases.caudal/(carcasa_xmax*Tubo_long)\n",
    "Veloc_banco_max = Veloc_banco_entrada*paso_tubos/(paso_tubos-Tubo_dext) #esta expresión no toma en cuenta el area entre tubo y carcasa (huelgo)\n",
    "\n",
    "Gases.area = (carcasa_xmax-Tubo_dext*ncolumnas)*Tubo_long\n",
    "Gases.long = Tubo_dext\n",
    "Gases.veloc = Gases.caudal  / Gases.area\n",
    "print('Area de pasaje de Gases %.3f m2'%Gases.area)\n",
    "print('Velocidad de Gases %.3f m/s'%Gases.veloc)\n",
    "print('Velocidad de Banco max %.3f m/s'%Veloc_banco_max)"
   ]
  },
  {
   "cell_type": "code",
   "execution_count": 7,
   "id": "induced-terror",
   "metadata": {
    "execution": {
     "iopub.execute_input": "2021-05-30T21:24:18.949780Z",
     "iopub.status.busy": "2021-05-30T21:24:18.949206Z",
     "iopub.status.idle": "2021-05-30T21:24:18.952255Z",
     "shell.execute_reply": "2021-05-30T21:24:18.951741Z",
     "shell.execute_reply.started": "2021-05-30T20:49:03.470391Z"
    },
    "papermill": {
     "duration": 0.035011,
     "end_time": "2021-05-30T21:24:18.952380",
     "exception": false,
     "start_time": "2021-05-30T21:24:18.917369",
     "status": "completed"
    },
    "tags": []
   },
   "outputs": [
    {
     "name": "stdout",
     "output_type": "stream",
     "text": [
      "Reynolds Banco Tubos = 2234\n",
      "Nusselt Banco Tubos = 27.5\n",
      "Coeficiente conveccion gases = 38.6\n"
     ]
    }
   ],
   "source": [
    "Gases.Reynolds() \n",
    "Re_banco_tubos = Veloc_banco_max*Gases.long/Gases.nu\n",
    "Re = Gases.Re\n",
    "pitch_parallel,pitch_normal = [paso_tubos,paso_tubos]\n",
    "Pr = Gases.Pr\n",
    "tube_rows = nfilas*2\n",
    "Gases.Nu = ht.conv_tube_bank.Nu_Zukauskas_Bejan(Re, Pr, tube_rows, pitch_parallel, pitch_normal, Pr_wall=None)\n",
    "Gases.hc = Gases.Nu*Gases.long / Gases.k\n",
    "\n",
    "print('Reynolds Banco Tubos = %.d'%Re_banco_tubos)\n",
    "print('Nusselt Banco Tubos = %.1f'%Gases.Nu)\n",
    "print('Coeficiente conveccion gases = %.1f'%Gases.hc)"
   ]
  },
  {
   "cell_type": "markdown",
   "id": "naval-capability",
   "metadata": {
    "papermill": {
     "duration": 0.027009,
     "end_time": "2021-05-30T21:24:19.006551",
     "exception": false,
     "start_time": "2021-05-30T21:24:18.979542",
     "status": "completed"
    },
    "tags": []
   },
   "source": [
    "ŽUKAUSKAS, A. Heat transfer from tubes in crossflow. En Advances in heat transfer. Elsevier, 1972. p. 93-160."
   ]
  },
  {
   "cell_type": "code",
   "execution_count": 8,
   "id": "sustainable-characteristic",
   "metadata": {
    "execution": {
     "iopub.execute_input": "2021-05-30T21:24:19.065731Z",
     "iopub.status.busy": "2021-05-30T21:24:19.065172Z",
     "iopub.status.idle": "2021-05-30T21:24:19.069045Z",
     "shell.execute_reply": "2021-05-30T21:24:19.068525Z",
     "shell.execute_reply.started": "2021-05-30T20:49:03.489002Z"
    },
    "papermill": {
     "duration": 0.03529,
     "end_time": "2021-05-30T21:24:19.069169",
     "exception": false,
     "start_time": "2021-05-30T21:24:19.033879",
     "status": "completed"
    },
    "tags": []
   },
   "outputs": [
    {
     "name": "stdout",
     "output_type": "stream",
     "text": [
      "Reynolds aire = 48899\n",
      "Coeficiente conveccion aire = 56.8\n"
     ]
    }
   ],
   "source": [
    "Aire.Nu = ht.conv_internal.turbulent_Colburn(Aire.Re,Aire.Pr)\n",
    "Aire.hc = Aire.Nu*Aire.k/Aire.long\n",
    "print('Reynolds aire = %.d'%Aire.Re)\n",
    "print('Coeficiente conveccion aire = %.1f'%Aire.hc)"
   ]
  },
  {
   "cell_type": "markdown",
   "id": "prospective-spirituality",
   "metadata": {
    "papermill": {
     "duration": 0.027354,
     "end_time": "2021-05-30T21:24:19.125477",
     "exception": false,
     "start_time": "2021-05-30T21:24:19.098123",
     "status": "completed"
    },
    "tags": []
   },
   "source": [
    "COLBURN, Allan P. A method of correlating forced convection heat-transfer data and a comparison with fluid friction. International Journal of Heat and Mass Transfer, 1964, vol. 7, no 12, p. 1359-1384."
   ]
  },
  {
   "cell_type": "code",
   "execution_count": 9,
   "id": "native-wagon",
   "metadata": {
    "execution": {
     "iopub.execute_input": "2021-05-30T21:24:19.186827Z",
     "iopub.status.busy": "2021-05-30T21:24:19.186131Z",
     "iopub.status.idle": "2021-05-30T21:24:19.545777Z",
     "shell.execute_reply": "2021-05-30T21:24:19.544799Z",
     "shell.execute_reply.started": "2021-05-30T20:49:03.498607Z"
    },
    "papermill": {
     "duration": 0.39194,
     "end_time": "2021-05-30T21:24:19.545928",
     "exception": false,
     "start_time": "2021-05-30T21:24:19.153988",
     "status": "completed"
    },
    "tags": []
   },
   "outputs": [
    {
     "name": "stdout",
     "output_type": "stream",
     "text": [
      "Gases Delta P= 5.64\n"
     ]
    }
   ],
   "source": [
    "DeltaP_banco_tubos = Ncarcasa*ht.conv_tube_bank.dP_Zukauskas(Gases.Re, tube_rows, pitch_normal,\n",
    "                                         pitch_parallel, Tubo_dext, Gases.rho, Gases.veloc)\n",
    "Gases.DeltaP = DeltaP_banco_tubos \n",
    "\n",
    "print('Gases Delta P= %.2f'%Gases.DeltaP)"
   ]
  },
  {
   "cell_type": "code",
   "execution_count": 10,
   "id": "apparent-biotechnology",
   "metadata": {
    "execution": {
     "iopub.execute_input": "2021-05-30T21:24:19.608086Z",
     "iopub.status.busy": "2021-05-30T21:24:19.607288Z",
     "iopub.status.idle": "2021-05-30T21:24:19.611475Z",
     "shell.execute_reply": "2021-05-30T21:24:19.611053Z",
     "shell.execute_reply.started": "2021-05-30T20:49:03.877464Z"
    },
    "papermill": {
     "duration": 0.037501,
     "end_time": "2021-05-30T21:24:19.611607",
     "exception": false,
     "start_time": "2021-05-30T21:24:19.574106",
     "status": "completed"
    },
    "tags": []
   },
   "outputs": [
    {
     "name": "stdout",
     "output_type": "stream",
     "text": [
      "U limpio = 22.05\n",
      "U = 18.65\n",
      "Acalculo = 13.08\n",
      "A propuesta inicial 12.84\n",
      "A real inicial = 13.18\n"
     ]
    }
   ],
   "source": [
    "Ulimpio = 1 / (Tubo_dext/Tubo_dint/Gases.hc+1/Aire.hc )\n",
    "U = 1 / (1/Ulimpio + Rf *(1+Tubo_dext/Tubo_dint))\n",
    "\n",
    "A_calculo = Q / (U*LMTD*Ft)\n",
    "print('U limpio = %.2f'%Ulimpio)\n",
    "print('U = %.2f'%U)\n",
    "print('Acalculo = %.2f'%A_calculo)\n",
    "print('A propuesta inicial %.2f'%Apropuesta)\n",
    "print('A real inicial = %.2f'%Areal)"
   ]
  },
  {
   "cell_type": "code",
   "execution_count": 11,
   "id": "civilian-jacket",
   "metadata": {
    "execution": {
     "iopub.execute_input": "2021-05-30T21:24:19.674948Z",
     "iopub.status.busy": "2021-05-30T21:24:19.674207Z",
     "iopub.status.idle": "2021-05-30T21:24:19.678489Z",
     "shell.execute_reply": "2021-05-30T21:24:19.677728Z",
     "shell.execute_reply.started": "2021-05-30T20:49:03.886478Z"
    },
    "papermill": {
     "duration": 0.038704,
     "end_time": "2021-05-30T21:24:19.678680",
     "exception": false,
     "start_time": "2021-05-30T21:24:19.639976",
     "status": "completed"
    },
    "tags": []
   },
   "outputs": [
    {
     "name": "stdout",
     "output_type": "stream",
     "text": [
      "factor friccion tubos = 0.023032 \n",
      "Delta p friccion = 68.27\n",
      "Caudal aire = 0.91 m3/s\n"
     ]
    }
   ],
   "source": [
    "# Caida de presion\n",
    "\n",
    "# Calculo para flujo en tubos\n",
    "roughness = fluids.roughness_Farshad('Carbon steel, bare', D=Tubo_dint)\n",
    "\n",
    "f_c = fluids.friction.friction_factor(Re=Aire.Re, eD=roughness/Tubo_dint)\n",
    "f_c2 = 1.2*(0.0014+0.125/Aire.Re**.32)\n",
    "\n",
    "Delta_p_friccion = f_c*Npasostubos*Aire.veloc**2*Tubo_long/Tubo_dint/2 *(1)**-0.14\n",
    "Delta_p_tubos = Delta_p_friccion#+Delta_p_cabezales\n",
    "Aire.DeltaP = Delta_p_tubos\n",
    "print('factor friccion tubos = %4f '%f_c)\n",
    "print('Delta p friccion = %.2f'%Delta_p_friccion)\n",
    "#print('Delta p cabezales = %.2f'%Delta_p_cabezales)\n",
    "print('Caudal aire = %.2f m3/s'%Aire.caudal)"
   ]
  },
  {
   "cell_type": "code",
   "execution_count": 12,
   "id": "comparable-meter",
   "metadata": {
    "_kg_hide-input": true,
    "execution": {
     "iopub.execute_input": "2021-05-30T21:24:19.759133Z",
     "iopub.status.busy": "2021-05-30T21:24:19.758370Z",
     "iopub.status.idle": "2021-05-30T21:24:19.798769Z",
     "shell.execute_reply": "2021-05-30T21:24:19.799139Z",
     "shell.execute_reply.started": "2021-05-30T20:49:03.897810Z"
    },
    "papermill": {
     "duration": 0.091143,
     "end_time": "2021-05-30T21:24:19.799295",
     "exception": false,
     "start_time": "2021-05-30T21:24:19.708152",
     "status": "completed"
    },
    "tags": []
   },
   "outputs": [
    {
     "name": "stdout",
     "output_type": "stream",
     "text": [
      "Se puede volcar sobre un archivo Excel.\n"
     ]
    },
    {
     "data": {
      "text/html": [
       "<div>\n",
       "<style scoped>\n",
       "    .dataframe tbody tr th:only-of-type {\n",
       "        vertical-align: middle;\n",
       "    }\n",
       "\n",
       "    .dataframe tbody tr th {\n",
       "        vertical-align: top;\n",
       "    }\n",
       "\n",
       "    .dataframe thead th {\n",
       "        text-align: right;\n",
       "    }\n",
       "</style>\n",
       "<table border=\"1\" class=\"dataframe\">\n",
       "  <thead>\n",
       "    <tr style=\"text-align: right;\">\n",
       "      <th></th>\n",
       "      <th>Unnamed: 0</th>\n",
       "      <th>Unnamed: 1</th>\n",
       "      <th>Unnamed: 2</th>\n",
       "    </tr>\n",
       "  </thead>\n",
       "  <tbody>\n",
       "    <tr>\n",
       "      <th>0</th>\n",
       "      <td>Nombre Fluido</td>\n",
       "      <td>Aire</td>\n",
       "      <td>Gases Combustión</td>\n",
       "    </tr>\n",
       "    <tr>\n",
       "      <th>1</th>\n",
       "      <td>Caudal masico (kg/s)</td>\n",
       "      <td>1.01</td>\n",
       "      <td>0.20</td>\n",
       "    </tr>\n",
       "    <tr>\n",
       "      <th>2</th>\n",
       "      <td>Temperatura Entrada</td>\n",
       "      <td>20.0</td>\n",
       "      <td>400.0</td>\n",
       "    </tr>\n",
       "    <tr>\n",
       "      <th>3</th>\n",
       "      <td>Temperatura salida</td>\n",
       "      <td>70.0</td>\n",
       "      <td>150.0</td>\n",
       "    </tr>\n",
       "    <tr>\n",
       "      <th>4</th>\n",
       "      <td>Densidad kg/m3</td>\n",
       "      <td>1.11</td>\n",
       "      <td>0.64</td>\n",
       "    </tr>\n",
       "    <tr>\n",
       "      <th>5</th>\n",
       "      <td>Viscosidad cP</td>\n",
       "      <td>0.02</td>\n",
       "      <td>0.03</td>\n",
       "    </tr>\n",
       "    <tr>\n",
       "      <th>6</th>\n",
       "      <td>Calor específico J/Kg C</td>\n",
       "      <td>1007.2</td>\n",
       "      <td>1039.6</td>\n",
       "    </tr>\n",
       "    <tr>\n",
       "      <th>7</th>\n",
       "      <td>Conductividad térmica W/Kg C</td>\n",
       "      <td>0.028</td>\n",
       "      <td>0.043</td>\n",
       "    </tr>\n",
       "    <tr>\n",
       "      <th>8</th>\n",
       "      <td>Presión de entrada kPa</td>\n",
       "      <td>101.3</td>\n",
       "      <td>101.3</td>\n",
       "    </tr>\n",
       "    <tr>\n",
       "      <th>9</th>\n",
       "      <td>Velocidad m/s</td>\n",
       "      <td>15.17</td>\n",
       "      <td>1.44</td>\n",
       "    </tr>\n",
       "    <tr>\n",
       "      <th>10</th>\n",
       "      <td>Caída de presión Pa</td>\n",
       "      <td>68.275</td>\n",
       "      <td>5.642</td>\n",
       "    </tr>\n",
       "    <tr>\n",
       "      <th>11</th>\n",
       "      <td>Resistencia de ensuciamiento m2C/W</td>\n",
       "      <td>0.0020</td>\n",
       "      <td>0.0020</td>\n",
       "    </tr>\n",
       "    <tr>\n",
       "      <th>12</th>\n",
       "      <td>Calor intercambiado kW</td>\n",
       "      <td>50.7</td>\n",
       "      <td>NaN</td>\n",
       "    </tr>\n",
       "    <tr>\n",
       "      <th>13</th>\n",
       "      <td>Coeficiente Global de Transferencia</td>\n",
       "      <td>18.6</td>\n",
       "      <td>NaN</td>\n",
       "    </tr>\n",
       "    <tr>\n",
       "      <th>14</th>\n",
       "      <td>Número de pasos de tubos</td>\n",
       "      <td>1</td>\n",
       "      <td>NaN</td>\n",
       "    </tr>\n",
       "    <tr>\n",
       "      <th>15</th>\n",
       "      <td>Número de pasos de carcasa</td>\n",
       "      <td>1.0</td>\n",
       "      <td>NaN</td>\n",
       "    </tr>\n",
       "    <tr>\n",
       "      <th>16</th>\n",
       "      <td>Tubos Longitud m</td>\n",
       "      <td>1.45</td>\n",
       "      <td>NaN</td>\n",
       "    </tr>\n",
       "    <tr>\n",
       "      <th>17</th>\n",
       "      <td>Tubos D exterior mm</td>\n",
       "      <td>60.30</td>\n",
       "      <td>NaN</td>\n",
       "    </tr>\n",
       "    <tr>\n",
       "      <th>18</th>\n",
       "      <td>Tubos D interior mm</td>\n",
       "      <td>56.30</td>\n",
       "      <td>NaN</td>\n",
       "    </tr>\n",
       "    <tr>\n",
       "      <th>19</th>\n",
       "      <td>Tubos espesor mm</td>\n",
       "      <td>2.00</td>\n",
       "      <td>NaN</td>\n",
       "    </tr>\n",
       "    <tr>\n",
       "      <th>20</th>\n",
       "      <td>Carcasa Lx m</td>\n",
       "      <td>0.63</td>\n",
       "      <td>NaN</td>\n",
       "    </tr>\n",
       "    <tr>\n",
       "      <th>21</th>\n",
       "      <td>Carcasa Ly m</td>\n",
       "      <td>0.48</td>\n",
       "      <td>NaN</td>\n",
       "    </tr>\n",
       "  </tbody>\n",
       "</table>\n",
       "</div>"
      ],
      "text/plain": [
       "                             Unnamed: 0 Unnamed: 1        Unnamed: 2\n",
       "0                         Nombre Fluido       Aire  Gases Combustión\n",
       "1                  Caudal masico (kg/s)       1.01              0.20\n",
       "2                   Temperatura Entrada       20.0             400.0\n",
       "3                    Temperatura salida       70.0             150.0\n",
       "4                        Densidad kg/m3       1.11              0.64\n",
       "5                         Viscosidad cP       0.02              0.03\n",
       "6               Calor específico J/Kg C     1007.2            1039.6\n",
       "7          Conductividad térmica W/Kg C      0.028             0.043\n",
       "8                Presión de entrada kPa      101.3             101.3\n",
       "9                         Velocidad m/s      15.17              1.44\n",
       "10                  Caída de presión Pa     68.275             5.642\n",
       "11   Resistencia de ensuciamiento m2C/W     0.0020            0.0020\n",
       "12               Calor intercambiado kW       50.7               NaN\n",
       "13  Coeficiente Global de Transferencia       18.6               NaN\n",
       "14             Número de pasos de tubos          1               NaN\n",
       "15           Número de pasos de carcasa        1.0               NaN\n",
       "16                     Tubos Longitud m       1.45               NaN\n",
       "17                  Tubos D exterior mm      60.30               NaN\n",
       "18                  Tubos D interior mm      56.30               NaN\n",
       "19                     Tubos espesor mm       2.00               NaN\n",
       "20                         Carcasa Lx m       0.63               NaN\n",
       "21                         Carcasa Ly m       0.48               NaN"
      ]
     },
     "execution_count": 12,
     "metadata": {},
     "output_type": "execute_result"
    }
   ],
   "source": [
    "print('Se puede volcar sobre un archivo Excel.')\n",
    "# Workbook is created \n",
    "wb = xw.Workbook() \n",
    "xw.add_palette_colour(\"gris\", 0x21)\n",
    "wb.set_colour_RGB(0x21, 200, 200,200)  \n",
    "# add_sheet is used to create sheet. \n",
    "sheet1 = wb.add_sheet('Performance Unidad') \n",
    "style = xw.easyxf('pattern: pattern solid, fore_colour gris;')\n",
    "# Input data into rows \n",
    "sheet1.write(3, 0, 'Nombre Fluido') \n",
    "sheet1.write(3, 1, 'Aire') \n",
    "sheet1.write(3, 2, 'Gases Combustión') \n",
    "\n",
    "sheet1.write(4, 0, 'Caudal masico (kg/s)',style) \n",
    "sheet1.write(4, 1, '%.2f'%(Aire.caudal*Aire.rho),style) \n",
    "sheet1.write(4, 2, '%.2f'%(Gases.caudal*Gases.rho),style) \n",
    "\n",
    "sheet1.write(5, 0, 'Temperatura Entrada') \n",
    "sheet1.write(5, 1, '%.1f'%Aire.temp_entrada) \n",
    "sheet1.write(5, 2, '%.1f'%Gases.temp_entrada) \n",
    "\n",
    "sheet1.write(6, 0, 'Temperatura salida',style) \n",
    "sheet1.write(6, 1, '%.1f'%Aire.temp_salida,style) \n",
    "sheet1.write(6, 2, '%.1f'%Gases.temp_salida,style) \n",
    "\n",
    "\n",
    "sheet1.write(7, 0, 'Densidad kg/m3') \n",
    "sheet1.write(7, 1, '%.2f'%Aire.rho) \n",
    "sheet1.write(7, 2, '%.2f'%Gases.rho) \n",
    "\n",
    "sheet1.write(8, 0, 'Viscosidad cP',style) \n",
    "sheet1.write(8, 1, '%.2f'%(1e3*Aire.mu),style) \n",
    "sheet1.write(8, 2, '%.2f'%(1e3*Gases.mu),style) \n",
    "\n",
    "\n",
    "sheet1.write(9, 0, 'Calor específico J/Kg C')\n",
    "sheet1.write(9, 1, '%.1f'%Aire.cp)\n",
    "sheet1.write(9, 2, '%.1f'%Gases.cp)\n",
    "\n",
    "sheet1.write(10, 0, 'Conductividad térmica W/Kg C',style) \n",
    "sheet1.write(10, 1, '%.3f'%Aire.k,style) \n",
    "sheet1.write(10, 2, '%.3f'%Gases.k,style) \n",
    "\n",
    "sheet1.write(11, 0, 'Presión de entrada kPa') \n",
    "sheet1.write(11, 1, '%.1f'%(101.3))\n",
    "sheet1.write(11, 2, '%.1f'%(101.3))\n",
    "\n",
    "sheet1.write(12, 0, 'Velocidad m/s',style) \n",
    "sheet1.write(12, 1, '%.2f'%Aire.veloc,style)\n",
    "sheet1.write(12, 2, '%.2f'%Gases.veloc,style)\n",
    "\n",
    "sheet1.write(13, 0, 'Caída de presión Pa') \n",
    "sheet1.write(13, 1, '%.3f'%(Aire.DeltaP))\n",
    "sheet1.write(13, 2, '%.3f'%(Gases.DeltaP))\n",
    "\n",
    "\n",
    "sheet1.write(14, 0, 'Resistencia de ensuciamiento m2C/W',style) \n",
    "sheet1.write(14, 1, '%.4f'%(Rf/2),style)\n",
    "sheet1.write(14, 2, '%.4f'%(Rf/2),style)\n",
    "\n",
    "sheet1.write(15, 0, 'Calor intercambiado kW') \n",
    "sheet1.write(15, 1, '%.1f'%(Q/1e3))\n",
    "\n",
    "sheet1.write(16, 0, 'Coeficiente Global de Transferencia',style)\n",
    "sheet1.write(16, 1, '%.1f'%U,style)\n",
    "\n",
    "sheet1.write(17, 0, 'Número de pasos de tubos')\n",
    "sheet1.write(17, 1, '%0d'%Npasostubos)\n",
    "\n",
    "sheet1.write(18, 0, 'Número de pasos de carcasa',style)\n",
    "sheet1.write(18, 1, '%.1f'%Ncarcasa,style)\n",
    "\n",
    "sheet1.write(19, 0, 'Tubos Longitud m')\n",
    "sheet1.write(19, 1, '%.2f'%Tubo_long)\n",
    "\n",
    "sheet1.write(20, 0, 'Tubos D exterior mm',style)\n",
    "sheet1.write(20, 1, '%.2f'%(Tubo_dext*1e3),style)\n",
    "\n",
    "sheet1.write(21, 0, 'Tubos D interior mm')\n",
    "sheet1.write(21, 1, '%.2f'%(Tubo_dint*1e3))\n",
    "             \n",
    "sheet1.write(22, 0, 'Tubos espesor mm',style)\n",
    "sheet1.write(22, 1, '%.2f'%(Tubo_esp*1e3),style)\n",
    "             \n",
    "sheet1.write(23,0,'Carcasa Lx m')             \n",
    "sheet1.write(23,1,'%.2f'%carcasa_xmax)\n",
    "             \n",
    "sheet1.write(24,0,'Carcasa Ly m',style)             \n",
    "sheet1.write(24,1,'%.2f'%carcasa_ymax,style)\n",
    "\n",
    "nombre_salida = 'Intercambiador_salida_TEMA.xls'\n",
    "wb.save(nombre_salida)\n",
    "data_salida_excel = pd.read_excel('./'+nombre_salida,skiprows=2)\n",
    "data_salida_excel"
   ]
  },
  {
   "cell_type": "markdown",
   "id": "confidential-bargain",
   "metadata": {
    "papermill": {
     "duration": 0.029879,
     "end_time": "2021-05-30T21:24:19.858252",
     "exception": false,
     "start_time": "2021-05-30T21:24:19.828373",
     "status": "completed"
    },
    "tags": []
   },
   "source": [
    "### Arreglo de tubos. Geometría"
   ]
  },
  {
   "cell_type": "code",
   "execution_count": 13,
   "id": "bibliographic-berkeley",
   "metadata": {
    "_kg_hide-input": true,
    "execution": {
     "iopub.execute_input": "2021-05-30T21:24:19.956651Z",
     "iopub.status.busy": "2021-05-30T21:24:19.930380Z",
     "iopub.status.idle": "2021-05-30T21:24:20.697447Z",
     "shell.execute_reply": "2021-05-30T21:24:20.697904Z",
     "shell.execute_reply.started": "2021-05-30T20:49:03.968061Z"
    },
    "papermill": {
     "duration": 0.810256,
     "end_time": "2021-05-30T21:24:20.698068",
     "exception": false,
     "start_time": "2021-05-30T21:24:19.887812",
     "status": "completed"
    },
    "tags": []
   },
   "outputs": [
    {
     "data": {
      "text/plain": [
       "[<matplotlib.lines.Line2D at 0x7f77a5f81450>]"
      ]
     },
     "execution_count": 13,
     "metadata": {},
     "output_type": "execute_result"
    },
    {
     "data": {
      "image/png": "[encoded data removed]",
      "text/plain": [
       "<Figure size 1152x1152 with 1 Axes>"
      ]
     },
     "metadata": {
      "needs_background": "light"
     },
     "output_type": "display_data"
    }
   ],
   "source": [
    "import matplotlib.patches as mpatches\n",
    "prop_cycle = plt.rcParams['axes.prop_cycle']\n",
    "colors = prop_cycle.by_key()['color']\n",
    "escala = 1/3\n",
    "coord_tubo = []\n",
    "\n",
    "##VISTA FRONTAL\n",
    "for columnai in np.arange(ncolumnas):\n",
    "    yi = columnai*paso_tubos+carcasa_huelgo+Tubo_dext/2\n",
    "    for filai in np.arange(nfilas):\n",
    "        xi = filai*paso_tubos+carcasa_huelgo+Tubo_dext/2\n",
    "        coord_tubo.append([xi,yi])\n",
    "carcasa_paso = 2*Tubo_dext\n",
    "fig0,ax0  = plt.subplots(figsize=(16,16))\n",
    "desplazamiento_plot = -1.\n",
    "#Carcasa \n",
    "lin = ax0.plot([desplazamiento_plot,desplazamiento_plot+carcasa_ymax],[0,0],linewidth=3,linestyle='dashed')\n",
    "color_c = lin[0].get_color()\n",
    "ax0.plot([desplazamiento_plot,desplazamiento_plot+carcasa_ymax],[carcasa_xmax,carcasa_xmax],linewidth=3,color=color_c)\n",
    "\n",
    "ax0.plot([desplazamiento_plot,desplazamiento_plot],[0,carcasa_xmax],linewidth=3,color=color_c)\n",
    "\n",
    "ax0.plot([desplazamiento_plot+carcasa_ymax,desplazamiento_plot+carcasa_ymax],[0,carcasa_xmax],linewidth=3,color=color_c)\n",
    "\n",
    "#placa separadora pasaje aire\n",
    "ax0.plot([desplazamiento_plot,desplazamiento_plot+carcasa_ymax],[carcasa_xmax/2,carcasa_xmax/2],linewidth=1,color='k',linestyle='dashdot')\n",
    "\n",
    "# PATAS\n",
    "ax0.plot([desplazamiento_plot,desplazamiento_plot],[-paso_tubos*2,0],linewidth=3,color=color_c)\n",
    "ax0.plot([desplazamiento_plot+carcasa_ymax,desplazamiento_plot+carcasa_ymax],[-paso_tubos*2,0],linewidth=3,color=color_c)\n",
    "\n",
    "# fondo carcasa\n",
    "ax0.plot([desplazamiento_plot,desplazamiento_plot+carcasa_ymax],[-paso_tubos*2,-paso_tubos*2],linewidth=3,color=color_c)\n",
    "\n",
    "for i,coord_tuboi in enumerate(coord_tubo):\n",
    "    xi1,yi1 = coord_tuboi\n",
    "    xi1 += desplazamiento_plot; \n",
    "    ax0.add_patch(plt.Circle((xi1, yi1), Tubo_dext/2, color='k',fill=False))\n",
    "    \n",
    "  \n",
    "##VISTA LATERAL    \n",
    "\n",
    "for i,coord_tuboi in enumerate(coord_tubo):\n",
    "    xi1,yi1 = coord_tuboi\n",
    "    xi1 += desplazamiento_plot; \n",
    "    ax0.plot([0,Tubo_long*escala],[yi1,yi1],color='k',linestyle='dashdot',linewidth=1)\n",
    "    ax0.plot([Tubo_long*escala,desplazamiento_plot],[yi1,yi1],color='k',linestyle='dashdot',linewidth=.1)\n",
    "    ax0.plot([0,Tubo_long*escala],[yi1+Tubo_dext/2,yi1+Tubo_dext/2],color='k')\n",
    "    ax0.plot([0,Tubo_long*escala],[yi1-Tubo_dext/2,yi1-Tubo_dext/2],color='k')\n",
    "    \n",
    "ax0.set_aspect('equal')  \n",
    "\n",
    "lin, = ax0.plot([0,Tubo_long*escala],[0,0],linewidth=3,color=color_c,linestyle='dashed')\n",
    "ax0.plot([0,Tubo_long*escala],[carcasa_xmax,carcasa_xmax],linewidth=3,color=color_c)\n",
    "\n",
    "ax0.plot([0,0],[0,carcasa_xmax],linewidth=3,color=color_c)\n",
    "\n",
    "ax0.plot([Tubo_long*escala,Tubo_long*escala],[0,carcasa_xmax],linewidth=3,color=color_c)\n",
    "\n",
    "ax0.plot([0,0+carcasa_ymax],[-paso_tubos*2,-paso_tubos*2],linewidth=3,color=color_c)\n",
    "#placa separadora pasaje aire\n",
    "ax0.plot([0,0+carcasa_ymax],[carcasa_xmax/2,carcasa_xmax/2],linewidth=1,color=color_c,linestyle='dashdot')\n",
    "#PATAS\n",
    "ax0.plot([0,0],[-paso_tubos*2,0],linewidth=3,color=color_c)\n",
    "ax0.plot([Tubo_long*escala,Tubo_long*escala],[-paso_tubos*2,0],linewidth=3,color=color_c)\n",
    "\n",
    "#Cabezales\n",
    "\n",
    "alto_cabezal_salida = carcasa_xmax+Tubo_dext\n",
    "alto_separador = carcasa_xmax / 2\n",
    "bajo_cabezal_salida = 0-Tubo_dext\n",
    "cabezal_entrada_x = -carcasa_xmax/2\n",
    "cabezal_vuelta_x = carcasa_xmax/4\n",
    "\n",
    "#cabezal entrada/salida\n",
    "ax0.plot([0,cabezal_entrada_x],[alto_cabezal_salida,alto_cabezal_salida],linewidth=3,color=color_c)\n",
    "ax0.plot([0,cabezal_entrada_x],[alto_separador,alto_separador],linewidth=3,color=color_c)\n",
    "ax0.plot([0,cabezal_entrada_x],[bajo_cabezal_salida,bajo_cabezal_salida],linewidth=3,color=color_c)\n",
    "ax0.plot([cabezal_entrada_x,cabezal_entrada_x],[bajo_cabezal_salida,alto_cabezal_salida],linewidth=3,color=color_c)\n",
    "ax0.plot([0,0],[bajo_cabezal_salida,alto_cabezal_salida],linewidth=3,color=color_c)\n",
    "\n",
    "#cabezal vuelta aire\n",
    "ax0.plot([Tubo_long*escala,Tubo_long*escala],[bajo_cabezal_salida,alto_cabezal_salida],linewidth=3,color=color_c)\n",
    "ax0.plot([Tubo_long*escala+cabezal_vuelta_x,Tubo_long*escala],[bajo_cabezal_salida,bajo_cabezal_salida],linewidth=3,color=color_c)\n",
    "ax0.plot([Tubo_long*escala+cabezal_vuelta_x,Tubo_long*escala],[alto_cabezal_salida,alto_cabezal_salida],linewidth=3,color=color_c)\n",
    "\n",
    "ax0.plot([Tubo_long*escala+cabezal_vuelta_x,Tubo_long*escala+cabezal_vuelta_x],[bajo_cabezal_salida,alto_cabezal_salida],linewidth=3,color=color_c)\n",
    "ax0.set_axis_off()\n",
    "\n",
    "#flecha aire tubos\n",
    "arrow0 = mpatches.FancyArrowPatch((-.2, carcasa_xmax/4),(Tubo_long*escala/4,carcasa_xmax/4),\n",
    "                                 mutation_scale=50,color=colors[1],ec='k')\n",
    "arrow1 = mpatches.FancyArrowPatch((Tubo_long*escala/4,3*carcasa_xmax/4),(-.2, 3*carcasa_xmax/4),\n",
    "                                 mutation_scale=50,color=colors[1],ec='k')\n",
    "#flecha_gases lateral\n",
    "arrow2 = mpatches.FancyArrowPatch((Tubo_long*escala/2,-2*Tubo_dext),(Tubo_long*escala/2, 2*carcasa_xmax/4),\n",
    "                                 mutation_scale=50,color=colors[0],ec='k')\n",
    "#flecha gases frontal\n",
    "arrow3 = mpatches.FancyArrowPatch((Tubo_long*escala/2+desplazamiento_plot,-2*Tubo_dext),(desplazamiento_plot+Tubo_long*escala/2, 2*carcasa_xmax/4),\n",
    "                                 mutation_scale=50,color=colors[0],ec='k')\n",
    "\n",
    "arrow4 = mpatches.FancyArrowPatch((Tubo_long*escala, carcasa_xmax/4),\n",
    "                                  (Tubo_long*escala+0.1, 2*carcasa_xmax/4),mutation_scale=50,color=colors[1],ec='k',connectionstyle=\"angle3, angleA=0, angleB=90\")\n",
    "arrow5 = mpatches.FancyArrowPatch((Tubo_long*escala+0.1, carcasa_xmax/2),\n",
    "                                  (Tubo_long*escala+0., 3*carcasa_xmax/4),mutation_scale=50,color=colors[1],ec='k',connectionstyle=\"angle3, angleA=90, angleB=0\")\n",
    "\n",
    "ax0.add_patch(arrow0)\n",
    "ax0.add_patch(arrow1)\n",
    "ax0.add_patch(arrow2);\n",
    "ax0.add_patch(arrow3);\n",
    "ax0.add_patch(arrow4);\n",
    "ax0.add_patch(arrow5);\n",
    "ax0.set_title('Esquema del Intercambiador',fontsize=18);\n",
    "\n",
    "ax0.plot(0,-paso_tubos*2,'ko')\n",
    "ax0.plot(0,alto_cabezal_salida,'ko')"
   ]
  },
  {
   "cell_type": "markdown",
   "id": "deluxe-bandwidth",
   "metadata": {
    "papermill": {
     "duration": 0.031796,
     "end_time": "2021-05-30T21:24:20.761226",
     "exception": false,
     "start_time": "2021-05-30T21:24:20.729430",
     "status": "completed"
    },
    "tags": []
   },
   "source": [
    "E Cao, 2009, pag 139"
   ]
  },
  {
   "cell_type": "code",
   "execution_count": 14,
   "id": "interpreted-mother",
   "metadata": {
    "execution": {
     "iopub.execute_input": "2021-05-30T21:24:20.827137Z",
     "iopub.status.busy": "2021-05-30T21:24:20.826266Z",
     "iopub.status.idle": "2021-05-30T21:24:20.837781Z",
     "shell.execute_reply": "2021-05-30T21:24:20.838133Z",
     "shell.execute_reply.started": "2021-05-30T20:49:04.759531Z"
    },
    "papermill": {
     "duration": 0.045623,
     "end_time": "2021-05-30T21:24:20.838302",
     "exception": false,
     "start_time": "2021-05-30T21:24:20.792679",
     "status": "completed"
    },
    "tags": []
   },
   "outputs": [
    {
     "data": {
      "text/latex": [
       "Alto equipo: 839 mm,Ancho equipo 598 mm, Largo equipo:1.92 m"
      ],
      "text/plain": [
       "<IPython.core.display.Latex object>"
      ]
     },
     "metadata": {},
     "output_type": "display_data"
    },
    {
     "data": {
      "text/latex": [
       "Largo tubos: 1.45 m"
      ],
      "text/plain": [
       "<IPython.core.display.Latex object>"
      ]
     },
     "metadata": {},
     "output_type": "display_data"
    },
    {
     "data": {
      "text/latex": [
       "Placa tubos alto: 779 mm , ancho: 477 mm"
      ],
      "text/plain": [
       "<IPython.core.display.Latex object>"
      ]
     },
     "metadata": {},
     "output_type": "display_data"
    },
    {
     "data": {
      "text/latex": [
       "Placa separadora largo: 314 , ancho: 477"
      ],
      "text/plain": [
       "<IPython.core.display.Latex object>"
      ]
     },
     "metadata": {},
     "output_type": "display_data"
    },
    {
     "data": {
      "text/latex": [
       "Chapa espesor:3.00 mm, Chapa espesor portatubos:6.35 mm"
      ],
      "text/plain": [
       "<IPython.core.display.Latex object>"
      ]
     },
     "metadata": {},
     "output_type": "display_data"
    }
   ],
   "source": [
    "display(Latex(f'Alto equipo: {alto_cabezal_salida*1e3-(-paso_tubos*2*1e3):.0f} mm,Ancho equipo {1e3*carcasa_ymax+2*Tubo_dext*1e3:.0f} mm, Largo equipo:{Tubo_long-cabezal_entrada_x+cabezal_vuelta_x:.2f} m'))\n",
    "\n",
    "display(Latex(f'Largo tubos: {Tubo_long:} m'))\n",
    "\n",
    "display(Latex(f'Placa tubos alto: {1e3*(carcasa_xmax-(-paso_tubos*2) ):.0f} mm , ancho: {carcasa_ymax*1e3:.0f} mm'))\n",
    "\n",
    "display(Latex(f'Placa separadora largo: {-1e3*(cabezal_entrada_x):.0f} , ancho: {carcasa_ymax*1e3:.0f}'))\n",
    "\n",
    "espesor_chapa1 = 3\n",
    "espesor_chapa2 = 25.4*1/4\n",
    "display(Latex(f'Chapa espesor:%.2f mm, Chapa espesor portatubos:%.2f mm'%(espesor_chapa1,espesor_chapa2)))\n"
   ]
  },
  {
   "cell_type": "code",
   "execution_count": 15,
   "id": "growing-metabolism",
   "metadata": {
    "execution": {
     "iopub.execute_input": "2021-05-30T21:24:20.906715Z",
     "iopub.status.busy": "2021-05-30T21:24:20.906171Z",
     "iopub.status.idle": "2021-05-30T21:24:20.976404Z",
     "shell.execute_reply": "2021-05-30T21:24:20.975766Z",
     "shell.execute_reply.started": "2021-05-30T20:49:04.777016Z"
    },
    "papermill": {
     "duration": 0.105692,
     "end_time": "2021-05-30T21:24:20.976570",
     "exception": false,
     "start_time": "2021-05-30T21:24:20.870878",
     "status": "completed"
    },
    "tags": []
   },
   "outputs": [
    {
     "ename": "NameError",
     "evalue": "name 'carca' is not defined",
     "output_type": "error",
     "traceback": [
      "\u001b[0;31m---------------------------------------------------------------------------\u001b[0m",
      "\u001b[0;31mNameError\u001b[0m                                 Traceback (most recent call last)",
      "\u001b[0;32m<ipython-input-15-38d967d0bb21>\u001b[0m in \u001b[0;36m<module>\u001b[0;34m\u001b[0m\n\u001b[0;32m----> 1\u001b[0;31m \u001b[0mcarca\u001b[0m\u001b[0;34m\u001b[0m\u001b[0;34m\u001b[0m\u001b[0m\n\u001b[0m",
      "\u001b[0;31mNameError\u001b[0m: name 'carca' is not defined"
     ]
    }
   ],
   "source": [
    "carca"
   ]
  },
  {
   "cell_type": "markdown",
   "id": "retained-attempt",
   "metadata": {
    "papermill": {
     "duration": 0.032695,
     "end_time": "2021-05-30T21:24:21.043138",
     "exception": false,
     "start_time": "2021-05-30T21:24:21.010443",
     "status": "completed"
    },
    "tags": []
   },
   "source": [
    "## Cálculo de Chimenea\n",
    "\n",
    "#### Dimensiones\n"
   ]
  },
  {
   "cell_type": "code",
   "execution_count": 16,
   "id": "intense-garden",
   "metadata": {
    "execution": {
     "iopub.execute_input": "2021-05-30T21:24:21.118668Z",
     "iopub.status.busy": "2021-05-30T21:24:21.118048Z",
     "iopub.status.idle": "2021-05-30T21:24:21.120742Z",
     "shell.execute_reply": "2021-05-30T21:24:21.120288Z"
    },
    "papermill": {
     "duration": 0.044542,
     "end_time": "2021-05-30T21:24:21.120868",
     "exception": false,
     "start_time": "2021-05-30T21:24:21.076326",
     "status": "completed"
    },
    "tags": []
   },
   "outputs": [],
   "source": [
    "gases_chimenea = fluido_intercambiador('Gases chimenea') \n",
    "gases_chimenea.temp_entrada = Gases.temp_salida\n",
    "gases_chimenea.temp_salida = 20\n",
    "\n",
    "L_chimenea = 5 #m\n",
    "D_chimenea = 0.25 #m\n",
    "veloc_chimenea = Gases.caudal/(D_chimenea**2/4*np.pi)*Gases.rho/gases_chimenea.rho\n",
    "Re_chimenea = veloc_chimenea * D_chimenea/gases_chimenea.nu\n",
    "e = 0.15 # mm para hierro galvanizado\n",
    "rug_relativa = e*1e-3/D_chimenea\n",
    "f_f = ht.conv_internal.friction_factor(Re_chimenea, rug_relativa)\n",
    "P_ca= f_f*Gases.rho*(L_chimenea/D_chimenea)*(veloc_chimenea**2/2)\n",
    "# Pérdidas en accesorios\n",
    "k_salida_expansion = 0.8\n",
    "k_entrada_contraccion = 0.4\n",
    "k_lcodo = 16 * f_f\n",
    "k_lt = 60 * f_f\n",
    "k_localizadas = 2*k_lcodo + k_lt+k_salida_expansion + k_entrada_contraccion\n",
    "P_acc = k_localizadas * gases_chimenea.rho * veloc_chimenea**2/2\n",
    "\n",
    "\n",
    "P_tiraje = gases_chimenea.rho*g*(400-20)/373*L_chimenea\n"
   ]
  },
  {
   "cell_type": "code",
   "execution_count": 17,
   "id": "hidden-import",
   "metadata": {
    "execution": {
     "iopub.execute_input": "2021-05-30T21:24:21.193971Z",
     "iopub.status.busy": "2021-05-30T21:24:21.193360Z",
     "iopub.status.idle": "2021-05-30T21:24:21.206938Z",
     "shell.execute_reply": "2021-05-30T21:24:21.206496Z"
    },
    "papermill": {
     "duration": 0.051903,
     "end_time": "2021-05-30T21:24:21.207075",
     "exception": false,
     "start_time": "2021-05-30T21:24:21.155172",
     "status": "completed"
    },
    "tags": []
   },
   "outputs": [
    {
     "data": {
      "text/latex": [
       "Alto chimenea: L=5.00 m"
      ],
      "text/plain": [
       "<IPython.core.display.Latex object>"
      ]
     },
     "metadata": {},
     "output_type": "display_data"
    },
    {
     "data": {
      "text/latex": [
       "Diámetro chimenea: D=0.25 m"
      ],
      "text/plain": [
       "<IPython.core.display.Latex object>"
      ]
     },
     "metadata": {},
     "output_type": "display_data"
    },
    {
     "data": {
      "text/latex": [
       "Velocidad chimenea: V=4.03 m/s"
      ],
      "text/plain": [
       "<IPython.core.display.Latex object>"
      ]
     },
     "metadata": {},
     "output_type": "display_data"
    },
    {
     "data": {
      "text/latex": [
       "Reynolds chimenea: Re=46788"
      ],
      "text/plain": [
       "<IPython.core.display.Latex object>"
      ]
     },
     "metadata": {},
     "output_type": "display_data"
    },
    {
     "data": {
      "text/latex": [
       "Factor de fricción chimenea: $f_f$=0.02312"
      ],
      "text/plain": [
       "<IPython.core.display.Latex object>"
      ]
     },
     "metadata": {},
     "output_type": "display_data"
    },
    {
     "data": {
      "text/latex": [
       "Pérdidas fricción chimenea: $\\Delta p_L$=2.4 Pa"
      ],
      "text/plain": [
       "<IPython.core.display.Latex object>"
      ]
     },
     "metadata": {},
     "output_type": "display_data"
    },
    {
     "data": {
      "text/latex": [
       "Pérdidas Localizadas chimenea: $\\Delta p_L$=26.6 Pa"
      ],
      "text/plain": [
       "<IPython.core.display.Latex object>"
      ]
     },
     "metadata": {},
     "output_type": "display_data"
    },
    {
     "data": {
      "text/latex": [
       "Pérdidas intercambiador: $\\Delta p_T=\\rho g\\Delta T\\beta L$=5.6 Pa"
      ],
      "text/plain": [
       "<IPython.core.display.Latex object>"
      ]
     },
     "metadata": {},
     "output_type": "display_data"
    },
    {
     "data": {
      "text/latex": [
       "Pérdidas totales: $\\Delta p$=34.7 Pa"
      ],
      "text/plain": [
       "<IPython.core.display.Latex object>"
      ]
     },
     "metadata": {},
     "output_type": "display_data"
    },
    {
     "data": {
      "text/latex": [
       "Tiraje chimenea: $\\Delta p_T=\\rho g\\Delta T\\beta L$=49.2 Pa"
      ],
      "text/plain": [
       "<IPython.core.display.Latex object>"
      ]
     },
     "metadata": {},
     "output_type": "display_data"
    }
   ],
   "source": [
    "display(Latex(f'Alto chimenea: L={L_chimenea:.2f} m'))\n",
    "display(Latex(f'Diámetro chimenea: D={D_chimenea:.2f} m'))\n",
    "display(Latex(f'Velocidad chimenea: V={veloc_chimenea:.2f} m/s'))\n",
    "display(Latex(f'Reynolds chimenea: Re={Re_chimenea:.0f}'))\n",
    "display(Latex(f'Factor de fricción chimenea: $f_f$={f_f:.5f}'))\n",
    "display(Latex(f'Pérdidas fricción chimenea: $\\Delta p_L$={P_ca:.1f} Pa'))\n",
    "display(Latex(f'Pérdidas Localizadas chimenea: $\\Delta p_L$={P_acc:.1f} Pa'))\n",
    "display(Latex(f'Pérdidas intercambiador: $\\Delta p_T=\\\\rho g\\Delta T\\\\beta L$={Gases.DeltaP:.1f} Pa'))\n",
    "display(Latex(f'Pérdidas totales: $\\Delta p$={Gases.DeltaP+P_acc+P_ca:.1f} Pa'))\n",
    "display(Latex(f'Tiraje chimenea: $\\Delta p_T=\\\\rho g\\Delta T\\\\beta L$={P_tiraje:.1f} Pa'))\n",
    "\n"
   ]
  },
  {
   "cell_type": "markdown",
   "id": "fewer-latest",
   "metadata": {
    "papermill": {
     "duration": 0.036654,
     "end_time": "2021-05-30T21:24:21.280352",
     "exception": false,
     "start_time": "2021-05-30T21:24:21.243698",
     "status": "completed"
    },
    "tags": []
   },
   "source": [
    "# Pérdidas en el Circuito Aire\n",
    "\n",
    "Filtro\n",
    "\n",
    "entrada al intercambiador\n",
    "\n",
    "friccion tubos\n",
    "\n",
    "paso tubos\n",
    "\n",
    "salida del intercambiador\n",
    "\n",
    "entrada a batea\n",
    "\n",
    "paso por batea\n",
    "\n",
    "perdidas mandioca\n"
   ]
  },
  {
   "cell_type": "code",
   "execution_count": 18,
   "id": "single-roberts",
   "metadata": {
    "execution": {
     "iopub.execute_input": "2021-05-30T21:24:21.361691Z",
     "iopub.status.busy": "2021-05-30T21:24:21.360776Z",
     "iopub.status.idle": "2021-05-30T21:24:21.364580Z",
     "shell.execute_reply": "2021-05-30T21:24:21.364138Z"
    },
    "papermill": {
     "duration": 0.047702,
     "end_time": "2021-05-30T21:24:21.364739",
     "exception": false,
     "start_time": "2021-05-30T21:24:21.317037",
     "status": "completed"
    },
    "tags": []
   },
   "outputs": [
    {
     "data": {
      "text/plain": [
       "(45.05286964583073, 272.9066135741818)"
      ]
     },
     "execution_count": 18,
     "metadata": {},
     "output_type": "execute_result"
    }
   ],
   "source": [
    "Lado_ventilador = 30e-2\n",
    "Diam_zingueria = 25e-2\n",
    "velocidad_ventilador = Aire.caudal / Lado_ventilador**2\n",
    "k_expansion = 0.8\n",
    "dp_expansion_entrada_intercambiador  = Aire.rho*velocidad_ventilador**2/2*k_expansion\n",
    "dp_intercambiador =  Aire.DeltaP\n",
    "k_contraccion = 0.4\n",
    "velocidad_aire_salida_intercambiador = Aire.caudal/(carcasa_xmax/2*carcasa_ymax)\n",
    "dp_contraccion_salida_intercambiador  = Aire.rho*velocidad_aire_salida_intercambiador**2/2*k_contraccion\n",
    "veloc_aire_zingueria = Aire.caudal/ (Diam_zingueria**2/4*np.pi)\n",
    "dp_expansion_entrada_batea  = Aire.rho*veloc_aire_zingueria**2/2*k_expansion\n",
    "\n",
    "dp_total = dp_expansion_entrada_intercambiador+dp_intercambiador+dp_contraccion_salida_intercambiador+dp_expansion_entrada_batea\n",
    "\n",
    "dp_expansion_entrada_intercambiador,dp_total\n"
   ]
  },
  {
   "cell_type": "code",
   "execution_count": 19,
   "id": "chronic-doubt",
   "metadata": {
    "execution": {
     "iopub.execute_input": "2021-05-30T21:24:21.441642Z",
     "iopub.status.busy": "2021-05-30T21:24:21.440759Z",
     "iopub.status.idle": "2021-05-30T21:24:21.446302Z",
     "shell.execute_reply": "2021-05-30T21:24:21.446825Z"
    },
    "papermill": {
     "duration": 0.045498,
     "end_time": "2021-05-30T21:24:21.446979",
     "exception": false,
     "start_time": "2021-05-30T21:24:21.401481",
     "status": "completed"
    },
    "tags": []
   },
   "outputs": [
    {
     "data": {
      "text/plain": [
       "3.0816078917156835"
      ]
     },
     "execution_count": 19,
     "metadata": {},
     "output_type": "execute_result"
    }
   ],
   "source": [
    "Diam_batea = 1.2\n",
    "Radio_agujeritos = 0.306\n",
    "Area_agujeritos = np.pi*Radio_agujeritos**2\n",
    "Area_batea = np.pi*Diam_batea**2/4\n",
    "Aire.caudal/Area_agujeritos"
   ]
  },
  {
   "cell_type": "code",
   "execution_count": null,
   "id": "graduate-weight",
   "metadata": {
    "papermill": {
     "duration": 0.036649,
     "end_time": "2021-05-30T21:24:21.520450",
     "exception": false,
     "start_time": "2021-05-30T21:24:21.483801",
     "status": "completed"
    },
    "tags": []
   },
   "outputs": [],
   "source": []
  },
  {
   "cell_type": "code",
   "execution_count": null,
   "id": "honest-above",
   "metadata": {
    "papermill": {
     "duration": 0.036571,
     "end_time": "2021-05-30T21:24:21.593928",
     "exception": false,
     "start_time": "2021-05-30T21:24:21.557357",
     "status": "completed"
    },
    "tags": []
   },
   "outputs": [],
   "source": []
  },
  {
   "cell_type": "code",
   "execution_count": 20,
   "id": "tribal-contest",
   "metadata": {
    "execution": {
     "iopub.execute_input": "2021-05-30T21:24:21.670886Z",
     "iopub.status.busy": "2021-05-30T21:24:21.670054Z",
     "iopub.status.idle": "2021-05-30T21:24:21.676311Z",
     "shell.execute_reply": "2021-05-30T21:24:21.676704Z",
     "shell.execute_reply.started": "2021-05-30T21:17:11.725230Z"
    },
    "papermill": {
     "duration": 0.04615,
     "end_time": "2021-05-30T21:24:21.676864",
     "exception": false,
     "start_time": "2021-05-30T21:24:21.630714",
     "status": "completed"
    },
    "tags": []
   },
   "outputs": [
    {
     "data": {
      "text/latex": [
       "Peso_total = 399 kg"
      ],
      "text/plain": [
       "<IPython.core.display.Latex object>"
      ]
     },
     "metadata": {},
     "output_type": "display_data"
    }
   ],
   "source": [
    "#Dimensiones Desde el CAD\n",
    "#Volumenes\n",
    "Tubos_vol = (Tubo_dext**2-Tubo_dint**2)*np.pi/4*Tubo_long * Ntubos_0\n",
    "Placas_porta_vol = 3* (477*1000*6)\n",
    "Placas_laterales_vol = 2* (1000*1920*3)\n",
    "Placas_separadora_vol = (320*477*3)\n",
    "Placa_base_vol = 2*(1920*477*3)\n",
    "\n",
    "Volumen_total = Tubos_vol*1e9 + Placa_base_vol+Placas_laterales_vol + Placas_porta_vol\n",
    "rho_acero = 7800 #kg/m3\n",
    "\n",
    "Peso_total = Volumen_total*(1e-3)**3 * rho_acero\n",
    "display(Latex(f'Peso_total = {Peso_total:.0f} kg'))"
   ]
  },
  {
   "cell_type": "code",
   "execution_count": 21,
   "id": "violent-salmon",
   "metadata": {
    "execution": {
     "iopub.execute_input": "2021-05-30T21:24:21.755945Z",
     "iopub.status.busy": "2021-05-30T21:24:21.755395Z",
     "iopub.status.idle": "2021-05-30T21:24:21.757787Z",
     "shell.execute_reply": "2021-05-30T21:24:21.758186Z",
     "shell.execute_reply.started": "2021-05-30T21:16:46.699013Z"
    },
    "papermill": {
     "duration": 0.044142,
     "end_time": "2021-05-30T21:24:21.758344",
     "exception": false,
     "start_time": "2021-05-30T21:24:21.714202",
     "status": "completed"
    },
    "tags": []
   },
   "outputs": [
    {
     "data": {
      "text/plain": [
       "(198.86221178644428, 42.861312, 89.856)"
      ]
     },
     "execution_count": 21,
     "metadata": {},
     "output_type": "execute_result"
    }
   ],
   "source": [
    "Tubos_vol*7800,Placa_base_vol*7800e-9,Placas_laterales_vol*7.8e-6"
   ]
  },
  {
   "cell_type": "code",
   "execution_count": 22,
   "id": "wired-madagascar",
   "metadata": {
    "execution": {
     "iopub.execute_input": "2021-05-30T21:24:21.835998Z",
     "iopub.status.busy": "2021-05-30T21:24:21.835444Z",
     "iopub.status.idle": "2021-05-30T21:24:21.840408Z",
     "shell.execute_reply": "2021-05-30T21:24:21.839888Z",
     "shell.execute_reply.started": "2021-05-30T21:06:31.867271Z"
    },
    "papermill": {
     "duration": 0.044647,
     "end_time": "2021-05-30T21:24:21.840531",
     "exception": false,
     "start_time": "2021-05-30T21:24:21.795884",
     "status": "completed"
    },
    "tags": []
   },
   "outputs": [
    {
     "data": {
      "text/plain": [
       "0.0563"
      ]
     },
     "execution_count": 22,
     "metadata": {},
     "output_type": "execute_result"
    }
   ],
   "source": [
    "Tubo_dint"
   ]
  },
  {
   "cell_type": "code",
   "execution_count": null,
   "id": "legitimate-islam",
   "metadata": {
    "papermill": {
     "duration": 0.038502,
     "end_time": "2021-05-30T21:24:21.917769",
     "exception": false,
     "start_time": "2021-05-30T21:24:21.879267",
     "status": "completed"
    },
    "tags": []
   },
   "outputs": [],
   "source": []
  }
 ],
 "metadata": {
  "kernelspec": {
   "display_name": "Python 3",
   "language": "python",
   "name": "python3"
  },
  "language_info": {
   "codemirror_mode": {
    "name": "ipython",
    "version": 3
   },
   "file_extension": ".py",
   "mimetype": "text/x-python",
   "name": "python",
   "nbconvert_exporter": "python",
   "pygments_lexer": "ipython3",
   "version": "3.7.10"
  },
  "papermill": {
   "default_parameters": {},
   "duration": 23.771076,
   "end_time": "2021-05-30T21:24:22.664715",
   "environment_variables": {},
   "exception": null,
   "input_path": "__notebook__.ipynb",
   "output_path": "__notebook__.ipynb",
   "parameters": {},
   "start_time": "2021-05-30T21:23:58.893639",
   "version": "2.3.3"
  }
 },
 "nbformat": 4,
 "nbformat_minor": 5
}
