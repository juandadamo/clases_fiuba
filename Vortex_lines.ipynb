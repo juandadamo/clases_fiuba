{
 "cells": [
  {
   "cell_type": "code",
   "execution_count": 3,
   "metadata": {},
   "outputs": [
    {
     "name": "stdout",
     "output_type": "stream",
     "text": [
      "Requirement already satisfied: sympy in /home/juan/.local/lib/python3.8/site-packages (1.8)\n",
      "Requirement already satisfied: matplotlib in /home/juan/.local/lib/python3.8/site-packages (3.2.2)\n",
      "Requirement already satisfied: numpy in /home/juan/.local/lib/python3.8/site-packages (1.19.0)\n",
      "Requirement already satisfied: scipy in /home/juan/.local/lib/python3.8/site-packages (1.5.1)\n",
      "Requirement already satisfied: IPython in /usr/lib/python3/dist-packages (7.13.0)\n",
      "Requirement already satisfied: ipywidgets in /home/juan/.local/lib/python3.8/site-packages (7.6.4)\n",
      "Requirement already satisfied: mpmath>=0.19 in /home/juan/.local/lib/python3.8/site-packages (from sympy) (1.2.1)\n",
      "Requirement already satisfied: pyparsing!=2.0.4,!=2.1.2,!=2.1.6,>=2.0.1 in /home/juan/.local/lib/python3.8/site-packages (from matplotlib) (2.4.7)\n",
      "Requirement already satisfied: python-dateutil>=2.1 in /usr/lib/python3/dist-packages (from matplotlib) (2.7.3)\n",
      "Requirement already satisfied: cycler>=0.10 in /home/juan/.local/lib/python3.8/site-packages (from matplotlib) (0.10.0)\n",
      "Requirement already satisfied: kiwisolver>=1.0.1 in /home/juan/.local/lib/python3.8/site-packages (from matplotlib) (1.2.0)\n",
      "Requirement already satisfied: pexpect in /usr/lib/python3/dist-packages (from IPython) (4.6.0)\n",
      "Requirement already satisfied: nbformat>=4.2.0 in /usr/lib/python3/dist-packages (from ipywidgets) (5.0.4)\n",
      "Requirement already satisfied: jupyterlab-widgets>=1.0.0; python_version >= \"3.6\" in /home/juan/.local/lib/python3.8/site-packages (from ipywidgets) (1.0.1)\n",
      "Requirement already satisfied: traitlets>=4.3.1 in /usr/lib/python3/dist-packages (from ipywidgets) (4.3.3)\n",
      "Requirement already satisfied: ipython-genutils~=0.2.0 in /usr/lib/python3/dist-packages (from ipywidgets) (0.2.0)\n",
      "Requirement already satisfied: ipykernel>=4.5.1 in /usr/lib/python3/dist-packages (from ipywidgets) (5.2.0)\n",
      "Requirement already satisfied: widgetsnbextension~=3.5.0 in /home/juan/.local/lib/python3.8/site-packages (from ipywidgets) (3.5.1)\n",
      "Requirement already satisfied: six in /usr/lib/python3/dist-packages (from cycler>=0.10->matplotlib) (1.14.0)\n",
      "Requirement already satisfied: notebook>=4.4.1 in /usr/lib/python3/dist-packages (from widgetsnbextension~=3.5.0->ipywidgets) (6.0.3)\n"
     ]
    }
   ],
   "source": [
    "!pip install sympy matplotlib numpy scipy IPython ipywidgets"
   ]
  },
  {
   "cell_type": "code",
   "execution_count": 4,
   "metadata": {},
   "outputs": [],
   "source": [
    "import sympy as sp\n",
    "import numpy as np\n",
    "import matplotlib.pyplot as plt\n",
    "from IPython.display import  Latex\n",
    "from ipywidgets import interact, interact_manual,interactive,widgets,Layout"
   ]
  },
  {
   "cell_type": "markdown",
   "metadata": {},
   "source": [
    "$$w = \\frac{j\\Gamma}{2\\pi} \\ln\\left(z\\prod_{m=1}^{+\\infty}\\left(1-\\frac{\\left(\\frac{z\\pi}{a}\\right)^2}{m^2\\pi^2}\\right)\\right)$$\n",
    "\n",
    "The product is actually the formula for the sine and the complex potential becomes\n",
    "\n",
    "$$w = \\frac{j\\Gamma}{2\\pi}\\ln\\left(\\sin\\left(\\frac{z\\pi}{a}\\right)\\right)$$"
   ]
  },
  {
   "cell_type": "code",
   "execution_count": 21,
   "metadata": {},
   "outputs": [],
   "source": [
    "w,z,Gamma,a,m = sp.symbols('w,z,\\Gamma,a,m')"
   ]
  },
  {
   "cell_type": "code",
   "execution_count": 54,
   "metadata": {},
   "outputs": [],
   "source": [
    "ws =  1j*Gamma/(2*sp.pi)*sp.log(z*sp.product(1-(z*sp.pi/a)**2/(m**2*sp.pi**2),(m,1,31)))\n",
    "w = 1j*Gamma/(2*sp.pi)*sp.log(sp.sin(z*sp.pi/a))"
   ]
  },
  {
   "cell_type": "code",
   "execution_count": 55,
   "metadata": {},
   "outputs": [],
   "source": [
    "Us = sp.diff(ws,z);\n",
    "U = sp.diff(w,z);"
   ]
  },
  {
   "cell_type": "code",
   "execution_count": 56,
   "metadata": {},
   "outputs": [
    {
     "data": {
      "text/latex": [
       "$\\displaystyle 15.3985219471902 i$"
      ],
      "text/plain": [
       "15.3985219471902*I"
      ]
     },
     "execution_count": 56,
     "metadata": {},
     "output_type": "execute_result"
    }
   ],
   "source": [
    "Us.evalf(subs={Gamma:10, a:1,z:.1})"
   ]
  },
  {
   "cell_type": "code",
   "execution_count": 58,
   "metadata": {},
   "outputs": [
    {
     "data": {
      "text/latex": [
       "$\\displaystyle 15.3884176858763 i$"
      ],
      "text/plain": [
       "15.3884176858763*I"
      ]
     },
     "execution_count": 58,
     "metadata": {},
     "output_type": "execute_result"
    }
   ],
   "source": [
    "U.evalf(subs={Gamma:10, a:1,z:.1})"
   ]
  },
  {
   "cell_type": "code",
   "execution_count": null,
   "metadata": {},
   "outputs": [],
   "source": []
  }
 ],
 "metadata": {
  "kernelspec": {
   "display_name": "Python 3",
   "language": "python",
   "name": "python3"
  },
  "language_info": {
   "codemirror_mode": {
    "name": "ipython",
    "version": 3
   },
   "file_extension": ".py",
   "mimetype": "text/x-python",
   "name": "python",
   "nbconvert_exporter": "python",
   "pygments_lexer": "ipython3",
   "version": "3.8.10"
  }
 },
 "nbformat": 4,
 "nbformat_minor": 4
}
