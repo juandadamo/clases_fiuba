{
 "cells": [
  {
   "cell_type": "markdown",
   "id": "ef06b114",
   "metadata": {
    "slideshow": {
     "slide_type": "skip"
    }
   },
   "source": [
    "[Versión interactiva](https://mybinder.org/v2/git/https%3A%2F%2Fgithub.com%2Fjuandadamo%2Fclases_fiuba/HEAD?filepath=Friction_tubes.ipynb)"
   ]
  },
  {
   "cell_type": "code",
   "execution_count": 7,
   "id": "a13d31ab",
   "metadata": {
    "slideshow": {
     "slide_type": "skip"
    }
   },
   "outputs": [
    {
     "name": "stdout",
     "output_type": "stream",
     "text": [
      "Requirement already satisfied: CoolProp in /home/juan/anaconda3/lib/python3.8/site-packages (6.4.1)\n",
      "Requirement already satisfied: scipy in /home/juan/anaconda3/lib/python3.8/site-packages (1.6.2)\n",
      "Requirement already satisfied: numpy in /home/juan/anaconda3/lib/python3.8/site-packages (1.20.1)\n",
      "Requirement already satisfied: pint in /home/juan/anaconda3/lib/python3.8/site-packages (0.17)\n",
      "Requirement already satisfied: matplotlib in /home/juan/anaconda3/lib/python3.8/site-packages (3.3.4)\n",
      "Requirement already satisfied: fluids in /home/juan/anaconda3/lib/python3.8/site-packages (1.0.9)\n",
      "Requirement already satisfied: packaging in /home/juan/anaconda3/lib/python3.8/site-packages (from pint) (20.9)\n",
      "Requirement already satisfied: pyparsing!=2.0.4,!=2.1.2,!=2.1.6,>=2.0.3 in /home/juan/anaconda3/lib/python3.8/site-packages (from matplotlib) (2.4.7)\n",
      "Requirement already satisfied: cycler>=0.10 in /home/juan/anaconda3/lib/python3.8/site-packages (from matplotlib) (0.10.0)\n",
      "Requirement already satisfied: kiwisolver>=1.0.1 in /home/juan/anaconda3/lib/python3.8/site-packages (from matplotlib) (1.3.1)\n",
      "Requirement already satisfied: python-dateutil>=2.1 in /home/juan/anaconda3/lib/python3.8/site-packages (from matplotlib) (2.8.1)\n",
      "Requirement already satisfied: pillow>=6.2.0 in /home/juan/anaconda3/lib/python3.8/site-packages (from matplotlib) (8.2.0)\n",
      "Requirement already satisfied: six in /home/juan/anaconda3/lib/python3.8/site-packages (from cycler>=0.10->matplotlib) (1.15.0)\n"
     ]
    }
   ],
   "source": [
    "!pip install CoolProp scipy numpy pint matplotlib fluids"
   ]
  },
  {
   "cell_type": "code",
   "execution_count": 2,
   "id": "5251664b",
   "metadata": {
    "slideshow": {
     "slide_type": "skip"
    }
   },
   "outputs": [],
   "source": [
    "import time, fluids, pint, matplotlib\n",
    "from IPython.display import Image,Latex\n",
    "import numpy as np\n",
    "import matplotlib.pyplot as plt\n",
    "from scipy import optimize\n",
    "import CoolProp as cp\n",
    "ureg = pint.UnitRegistry()#(fmt_locale='es_ES')\n",
    "import warnings\n",
    "warnings.filterwarnings('ignore')\n",
    "#Tamaños de fuentes\n",
    "font = {'family' : 'STIXGeneral','weight':'normal', 'size'   : 15}\n",
    "matplotlib.rcParams['mathtext.fontset'] = 'stix'\n",
    "matplotlib.rc('font', **font)"
   ]
  },
  {
   "cell_type": "code",
   "execution_count": 14,
   "id": "eaf0dc85",
   "metadata": {
    "slideshow": {
     "slide_type": "slide"
    }
   },
   "outputs": [],
   "source": [
    "titulo = \"Oleoducto Cero Bayo - Bahía Brava\"\n",
    "titulo2 = \"Traza inicial (aproximada)\"\n",
    "\n",
    "posiciones = np.array([0,15100,25e3,72e3])\n",
    "alturas = [515,692,708,20]\n",
    "g =9.8\n",
    "Densidad = 860         #kg/m3\n",
    "Viscosidad = 130e-6    #m2/s\n",
    "Caudal = 12500/24/3600 #m3/s\n",
    "Diam_i = 318e-3        #m\n",
    "e = fluids.material_roughness('Seamless steel tubes, Used water piping')\n",
    "eD = e/Diam_i"
   ]
  },
  {
   "cell_type": "markdown",
   "id": "a6942cb9",
   "metadata": {
    "slideshow": {
     "slide_type": "slide"
    }
   },
   "source": [
    "### Estacionario"
   ]
  },
  {
   "cell_type": "code",
   "execution_count": 15,
   "id": "c429b0ea",
   "metadata": {
    "slideshow": {
     "slide_type": "subslide"
    }
   },
   "outputs": [],
   "source": [
    "fig,ax = plt.subplots(figsize=(8,3))\n",
    "ax.plot(posiciones,alturas,'o-');\n",
    "ax.grid()\n",
    "ax.set_title(titulo+'\\n'+ titulo2);"
   ]
  },
  {
   "cell_type": "markdown",
   "id": "8fd698bd",
   "metadata": {
    "slideshow": {
     "slide_type": "slide"
    }
   },
   "source": [
    "### Determinación de la presión en el primer punto\n",
    "### Uso presion en el último punto igual a la atmosferica"
   ]
  },
  {
   "cell_type": "code",
   "execution_count": 21,
   "id": "891dbae4",
   "metadata": {
    "slideshow": {
     "slide_type": "subslide"
    }
   },
   "outputs": [],
   "source": [
    "Velocidad = Caudal / (Diam_i**2*np.pi/4)\n",
    "Re = Velocidad * Diam_i / Viscosidad\n",
    "longitudes = np.diff(posiciones)\n",
    "\n",
    "deltap_fr = longitudes/Diam_i*(1/2)*Densidad*Velocidad**2*fluids.friction_factor(Re,eD)\n",
    "presiones = np.zeros_like(posiciones)\n",
    "#defino funcion para encontrar el valor mediante optimizacion\n",
    "def calculo_p (DeltaP_bomba):\n",
    "    presiones[0] = DeltaP_bomba + 101.3e3\n",
    "    presiones[1] = presiones[0]+Densidad*g*(alturas[0] - alturas[1]) - deltap_fr[0]\n",
    "    presiones[2] = presiones[1]+Densidad*g*(alturas[1] - alturas[2]) - deltap_fr[1]\n",
    "    presiones[3] = presiones[2]+Densidad*g*(alturas[2] - alturas[3]) - deltap_fr[2]\n",
    "    return (presiones[3] - 101.3e3)"
   ]
  },
  {
   "cell_type": "code",
   "execution_count": 22,
   "id": "6ee270e0",
   "metadata": {
    "slideshow": {
     "slide_type": "subslide"
    }
   },
   "outputs": [],
   "source": [
    "#aplico optimizacion\n",
    "DeltaP_B = optimize.brentq(calculo_p,1e3,1e9)\n",
    "presiones[0] = DeltaP_B + 101.3e3\n",
    "presiones[1] = presiones[0]+Densidad*g*(alturas[0] - alturas[1]) - deltap_fr[0]\n",
    "presiones[2] = presiones[1]+Densidad*g*(alturas[1] - alturas[2]) - deltap_fr[1]\n",
    "presiones[3] = presiones[2]+Densidad*g*(alturas[2] - alturas[3]) - deltap_fr[2]    \n",
    "   \n"
   ]
  },
  {
   "cell_type": "code",
   "execution_count": 23,
   "id": "2fbd3964",
   "metadata": {
    "slideshow": {
     "slide_type": "slide"
    }
   },
   "outputs": [],
   "source": [
    "fig,ax = plt.subplots(figsize=(8,3))\n",
    "ax.plot(posiciones,presiones/1e3,'o-')\n",
    "ax.set_ylabel('Presión [kPa]');\n",
    "ax.grid()"
   ]
  },
  {
   "cell_type": "code",
   "execution_count": 24,
   "id": "cb6378f0",
   "metadata": {
    "slideshow": {
     "slide_type": "slide"
    }
   },
   "outputs": [],
   "source": [
    "fig,ax = plt.subplots(figsize=(8,3))\n",
    "ax.plot(posiciones*1e-3,presiones/(Densidad*g),'o-',label='Hidráulica')\n",
    "ax.plot(posiciones*1e-3,alturas,'s-',label='Traza')\n",
    "ax.set_ylabel('Altura [m] ');\n",
    "ax.set_xlabel('Posición [km]')\n",
    "ax.legend()\n",
    "ax.grid()"
   ]
  },
  {
   "cell_type": "code",
   "execution_count": null,
   "id": "26f54a30",
   "metadata": {},
   "outputs": [],
   "source": []
  },
  {
   "cell_type": "code",
   "execution_count": null,
   "id": "b79b9d02",
   "metadata": {},
   "outputs": [],
   "source": []
  }
 ],
 "metadata": {
  "celltoolbar": "Slideshow",
  "kernelspec": {
   "display_name": "Python 3",
   "language": "python",
   "name": "python3"
  },
  "language_info": {
   "codemirror_mode": {
    "name": "ipython",
    "version": 3
   },
   "file_extension": ".py",
   "mimetype": "text/x-python",
   "name": "python",
   "nbconvert_exporter": "python",
   "pygments_lexer": "ipython3",
   "version": "3.8.8"
  },
  "latex_envs": {
   "LaTeX_envs_menu_present": true,
   "autoclose": true,
   "autocomplete": true,
   "bibliofile": "biblio.bib",
   "cite_by": "apalike",
   "current_citInitial": 1,
   "eqLabelWithNumbers": true,
   "eqNumInitial": 1,
   "hotkeys": {
    "equation": "Ctrl-E",
    "itemize": "Ctrl-I"
   },
   "labels_anchors": false,
   "latex_user_defs": false,
   "report_style_numbering": false,
   "user_envs_cfg": false
  }
 },
 "nbformat": 4,
 "nbformat_minor": 5
}
