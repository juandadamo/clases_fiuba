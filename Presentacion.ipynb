{
 "cells": [
  {
   "cell_type": "markdown",
   "id": "ca5252be",
   "metadata": {
    "slideshow": {
     "slide_type": "skip"
    }
   },
   "source": [
    "[versión interactiva](https://mybinder.org/v2/git/https%3A%2F%2Fgithub.com%2Fjuandadamo%2Fclases_fiuba/HEAD?filepath=Presentacion.ipynb)"
   ]
  },
  {
   "cell_type": "markdown",
   "id": "2f22932b",
   "metadata": {
    "slideshow": {
     "slide_type": "slide"
    }
   },
   "source": [
    "# <center>Herramientas numéricas en <p> <center> Mecánica de Fluidos\n",
    "    \n",
    " ***   \n",
    "<div align=\"left\"> 19 de julio de 2021 </div> \n",
    "<div align=\"right\"> <em>Juan D'Adamo</em>, Departamento de Ingeniería Mecánica </div>\n",
    "<div align=\"right\"> Facultad de Ingeniería UBA <a href=\"mailto:jdadamo@fi.uba.ar\">jdadamo@fi.uba.ar</a>  \n"
   ]
  },
  {
   "cell_type": "markdown",
   "id": "89887e9b",
   "metadata": {
    "slideshow": {
     "slide_type": "slide"
    }
   },
   "source": [
    "### Uso básico de Jupyter Notebook"
   ]
  },
  {
   "cell_type": "code",
   "execution_count": 2,
   "id": "635380e9",
   "metadata": {
    "slideshow": {
     "slide_type": "fragment"
    }
   },
   "outputs": [
    {
     "name": "stdout",
     "output_type": "stream",
     "text": [
      "90\n"
     ]
    }
   ],
   "source": [
    "a = 90\n",
    "print(a) "
   ]
  },
  {
   "cell_type": "code",
   "execution_count": 3,
   "id": "d4569f47",
   "metadata": {
    "slideshow": {
     "slide_type": "fragment"
    }
   },
   "outputs": [
    {
     "name": "stdout",
     "output_type": "stream",
     "text": [
      "1.0\n"
     ]
    }
   ],
   "source": [
    "import numpy as np\n",
    "print(np.sin(np.pi*a/180))\n",
    "x = np.linspace(1,10,20)"
   ]
  },
  {
   "cell_type": "code",
   "execution_count": 18,
   "id": "a55460eb",
   "metadata": {
    "slideshow": {
     "slide_type": "subslide"
    }
   },
   "outputs": [
    {
     "data": {
      "image/png": "[encoded data removed]",
      "text/plain": [
       "<Figure size 432x288 with 1 Axes>"
      ]
     },
     "metadata": {
      "needs_background": "light"
     },
     "output_type": "display_data"
    }
   ],
   "source": [
    "import matplotlib.pyplot as plt\n",
    "fig,ax = plt.subplots()\n",
    "ax.plot(x,np.sin(x),'o',linestyle = 'none');\n",
    "ax.set_xlabel('$x$')\n",
    "ax.set_ylabel('$\\sin(x)$'); "
   ]
  },
  {
   "cell_type": "markdown",
   "id": "1a49ea12",
   "metadata": {
    "slideshow": {
     "slide_type": "slide"
    }
   },
   "source": [
    "### Texto y ecuaciones, en *Markdown*, \n",
    "#### p.ej.: la caída de presión por fricción en una cañería\n",
    "\\[\\Delta p_{fr} = f_f \\frac{1}{2}\\rho U^2 \\frac{L}{D}\\]"
   ]
  },
  {
   "cell_type": "code",
   "execution_count": 19,
   "id": "0a29242b",
   "metadata": {
    "slideshow": {
     "slide_type": "fragment"
    }
   },
   "outputs": [
    {
     "name": "stdout",
     "output_type": "stream",
     "text": [
      "La variable a = 90.00, y sin^2(a)= 1.00 \n"
     ]
    }
   ],
   "source": [
    "# print resultados\n",
    "print(f'La variable a = {a:.2f}, y sin^2(a)= {np.sin(np.pi*a/180):.2f} ') "
   ]
  },
  {
   "cell_type": "code",
   "execution_count": 12,
   "id": "328743af",
   "metadata": {
    "slideshow": {
     "slide_type": "fragment"
    }
   },
   "outputs": [
    {
     "data": {
      "text/latex": [
       "La variable $a = 90.00$, y $\\sin^2(a)= 1.00$ "
      ],
      "text/plain": [
       "<IPython.core.display.Latex object>"
      ]
     },
     "metadata": {},
     "output_type": "display_data"
    }
   ],
   "source": [
    "from IPython.display import Latex\n",
    "display(Latex(f'La variable $a = {a:.2f}$, y $\\sin^2(a)= {np.sin(np.pi*a/180):.2f}$ '))"
   ]
  },
  {
   "cell_type": "markdown",
   "id": "3d1832a2",
   "metadata": {
    "slideshow": {
     "slide_type": "slide"
    }
   },
   "source": [
    "* ### [Uso de Unidades](https://mybinder.org/v2/git/https%3A%2F%2Fgithub.com%2Fjuandadamo%2Fclases_fiuba/2aff44edaf84a32ed5d1d5521875d3849e17a6d7?filepath=unidades-ejemplo.ipynb)\n",
    "* ### [Fricción en Cañerías](https://mybinder.org/v2/git/https%3A%2F%2Fgithub.com%2Fjuandadamo%2Fclases_fiuba/4971891f46f62adb44d0ada262fe916cbc8babac?filepath=Friction_tubes.ipynb)\n",
    "* ### [Golpe de Ariete](https://mybinder.org/v2/git/https%3A%2F%2Fgithub.com%2Fjuandadamo%2Fclases_fiuba/HEAD?filepath=Golpe_Ariete.ipynb)"
   ]
  }
 ],
 "metadata": {
  "celltoolbar": "Slideshow",
  "kernelspec": {
   "display_name": "Python 3",
   "language": "python",
   "name": "python3"
  },
  "language_info": {
   "codemirror_mode": {
    "name": "ipython",
    "version": 3
   },
   "file_extension": ".py",
   "mimetype": "text/x-python",
   "name": "python",
   "nbconvert_exporter": "python",
   "pygments_lexer": "ipython3",
   "version": "3.8.10"
  },
  "latex_envs": {
   "LaTeX_envs_menu_present": true,
   "autoclose": true,
   "autocomplete": true,
   "bibliofile": "biblio.bib",
   "cite_by": "apalike",
   "current_citInitial": 1,
   "eqLabelWithNumbers": true,
   "eqNumInitial": 1,
   "hotkeys": {
    "equation": "Ctrl-E",
    "itemize": "Ctrl-I"
   },
   "labels_anchors": false,
   "latex_user_defs": false,
   "report_style_numbering": false,
   "user_envs_cfg": false
  }
 },
 "nbformat": 4,
 "nbformat_minor": 5
}
