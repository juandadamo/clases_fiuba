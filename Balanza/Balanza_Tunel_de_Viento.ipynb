{
 "cells": [
  {
   "cell_type": "markdown",
   "metadata": {},
   "source": [
    "# Operation of the balance\n",
    "\n",
    "| Former system | New System | \n",
    "|:-:|:-:|\n",
    "|<img src=\"foto_brazo_1.jpg\" width=50%>|<img src=\"foto_sensor.jpg\" width=50%>|\n",
    "---------\n",
    "\n",
    "### The balance works with a gauge sensor [HX711](https://github.com/fluidodinamica/balance_tunel_de_viento/blob/main/IMG-0959.jpg) operating on Wheastone bridge principles. \n",
    "\n",
    "### It is important to verify that all screws or bolts of the measurement system are firmly fasten. \n",
    "\n",
    "### The sensor measures a weight which is saved by an arduino card with the [program of acquisition](https://github.com/fluidodinamica/balance_tunel_de_viento/blob/main/_talonnage_masse.ino).\n",
    "\n",
    "### An important parameter of the program is the \"set_scale\" variable, as it relies on the calibration of the sensor.\n",
    "\n",
    "### In order to save measurements to the disk drive,  a software called  [CoolTerm] (https://coolterm.en.lo4d.com/windows) is applied. \n",
    "\n",
    "### The acquisition frequency of the sensor is around 10 Hz. \n",
    "\n",
    "### From the weight values of the sensor  values of drag force are obtained from  fundamental principle of statics as depicted on the following figure:\n",
    "<p align=\"center\">\n",
    "  <img src=\"https://user-images.githubusercontent.com/104587276/167152004-4aeec315-5941-45a6-8a1c-c2f7d5c24f2c.png\"/ width = 50%>\n",
    "</p> \n",
    "\n",
    "\n",
    "\n",
    "### According to the different forces undergone by the balance, the following equation results:\n",
    "\n",
    "## $$\\boxed{F_D = 12.63\\cdot10^{-3} \\times weight_{arduino}}$$\n",
    " \n",
    "\n",
    "### We tested the device in the \"Tango\" Wind Tunnel .  We  measure the drag force of a circular cylinder for a range of velocities and compared the result with reference values ([link for the values](https://github.com/fluidodinamica/balance_tunel_de_viento/blob/main/Values%20drag%20force.csv)):\n",
    "<p align=\"center\">\n",
    "  <img src=\"https://user-images.githubusercontent.com/104587276/166973557-18a1a91c-e890-4137-a0f2-bf0f8cc8a3a8.png\"/ width = 60%>\n",
    "</p> \n",
    "\n",
    "### We noticed a gap between the reference and our experimental values. The gap can be overcoma by taking acount the drag force of the model support. Indeed by measuring the drag froce of the model support alone, we find the following values :\n",
    "<p align=\"center\">\n",
    "  <img src=\"https://user-images.githubusercontent.com/104587276/166975389-e1400ceb-d474-4373-8ef0-5102f68a3811.png\"/ width=60%>\n",
    "</p> \n",
    "\n",
    "### Now, by substracting the weight measured for the model support alone respect to the weight measured for the model, we find the drag force of the cylinder much closer of the reference values ([link for the values](https://github.com/fluidodinamica/balance_tunel_de_viento/blob/main/Values%20drag%20force%20without%20support.csv)): \n",
    "<p align=\"center\">\n",
    "  <img src=\"https://user-images.githubusercontent.com/104587276/166976281-332447a3-1565-4d8e-b448-cf27f00cc306.png\"/ width = 60%>\n",
    "</p> \n",
    "\n",
    "### The values measured by the sensor varied always due to the repeatability uncertainty. We measured this uncertaintly, we found a weight uncertainty of 0,0246 g so a drag force uncertainty of 0,00031 N. \n",
    "\n"
   ]
  },
  {
   "cell_type": "code",
   "execution_count": null,
   "metadata": {},
   "outputs": [],
   "source": []
  }
 ],
 "metadata": {
  "kernelspec": {
   "display_name": "Python 3",
   "language": "python",
   "name": "python3"
  },
  "language_info": {
   "codemirror_mode": {
    "name": "ipython",
    "version": 3
   },
   "file_extension": ".py",
   "mimetype": "text/x-python",
   "name": "python",
   "nbconvert_exporter": "python",
   "pygments_lexer": "ipython3",
   "version": "3.8.10"
  },
  "latex_envs": {
   "LaTeX_envs_menu_present": true,
   "autoclose": false,
   "autocomplete": false,
   "bibliofile": "biblio.bib",
   "cite_by": "apalike",
   "current_citInitial": 1,
   "eqLabelWithNumbers": true,
   "eqNumInitial": 1,
   "hotkeys": {
    "equation": "Ctrl-E",
    "itemize": "Ctrl-I"
   },
   "labels_anchors": false,
   "latex_user_defs": false,
   "report_style_numbering": false,
   "user_envs_cfg": false
  }
 },
 "nbformat": 4,
 "nbformat_minor": 4
}
