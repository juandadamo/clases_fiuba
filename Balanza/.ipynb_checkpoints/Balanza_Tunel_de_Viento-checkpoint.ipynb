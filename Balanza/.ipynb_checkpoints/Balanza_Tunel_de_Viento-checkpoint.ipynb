{
 "cells": [
  {
   "cell_type": "markdown",
   "metadata": {},
   "source": [
    "# Operation of the balance\n",
    "\n",
    "| Former system | New System | \n",
    "|:-:|:-:|\n",
    "|<img src=\"foto_brazo_1.jpg\" width=50%>|<img src=\"foto_sensor.jpg\" width=50%>|\n",
    "---------\n",
    "### The balance works with a gauge sensor [HX711](https://github.com/fluidodinamica/balance_tunel_de_viento/blob/main/IMG-0959.jpg) working by a wheaston bridge. Before any measure, take care that all the screw or bolt of the measurement system are well screwed. This sensor measures a weight which is saved by an arduino card with the [program of acquisition](https://github.com/fluidodinamica/balance_tunel_de_viento/blob/main/_talonnage_masse.ino), we have to plug your computer on the arduino card. It is important to note that this programe work only with the gauge sensor actually fix on the balance, for any other sensor a calibration is mandatory to replace the \"set_scale\" value. To saved the values give by the arduino program, we should use a software called [CoolTerm](https://coolterm.en.lo4d.com/windows). The acquisition frequency of the sensor is around 10 Hz. From the weight values of the sensor we can find the values of drag force using fundamental principle of statics; according to the different forces undergone by the balance, we have the following equation:\n",
    "<p align=\"center\">\n",
    "  <img src=\"https://user-images.githubusercontent.com/104587276/166970391-a733e828-1131-4365-bf0a-195d40c10461.png\"/>\n",
    "<img src=\"https://user-images.githubusercontent.com/104587276/167152004-4aeec315-5941-45a6-8a1c-c2f7d5c24f2c.png\" width=60%>\n",
    "</p>  \n",
    "\n",
    "### With this method, we can measure the drag force of any module for a speed know. For example we can measure the drag force of a basic cylinder for some speed and compared the result with theorics values ([link for the values](https://github.com/fluidodinamica/balance_tunel_de_viento/blob/main/Values%20drag%20force.csv)):\n",
    "<p align=\"center\">\n",
    "  <img src=\"https://user-images.githubusercontent.com/104587276/166973557-18a1a91c-e890-4137-a0f2-bf0f8cc8a3a8.png\"/>\n",
    "</p> \n",
    "\n",
    "### We notice a gap between the theoric and experimental values, this gap can be fix by taking acount the drag force of the module support. Indeed by measuring the drag froce of the module support alone, we find the following sheet :\n",
    "<p align=\"center\">\n",
    "  <img src=\"https://user-images.githubusercontent.com/104587276/166975389-e1400ceb-d474-4373-8ef0-5102f68a3811.png\"/>\n",
    "</p> \n",
    "\n",
    "### Now, by subtracking the weight measured for the module support alone to the weight measured for the module, we find drag force of the cylinder much closer of the theoric values ([link for the values](https://github.com/fluidodinamica/balance_tunel_de_viento/blob/main/Values%20drag%20force%20without%20support.csv)): \n",
    "<p align=\"center\">\n",
    "  <img src=\"https://user-images.githubusercontent.com/104587276/166976281-332447a3-1565-4d8e-b448-cf27f00cc306.png\"/>\n",
    "</p> \n",
    "\n",
    "### The values measure by the sensor varied always due to the repeatability uncertainty. We measured this uncertaintly, we found a weight uncertaintly of 0,0246 g so a drag force uncertaintly of 0,00031 N. \n",
    "\n"
   ]
  },
  {
   "cell_type": "code",
   "execution_count": null,
   "metadata": {},
   "outputs": [],
   "source": []
  }
 ],
 "metadata": {
  "kernelspec": {
   "display_name": "Python 3",
   "language": "python",
   "name": "python3"
  },
  "language_info": {
   "codemirror_mode": {
    "name": "ipython",
    "version": 3
   },
   "file_extension": ".py",
   "mimetype": "text/x-python",
   "name": "python",
   "nbconvert_exporter": "python",
   "pygments_lexer": "ipython3",
   "version": "3.8.10"
  },
  "latex_envs": {
   "LaTeX_envs_menu_present": true,
   "autoclose": false,
   "autocomplete": false,
   "bibliofile": "biblio.bib",
   "cite_by": "apalike",
   "current_citInitial": 1,
   "eqLabelWithNumbers": true,
   "eqNumInitial": 1,
   "hotkeys": {
    "equation": "Ctrl-E",
    "itemize": "Ctrl-I"
   },
   "labels_anchors": false,
   "latex_user_defs": false,
   "report_style_numbering": false,
   "user_envs_cfg": false
  }
 },
 "nbformat": 4,
 "nbformat_minor": 4
}
