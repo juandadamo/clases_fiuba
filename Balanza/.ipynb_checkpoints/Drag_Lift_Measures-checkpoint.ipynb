{
 "cells": [
  {
   "cell_type": "code",
   "execution_count": 64,
   "metadata": {},
   "outputs": [],
   "source": [
    "import pandas as pd\n",
    "import numpy as np\n",
    "import matplotlib.pyplot as plt\n",
    "import datetime"
   ]
  },
  {
   "cell_type": "code",
   "execution_count": 20,
   "metadata": {},
   "outputs": [],
   "source": [
    "A1 = pd.read_csv('/home/juan/Documents/Estudiantes/Simon/balance_tunel_de_viento/Values drag force.csv',\n",
    "                 delimiter=';',header=0,decimal=',')"
   ]
  },
  {
   "cell_type": "code",
   "execution_count": 21,
   "metadata": {},
   "outputs": [
    {
     "data": {
      "text/html": [
       "<div>\n",
       "<style scoped>\n",
       "    .dataframe tbody tr th:only-of-type {\n",
       "        vertical-align: middle;\n",
       "    }\n",
       "\n",
       "    .dataframe tbody tr th {\n",
       "        vertical-align: top;\n",
       "    }\n",
       "\n",
       "    .dataframe thead th {\n",
       "        text-align: right;\n",
       "    }\n",
       "</style>\n",
       "<table border=\"1\" class=\"dataframe\">\n",
       "  <thead>\n",
       "    <tr style=\"text-align: right;\">\n",
       "      <th></th>\n",
       "      <th>v(m/s)</th>\n",
       "      <th>masse mesur� (g)</th>\n",
       "      <th>Urep (g)</th>\n",
       "      <th>Fd mesur� (N)</th>\n",
       "      <th>Urep (N)</th>\n",
       "      <th>Fd th�orique (N)</th>\n",
       "    </tr>\n",
       "  </thead>\n",
       "  <tbody>\n",
       "    <tr>\n",
       "      <th>0</th>\n",
       "      <td>0.00</td>\n",
       "      <td>0.057733</td>\n",
       "      <td>0.004818</td>\n",
       "      <td>0.000729</td>\n",
       "      <td>0.000061</td>\n",
       "      <td>0.000000</td>\n",
       "    </tr>\n",
       "    <tr>\n",
       "      <th>1</th>\n",
       "      <td>0.72</td>\n",
       "      <td>0.246091</td>\n",
       "      <td>0.006550</td>\n",
       "      <td>0.003107</td>\n",
       "      <td>0.000083</td>\n",
       "      <td>0.004763</td>\n",
       "    </tr>\n",
       "    <tr>\n",
       "      <th>2</th>\n",
       "      <td>1.65</td>\n",
       "      <td>2.419059</td>\n",
       "      <td>0.011645</td>\n",
       "      <td>0.030545</td>\n",
       "      <td>0.000147</td>\n",
       "      <td>0.025013</td>\n",
       "    </tr>\n",
       "    <tr>\n",
       "      <th>3</th>\n",
       "      <td>2.57</td>\n",
       "      <td>6.078750</td>\n",
       "      <td>0.019155</td>\n",
       "      <td>0.076755</td>\n",
       "      <td>0.000242</td>\n",
       "      <td>0.060683</td>\n",
       "    </tr>\n",
       "    <tr>\n",
       "      <th>4</th>\n",
       "      <td>3.54</td>\n",
       "      <td>11.589909</td>\n",
       "      <td>0.019232</td>\n",
       "      <td>0.146343</td>\n",
       "      <td>0.000243</td>\n",
       "      <td>0.115134</td>\n",
       "    </tr>\n",
       "    <tr>\n",
       "      <th>5</th>\n",
       "      <td>4.51</td>\n",
       "      <td>17.390421</td>\n",
       "      <td>0.021542</td>\n",
       "      <td>0.219585</td>\n",
       "      <td>0.000272</td>\n",
       "      <td>0.186875</td>\n",
       "    </tr>\n",
       "    <tr>\n",
       "      <th>6</th>\n",
       "      <td>5.02</td>\n",
       "      <td>20.962583</td>\n",
       "      <td>0.158480</td>\n",
       "      <td>0.264690</td>\n",
       "      <td>0.002001</td>\n",
       "      <td>0.231529</td>\n",
       "    </tr>\n",
       "  </tbody>\n",
       "</table>\n",
       "</div>"
      ],
      "text/plain": [
       "   v(m/s)  masse mesur� (g)   Urep (g)  Fd mesur� (N)  Urep (N)  \\\n",
       "0    0.00          0.057733   0.004818       0.000729  0.000061   \n",
       "1    0.72          0.246091   0.006550       0.003107  0.000083   \n",
       "2    1.65          2.419059   0.011645       0.030545  0.000147   \n",
       "3    2.57          6.078750   0.019155       0.076755  0.000242   \n",
       "4    3.54         11.589909   0.019232       0.146343  0.000243   \n",
       "5    4.51         17.390421   0.021542       0.219585  0.000272   \n",
       "6    5.02         20.962583   0.158480       0.264690  0.002001   \n",
       "\n",
       "   Fd th�orique (N)  \n",
       "0          0.000000  \n",
       "1          0.004763  \n",
       "2          0.025013  \n",
       "3          0.060683  \n",
       "4          0.115134  \n",
       "5          0.186875  \n",
       "6          0.231529  "
      ]
     },
     "execution_count": 21,
     "metadata": {},
     "output_type": "execute_result"
    }
   ],
   "source": [
    "A1"
   ]
  },
  {
   "cell_type": "code",
   "execution_count": 39,
   "metadata": {},
   "outputs": [],
   "source": [
    "data1 = A1.to_numpy()\n",
    "#data1.astype('float')\n",
    "veloc,weight1, Urep1,Fd,Urep2,Fdth = data1.T"
   ]
  },
  {
   "cell_type": "code",
   "execution_count": 43,
   "metadata": {},
   "outputs": [
    {
     "data": {
      "text/plain": [
       "array([0.00072917, 0.00310813, 0.03055271, 0.07677461, 0.14638055,\n",
       "       0.21964102, 0.26475743])"
      ]
     },
     "execution_count": 43,
     "metadata": {},
     "output_type": "execute_result"
    }
   ],
   "source": [
    "#fig,ax = plt.subplots(veloc,weight1)\n",
    "(weight1)*12.63e-3"
   ]
  },
  {
   "cell_type": "code",
   "execution_count": 37,
   "metadata": {},
   "outputs": [
    {
     "data": {
      "image/png": "[encoded data removed]",
      "text/plain": [
       "<Figure size 432x288 with 1 Axes>"
      ]
     },
     "metadata": {
      "needs_background": "light"
     },
     "output_type": "display_data"
    }
   ],
   "source": [
    "fig,ax  = plt.subplots()\n",
    "ax.plot(veloc,weight1,'s',linestyle='none')\n",
    "ax.grid()"
   ]
  },
  {
   "cell_type": "code",
   "execution_count": 152,
   "metadata": {},
   "outputs": [],
   "source": [
    "nombre_archivo = 'Test.txt'\n",
    "A2 = open(nombre_archivo,'r')\n",
    "milinea = A2.readline()\n",
    "times,timed, timel, drag, lift = [[],[],[],[],[]]\n",
    "\n",
    "while milinea:\n",
    "    milinea = A2.readline()\n",
    "    #print(milinea)\n",
    "    if milinea!='':\n",
    "        milinea1 = milinea.split('\\t')\n",
    "        milinea2 = milinea1[-1].split(':')\n",
    "        if milinea2[-1] ==' \\n':break\n",
    "        if milinea2[0]=='Drag':\n",
    "            drag.append(float(milinea2[-1].split('\\n')[0]))\n",
    "            time1 = datetime.datetime.strptime((milinea1[0]),'%H:%M:%S.%f')\n",
    "            timed.append(time1.timestamp())\n",
    "        if milinea2[0]=='Lift':\n",
    "            lift.append(float(milinea2[-1].split('\\n')[0]))         \n",
    "            time1 = datetime.datetime.strptime((milinea1[0]),'%H:%M:%S.%f')\n",
    "            timel.append(time1.timestamp())\n",
    "        #print(milinea)\n",
    "        time1 = datetime.datetime.strptime((milinea1[0]),'%H:%M:%S.%f')\n",
    "        times.append(time1.timestamp())\n",
    "A2.close()\n",
    "times = np.asarray(times)\n",
    "times = times - times[0]\n",
    "timel = timel - times[0]\n",
    "timed = timed - times[0]\n",
    "\n",
    "out_drag = np.vstack((timed,drag))\n",
    "out_lift = np.vstack((timel,lift))\n",
    "np.save()"
   ]
  },
  {
   "cell_type": "code",
   "execution_count": 75,
   "metadata": {},
   "outputs": [],
   "source": []
  },
  {
   "cell_type": "code",
   "execution_count": null,
   "metadata": {},
   "outputs": [],
   "source": []
  }
 ],
 "metadata": {
  "kernelspec": {
   "display_name": "Python 3",
   "language": "python",
   "name": "python3"
  },
  "language_info": {
   "codemirror_mode": {
    "name": "ipython",
    "version": 3
   },
   "file_extension": ".py",
   "mimetype": "text/x-python",
   "name": "python",
   "nbconvert_exporter": "python",
   "pygments_lexer": "ipython3",
   "version": "3.8.10"
  },
  "latex_envs": {
   "LaTeX_envs_menu_present": true,
   "autoclose": false,
   "autocomplete": false,
   "bibliofile": "biblio.bib",
   "cite_by": "apalike",
   "current_citInitial": 1,
   "eqLabelWithNumbers": true,
   "eqNumInitial": 1,
   "hotkeys": {
    "equation": "Ctrl-E",
    "itemize": "Ctrl-I"
   },
   "labels_anchors": false,
   "latex_user_defs": false,
   "report_style_numbering": false,
   "user_envs_cfg": false
  }
 },
 "nbformat": 4,
 "nbformat_minor": 4
}
