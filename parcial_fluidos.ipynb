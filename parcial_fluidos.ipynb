{
 "cells": [
  {
   "cell_type": "code",
   "execution_count": 35,
   "metadata": {},
   "outputs": [],
   "source": [
    "import numpy as np\n",
    "import fluids\n",
    "import CoolProp as cp\n",
    "import sympy as sp\n",
    "from IPython.display import Latex"
   ]
  },
  {
   "cell_type": "code",
   "execution_count": 36,
   "metadata": {},
   "outputs": [],
   "source": [
    "#Datos\n",
    "\n",
    "rho_l = 1000\n",
    "mu_l = 1e-3\n",
    "g = 9.8\n",
    "sig_l  = 0.07\n",
    "H = 1\n",
    "rho_g = 1.2\n",
    "Pa = 101.325e3\n",
    "Pi = 111145\n"
   ]
  },
  {
   "cell_type": "code",
   "execution_count": 48,
   "metadata": {},
   "outputs": [
    {
     "data": {
      "text/latex": [
       "Volumen burbuja $V_b(z=-H)=11.49$ cm$^3$"
      ],
      "text/plain": [
       "<IPython.core.display.Latex object>"
      ]
     },
     "metadata": {},
     "output_type": "display_data"
    },
    {
     "data": {
      "text/latex": [
       "Volumen burbuja al llegar $V_b(z=0)=0.10$ $\\mu$m$^3$"
      ],
      "text/plain": [
       "<IPython.core.display.Latex object>"
      ]
     },
     "metadata": {},
     "output_type": "display_data"
    }
   ],
   "source": [
    "deltaP = Pi-(Pa+rho_l*H*g)\n",
    "R_burbuja = 4*sig_l / deltaP\n",
    "Vol_burbuja = 4*np.pi/3*R_burbuja**3\n",
    "display(Latex(f'Volumen burbuja $V_b(z=-H)={Vol_burbuja*1e6:.2f}$ cm$^3$'))\n",
    "deltaP2 = Pi-Pa\n",
    "R_burbuja2 = 4*sig_l / deltaP2\n",
    "Vol_burbuja2 = 4*np.pi/3*R_burbuja2**3\n",
    "display(Latex(f'Volumen burbuja al llegar $V_b(z=0)={Vol_burbuja2*1e12:.2f}$ $\\mu$m$^3$'))"
   ]
  },
  {
   "cell_type": "code",
   "execution_count": 161,
   "metadata": {},
   "outputs": [],
   "source": [
    "F_flotacion = (rho_l - rho_g) * Vol_burbuja*g\n",
    "\n",
    "U = sp.Symbol('U')\n",
    "A1 = 6*mu_l*R_burbuja*np.pi\n",
    "F_arrastre = -A1*U"
   ]
  },
  {
   "cell_type": "code",
   "execution_count": 162,
   "metadata": {},
   "outputs": [
    {
     "data": {
      "text/latex": [
       "$V_{\\lim}=426.33$m/s"
      ],
      "text/plain": [
       "<IPython.core.display.Latex object>"
      ]
     },
     "metadata": {},
     "output_type": "display_data"
    }
   ],
   "source": [
    "U_lim = sp.solve(F_arrastre+F_flotacion,'U')[0]\n",
    "\n",
    "display(Latex(f'$V_{{\\lim}}={U_lim:.2f}$m/s'))"
   ]
  },
  {
   "cell_type": "code",
   "execution_count": 163,
   "metadata": {},
   "outputs": [
    {
     "data": {
      "text/plain": [
       "1.149404032193386e-05"
      ]
     },
     "execution_count": 163,
     "metadata": {},
     "output_type": "execute_result"
    }
   ],
   "source": [
    "Vol_burbuja"
   ]
  },
  {
   "cell_type": "code",
   "execution_count": 164,
   "metadata": {},
   "outputs": [],
   "source": [
    "m, A, t, Ff, h = sp.symbols('m A t F_f h')\n",
    "z = sp.Function('z')"
   ]
  },
  {
   "cell_type": "code",
   "execution_count": 191,
   "metadata": {},
   "outputs": [],
   "source": [
    "equation = sp.Derivative(m*z(t),'t',2,evaluate=False)+A*sp.Derivative(z(t),'t')-Ff\n",
    "sol_1 = sp.dsolve(equation).args[1]\n",
    "C2a = sp.solve(sp.diff(sol_1,'t').subs('t',0),'C2')[0]\n",
    "C1a = sp.solve(sol_1.subs('t',0).subs('C2',C2a)+h,'C1')[0]\n",
    "z_t = sol_1.subs('C2',C2a).subs('C1',C1a)\n",
    "u_t = sp.diff(z_t,'t')\n"
   ]
  },
  {
   "cell_type": "code",
   "execution_count": 192,
   "metadata": {},
   "outputs": [],
   "source": [
    "t_final = -np.log(0.01)*Vol_burbuja*rho_g/A.subs('A',A1)"
   ]
  },
  {
   "cell_type": "code",
   "execution_count": 193,
   "metadata": {},
   "outputs": [
    {
     "data": {
      "text/latex": [
       "$T_{final}=0.24$s"
      ],
      "text/plain": [
       "<IPython.core.display.Latex object>"
      ]
     },
     "metadata": {},
     "output_type": "display_data"
    },
    {
     "data": {
      "text/latex": [
       "$U_{lim}=426.33$m/s"
      ],
      "text/plain": [
       "<IPython.core.display.Latex object>"
      ]
     },
     "metadata": {},
     "output_type": "display_data"
    }
   ],
   "source": [
    "display(Latex(f'$T_{{final}}={t_final:.2f}$s'))\n",
    "#u_lim = u_t.subs('F_f',F_flotacion).subs('A',A1).subs('m',Vol_burbuja*rho_g).subs('t',t_final)\n",
    "display(Latex(f'$U_{{lim}}={U_lim:.2f}$m/s'))"
   ]
  },
  {
   "cell_type": "code",
   "execution_count": null,
   "metadata": {},
   "outputs": [],
   "source": []
  }
 ],
 "metadata": {
  "kernelspec": {
   "display_name": "Python 3",
   "language": "python",
   "name": "python3"
  },
  "language_info": {
   "codemirror_mode": {
    "name": "ipython",
    "version": 3
   },
   "file_extension": ".py",
   "mimetype": "text/x-python",
   "name": "python",
   "nbconvert_exporter": "python",
   "pygments_lexer": "ipython3",
   "version": "3.8.10"
  },
  "latex_envs": {
   "LaTeX_envs_menu_present": true,
   "autoclose": false,
   "autocomplete": true,
   "bibliofile": "biblio.bib",
   "cite_by": "apalike",
   "current_citInitial": 1,
   "eqLabelWithNumbers": true,
   "eqNumInitial": 1,
   "hotkeys": {
    "equation": "Ctrl-E",
    "itemize": "Ctrl-I"
   },
   "labels_anchors": false,
   "latex_user_defs": false,
   "report_style_numbering": false,
   "user_envs_cfg": false
  }
 },
 "nbformat": 4,
 "nbformat_minor": 4
}
