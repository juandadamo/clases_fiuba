{
 "cells": [
  {
   "cell_type": "code",
   "execution_count": 18,
   "metadata": {},
   "outputs": [],
   "source": [
    "import numpy as np # linear algebra\n",
    "import ht,pint\n",
    "import matplotlib.pyplot as plt\n",
    "from IPython.display import  Latex,display\n",
    "import CoolProp as cp\n",
    "ureg = pint.UnitRegistry()#(fmt_locale='es_ES')\n",
    "import pandas as pd\n"
   ]
  },
  {
   "cell_type": "code",
   "execution_count": 19,
   "metadata": {},
   "outputs": [],
   "source": [
    "def Nu_sph(Re, Pr,mu_w,mu_0):\n",
    "    Nu = (0.4*Re**0.5+0.06*Re**(2/3))*Pr**0.4*(mu_w/mu_0)**(1/4)\n",
    "    return Nu"
   ]
  },
  {
   "cell_type": "code",
   "execution_count": 20,
   "metadata": {},
   "outputs": [],
   "source": [
    "densidad_humano = 1025*ureg.kg/ureg.m**3\n",
    "peso = 60*ureg.kg\n",
    "volumen = peso/densidad_humano\n",
    "radio = (volumen*3/4/np.pi)**(1/3)\n",
    "Diametro_eq = radio*2\n",
    "Area_eq = 4*np.pi*radio**2"
   ]
  },
  {
   "cell_type": "code",
   "execution_count": 21,
   "metadata": {},
   "outputs": [
    {
     "data": {
      "text/latex": [
       "Diámetro equivalente, $D_{eq}$=0.48 m"
      ],
      "text/plain": [
       "<IPython.core.display.Latex object>"
      ]
     },
     "metadata": {},
     "output_type": "display_data"
    }
   ],
   "source": [
    "display(Latex(f'Diámetro equivalente, $D_{{eq}}$={Diametro_eq:~.2f}'))"
   ]
  },
  {
   "cell_type": "code",
   "execution_count": 29,
   "metadata": {},
   "outputs": [],
   "source": [
    "qv = 150*ureg.watt\n",
    "Veloc_1 = 16*ureg.km/ureg.hour\n",
    "T_1 = -18+273\n",
    "T_inf1 = (T_1)*ureg.degK\n"
   ]
  },
  {
   "cell_type": "code",
   "execution_count": 30,
   "metadata": {},
   "outputs": [],
   "source": [
    "cp_1 = cp.CoolProp.PropsSI('C','T',T_1,'P',101.325e3,'Air')*ureg.joule/ureg.degK/ureg.kg\n",
    "rho_1 = cp.CoolProp.PropsSI('D','T',T_1,'P',101.325e3,'Air')*ureg.kg/ureg.m**3\n",
    "mu_1 = cp.CoolProp.PropsSI('V','T',T_1,'P',101.325e3,'Air')*ureg.kg/ureg.m/ureg.s\n",
    "Pr_1 = cp.CoolProp.PropsSI('Prandtl','T',T_1,'P',101.325e3,'Air')\n",
    "k_1 = cp.CoolProp.PropsSI('L','T',T_1,'P',101.325e3,'Air')*ureg.watt/ureg.meter/ureg.degK\n",
    "nu_1 = mu_1/rho_1\n",
    "T_w = T_1+10\n",
    "mu_w = cp.CoolProp.PropsSI('V','T',T_w,'P',101.325e3,'Air')*ureg.kg/ureg.m/ureg.s"
   ]
  },
  {
   "cell_type": "code",
   "execution_count": 31,
   "metadata": {},
   "outputs": [
    {
     "data": {
      "text/latex": [
       "Re=182024"
      ],
      "text/plain": [
       "<IPython.core.display.Latex object>"
      ]
     },
     "metadata": {},
     "output_type": "display_data"
    },
    {
     "data": {
      "text/latex": [
       "Nu=320"
      ],
      "text/plain": [
       "<IPython.core.display.Latex object>"
      ]
     },
     "metadata": {},
     "output_type": "display_data"
    },
    {
     "data": {
      "text/latex": [
       "h_c=15.2 W / K / m ** 2"
      ],
      "text/plain": [
       "<IPython.core.display.Latex object>"
      ]
     },
     "metadata": {},
     "output_type": "display_data"
    }
   ],
   "source": [
    "Re_sph1 = Diametro_eq*Veloc_1/nu_1\n",
    "Re_sph1 = Re_sph1.to_reduced_units().magnitude\n",
    "display(Latex(f'Re={Re_sph1:.0f}'))\n",
    "Nu_sph1 = (Nu_sph(Re_sph1,Pr_1,mu_w,mu_1)).to_reduced_units().magnitude\n",
    "display(Latex(f'Nu={Nu_sph1:.0f}'))\n",
    "hc_sph1 = Nu_sph1*k_1/Diametro_eq\n",
    "display(Latex(f'h_c={hc_sph1:~.1f}'))"
   ]
  },
  {
   "cell_type": "markdown",
   "metadata": {},
   "source": []
  },
  {
   "cell_type": "markdown",
   "metadata": {},
   "source": [
    "$h_c A (T_{piel1} - T_1) = q$"
   ]
  },
  {
   "cell_type": "code",
   "execution_count": 32,
   "metadata": {},
   "outputs": [
    {
     "data": {
      "text/latex": [
       "Temperatura de la piel= -4.7 °C"
      ],
      "text/plain": [
       "<IPython.core.display.Latex object>"
      ]
     },
     "metadata": {},
     "output_type": "display_data"
    }
   ],
   "source": [
    "T_piel1 = qv/hc_sph1/Area_eq+T_inf1\n",
    "T_piel1 = T_piel1.to('degC')\n",
    "display(Latex(f'Temperatura de la piel= {T_piel1:~.1f}'))"
   ]
  },
  {
   "cell_type": "code",
   "execution_count": 33,
   "metadata": {},
   "outputs": [
    {
     "data": {
      "text/latex": [
       "Temperatura Sensación térmica= -30.4 °C"
      ],
      "text/plain": [
       "<IPython.core.display.Latex object>"
      ]
     },
     "metadata": {},
     "output_type": "display_data"
    }
   ],
   "source": [
    "h_cn = 8*ureg.watt/ureg.m**2/ureg.kelvin\n",
    "\n",
    "T_ST1 =  T_piel1-qv/h_cn/Area_eq\n",
    "T_ST1 =  T_ST1.to('degC')\n",
    "display(Latex(f'Temperatura Sensación térmica= {T_ST1:~.1f}'))"
   ]
  },
  {
   "cell_type": "code",
   "execution_count": 34,
   "metadata": {},
   "outputs": [],
   "source": [
    "def watt_st(veloc,Taire):\n",
    "    return (12.1452+11.62*veloc**0.5-1.16*veloc)*(33-Taire)\n",
    "\n",
    "def temp_st(F,mph):\n",
    "    return (35.74 + .6215*F - 35.75*mph**0.16) + 0.4275*F*mph**0.16\n"
   ]
  },
  {
   "cell_type": "code",
   "execution_count": 36,
   "metadata": {},
   "outputs": [],
   "source": [
    "velocidad_1 = Veloc_1.to('mph').magnitude\n",
    "temperatura_1 = T_inf1.to('degF').magnitude\n",
    "T_st_us  = (temp_st(temperatura_1,velocidad_1)+460)*ureg.rankine\n",
    "T_st_us1 = T_st_us.to('degC').magnitude"
   ]
  },
  {
   "cell_type": "code",
   "execution_count": 37,
   "metadata": {},
   "outputs": [
    {
     "data": {
      "text/latex": [
       "Temperatura sensación térmica= -26.9C"
      ],
      "text/plain": [
       "<IPython.core.display.Latex object>"
      ]
     },
     "metadata": {},
     "output_type": "display_data"
    }
   ],
   "source": [
    "display(Latex(f'Temperatura sensación térmica= {T_st_us1:.1f}C'))"
   ]
  },
  {
   "cell_type": "code",
   "execution_count": 38,
   "metadata": {},
   "outputs": [],
   "source": [
    "data_excel = pd.read_excel('sensacion_termica.xls',skiprows=0)\n",
    "data_meteo = data_excel.to_numpy()"
   ]
  },
  {
   "cell_type": "code",
   "execution_count": 39,
   "metadata": {},
   "outputs": [],
   "source": [
    "temps = data_meteo[3,2:13]  #temperaturas para 12 km/h\n",
    "temperaturas_base = data_meteo[1,2:13]\n"
   ]
  },
  {
   "cell_type": "code",
   "execution_count": 53,
   "metadata": {},
   "outputs": [],
   "source": [
    "def temp_st_calc(veloc,T1):\n",
    "    densidad_humano = 1025*ureg.kg/ureg.m**3\n",
    "    peso = 60*ureg.kg\n",
    "    volumen = peso/densidad_humano\n",
    "    radio = (volumen*3/4)**(1/3)\n",
    "    Diametro_eq = radio*2\n",
    "    Area_eq = 4*np.pi*radio**2\n",
    "    T_1 = T1+273\n",
    "    T_inf1 = (T_1)*ureg.degK\n",
    "    cp_1 = cp.CoolProp.PropsSI('C','T',T_1,'P',101.325e3,'Air')*ureg.joule/ureg.degK/ureg.kg\n",
    "    rho_1 = cp.CoolProp.PropsSI('D','T',T_1,'P',101.325e3,'Air')*ureg.kg/ureg.m**3\n",
    "    mu_1 = cp.CoolProp.PropsSI('V','T',T_1,'P',101.325e3,'Air')*ureg.kg/ureg.m/ureg.s\n",
    "    Pr_1 = cp.CoolProp.PropsSI('Prandtl','T',T_1,'P',101.325e3,'Air')\n",
    "    k_1 = cp.CoolProp.PropsSI('L','T',T_1,'P',101.325e3,'Air')*ureg.watt/ureg.meter/ureg.degK\n",
    "    nu_1 = mu_1/rho_1\n",
    "    T_w = T_1+10\n",
    "    mu_w = cp.CoolProp.PropsSI('V','T',T_w,'P',101.325e3,'Air')*ureg.kg/ureg.m/ureg.s\n",
    "    \n",
    "    Veloc_1 = veloc*ureg.kilometer_per_hour\n",
    "    Re_sph1 = Diametro_eq*Veloc_1/nu_1\n",
    "    Re_sph1 = Re_sph1.to_reduced_units().magnitude\n",
    "    Nu_sph1 = (Nu_sph(Re_sph1,Pr_1,mu_w,mu_1)).to_reduced_units().magnitude\n",
    "    hc_sph1 = Nu_sph1*k_1/Diametro_eq\n",
    "    T_piel1 = qv/hc_sph1/Area_eq+T_inf1\n",
    "    T_piel1 = T_piel1.to('degC')\n",
    "    h_cn = 8*ureg.watt/ureg.m**2/ureg.kelvin\n",
    "\n",
    "    T_ST1 =  T_piel1-qv/h_cn/Area_eq\n",
    "    T_ST1 =  T_ST1.to('degC')\n",
    "    \n",
    "    return T_ST1\n",
    "    "
   ]
  },
  {
   "cell_type": "code",
   "execution_count": 54,
   "metadata": {},
   "outputs": [],
   "source": [
    "veloc = 12 #km/h\n",
    "temps_calc = np.tile(np.zeros_like(temperaturas_base),(2,1))\n",
    "for i,temp_i in enumerate(temperaturas_base):\n",
    "    temps_calc[0,i] = temp_st_calc(veloc,temp_i).magnitude\n",
    "    velocidad_1 = (veloc*ureg.kilometer_per_hour).to('mph').magnitude\n",
    "    temperatura_1 = ((temp_i+273)*ureg.kelvin).to('degF').magnitude\n",
    "    T_st_us  = (temp_st(temperatura_1,velocidad_1)+460)*ureg.rankine\n",
    "    T_st_us1 = T_st_us.to('degC').magnitude\n",
    "    temps_calc[1,i]= (T_st_us1)"
   ]
  },
  {
   "cell_type": "code",
   "execution_count": 55,
   "metadata": {},
   "outputs": [
    {
     "data": {
      "text/plain": [
       "<matplotlib.legend.Legend at 0x7facf34ea310>"
      ]
     },
     "execution_count": 55,
     "metadata": {},
     "output_type": "execute_result"
    },
    {
     "data": {
      "image/png": "[encoded data removed]",
      "text/plain": [
       "<Figure size 864x864 with 1 Axes>"
      ]
     },
     "metadata": {
      "needs_background": "light"
     },
     "output_type": "display_data"
    }
   ],
   "source": [
    "fig,ax = plt.subplots(figsize=(12,12))\n",
    "ax.plot(temperaturas_base,temps_calc[0],'o',label='NWS')\n",
    "ax.plot(temperaturas_base,temps_calc[1],'s',label='conveccion')\n",
    "ax.plot(temperaturas_base,temps,'v',label='SMN')\n",
    "ax.legend()"
   ]
  },
  {
   "cell_type": "code",
   "execution_count": 45,
   "metadata": {},
   "outputs": [],
   "source": [
    "temps = data_meteo[3,2:13]  #temperaturas para 12 km/h\n",
    "temperaturas_base = data_meteo[1,2:13]"
   ]
  },
  {
   "cell_type": "code",
   "execution_count": 56,
   "metadata": {},
   "outputs": [],
   "source": [
    "temps_st = data_meteo[1:,6]\n",
    "velocs = data_meteo[1:,1]"
   ]
  },
  {
   "cell_type": "code",
   "execution_count": 59,
   "metadata": {},
   "outputs": [],
   "source": [
    "temps_calc = np.tile(np.zeros_like(velocs),(2,1))\n",
    "for i,veloc in enumerate(velocs):\n",
    "    temp_i = -0\n",
    "    temps_calc[0,i] = temp_st_calc(veloc,temp_i).magnitude\n",
    "    velocidad_1 = (veloc*ureg.kilometer_per_hour).to('mph').magnitude\n",
    "    temperatura_1 = ((temp_i+273)*ureg.kelvin).to('degF').magnitude\n",
    "    T_st_us  = (temp_st(temperatura_1,velocidad_1)+460)*ureg.rankine\n",
    "    T_st_us1 = T_st_us.to('degC').magnitude\n",
    "    temps_calc[1,i]= (T_st_us1)"
   ]
  },
  {
   "cell_type": "code",
   "execution_count": 60,
   "metadata": {},
   "outputs": [
    {
     "data": {
      "text/plain": [
       "<matplotlib.legend.Legend at 0x7faceae6df40>"
      ]
     },
     "execution_count": 60,
     "metadata": {},
     "output_type": "execute_result"
    },
    {
     "data": {
      "image/png": "[encoded data removed]",
      "text/plain": [
       "<Figure size 720x720 with 1 Axes>"
      ]
     },
     "metadata": {
      "needs_background": "light"
     },
     "output_type": "display_data"
    }
   ],
   "source": [
    "fig,ax = plt.subplots(figsize=(10,10))\n",
    "ax.plot(velocs,temps_calc[0],'o',label='NWS')\n",
    "ax.plot(velocs,temps_calc[1],'s',label='conveccion')\n",
    "ax.plot(velocs,temps_st,'v',label='SMN')\n",
    "ax.legend()"
   ]
  },
  {
   "cell_type": "code",
   "execution_count": null,
   "metadata": {},
   "outputs": [],
   "source": []
  },
  {
   "cell_type": "code",
   "execution_count": null,
   "metadata": {},
   "outputs": [],
   "source": []
  }
 ],
 "metadata": {
  "kernelspec": {
   "display_name": "Python 3",
   "language": "python",
   "name": "python3"
  },
  "language_info": {
   "codemirror_mode": {
    "name": "ipython",
    "version": 3
   },
   "file_extension": ".py",
   "mimetype": "text/x-python",
   "name": "python",
   "nbconvert_exporter": "python",
   "pygments_lexer": "ipython3",
   "version": "3.8.5"
  },
  "latex_envs": {
   "LaTeX_envs_menu_present": true,
   "autoclose": false,
   "autocomplete": true,
   "bibliofile": "biblio.bib",
   "cite_by": "apalike",
   "current_citInitial": 1,
   "eqLabelWithNumbers": true,
   "eqNumInitial": 1,
   "hotkeys": {
    "equation": "Ctrl-E",
    "itemize": "Ctrl-I"
   },
   "labels_anchors": false,
   "latex_user_defs": false,
   "report_style_numbering": false,
   "user_envs_cfg": false
  }
 },
 "nbformat": 4,
 "nbformat_minor": 2
}
