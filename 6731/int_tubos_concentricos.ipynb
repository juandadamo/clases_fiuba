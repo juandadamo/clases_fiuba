{
 "cells": [
  {
   "cell_type": "code",
   "execution_count": 1,
   "id": "61c7d36d",
   "metadata": {
    "_kg_hide-input": true,
    "_kg_hide-output": true,
    "papermill": {
     "duration": 12.40044,
     "end_time": "2021-05-30T21:24:18.188788",
     "exception": false,
     "start_time": "2021-05-30T21:24:05.788348",
     "status": "completed"
    },
    "tags": []
   },
   "outputs": [],
   "source": [
    "%%capture\n",
    "!pip install ht CoolProp fluids xlrd xlwt"
   ]
  },
  {
   "cell_type": "code",
   "execution_count": 1,
   "id": "693fee3f",
   "metadata": {
    "_cell_guid": "b1076dfc-b9ad-4769-8c92-a6c4dae69d19",
    "_kg_hide-input": true,
    "_kg_hide-output": true,
    "_uuid": "8f2839f25d086af736a60e9eeb907d3b93b6e0e5",
    "papermill": {
     "duration": 0.12376,
     "end_time": "2021-05-30T21:24:18.340027",
     "exception": false,
     "start_time": "2021-05-30T21:24:18.216267",
     "status": "completed"
    },
    "tags": []
   },
   "outputs": [],
   "source": [
    "import numpy as np # linear algebra\n",
    "import pandas as pd # data processing, CSV file I/O (e.g. pd.read_csv)\n",
    "import xlwt as xw\n",
    "lista_data = []\n",
    "import matplotlib.pyplot as plt\n",
    "import ht,fluids,os,socket\n",
    "import CoolProp as cp\n",
    "from IPython.display import Latex\n",
    "from prop_fluidos_intercambiadores import fluido_intercambiador\n"
   ]
  },
  {
   "cell_type": "markdown",
   "id": "863fe9ef-da18-4eef-b77c-44ac99de79d8",
   "metadata": {},
   "source": [
    "\n",
    "Determinar la superficie de intercambio de calor y el número de secciones necesarias de un intercambiador de calor de agua-agua del tipo tubos concéntricos (tubo metido en otro). El agua calefactora se mueve por el tubo interior de acero ($\\lambda=$\\SI{145}{\\watt /\\meter\\degreeCelsius}) cuyo diámetro es $d_2/d_1=32$mm. La temperatura a la entrada del flujo másico de 2130kg/h que circula en ese circuito es de 95$^\\circ$C \n",
    "El agua que se calienta circula en contracorriente por el canal anular entre los tubos y se calienta desde 15$^\\circ$C hasta 45$^\\circ$C. El diámetro interior del tubo es 48 mm. El flujo másico es de 3200 kg/h. Por razones de espacio la longitud máxima de una sección es de $1.9$ mts.\n",
    "Como hipótesis se pueden ignorar las pérdidas de calor a través de la superficie externa del intercambiador."
   ]
  },
  {
   "cell_type": "markdown",
   "id": "92643a95",
   "metadata": {
    "papermill": {
     "duration": 0.026188,
     "end_time": "2021-05-30T21:24:18.392866",
     "exception": false,
     "start_time": "2021-05-30T21:24:18.366678",
     "status": "completed"
    },
    "tags": []
   },
   "source": [
    "## Intercambiador de Calor\n",
    "#### HIPOTESIS DE CALCULO:\n",
    "\n",
    "\n",
    "1. Intercambiador de calor a contracorriente de tubos concéntricos\n"
   ]
  },
  {
   "cell_type": "code",
   "execution_count": 2,
   "id": "0fcfde2a",
   "metadata": {
    "papermill": {
     "duration": 0.040034,
     "end_time": "2021-05-30T21:24:18.511413",
     "exception": false,
     "start_time": "2021-05-30T21:24:18.471379",
     "status": "completed"
    },
    "tags": []
   },
   "outputs": [],
   "source": [
    "#constantes de calculo\n",
    "g = 9.8; cal2joule = 4.184\n",
    "###########################################################\n",
    "#           DATOS  del Intercambiador  \n",
    "###########################################################\n",
    "# Definición de Flujos\n",
    "#Crudo = fluido_intercambiador('Crudo') \n",
    "#Glicol = fluido_intercambiador('Glycol')\n",
    "# Temperaturas\n",
    "T_agua1_e = 90 ##(al menos Twat + 20)\n",
    "\n",
    "\n",
    "T_agua2_e = 15\n",
    "T_agua2_s = 45\n",
    "Caudal_agua1 = 2130*1/3600 #kg/s\n",
    "Caudal_agua2 = 3200/3600 #kg/s\n",
    "\n",
    "\n",
    "\n",
    "D_interno1 = 32e-3\n",
    "D_interno2 = 35e-3\n",
    "D_externo = 48e-3\n",
    "espesor_tubo = (D_interno2-D_interno1)/2\n",
    "Longitud = 1.9\n",
    "\n",
    "# Propiedades Físicas\n",
    "T_agua2_media = (T_agua1_e+T_agua2_e)/2\n",
    "T_agua1_media = (T_agua1_e+T_agua2_e)/2  # en caso de faltar un temperatura, tomar de la otra corriente\n",
    "\n",
    "\n",
    "Area_agua1 = (D_externo**2-(D_interno1+espesor_tubo)**2)*np.pi/4\n",
    "Area_agua2 = D_interno1**2*np.pi/4\n",
    "\n",
    "material = ht.nearest_material('steel')\n",
    "k_acero = ht.k_material(material)"
   ]
  },
  {
   "cell_type": "code",
   "execution_count": 3,
   "id": "7ed9e7fa-3f61-489d-8444-9054240082c5",
   "metadata": {},
   "outputs": [],
   "source": [
    "\n",
    "Cp_agua2 = cp.CoolProp.PropsSI('C','T',273+T_agua2_media,'P',101325,'Water')\n",
    "Cp_agua1= cp.CoolProp.PropsSI('C','T',273+T_agua1_media,'P',101325,'Water')\n",
    "\n",
    "rho_agua1 = cp.CoolProp.PropsSI('D','T',273+ T_agua1_media,'P',101325,'Water')\n",
    "rho_agua2 = cp.CoolProp.PropsSI('D','T',273+ T_agua2_media,'P',101325,'Water')\n",
    "k_agua1 = cp.CoolProp.PropsSI('L','T',273+ T_agua1_media,'P',101325,'Water')\n",
    "mu_agua1 = cp.CoolProp.PropsSI('V','T',273+T_agua1_media,'P',101325,'Water')\n",
    "\n",
    "k_agua2 = cp.CoolProp.PropsSI('L','T',273+ T_agua2_media,'P',101325,'Water')\n",
    "mu_agua2 = cp.CoolProp.PropsSI('V','T',273+T_agua2_media,'P',101325,'Water')\n",
    "\n",
    "nu_agua2 = mu_agua2/rho_agua2\n",
    "\n",
    "\n",
    "\n",
    "nu_agua1 = mu_agua1 / rho_agua1\n",
    "\n",
    "a_agua2 = k_agua2/(rho_agua2*Cp_agua2)    #difusividad térmica\n",
    "a_agua1 = k_agua1/(rho_agua1*Cp_agua1)\n",
    "\n",
    "Pr_agua1 = nu_agua1/a_agua1\n",
    "Pr_agua2 = nu_agua2/a_agua2\n"
   ]
  },
  {
   "cell_type": "code",
   "execution_count": 4,
   "id": "6dc9c2fc-a63f-4ae7-9554-1887f420d4d5",
   "metadata": {},
   "outputs": [],
   "source": [
    "Q2 = Caudal_agua2*Cp_agua2*(T_agua2_s-T_agua2_e)\n",
    "\n",
    "Q1=Q2\n",
    "T_agua1_s = T_agua1_e - Q1/Caudal_agua1/Cp_agua1"
   ]
  },
  {
   "cell_type": "code",
   "execution_count": null,
   "id": "57210f80-3d93-4235-b008-a3af3cd9e871",
   "metadata": {},
   "outputs": [],
   "source": []
  },
  {
   "cell_type": "code",
   "execution_count": 5,
   "id": "266aaa5b-2da6-4c82-b8c1-2153abfa786f",
   "metadata": {},
   "outputs": [],
   "source": [
    "Veloc_agua1= Caudal_agua1/Area_agua1/rho_agua1\n",
    "Veloc_agua2 = Caudal_agua2/Area_agua2/rho_agua2\n",
    "\n",
    "\n",
    "Re_agua2 = Veloc_agua2 * D_interno1 / nu_agua2\n",
    "D_agua1 = D_externo - D_interno1 - espesor_tubo\n",
    "D_agua2 = D_interno1\n",
    "Re_agua1 = Veloc_agua1 * D_agua1 / nu_agua1\n",
    "\n",
    "Re_agua1,Re_agua2\n",
    "\n",
    "\n",
    "#Nu_aceite = 3.66\n",
    "Nu_agua2 = ht.Nu_conv_internal(Re_agua2,Pr_agua2)\n",
    "Nu_agua1 = ht.Nu_conv_internal(Re_agua1,Pr_agua1)\n",
    "\n",
    "h_agua2 = Nu_agua2 * k_agua2 / D_agua2\n",
    "h_agua1 = Nu_agua1 * k_agua1 / D_agua1"
   ]
  },
  {
   "cell_type": "code",
   "execution_count": 59,
   "id": "66b79e3e-83af-4b69-b946-1113a2a4dca4",
   "metadata": {},
   "outputs": [
    {
     "data": {
      "text/plain": [
       "(14.499999999999998, 0.6432122621860747)"
      ]
     },
     "execution_count": 59,
     "metadata": {},
     "output_type": "execute_result"
    }
   ],
   "source": [
    "D_agua1*1e3,k_agua1"
   ]
  },
  {
   "cell_type": "code",
   "execution_count": 56,
   "id": "30fdf75b-faa3-496c-becf-0bb5d92aa32f",
   "metadata": {},
   "outputs": [
    {
     "name": "stdout",
     "output_type": "stream",
     "text": [
      "101.58659797027087 313.1478265168658\n"
     ]
    }
   ],
   "source": [
    "Re_agua1,Re_agua2\n",
    "Veloc_agua1,Veloc_agua2\n",
    "print(Nu_agua1,Nu_agua2)"
   ]
  },
  {
   "cell_type": "code",
   "execution_count": 7,
   "id": "b925fe03-3285-46cd-9619-11df418ff314",
   "metadata": {},
   "outputs": [
    {
     "data": {
      "text/plain": [
       "0.006934693841037895"
      ]
     },
     "execution_count": 7,
     "metadata": {},
     "output_type": "execute_result"
    }
   ],
   "source": [
    "\n",
    "\n",
    "np.log((D_interno1+espesor_tubo)/D_interno1)/k_acero \n",
    "\n",
    "\n",
    "1/ (h_agua1*D_interno1)"
   ]
  },
  {
   "cell_type": "code",
   "execution_count": 17,
   "id": "4daea472-b0a2-469e-928c-f80683a4434e",
   "metadata": {},
   "outputs": [
    {
     "data": {
      "text/plain": [
       "(6294.391309142678, 4506.327275051396)"
      ]
     },
     "execution_count": 17,
     "metadata": {},
     "output_type": "execute_result"
    }
   ],
   "source": [
    "h_agua2,h_agua1"
   ]
  },
  {
   "cell_type": "code",
   "execution_count": 23,
   "id": "f5fca669-d090-4992-8749-bacbf802165c",
   "metadata": {},
   "outputs": [
    {
     "data": {
      "text/latex": [
       "$U=1223.6$ watt/K"
      ],
      "text/plain": [
       "<IPython.core.display.Latex object>"
      ]
     },
     "metadata": {},
     "output_type": "display_data"
    }
   ],
   "source": [
    "k_acero = ht.k_material('stainless steel')\n",
    "#espesor_tubo = 1e-3\n",
    "\n",
    "Ulimpio_d = (1/ (h_agua2*D_interno1) + np.log((D_interno1+2*espesor_tubo)/D_interno1)/k_acero + 1/(h_agua1*(D_agua1)))**-1\n",
    "#U_calc = 1 / (1/Ulimpio + Rf *(1+Tubo_dext/Tubo_dint))\n",
    "Ulimpio = Ulimpio_d /D_interno1\n",
    "display(Latex(f'$U={Ulimpio:.1f}$ watt/K'))"
   ]
  },
  {
   "cell_type": "markdown",
   "id": "53cd83cc-7b3b-493e-82ef-862833461639",
   "metadata": {},
   "source": [
    "[datos](https://material-properties.org/es/combustible-diesel-densidad-punto-de-fusion-conductividad-termica/)"
   ]
  },
  {
   "cell_type": "code",
   "execution_count": 24,
   "id": "e818bf7b-122d-4cc7-8644-6f5471b84c5b",
   "metadata": {},
   "outputs": [],
   "source": [
    "Cmin = np.min([Cp_agua1*Caudal_agua1,Cp_agua2*Caudal_agua2])\n",
    "Cmax = np.max([Cp_agua1*Caudal_agua1,Cp_agua2*Caudal_agua2])"
   ]
  },
  {
   "cell_type": "code",
   "execution_count": 25,
   "id": "175a60fa-a6b3-4d5f-88fb-16f3404d20dd",
   "metadata": {},
   "outputs": [],
   "source": [
    "Cr = Cmin/Cmax"
   ]
  },
  {
   "cell_type": "code",
   "execution_count": 26,
   "id": "8f084b17-d8b9-4765-9a3a-dba7d7eee690",
   "metadata": {},
   "outputs": [],
   "source": [
    "Qmax = Cmin*(T_agua1_e-T_agua2_e)"
   ]
  },
  {
   "cell_type": "code",
   "execution_count": 27,
   "id": "4d3122e6-0173-4f65-aae3-d6fd98ce152c",
   "metadata": {},
   "outputs": [
    {
     "name": "stdout",
     "output_type": "stream",
     "text": [
      "0.6009389671361501\n"
     ]
    }
   ],
   "source": [
    "epsilon = Q1/Qmax\n",
    "print(epsilon)"
   ]
  },
  {
   "cell_type": "code",
   "execution_count": 28,
   "id": "085895c1-4f0e-4a6a-ae1f-d7970bc1e13d",
   "metadata": {},
   "outputs": [],
   "source": [
    "Nut = ht.NTU_from_effectiveness(epsilon,Cr)"
   ]
  },
  {
   "cell_type": "code",
   "execution_count": 29,
   "id": "c1944eaf-602b-40ba-a3bf-e4d863132c43",
   "metadata": {},
   "outputs": [],
   "source": [
    "A = Nut*Cmin/Ulimpio"
   ]
  },
  {
   "cell_type": "code",
   "execution_count": 30,
   "id": "9b5ecf9c-789b-4ead-9095-3549929c4b22",
   "metadata": {},
   "outputs": [
    {
     "data": {
      "text/plain": [
       "2.4664389545739787"
      ]
     },
     "execution_count": 30,
     "metadata": {},
     "output_type": "execute_result"
    }
   ],
   "source": [
    "A"
   ]
  },
  {
   "cell_type": "code",
   "execution_count": 37,
   "id": "d08f6fac-c44e-4d79-9c6d-8d18e1548e95",
   "metadata": {},
   "outputs": [],
   "source": [
    "Area_tubo = D_externo*np.pi*Longitud\n",
    "Npasos = A/Area_tubo\n",
    "Npasos = np.ceil(Npasos)\n",
    "A = Npasos * Area_tubo\n",
    "UA = Ulimpio*A\n",
    "Nut_r = UA/Cmin\n",
    "\n",
    "epsilon_r = ht.effectiveness_from_NTU(Nut_r,Cr)"
   ]
  },
  {
   "cell_type": "code",
   "execution_count": 38,
   "id": "d8a64242-47f6-41b1-862a-84d85ef7a5dc",
   "metadata": {},
   "outputs": [
    {
     "data": {
      "text/plain": [
       "0.6139092817416095"
      ]
     },
     "execution_count": 38,
     "metadata": {},
     "output_type": "execute_result"
    }
   ],
   "source": [
    "epsilon_r"
   ]
  },
  {
   "cell_type": "markdown",
   "id": "3e4e64a7-8846-4e84-98fe-3a1bfaba345a",
   "metadata": {},
   "source": [
    "El caudal de agua fria se reduce en un 15%."
   ]
  },
  {
   "cell_type": "code",
   "execution_count": 43,
   "id": "0b78c8df-3301-4252-8c39-ba0624e81584",
   "metadata": {},
   "outputs": [],
   "source": [
    "Caudal_agua2b = Caudal_agua2*0.85\n",
    "Cfb = Cp_agua2*Caudal_agua2b\n",
    "Crb = Cmin/Cfb\n",
    "epsilon_b = ht.effectiveness_from_NTU(Nut_r,Crb)"
   ]
  },
  {
   "cell_type": "code",
   "execution_count": 45,
   "id": "966c2631-69b1-40a7-92f4-2a2783553b16",
   "metadata": {},
   "outputs": [],
   "source": [
    "Qb = Qmax*epsilon_b"
   ]
  },
  {
   "cell_type": "code",
   "execution_count": 62,
   "id": "214cd36e-7703-44ff-8aea-7bf1c608da06",
   "metadata": {},
   "outputs": [
    {
     "data": {
      "text/plain": [
       "(110411.80919806474, 0.5949599632873669, 0.6009389671361501)"
      ]
     },
     "execution_count": 62,
     "metadata": {},
     "output_type": "execute_result"
    }
   ],
   "source": [
    "Qb,epsilon_b,epsilon"
   ]
  },
  {
   "cell_type": "code",
   "execution_count": 48,
   "id": "9ef72e55-1eaf-4e35-9ea9-37ca82723834",
   "metadata": {},
   "outputs": [
    {
     "data": {
      "text/plain": [
       "111521.38408189183"
      ]
     },
     "execution_count": 48,
     "metadata": {},
     "output_type": "execute_result"
    }
   ],
   "source": [
    "Q1"
   ]
  },
  {
   "cell_type": "code",
   "execution_count": 49,
   "id": "ca00f299-1139-47e7-9daf-5c7c4ca11b80",
   "metadata": {},
   "outputs": [
    {
     "data": {
      "text/plain": [
       "185578.55319877315"
      ]
     },
     "execution_count": 49,
     "metadata": {},
     "output_type": "execute_result"
    }
   ],
   "source": [
    "Qmax"
   ]
  },
  {
   "cell_type": "code",
   "execution_count": 50,
   "id": "b4f69acc-d4af-4c0a-a7d9-680793473e3e",
   "metadata": {},
   "outputs": [
    {
     "data": {
      "text/plain": [
       "1.2196344985513807"
      ]
     },
     "execution_count": 50,
     "metadata": {},
     "output_type": "execute_result"
    }
   ],
   "source": [
    "Nut"
   ]
  },
  {
   "cell_type": "code",
   "execution_count": 51,
   "id": "4e1a667c-4d35-4e8d-bd62-01bb62200167",
   "metadata": {},
   "outputs": [
    {
     "data": {
      "text/plain": [
       "(4506.327275051396, 6294.391309142678)"
      ]
     },
     "execution_count": 51,
     "metadata": {},
     "output_type": "execute_result"
    }
   ],
   "source": [
    "h_agua1,h_agua2"
   ]
  },
  {
   "cell_type": "code",
   "execution_count": 53,
   "id": "8aed5d72-4e65-4a17-bbe7-4ff1142626de",
   "metadata": {},
   "outputs": [
    {
     "data": {
      "text/plain": [
       "1223.5616332755667"
      ]
     },
     "execution_count": 53,
     "metadata": {},
     "output_type": "execute_result"
    }
   ],
   "source": [
    "Ulimpio"
   ]
  },
  {
   "cell_type": "code",
   "execution_count": 54,
   "id": "662e4793-6fa8-4f1c-87ae-4cbbe344a003",
   "metadata": {},
   "outputs": [
    {
     "data": {
      "text/plain": [
       "0.28651325000738914"
      ]
     },
     "execution_count": 54,
     "metadata": {},
     "output_type": "execute_result"
    }
   ],
   "source": [
    "Area_tubo"
   ]
  },
  {
   "cell_type": "code",
   "execution_count": 55,
   "id": "5e646297-1a42-458e-ac68-1bcc0902b785",
   "metadata": {},
   "outputs": [
    {
     "data": {
      "text/plain": [
       "9.0"
      ]
     },
     "execution_count": 55,
     "metadata": {},
     "output_type": "execute_result"
    }
   ],
   "source": [
    "Npasos"
   ]
  },
  {
   "cell_type": "code",
   "execution_count": null,
   "id": "4b360ea2-98bd-41cc-983b-3dfeca064a39",
   "metadata": {},
   "outputs": [],
   "source": []
  }
 ],
 "metadata": {
  "kernelspec": {
   "display_name": "Python 3 (ipykernel)",
   "language": "python",
   "name": "python3"
  },
  "language_info": {
   "codemirror_mode": {
    "name": "ipython",
    "version": 3
   },
   "file_extension": ".py",
   "mimetype": "text/x-python",
   "name": "python",
   "nbconvert_exporter": "python",
   "pygments_lexer": "ipython3",
   "version": "3.10.9"
  },
  "latex_envs": {
   "LaTeX_envs_menu_present": true,
   "autoclose": true,
   "autocomplete": true,
   "bibliofile": "biblio.bib",
   "cite_by": "apalike",
   "current_citInitial": 1,
   "eqLabelWithNumbers": true,
   "eqNumInitial": 1,
   "hotkeys": {
    "equation": "Ctrl-E",
    "itemize": "Ctrl-I"
   },
   "labels_anchors": false,
   "latex_user_defs": false,
   "report_style_numbering": false,
   "user_envs_cfg": false
  },
  "papermill": {
   "default_parameters": {},
   "duration": 23.771076,
   "end_time": "2021-05-30T21:24:22.664715",
   "environment_variables": {},
   "exception": null,
   "input_path": "__notebook__.ipynb",
   "output_path": "__notebook__.ipynb",
   "parameters": {},
   "start_time": "2021-05-30T21:23:58.893639",
   "version": "2.3.3"
  }
 },
 "nbformat": 4,
 "nbformat_minor": 5
}
