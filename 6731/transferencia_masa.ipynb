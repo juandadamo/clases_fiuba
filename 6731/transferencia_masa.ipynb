{
 "cells": [
  {
   "cell_type": "markdown",
   "id": "be53bdea",
   "metadata": {},
   "source": [
    "[Versión Interactiva]"
   ]
  },
  {
   "cell_type": "code",
   "execution_count": 3,
   "id": "cb245a17",
   "metadata": {
    "papermill": {
     "duration": 1.644377,
     "end_time": "2021-04-27T15:30:40.197584",
     "exception": false,
     "start_time": "2021-04-27T15:30:38.553207",
     "status": "completed"
    },
    "tags": []
   },
   "outputs": [],
   "source": [
    "%matplotlib inline\n",
    "import numpy as np # linear algebra\n",
    "import sympy as sp\n",
    "import pandas as pd\n",
    "import ht,pint,periodictable\n",
    "from scipy import constants\n",
    "import CoolProp as cp\n",
    "import matplotlib.pyplot as plt\n",
    "from IPython.display import  Latex\n",
    "ureg = pint.UnitRegistry()#(fmt_locale='es_ES')\n"
   ]
  },
  {
   "cell_type": "markdown",
   "id": "5298e43a-3388-44a1-8fa1-a1d6a990af16",
   "metadata": {},
   "source": [
    "#### Ejercicio 1\n",
    "Una mezcla de gases nobles contiene fracciones molares iguales de helio, argón y xenón.\n",
    "\n",
    "    i. ¿Cuál es la composición en términos de fracciones de masa?\n",
    "    ii. Si la mezcla contiene fracciones de masa iguales de He, Ar y Xe, ¿cuáles son las fracciones molares correspondientes?\n",
    "    \n",
    "\n",
    "$Y_{He}+Y_{Xe}+Y_{Ar}=1$"
   ]
  },
  {
   "cell_type": "code",
   "execution_count": 4,
   "id": "3b27263a-5303-40bc-bdb9-e5c3eb6b8008",
   "metadata": {},
   "outputs": [
    {
     "data": {
      "text/latex": [
       "$w_{He}=0.0228$"
      ],
      "text/plain": [
       "<IPython.core.display.Latex object>"
      ]
     },
     "metadata": {},
     "output_type": "display_data"
    },
    {
     "data": {
      "text/latex": [
       "$w_{Xe}=0.749$"
      ],
      "text/plain": [
       "<IPython.core.display.Latex object>"
      ]
     },
     "metadata": {},
     "output_type": "display_data"
    },
    {
     "data": {
      "text/latex": [
       "$w_{Ar}=0.228$"
      ],
      "text/plain": [
       "<IPython.core.display.Latex object>"
      ]
     },
     "metadata": {},
     "output_type": "display_data"
    }
   ],
   "source": [
    "Y_He = 1/3\n",
    "Y_Xe= Y_He\n",
    "Y_Ar = Y_He\n",
    "\n",
    "M_He = periodictable.He.mass\n",
    "M_Xe = periodictable.Xe.mass\n",
    "M_Ar = periodictable.Ar.mass\n",
    "\n",
    "M_tot = M_He*Y_He + M_Ar*Y_Ar + M_Xe*Y_Xe\n",
    "M_media = M_tot/3\n",
    "\n",
    "#Fracciones másicas\n",
    "#wi = Yi Mi/M_media\n",
    "w_He = Y_He*M_He/M_tot\n",
    "w_Xe = Y_Xe*M_Xe/M_tot\n",
    "w_Ar = Y_Ar*M_Ar/M_tot\n",
    "\n",
    "display(Latex(f'$w_{{He}}={w_He:.3g}$'))\n",
    "display(Latex(f'$w_{{Xe}}={w_Xe:.3g}$'))\n",
    "display(Latex(f'$w_{{Ar}}={w_Ar:.3g}$'))"
   ]
  },
  {
   "cell_type": "code",
   "execution_count": 5,
   "id": "98e3d687-6582-4646-b0c7-87ed48d07376",
   "metadata": {},
   "outputs": [
    {
     "data": {
      "text/latex": [
       "Masa de la mezcla: $M_{tot}=10.6$"
      ],
      "text/plain": [
       "<IPython.core.display.Latex object>"
      ]
     },
     "metadata": {},
     "output_type": "display_data"
    },
    {
     "data": {
      "text/latex": [
       "Fracción molar $Y_{He}=0.88$"
      ],
      "text/plain": [
       "<IPython.core.display.Latex object>"
      ]
     },
     "metadata": {},
     "output_type": "display_data"
    },
    {
     "data": {
      "text/latex": [
       "Fracción molar $Y_{Xe}=0.027$"
      ],
      "text/plain": [
       "<IPython.core.display.Latex object>"
      ]
     },
     "metadata": {},
     "output_type": "display_data"
    },
    {
     "data": {
      "text/latex": [
       "Fracción molar $Y_{Ar}=0.089$"
      ],
      "text/plain": [
       "<IPython.core.display.Latex object>"
      ]
     },
     "metadata": {},
     "output_type": "display_data"
    }
   ],
   "source": [
    "w_He = 1/3; w_Xe = 1/3 ; w_Ar = 1/3\n",
    "\n",
    "# Fracciones molares del sistema\n",
    "\n",
    "#w_i/M_i = Y_i\n",
    "#w_He = Y_He*M_He/M_tot\n",
    "\n",
    "# sum (Y_i) = 1\n",
    "# w_He/M_He = Y_He\n",
    "# w_Xe/M_Xe = Y_Xe\n",
    "# w_Ar/M_ar = Y_Ar\n",
    "\n",
    "# w_He/M_He + w_Xe/M_Xe + w_Ar/M_Ar = (Y_He + Y_Xe + Y_Ar)/M_tot\n",
    "\n",
    "M_tot  = (w_He/M_He + w_Xe/M_Xe + w_Ar/M_Ar)**-1\n",
    "display (Latex(f'Masa de la mezcla: $M_{{tot}}={M_tot:.1f}$'\n",
    "              ))\n",
    "\n",
    "Y_He = w_He/M_He*M_tot\n",
    "Y_Xe = w_Xe/M_Xe*M_tot\n",
    "Y_Ar = w_Ar/M_Ar*M_tot\n",
    "\n",
    "display (Latex(f'Fracción molar $Y_{{He}}={Y_He:.2g}$'\n",
    "              ))\n",
    "display (Latex(f'Fracción molar $Y_{{Xe}}={Y_Xe:.2g}$'\n",
    "              ))\n",
    "display (Latex(f'Fracción molar $Y_{{Ar}}={Y_Ar:.2g}$'\n",
    "              ))"
   ]
  },
  {
   "cell_type": "markdown",
   "id": "2e051afb-f536-4337-bb80-94c0378f7267",
   "metadata": {},
   "source": [
    "#### Ejercicio 2\n",
    "\n",
    "##### Pérdida de hidrógeno desde un tanque de almacenamiento\n",
    "\n",
    "Se utiliza un tanque de acero esférico de capacidad 10 litros yun espesor de 2mm para almacenar hidrógeno a 400ºC. La presión inicial es de 9 bares y hay un vacío fuera del tanque. Calcula el tiempo requerido para que la presión disminuya a 5 bares. Los datos para el sistema hidrógeno acero (1-2) incluyen los siguientes datos:\n"
   ]
  },
  {
   "cell_type": "code",
   "execution_count": 6,
   "id": "96350d39",
   "metadata": {},
   "outputs": [],
   "source": [
    "#Coeficiente de difusión\n",
    "def D_12(T):\n",
    "    return 1.65e-6*np.exp(-4630/T)*(ureg.m)**2/ureg.second*ureg.bar**-0.5\n",
    "\n",
    "#Solubilidad hidrógeno acero\n",
    "\n",
    "def w_12(T,P12):\n",
    "    return 2.09e-4*np.exp(-3950/T)*P12**0.5\n",
    "\n",
    "#Presión Inicial\n",
    "p_0 = 9*ureg.bar\n",
    "#Presión final\n",
    "p_f = 6*ureg.bar\n",
    "#Volumen del tanque\n",
    "Vol_tanque = 1e-2*(ureg.m)**3\n",
    "#Temp Hidrógeno\n",
    "T_1 = 673*ureg.K\n",
    "#Espesor del tanque\n",
    "e_t = 2*ureg.mm\n",
    "# Densidad Acero\n",
    "ρ_acero = 7800*ureg.kilogram/ureg.meter**3\n",
    "radio_tanque = (Vol_tanque*3/4/np.pi)**(1/3)\n",
    "area_tanque = radio_tanque**2*4*np.pi\n",
    "\n",
    "#Se desprecia curvatura del recipiente\n",
    "#Se asumo estado cuasi estacionario"
   ]
  },
  {
   "cell_type": "code",
   "execution_count": 7,
   "id": "89337cae-ecdc-4ea8-9495-1c7025ca5f52",
   "metadata": {},
   "outputs": [],
   "source": [
    "M_H2 = periodictable.H.mass*2*ureg.gram/ureg.mol\n",
    "R = constants.R*ureg.joule/(ureg.K*ureg.mol)"
   ]
  },
  {
   "cell_type": "code",
   "execution_count": 8,
   "id": "e1147b4a-9421-4f30-992d-56451f50994f",
   "metadata": {},
   "outputs": [
    {
     "data": {
      "text/html": [
       "8.314462618 joule/(kelvin mole)"
      ],
      "text/latex": [
       "$8.314462618\\ \\frac{\\mathrm{joule}}{\\left(\\mathrm{kelvin} \\cdot \\mathrm{mole}\\right)}$"
      ],
      "text/plain": [
       "8.314462618 <Unit('joule / kelvin / mole')>"
      ]
     },
     "execution_count": 8,
     "metadata": {},
     "output_type": "execute_result"
    }
   ],
   "source": [
    "R"
   ]
  },
  {
   "cell_type": "markdown",
   "id": "b35db2c8-3d7f-472e-a0a1-87e212184b91",
   "metadata": {},
   "source": [
    "$$M_{H_2Tanque} = \\frac{P {Vol}_{tanque} M_H2}{ R T_1}$$\n",
    "\n",
    "$$\\frac{dP}{dt} = \\frac{ R T_1}{M_{H_2} Vol_{tanque}}\\frac{d M_{H_{2Tanque}}}{dt}$$\n",
    "\n",
    "\n",
    "$$\\frac{d M_{H_{2Tanque}}}{dt} = -J_1$$\n",
    "\n",
    "$$J_1 = -\\rho D_{12}A\\frac{d_{w1}}{dx}$$\n",
    "\n",
    "$$\\rho D_{12}A\\frac{d_{w1}}{dx}= \\frac{\\rho D_{12}A}{e_t}(w_{1v}-w_{1u})$$\n",
    "\n",
    "$w_{1u}, w_{1v}$ fracciones másicas al interior y al exterior.\n",
    "\n",
    "$w_{1u} = 2.09\\cdot 10^{-4}\\cdot e^{-3950K/T1} P_1^{0.5}$\n",
    "\n",
    "$w_{1u} = K P_1^{0.5}$\n",
    "\n",
    "$K =  2.09\\cdot 10^{-4}\\cdot e^{-3950K/T1}$\n",
    "\n",
    "$w_{1v}\\sim 0$\n",
    "\n"
   ]
  },
  {
   "cell_type": "markdown",
   "id": "82ca2403-a685-4b33-a710-c58e9d257e04",
   "metadata": {},
   "source": [
    "Densidad de la mezcla $\\rho\\simeq\\rho_{acero}$\n"
   ]
  },
  {
   "cell_type": "code",
   "execution_count": 10,
   "id": "98b84d9a-4a9b-4413-ac3c-a976af0bbc4b",
   "metadata": {},
   "outputs": [],
   "source": [
    "D12 = D_12(T_1.magnitude)"
   ]
  },
  {
   "cell_type": "code",
   "execution_count": 11,
   "id": "d8828906-b4f0-46e0-a43f-96a39ba03c13",
   "metadata": {},
   "outputs": [
    {
     "data": {
      "text/latex": [
       " $D_{12} =  1.697\\times 10^{-9}\\ \\frac{\\mathrm{m}^{2}}{\\left(\\mathrm{bar}^{0.5} \\cdot \\mathrm{s}\\right)}$"
      ],
      "text/plain": [
       "<IPython.core.display.Latex object>"
      ]
     },
     "execution_count": 11,
     "metadata": {},
     "output_type": "execute_result"
    }
   ],
   "source": [
    "Latex(' $D_{{12}} =  {:.3e~L}$'.format(D12))"
   ]
  },
  {
   "cell_type": "markdown",
   "id": "ef115d2c-ac65-41ca-836e-4c56eabcdf21",
   "metadata": {},
   "source": [
    "| | | |\n",
    "|----|--|----|\n",
    "|$\\dfrac{dp}{dt} = B P^{0.5}$ | | $B=\\dfrac{ \\rho D_{12} A_r }{e_t}\\dfrac{R T_1 A_r}{M_1 V_r}$|\n",
    "\n",
    "\n",
    "\n",
    "\n",
    "\n",
    "\n"
   ]
  },
  {
   "cell_type": "code",
   "execution_count": null,
   "id": "a000a719-7c22-4bde-9e97-a06f3f3f63da",
   "metadata": {},
   "outputs": [],
   "source": []
  },
  {
   "cell_type": "code",
   "execution_count": 12,
   "id": "69f8640d-21e6-4a34-aa62-d13cbccf35e2",
   "metadata": {},
   "outputs": [
    {
     "data": {
      "text/latex": [
       " $t_{f} =  125.6 hour$"
      ],
      "text/plain": [
       "<IPython.core.display.Latex object>"
      ]
     },
     "execution_count": 12,
     "metadata": {},
     "output_type": "execute_result"
    }
   ],
   "source": [
    "K = 2.09e-4*np.exp(-3950/T_1.magnitude)\n",
    "\n",
    "B = ρ_acero*D12*R*T_1*area_tanque *K / (e_t*M_H2*Vol_tanque)\n",
    "\n",
    "tf = 2/B*(p_0**0.5-p_f**0.5)\n",
    "\n",
    "tf.to(ureg.hour)\n",
    "Latex(' $t_{{f}} =  {:.1f}$'.format(tf.to(ureg.hour)))"
   ]
  },
  {
   "cell_type": "code",
   "execution_count": null,
   "id": "4a2161cc-e5f4-4f55-a262-b82257a7d6cf",
   "metadata": {},
   "outputs": [],
   "source": []
  }
 ],
 "metadata": {
  "kernelspec": {
   "display_name": "Python 3 (ipykernel)",
   "language": "python",
   "name": "python3"
  },
  "language_info": {
   "codemirror_mode": {
    "name": "ipython",
    "version": 3
   },
   "file_extension": ".py",
   "mimetype": "text/x-python",
   "name": "python",
   "nbconvert_exporter": "python",
   "pygments_lexer": "ipython3",
   "version": "3.10.9"
  },
  "latex_envs": {
   "LaTeX_envs_menu_present": true,
   "autoclose": true,
   "autocomplete": true,
   "bibliofile": "biblio.bib",
   "cite_by": "apalike",
   "current_citInitial": 1,
   "eqLabelWithNumbers": true,
   "eqNumInitial": 1,
   "hotkeys": {
    "equation": "Ctrl-E",
    "itemize": "Ctrl-I"
   },
   "labels_anchors": false,
   "latex_user_defs": false,
   "report_style_numbering": false,
   "user_envs_cfg": false
  },
  "papermill": {
   "default_parameters": {},
   "duration": 26.252158,
   "end_time": "2021-04-27T15:30:42.330091",
   "environment_variables": {},
   "exception": null,
   "input_path": "__notebook__.ipynb",
   "output_path": "__notebook__.ipynb",
   "parameters": {},
   "start_time": "2021-04-27T15:30:16.077933",
   "version": "2.3.3"
  }
 },
 "nbformat": 4,
 "nbformat_minor": 5
}
