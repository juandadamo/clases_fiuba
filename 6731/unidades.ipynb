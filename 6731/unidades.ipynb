{
 "cells": [
  {
   "cell_type": "code",
   "execution_count": 53,
   "metadata": {},
   "outputs": [],
   "source": [
    "import numpy as np \n",
    "import pint\n",
    "from IPython.display import  Latex\n",
    "from ipywidgets import interact, interactive,widgets,Layout\n",
    "ureg = pint.UnitRegistry(fmt_locale='es_ES')"
   ]
  },
  {
   "cell_type": "code",
   "execution_count": 35,
   "metadata": {},
   "outputs": [],
   "source": []
  },
  {
   "cell_type": "code",
   "execution_count": 36,
   "metadata": {},
   "outputs": [],
   "source": [
    "velocidad_1 = 1.2*ureg.kilometer_per_hour\n",
    "tiempo_1 = (10*ureg.second)\n",
    "velocidad_2 = velocidad_1*2\n",
    "\n",
    "distancia_1 = (velocidad_1*tiempo_1).to_base_units()"
   ]
  },
  {
   "cell_type": "code",
   "execution_count": 37,
   "metadata": {},
   "outputs": [
    {
     "data": {
      "text/latex": [
       "La distancia es 3.33 m, recorrida a un velocidad constante de 1.20 kilómetros por hora"
      ],
      "text/plain": [
       "<IPython.core.display.Latex object>"
      ]
     },
     "execution_count": 37,
     "metadata": {},
     "output_type": "execute_result"
    }
   ],
   "source": [
    "Latex(f'La distancia es {distancia_1:~.2f}, recorrida a un velocidad constante de {velocidad_1:~.2f}')\n"
   ]
  },
  {
   "cell_type": "code",
   "execution_count": 38,
   "metadata": {},
   "outputs": [],
   "source": [
    "def calcula_distancia(V,t):\n",
    "    velocidad_1 = V*ureg.kilometer_per_hour\n",
    "    tiempo_1 = (t*ureg.second)\n",
    "    distancia_1 = (velocidad_1*tiempo_1).to_base_units()\n",
    "    texto_out = Latex(f'La distancia es {distancia_1:~.2f}, recorrida a un velocidad constante de {velocidad_1:~.2f}')\n",
    "    return texto_out"
   ]
  },
  {
   "cell_type": "code",
   "execution_count": 62,
   "metadata": {},
   "outputs": [
    {
     "data": {
      "application/vnd.jupyter.widget-view+json": {
       "model_id": "ddbb476e31c646a1b19d8033bb9adae2",
       "version_major": 2,
       "version_minor": 0
      },
      "text/plain": [
       "interactive(children=(FloatSlider(value=6.0, description='Veloc.[km/h]', max=10.0, step=0.2), IntSlider(value=…"
      ]
     },
     "metadata": {},
     "output_type": "display_data"
    }
   ],
   "source": [
    "interact(calcula_distancia,V=widgets.FloatSlider(min=0,max=10,step=0.2,value=6,description='Veloc.[km/h]'),t=widgets.IntSlider(min=0,max=100,step=1,value=10,description='Tiempo [s]'),layout=Layout(width='100%', height='80px'));"
   ]
  },
  {
   "cell_type": "code",
   "execution_count": null,
   "metadata": {},
   "outputs": [],
   "source": [
    "interact"
   ]
  }
 ],
 "metadata": {
  "kernelspec": {
   "display_name": "Python 3",
   "language": "python",
   "name": "python3"
  },
  "language_info": {
   "codemirror_mode": {
    "name": "ipython",
    "version": 3
   },
   "file_extension": ".py",
   "mimetype": "text/x-python",
   "name": "python",
   "nbconvert_exporter": "python",
   "pygments_lexer": "ipython3",
   "version": "3.8.8"
  },
  "latex_envs": {
   "LaTeX_envs_menu_present": true,
   "autoclose": false,
   "autocomplete": true,
   "bibliofile": "biblio.bib",
   "cite_by": "apalike",
   "current_citInitial": 1,
   "eqLabelWithNumbers": true,
   "eqNumInitial": 1,
   "hotkeys": {
    "equation": "Ctrl-E",
    "itemize": "Ctrl-I"
   },
   "labels_anchors": false,
   "latex_user_defs": false,
   "report_style_numbering": false,
   "user_envs_cfg": false
  }
 },
 "nbformat": 4,
 "nbformat_minor": 4
}
