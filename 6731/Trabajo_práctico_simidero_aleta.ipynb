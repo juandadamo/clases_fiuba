{
  "nbformat": 4,
  "nbformat_minor": 0,
  "metadata": {
    "anaconda-cloud": {},
    "kernelspec": {
      "display_name": "Python [default]",
      "language": "python",
      "name": "python2"
    },
    "language_info": {
      "codemirror_mode": {
        "name": "ipython",
        "version": 2
      },
      "file_extension": ".py",
      "mimetype": "text/x-python",
      "name": "python",
      "nbconvert_exporter": "python",
      "pygments_lexer": "ipython2",
      "version": "2.7.12"
    },
    "colab": {
      "provenance": []
    }
  },
  "cells": [
    {
      "cell_type": "code",
      "metadata": {
        "id": "7-gi2OJpbf5g"
      },
      "source": [
        "# -*- coding: utf-8 -*-\n",
        "%matplotlib notebook\n",
        "import numpy as np\n",
        "import matplotlib.pyplot as plt\n",
        "import matplotlib as mpl\n",
        "\n",
        "mpl.rc('font',family='serif',size=9)\n",
        "import ht,thermo\n"
      ],
      "execution_count": null,
      "outputs": []
    },
    {
      "cell_type": "markdown",
      "metadata": {
        "id": "FUxwnvfybf5w"
      },
      "source": [
        "##1. Sumidero de calor termoeléctrico\n",
        "\n",
        "La evacuación de calor desde un dispositivo de refrigeración termoeléctrico se logra mediante un arreglo de $10\\times10$ de aletas de diámetro $D_{aleta}=1.5$ mm y de largo $L_{aleta}=15$ mm. Las aletas estan unidas a una placa base cuadrada de lado $W_b = 30$ mm y espesor $th_b=2$ mm, como muestra la Figura. La conductividad del material de la aleta es $k_{aleta} = 70$ W/m$\\cdot$ K y ladel material base es $k_b= 25$ W/m$\\cdot$K. Hay una resistencia de contacto de ${R_c}^{''}=1\\cdot 10^{-4}$m$^2\\cdot$ K / W en la interfase entre la placa base y las aletas. El extremo del refigerador termoeléctrico se encuentra a $T_{hot} = 30^\\circ$C y el aire alrededor está a $T_\\infty= 20^\\circ$C. El coeficiente de transferencia promedio entre el aire y la superficie del sumidero de calor es de $h=50$ W/m$^2\\cdot $K."
      ]
    },
    {
      "cell_type": "markdown",
      "metadata": {
        "id": "cxrGRCiYeAmV"
      },
      "source": [
        "<figure>\n",
        "<center>\n",
        "<img src='https://drive.google.com/uc?id=1mkBAAQx_BwPvKsE-7LHfIX84SkuJesO7' />\n",
        "<figcaption>Arreglo de aletas.</figcaption></center>\n",
        "</figure>"
      ]
    },
    {
      "cell_type": "markdown",
      "metadata": {
        "id": "l-lCeRjRbf6J"
      },
      "source": [
        "a) ¿Cuál es la resistencia térmica total entre el extremo de la aleta y el aire? ¿ Cual es la tasa de extracción de calor que puede conseguirse en estas condiciones?\n",
        "\n",
        "b) A partir de la selección de material y manipulación del flujo de aire a través del sumidero de calor es posible afectar al diseño de $k_{aleta}$ y de $\\bar h$. Realice un gráfico que muestro lineas de nivel de extracción constante de calor para $k_{aleta}\\in [5,150]$W/m$\\cdot$K y $\\bar h\\in[10,200]$ W/m$^2\\cdot$K.\n",
        "\n",
        "c) Se determinó que el coeficiente de convección\n",
        "\n",
        "$\\bar h = 40\\left[\\frac{\\text{W}}{\\text{m}^2 \\text{K}}\\right]\\left(\\frac{a}{0.005[\\text{m}]}\\right)^{0.4}\\left(\\frac{D}{0.01[\\text{m}]}\\right)^{-0.3}$\n",
        "donde $a$ es la distancia entre aletas y $D$ el diámetro.\n",
        "\n",
        "Para valores de $D_{aleta}$ alrededor del valor de diseño, encuentre un valor óptimo."
      ]
    },
    {
      "cell_type": "markdown",
      "metadata": {
        "id": "ksL7Pl9l-bxD"
      },
      "source": [
        "##2. Transporte de alimentos\n",
        "\n",
        "Unos contenedores de helado son retirados de un depósito de fábrica y cargados en un camión con refrigeración. Durante el proceso de carga, el helado toma contacto con la dársena de carga durante un intervalo de tiempo considerable. La temperatura de la dársena es notablemente mayor que en el depósito lo que puede ocasionar dos problemas. El primero es que la temperatura de los helados en su superficies puede elevarse provocando una pérdida de calidad del alimento. El segundo es que la energía térmica absorbida por los helados, debe ser evacuada a continuación por los equipos de refrigeración del camión, y éstos pueden resultar sobreexigidos.  El helado es colocado en recipientes cilíndricos de cartón. Si se considera que los recipientes tienen una gran longitud,  la distribución de temperatura es prácticamente en una sola dimensión como se muestra en la Figura. El radio interior de los contenedores de cartón es $R_0 = 10$cm y el espesor de la pared es $th_{cb}=2$mm. La conductividad del cartón es $k_{cb}=0.08$W/m$\\cdot$ K. El helado viene desde el depósito a una temperatura $T_{ini}=-18^\\circ$C y es expuesto en la dársena a $T_{dock}=7^\\circ$C con un coeficiente de transferencia de calor $h=20$W/m$^2\\cdot$K. El helado tiene propiedades $k_{ic}=0.2$W/m$\\cdot$K, $\\rho_{ic}=720$ kg/m$^3$ y ${C_p}_{ic}= 3200$J/kh$\\cdot$K. Se considera que el helado no se derrite."
      ]
    },
    {
      "cell_type": "markdown",
      "metadata": {
        "id": "xPaRiacO-H00"
      },
      "source": [
        "<figure>\n",
        "<center>\n",
        "<img src='https://drive.google.com/uc?id=1jA9UA_VZxgW-n-bjW5DtPSDyu9psn2WR' />\n",
        "<figcaption>Esquema del problema de helado.</figcaption></center>\n",
        "</figure>"
      ]
    },
    {
      "cell_type": "markdown",
      "metadata": {
        "id": "XtG8YFgE-69h"
      },
      "source": [
        "a) Determine un coeficiente de transferencia efectivo $h_{eff}$ que pueda usarse para la solución del cilindro sujeto a un cambio de temperaturas y que incluya la resistencia a la conducción asociada con el cartón junto a la conveccióón de aire.\n",
        "\n",
        "b) Si el helado permanece en la dársena durante $t_{carga}=5$ minutos, ¿cuál será la temperatura de la superficie de helado cuando finalice la carga?\n",
        "\n",
        "c) ¿Cuánta energía debe removerse del helado (por unidad de longitud del recipiente) luego de ser cargado para volver a su temperatura inicial?\n",
        "\n",
        "d) ¿Cuál es la cantidad máxima de tiempo que el helado puede permanecer en la dársena antes de que la superficie del mismo comience a derretirse?"
      ]
    },
    {
      "cell_type": "code",
      "metadata": {
        "id": "zXYi_FkB1ys-"
      },
      "source": [],
      "execution_count": null,
      "outputs": []
    }
  ]
}