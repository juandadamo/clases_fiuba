{
 "cells": [
  {
   "cell_type": "markdown",
   "id": "bc25e331",
   "metadata": {},
   "source": [
    "[Versión Interactiva](https://mybinder.org/v2/git/https%3A%2F%2Fgithub.com%2Fjuandadamo%2Fclases_fiuba/8d83c026fe76ff6fcdb78667e63052026b025e17?filepath=6731%2Fdifusion-y-soluciones-numericas.ipynb)"
   ]
  },
  {
   "cell_type": "code",
   "execution_count": 1,
   "id": "further-despite",
   "metadata": {
    "_kg_hide-input": true,
    "_kg_hide-output": true,
    "execution": {
     "iopub.execute_input": "2021-05-11T17:37:34.415060Z",
     "iopub.status.busy": "2021-05-11T17:37:34.413829Z",
     "iopub.status.idle": "2021-05-11T17:37:57.030433Z",
     "shell.execute_reply": "2021-05-11T17:37:57.030978Z"
    },
    "papermill": {
     "duration": 22.634667,
     "end_time": "2021-05-11T17:37:57.031377",
     "exception": false,
     "start_time": "2021-05-11T17:37:34.396710",
     "status": "completed"
    },
    "tags": []
   },
   "outputs": [
    {
     "name": "stdout",
     "output_type": "stream",
     "text": [
      "Requirement already satisfied: fipy in /home/juan/.local/lib/python3.8/site-packages (3.4.2.1)\n",
      "Requirement already satisfied: ht in /home/juan/.local/lib/python3.8/site-packages (0.1.55)\n",
      "Requirement already satisfied: fluids in /home/juan/.local/lib/python3.8/site-packages (0.1.83)\n",
      "Requirement already satisfied: matplotlib in /home/juan/.local/lib/python3.8/site-packages (3.3.2)\n",
      "Requirement already satisfied: numpy in /home/juan/.local/lib/python3.8/site-packages (1.19.3)\n",
      "Requirement already satisfied: scipy in /home/juan/.local/lib/python3.8/site-packages (1.5.0)\n",
      "Requirement already satisfied: future in /home/juan/anaconda3/lib/python3.8/site-packages (from fipy) (0.18.2)\n",
      "Requirement already satisfied: kiwisolver>=1.0.1 in /home/juan/.local/lib/python3.8/site-packages (from matplotlib) (1.2.0)\n",
      "Requirement already satisfied: python-dateutil>=2.1 in /home/juan/anaconda3/lib/python3.8/site-packages (from matplotlib) (2.8.1)\n",
      "Requirement already satisfied: pillow>=6.2.0 in /home/juan/anaconda3/lib/python3.8/site-packages (from matplotlib) (8.2.0)\n",
      "Requirement already satisfied: cycler>=0.10 in /home/juan/.local/lib/python3.8/site-packages (from matplotlib) (0.10.0)\n",
      "Requirement already satisfied: certifi>=2020.06.20 in /home/juan/.local/lib/python3.8/site-packages (from matplotlib) (2020.6.20)\n",
      "Requirement already satisfied: pyparsing!=2.0.4,!=2.1.2,!=2.1.6,>=2.0.3 in /home/juan/anaconda3/lib/python3.8/site-packages (from matplotlib) (2.4.7)\n",
      "Requirement already satisfied: six in /home/juan/anaconda3/lib/python3.8/site-packages (from cycler>=0.10->matplotlib) (1.15.0)\n"
     ]
    }
   ],
   "source": [
    "!pip install fipy ht fluids matplotlib numpy scipy"
   ]
  },
  {
   "cell_type": "code",
   "execution_count": 2,
   "id": "russian-cleaner",
   "metadata": {
    "_cell_guid": "b1076dfc-b9ad-4769-8c92-a6c4dae69d19",
    "_uuid": "8f2839f25d086af736a60e9eeb907d3b93b6e0e5",
    "execution": {
     "iopub.execute_input": "2021-05-11T17:37:57.116533Z",
     "iopub.status.busy": "2021-05-11T17:37:57.115753Z",
     "iopub.status.idle": "2021-05-11T17:37:57.654026Z",
     "shell.execute_reply": "2021-05-11T17:37:57.652643Z"
    },
    "papermill": {
     "duration": 0.5828,
     "end_time": "2021-05-11T17:37:57.654275",
     "exception": false,
     "start_time": "2021-05-11T17:37:57.071475",
     "status": "completed"
    },
    "tags": []
   },
   "outputs": [],
   "source": [
    "from scipy.special import erf  \n",
    "import numpy as np\n",
    "import matplotlib.pyplot as plt\n",
    "from fipy import Variable, FaceVariable, CellVariable, Grid1D, ExplicitDiffusionTerm, TransientTerm, DiffusionTerm, Viewer\n",
    "from IPython.display import Latex"
   ]
  },
  {
   "cell_type": "markdown",
   "id": "commercial-strip",
   "metadata": {
    "papermill": {
     "duration": 0.03778,
     "end_time": "2021-05-11T17:37:57.729696",
     "exception": false,
     "start_time": "2021-05-11T17:37:57.691916",
     "status": "completed"
    },
    "tags": []
   },
   "source": [
    "## Solucion numerica del problema de difusión\n",
    "### Conducción no estacionaria en tranferencia de calor\n",
    "\n",
    "$$\\frac{\\partial T}{\\partial t} = D \\nabla^2 T.$$\n",
    "\n",
    "### Caso 1: Problema sólido sometido a una condición inicial de Temperatura."
   ]
  },
  {
   "cell_type": "code",
   "execution_count": 4,
   "id": "wireless-denver",
   "metadata": {
    "execution": {
     "iopub.execute_input": "2021-05-11T17:37:57.816477Z",
     "iopub.status.busy": "2021-05-11T17:37:57.815263Z",
     "iopub.status.idle": "2021-05-11T17:37:57.829856Z",
     "shell.execute_reply": "2021-05-11T17:37:57.829012Z"
    },
    "papermill": {
     "duration": 0.062204,
     "end_time": "2021-05-11T17:37:57.830031",
     "exception": false,
     "start_time": "2021-05-11T17:37:57.767827",
     "status": "completed"
    },
    "tags": []
   },
   "outputs": [],
   "source": [
    "### Geometría\n",
    "nx = 50\n",
    "Lx = 30e-2\n",
    "dx = Lx/nx\n",
    "T0 = 10.\n",
    "T1 = 20.\n",
    "#Definicion de una malla\n",
    "mesh = Grid1D(Lx=Lx, dx = dx)\n",
    "#acceso a los nodos de la malla\n",
    "x = mesh.cellCenters[0]\n",
    "\n",
    "#Definición de la variable solución del problema: T\n",
    "T = CellVariable(name=\"Temperatura\",mesh=mesh, value=T0)\n",
    "\n",
    "#Valor Inicial de la solución\n",
    "T.setValue(T0)\n",
    "\n",
    "#Parámetro Físico de la ecuacion: Difusión a\n",
    "a = 0.27e-5  #ladrillo\n",
    "\n",
    "# Condiciones de Borde Dirichlet 0 y 1\n",
    "valueLeft = T1\n",
    "valueRight = T0\n",
    "# Condicion de Borde Neumann en 0\n",
    "GradValueLeft = -1  #estos es qs/lambda\n",
    "\n",
    "# Aplicacion sobre la variable solucion del problema\n",
    "T.constrain(valueRight, mesh.facesRight)\n",
    "T.constrain(valueLeft, mesh.facesLeft)\n",
    "#T.faceGrad.constrain(-1,mesh.facesLeft)"
   ]
  },
  {
   "cell_type": "markdown",
   "id": "sunrise-large",
   "metadata": {
    "papermill": {
     "duration": 0.037075,
     "end_time": "2021-05-11T17:37:57.904624",
     "exception": false,
     "start_time": "2021-05-11T17:37:57.867549",
     "status": "completed"
    },
    "tags": []
   },
   "source": [
    "El incremento de tiempo máximo admisible se estima $\\Delta t \\le \\Delta x^2 / (2 a)$.\n",
    "Una fracción de ese valor asegura que el cálculo numérico sea estable.\n",
    "\n"
   ]
  },
  {
   "cell_type": "code",
   "execution_count": 5,
   "id": "guided-contemporary",
   "metadata": {
    "execution": {
     "iopub.execute_input": "2021-05-11T17:37:57.991627Z",
     "iopub.status.busy": "2021-05-11T17:37:57.990478Z",
     "iopub.status.idle": "2021-05-11T17:37:58.004906Z",
     "shell.execute_reply": "2021-05-11T17:37:58.004247Z"
    },
    "papermill": {
     "duration": 0.062345,
     "end_time": "2021-05-11T17:37:58.005086",
     "exception": false,
     "start_time": "2021-05-11T17:37:57.942741",
     "status": "completed"
    },
    "tags": []
   },
   "outputs": [],
   "source": [
    "# Definicion de la variable tiempo\n",
    "delta_tiempo = 0.5 * dx**2 / (2 * a)\n",
    "\n",
    "# Horizonte de tiempo \"corto\"\n",
    "Fourier = 0.035  # t *a / x\n",
    "t_final = Fourier * Lx/a\n",
    "pasos = np.int(t_final / delta_tiempo)\n",
    "\n",
    "tiempo = np.linspace(0,t_final,pasos)\n",
    "\n",
    "# Definición de la ecuación a resolver: Ecuacion de Fourier\n",
    "# Se trata de un termino transitorio y un termino difusivo\n",
    "# Se define un objeto ecuacion:    eqX\n",
    "eqX = TransientTerm() == ExplicitDiffusionTerm(coeff=a)  \n",
    "\n",
    "#Opcional para este problema introductorio, comparación con el resultado analítico\n",
    "T_Analytical_1 = CellVariable(name=\"Temperatura analítica\", mesh=mesh)\n",
    "T_Analytical_2 = CellVariable(name=\"Temperatura analítica\", mesh=mesh)\n",
    "# Evaluamos en el tiempo final\n",
    "T_Analytical_1.setValue(T0+(T1-T0)*(1 - erf(x / (2 * np.sqrt(a * t_final))))) \n",
    "T_Analytical_2.setValue(T0+(T1-T0)*(1 - erf(x / (2 * np.sqrt(a * t_final/2))))) \n",
    "#T_Analytical.setValue(0 - GradValueLeft *( np.sqrt(4*a*t_final/np.pi)*np.exp(-x**2/(4*a*t_final))-x*(1-erf(x/(4*a*t_final)**.5) ) ) )"
   ]
  },
  {
   "cell_type": "code",
   "execution_count": 6,
   "id": "hungarian-mustang",
   "metadata": {
    "execution": {
     "iopub.execute_input": "2021-05-11T17:37:58.091176Z",
     "iopub.status.busy": "2021-05-11T17:37:58.090419Z",
     "iopub.status.idle": "2021-05-11T17:37:58.096135Z",
     "shell.execute_reply": "2021-05-11T17:37:58.096949Z"
    },
    "papermill": {
     "duration": 0.053784,
     "end_time": "2021-05-11T17:37:58.097151",
     "exception": false,
     "start_time": "2021-05-11T17:37:58.043367",
     "status": "completed"
    },
    "tags": []
   },
   "outputs": [
    {
     "data": {
      "text/latex": [
       "$\\Delta t$=3.3 s"
      ],
      "text/plain": [
       "<IPython.core.display.Latex object>"
      ]
     },
     "metadata": {},
     "output_type": "display_data"
    },
    {
     "data": {
      "text/latex": [
       "$T_{final}$=3888.9 s"
      ],
      "text/plain": [
       "<IPython.core.display.Latex object>"
      ]
     },
     "metadata": {},
     "output_type": "display_data"
    },
    {
     "data": {
      "text/latex": [
       "Pasos de tiempo: 1166"
      ],
      "text/plain": [
       "<IPython.core.display.Latex object>"
      ]
     },
     "metadata": {},
     "output_type": "display_data"
    }
   ],
   "source": [
    "display(Latex('$\\Delta t$=%.2g s'%delta_tiempo))\n",
    "display(Latex('$T_{final}$=%.1f s'%t_final))\n",
    "display(Latex('Pasos de tiempo: %0d'%tiempo.shape[0]))\n"
   ]
  },
  {
   "cell_type": "code",
   "execution_count": 7,
   "id": "fatal-permission",
   "metadata": {
    "execution": {
     "iopub.execute_input": "2021-05-11T17:37:58.180109Z",
     "iopub.status.busy": "2021-05-11T17:37:58.179379Z",
     "iopub.status.idle": "2021-05-11T17:38:13.247960Z",
     "shell.execute_reply": "2021-05-11T17:38:13.246486Z"
    },
    "papermill": {
     "duration": 15.111551,
     "end_time": "2021-05-11T17:38:13.248194",
     "exception": false,
     "start_time": "2021-05-11T17:37:58.136643",
     "status": "completed"
    },
    "tags": []
   },
   "outputs": [],
   "source": [
    "# Preparación de la salida gráfica. Se visualizará la solución y la referencia analítica\n",
    "#viewer = Viewer(vars=(T,T_Analytical) )\n",
    "perfil_temp = np.tile(np.zeros_like(T.value),(pasos,1))\n",
    "# Resolución de la ecuación diferencial para cada paso temporal \n",
    "T.setValue(T0)\n",
    "for i,tiempo_i in enumerate(tiempo):\n",
    "    perfil_temp[i] = T.value\n",
    "    eqX.solve(var=T,dt=delta_tiempo)\n",
    "    #if __name__ == '__main__':\n",
    "       # viewer.plot()#('1Dtransient_%0d.png'%step)\n",
    "    "
   ]
  },
  {
   "cell_type": "code",
   "execution_count": 8,
   "id": "right-uruguay",
   "metadata": {
    "execution": {
     "iopub.execute_input": "2021-05-11T17:38:13.357936Z",
     "iopub.status.busy": "2021-05-11T17:38:13.357074Z",
     "iopub.status.idle": "2021-05-11T17:38:13.807853Z",
     "shell.execute_reply": "2021-05-11T17:38:13.806924Z"
    },
    "papermill": {
     "duration": 0.519275,
     "end_time": "2021-05-11T17:38:13.808034",
     "exception": false,
     "start_time": "2021-05-11T17:38:13.288759",
     "status": "completed"
    },
    "tags": []
   },
   "outputs": [
    {
     "data": {
      "image/png": "[encoded data removed]",
      "text/plain": [
       "<Figure size 432x288 with 1 Axes>"
      ]
     },
     "metadata": {
      "needs_background": "light"
     },
     "output_type": "display_data"
    }
   ],
   "source": [
    "#Creamos un objeto para graficar: una figura y sus ejes\n",
    "fig0,ax0  = plt.subplots()\n",
    "\n",
    "#indice que corresponde a la mitad del tiempo final\n",
    "i = np.abs(tiempo-t_final/2).argmin()\n",
    "\n",
    "# plots sobre los ejes de los perfiles de temperatura calculados\n",
    "lin1, = ax0.plot(x.value,perfil_temp[i],label='%.1f s'%tiempo[i],marker='s',linestyle='')\n",
    "lin2, = ax0.plot(x.value,perfil_temp[-1],label='%.1f s'%t_final,marker='o',linestyle = '')\n",
    "\n",
    "# plots de los perfiles analíticos\n",
    "ax0.plot(x.value,T_Analytical_2.value,label= r'Analítica $t_f/2$',color = lin1.get_color())\n",
    "ax0.plot(x.value,T_Analytical_1.value,label= r'Analítica $t_f$',color = lin2.get_color())\n",
    "ax0.legend()\n",
    "ax0.set_xlabel('x [m]')\n",
    "ax0.set_ylabel('T [$^\\circ$C]');"
   ]
  },
  {
   "cell_type": "markdown",
   "id": "institutional-accreditation",
   "metadata": {
    "papermill": {
     "duration": 0.040181,
     "end_time": "2021-05-11T17:38:13.888751",
     "exception": false,
     "start_time": "2021-05-11T17:38:13.848570",
     "status": "completed"
    },
    "tags": []
   },
   "source": [
    "### Caso 2: Problema sólido sometido a un flujo de calor constante."
   ]
  },
  {
   "cell_type": "code",
   "execution_count": 9,
   "id": "portuguese-wells",
   "metadata": {
    "execution": {
     "iopub.execute_input": "2021-05-11T17:38:13.975218Z",
     "iopub.status.busy": "2021-05-11T17:38:13.974462Z",
     "iopub.status.idle": "2021-05-11T17:38:13.987991Z",
     "shell.execute_reply": "2021-05-11T17:38:13.988567Z"
    },
    "papermill": {
     "duration": 0.059603,
     "end_time": "2021-05-11T17:38:13.988806",
     "exception": false,
     "start_time": "2021-05-11T17:38:13.929203",
     "status": "completed"
    },
    "tags": []
   },
   "outputs": [],
   "source": [
    "### Geometría\n",
    "nx = 50\n",
    "Lx = 30e-2\n",
    "dx = Lx/nx\n",
    "T0 = 10.\n",
    "T1 = 20.\n",
    "#Definicion de una malla\n",
    "mesh = Grid1D(Lx=Lx, dx = dx)\n",
    "#acceso a los nodos de la malla\n",
    "x = mesh.cellCenters[0]\n",
    "\n",
    "#Definición de la variable solución del problema: T\n",
    "T = CellVariable(name=\"Temperatura\",mesh=mesh, value=T0)\n",
    "\n",
    "#Valor Inicial de la solución\n",
    "T.setValue(T0)\n",
    "\n",
    "#Parámetro Físico de la ecuacion: Difusión a\n",
    "a = 0.27e-5  #ladrillo\n",
    "\n",
    "# Condiciones de Borde Dirichlet 0 y 1\n",
    "valueRight = T0\n",
    "# Condicion de Borde Neuman en 0\n",
    "GradValueLeft = -20  #estos es qs/lambda\n",
    "\n",
    "# Aplicacion sobre la variable solucion del problema\n",
    "T.constrain(valueRight, mesh.facesRight)\n",
    "T.faceGrad.constrain(GradValueLeft,mesh.facesLeft)"
   ]
  },
  {
   "cell_type": "code",
   "execution_count": 10,
   "id": "blocked-circus",
   "metadata": {
    "execution": {
     "iopub.execute_input": "2021-05-11T17:38:14.074869Z",
     "iopub.status.busy": "2021-05-11T17:38:14.074077Z",
     "iopub.status.idle": "2021-05-11T17:38:14.091542Z",
     "shell.execute_reply": "2021-05-11T17:38:14.092089Z"
    },
    "papermill": {
     "duration": 0.062928,
     "end_time": "2021-05-11T17:38:14.092338",
     "exception": false,
     "start_time": "2021-05-11T17:38:14.029410",
     "status": "completed"
    },
    "tags": []
   },
   "outputs": [],
   "source": [
    "# Definicion de la variable tiempo\n",
    "delta_tiempo = 0.5 * dx**2 / (2 * a)\n",
    "\n",
    "# Horizonte de tiempo \"corto\"\n",
    "Fourier = 0.035  # t *a / x\n",
    "t_final = Fourier * Lx/a\n",
    "pasos = np.int(t_final / delta_tiempo)\n",
    "\n",
    "tiempo = np.linspace(0,t_final,pasos)\n",
    "\n",
    "# Definición de la ecuación a resolver: Ecuacion de Fourier\n",
    "# Se trata de un termino transitorio y un termino difusivo\n",
    "# Se define un objeto ecuacion:    eqX\n",
    "eqX = TransientTerm() == ExplicitDiffusionTerm(coeff=a)  \n",
    "\n",
    "#Opcional para este problema introductorio, comparación con el resultado analítico\n",
    "T_Analytical = CellVariable(name=\"Temperatura analítica\", mesh=mesh)\n",
    "# Evaluamos en el tiempo final\n",
    "T_Analytical.setValue(T0 - GradValueLeft *( np.sqrt(4*a*t_final/np.pi)*np.exp(-x**2/(4*a*t_final))-x*(1-erf(x/(4*a*t_final)**.5) ) ) )"
   ]
  },
  {
   "cell_type": "code",
   "execution_count": 11,
   "id": "apparent-virtue",
   "metadata": {
    "execution": {
     "iopub.execute_input": "2021-05-11T17:38:14.179461Z",
     "iopub.status.busy": "2021-05-11T17:38:14.178720Z",
     "iopub.status.idle": "2021-05-11T17:38:28.661031Z",
     "shell.execute_reply": "2021-05-11T17:38:28.661549Z"
    },
    "papermill": {
     "duration": 14.527745,
     "end_time": "2021-05-11T17:38:28.661770",
     "exception": false,
     "start_time": "2021-05-11T17:38:14.134025",
     "status": "completed"
    },
    "tags": []
   },
   "outputs": [],
   "source": [
    "# Preparación de la salida gráfica. Se visualizará la solución y la referencia analítica\n",
    "#viewer = Viewer(vars=(T,T_Analytical) )\n",
    "perfil_temp2 = np.tile(np.zeros_like(T.value),(pasos,1))\n",
    "# Resolución de la ecuación diferencial para cada paso temporal \n",
    "T.setValue(T0)\n",
    "for i,tiempo_i in enumerate(tiempo):\n",
    "    perfil_temp2[i] = T.value\n",
    "    eqX.solve(var=T,dt=delta_tiempo)\n",
    "\n",
    "    "
   ]
  },
  {
   "cell_type": "code",
   "execution_count": 12,
   "id": "incorporated-honolulu",
   "metadata": {
    "execution": {
     "iopub.execute_input": "2021-05-11T17:38:28.772310Z",
     "iopub.status.busy": "2021-05-11T17:38:28.771492Z",
     "iopub.status.idle": "2021-05-11T17:38:28.946470Z",
     "shell.execute_reply": "2021-05-11T17:38:28.946979Z"
    },
    "papermill": {
     "duration": 0.243864,
     "end_time": "2021-05-11T17:38:28.947194",
     "exception": false,
     "start_time": "2021-05-11T17:38:28.703330",
     "status": "completed"
    },
    "tags": []
   },
   "outputs": [
    {
     "data": {
      "image/png": "[encoded data removed]",
      "text/plain": [
       "<Figure size 432x288 with 1 Axes>"
      ]
     },
     "metadata": {
      "needs_background": "light"
     },
     "output_type": "display_data"
    }
   ],
   "source": [
    "fig1,ax1  = plt.subplots()\n",
    "\n",
    "i = np.abs(tiempo-t_final/2).argmin()\n",
    "lin1, = ax1.plot(x.value,perfil_temp2[i],label='%.1f s'%tiempo[i],marker='o',linestyle='',markerfacecolor='None')\n",
    "lin2, = ax1.plot(x.value,perfil_temp2[-1],label='%.1f s'%t_final,marker='o',linestyle='',markerfacecolor='None')\n",
    "\n",
    "ax1.plot(x.value,T_Analytical.value,label= r'Analítica',color = lin2.get_color())\n",
    "\n",
    "ax1.legend()\n",
    "ax1.set_xlabel('x [m]')\n",
    "ax1.set_ylabel('T [$^\\circ$C]');"
   ]
  },
  {
   "cell_type": "code",
   "execution_count": null,
   "id": "f83b0926",
   "metadata": {},
   "outputs": [],
   "source": []
  }
 ],
 "metadata": {
  "kernelspec": {
   "display_name": "Python 3",
   "language": "python",
   "name": "python3"
  },
  "language_info": {
   "codemirror_mode": {
    "name": "ipython",
    "version": 3
   },
   "file_extension": ".py",
   "mimetype": "text/x-python",
   "name": "python",
   "nbconvert_exporter": "python",
   "pygments_lexer": "ipython3",
   "version": "3.8.8"
  },
  "latex_envs": {
   "LaTeX_envs_menu_present": true,
   "autoclose": true,
   "autocomplete": true,
   "bibliofile": "biblio.bib",
   "cite_by": "apalike",
   "current_citInitial": 1,
   "eqLabelWithNumbers": true,
   "eqNumInitial": 1,
   "hotkeys": {
    "equation": "Ctrl-E",
    "itemize": "Ctrl-I"
   },
   "labels_anchors": false,
   "latex_user_defs": false,
   "report_style_numbering": false,
   "user_envs_cfg": false
  },
  "papermill": {
   "default_parameters": {},
   "duration": 65.950194,
   "end_time": "2021-05-11T17:38:30.002836",
   "environment_variables": {},
   "exception": null,
   "input_path": "__notebook__.ipynb",
   "output_path": "__notebook__.ipynb",
   "parameters": {},
   "start_time": "2021-05-11T17:37:24.052642",
   "version": "2.3.3"
  }
 },
 "nbformat": 4,
 "nbformat_minor": 5
}
