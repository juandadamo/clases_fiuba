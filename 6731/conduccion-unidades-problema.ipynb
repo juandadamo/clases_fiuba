{
 "cells": [
  {
   "cell_type": "code",
   "execution_count": 1,
   "id": "intense-civilization",
   "metadata": {
    "execution": {
     "iopub.execute_input": "2021-04-27T15:30:24.917520Z",
     "iopub.status.busy": "2021-04-27T15:30:24.916356Z",
     "iopub.status.idle": "2021-04-27T15:30:38.532773Z",
     "shell.execute_reply": "2021-04-27T15:30:38.533156Z"
    },
    "papermill": {
     "duration": 13.633083,
     "end_time": "2021-04-27T15:30:38.533424",
     "exception": false,
     "start_time": "2021-04-27T15:30:24.900341",
     "status": "completed"
    },
    "tags": []
   },
   "outputs": [
    {
     "name": "stdout",
     "output_type": "stream",
     "text": [
      "Collecting ht\r\n",
      "  Downloading ht-1.0.1.tar.gz (899 kB)\r\n",
      "\u001b[K     |████████████████████████████████| 899 kB 860 kB/s \r\n",
      "\u001b[?25hCollecting pint\r\n",
      "  Downloading Pint-0.17-py2.py3-none-any.whl (204 kB)\r\n",
      "\u001b[K     |████████████████████████████████| 204 kB 4.0 MB/s \r\n",
      "\u001b[?25hCollecting fluids>=1.0.2\r\n",
      "  Downloading fluids-1.0.5.tar.gz (2.1 MB)\r\n",
      "\u001b[K     |████████████████████████████████| 2.1 MB 3.9 MB/s \r\n",
      "\u001b[?25hRequirement already satisfied: numpy>=1.5.0 in /opt/conda/lib/python3.7/site-packages (from ht) (1.19.5)\r\n",
      "Requirement already satisfied: scipy>=0.9.0 in /opt/conda/lib/python3.7/site-packages (from ht) (1.5.4)\r\n",
      "Requirement already satisfied: importlib-metadata in /opt/conda/lib/python3.7/site-packages (from pint) (3.4.0)\r\n",
      "Requirement already satisfied: packaging in /opt/conda/lib/python3.7/site-packages (from pint) (20.9)\r\n",
      "Requirement already satisfied: zipp>=0.5 in /opt/conda/lib/python3.7/site-packages (from importlib-metadata->pint) (3.4.1)\r\n",
      "Requirement already satisfied: typing-extensions>=3.6.4 in /opt/conda/lib/python3.7/site-packages (from importlib-metadata->pint) (3.7.4.3)\r\n",
      "Requirement already satisfied: pyparsing>=2.0.2 in /opt/conda/lib/python3.7/site-packages (from packaging->pint) (2.4.7)\r\n",
      "Building wheels for collected packages: ht, fluids\r\n",
      "  Building wheel for ht (setup.py) ... \u001b[?25l-\b \b\\\b \b|\b \b/\b \bdone\r\n",
      "\u001b[?25h  Created wheel for ht: filename=ht-1.0.1-py3-none-any.whl size=837891 sha256=44626b98143a55f3a4b9af89e1ba2d622e1250365b447671fbd9693647e3b97c\r\n",
      "  Stored in directory: /root/.cache/pip/wheels/27/7f/fd/663f7442317cb8408db8d87f256bb804274910c8f1c081cad1\r\n",
      "  Building wheel for fluids (setup.py) ... \u001b[?25l-\b \b\\\b \b|\b \b/\b \bdone\r\n",
      "\u001b[?25h  Created wheel for fluids: filename=fluids-1.0.5-py3-none-any.whl size=1479556 sha256=44afc72f2d0f014ecbe3aa210009d682c8dfe41a1cee2ff940cdd8076152f830\r\n",
      "  Stored in directory: /root/.cache/pip/wheels/33/60/e5/30bd59c386671c89e1b741ea85243c60c523cb0b4d1176b345\r\n",
      "Successfully built ht fluids\r\n",
      "Installing collected packages: fluids, pint, ht\r\n",
      "Successfully installed fluids-1.0.5 ht-1.0.1 pint-0.17\r\n"
     ]
    }
   ],
   "source": [
    "!pip install ht pint"
   ]
  },
  {
   "cell_type": "code",
   "execution_count": 2,
   "id": "bridal-editor",
   "metadata": {
    "execution": {
     "iopub.execute_input": "2021-04-27T15:30:38.577787Z",
     "iopub.status.busy": "2021-04-27T15:30:38.577100Z",
     "iopub.status.idle": "2021-04-27T15:30:40.197466Z",
     "shell.execute_reply": "2021-04-27T15:30:40.196964Z"
    },
    "papermill": {
     "duration": 1.644377,
     "end_time": "2021-04-27T15:30:40.197584",
     "exception": false,
     "start_time": "2021-04-27T15:30:38.553207",
     "status": "completed"
    },
    "tags": []
   },
   "outputs": [],
   "source": [
    "import numpy as np # linear algebra\n",
    "import ht,pint\n",
    "import matplotlib.pyplot as plt\n",
    "from IPython.display import  Latex\n",
    "ureg = pint.UnitRegistry()#(fmt_locale='es_ES')"
   ]
  },
  {
   "cell_type": "markdown",
   "id": "organic-animal",
   "metadata": {
    "papermill": {
     "duration": 0.018978,
     "end_time": "2021-04-27T15:30:40.235788",
     "exception": false,
     "start_time": "2021-04-27T15:30:40.216810",
     "status": "completed"
    },
    "tags": []
   },
   "source": [
    "### Problema 10\n",
    "El rotor de una turbina de gas tiene 54 álabes de acero inoxidable AISI 302 de\n",
    "dimensiones $L= 6$ cm, $A_ c = 4\\cdot10^{-4}$ m$^2$ y $P= 0.1$ m. Cuando la corriente de gas está a\n",
    "900 $^\\circ$C, la temperatura de la base de los álabes es de 500 $^\\circ$C. Calcule la carga\n",
    "térmica sobre el sistema de enfriamiento interno del rotor si se admite que el\n",
    "coeficiente de transferencia de calor por convección es de 440 W/m$^2$ K."
   ]
  },
  {
   "cell_type": "code",
   "execution_count": 3,
   "id": "billion-anger",
   "metadata": {
    "execution": {
     "iopub.execute_input": "2021-04-27T15:30:40.280080Z",
     "iopub.status.busy": "2021-04-27T15:30:40.279467Z",
     "iopub.status.idle": "2021-04-27T15:30:40.284775Z",
     "shell.execute_reply": "2021-04-27T15:30:40.284063Z"
    },
    "papermill": {
     "duration": 0.029963,
     "end_time": "2021-04-27T15:30:40.284927",
     "exception": false,
     "start_time": "2021-04-27T15:30:40.254964",
     "status": "completed"
    },
    "tags": []
   },
   "outputs": [],
   "source": [
    "n_alabes = 54\n",
    "\n",
    "L = 6e-2*ureg.m\n",
    "A_c = 4e-4*ureg.m**2\n",
    "P = 0.1*ureg.m\n",
    "T_gas = (900+273)*ureg.K\n",
    "T_base = (500+273)*ureg.K\n",
    "h_conv = 440*ureg.watt/ureg.m**2/ureg.K"
   ]
  },
  {
   "cell_type": "code",
   "execution_count": 4,
   "id": "historical-diving",
   "metadata": {
    "execution": {
     "iopub.execute_input": "2021-04-27T15:30:40.351768Z",
     "iopub.status.busy": "2021-04-27T15:30:40.350951Z",
     "iopub.status.idle": "2021-04-27T15:30:40.356210Z",
     "shell.execute_reply": "2021-04-27T15:30:40.355638Z"
    },
    "papermill": {
     "duration": 0.042786,
     "end_time": "2021-04-27T15:30:40.356351",
     "exception": false,
     "start_time": "2021-04-27T15:30:40.313565",
     "status": "completed"
    },
    "tags": []
   },
   "outputs": [
    {
     "data": {
      "text/latex": [
       "$L=$6.0 centimeter"
      ],
      "text/plain": [
       "<IPython.core.display.Latex object>"
      ]
     },
     "metadata": {},
     "output_type": "display_data"
    }
   ],
   "source": [
    "L = 6*ureg.cm\n",
    "display(Latex('$L=$'+f'{L:.1f}'))"
   ]
  },
  {
   "cell_type": "markdown",
   "id": "specialized-payment",
   "metadata": {
    "papermill": {
     "duration": 0.021548,
     "end_time": "2021-04-27T15:30:40.400442",
     "exception": false,
     "start_time": "2021-04-27T15:30:40.378894",
     "status": "completed"
    },
    "tags": []
   },
   "source": [
    "\\begin{equation}\\label{solq}\n",
    "\\dot Q =\\frac{\\theta_0\\alpha P}{\\beta} \\tanh(\\beta L)\n",
    "\\end{equation}\n",
    "\n",
    "$$\\beta^2=\\frac{\\alpha P}{\\lambda S_t}$$"
   ]
  },
  {
   "cell_type": "code",
   "execution_count": 5,
   "id": "gross-ferry",
   "metadata": {
    "execution": {
     "iopub.execute_input": "2021-04-27T15:30:40.451839Z",
     "iopub.status.busy": "2021-04-27T15:30:40.451306Z",
     "iopub.status.idle": "2021-04-27T15:30:40.455080Z",
     "shell.execute_reply": "2021-04-27T15:30:40.454610Z"
    },
    "papermill": {
     "duration": 0.034726,
     "end_time": "2021-04-27T15:30:40.455213",
     "exception": false,
     "start_time": "2021-04-27T15:30:40.420487",
     "status": "completed"
    },
    "tags": []
   },
   "outputs": [],
   "source": [
    "acero_inox = ht.nearest_material('stainless steel')\n",
    "k_acero_inox = ht.k_material(acero_inox)*ureg.watt/ureg.m/ureg.K"
   ]
  },
  {
   "cell_type": "code",
   "execution_count": 6,
   "id": "framed-header",
   "metadata": {
    "execution": {
     "iopub.execute_input": "2021-04-27T15:30:40.503193Z",
     "iopub.status.busy": "2021-04-27T15:30:40.502521Z",
     "iopub.status.idle": "2021-04-27T15:30:40.506958Z",
     "shell.execute_reply": "2021-04-27T15:30:40.506490Z"
    },
    "papermill": {
     "duration": 0.030791,
     "end_time": "2021-04-27T15:30:40.507079",
     "exception": false,
     "start_time": "2021-04-27T15:30:40.476288",
     "status": "completed"
    },
    "tags": []
   },
   "outputs": [],
   "source": [
    "theta_0 = T_gas-T_base\n",
    "beta = (h_conv*P/(k_acero_inox*A_c) )**0.5"
   ]
  },
  {
   "cell_type": "code",
   "execution_count": 7,
   "id": "passing-incident",
   "metadata": {
    "execution": {
     "iopub.execute_input": "2021-04-27T15:30:40.553310Z",
     "iopub.status.busy": "2021-04-27T15:30:40.552498Z",
     "iopub.status.idle": "2021-04-27T15:30:40.561120Z",
     "shell.execute_reply": "2021-04-27T15:30:40.560543Z"
    },
    "papermill": {
     "duration": 0.033753,
     "end_time": "2021-04-27T15:30:40.561252",
     "exception": false,
     "start_time": "2021-04-27T15:30:40.527499",
     "status": "completed"
    },
    "tags": []
   },
   "outputs": [
    {
     "data": {
      "text/latex": [
       "$\\beta$= 80.4 / m"
      ],
      "text/plain": [
       "<IPython.core.display.Latex object>"
      ]
     },
     "metadata": {},
     "output_type": "display_data"
    },
    {
     "data": {
      "text/latex": [
       "$\\beta L$= 482.64 cm / m"
      ],
      "text/plain": [
       "<IPython.core.display.Latex object>"
      ]
     },
     "metadata": {},
     "output_type": "display_data"
    }
   ],
   "source": [
    "display(Latex(r'$\\beta$='+f' {beta:~.1f}'))\n",
    "display(Latex(r'$\\beta L$='+f' {(beta*L):~.2f}'))"
   ]
  },
  {
   "cell_type": "code",
   "execution_count": 8,
   "id": "executed-maintenance",
   "metadata": {
    "execution": {
     "iopub.execute_input": "2021-04-27T15:30:40.609767Z",
     "iopub.status.busy": "2021-04-27T15:30:40.609055Z",
     "iopub.status.idle": "2021-04-27T15:30:40.617481Z",
     "shell.execute_reply": "2021-04-27T15:30:40.617016Z"
    },
    "papermill": {
     "duration": 0.034992,
     "end_time": "2021-04-27T15:30:40.617601",
     "exception": false,
     "start_time": "2021-04-27T15:30:40.582609",
     "status": "completed"
    },
    "tags": []
   },
   "outputs": [
    {
     "data": {
      "text/latex": [
       "$\\dot Q$= 218.8 W"
      ],
      "text/plain": [
       "<IPython.core.display.Latex object>"
      ]
     },
     "metadata": {},
     "output_type": "display_data"
    },
    {
     "data": {
      "text/latex": [
       "$\\dot Q_{T}$= 11.8 kW"
      ],
      "text/plain": [
       "<IPython.core.display.Latex object>"
      ]
     },
     "metadata": {},
     "output_type": "display_data"
    }
   ],
   "source": [
    "Q = theta_0*h_conv*P*np.tanh(beta*L)/beta\n",
    "display(Latex(r'$\\dot Q$='+f' {Q:~.1f}'))\n",
    "Qtotal = Q*n_alabes\n",
    "display(Latex(r'$\\dot Q_{T}$='+f' {Qtotal.to(ureg.kW):~.1f}'))"
   ]
  },
  {
   "cell_type": "code",
   "execution_count": 9,
   "id": "desirable-basket",
   "metadata": {
    "execution": {
     "iopub.execute_input": "2021-04-27T15:30:40.667521Z",
     "iopub.status.busy": "2021-04-27T15:30:40.666848Z",
     "iopub.status.idle": "2021-04-27T15:30:40.670670Z",
     "shell.execute_reply": "2021-04-27T15:30:40.671324Z"
    },
    "papermill": {
     "duration": 0.031575,
     "end_time": "2021-04-27T15:30:40.671534",
     "exception": false,
     "start_time": "2021-04-27T15:30:40.639959",
     "status": "completed"
    },
    "tags": []
   },
   "outputs": [],
   "source": [
    "lista_materiales = ht.insulation.materials_dict"
   ]
  },
  {
   "cell_type": "code",
   "execution_count": 10,
   "id": "chinese-webster",
   "metadata": {
    "execution": {
     "iopub.execute_input": "2021-04-27T15:30:40.751899Z",
     "iopub.status.busy": "2021-04-27T15:30:40.746953Z",
     "iopub.status.idle": "2021-04-27T15:30:40.757644Z",
     "shell.execute_reply": "2021-04-27T15:30:40.757128Z"
    },
    "papermill": {
     "duration": 0.052334,
     "end_time": "2021-04-27T15:30:40.757797",
     "exception": false,
     "start_time": "2021-04-27T15:30:40.705463",
     "status": "completed"
    },
    "tags": []
   },
   "outputs": [
    {
     "data": {
      "text/plain": [
       "{'Silica': 1,\n",
       " 'Silica special': 1,\n",
       " 'Fused silica': 1,\n",
       " 'Fireclay': 1,\n",
       " 'High-duty fireclay': 1,\n",
       " 'Sillimanite': 1,\n",
       " 'Mullite': 1,\n",
       " 'Corundum 90%': 1,\n",
       " 'Bauxite': 1,\n",
       " 'Corundum 99%': 1,\n",
       " 'Corundum Spinel': 1,\n",
       " 'ACr 90': 1,\n",
       " 'ACrZ 20': 1,\n",
       " 'ACrZ 60': 1,\n",
       " 'Magnesite Chrome': 1,\n",
       " 'Magnesia': 1,\n",
       " 'Magnesite Spinel': 1,\n",
       " 'Magnesite Graphite H15': 1,\n",
       " 'Dolomite P10': 1,\n",
       " 'Sillimanite P5': 1,\n",
       " 'Bauxite P5': 1,\n",
       " 'Corundum P10': 1,\n",
       " 'Magnesite P5': 1,\n",
       " 'Zirconia': 1,\n",
       " 'Zircon': 1,\n",
       " 'AZS 41': 1,\n",
       " 'AZS 33': 1,\n",
       " 'a/b-Alumina': 1,\n",
       " 'SIC 40%': 1,\n",
       " 'SIC 70%': 1,\n",
       " 'SIC 90%': 1,\n",
       " 'L1260': 1,\n",
       " 'L1400': 1,\n",
       " 'L1540': 1,\n",
       " 'L1760': 1,\n",
       " 'L1870': 1,\n",
       " 'Carbon, anthracite': 1,\n",
       " 'Carbon, graphite': 1,\n",
       " 'Board, Asbestos/cement': 2,\n",
       " 'Board, Cement': 2,\n",
       " 'Board, Fiber/cement, 1400 kg/m^3': 2,\n",
       " 'Board, Fiber/cement, 1000 kg/m^3': 2,\n",
       " 'Board, Fiber/cement, 400 kg/m^3': 2,\n",
       " 'Board, Fiber/cement, 300 kg/m^3': 2,\n",
       " 'Gypsum or plaster board': 2,\n",
       " 'Oriented strand board (OSB)': 2,\n",
       " 'Plywood (douglas fir)': 2,\n",
       " 'Plywood/wood panels': 2,\n",
       " 'Vegetable fiber board, Sheathing, regular density': 2,\n",
       " 'Vegetable fiber board, Sheathing, intermediate density': 2,\n",
       " 'Vegetable fiber board, Nail-base sheathing': 2,\n",
       " 'Vegetable fiber board, Shingle backer': 2,\n",
       " 'Vegetable fiber board, Sound deadening board': 2,\n",
       " 'Vegetable fiber board, Tile and lay-in panels, plain or acoustic': 2,\n",
       " 'Vegetable fiber board, Laminated paperboard': 2,\n",
       " 'Vegetable fiber board, Homogeneous board from repulped paper': 2,\n",
       " 'Hardboard, medium density': 2,\n",
       " 'Hardboard, high density, service-tempered grade and service grade': 2,\n",
       " 'Hardboard, high density, standard-tempered grade': 2,\n",
       " 'Particleboard, low density': 2,\n",
       " 'Particleboard, medium density': 2,\n",
       " 'Particleboard, high density': 2,\n",
       " 'Particleboard, underlayment': 2,\n",
       " 'Waferboard': 2,\n",
       " 'Shingles, Asbestos/cement': 2,\n",
       " 'Shingles, Wood, 400 mm, 190 mm exposure': 2,\n",
       " 'Shingles, Wood, double, 400 mm, 300 mm exposure': 2,\n",
       " 'Shingles, Wood, plus ins. backer board': 2,\n",
       " 'Shingles, Siding, Asbestos/cement, lapped': 2,\n",
       " 'Shingles, Siding, Asphalt roll siding': 2,\n",
       " 'Siding, Asphalt insulating siding': 2,\n",
       " 'Siding, Hardboard siding': 2,\n",
       " 'Siding, Wood, drop, 200 mm': 2,\n",
       " 'Siding, Wood, bevel, 200 mm, lapped': 2,\n",
       " 'Siding, Wood, bevel, 250 mm, lapped': 2,\n",
       " 'Siding, Wood, plywood, lapped': 2,\n",
       " 'Siding, Aluminum, steel, or vinyl, over sheathing, hollow-backed': 2,\n",
       " 'Siding, Aluminum, steel, or vinyl, over sheathing, insulating-board-backed': 2,\n",
       " 'Siding, Aluminum, steel, or vinyl, over sheathing foil-backed': 2,\n",
       " 'Siding, Architectural (soda-lime float) glass': 2,\n",
       " 'Carpet and rebounded urethane pad': 2,\n",
       " 'Carpet and rubber pad, one-piece': 2,\n",
       " 'Pile carpet with rubber pad': 2,\n",
       " 'Linoleum/cork tile': 2,\n",
       " 'PVC/Rubber floor covering, Rubber tile': 2,\n",
       " 'PVC/Rubber floor covering, Terrazzo': 2,\n",
       " 'Glass-fiber batts, 90 mm': 2,\n",
       " 'Glass-fiber batts, 50 mm': 2,\n",
       " 'Mineral fiber': 2,\n",
       " 'Mineral wool, felted, 32 kg/m^3': 2,\n",
       " 'Mineral wool, felted, 100 kg/m^3': 2,\n",
       " 'Slag wool, 120 kg/m^3': 2,\n",
       " 'Slag wool, 255 kg/m^3': 2,\n",
       " 'Slag wool, 305 kg/m^3': 2,\n",
       " 'Slag wool, 350 kg/m^3': 2,\n",
       " 'Slag wool, 400 kg/m^3': 2,\n",
       " 'Cellular glass': 2,\n",
       " 'Cement fiber slabs, shredded wood, with Portland cement binder': 2,\n",
       " 'Cement fiber slabs, shredded wood, with magnesia oxysulfide binder': 2,\n",
       " 'Glass fiber board': 2,\n",
       " 'Expanded rubber': 2,\n",
       " 'Expanded polystyrene, extruded': 2,\n",
       " 'Expanded polystyrene, molded beads': 2,\n",
       " 'Mineral fiberboard, wet felted': 2,\n",
       " 'Mineral fiberboard, wet felted, core or roof insulation': 2,\n",
       " 'Mineral fiberboard, wet felted, acoustical tile, 290 kg/m^3': 2,\n",
       " 'Mineral fiberboard, wet felted, acoustical tile, 335 kg/m^3': 2,\n",
       " 'Mineral fiberboard, wet-molded, acoustical tile': 2,\n",
       " 'Perlite board': 2,\n",
       " 'Polyisocyanurate, aged, unfaced': 2,\n",
       " 'Polyisocyanurate, aged, with facers': 2,\n",
       " 'Phenolic foam board with facers, aged': 2,\n",
       " 'Loose fill, Cellulosic': 2,\n",
       " 'Loose fill, Perlite, expanded, 50 kg/m^3': 2,\n",
       " 'Loose fill, Perlite, expanded, 100 kg/m^3': 2,\n",
       " 'Loose fill, Perlite, expanded, 150 kg/m^3': 2,\n",
       " 'Loose fill, Mineral fiber, 95 to 130 mm': 2,\n",
       " 'Loose fill, Mineral fiber, 170 to 220 mm': 2,\n",
       " 'Loose fill, Mineral fiber, 190 to 250 mm': 2,\n",
       " 'Loose fill, Mineral fiber, 260 to 350 mm': 2,\n",
       " 'Loose fill, Mineral fiber, 90 mm': 2,\n",
       " 'Loose fill, Vermiculite, exfoliated, 120 kg/m^3': 2,\n",
       " 'Loose fill, Vermiculite, exfoliated, 80 kg/m^3': 2,\n",
       " 'Spray-applied Cellulosic fiber': 2,\n",
       " 'Spray-applied Glass fiber': 2,\n",
       " 'Spray-applied Polyurethane foam, 7 kg/m^3': 2,\n",
       " 'Spray-applied Polyurethane foam, 40 kg/m^3': 2,\n",
       " 'Spray-applied Polyurethane foam, aged and dry, 40 mm': 2,\n",
       " 'Spray-applied Polyurethane foam, aged and dry, 50 mm': 2,\n",
       " 'Spray-applied Polyurethane foam, aged and dry, 120 mm': 2,\n",
       " 'Spray-applied Ureaformaldehyde foam, dry': 2,\n",
       " 'Asbestos/cement shingles': 2,\n",
       " 'Asphalt (bitumen with inert fill), 1600 kg/m^3': 2,\n",
       " 'Asphalt (bitumen with inert fill), 1900 kg/m^3': 2,\n",
       " 'Asphalt (bitumen with inert fill), 2300 kg/m^3': 2,\n",
       " 'Asphalt roll roofing': 2,\n",
       " 'Asphalt shingles': 2,\n",
       " 'Built-up roofing': 2,\n",
       " 'Mastic asphalt (heavy, 20% grit)': 2,\n",
       " 'Reed thatch': 2,\n",
       " 'Roofing felt': 2,\n",
       " 'Slate': 2,\n",
       " 'Straw thatch': 2,\n",
       " 'Wood shingles, plain and plastic-film-faced': 2,\n",
       " 'Cement plaster, sand aggregate': 2,\n",
       " 'Sand aggregate': 2,\n",
       " 'Gypsum plaster, 1120 kg/m^3': 2,\n",
       " 'Gypsum plaster, 1280 kg/m^3': 2,\n",
       " 'Lightweight aggregate': 2,\n",
       " 'Perlite aggregate': 2,\n",
       " 'Vermiculite aggregate, 480 kg/m^3': 2,\n",
       " 'Vermiculite aggregate, 600 kg/m^3': 2,\n",
       " 'Vermiculite aggregate, 720 kg/m^3': 2,\n",
       " 'Vermiculite aggregate, 840 kg/m^3': 2,\n",
       " 'Vermiculite aggregate, 960 kg/m^3': 2,\n",
       " 'Perlite plaster, 400 kg/m^3': 2,\n",
       " 'Perlite plaster, 600 kg/m^3': 2,\n",
       " 'Pulpboard or paper plaster': 2,\n",
       " 'Sand/cement plaster, conditioned': 2,\n",
       " 'Sand/cement/lime plaster, conditioned': 2,\n",
       " 'Sand/gypsum (3:1) plaster, conditioned': 2,\n",
       " 'Brick, fired clay, 2400 kg/m^3': 2,\n",
       " 'Brick, fired clay, 2240 kg/m^3': 2,\n",
       " 'Brick, fired clay, 2080 kg/m^3': 2,\n",
       " 'Brick, fired clay, 1920 kg/m^3': 2,\n",
       " 'Brick, fired clay, 1760 kg/m^3': 2,\n",
       " 'Brick, fired clay, 1600 kg/m^3': 2,\n",
       " 'Brick, fired clay, 1440 kg/m^3': 2,\n",
       " 'Brick, fired clay, 1280 kg/m^3': 2,\n",
       " 'Brick, fired clay, 1120 kg/m^3': 2,\n",
       " 'Clay tile, hollow, 1 cell deep': 2,\n",
       " 'Clay tile, hollow, 2 cells deep': 2,\n",
       " 'Clay tile, hollow, 3 cells deep': 2,\n",
       " 'Lightweight brick, 800 kg/m^3': 2,\n",
       " 'Lightweight brick, 770 kg/m^3': 2,\n",
       " 'Concrete blocks, Limestone aggregate, 200 mm, 16 kg, 2200 kg/m^3, 2 cores with perlite-filled cores': 2,\n",
       " 'Concrete blocks, Limestone aggregate, 300 mm, 25 kg, 2200 kg/m^3, 2 cores with perlite-filled cores.': 2,\n",
       " 'Concrete blocks, normal-weight aggregate, 300 mm, 23 kg, 2100 kg/m^3, 2 or 3 cores': 2,\n",
       " 'Concrete blocks, normal-weight aggregate, 300 mm, 23 kg, 2100 kg/m^3, with perlite-filled cores': 2,\n",
       " 'Concrete blocks, normal-weight aggregate, 300 mm, 23 kg, 2100 kg/m^3, with vermiculite-filled cores': 2,\n",
       " 'Concrete blocks, normal-weight aggregate, 300 mm, 23 kg, 2000 kg/m^3, 2 cores': 2,\n",
       " 'Concrete blocks, medium-weight aggregate, 200 mm, 13 kg, 1650 kg/m^3, 2 or 3 cores': 2,\n",
       " 'Concrete blocks, medium-weight aggregate, 200 mm, 13 kg, 1650 kg/m^3, with perlite-filled cores': 2,\n",
       " 'Concrete blocks, medium-weight aggregate, 200 mm, 13 kg, 1650 kg/m^3, with vermiculite-filled cores': 2,\n",
       " 'Concrete blocks, medium-weight aggregate, 200 mm, 13 kg, 1650 kg/m^3, with molded-EPS-filled cores': 2,\n",
       " 'Concrete blocks, medium-weight aggregate, 200 mm, 13 kg, 1650 kg/m^3, with molded EPS inserts in cores': 2,\n",
       " 'Concrete blocks, low-mass aggregate, 150 mm, 7.5 kg, 1400 kg/m^3, 2 or 3 cores': 2,\n",
       " 'Concrete blocks, low-mass aggregate, 150 mm, 7.5 kg, 1400 kg/m^3, with perlite-filled cores': 2,\n",
       " 'Concrete blocks, low-mass aggregate, 150 mm, 7.5 kg, 1400 kg/m^3, with vermiculite-filled cores': 2,\n",
       " 'Concrete blocks, low-mass aggregate, 200 mm, 9 kg, 1250 kg/m^3': 2,\n",
       " 'Concrete blocks, low-mass aggregate, 200 mm, 9 kg, 1250 kg/m^3, with perlite-filled cores': 2,\n",
       " 'Concrete blocks, low-mass aggregate, 200 mm, 9 kg, 1250 kg/m^3, with vermiculite-filled cores': 2,\n",
       " 'Concrete blocks, low-mass aggregate, 200 mm, 9 kg, 1250 kg/m^3, with molded-EPS-filled cores': 2,\n",
       " 'Concrete blocks, low-mass aggregate, 200 mm, 9 kg, 1250 kg/m^3, with UF foam-filled cores': 2,\n",
       " 'Concrete blocks, low-mass aggregate, 200 mm, 9 kg, 1250 kg/m^3, with molded EPS inserts in cores': 2,\n",
       " 'Concrete blocks, low-mass aggregate, 300 mm, 16 kg, 1400 kg/m^3, 2 or 3 cores': 2,\n",
       " 'Concrete blocks, low-mass aggregate, 300 mm, 16 kg, 1400 kg/m^3, with perlite-filled cores': 2,\n",
       " 'Concrete blocks, low-mass aggregate, 300 mm, 16 kg, 1400 kg/m^3, with vermiculite-filled cores': 2,\n",
       " 'Stone, lime, or sand': 2,\n",
       " 'Quartzitic and sandstone, 2560 kg/m^3': 2,\n",
       " 'Quartzitic and sandstone, 2240 kg/m^3': 2,\n",
       " 'Quartzitic and sandstone, 1920 kg/m^3': 2,\n",
       " 'Calcitic, dolomitic, limestone, marble, and granite, 2880 kg/m^3': 2,\n",
       " 'Calcitic, dolomitic, limestone, marble, and granite, 2560 kg/m^3': 2,\n",
       " 'Calcitic, dolomitic, limestone, marble, and granite, 2240 kg/m^3': 2,\n",
       " 'Calcitic, dolomitic, limestone, marble, and granite, 1920 kg/m^3': 2,\n",
       " 'Calcitic, dolomitic, limestone, marble, and granite, 1600 kg/m^3': 2,\n",
       " 'Gypsum partition tile, 75 by 300 by 760 mm, solid, 3 cells': 2,\n",
       " 'Gypsum partition tile, 75 by 300 by 760 mm, with 4 cells': 2,\n",
       " 'Gypsum partition tile, 100 by 300 by 760 mm, 3 cells': 2,\n",
       " 'Limestone, 2400 kg/m^3': 2,\n",
       " 'Limestone, 2600 kg/m^3': 2,\n",
       " 'Concrete, Sand and gravel or stone aggregate concretes, 2400 kg/m^3': 2,\n",
       " 'Concrete, Sand and gravel or stone aggregate concretes, 2240 kg/m^3': 2,\n",
       " 'Concrete, Sand and gravel or stone aggregate concretes, 2080 kg/m^3': 2,\n",
       " 'Concrete, Low-mass aggregate or limestone': 2,\n",
       " 'Concrete, Expanded shale, clay, or slate; expanded slags; cinders; pumice; scoria; 1600 kg/m^3': 2,\n",
       " 'Concrete, Expanded shale, clay, or slate; expanded slags; cinders; pumice; scoria; 1280 kg/m^3': 2,\n",
       " 'Concrete, Expanded shale, clay, or slate; expanded slags; cinders; pumice; scoria; 960 kg/m^3': 2,\n",
       " 'Concrete, Expanded shale, clay, or slate; expanded slags; cinders; pumice; scoria; 640 kg/m^3': 2,\n",
       " 'Concrete, Gypsum/fiber concrete (87.5% gypsum, 12.5% wood chips)': 2,\n",
       " 'Concrete, Cement/lime, mortar, and stucco, 1920 kg/m^3': 2,\n",
       " 'Concrete, Cement/lime, mortar, and stucco, 1600 kg/m^3': 2,\n",
       " 'Concrete, Cement/lime, mortar, and stucco, 1280 kg/m^3': 2,\n",
       " 'Concrete, Perlite, vermiculite, and polystyrene beads, 800 kg/m^3': 2,\n",
       " 'Concrete, Perlite, vermiculite, and polystyrene beads, 640 kg/m^3': 2,\n",
       " 'Concrete, Perlite, vermiculite, and polystyrene beads, 480 kg/m^3': 2,\n",
       " 'Concrete, Perlite, vermiculite, and polystyrene beads, 320 kg/m^3': 2,\n",
       " 'Concrete, Foam concretes, 1920 kg/m^3': 2,\n",
       " 'Concrete, Foam concretes, 1600 kg/m^3': 2,\n",
       " 'Concrete, Foam concretes, 1280 kg/m^3': 2,\n",
       " 'Concrete, Foam concretes, 1120 kg/m^3': 2,\n",
       " 'Concrete, Foam concretes and cellular concretes, 960 kg/m^3': 2,\n",
       " 'Concrete, Foam concretes and cellular concretes, 640 kg/m^3': 2,\n",
       " 'Concrete, Foam concretes and cellular concretes, 320 kg/m^3': 2,\n",
       " 'Concrete, Aerated concrete (oven-dried)': 2,\n",
       " 'Concrete, Polystyrene concrete (oven-dried)': 2,\n",
       " 'Concrete, Polymer concrete, 1950 kg/m^3': 2,\n",
       " 'Concrete, Polymer concrete, 2200 kg/m^3': 2,\n",
       " 'Concrete, Polymer cement': 2,\n",
       " 'Concrete, Slag concrete, 960 kg/m^3': 2,\n",
       " 'Concrete, Slag concrete, 1280 kg/m^3': 2,\n",
       " 'Concrete, Slag concrete, 1600 kg/m^3': 2,\n",
       " 'Concrete, Slag concrete, 2000 kg/m^3': 2,\n",
       " 'Oak': 2,\n",
       " 'Birch': 2,\n",
       " 'Maple': 2,\n",
       " 'Ash': 2,\n",
       " 'Southern pine': 2,\n",
       " 'Southern yellow pine': 2,\n",
       " 'Eastern white pine': 2,\n",
       " 'Douglas fir/larch': 2,\n",
       " 'Southern cypress': 2,\n",
       " 'Hem/fir, spruce/pine/fir': 2,\n",
       " 'Spruce': 2,\n",
       " 'Western red cedar': 2,\n",
       " 'West coast woods, cedars': 2,\n",
       " 'Eastern white cedar': 2,\n",
       " 'California redwood': 2,\n",
       " 'Pine (oven-dried)': 2,\n",
       " 'Spruce (oven-dried)': 2,\n",
       " 'Asphalt': 3,\n",
       " 'Bitumen, pure': 3,\n",
       " 'Bitumen, felt or sheet': 3,\n",
       " 'Concrete, medium density 1800 kg/m^3': 3,\n",
       " 'Concrete, medium density 2000 kg/m^3': 3,\n",
       " 'Concrete, medium density 2200 kg/m^3': 3,\n",
       " 'Concrete, high density': 3,\n",
       " 'Concrete, reinforced with 1% steel': 3,\n",
       " 'Concrete, reinforced with 2% steel': 3,\n",
       " 'Floor covering, rubber': 3,\n",
       " 'Floor covering, plastic': 3,\n",
       " 'Floor covering, underlay, cellular or plastic': 3,\n",
       " 'Floor covering, underlay, felt': 3,\n",
       " 'Floor covering, underlay, wool': 3,\n",
       " 'Floor covering, underlay, cork': 3,\n",
       " 'Floor covering, tiles, cork': 3,\n",
       " 'Floor covering, carpet / textile flooring': 3,\n",
       " 'Floor covering, Linoleum': 3,\n",
       " 'Gases, air': 3,\n",
       " 'Gases, carbon dioxide': 3,\n",
       " 'Gases, argon': 3,\n",
       " 'Gases, sulphur hexafluoride': 3,\n",
       " 'Gases, krypton': 3,\n",
       " 'Gases, xenon': 3,\n",
       " 'Glass, soda lime': 3,\n",
       " 'Glass, quartz': 3,\n",
       " 'Glass, glass mosaic': 3,\n",
       " 'Water, ice at -10 °C': 3,\n",
       " 'Water, ice at 0 °C': 3,\n",
       " 'Water, snow, freshly fallen (<30 mm)': 3,\n",
       " 'Water, snow, soft (30 mm to 70 mm)': 3,\n",
       " 'Water, snow, slightly compacted (70 mm to 100 mm)': 3,\n",
       " 'Water, snow, compacted (<200 mm)': 3,\n",
       " 'Water at 10°C': 3,\n",
       " 'Water at 40°C': 3,\n",
       " 'Water at 80°C': 3,\n",
       " 'Metals, aluminium alloys': 3,\n",
       " 'Metals, bronze': 3,\n",
       " 'Metals, brass': 3,\n",
       " 'Metals, copper': 3,\n",
       " 'Metals, iron, cast': 3,\n",
       " 'Metals, lead': 3,\n",
       " 'Metals, steel': 3,\n",
       " 'Metals, stainless steel': 3,\n",
       " 'Metals, zinc': 3,\n",
       " 'Plastics, acrylic': 3,\n",
       " 'Plastics, polycarbonates': 3,\n",
       " 'Plastics, polytetrafluoroethylene (PTFE)': 3,\n",
       " 'Plastics, Polyvinylchloride (PVC)': 3,\n",
       " 'Plastics, polymethylmethacrylate (PMMA)': 3,\n",
       " 'Plastics, polyacetate': 3,\n",
       " 'Plastics, polyamide (nylon)': 3,\n",
       " 'Plastics, polyamide 6.6 with 25% glass fibre': 3,\n",
       " 'Plastics, polyethylene / polythene, high density': 3,\n",
       " 'Plastics, polyethylene / polythene, low density': 3,\n",
       " 'Plastics, polystyrene': 3,\n",
       " 'Plastics, polypropylene': 3,\n",
       " 'Plastics, polypropylene with 25% glass fibre': 3,\n",
       " 'Plastics, polyurethane (PU)': 3,\n",
       " 'Plastics, epoxy resin': 3,\n",
       " 'Plastics, phenolic resin': 3,\n",
       " 'Plastics, polyester resin': 3,\n",
       " 'Rubber, natural': 3,\n",
       " 'Rubber, neoprene (polychloroprene)': 3,\n",
       " 'Rubber, butyl (isobutene), solid melt': 3,\n",
       " 'Rubber, foam rubber': 3,\n",
       " 'Rubber, hard rubber (ebonite), solid': 3,\n",
       " 'Rubber, ethylene propylene diene monomer (EPDM)': 3,\n",
       " 'Rubber, polyisobutylene': 3,\n",
       " 'Rubber, polysulfide': 3,\n",
       " 'Rubber, butadiene': 3,\n",
       " 'Sealant, silica gel (dessicant)': 3,\n",
       " 'Sealant, silicone, pure': 3,\n",
       " 'Sealant, silicone, filled': 3,\n",
       " 'Sealant, silicone foam': 3,\n",
       " 'Sealant, urethane / polyurethane (thermal break)': 3,\n",
       " 'Sealant, polyvinylchloride (PVC) flexible, with 40% softner': 3,\n",
       " 'Sealant, elastomeric foam, flexible': 3,\n",
       " 'Sealant, polyurethane (PU) foam': 3,\n",
       " 'Sealant, polyethylene foam': 3,\n",
       " 'Gypsum, 600 kg/m^3': 3,\n",
       " 'Gypsum, 900 kg/m^3': 3,\n",
       " 'Gypsum, 1200 kg/m^3': 3,\n",
       " 'Gypsum, 1500 kg/m^3': 3,\n",
       " 'Gypsum, plasterboard': 3,\n",
       " 'Plasters and renders, gypsum insulating plaster': 3,\n",
       " 'Plasters and renders, gypsum plastering, 1000 kg/m^3': 3,\n",
       " 'Plasters and renders, gypsum plastering, 1300 kg/m^3': 3,\n",
       " 'Plasters and renders, lime sand': 3,\n",
       " 'Plasters and renders, cement sand': 3,\n",
       " 'Plasters and renders, gypsum sand': 3,\n",
       " 'Solids, clay or silt': 3,\n",
       " 'Solids, sand and gravel': 3,\n",
       " 'Stone, natural, crystalline rock': 3,\n",
       " 'Stone, natural, sedimentary rock': 3,\n",
       " 'Stone, natural, sedimentary rock, light': 3,\n",
       " 'Stone, natural, porous': 3,\n",
       " 'Stone, basalt': 3,\n",
       " 'Stone, gneiss': 3,\n",
       " 'Stone, granite': 3,\n",
       " 'Stone, marble': 3,\n",
       " 'Stone, slate': 3,\n",
       " 'Stone, limestone, extra soft': 3,\n",
       " 'Stone, limestone, soft': 3,\n",
       " 'Stone, limestone, semi-hard': 3,\n",
       " 'Stone, limestone, hard': 3,\n",
       " 'Stone, limestone, extra hard': 3,\n",
       " 'Stone, sandstone (silica)': 3,\n",
       " 'Stone, natural pumice': 3,\n",
       " 'Stone, artificial stone': 3,\n",
       " 'Tiles, clay': 3,\n",
       " 'Tiles, concrete': 3,\n",
       " 'Tiles, ceramic or porcelain': 3,\n",
       " 'Tiles, plastic': 3,\n",
       " 'Timber, 500 kg/m^3': 3,\n",
       " 'Timber, 700 kg/m^3': 3,\n",
       " 'Wood, plywood 300 kg/m^3': 3,\n",
       " 'Wood, plywood 500 kg/m^3': 3,\n",
       " 'Wood, plywood 700 kg/m^3': 3,\n",
       " 'Wood, plywood 1000 kg/m^3': 3,\n",
       " 'Wood, cement-bonded particleboard': 3,\n",
       " 'Wood, particleboard, 300 kg/m^3': 3,\n",
       " 'Wood, particleboard, 600 kg/m^3': 3,\n",
       " 'Wood, particleboard, 900 kg/m^3': 3,\n",
       " 'Wood, oriented strand board': 3,\n",
       " 'Wood, fibreboard, 250 kg/m^3': 3,\n",
       " 'Wood, fibreboard, 400 kg/m^3': 3,\n",
       " 'Wood, fibreboard, 600 kg/m^3': 3,\n",
       " 'Wood, fibreboard, 800 kg/m^3': 3}"
      ]
     },
     "execution_count": 10,
     "metadata": {},
     "output_type": "execute_result"
    }
   ],
   "source": [
    "lista_materiales"
   ]
  },
  {
   "cell_type": "code",
   "execution_count": null,
   "id": "great-reducing",
   "metadata": {
    "papermill": {
     "duration": 0.023072,
     "end_time": "2021-04-27T15:30:40.804572",
     "exception": false,
     "start_time": "2021-04-27T15:30:40.781500",
     "status": "completed"
    },
    "tags": []
   },
   "outputs": [],
   "source": []
  }
 ],
 "metadata": {
  "kernelspec": {
   "display_name": "Python 3",
   "language": "python",
   "name": "python3"
  },
  "language_info": {
   "codemirror_mode": {
    "name": "ipython",
    "version": 3
   },
   "file_extension": ".py",
   "mimetype": "text/x-python",
   "name": "python",
   "nbconvert_exporter": "python",
   "pygments_lexer": "ipython3",
   "version": "3.7.10"
  },
  "papermill": {
   "default_parameters": {},
   "duration": 26.252158,
   "end_time": "2021-04-27T15:30:42.330091",
   "environment_variables": {},
   "exception": null,
   "input_path": "__notebook__.ipynb",
   "output_path": "__notebook__.ipynb",
   "parameters": {},
   "start_time": "2021-04-27T15:30:16.077933",
   "version": "2.3.3"
  }
 },
 "nbformat": 4,
 "nbformat_minor": 5
}
