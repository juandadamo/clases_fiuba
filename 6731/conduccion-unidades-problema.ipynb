{
 "cells": [
  {
   "cell_type": "markdown",
   "id": "be53bdea",
   "metadata": {},
   "source": [
    "[Versión Interactiva](https://mybinder.org/v2/git/https%3A%2F%2Fgithub.com%2Fjuandadamo%2Fclases_fiuba/HEAD?filepath=6731%2Fconduccion-unidades-problema.ipynb)"
   ]
  },
  {
   "cell_type": "code",
   "execution_count": 1,
   "id": "a382c333",
   "metadata": {
    "execution": {
     "iopub.execute_input": "2021-04-27T15:30:24.917520Z",
     "iopub.status.busy": "2021-04-27T15:30:24.916356Z",
     "iopub.status.idle": "2021-04-27T15:30:38.532773Z",
     "shell.execute_reply": "2021-04-27T15:30:38.533156Z"
    },
    "papermill": {
     "duration": 13.633083,
     "end_time": "2021-04-27T15:30:38.533424",
     "exception": false,
     "start_time": "2021-04-27T15:30:24.900341",
     "status": "completed"
    },
    "tags": []
   },
   "outputs": [
    {
     "name": "stdout",
     "output_type": "stream",
     "text": [
      "Defaulting to user installation because normal site-packages is not writeable\n",
      "Requirement already satisfied: ht in /home/juan/.local/lib/python3.8/site-packages (1.0.1)\n",
      "Collecting pint\n",
      "  Downloading Pint-0.18-py2.py3-none-any.whl (209 kB)\n",
      "     |████████████████████████████████| 209 kB 657 kB/s            \n",
      "\u001b[?25hRequirement already satisfied: numpy in /home/juan/.local/lib/python3.8/site-packages (1.21.4)\n",
      "Requirement already satisfied: matplotlib in /home/juan/.local/lib/python3.8/site-packages (3.5.0)\n",
      "Requirement already satisfied: Coolprop in /home/juan/.local/lib/python3.8/site-packages (6.4.1)\n",
      "Collecting xlrd\n",
      "  Downloading xlrd-2.0.1-py2.py3-none-any.whl (96 kB)\n",
      "     |████████████████████████████████| 96 kB 356 kB/s            \n",
      "\u001b[?25hCollecting xlwt\n",
      "  Downloading xlwt-1.3.0-py2.py3-none-any.whl (99 kB)\n",
      "     |████████████████████████████████| 99 kB 287 kB/s            \n",
      "\u001b[?25hRequirement already satisfied: scipy>=0.9.0 in /home/juan/.local/lib/python3.8/site-packages (from ht) (1.7.2)\n",
      "Requirement already satisfied: fluids>=1.0.2 in /home/juan/.local/lib/python3.8/site-packages (from ht) (1.0.13)\n",
      "Requirement already satisfied: packaging in /usr/lib/python3/dist-packages (from pint) (20.3)\n",
      "Requirement already satisfied: python-dateutil>=2.7 in /usr/lib/python3/dist-packages (from matplotlib) (2.7.3)\n",
      "Requirement already satisfied: fonttools>=4.22.0 in /home/juan/.local/lib/python3.8/site-packages (from matplotlib) (4.28.2)\n",
      "Requirement already satisfied: pillow>=6.2.0 in /home/juan/.local/lib/python3.8/site-packages (from matplotlib) (8.4.0)\n",
      "Requirement already satisfied: setuptools-scm>=4 in /home/juan/.local/lib/python3.8/site-packages (from matplotlib) (6.3.2)\n",
      "Requirement already satisfied: pyparsing>=2.2.1 in /usr/lib/python3/dist-packages (from matplotlib) (2.4.6)\n",
      "Requirement already satisfied: cycler>=0.10 in /home/juan/.local/lib/python3.8/site-packages (from matplotlib) (0.11.0)\n",
      "Requirement already satisfied: kiwisolver>=1.0.1 in /home/juan/.local/lib/python3.8/site-packages (from matplotlib) (1.3.2)\n",
      "Requirement already satisfied: tomli>=1.0.0 in /home/juan/.local/lib/python3.8/site-packages (from setuptools-scm>=4->matplotlib) (1.2.2)\n",
      "Requirement already satisfied: setuptools in /usr/lib/python3/dist-packages (from setuptools-scm>=4->matplotlib) (45.2.0)\n",
      "Installing collected packages: xlwt, xlrd, pint\n",
      "Successfully installed pint-0.18 xlrd-2.0.1 xlwt-1.3.0\n",
      "\u001b[33mWARNING: You are using pip version 21.3.1; however, version 22.0.4 is available.\n",
      "You should consider upgrading via the '/usr/bin/python3 -m pip install --upgrade pip' command.\u001b[0m\n"
     ]
    }
   ],
   "source": [
    "!pip install ht pint numpy matplotlib Coolprop xlrd xlwt"
   ]
  },
  {
   "cell_type": "code",
   "execution_count": 3,
   "id": "cb245a17",
   "metadata": {
    "execution": {
     "iopub.execute_input": "2021-04-27T15:30:38.577787Z",
     "iopub.status.busy": "2021-04-27T15:30:38.577100Z",
     "iopub.status.idle": "2021-04-27T15:30:40.197466Z",
     "shell.execute_reply": "2021-04-27T15:30:40.196964Z"
    },
    "papermill": {
     "duration": 1.644377,
     "end_time": "2021-04-27T15:30:40.197584",
     "exception": false,
     "start_time": "2021-04-27T15:30:38.553207",
     "status": "completed"
    },
    "tags": []
   },
   "outputs": [],
   "source": [
    "%matplotlib inline\n",
    "import numpy as np # linear algebra\n",
    "import pandas as pd\n",
    "import ht,pint\n",
    "import CoolProp as cp\n",
    "import matplotlib.pyplot as plt\n",
    "from IPython.display import  Latex\n",
    "ureg = pint.UnitRegistry()#(fmt_locale='es_ES')"
   ]
  },
  {
   "cell_type": "code",
   "execution_count": 8,
   "id": "1a2a9b91",
   "metadata": {},
   "outputs": [],
   "source": [
    "a = 1*ureg.km"
   ]
  },
  {
   "cell_type": "markdown",
   "id": "5cb346a8",
   "metadata": {
    "papermill": {
     "duration": 0.018978,
     "end_time": "2021-04-27T15:30:40.235788",
     "exception": false,
     "start_time": "2021-04-27T15:30:40.216810",
     "status": "completed"
    },
    "tags": []
   },
   "source": [
    "## Problema 10\n",
    "El rotor de una turbina de gas tiene 54 álabes de acero inoxidable AISI 302 de\n",
    "dimensiones $L= 6$ cm, $A_ c = 4\\cdot10^{-4}$ m$^2$ y $P= 0.1$ m. Cuando la corriente de gas está a\n",
    "900 $^\\circ$C, la temperatura de la base de los álabes es de 500 $^\\circ$C. Calcule la carga\n",
    "térmica sobre el sistema de enfriamiento interno del rotor si se admite que el\n",
    "coeficiente de transferencia de calor por convección es de 440 W/m$^2$ K."
   ]
  },
  {
   "cell_type": "markdown",
   "id": "3b47c23c",
   "metadata": {},
   "source": [
    "### Uso de la Librería Pint\n",
    "\n",
    "La funcion `ureg` guarda las unidades"
   ]
  },
  {
   "cell_type": "code",
   "execution_count": 9,
   "id": "f839770f",
   "metadata": {
    "execution": {
     "iopub.execute_input": "2021-04-27T15:30:40.280080Z",
     "iopub.status.busy": "2021-04-27T15:30:40.279467Z",
     "iopub.status.idle": "2021-04-27T15:30:40.284775Z",
     "shell.execute_reply": "2021-04-27T15:30:40.284063Z"
    },
    "papermill": {
     "duration": 0.029963,
     "end_time": "2021-04-27T15:30:40.284927",
     "exception": false,
     "start_time": "2021-04-27T15:30:40.254964",
     "status": "completed"
    },
    "tags": []
   },
   "outputs": [],
   "source": [
    "n_alabes = 54\n",
    "#Unidad de Longitud\n",
    "L = 6e-2*ureg.m\n",
    "A_c = 4e-4*ureg.m**2\n",
    "P = 0.1*ureg.m\n",
    "#Unidad de Temperatura\n",
    "T_gas = (900+273)*ureg.K\n",
    "T_base = (500+273)*ureg.K\n",
    "# Unidad de Potencia\n",
    "h_conv = 440*ureg.watt/ureg.m**2/ureg.K"
   ]
  },
  {
   "cell_type": "code",
   "execution_count": 10,
   "id": "a622e2f4",
   "metadata": {},
   "outputs": [
    {
     "data": {
      "text/html": [
       "1173 kelvin"
      ],
      "text/latex": [
       "$1173\\ \\mathrm{kelvin}$"
      ],
      "text/plain": [
       "1173 <Unit('kelvin')>"
      ]
     },
     "execution_count": 10,
     "metadata": {},
     "output_type": "execute_result"
    }
   ],
   "source": [
    "T_gas"
   ]
  },
  {
   "cell_type": "markdown",
   "id": "6f0a1cdc",
   "metadata": {},
   "source": [
    "### Representación\n",
    "Para mostrar los valores se usan expresiones de texto del tipo:\n",
    "\n",
    "    f\"{<variable>:<formato>}\"\n",
    "Los formatos los pueden copiar de los ejemplos o recuperar desde:[https://mkaz.blog/code/python-string-format-cookbook/](https://mkaz.blog/code/python-string-format-cookbook/)\n",
    "\n",
    "Entonces, por ejemplo para mostrar la variable $L$:"
   ]
  },
  {
   "cell_type": "code",
   "execution_count": 12,
   "id": "4ada408b",
   "metadata": {},
   "outputs": [
    {
     "name": "stdout",
     "output_type": "stream",
     "text": [
      "L=0.06 meter\n"
     ]
    }
   ],
   "source": [
    "print(f\"L={L:.2f}\")"
   ]
  },
  {
   "cell_type": "markdown",
   "id": "881def68",
   "metadata": {},
   "source": [
    "Para darle un poco mejor presentación, usamos `display(Latex () )`"
   ]
  },
  {
   "cell_type": "code",
   "execution_count": 295,
   "id": "183f1876",
   "metadata": {
    "execution": {
     "iopub.execute_input": "2021-04-27T15:30:40.351768Z",
     "iopub.status.busy": "2021-04-27T15:30:40.350951Z",
     "iopub.status.idle": "2021-04-27T15:30:40.356210Z",
     "shell.execute_reply": "2021-04-27T15:30:40.355638Z"
    },
    "papermill": {
     "duration": 0.042786,
     "end_time": "2021-04-27T15:30:40.356351",
     "exception": false,
     "start_time": "2021-04-27T15:30:40.313565",
     "status": "completed"
    },
    "tags": []
   },
   "outputs": [
    {
     "data": {
      "text/latex": [
       "$L=$6.0 centimeter"
      ],
      "text/plain": [
       "<IPython.core.display.Latex object>"
      ]
     },
     "metadata": {},
     "output_type": "display_data"
    }
   ],
   "source": [
    "L = 6*ureg.cm\n",
    "display(Latex('$L=$'+f'{L:.1f}'))"
   ]
  },
  {
   "cell_type": "markdown",
   "id": "0cbc974f",
   "metadata": {
    "papermill": {
     "duration": 0.021548,
     "end_time": "2021-04-27T15:30:40.400442",
     "exception": false,
     "start_time": "2021-04-27T15:30:40.378894",
     "status": "completed"
    },
    "tags": []
   },
   "source": [
    "### Resultados de Teoría de Aletas\n",
    "\\begin{equation}\\label{solq}\n",
    "\\dot Q =\\frac{\\theta_0\\alpha P}{\\beta} \\tanh(\\beta L)\n",
    "\\end{equation}\n",
    "\n",
    "$$\\beta^2=\\frac{\\alpha P}{\\lambda S_t}$$"
   ]
  },
  {
   "cell_type": "markdown",
   "id": "62027beb",
   "metadata": {},
   "source": [
    "### Uso de la librería ht para obtener  la conductividad"
   ]
  },
  {
   "cell_type": "code",
   "execution_count": 13,
   "id": "59c8dd43",
   "metadata": {
    "execution": {
     "iopub.execute_input": "2021-04-27T15:30:40.451839Z",
     "iopub.status.busy": "2021-04-27T15:30:40.451306Z",
     "iopub.status.idle": "2021-04-27T15:30:40.455080Z",
     "shell.execute_reply": "2021-04-27T15:30:40.454610Z"
    },
    "papermill": {
     "duration": 0.034726,
     "end_time": "2021-04-27T15:30:40.455213",
     "exception": false,
     "start_time": "2021-04-27T15:30:40.420487",
     "status": "completed"
    },
    "tags": []
   },
   "outputs": [
    {
     "data": {
      "text/latex": [
       "Conductividad del acero inoxidable $k=$17.0 watt / kelvin / meter"
      ],
      "text/plain": [
       "<IPython.core.display.Latex object>"
      ]
     },
     "metadata": {},
     "output_type": "display_data"
    }
   ],
   "source": [
    "acero_inox = ht.nearest_material('stainless steel')\n",
    "k_acero_inox = ht.k_material(acero_inox)*ureg.watt/ureg.m/ureg.K\n",
    "display(Latex('Conductividad del acero inoxidable $k=$'+f'{k_acero_inox:.1f}'))"
   ]
  },
  {
   "cell_type": "code",
   "execution_count": 14,
   "id": "0fd4f536",
   "metadata": {
    "execution": {
     "iopub.execute_input": "2021-04-27T15:30:40.503193Z",
     "iopub.status.busy": "2021-04-27T15:30:40.502521Z",
     "iopub.status.idle": "2021-04-27T15:30:40.506958Z",
     "shell.execute_reply": "2021-04-27T15:30:40.506490Z"
    },
    "papermill": {
     "duration": 0.030791,
     "end_time": "2021-04-27T15:30:40.507079",
     "exception": false,
     "start_time": "2021-04-27T15:30:40.476288",
     "status": "completed"
    },
    "tags": []
   },
   "outputs": [],
   "source": [
    "#Delta T del Problema de Aletas\n",
    "theta_0 = T_gas-T_base\n",
    "beta = (h_conv*P/(k_acero_inox*A_c) )**0.5"
   ]
  },
  {
   "cell_type": "code",
   "execution_count": 15,
   "id": "3c8f95e4",
   "metadata": {
    "execution": {
     "iopub.execute_input": "2021-04-27T15:30:40.553310Z",
     "iopub.status.busy": "2021-04-27T15:30:40.552498Z",
     "iopub.status.idle": "2021-04-27T15:30:40.561120Z",
     "shell.execute_reply": "2021-04-27T15:30:40.560543Z"
    },
    "papermill": {
     "duration": 0.033753,
     "end_time": "2021-04-27T15:30:40.561252",
     "exception": false,
     "start_time": "2021-04-27T15:30:40.527499",
     "status": "completed"
    },
    "tags": []
   },
   "outputs": [
    {
     "data": {
      "text/latex": [
       "Parámetro de la aleta"
      ],
      "text/plain": [
       "<IPython.core.display.Latex object>"
      ]
     },
     "metadata": {},
     "output_type": "display_data"
    },
    {
     "data": {
      "text/latex": [
       "$\\beta$= 80.4 / m"
      ],
      "text/plain": [
       "<IPython.core.display.Latex object>"
      ]
     },
     "metadata": {},
     "output_type": "display_data"
    },
    {
     "data": {
      "text/latex": [
       "$\\beta L$= 4.83"
      ],
      "text/plain": [
       "<IPython.core.display.Latex object>"
      ]
     },
     "metadata": {},
     "output_type": "display_data"
    },
    {
     "data": {
      "text/latex": [
       "$\\beta L$= 4.83"
      ],
      "text/plain": [
       "<IPython.core.display.Latex object>"
      ]
     },
     "metadata": {},
     "output_type": "display_data"
    }
   ],
   "source": [
    "display(Latex(r'Parámetro de la aleta'))\n",
    "display(Latex(r'$\\beta$='+f' {beta:~.1f}'))\n",
    "display(Latex(r'$\\beta L$='+f' {(beta*L):~.2f}'))\n",
    "# Para simplificar unidades\n",
    "display(Latex(r'$\\beta L$='+f' {(beta*L).to_base_units():~.2f}'))"
   ]
  },
  {
   "cell_type": "markdown",
   "id": "1a955fc4",
   "metadata": {},
   "source": [
    "#### Determinación del Flujo de calor $\\dot Q$."
   ]
  },
  {
   "cell_type": "code",
   "execution_count": 16,
   "id": "2023dfe1",
   "metadata": {
    "execution": {
     "iopub.execute_input": "2021-04-27T15:30:40.609767Z",
     "iopub.status.busy": "2021-04-27T15:30:40.609055Z",
     "iopub.status.idle": "2021-04-27T15:30:40.617481Z",
     "shell.execute_reply": "2021-04-27T15:30:40.617016Z"
    },
    "papermill": {
     "duration": 0.034992,
     "end_time": "2021-04-27T15:30:40.617601",
     "exception": false,
     "start_time": "2021-04-27T15:30:40.582609",
     "status": "completed"
    },
    "tags": []
   },
   "outputs": [
    {
     "data": {
      "text/latex": [
       "$\\dot Q$= 218.8 W"
      ],
      "text/plain": [
       "<IPython.core.display.Latex object>"
      ]
     },
     "metadata": {},
     "output_type": "display_data"
    },
    {
     "data": {
      "text/latex": [
       "$\\dot Q_{T}$= 11.8 kW"
      ],
      "text/plain": [
       "<IPython.core.display.Latex object>"
      ]
     },
     "metadata": {},
     "output_type": "display_data"
    }
   ],
   "source": [
    "Q = theta_0*h_conv*P*np.tanh(beta*L)/beta\n",
    "display(Latex(r'$\\dot Q$='+f' {Q:~.1f}'))\n",
    "Qtotal = Q*n_alabes\n",
    "display(Latex(r'$\\dot Q_{T}$='+f' {Qtotal.to(ureg.kW):~.1f}'))"
   ]
  },
  {
   "cell_type": "markdown",
   "id": "61690ff9",
   "metadata": {},
   "source": [
    "Para guardar en una variable la lista de todos los materiales disponibles en la librería `ht`.\n",
    "Usamos librerías de manejo de datos json, pandas. No "
   ]
  },
  {
   "cell_type": "code",
   "execution_count": 17,
   "id": "278371c8",
   "metadata": {
    "execution": {
     "iopub.execute_input": "2021-04-27T15:30:40.667521Z",
     "iopub.status.busy": "2021-04-27T15:30:40.666848Z",
     "iopub.status.idle": "2021-04-27T15:30:40.670670Z",
     "shell.execute_reply": "2021-04-27T15:30:40.671324Z"
    },
    "papermill": {
     "duration": 0.031575,
     "end_time": "2021-04-27T15:30:40.671534",
     "exception": false,
     "start_time": "2021-04-27T15:30:40.639959",
     "status": "completed"
    },
    "tags": []
   },
   "outputs": [],
   "source": [
    "lista_materiales = ht.insulation.materials_dict\n",
    "\n",
    "#Genero una lista de materiales\n",
    "import json\n",
    "lista_texto1 = json.dumps(lista_materiales)\n",
    "#lista_texto1.split('\"')\n",
    "lista_texto1 = lista_texto1.replace(': ','').replace('{','').replace('}','').replace('\"1, ','').replace('\"2, ','').replace('\"3, ','')\n",
    "lista_texto1 = lista_texto1.split('\"')[1:-1]\n",
    "\n",
    "conductividades = np.zeros((len(lista_texto1)))\n",
    "for i,listai in enumerate(lista_texto1):\n",
    "    conductividades[i] = ht.k_material(listai)\n",
    "#conductividades = conductividades *ureg.watt/ureg.m/ureg.K"
   ]
  },
  {
   "cell_type": "code",
   "execution_count": 18,
   "id": "6ed52642",
   "metadata": {},
   "outputs": [],
   "source": [
    "data_materiales = pd.DataFrame({\"Material\":pd.Series(lista_texto1),\"Conductividad [watt/m K]\":pd.Series(conductividades)})"
   ]
  },
  {
   "cell_type": "code",
   "execution_count": 19,
   "id": "a39cc429",
   "metadata": {},
   "outputs": [
    {
     "data": {
      "text/html": [
       "<div>\n",
       "<style scoped>\n",
       "    .dataframe tbody tr th:only-of-type {\n",
       "        vertical-align: middle;\n",
       "    }\n",
       "\n",
       "    .dataframe tbody tr th {\n",
       "        vertical-align: top;\n",
       "    }\n",
       "\n",
       "    .dataframe thead th {\n",
       "        text-align: right;\n",
       "    }\n",
       "</style>\n",
       "<table border=\"1\" class=\"dataframe\">\n",
       "  <thead>\n",
       "    <tr style=\"text-align: right;\">\n",
       "      <th></th>\n",
       "      <th>Material</th>\n",
       "      <th>Conductividad [watt/m K]</th>\n",
       "    </tr>\n",
       "  </thead>\n",
       "  <tbody>\n",
       "    <tr>\n",
       "      <th>0</th>\n",
       "      <td>Silica</td>\n",
       "      <td>1.20</td>\n",
       "    </tr>\n",
       "    <tr>\n",
       "      <th>1</th>\n",
       "      <td>Silica special</td>\n",
       "      <td>1.55</td>\n",
       "    </tr>\n",
       "    <tr>\n",
       "      <th>2</th>\n",
       "      <td>Fused silica</td>\n",
       "      <td>1.44</td>\n",
       "    </tr>\n",
       "    <tr>\n",
       "      <th>3</th>\n",
       "      <td>Fireclay</td>\n",
       "      <td>1.05</td>\n",
       "    </tr>\n",
       "    <tr>\n",
       "      <th>4</th>\n",
       "      <td>High-duty fireclay</td>\n",
       "      <td>1.20</td>\n",
       "    </tr>\n",
       "    <tr>\n",
       "      <th>...</th>\n",
       "      <td>...</td>\n",
       "      <td>...</td>\n",
       "    </tr>\n",
       "    <tr>\n",
       "      <th>385</th>\n",
       "      <td>Wood, oriented strand board</td>\n",
       "      <td>0.13</td>\n",
       "    </tr>\n",
       "    <tr>\n",
       "      <th>386</th>\n",
       "      <td>Wood, fibreboard, 250 kg/m^3</td>\n",
       "      <td>0.07</td>\n",
       "    </tr>\n",
       "    <tr>\n",
       "      <th>387</th>\n",
       "      <td>Wood, fibreboard, 400 kg/m^3</td>\n",
       "      <td>0.10</td>\n",
       "    </tr>\n",
       "    <tr>\n",
       "      <th>388</th>\n",
       "      <td>Wood, fibreboard, 600 kg/m^3</td>\n",
       "      <td>0.14</td>\n",
       "    </tr>\n",
       "    <tr>\n",
       "      <th>389</th>\n",
       "      <td>Wood, fibreboard, 800 kg/m^3</td>\n",
       "      <td>0.18</td>\n",
       "    </tr>\n",
       "  </tbody>\n",
       "</table>\n",
       "<p>390 rows × 2 columns</p>\n",
       "</div>"
      ],
      "text/plain": [
       "                         Material  Conductividad [watt/m K]\n",
       "0                          Silica                      1.20\n",
       "1                  Silica special                      1.55\n",
       "2                    Fused silica                      1.44\n",
       "3                        Fireclay                      1.05\n",
       "4              High-duty fireclay                      1.20\n",
       "..                            ...                       ...\n",
       "385   Wood, oriented strand board                      0.13\n",
       "386  Wood, fibreboard, 250 kg/m^3                      0.07\n",
       "387  Wood, fibreboard, 400 kg/m^3                      0.10\n",
       "388  Wood, fibreboard, 600 kg/m^3                      0.14\n",
       "389  Wood, fibreboard, 800 kg/m^3                      0.18\n",
       "\n",
       "[390 rows x 2 columns]"
      ]
     },
     "execution_count": 19,
     "metadata": {},
     "output_type": "execute_result"
    }
   ],
   "source": [
    "data_materiales"
   ]
  },
  {
   "cell_type": "code",
   "execution_count": 302,
   "id": "b642d644",
   "metadata": {},
   "outputs": [],
   "source": [
    "#si qusieramos grabar en un archivo\n",
    "data_materiales.to_excel('Conductividad_materiales.xlsx')"
   ]
  },
  {
   "cell_type": "markdown",
   "id": "7f3892cc",
   "metadata": {},
   "source": [
    "## CoolProp\n",
    "Usaremos la función:\n",
    "\n",
    "`cp.CoolProp.PropsSI(<propiedad>,<temperatura referencia>,<presion referencia>,<fluido>)`\n",
    "\n",
    "para ver una lista completa de las propiedades que podemos evaluar,\n",
    "ver [http://www.coolprop.org/coolprop/HighLevelAPI.html](http://www.coolprop.org/coolprop/HighLevelAPI.html)\n",
    "\n",
    "Veamos como se comporta la viscosidad y la conductividad del aire respecto a la temperatura a presión 1 atm:"
   ]
  },
  {
   "cell_type": "code",
   "execution_count": 20,
   "id": "bd3adee6",
   "metadata": {},
   "outputs": [],
   "source": [
    "Temperatura_1 = 25\n",
    "mu = cp.CoolProp.PropsSI('V','T',273+Temperatura_1,'P',101.325e3,'Air')\n",
    "rho = cp.CoolProp.PropsSI('D','T',273+Temperatura_1,'P',101.325e3,'Air')\n",
    "nu = mu/rho * ureg.m**2/ureg.s\n",
    "k_aire_1 = cp.CoolProp.PropsSI('conductivity','T',273+Temperatura_1,'P',101.325e3,'Air')*ureg.watt/ureg.m/ureg.K"
   ]
  },
  {
   "cell_type": "code",
   "execution_count": 21,
   "id": "374aab98",
   "metadata": {},
   "outputs": [
    {
     "data": {
      "text/latex": [
       "$\\nu=$1.56e-05 meter ** 2 / second a T=25 degree_Celsius"
      ],
      "text/plain": [
       "<IPython.core.display.Latex object>"
      ]
     },
     "metadata": {},
     "output_type": "display_data"
    },
    {
     "data": {
      "text/latex": [
       "$k=$2.62e-02 watt / kelvin / meter a T=25 degree_Celsius"
      ],
      "text/plain": [
       "<IPython.core.display.Latex object>"
      ]
     },
     "metadata": {},
     "output_type": "display_data"
    }
   ],
   "source": [
    "display(Latex(r\"$\\nu=$\"+f\"{nu:.2e} a T={((Temperatura_1+273)*ureg.K).to('degC'):.0f}\"))\n",
    "display(Latex(r\"$k=$\"+f\"{k_aire_1:.2e} a T={((Temperatura_1+273)*ureg.K).to('degC'):.0f}\"))"
   ]
  },
  {
   "cell_type": "code",
   "execution_count": 23,
   "id": "b4f26e30",
   "metadata": {},
   "outputs": [],
   "source": [
    "# Definimos un vector de temperaturas\n",
    "\n",
    "Temperaturas = np.linspace(0,600,25)  # inicio,final, numero de elementos\n",
    "rhos, mus, nus, ks = np.tile(np.zeros_like(Temperaturas),[4,1])\n",
    "for i, Temperatura in enumerate(Temperaturas):\n",
    "    mus[i] = cp.CoolProp.PropsSI('V','T',273+Temperatura,'P',101.325e3,'Air')\n",
    "    rhos[i] = cp.CoolProp.PropsSI('D','T',273+Temperatura,'P',101.325e3,'Air')\n",
    "    nus[i] = mus[i]/rhos[i] \n",
    "    ks[i] = cp.CoolProp.PropsSI('conductivity','T',273+Temperatura,'P',101.325e3,'Air')\n",
    "    \n",
    "idpol = np.polyfit(Temperaturas+273,nus,2)\n",
    "p1 = np.poly1d(idpol)\n",
    "idpol2 = np.polyfit((Temperaturas+273),ks**2,1)\n",
    "pk = np.poly1d(idpol2)"
   ]
  },
  {
   "cell_type": "code",
   "execution_count": 24,
   "id": "c0381b18",
   "metadata": {},
   "outputs": [
    {
     "data": {
      "image/png": "[encoded data removed]",
      "text/plain": [
       "<Figure size 720x288 with 2 Axes>"
      ]
     },
     "metadata": {
      "needs_background": "light"
     },
     "output_type": "display_data"
    }
   ],
   "source": [
    "fig,ax = plt.subplots(1,2,figsize=(10,4))\n",
    "ax0,ax1 = ax\n",
    "ax0.plot(Temperaturas+273,nus,'o',label='data')\n",
    "ax0.plot(Temperaturas+273,p1(Temperaturas+273),label='Ajuste')\n",
    "ax0.set_ylabel(r'$\\nu$')\n",
    "ax0.set_xlabel('$T$');\n",
    "\n",
    "ax1.plot( (Temperaturas+273),ks,'o',label='data')\n",
    "ax1.plot((Temperaturas+273),pk((Temperaturas+273))**.5,label='Ajuste')\n",
    "ax1.set_ylabel(r'$k$')\n",
    "ax1.set_xlabel('$T$');\n",
    "fig.tight_layout()"
   ]
  },
  {
   "cell_type": "code",
   "execution_count": 368,
   "id": "0115609c",
   "metadata": {},
   "outputs": [
    {
     "data": {
      "text/plain": [
       "(0.022969238712546122, 0.024348994714412812)"
      ]
     },
     "execution_count": 368,
     "metadata": {},
     "output_type": "execute_result"
    }
   ],
   "source": [
    "pk(273)**.5, ks[0]"
   ]
  },
  {
   "cell_type": "code",
   "execution_count": 315,
   "id": "ab724ef4",
   "metadata": {},
   "outputs": [
    {
     "data": {
      "text/plain": [
       "1.5530604260593228e-05"
      ]
     },
     "execution_count": 315,
     "metadata": {},
     "output_type": "execute_result"
    }
   ],
   "source": [
    "ht."
   ]
  },
  {
   "cell_type": "code",
   "execution_count": null,
   "id": "96350d39",
   "metadata": {},
   "outputs": [],
   "source": []
  }
 ],
 "metadata": {
  "kernelspec": {
   "display_name": "Python 3 (ipykernel)",
   "language": "python",
   "name": "python3"
  },
  "language_info": {
   "codemirror_mode": {
    "name": "ipython",
    "version": 3
   },
   "file_extension": ".py",
   "mimetype": "text/x-python",
   "name": "python",
   "nbconvert_exporter": "python",
   "pygments_lexer": "ipython3",
   "version": "3.8.10"
  },
  "latex_envs": {
   "LaTeX_envs_menu_present": true,
   "autoclose": true,
   "autocomplete": true,
   "bibliofile": "biblio.bib",
   "cite_by": "apalike",
   "current_citInitial": 1,
   "eqLabelWithNumbers": true,
   "eqNumInitial": 1,
   "hotkeys": {
    "equation": "Ctrl-E",
    "itemize": "Ctrl-I"
   },
   "labels_anchors": false,
   "latex_user_defs": false,
   "report_style_numbering": false,
   "user_envs_cfg": false
  },
  "papermill": {
   "default_parameters": {},
   "duration": 26.252158,
   "end_time": "2021-04-27T15:30:42.330091",
   "environment_variables": {},
   "exception": null,
   "input_path": "__notebook__.ipynb",
   "output_path": "__notebook__.ipynb",
   "parameters": {},
   "start_time": "2021-04-27T15:30:16.077933",
   "version": "2.3.3"
  }
 },
 "nbformat": 4,
 "nbformat_minor": 5
}
