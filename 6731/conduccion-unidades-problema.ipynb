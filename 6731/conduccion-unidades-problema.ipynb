{
 "cells": [
  {
   "cell_type": "markdown",
   "id": "be53bdea",
   "metadata": {},
   "source": [
    "[Versión Interactiva](https://mybinder.org/v2/git/https%3A%2F%2Fgithub.com%2Fjuandadamo%2Fclases_fiuba/d96c573cf63f6c7665a1bc5a62c6d22a744c6767?filepath=6731%2Fconduccion-unidades-problema.ipynb)"
   ]
  },
  {
   "cell_type": "code",
   "execution_count": 156,
   "id": "a382c333",
   "metadata": {
    "execution": {
     "iopub.execute_input": "2021-04-27T15:30:24.917520Z",
     "iopub.status.busy": "2021-04-27T15:30:24.916356Z",
     "iopub.status.idle": "2021-04-27T15:30:38.532773Z",
     "shell.execute_reply": "2021-04-27T15:30:38.533156Z"
    },
    "papermill": {
     "duration": 13.633083,
     "end_time": "2021-04-27T15:30:38.533424",
     "exception": false,
     "start_time": "2021-04-27T15:30:24.900341",
     "status": "completed"
    },
    "tags": []
   },
   "outputs": [
    {
     "name": "stdout",
     "output_type": "stream",
     "text": [
      "Requirement already satisfied: ht in /home/juan/anaconda3/lib/python3.8/site-packages (1.0.1)\n",
      "Requirement already satisfied: pint in /home/juan/anaconda3/lib/python3.8/site-packages (0.17)\n",
      "Requirement already satisfied: numpy in /home/juan/anaconda3/lib/python3.8/site-packages (1.20.1)\n",
      "Requirement already satisfied: matplotlib in /home/juan/anaconda3/lib/python3.8/site-packages (3.3.4)\n",
      "Requirement already satisfied: Coolprop in /home/juan/anaconda3/lib/python3.8/site-packages (6.4.1)\n",
      "Requirement already satisfied: xlrd in /home/juan/anaconda3/lib/python3.8/site-packages (2.0.1)\n",
      "Requirement already satisfied: xlwt in /home/juan/anaconda3/lib/python3.8/site-packages (1.3.0)\n",
      "Requirement already satisfied: scipy>=0.9.0 in /home/juan/anaconda3/lib/python3.8/site-packages (from ht) (1.6.2)\n",
      "Requirement already satisfied: fluids>=1.0.2 in /home/juan/anaconda3/lib/python3.8/site-packages (from ht) (1.0.9)\n",
      "Requirement already satisfied: packaging in /home/juan/anaconda3/lib/python3.8/site-packages (from pint) (20.9)\n",
      "Requirement already satisfied: cycler>=0.10 in /home/juan/anaconda3/lib/python3.8/site-packages (from matplotlib) (0.10.0)\n",
      "Requirement already satisfied: kiwisolver>=1.0.1 in /home/juan/anaconda3/lib/python3.8/site-packages (from matplotlib) (1.3.1)\n",
      "Requirement already satisfied: pillow>=6.2.0 in /home/juan/anaconda3/lib/python3.8/site-packages (from matplotlib) (8.2.0)\n",
      "Requirement already satisfied: pyparsing!=2.0.4,!=2.1.2,!=2.1.6,>=2.0.3 in /home/juan/anaconda3/lib/python3.8/site-packages (from matplotlib) (2.4.7)\n",
      "Requirement already satisfied: python-dateutil>=2.1 in /home/juan/anaconda3/lib/python3.8/site-packages (from matplotlib) (2.8.1)\n",
      "Requirement already satisfied: six in /home/juan/anaconda3/lib/python3.8/site-packages (from cycler>=0.10->matplotlib) (1.15.0)\n"
     ]
    }
   ],
   "source": [
    "!pip install ht pint numpy matplotlib Coolprop xlrd xlwt"
   ]
  },
  {
   "cell_type": "code",
   "execution_count": 292,
   "id": "cb245a17",
   "metadata": {
    "execution": {
     "iopub.execute_input": "2021-04-27T15:30:38.577787Z",
     "iopub.status.busy": "2021-04-27T15:30:38.577100Z",
     "iopub.status.idle": "2021-04-27T15:30:40.197466Z",
     "shell.execute_reply": "2021-04-27T15:30:40.196964Z"
    },
    "papermill": {
     "duration": 1.644377,
     "end_time": "2021-04-27T15:30:40.197584",
     "exception": false,
     "start_time": "2021-04-27T15:30:38.553207",
     "status": "completed"
    },
    "tags": []
   },
   "outputs": [],
   "source": [
    "%matplotlib inline\n",
    "import numpy as np # linear algebra\n",
    "import pandas as pd\n",
    "import ht,pint\n",
    "import CoolProp as cp\n",
    "import matplotlib.pyplot as plt\n",
    "from IPython.display import  Latex\n",
    "ureg = pint.UnitRegistry()#(fmt_locale='es_ES')"
   ]
  },
  {
   "cell_type": "markdown",
   "id": "5cb346a8",
   "metadata": {
    "papermill": {
     "duration": 0.018978,
     "end_time": "2021-04-27T15:30:40.235788",
     "exception": false,
     "start_time": "2021-04-27T15:30:40.216810",
     "status": "completed"
    },
    "tags": []
   },
   "source": [
    "## Problema 10\n",
    "El rotor de una turbina de gas tiene 54 álabes de acero inoxidable AISI 302 de\n",
    "dimensiones $L= 6$ cm, $A_ c = 4\\cdot10^{-4}$ m$^2$ y $P= 0.1$ m. Cuando la corriente de gas está a\n",
    "900 $^\\circ$C, la temperatura de la base de los álabes es de 500 $^\\circ$C. Calcule la carga\n",
    "térmica sobre el sistema de enfriamiento interno del rotor si se admite que el\n",
    "coeficiente de transferencia de calor por convección es de 440 W/m$^2$ K."
   ]
  },
  {
   "cell_type": "markdown",
   "id": "3b47c23c",
   "metadata": {},
   "source": [
    "### Uso de la Librería Pint\n",
    "\n",
    "La funcion `ureg` guarda las unidades"
   ]
  },
  {
   "cell_type": "code",
   "execution_count": 293,
   "id": "f839770f",
   "metadata": {
    "execution": {
     "iopub.execute_input": "2021-04-27T15:30:40.280080Z",
     "iopub.status.busy": "2021-04-27T15:30:40.279467Z",
     "iopub.status.idle": "2021-04-27T15:30:40.284775Z",
     "shell.execute_reply": "2021-04-27T15:30:40.284063Z"
    },
    "papermill": {
     "duration": 0.029963,
     "end_time": "2021-04-27T15:30:40.284927",
     "exception": false,
     "start_time": "2021-04-27T15:30:40.254964",
     "status": "completed"
    },
    "tags": []
   },
   "outputs": [],
   "source": [
    "n_alabes = 54\n",
    "#Unidad de Longitud\n",
    "L = 6e-2*ureg.m\n",
    "A_c = 4e-4*ureg.m**2\n",
    "P = 0.1*ureg.m\n",
    "#Unidad de Temperatura\n",
    "T_gas = (900+273)*ureg.K\n",
    "T_base = (500+273)*ureg.K\n",
    "# Unidad de Potencia\n",
    "h_conv = 440*ureg.watt/ureg.m**2/ureg.K"
   ]
  },
  {
   "cell_type": "markdown",
   "id": "6f0a1cdc",
   "metadata": {},
   "source": [
    "### Representación\n",
    "Para mostrar los valores se usan expresiones de texto del tipo:\n",
    "\n",
    "    f\"{<variable>:<formato>}\"\n",
    "Los formatos los pueden copiar de los ejemplos o recuperar desde:[https://mkaz.blog/code/python-string-format-cookbook/](https://mkaz.blog/code/python-string-format-cookbook/)\n",
    "\n",
    "Entonces, por ejemplo para mostrar la variable $L$:"
   ]
  },
  {
   "cell_type": "code",
   "execution_count": 294,
   "id": "4ada408b",
   "metadata": {},
   "outputs": [
    {
     "name": "stdout",
     "output_type": "stream",
     "text": [
      "0.06 meter\n"
     ]
    }
   ],
   "source": [
    "print(f\"{L:.2f}\")"
   ]
  },
  {
   "cell_type": "markdown",
   "id": "881def68",
   "metadata": {},
   "source": [
    "Para darle un poco mejor presentación, usamos `display(Latex () )`"
   ]
  },
  {
   "cell_type": "code",
   "execution_count": 295,
   "id": "183f1876",
   "metadata": {
    "execution": {
     "iopub.execute_input": "2021-04-27T15:30:40.351768Z",
     "iopub.status.busy": "2021-04-27T15:30:40.350951Z",
     "iopub.status.idle": "2021-04-27T15:30:40.356210Z",
     "shell.execute_reply": "2021-04-27T15:30:40.355638Z"
    },
    "papermill": {
     "duration": 0.042786,
     "end_time": "2021-04-27T15:30:40.356351",
     "exception": false,
     "start_time": "2021-04-27T15:30:40.313565",
     "status": "completed"
    },
    "tags": []
   },
   "outputs": [
    {
     "data": {
      "text/latex": [
       "$L=$6.0 centimeter"
      ],
      "text/plain": [
       "<IPython.core.display.Latex object>"
      ]
     },
     "metadata": {},
     "output_type": "display_data"
    }
   ],
   "source": [
    "L = 6*ureg.cm\n",
    "display(Latex('$L=$'+f'{L:.1f}'))"
   ]
  },
  {
   "cell_type": "markdown",
   "id": "0cbc974f",
   "metadata": {
    "papermill": {
     "duration": 0.021548,
     "end_time": "2021-04-27T15:30:40.400442",
     "exception": false,
     "start_time": "2021-04-27T15:30:40.378894",
     "status": "completed"
    },
    "tags": []
   },
   "source": [
    "### Resultados de Teoría de Aletas\n",
    "\\begin{equation}\\label{solq}\n",
    "\\dot Q =\\frac{\\theta_0\\alpha P}{\\beta} \\tanh(\\beta L)\n",
    "\\end{equation}\n",
    "\n",
    "$$\\beta^2=\\frac{\\alpha P}{\\lambda S_t}$$"
   ]
  },
  {
   "cell_type": "markdown",
   "id": "62027beb",
   "metadata": {},
   "source": [
    "### Uso de la librería ht para obtener  la conductividad"
   ]
  },
  {
   "cell_type": "code",
   "execution_count": 296,
   "id": "59c8dd43",
   "metadata": {
    "execution": {
     "iopub.execute_input": "2021-04-27T15:30:40.451839Z",
     "iopub.status.busy": "2021-04-27T15:30:40.451306Z",
     "iopub.status.idle": "2021-04-27T15:30:40.455080Z",
     "shell.execute_reply": "2021-04-27T15:30:40.454610Z"
    },
    "papermill": {
     "duration": 0.034726,
     "end_time": "2021-04-27T15:30:40.455213",
     "exception": false,
     "start_time": "2021-04-27T15:30:40.420487",
     "status": "completed"
    },
    "tags": []
   },
   "outputs": [
    {
     "data": {
      "text/latex": [
       "Conductividad del acero inoxidable $k=$17.0 watt / kelvin / meter"
      ],
      "text/plain": [
       "<IPython.core.display.Latex object>"
      ]
     },
     "metadata": {},
     "output_type": "display_data"
    }
   ],
   "source": [
    "acero_inox = ht.nearest_material('stainless steel')\n",
    "k_acero_inox = ht.k_material(acero_inox)*ureg.watt/ureg.m/ureg.K\n",
    "display(Latex('Conductividad del acero inoxidable $k=$'+f'{k_acero_inox:.1f}'))"
   ]
  },
  {
   "cell_type": "code",
   "execution_count": 297,
   "id": "0fd4f536",
   "metadata": {
    "execution": {
     "iopub.execute_input": "2021-04-27T15:30:40.503193Z",
     "iopub.status.busy": "2021-04-27T15:30:40.502521Z",
     "iopub.status.idle": "2021-04-27T15:30:40.506958Z",
     "shell.execute_reply": "2021-04-27T15:30:40.506490Z"
    },
    "papermill": {
     "duration": 0.030791,
     "end_time": "2021-04-27T15:30:40.507079",
     "exception": false,
     "start_time": "2021-04-27T15:30:40.476288",
     "status": "completed"
    },
    "tags": []
   },
   "outputs": [],
   "source": [
    "#Delta T del Problema de Aletas\n",
    "theta_0 = T_gas-T_base\n",
    "beta = (h_conv*P/(k_acero_inox*A_c) )**0.5"
   ]
  },
  {
   "cell_type": "code",
   "execution_count": 298,
   "id": "3c8f95e4",
   "metadata": {
    "execution": {
     "iopub.execute_input": "2021-04-27T15:30:40.553310Z",
     "iopub.status.busy": "2021-04-27T15:30:40.552498Z",
     "iopub.status.idle": "2021-04-27T15:30:40.561120Z",
     "shell.execute_reply": "2021-04-27T15:30:40.560543Z"
    },
    "papermill": {
     "duration": 0.033753,
     "end_time": "2021-04-27T15:30:40.561252",
     "exception": false,
     "start_time": "2021-04-27T15:30:40.527499",
     "status": "completed"
    },
    "tags": []
   },
   "outputs": [
    {
     "data": {
      "text/latex": [
       "Parámetro de la aleta"
      ],
      "text/plain": [
       "<IPython.core.display.Latex object>"
      ]
     },
     "metadata": {},
     "output_type": "display_data"
    },
    {
     "data": {
      "text/latex": [
       "$\\beta$= 80.4 / m"
      ],
      "text/plain": [
       "<IPython.core.display.Latex object>"
      ]
     },
     "metadata": {},
     "output_type": "display_data"
    },
    {
     "data": {
      "text/latex": [
       "$\\beta L$= 482.64 cm / m"
      ],
      "text/plain": [
       "<IPython.core.display.Latex object>"
      ]
     },
     "metadata": {},
     "output_type": "display_data"
    },
    {
     "data": {
      "text/latex": [
       "$\\beta L$= 4.83"
      ],
      "text/plain": [
       "<IPython.core.display.Latex object>"
      ]
     },
     "metadata": {},
     "output_type": "display_data"
    }
   ],
   "source": [
    "display(Latex(r'Parámetro de la aleta'))\n",
    "display(Latex(r'$\\beta$='+f' {beta:~.1f}'))\n",
    "display(Latex(r'$\\beta L$='+f' {(beta*L):~.2f}'))\n",
    "# Para simplificar unidades\n",
    "display(Latex(r'$\\beta L$='+f' {(beta*L).to_base_units():~.2f}'))"
   ]
  },
  {
   "cell_type": "markdown",
   "id": "1a955fc4",
   "metadata": {},
   "source": [
    "#### Determinación del Flujo de calor $\\dot Q$."
   ]
  },
  {
   "cell_type": "code",
   "execution_count": 299,
   "id": "2023dfe1",
   "metadata": {
    "execution": {
     "iopub.execute_input": "2021-04-27T15:30:40.609767Z",
     "iopub.status.busy": "2021-04-27T15:30:40.609055Z",
     "iopub.status.idle": "2021-04-27T15:30:40.617481Z",
     "shell.execute_reply": "2021-04-27T15:30:40.617016Z"
    },
    "papermill": {
     "duration": 0.034992,
     "end_time": "2021-04-27T15:30:40.617601",
     "exception": false,
     "start_time": "2021-04-27T15:30:40.582609",
     "status": "completed"
    },
    "tags": []
   },
   "outputs": [
    {
     "data": {
      "text/latex": [
       "$\\dot Q$= 218.8 W"
      ],
      "text/plain": [
       "<IPython.core.display.Latex object>"
      ]
     },
     "metadata": {},
     "output_type": "display_data"
    },
    {
     "data": {
      "text/latex": [
       "$\\dot Q_{T}$= 11.8 kW"
      ],
      "text/plain": [
       "<IPython.core.display.Latex object>"
      ]
     },
     "metadata": {},
     "output_type": "display_data"
    }
   ],
   "source": [
    "Q = theta_0*h_conv*P*np.tanh(beta*L)/beta\n",
    "display(Latex(r'$\\dot Q$='+f' {Q:~.1f}'))\n",
    "Qtotal = Q*n_alabes\n",
    "display(Latex(r'$\\dot Q_{T}$='+f' {Qtotal.to(ureg.kW):~.1f}'))"
   ]
  },
  {
   "cell_type": "markdown",
   "id": "61690ff9",
   "metadata": {},
   "source": [
    "Para guardar en una variable la lista de todos los materiales disponibles en la librería `ht`.\n",
    "Usamos librerías de manejo de datos json, pandas. No "
   ]
  },
  {
   "cell_type": "code",
   "execution_count": 300,
   "id": "278371c8",
   "metadata": {
    "execution": {
     "iopub.execute_input": "2021-04-27T15:30:40.667521Z",
     "iopub.status.busy": "2021-04-27T15:30:40.666848Z",
     "iopub.status.idle": "2021-04-27T15:30:40.670670Z",
     "shell.execute_reply": "2021-04-27T15:30:40.671324Z"
    },
    "papermill": {
     "duration": 0.031575,
     "end_time": "2021-04-27T15:30:40.671534",
     "exception": false,
     "start_time": "2021-04-27T15:30:40.639959",
     "status": "completed"
    },
    "tags": []
   },
   "outputs": [],
   "source": [
    "lista_materiales = ht.insulation.materials_dict\n",
    "\n",
    "#Genero una lista de materiales\n",
    "import json\n",
    "lista_texto1 = json.dumps(lista_materiales)\n",
    "#lista_texto1.split('\"')\n",
    "lista_texto1 = lista_texto1.replace(': ','').replace('{','').replace('}','').replace('\"1, ','').replace('\"2, ','').replace('\"3, ','')\n",
    "lista_texto1 = lista_texto1.split('\"')[1:-1]\n",
    "\n",
    "conductividades = np.zeros((len(lista_texto1)))\n",
    "for i,listai in enumerate(lista_texto1):\n",
    "    conductividades[i] = ht.k_material(listai)\n",
    "#conductividades = conductividades *ureg.watt/ureg.m/ureg.K"
   ]
  },
  {
   "cell_type": "code",
   "execution_count": 301,
   "id": "6ed52642",
   "metadata": {},
   "outputs": [],
   "source": [
    "data_materiales = pd.DataFrame({\"Material\":pd.Series(lista_texto1),\"Conductividad [watt/m K]\":pd.Series(conductividades)})"
   ]
  },
  {
   "cell_type": "code",
   "execution_count": 302,
   "id": "b642d644",
   "metadata": {},
   "outputs": [],
   "source": [
    "#si qusieramos grabar en un archivo\n",
    "data_materiales.to_excel('Conductividad_materiales.xlsx')"
   ]
  },
  {
   "cell_type": "markdown",
   "id": "7f3892cc",
   "metadata": {},
   "source": [
    "## CoolProp\n",
    "Usaremos la función:\n",
    "\n",
    "`cp.CoolProp.PropsSI(<propiedad>,<temperatura referencia>,<presion referencia>,<fluido>)`\n",
    "\n",
    "para ver una lista completa de las propiedades que podemos evaluar,\n",
    "ver [http://www.coolprop.org/coolprop/HighLevelAPI.html](http://www.coolprop.org/coolprop/HighLevelAPI.html)\n",
    "\n",
    "Veamos como se comporta la viscosidad y la conductividad del aire respecto a la temperatura a presión 1 atm:"
   ]
  },
  {
   "cell_type": "code",
   "execution_count": 321,
   "id": "bd3adee6",
   "metadata": {},
   "outputs": [],
   "source": [
    "Temperatura_1 = 25\n",
    "mu = cp.CoolProp.PropsSI('V','T',273+Temperatura_1,'P',101.325e3,'Air')\n",
    "rho = cp.CoolProp.PropsSI('D','T',273+Temperatura_1,'P',101.325e3,'Air')\n",
    "nu = mu/rho * ureg.m**2/ureg.s\n",
    "k_aire_1 = cp.CoolProp.PropsSI('conductivity','T',273+Temperatura_1,'P',101.325e3,'Air')*ureg.watt/ureg.m/ureg.K"
   ]
  },
  {
   "cell_type": "code",
   "execution_count": 326,
   "id": "374aab98",
   "metadata": {},
   "outputs": [
    {
     "data": {
      "text/latex": [
       "$\\nu=$1.56e-05 meter ** 2 / second a T=25 degree_Celsius"
      ],
      "text/plain": [
       "<IPython.core.display.Latex object>"
      ]
     },
     "metadata": {},
     "output_type": "display_data"
    },
    {
     "data": {
      "text/latex": [
       "$k=$2.62e-02 watt / kelvin / meter a T=25 degree_Celsius"
      ],
      "text/plain": [
       "<IPython.core.display.Latex object>"
      ]
     },
     "metadata": {},
     "output_type": "display_data"
    }
   ],
   "source": [
    "display(Latex(r\"$\\nu=$\"+f\"{nu:.2e} a T={((Temperatura_1+273)*ureg.K).to('degC'):.0f}\"))\n",
    "display(Latex(r\"$k=$\"+f\"{k_aire_1:.2e} a T={((Temperatura_1+273)*ureg.K).to('degC'):.0f}\"))"
   ]
  },
  {
   "cell_type": "code",
   "execution_count": 373,
   "id": "b4f26e30",
   "metadata": {},
   "outputs": [],
   "source": [
    "# Definimos un vector de temperaturas\n",
    "\n",
    "Temperaturas = np.linspace(0,600,25)  # inicio,final, numero de elementos\n",
    "rhos, mus, nus, ks = np.tile(np.zeros_like(Temperaturas),[4,1])\n",
    "for i, Temperatura in enumerate(Temperaturas):\n",
    "    mus[i] = cp.CoolProp.PropsSI('V','T',273+Temperatura,'P',101.325e3,'Air')\n",
    "    rhos[i] = cp.CoolProp.PropsSI('D','T',273+Temperatura,'P',101.325e3,'Air')\n",
    "    nus[i] = mus[i]/rhos[i] \n",
    "    ks[i] = cp.CoolProp.PropsSI('conductivity','T',273+Temperatura,'P',101.325e3,'Air')\n",
    "    \n",
    "idpol = np.polyfit(Temperaturas+273,nus,2)\n",
    "p1 = np.poly1d(idpol)\n",
    "idpol2 = np.polyfit((Temperaturas+273),ks**2,1)\n",
    "pk = np.poly1d(idpol2)"
   ]
  },
  {
   "cell_type": "code",
   "execution_count": 374,
   "id": "c0381b18",
   "metadata": {},
   "outputs": [
    {
     "data": {
      "image/png": "[encoded data removed]",
      "text/plain": [
       "<Figure size 720x288 with 2 Axes>"
      ]
     },
     "metadata": {
      "needs_background": "light"
     },
     "output_type": "display_data"
    }
   ],
   "source": [
    "fig,ax = plt.subplots(1,2,figsize=(10,4))\n",
    "ax0,ax1 = ax\n",
    "ax0.plot(Temperaturas+273,nus,'o',label='data')\n",
    "ax0.plot(Temperaturas+273,p1(Temperaturas+273),label='Ajuste')\n",
    "ax0.set_ylabel(r'$\\nu$')\n",
    "ax0.set_xlabel('$T$');\n",
    "\n",
    "ax1.plot( (Temperaturas+273),ks,'o',label='data')\n",
    "ax1.plot((Temperaturas+273),pk((Temperaturas+273))**.5,label='Ajuste')\n",
    "ax1.set_ylabel(r'$k$')\n",
    "ax1.set_xlabel('$T$');\n",
    "fig.tight_layout()"
   ]
  },
  {
   "cell_type": "code",
   "execution_count": 368,
   "id": "0115609c",
   "metadata": {},
   "outputs": [
    {
     "data": {
      "text/plain": [
       "(0.022969238712546122, 0.024348994714412812)"
      ]
     },
     "execution_count": 368,
     "metadata": {},
     "output_type": "execute_result"
    }
   ],
   "source": [
    "pk(273)**.5, ks[0]"
   ]
  },
  {
   "cell_type": "code",
   "execution_count": 315,
   "id": "ab724ef4",
   "metadata": {},
   "outputs": [
    {
     "data": {
      "text/plain": [
       "1.5530604260593228e-05"
      ]
     },
     "execution_count": 315,
     "metadata": {},
     "output_type": "execute_result"
    }
   ],
   "source": []
  },
  {
   "cell_type": "code",
   "execution_count": null,
   "id": "96350d39",
   "metadata": {},
   "outputs": [],
   "source": []
  }
 ],
 "metadata": {
  "kernelspec": {
   "display_name": "Python 3",
   "language": "python",
   "name": "python3"
  },
  "language_info": {
   "codemirror_mode": {
    "name": "ipython",
    "version": 3
   },
   "file_extension": ".py",
   "mimetype": "text/x-python",
   "name": "python",
   "nbconvert_exporter": "python",
   "pygments_lexer": "ipython3",
   "version": "3.8.8"
  },
  "latex_envs": {
   "LaTeX_envs_menu_present": true,
   "autoclose": true,
   "autocomplete": true,
   "bibliofile": "biblio.bib",
   "cite_by": "apalike",
   "current_citInitial": 1,
   "eqLabelWithNumbers": true,
   "eqNumInitial": 1,
   "hotkeys": {
    "equation": "Ctrl-E",
    "itemize": "Ctrl-I"
   },
   "labels_anchors": false,
   "latex_user_defs": false,
   "report_style_numbering": false,
   "user_envs_cfg": false
  },
  "papermill": {
   "default_parameters": {},
   "duration": 26.252158,
   "end_time": "2021-04-27T15:30:42.330091",
   "environment_variables": {},
   "exception": null,
   "input_path": "__notebook__.ipynb",
   "output_path": "__notebook__.ipynb",
   "parameters": {},
   "start_time": "2021-04-27T15:30:16.077933",
   "version": "2.3.3"
  }
 },
 "nbformat": 4,
 "nbformat_minor": 5
}
