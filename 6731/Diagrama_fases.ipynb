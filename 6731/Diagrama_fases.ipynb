{
 "cells": [
  {
   "cell_type": "markdown",
   "metadata": {},
   "source": [
    "## Preliminaries\n",
    "\n",
    "Import the units, numerical, and plotting packages."
   ]
  },
  {
   "cell_type": "code",
   "execution_count": 1,
   "metadata": {},
   "outputs": [
    {
     "name": "stdout",
     "output_type": "stream",
     "text": [
      "Populating the interactive namespace from numpy and matplotlib\n"
     ]
    }
   ],
   "source": [
    "%matplotlib notebook\n",
    "# units package\n",
    "from pint import UnitRegistry\n",
    "u = UnitRegistry()\n",
    "u.default_format = 'P'\n",
    "\n",
    "# numerical package\n",
    "import numpy as np\n",
    "\n",
    "# plotting package\n",
    "import matplotlib.pyplot as plt\n",
    "%pylab inline\n",
    "\n",
    "import matplotlib\n",
    "matplotlib.rcParams.update({'font.size': 24, 'text.usetex': False})\n",
    "\n",
    "import numpy as np"
   ]
  },
  {
   "cell_type": "markdown",
   "metadata": {},
   "source": [
    "\n",
    "## Idiosyncracies of the pint units package\n",
    "\n",
    "The package does a great job with derived units. In this example, we define a force in terms of kg, m, and s. The function .to() returns the force in units of N. The force, internally, is still stored with kg, m, and s units.\n"
   ]
  },
  {
   "cell_type": "code",
   "execution_count": 2,
   "metadata": {},
   "outputs": [
    {
     "data": {
      "text/html": [
       "\\[2.3\\ kilogram\\ meter/second^2\\]"
      ],
      "text/latex": [
       "$2.3\\ \\frac{\\mathrm{kilogram} \\cdot \\mathrm{meter}}{\\mathrm{second}^{2}}$"
      ],
      "text/plain": [
       "2.3 kilogram·meter/second²"
      ]
     },
     "execution_count": 2,
     "metadata": {},
     "output_type": "execute_result"
    }
   ],
   "source": [
    "F = 2.3*u.kg*u.m/(u.s*u.s)\n",
    "\n",
    "F.to(u.N)\n",
    "F"
   ]
  },
  {
   "cell_type": "markdown",
   "metadata": {},
   "source": [
    "Where you run into trouble is with units prefixes not cancelling as you would expect. For example, if I divide 10 kJ by 10 J, I would expect to get 1000. This is not what I observe. I observe instead that the units remain kilojoule/joule -- there is no simplification."
   ]
  },
  {
   "cell_type": "code",
   "execution_count": 3,
   "metadata": {},
   "outputs": [
    {
     "data": {
      "text/html": [
       "\\[1.0\\ kilojoule/joule\\]"
      ],
      "text/latex": [
       "$1.0\\ \\frac{\\mathrm{kilojoule}}{\\mathrm{joule}}$"
      ],
      "text/plain": [
       "1.0 kilojoule/joule"
      ]
     },
     "execution_count": 3,
     "metadata": {},
     "output_type": "execute_result"
    }
   ],
   "source": [
    "(10*u.kJ)/(10*u.J)"
   ]
  },
  {
   "cell_type": "markdown",
   "metadata": {},
   "source": [
    "So you have to force the simplification. How to do this? You use the function .ito_base_units() to change, in place, the units. Now the variable is a dimensionless 1000 as I would expect."
   ]
  },
  {
   "cell_type": "code",
   "execution_count": 4,
   "metadata": {},
   "outputs": [
    {
     "data": {
      "text/html": [
       "\\[1000.0\\ dimensionless\\]"
      ],
      "text/latex": [
       "$1000.0\\ dimensionless$"
      ],
      "text/plain": [
       "1000.0 dimensionless"
      ]
     },
     "execution_count": 4,
     "metadata": {},
     "output_type": "execute_result"
    }
   ],
   "source": [
    "z = (10*u.kJ)/(10*u.J)\n",
    "z.ito_base_units()\n",
    "z\n"
   ]
  },
  {
   "cell_type": "markdown",
   "metadata": {},
   "source": [
    "\n",
    "Thermodynamic data\n",
    "\n",
    "Input the temperature and pressure at three important reference points in the water phase diagram.\n"
   ]
  },
  {
   "cell_type": "code",
   "execution_count": 5,
   "metadata": {},
   "outputs": [],
   "source": [
    "# (T,P) at the triple point\n",
    "\n",
    "T_trip = 273.16*u.K\n",
    "P_trip = 611.73*u.Pa\n",
    "\n",
    "# (T,P) at the P = 1 atm boiling point \n",
    "\n",
    "T_boil = (99.61+273.15)*u.K # IUPAC convention\n",
    "P_boil = 100.0*u.kPa\n",
    "\n",
    "# (T,P) at the critical point\n",
    "\n",
    "T_crit = 647.3*u.K\n",
    "P_crit = 22.050*u.MPa"
   ]
  },
  {
   "cell_type": "markdown",
   "metadata": {},
   "source": [
    "Make a nice printout of (T,P) at the triple point, boiling point, and critical point:"
   ]
  },
  {
   "cell_type": "code",
   "execution_count": 6,
   "metadata": {},
   "outputs": [
    {
     "ename": "SyntaxError",
     "evalue": "invalid syntax (<ipython-input-6-afc24396b6c2>, line 1)",
     "output_type": "error",
     "traceback": [
      "\u001b[0;36m  File \u001b[0;32m\"<ipython-input-6-afc24396b6c2>\"\u001b[0;36m, line \u001b[0;32m1\u001b[0m\n\u001b[0;31m    print \"  triple point = ({}, {})\".format(T_trip,P_trip)\u001b[0m\n\u001b[0m                                    ^\u001b[0m\n\u001b[0;31mSyntaxError\u001b[0m\u001b[0;31m:\u001b[0m invalid syntax\n"
     ]
    }
   ],
   "source": [
    "print \"  triple point = ({}, {})\".format(T_trip,P_trip)\n",
    "print \" boiling point = ({}, {})\".format(T_boil,P_boil)\n",
    "print \"critical point = ({}, {})\".format(T_crit,P_crit)"
   ]
  },
  {
   "cell_type": "markdown",
   "metadata": {},
   "source": [
    "The Atkins Physical Chemistry text tells us that, at the boiling point of water, the enthalpy of vaporization is"
   ]
  },
  {
   "cell_type": "code",
   "execution_count": null,
   "metadata": {},
   "outputs": [],
   "source": [
    "H_vap_boil = 40.66*u.kJ/u.mol"
   ]
  },
  {
   "cell_type": "markdown",
   "metadata": {},
   "source": [
    "Now enter the water enthalpy change and molar volume change at the triple point. This data was quite hard to track down! See the phase diagram of water and associated tables at the London South Bank Univerity website compendium [link](http://www1.lsbu.ac.uk/water/phase.html). Here are the molar enthalpy (ΔH¯), molar entropy (ΔS¯). and molar volume (V¯) for water undergoing melting, vaporization, and sublimation at the critical point."
   ]
  },
  {
   "cell_type": "code",
   "execution_count": null,
   "metadata": {},
   "outputs": [],
   "source": [
    "# melting: solid to liquid\n",
    "\n",
    "H_melt = 5.98*u.kJ/u.mol\n",
    "S_melt = 22*u.J/(u.mol*u.K)\n",
    "V_melt = -1.634*u.cc/u.mol\n",
    "\n",
    "# vaporization: liquid to gas\n",
    "\n",
    "H_vap = 44.9*u.kJ/u.mol\n",
    "S_vap = 165.0*u.J/(u.mol*u.K)\n",
    "V_vap = 22050.0*u.cc/u.mol\n",
    "\n",
    "# sublimation: solid to vapor\n",
    "\n",
    "H_sub = 50.9*u.kJ/u.mol\n",
    "S_sub = 186.0*u.J/(u.mol*u.K)\n",
    "V_sub = 22048.0*u.cc/u.mol"
   ]
  },
  {
   "cell_type": "markdown",
   "metadata": {},
   "source": [
    "## Solid-liquid line\n",
    "\n",
    "The pressure-temperature boundary at the solid-liquid phase boundary is approximately\n",
    "$$P(T)=P^*+\\frac{\\Delta H_{\\text{melt}}  }{\\Delta V_{\\text{melt}}}\\log\\frac{T}{T^*}$$\n",
    "\n",
    "\n",
    "where $\\log$\n",
    "means the natural logarithm, $T^∗$ is a reference temperature, and $P^∗$ is the pressure at $T=T^∗$. In deriving this equation, we assumed that the enthalpy of melting was temperature independent. Let use the triple point pressure and temperature as the reference pressure $P^∗$ and temperature $T^∗$, respectively, and calculate $P(T)$ at temperatures ranging from 5 degrees kelvin below the triple point up to the triple point."
   ]
  },
  {
   "cell_type": "code",
   "execution_count": null,
   "metadata": {},
   "outputs": [],
   "source": [
    "T_melt = np.linspace(T_trip.magnitude-5.0,T_trip.magnitude,100)*u.K # array of temp points\n",
    "constant_melt = H_melt/V_melt \n",
    "# constant\n",
    "constant_melt.ito_base_units() \n",
    "# convert constant to base units\n",
    "P_melt = P_trip + constant_melt*np.log(T_melt/T_trip) "
   ]
  },
  {
   "cell_type": "code",
   "execution_count": null,
   "metadata": {},
   "outputs": [],
   "source": [
    "T_melt = np.linspace(T_trip.magnitude-5.0,T_trip.magnitude,100)*u.K # array of temp points\n",
    "              # array of pressure point\n",
    "constant_melt = H_melt/V_melt  # constant\n",
    "P_trip.ito_base_units()\n",
    "constant_melt.ito_base_units()                                        # convert constant to base units\n",
    "P_melt = P_trip + constant_melt*np.log(T_melt/T_trip)  "
   ]
  },
  {
   "cell_type": "code",
   "execution_count": null,
   "metadata": {},
   "outputs": [],
   "source": []
  },
  {
   "cell_type": "code",
   "execution_count": null,
   "metadata": {},
   "outputs": [],
   "source": [
    "P_trip"
   ]
  },
  {
   "cell_type": "markdown",
   "metadata": {},
   "source": [
    "We only want to look over 5 degrees kelvin temperature range because the slope of $P(T)$ is so large. The slope is determined by the constant $\\Delta H^¯_{\\text{melt}}/\\Delta V^-_{\\text{melt}}$, which is"
   ]
  },
  {
   "cell_type": "code",
   "execution_count": null,
   "metadata": {},
   "outputs": [],
   "source": [
    "print constant_melt.to(u.GPa)"
   ]
  },
  {
   "cell_type": "markdown",
   "metadata": {},
   "source": [
    "Plot the pressure-versus-temperature line describing the solid-liguid boundary. The circle is the triple point."
   ]
  },
  {
   "cell_type": "code",
   "execution_count": null,
   "metadata": {},
   "outputs": [],
   "source": [
    "fig = plt.figure(figsize=(9,7))\n",
    "plt.semilogy(T_melt/u.K,P_melt/u.Pa)\n"
   ]
  },
  {
   "cell_type": "code",
   "execution_count": null,
   "metadata": {},
   "outputs": [],
   "source": [
    "plt.scatter([T_trip/u.K],[P_trip/u.Pa],s=100, facecolors='none', edgecolors='k')\n",
    "plt.xlabel('T [K]')\n",
    "plt.ylabel('P [Pa]')\n",
    "plt.title('solid-liquid phase boundary')"
   ]
  },
  {
   "cell_type": "code",
   "execution_count": null,
   "metadata": {},
   "outputs": [],
   "source": [
    "T_melt"
   ]
  },
  {
   "cell_type": "code",
   "execution_count": null,
   "metadata": {},
   "outputs": [],
   "source": [
    "T_trip"
   ]
  },
  {
   "cell_type": "code",
   "execution_count": null,
   "metadata": {},
   "outputs": [],
   "source": [
    "T_melt / T_trip"
   ]
  },
  {
   "cell_type": "code",
   "execution_count": null,
   "metadata": {},
   "outputs": [],
   "source": []
  }
 ],
 "metadata": {
  "anaconda-cloud": {},
  "kernelspec": {
   "display_name": "Python 3",
   "language": "python",
   "name": "python3"
  },
  "language_info": {
   "codemirror_mode": {
    "name": "ipython",
    "version": 3
   },
   "file_extension": ".py",
   "mimetype": "text/x-python",
   "name": "python",
   "nbconvert_exporter": "python",
   "pygments_lexer": "ipython3",
   "version": "3.6.9"
  }
 },
 "nbformat": 4,
 "nbformat_minor": 1
}
