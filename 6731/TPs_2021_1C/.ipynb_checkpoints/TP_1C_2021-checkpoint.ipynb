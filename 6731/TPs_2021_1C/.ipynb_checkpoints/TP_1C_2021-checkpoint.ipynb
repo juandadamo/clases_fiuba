{
 "cells": [
  {
   "cell_type": "code",
   "execution_count": 129,
   "metadata": {},
   "outputs": [
    {
     "name": "stdout",
     "output_type": "stream",
     "text": [
      "Requirement already satisfied: numpy in /home/juan/.local/lib/python3.8/site-packages (1.19.3)\n",
      "Requirement already satisfied: matplotlib in /home/juan/.local/lib/python3.8/site-packages (3.3.2)\n",
      "Requirement already satisfied: ht in /home/juan/.local/lib/python3.8/site-packages (0.1.55)\n",
      "Requirement already satisfied: CoolProp in /home/juan/.local/lib/python3.8/site-packages (6.4.1)\n",
      "Requirement already satisfied: pandas in /home/juan/.local/lib/python3.8/site-packages (1.0.5)\n",
      "Requirement already satisfied: IPython in /home/juan/anaconda3/lib/python3.8/site-packages (7.22.0)\n",
      "Requirement already satisfied: pint in /home/juan/.local/lib/python3.8/site-packages (0.17)\n",
      "Requirement already satisfied: fluids in /home/juan/.local/lib/python3.8/site-packages (0.1.83)\n",
      "Requirement already satisfied: pyparsing!=2.0.4,!=2.1.2,!=2.1.6,>=2.0.3 in /home/juan/anaconda3/lib/python3.8/site-packages (from matplotlib) (2.4.7)\n",
      "Requirement already satisfied: cycler>=0.10 in /home/juan/.local/lib/python3.8/site-packages (from matplotlib) (0.10.0)\n",
      "Requirement already satisfied: pillow>=6.2.0 in /home/juan/anaconda3/lib/python3.8/site-packages (from matplotlib) (8.2.0)\n",
      "Requirement already satisfied: certifi>=2020.06.20 in /home/juan/.local/lib/python3.8/site-packages (from matplotlib) (2020.6.20)\n",
      "Requirement already satisfied: python-dateutil>=2.1 in /home/juan/anaconda3/lib/python3.8/site-packages (from matplotlib) (2.8.1)\n",
      "Requirement already satisfied: kiwisolver>=1.0.1 in /home/juan/.local/lib/python3.8/site-packages (from matplotlib) (1.2.0)\n",
      "Requirement already satisfied: scipy>=0.9.0 in /home/juan/.local/lib/python3.8/site-packages (from ht) (1.5.0)\n",
      "Requirement already satisfied: pytz>=2017.2 in /home/juan/anaconda3/lib/python3.8/site-packages (from pandas) (2021.1)\n",
      "Requirement already satisfied: prompt-toolkit!=3.0.0,!=3.0.1,<3.1.0,>=2.0.0 in /home/juan/anaconda3/lib/python3.8/site-packages (from IPython) (3.0.17)\n",
      "Requirement already satisfied: backcall in /home/juan/anaconda3/lib/python3.8/site-packages (from IPython) (0.2.0)\n",
      "Requirement already satisfied: pygments in /home/juan/anaconda3/lib/python3.8/site-packages (from IPython) (2.8.1)\n",
      "Requirement already satisfied: decorator in /home/juan/anaconda3/lib/python3.8/site-packages (from IPython) (5.0.6)\n",
      "Requirement already satisfied: pickleshare in /home/juan/anaconda3/lib/python3.8/site-packages (from IPython) (0.7.5)\n",
      "Requirement already satisfied: traitlets>=4.2 in /home/juan/anaconda3/lib/python3.8/site-packages (from IPython) (5.0.5)\n",
      "Requirement already satisfied: pexpect>4.3 in /home/juan/anaconda3/lib/python3.8/site-packages (from IPython) (4.8.0)\n",
      "Requirement already satisfied: jedi>=0.16 in /home/juan/anaconda3/lib/python3.8/site-packages (from IPython) (0.17.2)\n",
      "Requirement already satisfied: setuptools>=18.5 in /home/juan/.local/lib/python3.8/site-packages (from IPython) (57.0.0)\n",
      "Requirement already satisfied: packaging in /home/juan/anaconda3/lib/python3.8/site-packages (from pint) (20.9)\n",
      "Requirement already satisfied: six in /home/juan/anaconda3/lib/python3.8/site-packages (from cycler>=0.10->matplotlib) (1.15.0)\n",
      "Requirement already satisfied: parso<0.8.0,>=0.7.0 in /home/juan/anaconda3/lib/python3.8/site-packages (from jedi>=0.16->IPython) (0.7.0)\n",
      "Requirement already satisfied: ptyprocess>=0.5 in /home/juan/.local/lib/python3.8/site-packages (from pexpect>4.3->IPython) (0.7.0)\n",
      "Requirement already satisfied: wcwidth in /home/juan/anaconda3/lib/python3.8/site-packages (from prompt-toolkit!=3.0.0,!=3.0.1,<3.1.0,>=2.0.0->IPython) (0.2.5)\n",
      "Requirement already satisfied: ipython-genutils in /home/juan/anaconda3/lib/python3.8/site-packages (from traitlets>=4.2->IPython) (0.2.0)\n"
     ]
    }
   ],
   "source": [
    "!pip install numpy matplotlib ht CoolProp pandas IPython pint fluids"
   ]
  },
  {
   "cell_type": "code",
   "execution_count": 422,
   "metadata": {},
   "outputs": [],
   "source": [
    "# -*- coding: utf-8 -*-\n",
    "%matplotlib notebook\n",
    "import numpy as np\n",
    "import matplotlib.pyplot as plt\n",
    "import ht, pint, fluids\n",
    "import CoolProp as cp\n",
    "import pandas as pd\n",
    "from IPython.display import Latex\n",
    "ureg = pint.UnitRegistry();#(fmt_locale='es_ES')"
   ]
  },
  {
   "cell_type": "markdown",
   "metadata": {},
   "source": [
    "### OBJETIVO\n",
    "\n",
    "Diseño de un intercambiador de tipo casco y tubos para el enfriamiento de una corriente de un hidrocarburo liviano, utilizando como corriente de servicio, agua de torre de enfriamiento."
   ]
  },
  {
   "cell_type": "markdown",
   "metadata": {},
   "source": [
    "### ENUNCIADO\n",
    "\n",
    "Se requiere enfriar una cantidad \\(\\dot m_C\\) de un hidrocarburo liviano desde una temperatura \\(T_{CE}\\),\n",
    "garantizando a la salida una temperatura \\(T_{CS}\\). Para ello se dispone de un caudal \\(\\dot m_F\\) de agua de torre de enfriamiento, que ingresa a una temperatura de \\(T_{FE}\\). El agua no podrá calentarse por encima de\n",
    "55°C. Considerar al agua como el fluido que pasa por los tubos y al hidrocarburo por la carcasa.\n",
    " \n",
    "\n",
    "Se pide:\n",
    "\n",
    "    1. Determinar las características de un intercambiador de casco y tubos que cumpla con los requerimientos. \n",
    "    2. Calcular las caídas de presión de ambas corrientes en su paso por el equipo.\n",
    "    3. Completar el cuadro de resumen que contenga las características constructivas y de operación fundamentales calculadas (Entregar el archivo Excel completo adjunto).\n",
    "    4. Hacer un plano conceptual a escala del equipo en el que debe estar presente la carcasa, tubos, bafles, cabezales, conexiones de entrada y salida de las corrientes, etc.\n",
    "    5. Hacer un plano a escala de la placa portatubos y su relación con la carcasa.\n",
    "    6. Durante la operación, el proceso sufre cierto desbalance que hace que la temperatura de entrada del hidrocarburo disminuya 5ºC. Manteniendo los caudales constantes, determinar las nuevas temperaturas de salida. ¿Verifican las condiciones de funcionamiento requeridas? (Se recomienda utilizar el método e-NUT)\n",
    "    7. En los casos que no verifiquen, se dispone de un sistema de control del caudal de agua, para poder llevar al equipo dentro de los parámetros de funcionamiento adecuados. ¿Cuál es este nuevo caudal? (Se recomienda utilizar el método e-NUT)\n",
    "\n",
    "\n",
    "DATOS\n",
    "\n",
    "Corriente de Servicio: Agua de torre de enfriamiento tratada.\n",
    "\n",
    "Corriente de Proceso: Hidrocarburo liviano\n",
    "\n",
    "Temperatura del etilenglicol a la entrada – TFE [ºC] = 32.+0.5·UNP\n",
    "\n",
    "Temperatura del etilenglicol a la salida – TFS [ºC] = 40\n",
    "\n",
    "Temperatura del agua a la entrada – TCE [ºC] = 65\n",
    "\n",
    "Temperatura del agua de salida mínima – TFSmin [ºC] = 20\n",
    "\n",
    "Caudal de hidrocarburo liviano – mF [kg/s] (45+UNP)/10\n",
    "\n",
    "Nota:\n",
    "    • UNP= último número de padrón (alumnos de intercambio UNP=4)"
   ]
  },
  {
   "cell_type": "code",
   "execution_count": 423,
   "metadata": {},
   "outputs": [],
   "source": [
    "Npadron = 73245\n",
    "UNP = np.float(np.str(Npadron)[-1])"
   ]
  },
  {
   "cell_type": "code",
   "execution_count": 424,
   "metadata": {},
   "outputs": [
    {
     "data": {
      "text/html": [
       "<div>\n",
       "<style scoped>\n",
       "    .dataframe tbody tr th:only-of-type {\n",
       "        vertical-align: middle;\n",
       "    }\n",
       "\n",
       "    .dataframe tbody tr th {\n",
       "        vertical-align: top;\n",
       "    }\n",
       "\n",
       "    .dataframe thead th {\n",
       "        text-align: right;\n",
       "    }\n",
       "</style>\n",
       "<table border=\"1\" class=\"dataframe\">\n",
       "  <thead>\n",
       "    <tr style=\"text-align: right;\">\n",
       "      <th></th>\n",
       "      <th>0</th>\n",
       "      <th>1</th>\n",
       "    </tr>\n",
       "  </thead>\n",
       "  <tbody>\n",
       "    <tr>\n",
       "      <th>0</th>\n",
       "      <td>Corriente de Servicio:</td>\n",
       "      <td>Agua de torre de enfriamiento tratada.</td>\n",
       "    </tr>\n",
       "    <tr>\n",
       "      <th>1</th>\n",
       "      <td>Corriente de Proceso:</td>\n",
       "      <td>Hidrocarburo liviano</td>\n",
       "    </tr>\n",
       "    <tr>\n",
       "      <th>2</th>\n",
       "      <td>Temperatura del agua a la entrada – TFE [ºC]</td>\n",
       "      <td>35</td>\n",
       "    </tr>\n",
       "    <tr>\n",
       "      <th>3</th>\n",
       "      <td>Temperatura máxima del agua a la salida – TFS ...</td>\n",
       "      <td>55</td>\n",
       "    </tr>\n",
       "    <tr>\n",
       "      <th>4</th>\n",
       "      <td>Temperatura de proceso a la entrada – TCE [ºC]</td>\n",
       "      <td>90</td>\n",
       "    </tr>\n",
       "    <tr>\n",
       "      <th>5</th>\n",
       "      <td>Temperatura de proceso a la salida – TCS [ºC]</td>\n",
       "      <td>45</td>\n",
       "    </tr>\n",
       "    <tr>\n",
       "      <th>6</th>\n",
       "      <td>Caudal de Hidrocarburo liviano</td>\n",
       "      <td>11.5</td>\n",
       "    </tr>\n",
       "  </tbody>\n",
       "</table>\n",
       "</div>"
      ],
      "text/plain": [
       "                                                   0  \\\n",
       "0                            Corriente de Servicio:    \n",
       "1                             Corriente de Proceso:    \n",
       "2      Temperatura del agua a la entrada – TFE [ºC]    \n",
       "3  Temperatura máxima del agua a la salida – TFS ...   \n",
       "4     Temperatura de proceso a la entrada – TCE [ºC]   \n",
       "5      Temperatura de proceso a la salida – TCS [ºC]   \n",
       "6                     Caudal de Hidrocarburo liviano   \n",
       "\n",
       "                                        1  \n",
       "0  Agua de torre de enfriamiento tratada.  \n",
       "1                    Hidrocarburo liviano  \n",
       "2                                      35  \n",
       "3                                      55  \n",
       "4                                      90  \n",
       "5                                      45  \n",
       "6                                    11.5  "
      ]
     },
     "metadata": {},
     "output_type": "display_data"
    }
   ],
   "source": [
    "data = [['Corriente de Servicio: ','Agua de torre de enfriamiento tratada.'],\n",
    "       ['Corriente de Proceso: ','Hidrocarburo liviano'],\n",
    "       ['Temperatura del agua a la entrada – TFE [ºC] ',32.5+0.5*UNP],\n",
    "       ['Temperatura máxima del agua a la salida – TFS max [ºC]',55],\n",
    "        ['Temperatura de proceso a la entrada – TCE [ºC]',90],\n",
    "        ['Temperatura de proceso a la salida – TCS [ºC]',45],\n",
    "        ['Caudal de Hidrocarburo liviano',14-0.5*UNP]       \n",
    "       ]\n",
    "Datos = pd.DataFrame(data)\n",
    "Datos_np = Datos.to_numpy()\n",
    "display(Datos)"
   ]
  },
  {
   "cell_type": "code",
   "execution_count": 425,
   "metadata": {},
   "outputs": [],
   "source": [
    "################\n",
    "#     DATOS    #\n",
    "################\n",
    "\n",
    "Tfe = (Datos_np[2,1]+273)*ureg.K\n",
    "Tfs_max = (Datos_np[3,1]+273)*ureg.K\n",
    "Tce = (Datos_np[4,1]+273)*ureg.K\n",
    "Tcs = (Datos_np[5,1]+273)*ureg.K\n",
    "m_f = Datos_np[6,1]*ureg.kg/ureg.second"
   ]
  },
  {
   "cell_type": "code",
   "execution_count": 495,
   "metadata": {},
   "outputs": [
    {
     "data": {
      "text/latex": [
       "Calor Intercambiado: Q=721.00 kilowatt"
      ],
      "text/plain": [
       "<IPython.core.display.Latex object>"
      ]
     },
     "metadata": {},
     "output_type": "display_data"
    },
    {
     "data": {
      "text/latex": [
       "Nut = 3.45, \\(\\varepsilon=\\) 0.82"
      ],
      "text/plain": [
       "<IPython.core.display.Latex object>"
      ]
     },
     "metadata": {},
     "output_type": "display_data"
    }
   ],
   "source": [
    "# Cálculos \n",
    "\n",
    "Tfs = Tfs_max\n",
    "Tfs = Tfs_max - 5*ureg.K\n",
    "\n",
    "#Calor intercambiado\n",
    "\n",
    "Tf_media = (Tfe+Tfs)/2\n",
    "C_f = cp.CoolProp.PropsSI('C','T',Tf_media.magnitude,'P',101.325e3,'Water')*ureg.joule/ureg.kg/ureg.K\n",
    "mu_f = cp.CoolProp.PropsSI('V','T',Tf_media.magnitude,'P',101.325e3,'Water')*ureg.kg/ureg.m/ureg.second\n",
    "rho_f = cp.CoolProp.PropsSI('D','T',Tf_media.magnitude,'P',101.325e3,'Water')*ureg.kg*ureg.m**-3\n",
    "nu_f = mu_f / rho_f\n",
    "Pr_f = cp.CoolProp.PropsSI('Prandtl','T',Tf_media.magnitude,'P',101.325e3,'Water')\n",
    "k_f = cp.CoolProp.PropsSI('L','T',Tf_media.magnitude,'P',101.325e3,'Water')*ureg.watt/ureg.m/ureg.K\n",
    "\n",
    "Q = C_f*m_f*(Tfs-Tfe)\n",
    "\n",
    "\n",
    "#Q = C_c*m_c*(Tcs-Tce)\n",
    "Tc_media0 = (Tce+Tcs)/2\n",
    "C_c = cp.CoolProp.PropsSI('C','T',Tc_media0.magnitude,'P',101.325e3,'Benzene')*ureg.joule/ureg.kg/ureg.K\n",
    "mu_c = cp.CoolProp.PropsSI('V','T',Tc_media0.magnitude,'P',101.325e3,'Benzene')*ureg.kg/ureg.m/ureg.second\n",
    "rho_c = cp.CoolProp.PropsSI('D','T',Tc_media0.magnitude,'P',101.325e3,'Benzene')*ureg.kg*ureg.m**-3\n",
    "Pr_c = cp.CoolProp.PropsSI('Prandtl','T',Tc_media0.magnitude,'P',101.325e3,'Benzene')\n",
    "k_c = cp.CoolProp.PropsSI('L','T',Tc_media0.magnitude,'P',101.325e3,'Benzene')*ureg.watt/ureg.m/ureg.K\n",
    "nu_c = mu_c / rho_c\n",
    "\n",
    "\n",
    "\n",
    "m_c = Q / C_c/(Tce-Tcs)\n",
    "\n",
    "Cmin = np.min([(C_c*m_c).magnitude,(C_f*m_f).magnitude])\n",
    "Cmax = np.max([(C_c*m_c).magnitude,(C_f*m_f).magnitude])\n",
    "\n",
    "Cr = Cmin/Cmax\n",
    "\n",
    "Qmax = Cmin*(Tce-Tfe) \n",
    "epsilon = Q.magnitude/Qmax.magnitude\n",
    "\n",
    "dTlm = ht.LMTD(Tci=Tfe, Tco=Tfs, Thi=Tce, Tho=Tcs)\n",
    "\n",
    "# dos pasos de carcaza\n",
    "Ft = ht.F_LMTD_Fakheri(Tci=Tfe, Tco=Tfs, Thi=Tce, Tho=Tcs, shells=1)\n",
    "UA = Q/(dTlm*Ft)\n",
    "Nut = ht.NTU_from_effectiveness(effectiveness=epsilon, Cr=Cr, subtype='S&T')\n",
    "Nut = ht.NTU_from_UA(UA,Cmin)\n",
    "\n",
    "display(Latex(f'Calor Intercambiado: Q={Q.to(ureg.kW):.2f}'))\n",
    "display(Latex(f'Nut = {Nut.magnitude:.2f}, '+'\\(\\\\varepsilon=\\)'+f' {epsilon:.2f}'))"
   ]
  },
  {
   "cell_type": "markdown",
   "metadata": {},
   "source": [
    "U \\(\\simeq\\) 250-450 W/m\\(^2\\) K según: CAO, Eduardo. Heat transfer in process engineering. McGraw-Hill Education, 2010"
   ]
  },
  {
   "cell_type": "code",
   "execution_count": 496,
   "metadata": {},
   "outputs": [
    {
     "data": {
      "text/latex": [
       "Área = 221.12 m ** 2"
      ],
      "text/plain": [
       "<IPython.core.display.Latex object>"
      ]
     },
     "metadata": {},
     "output_type": "display_data"
    },
    {
     "data": {
      "text/latex": [
       "Tubos de Nominal Pipe Size: 0.8, \\(D_{ext}=26.7\\)mm,  \\(D_{int}=23.4\\)mm,              \\(e_{tubo}=1.6\\)mm"
      ],
      "text/plain": [
       "<IPython.core.display.Latex object>"
      ]
     },
     "metadata": {},
     "output_type": "display_data"
    },
    {
     "data": {
      "text/latex": [
       "Largo tubos = 6.00 m"
      ],
      "text/plain": [
       "<IPython.core.display.Latex object>"
      ]
     },
     "metadata": {},
     "output_type": "display_data"
    },
    {
     "data": {
      "text/latex": [
       "Área propuesta = 219.43 m ** 2"
      ],
      "text/plain": [
       "<IPython.core.display.Latex object>"
      ]
     },
     "metadata": {},
     "output_type": "display_data"
    },
    {
     "data": {
      "text/latex": [
       "Número de tubos = 109"
      ],
      "text/plain": [
       "<IPython.core.display.Latex object>"
      ]
     },
     "metadata": {},
     "output_type": "display_data"
    }
   ],
   "source": [
    "# Suponemos U = 300\n",
    "U = 250*ureg.watt/ureg.m**2/ureg.K\n",
    "A = (UA / U).to_base_units()\n",
    "display(Latex(f'Área = {A:~.2f}'))\n",
    "\n",
    "#Suponiendo \n",
    "L_tubo = 6*ureg.m\n",
    "NPS, Dint, Dext, esp_t = fluids.nearest_pipe(Do=1*24.5e-3, schedule='5S')\n",
    "Ai_tubo = (Dint*ureg.m)**2*np.pi/4\n",
    "Ae_tubo = L_tubo*(Dext*ureg.m)*2*np.pi\n",
    "Npasotubos = 2\n",
    "\n",
    "Ntubos = np.int( A.magnitude /( Npasotubos*Ae_tubo.magnitude))\n",
    "display(Latex(f'Tubos de Nominal Pipe Size: {NPS:.1f}, \\(D_{{ext}}={Dext*1e3:.1f}\\)mm,  \\(D_{{int}}={Dint*1e3:.1f}\\)mm,              \\(e_{{tubo}}={esp_t*1e3:.1f}\\)mm')) \n",
    "display(Latex(f'Largo tubos = {L_tubo:~.2f}'))\n",
    "Area_propuesta = Ntubos *  (Ae_tubo*Npasotubos)\n",
    "display(Latex(f'Área propuesta = {Area_propuesta:~.2f}'))\n",
    "display(Latex(f'Número de tubos = {Ntubos:0d}'))"
   ]
  },
  {
   "cell_type": "code",
   "execution_count": 497,
   "metadata": {},
   "outputs": [
    {
     "data": {
      "text/latex": [
       "$Re_{{tubo}} = $ 9187"
      ],
      "text/plain": [
       "<IPython.core.display.Latex object>"
      ]
     },
     "metadata": {},
     "output_type": "display_data"
    }
   ],
   "source": [
    "# Flujo por los tubos: agua\n",
    "\n",
    "m_t = m_f\n",
    "\n",
    "m_tubo = m_t / ( Ntubos )\n",
    "g_tubo = m_tubo / rho_f\n",
    "U_tubo = g_tubo / (Ai_tubo) \n",
    "\n",
    "Re_tubo = U_tubo * Dint*ureg.m / nu_f\n",
    "\n",
    "# para estimar un paso en tubos a partir de un Re de diseño\n",
    "#Npasotubos =  Re_design*(np.pi*Dint*ureg.m*Ntubos*mu_f ) / (4*m_t)\n",
    "display(Latex('$Re_{{tubo}} = $' + f' {Re_tubo.magnitude:.0f}'))"
   ]
  },
  {
   "cell_type": "code",
   "execution_count": 498,
   "metadata": {},
   "outputs": [
    {
     "name": "stdout",
     "output_type": "stream",
     "text": [
      "Diametro Carcasa = 17.04''\n",
      "Diametro Carcasa final = 17.25''\n",
      "Numero de tubos = 108\n",
      "Areal real =217.42 meter ** 2\n"
     ]
    }
   ],
   "source": [
    "p1 = 1.25\n",
    "Dcarcasa0 = ht.DBundle_for_Ntubes_Phadkeb(Ntubos, Dext, p1*Dext, Npasotubos, angle=45)\n",
    "\n",
    "print('Diametro Carcasa = %.2f\\'\\''%(Dcarcasa0/25.4e-3))\n",
    "\n",
    "Dcarcasa = (17+1/4)*25.4e-3 ##el valor mas cercano a Dcarcasa0\n",
    "Do = Dext\n",
    "pitch = p1*Dext\n",
    "\n",
    "\n",
    "Ntubos = ht.Ntubes(Dcarcasa, Do, pitch, Ntp=Npasotubos, angle=90, Method=None)\n",
    "\n",
    "print('Diametro Carcasa final = %.2f\\'\\''%(Dcarcasa/25.4e-3))\n",
    "print('Numero de tubos = %0d'%(Ntubos))\n",
    "\n",
    "A_real = Ae_tubo*Ntubos*Npasotubos\n",
    "print(f'Areal real ={A_real:.2f}')\n"
   ]
  },
  {
   "cell_type": "code",
   "execution_count": 499,
   "metadata": {},
   "outputs": [
    {
     "data": {
      "text/latex": [
       "$Re_{{tubo}} = $ 9272"
      ],
      "text/plain": [
       "<IPython.core.display.Latex object>"
      ]
     },
     "metadata": {},
     "output_type": "display_data"
    },
    {
     "data": {
      "text/latex": [
       "$h_f=$1486.4 watt / kelvin / meter ** 2"
      ],
      "text/plain": [
       "<IPython.core.display.Latex object>"
      ]
     },
     "metadata": {},
     "output_type": "display_data"
    }
   ],
   "source": [
    "m_tubo = m_t / ( Ntubos )\n",
    "g_tubo = m_tubo / rho_f\n",
    "U_tubo = g_tubo / (Ai_tubo) \n",
    "\n",
    "Re_tubo = U_tubo * Dint*ureg.m / nu_f\n",
    "\n",
    "# para estimar un paso en tubos a partir de un Re de diseño\n",
    "#Npasotubos =  Re_design*(np.pi*Dint*ureg.m*Ntubos*mu_f ) / (4*m_t)\n",
    "display(Latex('$Re_{{tubo}} = $' + f' {Re_tubo.magnitude:.0f}'))\n",
    "\n",
    "Nu_f = ht.conv_internal.turbulent_Colburn(Re_tubo,Pr_f)\n",
    "h_f = Nu_f*k_f/(Dint*ureg.m)\n",
    "\n",
    "display(Latex('$h_f=$'+f'{h_f:.1f}'))\n"
   ]
  },
  {
   "cell_type": "code",
   "execution_count": 500,
   "metadata": {},
   "outputs": [
    {
     "data": {
      "text/latex": [
       "$h_c=$1346.3 watt / kelvin / meter ** 2"
      ],
      "text/plain": [
       "<IPython.core.display.Latex object>"
      ]
     },
     "metadata": {},
     "output_type": "display_data"
    }
   ],
   "source": [
    "# En la carcasa\n",
    "\n",
    "B = 0.25*Dcarcasa*ureg.m\n",
    "\n",
    "#Pag 76 Cao, Dequivalente\n",
    "Pt = pitch*ureg.m\n",
    "c = (pitch-Dext)*ureg.m\n",
    "As = Dcarcasa*ureg.m*c*B/Pt\n",
    "Gs = m_c / As\n",
    "\n",
    "\n",
    "Deq = 4*(pitch**2-np.pi*Dext**2/4) / (np.pi*Dext)*ureg.m\n",
    "Aeq =  Deq**2*np.pi/4*Ntubos*Npasotubos/4\n",
    "\n",
    "\n",
    "\n",
    "Re_c = Deq*m_c/mu_c/Aeq\n",
    "\n",
    "Re_c = Deq*Gs/mu_c\n",
    "Nu_c = 0.36*Re_c**0.55*Pr_c**0.3333\n",
    "\n",
    "h_c = Nu_c*k_c/Deq\n",
    "\n",
    "display(Latex('$h_c=$'+f'{h_c:.1f}'))\n"
   ]
  },
  {
   "cell_type": "code",
   "execution_count": 501,
   "metadata": {},
   "outputs": [],
   "source": [
    "# Temperatura de pared Tw\n",
    "\n",
    "# (Tcm-Tw)*A*h_c = (Tw-Tfm) *A*h_f\n",
    "#Tw*h_c+Tw*h_f = Tcm*h_c + Tfm*h_f\n",
    "\n",
    "Tw = (h_c*Tc_media0+h_f*Tf_media) / (h_c+h_f )\n",
    "#con este valor se corrigen las propiedades de los fluidos\n",
    "\n",
    "Tcmedia = (Tc_media0+Tw)/2\n",
    "Tfmedia = (Tf_media+Tw)/2\n",
    "\n",
    "Pr_f = cp.CoolProp.PropsSI('PRANDTL','T',Tfmedia.magnitude,'P',101.325e3,'Water')\n",
    "k_f = cp.CoolProp.PropsSI('L','T',Tfmedia.magnitude,'P',101.325e3,'Water')*ureg.watt*ureg.m**-1*ureg.K**-1\n",
    "mu_f = cp.CoolProp.PropsSI('V','T',Tfmedia.magnitude,'P',101.325e3,'Water')*ureg.kg*ureg.m**-1*ureg.second**-1\n",
    "\n",
    "Pr_c = cp.CoolProp.PropsSI('PRANDTL','T',Tcmedia.magnitude,'P',101.325e3,'Benzene')\n",
    "k_c = cp.CoolProp.PropsSI('L','T',Tcmedia.magnitude,'P',101.325e3,'Benzene')*ureg.watt*ureg.m**-1*ureg.K**-1\n",
    "mu_c = cp.CoolProp.PropsSI('V','T',Tcmedia.magnitude,'P',101.325e3,'Benzene')*ureg.kg*ureg.m**-1*ureg.second**-1\n",
    "rho_c = cp.CoolProp.PropsSI('D','T',Tcmedia.magnitude,'P',101.325e3,'Benzene')*ureg.kg*ureg.m**-3\n",
    "rho_f = cp.CoolProp.PropsSI('D','T',Tfmedia.magnitude,'P',101.325e3,'Water')*ureg.kg*ureg.m**-3\n",
    "\n",
    "mu_w = cp.CoolProp.PropsSI('V','T',Tw.magnitude,'P',101.325e3,'Benzene')*ureg.kg*ureg.m**-1*ureg.second**-1\n"
   ]
  },
  {
   "cell_type": "code",
   "execution_count": 502,
   "metadata": {},
   "outputs": [
    {
     "data": {
      "text/latex": [
       "$h_f=$1446.2 watt / kelvin / meter ** 2"
      ],
      "text/plain": [
       "<IPython.core.display.Latex object>"
      ]
     },
     "metadata": {},
     "output_type": "display_data"
    },
    {
     "data": {
      "text/latex": [
       "$h_c=$1335.2 watt / kelvin / meter ** 2"
      ],
      "text/plain": [
       "<IPython.core.display.Latex object>"
      ]
     },
     "metadata": {},
     "output_type": "display_data"
    }
   ],
   "source": [
    "Re_c = Deq*m_f/mu_f/Aeq\n",
    "\n",
    "Re_c = Deq*Gs/mu_c\n",
    "Nu_c = 0.36*Re_c**0.55*Pr_c**0.3333\n",
    "\n",
    "h_c = Nu_c*k_c/Deq\n",
    "\n",
    "Nu_f = ht.conv_internal.turbulent_Colburn(Re_tubo.magnitude,Pr_f)\n",
    "h_f = Nu_f*k_f/(Dint*ureg.m)\n",
    "display(Latex('$h_f=$'+f'{h_f:.1f}'))\n",
    "display(Latex('$h_c=$'+f'{h_c:.1f}'))"
   ]
  },
  {
   "cell_type": "code",
   "execution_count": 503,
   "metadata": {},
   "outputs": [
    {
     "data": {
      "text/latex": [
       "$U_{limpio}=$646.8 watt / kelvin / meter ** 2"
      ],
      "text/plain": [
       "<IPython.core.display.Latex object>"
      ]
     },
     "metadata": {},
     "output_type": "display_data"
    },
    {
     "data": {
      "text/latex": [
       "$U_{final}=$582.1 watt / kelvin / meter ** 2"
      ],
      "text/plain": [
       "<IPython.core.display.Latex object>"
      ]
     },
     "metadata": {},
     "output_type": "display_data"
    }
   ],
   "source": [
    "Rf_f = (0.86*2e-4 )*ureg.K*ureg.m**2*ureg.watt**-1\n",
    "Rf_c =  5e-4*ureg.K*ureg.m**2*ureg.watt**-1*0\n",
    "Rf = Rf_f+Rf_c\n",
    "Ulimpio = 1 / (Dext/Dint/h_c+1/h_f )\n",
    "U = 1 / (1/Ulimpio + Rf )#*(1+Dext/Dint))\n",
    "\n",
    "\n",
    "\n",
    "#A_calculo = Q / (U*dTlm*Ft)\n",
    "\n",
    "display(Latex('$U_{limpio}=$'+f'{Ulimpio:.1f}'))\n",
    "display(Latex('$U_{final}=$'+f'{U:.1f}'))\n",
    "\n",
    "#display(Latex('$A_{final}=$'+f'{A_calculo.to_base_units():.1f}'))#\n",
    "\n",
    "\n",
    "\n",
    "#print('A real inicial %.2f'%A_real)"
   ]
  },
  {
   "cell_type": "code",
   "execution_count": 504,
   "metadata": {},
   "outputs": [
    {
     "data": {
      "text/latex": [
       "Factor friccion tubos, $f_f=$0.034"
      ],
      "text/plain": [
       "<IPython.core.display.Latex object>"
      ]
     },
     "metadata": {},
     "output_type": "display_data"
    },
    {
     "data": {
      "text/latex": [
       "Perdida friccion tubos, $\\Delta p_f=$7.9 kilopascal"
      ],
      "text/plain": [
       "<IPython.core.display.Latex object>"
      ]
     },
     "metadata": {},
     "output_type": "display_data"
    },
    {
     "data": {
      "text/latex": [
       "Perdida cabezales, $\\Delta p_c=$0.25 kilopascal"
      ],
      "text/plain": [
       "<IPython.core.display.Latex object>"
      ]
     },
     "metadata": {},
     "output_type": "display_data"
    },
    {
     "data": {
      "text/latex": [
       "Perdida tubos, $\\Delta p_t=\\Delta p_c+\\Delta p_f= $8.2 kilopascal"
      ],
      "text/plain": [
       "<IPython.core.display.Latex object>"
      ]
     },
     "metadata": {},
     "output_type": "display_data"
    }
   ],
   "source": [
    "# Caida de presion\n",
    "\n",
    "# Calculo para flujo en tubos\n",
    "roughness = fluids.roughness_Farshad('Carbon steel, bare', D=Dint)\n",
    "\n",
    "f_c = fluids.friction.friction_factor(Re=Re_tubo, eD=roughness/Dint)\n",
    "\n",
    "f_c2 = 1.2*(0.0014+0.125/Re_tubo**.32)\n",
    "\n",
    "g_tubo = m_tubo / rho_f\n",
    "U_tubo = g_tubo / (Ai_tubo) \n",
    "\n",
    "Delta_p_friccion = 0.5*rho_f*U_tubo**2*L_tubo/(Dint*ureg.m)\n",
    "\n",
    "Delta_p_cabezales = 4*Npasotubos*U_tubo**2*rho_f/2\n",
    "\n",
    "Delta_p_tubos = Delta_p_cabezales+Delta_p_friccion\n",
    "\n",
    "display(Latex('Factor friccion tubos, $f_f=$'+f'{f_c.magnitude:.2g}'))\n",
    "display(Latex('Perdida friccion tubos, $\\Delta p_f=$'+f'{Delta_p_friccion.to(ureg.kPa):.2g}'))\n",
    "display(Latex('Perdida cabezales, $\\Delta p_c=$'+f'{Delta_p_cabezales.to(ureg.kPa):.2g}'))\n",
    "display(Latex('Perdida tubos, $\\Delta p_t=\\Delta p_c+\\Delta p_f= $'+f'{Delta_p_tubos.to(ureg.kPa):.2g}'))\n"
   ]
  },
  {
   "cell_type": "code",
   "execution_count": 511,
   "metadata": {},
   "outputs": [
    {
     "data": {
      "text/latex": [
       "Perdida flujo en Carcasa, $\\Delta p_{Carcasa}=$2.0 kilopascal"
      ],
      "text/plain": [
       "<IPython.core.display.Latex object>"
      ]
     },
     "metadata": {},
     "output_type": "display_data"
    }
   ],
   "source": [
    "\n",
    "LSpacing = Dcarcasa\n",
    "NBaffles = np.floor(L_tubo.magnitude / LSpacing)\n",
    "\n",
    "Delta_p_carcasa = ht.conv_tube_bank.dP_Kern(m_c.magnitude, rho_c.magnitude, mu_c.magnitude, Dcarcasa, LSpacing, pitch, Dext, NBaffles, mu_w=mu_w.magnitude)*ureg.Pa\n",
    "\n",
    "display(Latex('Perdida flujo en Carcasa, $\\Delta p_{Carcasa}=$'+f'{Delta_p_carcasa.to(ureg.kPa):.1f}'))"
   ]
  },
  {
   "cell_type": "code",
   "execution_count": null,
   "metadata": {},
   "outputs": [],
   "source": [
    "pd.read_excel('in')"
   ]
  },
  {
   "cell_type": "code",
   "execution_count": 547,
   "metadata": {},
   "outputs": [
    {
     "data": {
      "text/plain": [
       "0.0"
      ]
     },
     "execution_count": 547,
     "metadata": {},
     "output_type": "execute_result"
    }
   ],
   "source": [
    "comportamiento_unidad = pd.DataFrame(np.zeros((28,3)),columns=['','Lado Carcasa','Lado Tubos'])\n",
    "comportamiento_unidad.loc[0,'Lado Carcasa'] = \n"
   ]
  },
  {
   "cell_type": "code",
   "execution_count": 533,
   "metadata": {},
   "outputs": [],
   "source": [
    "comportamiento_unidad.loc?"
   ]
  },
  {
   "cell_type": "markdown",
   "metadata": {},
   "source": [
    "Para conocer las entradas  http://www.coolprop.org/coolprop/HighLevelAPI.html#parameter-table"
   ]
  }
 ],
 "metadata": {
  "anaconda-cloud": {},
  "kernelspec": {
   "display_name": "Python 3",
   "language": "python",
   "name": "python3"
  },
  "language_info": {
   "codemirror_mode": {
    "name": "ipython",
    "version": 3
   },
   "file_extension": ".py",
   "mimetype": "text/x-python",
   "name": "python",
   "nbconvert_exporter": "python",
   "pygments_lexer": "ipython3",
   "version": "3.8.8"
  },
  "latex_envs": {
   "LaTeX_envs_menu_present": true,
   "autoclose": true,
   "autocomplete": true,
   "bibliofile": "biblio.bib",
   "cite_by": "apalike",
   "current_citInitial": 1,
   "eqLabelWithNumbers": true,
   "eqNumInitial": 1,
   "hotkeys": {
    "equation": "Ctrl-E",
    "itemize": "Ctrl-I"
   },
   "labels_anchors": false,
   "latex_user_defs": false,
   "report_style_numbering": false,
   "user_envs_cfg": false
  }
 },
 "nbformat": 4,
 "nbformat_minor": 2
}
