{
 "cells": [
  {
   "cell_type": "code",
   "execution_count": 3,
   "metadata": {},
   "outputs": [],
   "source": [
    "# -*- coding: utf-8 -*-\n",
    "%matplotlib notebook\n",
    "import numpy as np\n",
    "import matplotlib.pyplot as plt\n",
    "import matplotlib as mpl\n",
    "import pylab,six,matplotlib \n",
    "from matplotlib import markers,lines,colors\n",
    "from scipy import interpolate\n",
    "mk=np.tile(markers.MarkerStyle.filled_markers,3)\n",
    "ck=list(six.iteritems(colors.cnames))\n",
    "matplotlib.rc('font',family='serif',size=9)\n",
    "from matplotlib2tikz import save as tikz_save\n",
    "import ht\n",
    "\n",
    "lk = np.tile(['-', '--', '-.', ':'],4)\n",
    "mk=np.tile(['o','s','<','D','>','h','p','x','d','^'],3)\n",
    "ck= plt.rcParams['axes.prop_cycle'].by_key()['color']\n",
    "plt.rcParams['mathtext.fontset'] = 'dejavuserif'\n",
    "mpl.rcParams['xtick.labelsize'] = 16;\n",
    "mpl.rcParams['xtick.labelsize'] = 16;\n",
    "mpl.rcParams['ytick.labelsize'] = 16;\n",
    "mpl.rcParams['font.family'] = 'serif';\n",
    "mpl.rcParams['axes.labelsize'] = 16"
   ]
  },
  {
   "cell_type": "code",
   "execution_count": 5,
   "metadata": {
    "collapsed": true
   },
   "outputs": [],
   "source": [
    "from __future__ import division\n",
    "from math import sin, pi, log\n",
    "from fluids.constants import g, R\n",
    "from fluids.core import Reynolds, Prandtl\n",
    "from ht.conv_internal import turbulent_Dittus_Boelter\n",
    "import ht\n",
    "\n",
    "__all__ = ['Boyko_Kruzhilin', 'Nusselt_laminar', 'h_kinetic', \n",
    "           'Akers_Deans_Crosser', 'Cavallini_Smith_Zecchin', 'Shah']"
   ]
  },
  {
   "cell_type": "markdown",
   "metadata": {},
   "source": [
    "## Placa plana vertical\n",
    "Cálculo del coeficiente de transferencia para film laminar de condensado sobre una placa plana como fue estudiado por Nusselt en 1916.\n",
    "\\begin{equation}\n",
    "        h=0.943\\left[\\frac{g\\sin(\\theta)\\rho_{liq}(\\rho_l-\\rho_v)k_{l}^3\n",
    "        \\Delta H_{vap}}{\\mu_l(T_{sat}-T_w)L}\\right]^{0.25}\n",
    " \\end{equation}\n",
    " \n",
    "### Parámeros\n",
    "    ----------\n",
    "    Tsat : Temperatura de saturación a una dada presión [Pa]        \n",
    "    Tw : Temperatura de pared [K]       \n",
    "    rhog : Densidad del gas [kg/m^3]\n",
    "    rhol : Densidad del líquido [kg/m^3]\n",
    "    kl : Conductividad térmica del líquido [W/m/K]\n",
    "    mul : Viscosidad del líquido [Pa*s]\n",
    "    Hvap : Calor latente de vaporización del fluido a la presión P [J/kg]\n",
    "    L : Largo de la placa [m]\n",
    "    angle : Opcional, ángulo de inclinación de la placa [grados]\n",
    "### Devuelve\n",
    "h, coeficiente de transferencia (W/(m$^2$ K))"
   ]
  },
  {
   "cell_type": "code",
   "execution_count": 18,
   "metadata": {},
   "outputs": [],
   "source": [
    "h_placa1 = ht.condensation.Nusselt_laminar(Tsat=370, Tw=350, rhog=7.0, rhol=585., kl=0.091,\n",
    "                mul=158.9E-6, Hvap=776900, L=0.1)\n",
    "h_placa2 = ht.condensation.Nusselt_laminar(Tsat=370, Tw=350, rhog=7.0, rhol=585., kl=0.091,\n",
    "                mul=158.9E-6, Hvap=776900, L=0.1,angle=30)\n"
   ]
  },
  {
   "cell_type": "code",
   "execution_count": 20,
   "metadata": {},
   "outputs": [
    {
     "data": {
      "text/plain": [
       "(1482.206403453679, 1246.3820513302996)"
      ]
     },
     "execution_count": 20,
     "metadata": {},
     "output_type": "execute_result"
    }
   ],
   "source": [
    "h_placa1,h_placa2"
   ]
  },
  {
   "cell_type": "markdown",
   "metadata": {},
   "source": [
    "### Flujo interno en tubos\n",
    "\\begin{equation}\n",
    "h_f = h_{LO}\\left[1 + x\\left(\\frac{\\rho_L}{\\rho_G} - 1\\right)\\right]^{0.5}\n",
    "\\end{equation}\n",
    "\n",
    "\\begin{equation}\n",
    " h_{LO} = 0.021 \\frac{k_L}{L} Re_{LO}^{0.8} Pr^{0.43}\n",
    "\\end{equation}\n",
    "Calcula el coeficiente de transferencia por condensación dentro de un tubo o de un banco de tubos como fue estudiado por Boyko & Kruzhilin (1967).\n",
    "\n",
    "    Parameters\n",
    "    ----------\n",
    "    m : Caudal másico [kg/s]\n",
    "    rhog : Densidad del gas [kg/m^3]\n",
    "    rhol : Densidad del líquido [kg/m^3]\n",
    "    kl : Conductividad térmica del líquido [W/m/K]\n",
    "    mul : Viscosidad del líquido [Pa*s]\n",
    "    Cpl : Calor específico a presión constante del líquido[J/kg/K]\n",
    "    D : Diámetro del tubo [m]\n",
    "    x : Título  [-]\n",
    "\n",
    "    Returns\n",
    "    -------\n",
    "    h : Coeficiente del transferencia de calor [W/m^2/K]\n",
    "\n",
    "    Nota\n",
    "    -----\n",
    "    para calcular el coeficiente de transferencia, se promedia valores entre x=0 y x=1."
   ]
  },
  {
   "cell_type": "code",
   "execution_count": 23,
   "metadata": {},
   "outputs": [
    {
     "data": {
      "text/plain": [
       "10598.657227479956"
      ]
     },
     "execution_count": 23,
     "metadata": {},
     "output_type": "execute_result"
    }
   ],
   "source": [
    "ht.Boyko_Kruzhilin(m=500*pi/4*.03**2, rhog=6.36, rhol=582.9, kl=0.098, mul=159E-6, Cpl=2520., D=0.03, x=0.85)"
   ]
  },
  {
   "cell_type": "markdown",
   "metadata": {},
   "source": [
    "Para el mismo problema, se tiene otra correlación elaborada por Akers, W. W., H. A. Deans, and O. K. Crosser. \"Condensing Heat Transfer Within Horizontal Tubes.\" Chem. Eng. Progr. Vol: 55, Symposium Ser. No. 29 (January 1, 1959).\n",
    "\\begin{eqnarray}\n",
    "        Nu = \\frac{hD_i}{k_l} = C Re_e^n Pr_l^{1/3}\\\\        \n",
    "        C = 0.0265, n=0.8 \\text{ for } Re_e > 5\\times10^4\\\\\n",
    "        C = 5.03, n=\\frac{1}{3} \\text{ for } Re_e < 5\\times10^4\\\\\n",
    "        Re_e = \\frac{D_i G_e}{\\mu_l}\\\\\n",
    "        G_e = G\\left[(1-x)+x(\\rho_l/\\rho_g)^{0.5}\\right]\n",
    "\\end{eqnarray}"
   ]
  },
  {
   "cell_type": "code",
   "execution_count": 24,
   "metadata": {},
   "outputs": [
    {
     "data": {
      "text/plain": [
       "7117.24177265201"
      ]
     },
     "execution_count": 24,
     "metadata": {},
     "output_type": "execute_result"
    }
   ],
   "source": [
    "ht.Akers_Deans_Crosser(m=0.35, rhog=6.36, rhol=582.9, kl=0.098, mul=159E-6, Cpl=2520., D=0.03, x=0.85)"
   ]
  },
  {
   "cell_type": "markdown",
   "metadata": {},
   "source": [
    "Más correlaciones en el siguiente enlace https://ht.readthedocs.io/en/latest/_modules/ht/condensation.html"
   ]
  }
 ],
 "metadata": {
  "anaconda-cloud": {},
  "kernelspec": {
   "display_name": "Python 3",
   "language": "python",
   "name": "python3"
  },
  "language_info": {
   "codemirror_mode": {
    "name": "ipython",
    "version": 3
   },
   "file_extension": ".py",
   "mimetype": "text/x-python",
   "name": "python",
   "nbconvert_exporter": "python",
   "pygments_lexer": "ipython3",
   "version": "3.8.8"
  },
  "latex_envs": {
   "LaTeX_envs_menu_present": true,
   "autoclose": true,
   "autocomplete": true,
   "bibliofile": "biblio.bib",
   "cite_by": "apalike",
   "current_citInitial": 1,
   "eqLabelWithNumbers": true,
   "eqNumInitial": 1,
   "hotkeys": {
    "equation": "Ctrl-E",
    "itemize": "Ctrl-I"
   },
   "labels_anchors": false,
   "latex_user_defs": false,
   "report_style_numbering": false,
   "user_envs_cfg": false
  }
 },
 "nbformat": 4,
 "nbformat_minor": 2
}
