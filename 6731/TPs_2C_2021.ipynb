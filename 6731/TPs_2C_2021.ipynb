{
 "cells": [
  {
   "cell_type": "markdown",
   "metadata": {},
   "source": [
    "[Versión Interactiva](https://mybinder.org/v2/git/https%3A%2F%2Fgithub.com%2Fjuandadamo%2Fclases_fiuba/HEAD?filepath=6731%2FTP_1C_2021.ipynb)"
   ]
  },
  {
   "cell_type": "code",
   "execution_count": 1,
   "metadata": {
    "scrolled": false
   },
   "outputs": [
    {
     "name": "stdout",
     "output_type": "stream",
     "text": [
      "Requirement already satisfied: numpy in /home/juan/.local/lib/python3.8/site-packages (1.19.0)\n",
      "Requirement already satisfied: matplotlib in /home/juan/.local/lib/python3.8/site-packages (3.2.2)\n",
      "Requirement already satisfied: ht in /home/juan/.local/lib/python3.8/site-packages (0.1.55)\n",
      "Requirement already satisfied: CoolProp in /home/juan/.local/lib/python3.8/site-packages (6.4.1)\n",
      "Requirement already satisfied: pandas in /home/juan/.local/lib/python3.8/site-packages (1.0.5)\n",
      "Requirement already satisfied: IPython in /usr/lib/python3/dist-packages (7.13.0)\n",
      "Requirement already satisfied: pint in /home/juan/.local/lib/python3.8/site-packages (0.17)\n",
      "Requirement already satisfied: fluids in /home/juan/.local/lib/python3.8/site-packages (0.1.83)\n",
      "Requirement already satisfied: xlrd in /home/juan/.local/lib/python3.8/site-packages (2.0.1)\n",
      "Requirement already satisfied: kiwisolver>=1.0.1 in /home/juan/.local/lib/python3.8/site-packages (from matplotlib) (1.2.0)\n",
      "Requirement already satisfied: pyparsing!=2.0.4,!=2.1.2,!=2.1.6,>=2.0.1 in /home/juan/.local/lib/python3.8/site-packages (from matplotlib) (2.4.7)\n",
      "Requirement already satisfied: cycler>=0.10 in /home/juan/.local/lib/python3.8/site-packages (from matplotlib) (0.10.0)\n",
      "Requirement already satisfied: python-dateutil>=2.1 in /usr/lib/python3/dist-packages (from matplotlib) (2.7.3)\n",
      "Requirement already satisfied: scipy>=0.9.0 in /home/juan/.local/lib/python3.8/site-packages (from ht) (1.5.1)\n",
      "Requirement already satisfied: pytz>=2017.2 in /usr/lib/python3/dist-packages (from pandas) (2019.3)\n",
      "Requirement already satisfied: pexpect in /usr/lib/python3/dist-packages (from IPython) (4.6.0)\n",
      "Requirement already satisfied: packaging in /usr/lib/python3/dist-packages (from pint) (20.3)\n",
      "Requirement already satisfied: six in /usr/lib/python3/dist-packages (from cycler>=0.10->matplotlib) (1.14.0)\n"
     ]
    }
   ],
   "source": [
    "!pip install numpy matplotlib ht CoolProp pandas IPython pint fluids xlrd"
   ]
  },
  {
   "cell_type": "code",
   "execution_count": 2,
   "metadata": {},
   "outputs": [],
   "source": [
    "#%matplotlib notebook\n",
    "import numpy as np\n",
    "import matplotlib.pyplot as plt\n",
    "import ht,fluids,pint\n",
    "import CoolProp as cp\n",
    "from IPython.display import  Latex, Image\n",
    "ureg = pint.UnitRegistry()\n",
    "plt.rcParams[\"font.size\"] = \"20\""
   ]
  },
  {
   "cell_type": "markdown",
   "metadata": {},
   "source": [
    "Hallar la solución correspondiente a una aleta de acero bidimensional, de espesor $e=1cm$ ancho $W=20cm$, largo $L=5cm$, con temperatura en su base $T_b=100^\\circ$C, sometida a una condición de convección $h = 100 W/m^2 K$ respecto de un fluido circundante a $T_\\infty=20^\\circ$C.\n",
    "\n",
    "Grafique la distribución de temperaturas adimensional para $y=0$, compare con el problema unidimensional.\n",
    "\n",
    "Proponga otros dos valores para el espesor $e$. Grafique, para las 3 condiciones $e$ su efectividad en función del parámetro $\\beta L$ y compare el resultado con el problema unidimensional.\n",
    "\n",
    "\n"
   ]
  },
  {
   "cell_type": "code",
   "execution_count": null,
   "metadata": {},
   "outputs": [],
   "source": []
  }
 ],
 "metadata": {
  "anaconda-cloud": {},
  "kernelspec": {
   "display_name": "Python 3",
   "language": "python",
   "name": "python3"
  },
  "language_info": {
   "codemirror_mode": {
    "name": "ipython",
    "version": 3
   },
   "file_extension": ".py",
   "mimetype": "text/x-python",
   "name": "python",
   "nbconvert_exporter": "python",
   "pygments_lexer": "ipython3",
   "version": "3.8.8"
  },
  "latex_envs": {
   "LaTeX_envs_menu_present": true,
   "autoclose": true,
   "autocomplete": true,
   "bibliofile": "biblio.bib",
   "cite_by": "apalike",
   "current_citInitial": 1,
   "eqLabelWithNumbers": true,
   "eqNumInitial": 1,
   "hotkeys": {
    "equation": "Ctrl-E",
    "itemize": "Ctrl-I"
   },
   "labels_anchors": false,
   "latex_user_defs": false,
   "report_style_numbering": false,
   "user_envs_cfg": false
  }
 },
 "nbformat": 4,
 "nbformat_minor": 2
}
