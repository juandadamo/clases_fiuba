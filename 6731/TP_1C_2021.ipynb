{
 "cells": [
  {
   "cell_type": "markdown",
   "metadata": {},
   "source": [
    "[Versión Interactiva](https://mybinder.org/v2/git/https%3A%2F%2Fgithub.com%2Fjuandadamo%2Fclases_fiuba/HEAD?filepath=6731%2FTP_1C_2021.ipynb)"
   ]
  },
  {
   "cell_type": "code",
   "execution_count": 1,
   "metadata": {},
   "outputs": [
    {
     "name": "stdout",
     "output_type": "stream",
     "text": [
      "Collecting numpy\n",
      "  Downloading numpy-1.21.2-cp37-cp37m-manylinux_2_12_x86_64.manylinux2010_x86_64.whl (15.7 MB)\n",
      "\u001b[K     |████████████████████████████████| 15.7 MB 4.8 MB/s eta 0:00:01\n",
      "\u001b[?25hCollecting matplotlib\n",
      "  Downloading matplotlib-3.4.3-cp37-cp37m-manylinux1_x86_64.whl (10.3 MB)\n",
      "\u001b[K     |████████████████████████████████| 10.3 MB 49.4 MB/s eta 0:00:01\n",
      "\u001b[?25hCollecting ht\n",
      "  Downloading ht-1.0.1.tar.gz (899 kB)\n",
      "\u001b[K     |████████████████████████████████| 899 kB 43.3 MB/s eta 0:00:01\n",
      "\u001b[?25hCollecting CoolProp\n",
      "  Downloading CoolProp-6.4.1-cp37-cp37m-manylinux1_x86_64.whl (4.2 MB)\n",
      "\u001b[K     |████████████████████████████████| 4.2 MB 19.4 MB/s eta 0:00:01\n",
      "\u001b[?25hCollecting pandas\n",
      "  Downloading pandas-1.3.2-cp37-cp37m-manylinux_2_17_x86_64.manylinux2014_x86_64.whl (11.3 MB)\n",
      "\u001b[K     |████████████████████████████████| 11.3 MB 37.3 MB/s eta 0:00:01\n",
      "\u001b[?25hRequirement already satisfied: IPython in /srv/conda/envs/notebook/lib/python3.7/site-packages (7.26.0)\n",
      "Collecting pint\n",
      "  Downloading Pint-0.17-py2.py3-none-any.whl (204 kB)\n",
      "\u001b[K     |████████████████████████████████| 204 kB 47.7 MB/s eta 0:00:01\n",
      "\u001b[?25hCollecting fluids\n",
      "  Downloading fluids-1.0.9.tar.gz (2.9 MB)\n",
      "\u001b[K     |████████████████████████████████| 2.9 MB 20.8 MB/s eta 0:00:01\n",
      "\u001b[?25hCollecting xlrd\n",
      "  Downloading xlrd-2.0.1-py2.py3-none-any.whl (96 kB)\n",
      "\u001b[K     |████████████████████████████████| 96 kB 7.2 MB/s  eta 0:00:01\n",
      "\u001b[?25hCollecting pillow>=6.2.0\n",
      "  Downloading Pillow-8.3.1-cp37-cp37m-manylinux_2_5_x86_64.manylinux1_x86_64.whl (3.0 MB)\n",
      "\u001b[K     |████████████████████████████████| 3.0 MB 30.3 MB/s eta 0:00:01\n",
      "\u001b[?25hRequirement already satisfied: pyparsing>=2.2.1 in /srv/conda/envs/notebook/lib/python3.7/site-packages (from matplotlib) (2.4.7)\n",
      "Collecting kiwisolver>=1.0.1\n",
      "  Downloading kiwisolver-1.3.2-cp37-cp37m-manylinux_2_5_x86_64.manylinux1_x86_64.whl (1.1 MB)\n",
      "\u001b[K     |████████████████████████████████| 1.1 MB 62.4 MB/s eta 0:00:01\n",
      "\u001b[?25hCollecting cycler>=0.10\n",
      "  Downloading cycler-0.10.0-py2.py3-none-any.whl (6.5 kB)\n",
      "Requirement already satisfied: python-dateutil>=2.7 in /srv/conda/envs/notebook/lib/python3.7/site-packages (from matplotlib) (2.8.2)\n",
      "Collecting scipy>=0.9.0\n",
      "  Downloading scipy-1.7.1-cp37-cp37m-manylinux_2_5_x86_64.manylinux1_x86_64.whl (28.5 MB)\n",
      "\u001b[K     |████████████████████████████████| 28.5 MB 37.2 MB/s eta 0:00:01     |█████████████████████████▋      | 22.8 MB 37.2 MB/s eta 0:00:01\n",
      "\u001b[?25hRequirement already satisfied: pytz>=2017.3 in /srv/conda/envs/notebook/lib/python3.7/site-packages (from pandas) (2021.1)\n",
      "Requirement already satisfied: traitlets>=4.2 in /srv/conda/envs/notebook/lib/python3.7/site-packages (from IPython) (5.0.5)\n",
      "Requirement already satisfied: matplotlib-inline in /srv/conda/envs/notebook/lib/python3.7/site-packages (from IPython) (0.1.2)\n",
      "Requirement already satisfied: prompt-toolkit!=3.0.0,!=3.0.1,<3.1.0,>=2.0.0 in /srv/conda/envs/notebook/lib/python3.7/site-packages (from IPython) (3.0.19)\n",
      "Requirement already satisfied: backcall in /srv/conda/envs/notebook/lib/python3.7/site-packages (from IPython) (0.2.0)\n",
      "Requirement already satisfied: pexpect>4.3 in /srv/conda/envs/notebook/lib/python3.7/site-packages (from IPython) (4.8.0)\n",
      "Requirement already satisfied: pickleshare in /srv/conda/envs/notebook/lib/python3.7/site-packages (from IPython) (0.7.5)\n",
      "Requirement already satisfied: decorator in /srv/conda/envs/notebook/lib/python3.7/site-packages (from IPython) (5.0.9)\n",
      "Requirement already satisfied: jedi>=0.16 in /srv/conda/envs/notebook/lib/python3.7/site-packages (from IPython) (0.18.0)\n",
      "Requirement already satisfied: setuptools>=18.5 in /srv/conda/envs/notebook/lib/python3.7/site-packages (from IPython) (49.6.0.post20210108)\n",
      "Requirement already satisfied: pygments in /srv/conda/envs/notebook/lib/python3.7/site-packages (from IPython) (2.9.0)\n",
      "Requirement already satisfied: packaging in /srv/conda/envs/notebook/lib/python3.7/site-packages (from pint) (21.0)\n",
      "Requirement already satisfied: importlib-metadata in /srv/conda/envs/notebook/lib/python3.7/site-packages (from pint) (4.6.3)\n",
      "Requirement already satisfied: six in /srv/conda/envs/notebook/lib/python3.7/site-packages (from cycler>=0.10->matplotlib) (1.16.0)\n",
      "Requirement already satisfied: parso<0.9.0,>=0.8.0 in /srv/conda/envs/notebook/lib/python3.7/site-packages (from jedi>=0.16->IPython) (0.8.2)\n",
      "Requirement already satisfied: ptyprocess>=0.5 in /srv/conda/envs/notebook/lib/python3.7/site-packages (from pexpect>4.3->IPython) (0.7.0)\n",
      "Requirement already satisfied: wcwidth in /srv/conda/envs/notebook/lib/python3.7/site-packages (from prompt-toolkit!=3.0.0,!=3.0.1,<3.1.0,>=2.0.0->IPython) (0.2.5)\n",
      "Requirement already satisfied: ipython-genutils in /srv/conda/envs/notebook/lib/python3.7/site-packages (from traitlets>=4.2->IPython) (0.2.0)\n",
      "Requirement already satisfied: zipp>=0.5 in /srv/conda/envs/notebook/lib/python3.7/site-packages (from importlib-metadata->pint) (3.5.0)\n",
      "Requirement already satisfied: typing-extensions>=3.6.4 in /srv/conda/envs/notebook/lib/python3.7/site-packages (from importlib-metadata->pint) (3.10.0.0)\n",
      "Building wheels for collected packages: ht, fluids\n",
      "  Building wheel for ht (setup.py) ... \u001b[?25ldone\n",
      "\u001b[?25h  Created wheel for ht: filename=ht-1.0.1-py3-none-any.whl size=837891 sha256=870f7e4261ae1032d0352d83cff8f121828a2d7b5f258fafcdfb52e8dbb53ce2\n",
      "  Stored in directory: /home/jovyan/.cache/pip/wheels/27/7f/fd/663f7442317cb8408db8d87f256bb804274910c8f1c081cad1\n",
      "  Building wheel for fluids (setup.py) ... \u001b[?25ldone\n",
      "\u001b[?25h  Created wheel for fluids: filename=fluids-1.0.9-py3-none-any.whl size=1481305 sha256=9c2637936cf18d574508ea3160279aac810f34fb8446acf873c6216f42fd0cee\n",
      "  Stored in directory: /home/jovyan/.cache/pip/wheels/09/38/9d/923c3512218ad9f4d44cb107e81d835760872572aff65a115c\n",
      "Successfully built ht fluids\n",
      "Installing collected packages: numpy, scipy, pillow, kiwisolver, fluids, cycler, xlrd, pint, pandas, matplotlib, ht, CoolProp\n",
      "Successfully installed CoolProp-6.4.1 cycler-0.10.0 fluids-1.0.9 ht-1.0.1 kiwisolver-1.3.2 matplotlib-3.4.3 numpy-1.21.2 pandas-1.3.2 pillow-8.3.1 pint-0.17 scipy-1.7.1 xlrd-2.0.1\n"
     ]
    }
   ],
   "source": [
    "!pip install numpy matplotlib ht CoolProp pandas IPython pint fluids xlrd"
   ]
  },
  {
   "cell_type": "code",
   "execution_count": 3,
   "metadata": {},
   "outputs": [],
   "source": [
    "# -*- coding: utf-8 -*-\n",
    "%matplotlib notebook\n",
    "import numpy as np\n",
    "import matplotlib.pyplot as plt\n",
    "import ht, pint, fluids\n",
    "import CoolProp as cp\n",
    "import pandas as pd\n",
    "from IPython.display import Latex\n",
    "ureg = pint.UnitRegistry();#(fmt_locale='es_ES')"
   ]
  },
  {
   "cell_type": "markdown",
   "metadata": {},
   "source": [
    "### OBJETIVO\n",
    "\n",
    "Diseño de un intercambiador de tipo casco y tubos para el enfriamiento de una corriente de un hidrocarburo liviano, utilizando como corriente de servicio, agua de torre de enfriamiento."
   ]
  },
  {
   "cell_type": "markdown",
   "metadata": {},
   "source": [
    "### ENUNCIADO\n",
    "\n",
    "Se requiere enfriar una cantidad \\(\\dot m_C\\) de un hidrocarburo liviano desde una temperatura \\(T_{CE}\\),\n",
    "garantizando a la salida una temperatura \\(T_{CS}\\). Para ello se dispone de un caudal \\(\\dot m_F\\) de agua de torre de enfriamiento, que ingresa a una temperatura de \\(T_{FE}\\). El agua no podrá calentarse por encima de\n",
    "55°C. Considerar al agua como el fluido que pasa por los tubos y al hidrocarburo por la carcasa.\n",
    " \n",
    "\n",
    "Se pide:\n",
    "\n",
    "    1. Determinar las características de un intercambiador de casco y tubos que cumpla con los requerimientos. \n",
    "    2. Calcular las caídas de presión de ambas corrientes en su paso por el equipo.\n",
    "    3. Completar el cuadro de resumen que contenga las características constructivas y de operación fundamentales calculadas (Entregar el archivo Excel completo adjunto).\n",
    "    4. Hacer un plano conceptual a escala del equipo en el que debe estar presente la carcasa, tubos, bafles, cabezales, conexiones de entrada y salida de las corrientes, etc.\n",
    "    5. Hacer un plano a escala de la placa portatubos y su relación con la carcasa.\n",
    "    6. Durante la operación, el proceso sufre cierto desbalance que hace que la temperatura de entrada del hidrocarburo disminuya 5ºC. Manteniendo los caudales constantes, determinar las nuevas temperaturas de salida. ¿Verifican las condiciones de funcionamiento requeridas? (Se recomienda utilizar el método e-NUT)\n",
    "    7. En los casos que no verifiquen, se dispone de un sistema de control del caudal de agua, para poder llevar al equipo dentro de los parámetros de funcionamiento adecuados. ¿Cuál es este nuevo caudal? (Se recomienda utilizar el método e-NUT)\n",
    "\n",
    "\n",
    "DATOS\n",
    "\n",
    "Corriente de Servicio: Agua de torre de enfriamiento tratada.\n",
    "\n",
    "Corriente de Proceso: Hidrocarburo liviano\n",
    "\n",
    "Temperatura del etilenglicol a la entrada – TFE [ºC] = 32.+0.5·UNP\n",
    "\n",
    "Temperatura del etilenglicol a la salida – TFS [ºC] = 40\n",
    "\n",
    "Temperatura del agua a la entrada – TCE [ºC] = 65\n",
    "\n",
    "Temperatura del agua de salida mínima – TFSmin [ºC] = 20\n",
    "\n",
    "Caudal de hidrocarburo liviano – mF [kg/s] (45+UNP)/10\n",
    "\n",
    "Nota:\n",
    "    • UNP= último número de padrón (alumnos de intercambio UNP=4)"
   ]
  },
  {
   "cell_type": "code",
   "execution_count": 4,
   "metadata": {},
   "outputs": [],
   "source": [
    "Npadron = 73245\n",
    "UNP = float(str(Npadron)[-1])"
   ]
  },
  {
   "cell_type": "code",
   "execution_count": 5,
   "metadata": {},
   "outputs": [
    {
     "data": {
      "text/html": [
       "<div>\n",
       "<style scoped>\n",
       "    .dataframe tbody tr th:only-of-type {\n",
       "        vertical-align: middle;\n",
       "    }\n",
       "\n",
       "    .dataframe tbody tr th {\n",
       "        vertical-align: top;\n",
       "    }\n",
       "\n",
       "    .dataframe thead th {\n",
       "        text-align: right;\n",
       "    }\n",
       "</style>\n",
       "<table border=\"1\" class=\"dataframe\">\n",
       "  <thead>\n",
       "    <tr style=\"text-align: right;\">\n",
       "      <th></th>\n",
       "      <th>0</th>\n",
       "      <th>1</th>\n",
       "    </tr>\n",
       "  </thead>\n",
       "  <tbody>\n",
       "    <tr>\n",
       "      <th>0</th>\n",
       "      <td>Corriente de Servicio:</td>\n",
       "      <td>Agua de torre de enfriamiento tratada.</td>\n",
       "    </tr>\n",
       "    <tr>\n",
       "      <th>1</th>\n",
       "      <td>Corriente de Proceso:</td>\n",
       "      <td>Hidrocarburo liviano</td>\n",
       "    </tr>\n",
       "    <tr>\n",
       "      <th>2</th>\n",
       "      <td>Temperatura del agua a la entrada – TFE [ºC]</td>\n",
       "      <td>35.0</td>\n",
       "    </tr>\n",
       "    <tr>\n",
       "      <th>3</th>\n",
       "      <td>Temperatura máxima del agua a la salida – TFS ...</td>\n",
       "      <td>55</td>\n",
       "    </tr>\n",
       "    <tr>\n",
       "      <th>4</th>\n",
       "      <td>Temperatura de proceso a la entrada – TCE [ºC]</td>\n",
       "      <td>90</td>\n",
       "    </tr>\n",
       "    <tr>\n",
       "      <th>5</th>\n",
       "      <td>Temperatura de proceso a la salida – TCS [ºC]</td>\n",
       "      <td>45</td>\n",
       "    </tr>\n",
       "    <tr>\n",
       "      <th>6</th>\n",
       "      <td>Caudal de Hidrocarburo liviano</td>\n",
       "      <td>41400.0</td>\n",
       "    </tr>\n",
       "  </tbody>\n",
       "</table>\n",
       "</div>"
      ],
      "text/plain": [
       "                                                   0  \\\n",
       "0                            Corriente de Servicio:    \n",
       "1                             Corriente de Proceso:    \n",
       "2      Temperatura del agua a la entrada – TFE [ºC]    \n",
       "3  Temperatura máxima del agua a la salida – TFS ...   \n",
       "4     Temperatura de proceso a la entrada – TCE [ºC]   \n",
       "5      Temperatura de proceso a la salida – TCS [ºC]   \n",
       "6                     Caudal de Hidrocarburo liviano   \n",
       "\n",
       "                                        1  \n",
       "0  Agua de torre de enfriamiento tratada.  \n",
       "1                    Hidrocarburo liviano  \n",
       "2                                    35.0  \n",
       "3                                      55  \n",
       "4                                      90  \n",
       "5                                      45  \n",
       "6                                 41400.0  "
      ]
     },
     "metadata": {},
     "output_type": "display_data"
    }
   ],
   "source": [
    "data = [['Corriente de Servicio: ','Agua de torre de enfriamiento tratada.'],\n",
    "       ['Corriente de Proceso: ','Hidrocarburo liviano'],\n",
    "       ['Temperatura del agua a la entrada – TFE [ºC] ',32.5+0.5*UNP],\n",
    "       ['Temperatura máxima del agua a la salida – TFS max [ºC]',55],\n",
    "        ['Temperatura de proceso a la entrada – TCE [ºC]',90],\n",
    "        ['Temperatura de proceso a la salida – TCS [ºC]',45],\n",
    "        ['Caudal de Hidrocarburo liviano',(14-0.5*UNP)*3600]       \n",
    "       ]\n",
    "Datos = pd.DataFrame(data)\n",
    "Datos_np = Datos.to_numpy()\n",
    "display(Datos)"
   ]
  },
  {
   "cell_type": "code",
   "execution_count": 6,
   "metadata": {},
   "outputs": [],
   "source": [
    "################\n",
    "#     DATOS    #\n",
    "################\n",
    "\n",
    "Tfe = (Datos_np[2,1]+273)*ureg.K\n",
    "Tfs_max = (Datos_np[3,1]+273)*ureg.K\n",
    "Tce = (Datos_np[4,1]+273)*ureg.K\n",
    "Tcs = (Datos_np[5,1]+273)*ureg.K\n",
    "m_c = (Datos_np[6,1]*ureg.kg/ureg.hour).to(ureg.kg*ureg.sec**-1)"
   ]
  },
  {
   "cell_type": "code",
   "execution_count": 10,
   "metadata": {},
   "outputs": [
    {
     "data": {
      "text/latex": [
       "Calor Intercambiado: Q=963.80 kilowatt"
      ],
      "text/plain": [
       "<IPython.core.display.Latex object>"
      ]
     },
     "metadata": {},
     "output_type": "display_data"
    },
    {
     "data": {
      "text/latex": [
       "Nut = 2.65, \\(\\varepsilon=\\) 0.82"
      ],
      "text/plain": [
       "<IPython.core.display.Latex object>"
      ]
     },
     "metadata": {},
     "output_type": "display_data"
    },
    {
     "data": {
      "text/latex": [
       "\\(F_T = \\) 0.75 "
      ],
      "text/plain": [
       "<IPython.core.display.Latex object>"
      ]
     },
     "metadata": {},
     "output_type": "display_data"
    }
   ],
   "source": [
    "# Cálculos \n",
    "\n",
    "Tfs = Tfs_max\n",
    "Tfs = Tfs_max - 8*ureg.K\n",
    "\n",
    "#Calor intercambiado\n",
    "\n",
    "#Q = C_c*m_c*(Tcs-Tce)\n",
    "Tc_media0 = (Tce+Tcs)/2\n",
    "C_c = cp.CoolProp.PropsSI('C','T',Tc_media0.magnitude,'P',101.325e3,'Benzene')*ureg.joule/ureg.kg/ureg.K\n",
    "mu_c = cp.CoolProp.PropsSI('V','T',Tc_media0.magnitude,'P',101.325e3,'Benzene')*ureg.kg/ureg.m/ureg.second\n",
    "rho_c = cp.CoolProp.PropsSI('D','T',Tc_media0.magnitude,'P',101.325e3,'Benzene')*ureg.kg*ureg.m**-3\n",
    "Pr_c = cp.CoolProp.PropsSI('Prandtl','T',Tc_media0.magnitude,'P',101.325e3,'Benzene')\n",
    "k_c = cp.CoolProp.PropsSI('L','T',Tc_media0.magnitude,'P',101.325e3,'Benzene')*ureg.watt/ureg.m/ureg.K\n",
    "nu_c = mu_c / rho_c\n",
    "\n",
    "Q = C_c*m_c*(Tce-Tcs)\n",
    "\n",
    "\n",
    "Tf_media = (Tfe+Tfs)/2\n",
    "C_f = cp.CoolProp.PropsSI('C','T',Tf_media.magnitude,'P',101.325e3,'Water')*ureg.joule/ureg.kg/ureg.K\n",
    "mu_f = cp.CoolProp.PropsSI('V','T',Tf_media.magnitude,'P',101.325e3,'Water')*ureg.kg/ureg.m/ureg.second\n",
    "rho_f = cp.CoolProp.PropsSI('D','T',Tf_media.magnitude,'P',101.325e3,'Water')*ureg.kg*ureg.m**-3\n",
    "nu_f = mu_f / rho_f\n",
    "Pr_f = cp.CoolProp.PropsSI('Prandtl','T',Tf_media.magnitude,'P',101.325e3,'Water')\n",
    "k_f = cp.CoolProp.PropsSI('L','T',Tf_media.magnitude,'P',101.325e3,'Water')*ureg.watt/ureg.m/ureg.K\n",
    "\n",
    "m_f = Q / C_f/(Tfs-Tfe)\n",
    "\n",
    "\n",
    "Cmin = np.min([(C_c*m_c).magnitude,(C_f*m_f).magnitude])\n",
    "Cmax = np.max([(C_c*m_c).magnitude,(C_f*m_f).magnitude])\n",
    "\n",
    "Cr = Cmin/Cmax\n",
    "\n",
    "Qmax = Cmin*(Tce-Tfe) \n",
    "epsilon = Q.magnitude/Qmax.magnitude\n",
    "\n",
    "dTlm = ht.LMTD(Tci=Tfe, Tco=Tfs, Thi=Tce, Tho=Tcs)\n",
    "\n",
    "#  pasos de carcaza\n",
    "Npasocarcasa = 1\n",
    "Ft = ht.F_LMTD_Fakheri(Tci=Tfe, Tco=Tfs, Thi=Tce, Tho=Tcs, shells=Npasocarcasa)\n",
    "UA = Q/(dTlm*Ft)\n",
    "Nut = ht.NTU_from_effectiveness(effectiveness=epsilon, Cr=Cr, subtype='S&T')\n",
    "Nut = ht.NTU_from_UA(UA,Cmin)\n",
    "\n",
    "display(Latex(f'Calor Intercambiado: Q={Q.to(ureg.kW):.2f}'))\n",
    "display(Latex(f'Nut = {Nut.magnitude:.2f}, '+'\\(\\\\varepsilon=\\)'+f' {epsilon:.2f}'))\n",
    "display(Latex(f'\\(F_T = \\) {Ft:~.2f} '))"
   ]
  },
  {
   "cell_type": "markdown",
   "metadata": {},
   "source": [
    "U \\\\( \\simeq \\\\) 250-450 W/m\\\\(^2\\\\) K según: CAO, Eduardo. Heat transfer in process engineering. McGraw-Hill Education, 2010\n"
   ]
  },
  {
   "cell_type": "code",
   "execution_count": 11,
   "metadata": {},
   "outputs": [
    {
     "data": {
      "text/latex": [
       "Área = 226.84 m ** 2"
      ],
      "text/plain": [
       "<IPython.core.display.Latex object>"
      ]
     },
     "metadata": {},
     "output_type": "display_data"
    },
    {
     "data": {
      "text/latex": [
       "Tubos de Nominal Pipe Size: 0.8, \\(D_{ext}=26.7\\)mm,  \\(D_{int}=23.4\\)mm,              \\(e_{tubo}=1.6\\)mm"
      ],
      "text/plain": [
       "<IPython.core.display.Latex object>"
      ]
     },
     "metadata": {},
     "output_type": "display_data"
    },
    {
     "data": {
      "text/latex": [
       "Largo tubos = 6.00 m"
      ],
      "text/plain": [
       "<IPython.core.display.Latex object>"
      ]
     },
     "metadata": {},
     "output_type": "display_data"
    },
    {
     "data": {
      "text/latex": [
       "Área propuesta = 226.48 m ** 2"
      ],
      "text/plain": [
       "<IPython.core.display.Latex object>"
      ]
     },
     "metadata": {},
     "output_type": "display_data"
    },
    {
     "data": {
      "text/latex": [
       "Número de tubos = 225"
      ],
      "text/plain": [
       "<IPython.core.display.Latex object>"
      ]
     },
     "metadata": {},
     "output_type": "display_data"
    }
   ],
   "source": [
    "# Suponemos U = 300\n",
    "U = 250*ureg.watt/ureg.m**2/ureg.K\n",
    "A = (UA / U).to_base_units()\n",
    "display(Latex(f'Área = {A:~.2f}'))\n",
    "\n",
    "#Suponiendo \n",
    "L_tubo = 6*ureg.m\n",
    "NPS, Dint, Dext, esp_t = fluids.nearest_pipe(Do=1*24.5e-3, schedule='5S')\n",
    "Ai_tubo = (Dint*ureg.m)**2*np.pi/4\n",
    "Ae_tubo = L_tubo*(Dext*ureg.m)*2*np.pi\n",
    "\n",
    "#Npasotubos = 2\n",
    "\n",
    "Ntubos = int( A.magnitude /( Ae_tubo.magnitude))\n",
    "display(Latex(f'Tubos de Nominal Pipe Size: {NPS:.1f}, \\(D_{{ext}}={Dext*1e3:.1f}\\)mm,  \\(D_{{int}}={Dint*1e3:.1f}\\)mm,              \\(e_{{tubo}}={esp_t*1e3:.1f}\\)mm')) \n",
    "display(Latex(f'Largo tubos = {L_tubo:~.2f}'))\n",
    "\n",
    "Area_propuesta = Ntubos *  (Ae_tubo)\n",
    "display(Latex(f'Área propuesta = {Area_propuesta:~.2f}'))\n",
    "display(Latex(f'Número de tubos = {Ntubos:0d}'))"
   ]
  },
  {
   "cell_type": "markdown",
   "metadata": {},
   "source": [
    "\\begin{equation}N_{pasotubos} = \\displaystyle \\frac{Re_{diseño}\\pi D_{int}N_{tubos}\\mu_f}{4\\dot m_T} = \\frac{U D}{\\nu_f}\n",
    "\\end{equation}"
   ]
  },
  {
   "cell_type": "code",
   "execution_count": 30,
   "metadata": {},
   "outputs": [
    {
     "data": {
      "text/latex": [
       "Número de pasos en tubos = 4"
      ],
      "text/plain": [
       "<IPython.core.display.Latex object>"
      ]
     },
     "metadata": {},
     "output_type": "display_data"
    }
   ],
   "source": [
    "#Pasos por tubos\n",
    "m_t = m_f\n",
    "Re_design = 25000\n",
    "Npasotubos =  np.ceil((Re_design*(np.pi*Dint*ureg.m*Ntubos*mu_f ) / (4*m_t)).to_base_units()).magnitude\n",
    "display(Latex(f'Número de pasos en tubos = {Npasotubos:.0f}'))"
   ]
  },
  {
   "cell_type": "code",
   "execution_count": 31,
   "metadata": {},
   "outputs": [
    {
     "data": {
      "text/latex": [
       "$U_{{tubo}} = $ 0.80 m / s"
      ],
      "text/plain": [
       "<IPython.core.display.Latex object>"
      ]
     },
     "metadata": {},
     "output_type": "display_data"
    }
   ],
   "source": [
    "# Flujo por los tubos: agua\n",
    "\n",
    "m_t = m_f\n",
    "\n",
    "m_tubo = m_t / ( Ntubos )*Npasotubos\n",
    "g_tubo = m_tubo / rho_f\n",
    "U_tubo = (g_tubo / (Ai_tubo)).to(ureg.m * ureg.sec**-1) \n",
    "\n",
    "#Re_tubo = U_tubo * Dint*ureg.m / nu_f\n",
    "\n",
    "# para estimar un paso en tubos a partir de un Re de diseño\n",
    "#Npasotubos =  Re_design*(np.pi*Dint*ureg.m*Ntubos*mu_f ) / (4*m_t)\n",
    "#display(Latex('$Re_{{tubo}} = $' + f' {Re_tubo.magnitude:.0f}'))\n",
    "display(Latex('$U_{{tubo}} = $' + f' {U_tubo:~.2f}'))"
   ]
  },
  {
   "cell_type": "code",
   "execution_count": 32,
   "metadata": {},
   "outputs": [
    {
     "name": "stdout",
     "output_type": "stream",
     "text": [
      "Diametro Carcasa = 24.70''\n",
      "Diametro Carcasa final = 25.00''\n",
      "Numero de tubos = 224\n",
      "Areal real =225.47 meter ** 2\n"
     ]
    }
   ],
   "source": [
    "p1 = 1.25\n",
    "Dcarcasa0 = ht.DBundle_for_Ntubes_Phadkeb(Ntubos, Dext, p1*Dext, Npasotubos, angle=45)\n",
    "\n",
    "print('Diametro Carcasa = %.2f\\'\\''%(Dcarcasa0/25.4e-3))\n",
    "\n",
    "Dcarcasa = (25)*25.4e-3 ##el valor mas cercano a Dcarcasa0\n",
    "Do = Dext\n",
    "pitch = p1*Dext\n",
    "\n",
    "\n",
    "Ntubos = ht.Ntubes(Dcarcasa, Do, pitch, Ntp=Npasotubos, angle=90, Method=None)\n",
    "\n",
    "print('Diametro Carcasa final = %.2f\\'\\''%(Dcarcasa/25.4e-3))\n",
    "print('Numero de tubos = %0d'%(Ntubos))\n",
    "\n",
    "A_real = Ae_tubo*Ntubos\n",
    "print(f'Areal real ={A_real:.2f}')\n"
   ]
  },
  {
   "cell_type": "code",
   "execution_count": 33,
   "metadata": {},
   "outputs": [
    {
     "data": {
      "text/latex": [
       "$Re_{{tubo}} = $ 29064"
      ],
      "text/plain": [
       "<IPython.core.display.Latex object>"
      ]
     },
     "metadata": {},
     "output_type": "display_data"
    },
    {
     "data": {
      "text/latex": [
       "$h_f=$3734.4 watt / kelvin / meter ** 2"
      ],
      "text/plain": [
       "<IPython.core.display.Latex object>"
      ]
     },
     "metadata": {},
     "output_type": "display_data"
    }
   ],
   "source": [
    "m_t = m_f\n",
    "\n",
    "m_tubo = m_t / ( Ntubos )*Npasotubos\n",
    "g_tubo = m_tubo / rho_f\n",
    "U_tubo = (g_tubo / (Ai_tubo)).to(ureg.m * ureg.sec**-1) \n",
    "\n",
    "Re_tubo = U_tubo * Dint*ureg.m / nu_f\n",
    "\n",
    "display(Latex('$Re_{{tubo}} = $' + f' {Re_tubo.magnitude:.0f}'))\n",
    "\n",
    "Nu_f = ht.conv_internal.turbulent_Colburn(Re_tubo,Pr_f)\n",
    "h_f = Nu_f*k_f/(Dint*ureg.m)\n",
    "\n",
    "display(Latex('$h_f=$'+f'{h_f:.1f}'))\n"
   ]
  },
  {
   "cell_type": "code",
   "execution_count": 34,
   "metadata": {},
   "outputs": [
    {
     "data": {
      "text/latex": [
       "$h_c=$1050.0 watt / kelvin / meter ** 2"
      ],
      "text/plain": [
       "<IPython.core.display.Latex object>"
      ]
     },
     "metadata": {},
     "output_type": "display_data"
    }
   ],
   "source": [
    "# En la carcasa\n",
    "\n",
    "B = 0.25*Dcarcasa*ureg.m\n",
    "\n",
    "#Pag 76 Cao, Dequivalente\n",
    "Pt = pitch*ureg.m\n",
    "c = (pitch-Dext)*ureg.m\n",
    "As = Dcarcasa*ureg.m*c*B/Pt\n",
    "Gs = m_c / As\n",
    "\n",
    "\n",
    "Deq = 4*(pitch**2-np.pi*Dext**2/4) / (np.pi*Dext)*ureg.m\n",
    "Aeq =  Deq**2*np.pi/4*Ntubos*Npasotubos/4\n",
    "\n",
    "\n",
    "\n",
    "Re_c = Deq*m_c/mu_c/As\n",
    "\n",
    "Re_c = (Re_c).to_base_units().magnitude\n",
    "\n",
    "Nu_c = 0.36*Re_c**0.55*Pr_c**0.3333\n",
    "\n",
    "h_c = Nu_c*k_c/Deq\n",
    "\n",
    "display(Latex('$h_c=$'+f'{h_c:.1f}'))\n"
   ]
  },
  {
   "cell_type": "code",
   "execution_count": 35,
   "metadata": {},
   "outputs": [],
   "source": [
    "# Temperatura de pared Tw\n",
    "\n",
    "# (Tcm-Tw)*A*h_c = (Tw-Tfm) *A*h_f\n",
    "#Tw*h_c+Tw*h_f = Tcm*h_c + Tfm*h_f\n",
    "\n",
    "Tw = (h_c*Tc_media0+h_f*Tf_media) / (h_c+h_f )\n",
    "#con este valor se corrigen las propiedades de los fluidos\n",
    "\n",
    "Tcmedia = (Tc_media0+Tw)/2\n",
    "Tfmedia = (Tf_media+Tw)/2\n",
    "\n",
    "Pr_f = cp.CoolProp.PropsSI('PRANDTL','T',Tfmedia.magnitude,'P',101.325e3,'Water')\n",
    "k_f = cp.CoolProp.PropsSI('L','T',Tfmedia.magnitude,'P',101.325e3,'Water')*ureg.watt*ureg.m**-1*ureg.K**-1\n",
    "mu_f = cp.CoolProp.PropsSI('V','T',Tfmedia.magnitude,'P',101.325e3,'Water')*ureg.kg*ureg.m**-1*ureg.second**-1\n",
    "\n",
    "Pr_c = cp.CoolProp.PropsSI('PRANDTL','T',Tcmedia.magnitude,'P',101.325e3,'Benzene')\n",
    "k_c = cp.CoolProp.PropsSI('L','T',Tcmedia.magnitude,'P',101.325e3,'Benzene')*ureg.watt*ureg.m**-1*ureg.K**-1\n",
    "mu_c = cp.CoolProp.PropsSI('V','T',Tcmedia.magnitude,'P',101.325e3,'Benzene')*ureg.kg*ureg.m**-1*ureg.second**-1\n",
    "rho_c = cp.CoolProp.PropsSI('D','T',Tcmedia.magnitude,'P',101.325e3,'Benzene')*ureg.kg*ureg.m**-3\n",
    "rho_f = cp.CoolProp.PropsSI('D','T',Tfmedia.magnitude,'P',101.325e3,'Water')*ureg.kg*ureg.m**-3\n",
    "\n",
    "mu_w = cp.CoolProp.PropsSI('V','T',Tw.magnitude,'P',101.325e3,'Benzene')*ureg.kg*ureg.m**-1*ureg.second**-1\n"
   ]
  },
  {
   "cell_type": "code",
   "execution_count": 36,
   "metadata": {},
   "outputs": [
    {
     "data": {
      "text/latex": [
       "$h_f=$3683.1 watt / kelvin / meter ** 2"
      ],
      "text/plain": [
       "<IPython.core.display.Latex object>"
      ]
     },
     "metadata": {},
     "output_type": "display_data"
    },
    {
     "data": {
      "text/latex": [
       "$h_c=$1036.1 watt / kelvin / meter ** 2"
      ],
      "text/plain": [
       "<IPython.core.display.Latex object>"
      ]
     },
     "metadata": {},
     "output_type": "display_data"
    }
   ],
   "source": [
    "Re_c = Deq*m_c/mu_c/As\n",
    "\n",
    "Re_c = (Re_c).to_base_units().magnitude\n",
    "U_carcasa = m_c/As/rho_c\n",
    "#Re_c = Deq*Gs/mu_c\n",
    "Nu_c = 0.36*Re_c**0.55*Pr_c**0.3333\n",
    "\n",
    "h_c = Nu_c*k_c/Deq\n",
    "\n",
    "Nu_f = ht.conv_internal.turbulent_Colburn(Re_tubo.magnitude,Pr_f)\n",
    "h_f = Nu_f*k_f/(Dint*ureg.m)\n",
    "display(Latex('$h_f=$'+f'{h_f:.1f}'))\n",
    "display(Latex('$h_c=$'+f'{h_c:.1f}'))"
   ]
  },
  {
   "cell_type": "code",
   "execution_count": 37,
   "metadata": {},
   "outputs": [
    {
     "data": {
      "text/plain": [
       "(0.6798469346817431 <Unit('meter / second')>,\n",
       " 0.804466089740414 <Unit('meter / second')>)"
      ]
     },
     "execution_count": 37,
     "metadata": {},
     "output_type": "execute_result"
    }
   ],
   "source": [
    "U_carcasa,U_tubo"
   ]
  },
  {
   "cell_type": "code",
   "execution_count": 38,
   "metadata": {},
   "outputs": [
    {
     "data": {
      "text/latex": [
       "$U_{limpio}=$728.5 watt / kelvin / meter ** 2"
      ],
      "text/plain": [
       "<IPython.core.display.Latex object>"
      ]
     },
     "metadata": {},
     "output_type": "display_data"
    },
    {
     "data": {
      "text/latex": [
       "$U_{final}=$679.5 watt / kelvin / meter ** 2"
      ],
      "text/plain": [
       "<IPython.core.display.Latex object>"
      ]
     },
     "metadata": {},
     "output_type": "display_data"
    }
   ],
   "source": [
    "Rf_f = (0.86*0.4e-4 )*ureg.K*ureg.m**2*ureg.watt**-1\n",
    "Rf_c =  0.86*0.75e-4*ureg.K*ureg.m**2*ureg.watt**-1\n",
    "Rf = Rf_f+Rf_c\n",
    "Ulimpio = 1 / (Dext/Dint/h_c+1/h_f )\n",
    "U = 1 / (1/Ulimpio + Rf )#*(1+Dext/Dint))\n",
    "\n",
    "\n",
    "\n",
    "#A_calculo = Q / (U*dTlm*Ft)\n",
    "\n",
    "display(Latex('$U_{limpio}=$'+f'{Ulimpio:.1f}'))\n",
    "display(Latex('$U_{final}=$'+f'{U:.1f}'))\n",
    "\n",
    "#display(Latex('$A_{final}=$'+f'{A_calculo.to_base_units():.1f}'))#\n",
    "\n",
    "\n",
    "\n",
    "#print('A real inicial %.2f'%A_real)"
   ]
  },
  {
   "cell_type": "code",
   "execution_count": 39,
   "metadata": {},
   "outputs": [
    {
     "data": {
      "text/latex": [
       "Factor friccion tubos, $f_f=$0.027"
      ],
      "text/plain": [
       "<IPython.core.display.Latex object>"
      ]
     },
     "metadata": {},
     "output_type": "display_data"
    },
    {
     "data": {
      "text/latex": [
       "Perdida friccion tubos, $\\Delta p_f=$82 kilopascal"
      ],
      "text/plain": [
       "<IPython.core.display.Latex object>"
      ]
     },
     "metadata": {},
     "output_type": "display_data"
    },
    {
     "data": {
      "text/latex": [
       "Perdida cabezales, $\\Delta p_c=$5.1 kilopascal"
      ],
      "text/plain": [
       "<IPython.core.display.Latex object>"
      ]
     },
     "metadata": {},
     "output_type": "display_data"
    },
    {
     "data": {
      "text/latex": [
       "Perdida tubos, $\\Delta p_t=\\Delta p_c+\\Delta p_f= $88 kilopascal"
      ],
      "text/plain": [
       "<IPython.core.display.Latex object>"
      ]
     },
     "metadata": {},
     "output_type": "display_data"
    }
   ],
   "source": [
    "# Caida de presion\n",
    "\n",
    "# Calculo para flujo en tubos\n",
    "roughness = fluids.roughness_Farshad('Carbon steel, bare', D=Dint)\n",
    "\n",
    "f_c = fluids.friction.friction_factor(Re=Re_tubo, eD=roughness/Dint)\n",
    "\n",
    "f_c2 = 1.2*(0.0014+0.125/Re_tubo**.32)\n",
    "\n",
    "g_tubo = m_tubo / rho_f\n",
    "U_tubo = g_tubo / (Ai_tubo) \n",
    "\n",
    "Delta_p_friccion = 0.5*rho_f*U_tubo**2*L_tubo/(Dint*ureg.m)\n",
    "\n",
    "Delta_p_cabezales = 4*Npasotubos*U_tubo**2*rho_f/2\n",
    "\n",
    "Delta_p_tubos = Delta_p_cabezales+Delta_p_friccion\n",
    "\n",
    "display(Latex('Factor friccion tubos, $f_f=$'+f'{f_c.magnitude:.2g}'))\n",
    "display(Latex('Perdida friccion tubos, $\\Delta p_f=$'+f'{Delta_p_friccion.to(ureg.kPa):.2g}'))\n",
    "display(Latex('Perdida cabezales, $\\Delta p_c=$'+f'{Delta_p_cabezales.to(ureg.kPa):.2g}'))\n",
    "display(Latex('Perdida tubos, $\\Delta p_t=\\Delta p_c+\\Delta p_f= $'+f'{Delta_p_tubos.to(ureg.kPa):.2g}'))\n"
   ]
  },
  {
   "cell_type": "code",
   "execution_count": 40,
   "metadata": {},
   "outputs": [
    {
     "data": {
      "text/latex": [
       "Perdida flujo en Carcasa, $\\Delta p_{Carcasa}=$1.0 kilopascal"
      ],
      "text/plain": [
       "<IPython.core.display.Latex object>"
      ]
     },
     "metadata": {},
     "output_type": "display_data"
    }
   ],
   "source": [
    "\n",
    "LSpacing = Dcarcasa\n",
    "NBaffles = np.floor(L_tubo.magnitude / LSpacing)\n",
    "\n",
    "Delta_p_carcasa = ht.conv_tube_bank.dP_Kern(m_c.magnitude, rho_c.magnitude, mu_c.magnitude, Dcarcasa, LSpacing, pitch, Dext, NBaffles, mu_w=mu_w.magnitude)*ureg.Pa\n",
    "\n",
    "display(Latex('Perdida flujo en Carcasa, $\\Delta p_{Carcasa}=$'+f'{Delta_p_carcasa.to(ureg.kPa):.1f}'))"
   ]
  },
  {
   "cell_type": "code",
   "execution_count": 41,
   "metadata": {},
   "outputs": [],
   "source": [
    "data_excel = pd.read_excel('resultados_fmt.xls')"
   ]
  },
  {
   "cell_type": "code",
   "execution_count": 48,
   "metadata": {},
   "outputs": [],
   "source": [
    "comportamiento_unidad = pd.DataFrame(np.zeros((29,3),dtype='str'),columns=[' ','Lado Carcasa','Lado Tubos'])\n",
    "comportamiento_unidad.loc[0:30,' ']  = data_excel.to_numpy()[5:34,0]"
   ]
  },
  {
   "cell_type": "code",
   "execution_count": 46,
   "metadata": {},
   "outputs": [],
   "source": [
    "comportamiento_unidad.iloc[0,1:3] = ['Benceno','Agua']\n",
    "comportamiento_unidad.iloc[1,1:3] = [f'{k_c:~.3f}',f'{k_f:~.3f}']\n",
    "comportamiento_unidad.iloc[2,1:3] = [f'{rho_c:~.0f}',f'{rho_f:~.0f}']\n",
    "comportamiento_unidad.iloc[3,1:3] = [f'{C_c:~.0f}',f'{C_f:~.0f}']\n",
    "comportamiento_unidad.iloc[4,1:3] = [f'{mu_c:~.2e}',f'{mu_f:~.2e}']\n",
    "comportamiento_unidad.iloc[5,1:3] = [f'{Tce.to(ureg.degC):~.0f}',f'{Tfe.to(ureg.degC):~.0f}']\n",
    "comportamiento_unidad.iloc[6,1:3] = [f'{Tcs.to(ureg.degC):~.0f}',f'{Tfs.to(ureg.degC):~.0f}']\n",
    "comportamiento_unidad.iloc[7,1:3] = [f'{Npasocarcasa:.0f}',f'{Npasotubos:.0f}']\n",
    "comportamiento_unidad.iloc[8,1:3] = [f'{U_carcasa:~.2f}',f'{U_tubo:~.2f}']\n",
    "comportamiento_unidad.iloc[9,1:3] = [f'{Delta_p_carcasa.to(ureg.kPa):~.2f}',f'{Delta_p_tubos.to(ureg.kPa):~.2f}']\n",
    "comportamiento_unidad.iloc[10,1:3] = [f'{Rf_c:~.2e}',f'{Rf_f:~.2e}']\n",
    "\n",
    "comportamiento_unidad.iloc[13,1:3] = [f'{Ft.magnitude:.2f}','']\n",
    "comportamiento_unidad.iloc[14,1:3] = [f'{dTlm.to(ureg.delta_degC):~.2f}','']\n",
    "comportamiento_unidad.iloc[15,1:3] = [f'{Q.to(ureg.kW):~.1f}','']\n",
    "comportamiento_unidad.iloc[16,1:3] = [f'{Ulimpio:~.1f}','']\n",
    "comportamiento_unidad.iloc[17,1:3] = [f'{U:~.1f}','']\n",
    "comportamiento_unidad.iloc[19,1:3] = [f'{Dext*1e3*ureg.mm:~.1f}','']\n",
    "comportamiento_unidad.iloc[21,1:3] = [f'{Dint*1e3*ureg.mm:~.1f}','']\n",
    "comportamiento_unidad.iloc[20,1:3] = [f'{esp_t*1e3*ureg.mm:~.1f}','']\n",
    "comportamiento_unidad.iloc[22,1:3] = [f'{pitch*1e3*ureg.mm:~.1f}','']\n",
    "comportamiento_unidad.iloc[23,1:3] = [f'{Ntubos:.0f}','']\n",
    "comportamiento_unidad.iloc[24,1:3] = [f'{L_tubo:~.1f}','']\n",
    "comportamiento_unidad.iloc[25,1:3] = [f'{A_real:~.1f}','']\n",
    "comportamiento_unidad.iloc[26,1:3] = [f'{Dcarcasa*1e3*ureg.mm:~.0f}','']\n",
    "comportamiento_unidad.iloc[27,1:3] = [f'{LSpacing*1e3*ureg.mm:~.0f}','']\n",
    "comportamiento_unidad.iloc[28,1:3] = [f'{NBaffles:.0f}','']"
   ]
  },
  {
   "cell_type": "code",
   "execution_count": 44,
   "metadata": {},
   "outputs": [
    {
     "data": {
      "text/html": [
       "<div>\n",
       "<style scoped>\n",
       "    .dataframe tbody tr th:only-of-type {\n",
       "        vertical-align: middle;\n",
       "    }\n",
       "\n",
       "    .dataframe tbody tr th {\n",
       "        vertical-align: top;\n",
       "    }\n",
       "\n",
       "    .dataframe thead th {\n",
       "        text-align: right;\n",
       "    }\n",
       "</style>\n",
       "<table border=\"1\" class=\"dataframe\">\n",
       "  <thead>\n",
       "    <tr style=\"text-align: right;\">\n",
       "      <th></th>\n",
       "      <th></th>\n",
       "      <th>Lado Carcasa</th>\n",
       "      <th>Lado Tubos</th>\n",
       "    </tr>\n",
       "  </thead>\n",
       "  <tbody>\n",
       "    <tr>\n",
       "      <th>0</th>\n",
       "      <td>FLUIDOS</td>\n",
       "      <td>Benceno</td>\n",
       "      <td>Agua</td>\n",
       "    </tr>\n",
       "    <tr>\n",
       "      <th>1</th>\n",
       "      <td>CONDUCTIVIDAD TERMICA [W/m·K]</td>\n",
       "      <td>0.131 W / K / m</td>\n",
       "      <td>0.633 W / K / m</td>\n",
       "    </tr>\n",
       "    <tr>\n",
       "      <th>2</th>\n",
       "      <td>DENSIDAD [kg/m3]</td>\n",
       "      <td>839 kg / m ** 3</td>\n",
       "      <td>991 kg / m ** 3</td>\n",
       "    </tr>\n",
       "    <tr>\n",
       "      <th>3</th>\n",
       "      <td>CAPACIDAD CALORIFICA [J/kg·K]</td>\n",
       "      <td>1862 J / K / kg</td>\n",
       "      <td>4180 J / K / kg</td>\n",
       "    </tr>\n",
       "    <tr>\n",
       "      <th>4</th>\n",
       "      <td>VISCOSIDAD DINAMICA [kg/m·s]</td>\n",
       "      <td>4.06e-04 kg / m / s</td>\n",
       "      <td>6.09e-04 kg / m / s</td>\n",
       "    </tr>\n",
       "    <tr>\n",
       "      <th>5</th>\n",
       "      <td>TEMPERATURA DE ENTRADA [ºC]</td>\n",
       "      <td>90 °C</td>\n",
       "      <td>35 °C</td>\n",
       "    </tr>\n",
       "    <tr>\n",
       "      <th>6</th>\n",
       "      <td>TEMPERATURA DE SALIDA [ºC]</td>\n",
       "      <td>45 °C</td>\n",
       "      <td>47 °C</td>\n",
       "    </tr>\n",
       "    <tr>\n",
       "      <th>7</th>\n",
       "      <td>NUMERO DE PASOS [-]</td>\n",
       "      <td>1</td>\n",
       "      <td>4</td>\n",
       "    </tr>\n",
       "    <tr>\n",
       "      <th>8</th>\n",
       "      <td>VELOCIDAD [m/s]</td>\n",
       "      <td>0.68 m / s</td>\n",
       "      <td>0.81 m / s</td>\n",
       "    </tr>\n",
       "    <tr>\n",
       "      <th>9</th>\n",
       "      <td>CAIDA DE PRESION [kPa]</td>\n",
       "      <td>1.01 kPa</td>\n",
       "      <td>87.53 kPa</td>\n",
       "    </tr>\n",
       "    <tr>\n",
       "      <th>10</th>\n",
       "      <td>RESISTENCIA DE ENSUCIAMIENTO [m2·K/W]</td>\n",
       "      <td>6.45e-05 K * m ** 2 / W</td>\n",
       "      <td>3.44e-05 K * m ** 2 / W</td>\n",
       "    </tr>\n",
       "    <tr>\n",
       "      <th>11</th>\n",
       "      <td>PARAMETRO \"R\"</td>\n",
       "      <td></td>\n",
       "      <td></td>\n",
       "    </tr>\n",
       "    <tr>\n",
       "      <th>12</th>\n",
       "      <td>PARAMETRO \"S\"</td>\n",
       "      <td></td>\n",
       "      <td></td>\n",
       "    </tr>\n",
       "    <tr>\n",
       "      <th>13</th>\n",
       "      <td>FACTOR DE CORRECCION</td>\n",
       "      <td>0.75</td>\n",
       "      <td></td>\n",
       "    </tr>\n",
       "    <tr>\n",
       "      <th>14</th>\n",
       "      <td>DTLMcc [ºC]</td>\n",
       "      <td>22.62 Δ°C</td>\n",
       "      <td></td>\n",
       "    </tr>\n",
       "    <tr>\n",
       "      <th>15</th>\n",
       "      <td>CALOR INTERCAMBIADO [kW]</td>\n",
       "      <td>963.8 kW</td>\n",
       "      <td></td>\n",
       "    </tr>\n",
       "    <tr>\n",
       "      <th>16</th>\n",
       "      <td>COEFICIENTE DE TRANSMISION LIMPIO [W/m2·K]</td>\n",
       "      <td>728.5 W / K / m ** 2</td>\n",
       "      <td></td>\n",
       "    </tr>\n",
       "    <tr>\n",
       "      <th>17</th>\n",
       "      <td>COEFICIENTE DE TRANSMISION DE SERVICIO [W/m2·K]</td>\n",
       "      <td>679.5 W / K / m ** 2</td>\n",
       "      <td></td>\n",
       "    </tr>\n",
       "    <tr>\n",
       "      <th>18</th>\n",
       "      <td>CONSTRUCCION</td>\n",
       "      <td></td>\n",
       "      <td></td>\n",
       "    </tr>\n",
       "    <tr>\n",
       "      <th>19</th>\n",
       "      <td>DIAMETRO EXTERNO DE TUBOS [mm]</td>\n",
       "      <td>26.7 mm</td>\n",
       "      <td></td>\n",
       "    </tr>\n",
       "    <tr>\n",
       "      <th>20</th>\n",
       "      <td>CALIBRE DE TUBOS</td>\n",
       "      <td>1.6 mm</td>\n",
       "      <td></td>\n",
       "    </tr>\n",
       "    <tr>\n",
       "      <th>21</th>\n",
       "      <td>DIAMETRO INTERNO DE TUBOS [mm]</td>\n",
       "      <td>23.4 mm</td>\n",
       "      <td></td>\n",
       "    </tr>\n",
       "    <tr>\n",
       "      <th>22</th>\n",
       "      <td>ESPACIAMIENTO DE TUBOS [mm]</td>\n",
       "      <td>33.4 mm</td>\n",
       "      <td></td>\n",
       "    </tr>\n",
       "    <tr>\n",
       "      <th>23</th>\n",
       "      <td>CANTIDAD DE TUBOS</td>\n",
       "      <td>224</td>\n",
       "      <td></td>\n",
       "    </tr>\n",
       "    <tr>\n",
       "      <th>24</th>\n",
       "      <td>LARGO DE TUBOS [m]</td>\n",
       "      <td>6.0 m</td>\n",
       "      <td></td>\n",
       "    </tr>\n",
       "    <tr>\n",
       "      <th>25</th>\n",
       "      <td>SUPERFICIE DE INTERCAMBIO [m2]</td>\n",
       "      <td>225.5 m ** 2</td>\n",
       "      <td></td>\n",
       "    </tr>\n",
       "    <tr>\n",
       "      <th>26</th>\n",
       "      <td>DIAMETRO DE CARCASA [in]</td>\n",
       "      <td>635 mm</td>\n",
       "      <td></td>\n",
       "    </tr>\n",
       "    <tr>\n",
       "      <th>27</th>\n",
       "      <td>SEPARACION ENRE BAFLES [mm]</td>\n",
       "      <td>635 mm</td>\n",
       "      <td></td>\n",
       "    </tr>\n",
       "    <tr>\n",
       "      <th>28</th>\n",
       "      <td>CANTIDAD DE BAFLES</td>\n",
       "      <td>9</td>\n",
       "      <td></td>\n",
       "    </tr>\n",
       "  </tbody>\n",
       "</table>\n",
       "</div>"
      ],
      "text/plain": [
       "                                                                Lado Carcasa  \\\n",
       "0                                          FLUIDOS                   Benceno   \n",
       "1                     CONDUCTIVIDAD TERMICA [W/m·K]          0.131 W / K / m   \n",
       "2                                  DENSIDAD [kg/m3]          839 kg / m ** 3   \n",
       "3                     CAPACIDAD CALORIFICA [J/kg·K]          1862 J / K / kg   \n",
       "4                      VISCOSIDAD DINAMICA [kg/m·s]      4.06e-04 kg / m / s   \n",
       "5                       TEMPERATURA DE ENTRADA [ºC]                    90 °C   \n",
       "6                        TEMPERATURA DE SALIDA [ºC]                    45 °C   \n",
       "7                               NUMERO DE PASOS [-]                        1   \n",
       "8                                   VELOCIDAD [m/s]               0.68 m / s   \n",
       "9                            CAIDA DE PRESION [kPa]                 1.01 kPa   \n",
       "10            RESISTENCIA DE ENSUCIAMIENTO [m2·K/W]  6.45e-05 K * m ** 2 / W   \n",
       "11                                    PARAMETRO \"R\"                            \n",
       "12                                    PARAMETRO \"S\"                            \n",
       "13                             FACTOR DE CORRECCION                     0.75   \n",
       "14                                      DTLMcc [ºC]                22.62 Δ°C   \n",
       "15                         CALOR INTERCAMBIADO [kW]                 963.8 kW   \n",
       "16       COEFICIENTE DE TRANSMISION LIMPIO [W/m2·K]     728.5 W / K / m ** 2   \n",
       "17  COEFICIENTE DE TRANSMISION DE SERVICIO [W/m2·K]     679.5 W / K / m ** 2   \n",
       "18                                     CONSTRUCCION                            \n",
       "19                   DIAMETRO EXTERNO DE TUBOS [mm]                  26.7 mm   \n",
       "20                                 CALIBRE DE TUBOS                   1.6 mm   \n",
       "21                   DIAMETRO INTERNO DE TUBOS [mm]                  23.4 mm   \n",
       "22                      ESPACIAMIENTO DE TUBOS [mm]                  33.4 mm   \n",
       "23                                CANTIDAD DE TUBOS                      224   \n",
       "24                               LARGO DE TUBOS [m]                    6.0 m   \n",
       "25                   SUPERFICIE DE INTERCAMBIO [m2]             225.5 m ** 2   \n",
       "26                         DIAMETRO DE CARCASA [in]                   635 mm   \n",
       "27                      SEPARACION ENRE BAFLES [mm]                   635 mm   \n",
       "28                               CANTIDAD DE BAFLES                        9   \n",
       "\n",
       "                 Lado Tubos  \n",
       "0                      Agua  \n",
       "1           0.633 W / K / m  \n",
       "2           991 kg / m ** 3  \n",
       "3           4180 J / K / kg  \n",
       "4       6.09e-04 kg / m / s  \n",
       "5                     35 °C  \n",
       "6                     47 °C  \n",
       "7                         4  \n",
       "8                0.81 m / s  \n",
       "9                 87.53 kPa  \n",
       "10  3.44e-05 K * m ** 2 / W  \n",
       "11                           \n",
       "12                           \n",
       "13                           \n",
       "14                           \n",
       "15                           \n",
       "16                           \n",
       "17                           \n",
       "18                           \n",
       "19                           \n",
       "20                           \n",
       "21                           \n",
       "22                           \n",
       "23                           \n",
       "24                           \n",
       "25                           \n",
       "26                           \n",
       "27                           \n",
       "28                           "
      ]
     },
     "execution_count": 44,
     "metadata": {},
     "output_type": "execute_result"
    }
   ],
   "source": [
    "comportamiento_unidad"
   ]
  },
  {
   "cell_type": "markdown",
   "metadata": {},
   "source": [
    "Para conocer las entradas  http://www.coolprop.org/coolprop/HighLevelAPI.html#parameter-table"
   ]
  },
  {
   "cell_type": "code",
   "execution_count": null,
   "metadata": {},
   "outputs": [],
   "source": []
  }
 ],
 "metadata": {
  "anaconda-cloud": {},
  "kernelspec": {
   "display_name": "Python 3 (ipykernel)",
   "language": "python",
   "name": "python3"
  },
  "language_info": {
   "codemirror_mode": {
    "name": "ipython",
    "version": 3
   },
   "file_extension": ".py",
   "mimetype": "text/x-python",
   "name": "python",
   "nbconvert_exporter": "python",
   "pygments_lexer": "ipython3",
   "version": "3.10.9"
  },
  "latex_envs": {
   "LaTeX_envs_menu_present": true,
   "autoclose": true,
   "autocomplete": true,
   "bibliofile": "biblio.bib",
   "cite_by": "apalike",
   "current_citInitial": 1,
   "eqLabelWithNumbers": true,
   "eqNumInitial": 1,
   "hotkeys": {
    "equation": "Ctrl-E",
    "itemize": "Ctrl-I"
   },
   "labels_anchors": false,
   "latex_user_defs": false,
   "report_style_numbering": false,
   "user_envs_cfg": false
  }
 },
 "nbformat": 4,
 "nbformat_minor": 4
}
