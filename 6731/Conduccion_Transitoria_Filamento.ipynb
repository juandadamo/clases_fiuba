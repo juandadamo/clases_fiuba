{
 "cells": [
  {
   "cell_type": "code",
   "execution_count": 7,
   "id": "6f11cfa4-079a-4706-8d91-c2506cf963f5",
   "metadata": {},
   "outputs": [],
   "source": [
    "%matplotlib widget\n",
    "import numpy as np # linear algebra\n",
    "import matplotlib.pyplot as plt\n",
    "import matplotlib as mpl\n",
    "from scipy.special import erf # doctest: +SCIPY\n",
    "from IPython.display import Latex"
   ]
  },
  {
   "cell_type": "markdown",
   "id": "104193d4-450e-46cd-91e3-e34672827c92",
   "metadata": {},
   "source": [
    "Se propone estudiar el enfriamiento de un filamento de fibra óptica que es desplazado a partir de un sistema de poleas desde una zona caliente (salida del horno de fabricación) de temperatura $T_1 = \\SI{800}{\\kelvin}$ hacia una zona fría (cuba depósito de material de revestimiento) de temperatura $T_c=\\SI{300}{\\kelvin}$. Este problema es común a los procesos de fabricación de cables eléctricos (cobre) y de fibras ópticas (silicio).\n",
    "\n",
    "Se considera a la instalación en forma esquemática como muestra la Figura \\ref{fig:fibra}, y nos interesaremos en el segmento $x\\in[0,L]$.\n"
   ]
  },
  {
   "cell_type": "markdown",
   "id": "e63359ba-5a33-4d7a-8f49-d6ac5d640c94",
   "metadata": {},
   "source": [
    "![filamento.png](filamento.png)"
   ]
  },
  {
   "cell_type": "code",
   "execution_count": 8,
   "id": "fddac5df-1fd4-4379-a4e7-8f82c0e8ca47",
   "metadata": {},
   "outputs": [],
   "source": [
    "R = 100e-6\n",
    "ρ = 2000\n",
    "C = 750\n",
    "k = 1.5\n",
    "h = 48\n",
    "T1 = 800\n",
    "Tc = 300"
   ]
  },
  {
   "cell_type": "code",
   "execution_count": 13,
   "id": "cda9f57c-dbee-437a-a0c7-0ced29c46a2a",
   "metadata": {},
   "outputs": [
    {
     "data": {
      "text/latex": [
       "Bi = 0.0032"
      ],
      "text/plain": [
       "<IPython.core.display.Latex object>"
      ]
     },
     "metadata": {},
     "output_type": "display_data"
    },
    {
     "data": {
      "text/latex": [
       "Gradientes térmicos radiales despreciables"
      ],
      "text/plain": [
       "<IPython.core.display.Latex object>"
      ]
     },
     "metadata": {},
     "output_type": "display_data"
    }
   ],
   "source": [
    "Bi = h*R / k\n",
    "display(Latex(f'Bi = {Bi:.2g}'))\n",
    "display(Latex(f'Gradientes térmicos radiales despreciables'))"
   ]
  },
  {
   "cell_type": "code",
   "execution_count": 11,
   "id": "a4c57298-7567-4824-a05d-f3c7cc8c0732",
   "metadata": {},
   "outputs": [
    {
     "data": {
      "text/plain": [
       "0.032"
      ]
     },
     "execution_count": 11,
     "metadata": {},
     "output_type": "execute_result"
    }
   ],
   "source": []
  },
  {
   "cell_type": "code",
   "execution_count": null,
   "id": "9dd897f3-ca0c-47de-8d86-0f2db912e857",
   "metadata": {},
   "outputs": [],
   "source": []
  }
 ],
 "metadata": {
  "kernelspec": {
   "display_name": "Python 3 (ipykernel)",
   "language": "python",
   "name": "python3"
  },
  "language_info": {
   "codemirror_mode": {
    "name": "ipython",
    "version": 3
   },
   "file_extension": ".py",
   "mimetype": "text/x-python",
   "name": "python",
   "nbconvert_exporter": "python",
   "pygments_lexer": "ipython3",
   "version": "3.10.9"
  }
 },
 "nbformat": 4,
 "nbformat_minor": 5
}
