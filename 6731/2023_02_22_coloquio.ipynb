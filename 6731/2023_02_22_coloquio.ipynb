{
 "cells": [
  {
   "cell_type": "code",
   "execution_count": 2,
   "metadata": {
    "slideshow": {
     "slide_type": "skip"
    }
   },
   "outputs": [],
   "source": [
    "# -*- coding: utf-8 -*-\n",
    "%matplotlib notebook\n",
    "import numpy as np\n",
    "import matplotlib.pyplot as plt\n",
    "import ht\n",
    "import CoolProp as cp\n",
    "import fluids\n",
    "from IPython.display import Latex\n",
    "from scipy.optimize import brentq\n"
   ]
  },
  {
   "cell_type": "markdown",
   "metadata": {},
   "source": [
    "Un purificador de agua simple consiste en un recipiente a presión que se llena parcialmente con agua no potable, como se muestra en la figura. Un elemento calentador de cobre pulido se encuentra sumergido en el agua y causa evaporación. El calentador tiene un largo $L_{htr}=8$cm de largo y $W=10$cm de ancho (en la dirección normal a la hoja). \n",
    "\n",
    "[<img src=\"purificador.png\" width=\"350\"/>](purificador.png)\n",
    "\n",
    "Una placa fría se fija a un lado del recipiente y se enfría a una temperatura uniforme de $T_{s,cp}=40ºC$. El vapor de agua condensa sobre la placa fría y se colecta como agua potable. El largo de la placa fría es de $L_{cp}=4$cm y su ancho es $W=10$cm. \n",
    "\n",
    "Ignore el efecto del aire no condensable en el recipiente.\n",
    "\n",
    "     1. Determine el calor que debe entregarse al evaporador para poder recoger 3 kilogramos de agua por hora. Considere condiciones estacionarias.\n",
    "    2. Determinar la temperatura del elemento calentador.\n",
    "    3. Estimar el flujo crítico de calor y comparar con el flujo de calor que se entrega.\n",
    "\n"
   ]
  },
  {
   "cell_type": "code",
   "execution_count": 3,
   "metadata": {},
   "outputs": [],
   "source": [
    "Tsat = cp.CoolProp.PropsSI('T','P',101.3e3,'Q',1,'Water')\n"
   ]
  },
  {
   "cell_type": "code",
   "execution_count": 40,
   "metadata": {
    "slideshow": {
     "slide_type": "slide"
    }
   },
   "outputs": [
    {
     "name": "stdout",
     "output_type": "stream",
     "text": [
      "masa de condensado: 3.22 kg/hr\n"
     ]
    }
   ],
   "source": [
    "fluid1 = 'Water'\n",
    "Tw_cond = 40+273\n",
    "L_cond = 4e-2\n",
    "W_cond = 10e-2\n",
    "L_eb = 8e-2\n",
    "W_eb=10e-2\n",
    "A_cond = L_cond*W_cond\n",
    "A_eb = L_eb*W_eb\n",
    "#m_cond = 3\n",
    "masa_vapor_ref = 3.\n",
    "#Q_eb = 4e3\n",
    "#psat = 601e3\n",
    "#psat = 88.3e3\n",
    "psat=101.3e3  #primera iteracion\n",
    "Tsat = cp.CoolProp.PropsSI('T','P',psat,'Q',1,'Water')\n",
    "Tref = (Tsat + Tw_cond)/2\n",
    "rho_v = cp.CoolProp.PropsSI('D','T',Tsat,'Q',1,fluid1)\n",
    "rho_l = cp.CoolProp.PropsSI('D','T',Tref,'Q',0,fluid1)\n",
    "cp_l = cp.CoolProp.PropsSI('C','T',Tref,'Q',1,fluid1)\n",
    "\n",
    "h_1_v = cp.CoolProp.PropsSI('H','T',Tsat,'Q',1,fluid1)\n",
    "h_1_l = cp.CoolProp.PropsSI('H','T',Tsat,'Q',0,fluid1)\n",
    "kl = cp.CoolProp.PropsSI('CONDUCTIVITY','T',Tref,'Q',0,fluid1)\n",
    "mul = cp.CoolProp.PropsSI('VISCOSITY','T',Tref,'Q',0,fluid1)\n",
    "\n",
    "hfg_1 = (h_1_v-h_1_l)\n",
    "\n",
    "\n",
    "hcond =ht.condensation.Nusselt_laminar(Tsat,Tw_cond,rho_v,rho_l,kl,mul,hfg_1,L_cond)\n",
    "\n",
    "Qcond = hcond*L_cond*W_cond*(Tsat-Tw_cond)\n",
    "mvap = Qcond/hfg_1\n",
    "print('masa de condensado: %.2f kg/hr'%(mvap*3600))\n",
    "\n",
    "\n",
    "def condicion_condensado(psat):\n",
    "    masavapor = 3.\n",
    "    Tsat = cp.CoolProp.PropsSI('T','P',psat,'Q',1,'Water')\n",
    "    Tref = (Tsat + Tw_cond)/2\n",
    "    rho_v = cp.CoolProp.PropsSI('D','T',Tsat,'Q',1,fluid1)\n",
    "    rho_l = cp.CoolProp.PropsSI('D','T',Tref,'Q',0,fluid1)\n",
    "    cp_l = cp.CoolProp.PropsSI('C','T',Tref,'Q',1,fluid1)\n",
    "\n",
    "    h_1_v = cp.CoolProp.PropsSI('H','T',Tsat,'Q',1,fluid1)\n",
    "    h_1_l = cp.CoolProp.PropsSI('H','T',Tsat,'Q',0,fluid1)\n",
    "    kl = cp.CoolProp.PropsSI('CONDUCTIVITY','T',Tref,'Q',0,fluid1)\n",
    "    mul = cp.CoolProp.PropsSI('VISCOSITY','T',Tref,'Q',0,fluid1)\n",
    "\n",
    "    hfg_1 = (h_1_v-h_1_l)\n",
    "\n",
    "\n",
    "    hcond =ht.condensation.Nusselt_laminar(Tsat,Tw_cond,rho_v,rho_l,kl,mul,hfg_1,L_cond)\n",
    "\n",
    "    Qcond = hcond*L_cond*W_cond*(Tsat-Tw_cond)\n",
    "    mvap = Qcond/hfg_1\n",
    "    return (mvap*3600-masavapor)\n"
   ]
  },
  {
   "cell_type": "code",
   "execution_count": 41,
   "metadata": {},
   "outputs": [
    {
     "data": {
      "text/plain": [
       "2015.5432927674353"
      ]
     },
     "execution_count": 41,
     "metadata": {},
     "output_type": "execute_result"
    }
   ],
   "source": [
    "Qcond"
   ]
  },
  {
   "cell_type": "code",
   "execution_count": 42,
   "metadata": {},
   "outputs": [
    {
     "data": {
      "text/latex": [
       "masa de condensado: 3.00 kg/hr"
      ],
      "text/plain": [
       "<IPython.core.display.Latex object>"
      ]
     },
     "metadata": {},
     "output_type": "display_data"
    },
    {
     "data": {
      "text/latex": [
       "presion de saturacion: 86.48kPa"
      ],
      "text/plain": [
       "<IPython.core.display.Latex object>"
      ]
     },
     "metadata": {},
     "output_type": "display_data"
    },
    {
     "data": {
      "text/latex": [
       "Temp de saturacion: 96ºC"
      ],
      "text/plain": [
       "<IPython.core.display.Latex object>"
      ]
     },
     "metadata": {},
     "output_type": "display_data"
    }
   ],
   "source": [
    "psat = brentq(condicion_condensado,60e3,700e3)\n",
    "Tsat = cp.CoolProp.PropsSI('T','P',psat,'Q',1,'Water')\n",
    "Tref = (Tsat + Tw_cond)/2\n",
    "rho_v = cp.CoolProp.PropsSI('D','T',Tsat,'Q',1,fluid1)\n",
    "rho_l = cp.CoolProp.PropsSI('D','T',Tref,'Q',0,fluid1)\n",
    "cp_l = cp.CoolProp.PropsSI('C','T',Tref,'Q',1,fluid1)\n",
    "\n",
    "h_1_v = cp.CoolProp.PropsSI('H','T',Tsat,'Q',1,fluid1)\n",
    "h_1_l = cp.CoolProp.PropsSI('H','T',Tsat,'Q',0,fluid1)\n",
    "kl = cp.CoolProp.PropsSI('CONDUCTIVITY','T',Tref,'Q',0,fluid1)\n",
    "mul = cp.CoolProp.PropsSI('VISCOSITY','T',Tref,'Q',0,fluid1)\n",
    "sigma_l = cp.CoolProp.PropsSI('SURFACE_TENSION','T',Tref,'Q',0,fluid1)\n",
    "hfg_1 = (h_1_v-h_1_l)\n",
    "\n",
    "\n",
    "hcond = ht.condensation.Nusselt_laminar(Tsat,Tw_cond,rho_v,rho_l,kl,mul,hfg_1,L_cond)\n",
    "\n",
    "Qcond = hcond*A_cond*(Tsat-Tw_cond)\n",
    "Qeb = Qcond\n",
    "mvap = Qcond/hfg_1\n",
    "display(Latex('masa de condensado: %.2f kg/hr'%(mvap*3600)))\n",
    "display(Latex(f'presion de saturacion: {psat/1e3:.2f}kPa'))\n",
    "display(Latex(f'Temp de saturacion: {Tsat-273:.0f}ºC'))"
   ]
  },
  {
   "cell_type": "code",
   "execution_count": 43,
   "metadata": {},
   "outputs": [],
   "source": [
    "Tw_eb = Tsat+42.5\n",
    "Tref = (Tsat + Tw_eb)/2\n",
    "rho_v = cp.CoolProp.PropsSI('D','T',Tsat,'Q',1,fluid1)\n",
    "rho_l = cp.CoolProp.PropsSI('D','T',Tref,'Q',0,fluid1)\n",
    "cp_l = cp.CoolProp.PropsSI('C','T',Tref,'Q',1,fluid1)\n",
    "\n",
    "h_1_v = cp.CoolProp.PropsSI('H','T',Tsat,'Q',1,fluid1)\n",
    "h_1_l = cp.CoolProp.PropsSI('H','T',Tsat,'Q',0,fluid1)\n",
    "kl = cp.CoolProp.PropsSI('CONDUCTIVITY','T',Tref,'Q',0,fluid1)\n",
    "mul = cp.CoolProp.PropsSI('VISCOSITY','T',Tref,'Q',0,fluid1)\n",
    "sigma_l = cp.CoolProp.PropsSI('SURFACE_TENSION','T',Tref,'Q',0,fluid1)\n",
    "hfg = h_1_v-h_1_l"
   ]
  },
  {
   "cell_type": "code",
   "execution_count": 44,
   "metadata": {},
   "outputs": [],
   "source": [
    "Nu = hcond*L_cond/kl\n",
    "Nu\n",
    "g = 9.8\n",
    "delta_cond = L_cond/Nu"
   ]
  },
  {
   "cell_type": "code",
   "execution_count": null,
   "metadata": {},
   "outputs": [],
   "source": []
  },
  {
   "cell_type": "code",
   "execution_count": 45,
   "metadata": {},
   "outputs": [],
   "source": [
    "h_eb = ht.boiling_nucleic.Rohsenow(rho_l,rho_v,mul,kl,cp_l,Tw_eb,hfg,sigma_l)\n",
    "Qeb = h_eb*A_eb*(Tw_eb-Tsat)\n",
    "mvap_eb = Qeb/hfg"
   ]
  },
  {
   "cell_type": "code",
   "execution_count": 46,
   "metadata": {},
   "outputs": [
    {
     "data": {
      "text/plain": [
       "2.8677198997709166"
      ]
     },
     "execution_count": 46,
     "metadata": {},
     "output_type": "execute_result"
    }
   ],
   "source": [
    "deltaT_eb_h = Qeb / A_eb / h_eb\n",
    "mvap_eb*3600"
   ]
  },
  {
   "cell_type": "code",
   "execution_count": 47,
   "metadata": {},
   "outputs": [],
   "source": [
    "def condicion_ebullicion(Tw_eb):\n",
    "    \n",
    "    Tref = (Tsat + Tw_eb)/2\n",
    "    Te = Tw_eb - Tsat\n",
    "    rho_v = cp.CoolProp.PropsSI('D','T',Tsat,'Q',1,fluid1)\n",
    "    rho_l = cp.CoolProp.PropsSI('D','T',Tref,'Q',0,fluid1)\n",
    "    cp_l = cp.CoolProp.PropsSI('C','T',Tref,'Q',1,fluid1)\n",
    "\n",
    "    h_1_v = cp.CoolProp.PropsSI('H','T',Tsat,'Q',1,fluid1)\n",
    "    h_1_l = cp.CoolProp.PropsSI('H','T',Tsat,'Q',0,fluid1)\n",
    "    kl = cp.CoolProp.PropsSI('CONDUCTIVITY','T',Tref,'Q',0,fluid1)\n",
    "    mul = cp.CoolProp.PropsSI('VISCOSITY','T',Tref,'Q',0,fluid1)\n",
    "    sigma_l = cp.CoolProp.PropsSI('SURFACE_TENSION','T',Tref,'Q',0,fluid1)\n",
    "    hfg = h_1_v-h_1_l\n",
    "    h_eb = ht.boiling_nucleic.Rohsenow(rho_l,rho_v,mul,kl,cp_l,Tw_eb,hfg,sigma_l,Te)\n",
    "    Qeb = h_eb*A_eb*(Tw_eb-Tsat)\n",
    "    mvap = Qeb/hfg\n",
    "    return (mvap*3600-masa_vapor_ref)\n",
    "def data_ebullicion(Tw_eb):\n",
    "    Tref = (Tsat + Tw_eb)/2\n",
    "    Te = Tw_eb - Tsat\n",
    "    rho_v = cp.CoolProp.PropsSI('D','T',Tsat,'Q',1,fluid1)\n",
    "    rho_l = cp.CoolProp.PropsSI('D','T',Tref,'Q',0,fluid1)\n",
    "    cp_l = cp.CoolProp.PropsSI('C','T',Tref,'Q',1,fluid1)\n",
    "\n",
    "    h_1_v = cp.CoolProp.PropsSI('H','T',Tsat,'Q',1,fluid1)\n",
    "    h_1_l = cp.CoolProp.PropsSI('H','T',Tsat,'Q',0,fluid1)\n",
    "    kl = cp.CoolProp.PropsSI('CONDUCTIVITY','T',Tref,'Q',0,fluid1)\n",
    "    mul = cp.CoolProp.PropsSI('VISCOSITY','T',Tref,'Q',0,fluid1)\n",
    "    sigma_l = cp.CoolProp.PropsSI('SURFACE_TENSION','T',Tref,'Q',0,fluid1)\n",
    "    hfg = h_1_v-h_1_l\n",
    "    h_eb = ht.boiling_nucleic.Rohsenow(rho_l,rho_v,mul,kl,cp_l,Tw_eb,hfg,sigma_l,Te)\n",
    "    Qeb = h_eb*A_eb*(Tw_eb-Tsat)\n",
    "    mvap = Qeb/hfg\n",
    "    return mvap/3600 -3\n",
    "\n",
    "\n",
    "def out_ebullicion(Tw_eb):\n",
    "    Tref = (Tsat + Tw_eb)/2\n",
    "    Te = Tw_eb - Tsat\n",
    "    rho_v = cp.CoolProp.PropsSI('D','T',Tsat,'Q',1,fluid1)\n",
    "    rho_l = cp.CoolProp.PropsSI('D','T',Tref,'Q',0,fluid1)\n",
    "    cp_l = cp.CoolProp.PropsSI('C','T',Tref,'Q',1,fluid1)\n",
    "\n",
    "    h_1_v = cp.CoolProp.PropsSI('H','T',Tsat,'Q',1,fluid1)\n",
    "    h_1_l = cp.CoolProp.PropsSI('H','T',Tsat,'Q',0,fluid1)\n",
    "    kl = cp.CoolProp.PropsSI('CONDUCTIVITY','T',Tref,'Q',0,fluid1)\n",
    "    mul = cp.CoolProp.PropsSI('VISCOSITY','T',Tref,'Q',0,fluid1)\n",
    "    sigma_l = cp.CoolProp.PropsSI('SURFACE_TENSION','T',Tref,'Q',0,fluid1)\n",
    "    hfg = h_1_v-h_1_l\n",
    "    h_eb = ht.boiling_nucleic.Rohsenow(rho_l,rho_v,mul,kl,cp_l,Tw_eb,hfg,sigma_l,Te)\n",
    "    Qeb = h_eb*A_eb*(Tw_eb-Tsat)\n",
    "    mvap = Qeb/hfg\n",
    "    return mvap,Qeb, Tw_eb"
   ]
  },
  {
   "cell_type": "code",
   "execution_count": 48,
   "metadata": {},
   "outputs": [
    {
     "data": {
      "text/latex": [
       "Temp de pared en ebullicion: 140ºC"
      ],
      "text/plain": [
       "<IPython.core.display.Latex object>"
      ]
     },
     "metadata": {},
     "output_type": "display_data"
    },
    {
     "data": {
      "text/latex": [
       "Salto Temp de pared: 44ºC"
      ],
      "text/plain": [
       "<IPython.core.display.Latex object>"
      ]
     },
     "metadata": {},
     "output_type": "display_data"
    },
    {
     "data": {
      "text/latex": [
       "Flujo de Calor: 1.9kW"
      ],
      "text/plain": [
       "<IPython.core.display.Latex object>"
      ]
     },
     "metadata": {},
     "output_type": "display_data"
    },
    {
     "data": {
      "text/latex": [
       "masa vapor: 3.0kg/h"
      ],
      "text/plain": [
       "<IPython.core.display.Latex object>"
      ]
     },
     "metadata": {},
     "output_type": "display_data"
    }
   ],
   "source": [
    "Tw_eb  = brentq(condicion_ebullicion,Tsat+10,Tsat+70)\n",
    "mvap,Qeb, Tw_eb = out_ebullicion(Tw_eb)\n",
    "display(Latex(f'Temp de pared en ebullicion: {Tw_eb-273:.0f}ºC'))\n",
    "display(Latex(f'Salto Temp de pared: {Tw_eb-Tsat:.0f}ºC'))\n",
    "\n",
    "display(Latex(f'Flujo de Calor: {Qeb/1e3:.1f}kW'))\n",
    "display(Latex(f'masa vapor: {mvap*3600:.1f}kg/h'))"
   ]
  },
  {
   "cell_type": "code",
   "execution_count": 54,
   "metadata": {},
   "outputs": [
    {
     "data": {
      "text/plain": [
       "(1889.9764189089121, 1889.9764189088658)"
      ]
     },
     "execution_count": 54,
     "metadata": {},
     "output_type": "execute_result"
    }
   ],
   "source": [
    "Qcond,Qeb"
   ]
  },
  {
   "cell_type": "code",
   "execution_count": 55,
   "metadata": {},
   "outputs": [
    {
     "data": {
      "text/latex": [
       "Flujo Máximo de Calor: 25kW"
      ],
      "text/plain": [
       "<IPython.core.display.Latex object>"
      ]
     },
     "metadata": {},
     "output_type": "display_data"
    }
   ],
   "source": [
    "L_cap = (sigma_l/(rho_l-rho_v)*g)**0.5\n",
    "\n",
    "Cmax = 0.15*12*np.pi*L_cap**2/A_eb\n",
    "\n",
    "L_a = L_eb/L_cap\n",
    "\n",
    "qmax = Cmax*hfg*(sigma_l*rho_v**2*(rho_l-rho_v)*g)**(1/4)\n",
    "Qmax = qmax*A_eb\n",
    "display(Latex(f'Flujo Máximo de Calor: {Qmax/1e3:.0f}kW'))"
   ]
  },
  {
   "cell_type": "code",
   "execution_count": 56,
   "metadata": {},
   "outputs": [
    {
     "data": {
      "text/plain": [
       "3.1590338505834556"
      ]
     },
     "execution_count": 56,
     "metadata": {},
     "output_type": "execute_result"
    }
   ],
   "source": [
    "qmax/1e6"
   ]
  },
  {
   "cell_type": "code",
   "execution_count": 52,
   "metadata": {},
   "outputs": [
    {
     "data": {
      "text/plain": [
       "0.2362470523636082"
      ]
     },
     "execution_count": 52,
     "metadata": {},
     "output_type": "execute_result"
    }
   ],
   "source": [
    "q_eb = Qeb/A_eb\n",
    "q_eb/1e6"
   ]
  },
  {
   "cell_type": "code",
   "execution_count": null,
   "metadata": {},
   "outputs": [],
   "source": []
  }
 ],
 "metadata": {
  "anaconda-cloud": {},
  "celltoolbar": "Slideshow",
  "kernelspec": {
   "display_name": "Python 3 (ipykernel)",
   "language": "python",
   "name": "python3"
  },
  "language_info": {
   "codemirror_mode": {
    "name": "ipython",
    "version": 3
   },
   "file_extension": ".py",
   "mimetype": "text/x-python",
   "name": "python",
   "nbconvert_exporter": "python",
   "pygments_lexer": "ipython3",
   "version": "3.12.7"
  }
 },
 "nbformat": 4,
 "nbformat_minor": 4
}
