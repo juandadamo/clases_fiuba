{
 "cells": [
  {
   "cell_type": "code",
   "execution_count": 12,
   "id": "5741a92b-cbc8-4f09-94a4-ffe8ac78c8cf",
   "metadata": {
    "tags": []
   },
   "outputs": [],
   "source": [
    "import ht \n",
    "import matplotlib.pyplot as plt\n",
    "import numpy as np\n",
    "from IPython.display import Latex"
   ]
  },
  {
   "cell_type": "markdown",
   "id": "1dffc9b3-65a8-4eb7-aced-337aa89f413c",
   "metadata": {},
   "source": [
    "- **Longitud del lado del cubo (D):** 1 metro\n",
    "- **Temperatura de la pared (\\(T_w\\)):** 600 °C (convertir a Kelvin si es necesario)\n",
    "- **Temperatura del gas (\\(T_g\\)):** 1,400 °C (convertir a Kelvin si es necesario)\n",
    "- **Emisividad de la pared (\\(e_w\\)):** 0.9\n"
   ]
  },
  {
   "cell_type": "code",
   "execution_count": 23,
   "id": "dced4664-8e80-46d8-acb5-702d48e32f21",
   "metadata": {
    "tags": []
   },
   "outputs": [
    {
     "name": "stdout",
     "output_type": "stream",
     "text": [
      "Longitud del lado del cubo: 1 m\n",
      "Temperatura de la pared: 600 °C (873.15 K)\n",
      "Temperatura del gas: 1400 °C (1673.15 K)\n",
      "Emisividad de la pared: 0.9\n"
     ]
    }
   ],
   "source": [
    "sigma = 5.670374419e-8  # Constante de Stefan-Boltzmann [W/m²K⁴]\n",
    "# Dimensiones y propiedades iniciales\n",
    "longitud_lado_cubo = 1  # en metros\n",
    "Area_cubo = longitud_lado_cubo**2*6\n",
    "temperatura_pared_C = 600  # en grados Celsius\n",
    "temperatura_gas_C = 1400  # en grados Celsius\n",
    "emisividad_pared = 0.9\n",
    "\n",
    "# Conversión de temperaturas a Kelvin\n",
    "temperatura_pared_K = temperatura_pared_C + 273.15\n",
    "temperatura_gas_K = temperatura_gas_C + 273.15\n",
    "\n",
    "#\n",
    "m_H2O = 0.11\n",
    "m_CO2 = 0.10\n",
    "p_total = 101.3e3\n",
    "p_H2O = p_total*m_H2O\n",
    "p_CO2 = p_total*m_CO2\n",
    "\n",
    "# Mostrar las variables\n",
    "print(f\"Longitud del lado del cubo: {longitud_lado_cubo} m\")\n",
    "print(f\"Temperatura de la pared: {temperatura_pared_C} °C ({temperatura_pared_K} K)\")\n",
    "print(f\"Temperatura del gas: {temperatura_gas_C} °C ({temperatura_gas_K} K)\")\n",
    "print(f\"Emisividad de la pared: {emisividad_pared}\")\n"
   ]
  },
  {
   "cell_type": "code",
   "execution_count": 24,
   "id": "0aaa4bf8-d3b6-4690-be63-22775005885e",
   "metadata": {
    "tags": []
   },
   "outputs": [
    {
     "data": {
      "text/plain": [
       "(0.066, 0.06)"
      ]
     },
     "execution_count": 24,
     "metadata": {},
     "output_type": "execute_result"
    }
   ],
   "source": [
    "s_eq = 0.9*4*longitud_lado_cubo**3/(longitud_lado_cubo**2*6)\n",
    "\n",
    "pCO2_seq = p_CO2*s_eq/101.3e3\n",
    "pH2O_seq = p_H2O*s_eq/101.3e3\n",
    "\n",
    "pH2O_seq,pCO2_seq"
   ]
  },
  {
   "cell_type": "code",
   "execution_count": 25,
   "id": "6aae52ae-5433-4550-82c6-ab0a627bc5d4",
   "metadata": {
    "tags": []
   },
   "outputs": [],
   "source": [
    "eps_CO2 = 0.063\n",
    "eps_H2O = 0.055\n",
    "delta_eps = 0.005\n"
   ]
  },
  {
   "cell_type": "code",
   "execution_count": 31,
   "id": "8bb1bc48-3792-4e8b-8fcf-3b65fffe675d",
   "metadata": {
    "tags": []
   },
   "outputs": [
    {
     "data": {
      "text/latex": [
       "$\\varepsilon_{gas} = 0.11 $"
      ],
      "text/plain": [
       "<IPython.core.display.Latex object>"
      ]
     },
     "metadata": {},
     "output_type": "display_data"
    },
    {
     "data": {
      "text/latex": [
       "Calor Intercambiado $Q_W = 293.2 $kW"
      ],
      "text/plain": [
       "<IPython.core.display.Latex object>"
      ]
     },
     "metadata": {},
     "output_type": "display_data"
    }
   ],
   "source": [
    "eps_gas = eps_CO2 + eps_H2O - delta_eps\n",
    "alpha_gas = (temperatura_gas_K/temperatura_pared_K)**0.65*eps_gas\n",
    "display (Latex(f'$\\\\varepsilon_{{gas}} = {eps_gas:.2f} $'))\n",
    "\n",
    "\n",
    "Q_w = Area_cubo*sigma*(temperatura_gas_K**4*eps_gas-temperatura_pared_K**4*alpha_gas)/(1-(1-emisividad_pared)*(1-eps_gas))\n",
    "display (Latex(f'Calor Intercambiado $Q_W = {Q_w*1e-3:.1f} $kW'))"
   ]
  },
  {
   "attachments": {
    "885b5326-c5a6-414f-bcd7-ed38a707edaf.png": {
     "image/png": "[encoded data removed]"
    }
   },
   "cell_type": "markdown",
   "id": "3dd2aadf-0d77-441e-8423-7f19c62325a4",
   "metadata": {},
   "source": [
    "![image.png](attachment:885b5326-c5a6-414f-bcd7-ed38a707edaf.png)"
   ]
  },
  {
   "cell_type": "code",
   "execution_count": null,
   "id": "a613d950-4368-49d0-9478-674a5635796f",
   "metadata": {},
   "outputs": [],
   "source": []
  },
  {
   "cell_type": "code",
   "execution_count": null,
   "id": "a1f2472d-da8e-4059-b5d7-3a7fe6ab59ab",
   "metadata": {},
   "outputs": [],
   "source": []
  },
  {
   "cell_type": "code",
   "execution_count": null,
   "id": "ab187dc3-db02-451d-8a1c-e2642533cecc",
   "metadata": {},
   "outputs": [],
   "source": []
  },
  {
   "cell_type": "code",
   "execution_count": null,
   "id": "70300420-96eb-4cb4-839c-0155c67e8432",
   "metadata": {},
   "outputs": [],
   "source": []
  },
  {
   "cell_type": "code",
   "execution_count": 4,
   "id": "be2f4147-3ddc-41b5-b188-d18c5c367f5a",
   "metadata": {},
   "outputs": [
    {
     "name": "stdout",
     "output_type": "stream",
     "text": [
      "Longitud del lado del cubo: 1 meter\n",
      "Temperatura de la pared: 600 degree_Celsius (873.15 kelvin)\n",
      "Temperatura del gas: 1400 degree_Celsius (1673.15 kelvin)\n",
      "Emisividad de la pared: 0.9\n"
     ]
    }
   ],
   "source": [
    "# Importar Pint y crear un registro de unidades\n",
    "from pint import UnitRegistry\n",
    "\n",
    "ureg = UnitRegistry()\n",
    "Q_ = ureg.Quantity  # Para simplificar la creación de cantidades\n",
    "\n",
    "# Dimensiones y propiedades iniciales con unidades\n",
    "longitud_lado_cubo = Q_(1, \"meter\")  # Longitud del lado del cubo\n",
    "temperatura_pared = Q_(600, \"degC\")  # Temperatura de la pared\n",
    "temperatura_gas = Q_(1400, \"degC\")   # Temperatura del gas\n",
    "emisividad_pared = 0.9  # Sin unidades\n",
    "\n",
    "# Convertir temperaturas a Kelvin\n",
    "temperatura_pared_K = temperatura_pared.to(\"kelvin\")\n",
    "temperatura_gas_K = temperatura_gas.to(\"kelvin\")\n",
    "\n",
    "# Mostrar las variables con sus unidades\n",
    "print(f\"Longitud del lado del cubo: {longitud_lado_cubo}\")\n",
    "print(f\"Temperatura de la pared: {temperatura_pared} ({temperatura_pared_K})\")\n",
    "print(f\"Temperatura del gas: {temperatura_gas} ({temperatura_gas_K})\")\n",
    "print(f\"Emisividad de la pared: {emisividad_pared}\")\n"
   ]
  },
  {
   "cell_type": "code",
   "execution_count": null,
   "id": "6c043356-a3e2-40fc-9399-04a0f5bad2eb",
   "metadata": {},
   "outputs": [],
   "source": []
  }
 ],
 "metadata": {
  "kernelspec": {
   "display_name": "Python 3 (ipykernel)",
   "language": "python",
   "name": "python3"
  },
  "language_info": {
   "codemirror_mode": {
    "name": "ipython",
    "version": 3
   },
   "file_extension": ".py",
   "mimetype": "text/x-python",
   "name": "python",
   "nbconvert_exporter": "python",
   "pygments_lexer": "ipython3",
   "version": "3.12.7"
  }
 },
 "nbformat": 4,
 "nbformat_minor": 5
}
