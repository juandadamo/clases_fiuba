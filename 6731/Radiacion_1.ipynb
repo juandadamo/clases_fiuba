{
 "cells": [
  {
   "cell_type": "code",
   "execution_count": 1,
   "id": "36056cfa",
   "metadata": {},
   "outputs": [],
   "source": [
    "import numpy as np\n",
    "import ht , pint\n",
    "import scipy.constants as spc\n",
    "ureg = pint.UnitRegistry()"
   ]
  },
  {
   "cell_type": "code",
   "execution_count": 2,
   "id": "e24c421d",
   "metadata": {},
   "outputs": [],
   "source": [
    "k_w = 147 * ureg.watt / ureg.m  /ureg.K\n",
    "T_1 = (800 + 273)*ureg.K\n",
    "D = 3e-3 * ureg.m\n",
    "L = 200 * ureg.mm\n",
    "Potencia = 20*ureg.watt\n",
    "T_camara = (20+273)*ureg.K\n",
    "sigma = spc.sigma*ureg.watt*ureg.m**-2*ureg.K**-4"
   ]
  },
  {
   "cell_type": "code",
   "execution_count": 5,
   "id": "0c8390cb",
   "metadata": {},
   "outputs": [
    {
     "data": {
      "text/plain": [
       "0.14195138862572082"
      ]
     },
     "execution_count": 5,
     "metadata": {},
     "output_type": "execute_result"
    }
   ],
   "source": [
    "Area = np.pi * D*L \n",
    "epsilon =  (Potencia / (T_1**4-T_camara**4)/sigma / Area)\n",
    "epsilon.ito_reduced_units()\n",
    "epsilon.magnitude"
   ]
  },
  {
   "cell_type": "code",
   "execution_count": 4,
   "id": "6f9ce955",
   "metadata": {},
   "outputs": [
    {
     "data": {
      "text/html": [
       "5.670374419×10<sup>-8</sup> watt/(kelvin<sup>4</sup> meter<sup>2</sup>)"
      ],
      "text/latex": [
       "$5.670374419\\times 10^{-8}\\ \\frac{\\mathrm{watt}}{\\left(\\mathrm{kelvin}^{4} \\cdot \\mathrm{meter}^{2}\\right)}$"
      ],
      "text/plain": [
       "5.670374419e-08 <Unit('watt / kelvin ** 4 / meter ** 2')>"
      ]
     },
     "execution_count": 4,
     "metadata": {},
     "output_type": "execute_result"
    }
   ],
   "source": []
  },
  {
   "cell_type": "code",
   "execution_count": 71,
   "id": "a43c8ee7",
   "metadata": {},
   "outputs": [
    {
     "data": {
      "text/plain": [
       "0.14195138862572082"
      ]
     },
     "execution_count": 71,
     "metadata": {},
     "output_type": "execute_result"
    }
   ],
   "source": []
  },
  {
   "cell_type": "code",
   "execution_count": 23,
   "id": "a0e78460",
   "metadata": {},
   "outputs": [],
   "source": []
  },
  {
   "cell_type": "code",
   "execution_count": null,
   "id": "90f28c5a",
   "metadata": {},
   "outputs": [],
   "source": []
  }
 ],
 "metadata": {
  "kernelspec": {
   "display_name": "Python 3",
   "language": "python",
   "name": "python3"
  },
  "language_info": {
   "codemirror_mode": {
    "name": "ipython",
    "version": 3
   },
   "file_extension": ".py",
   "mimetype": "text/x-python",
   "name": "python",
   "nbconvert_exporter": "python",
   "pygments_lexer": "ipython3",
   "version": "3.8.8"
  },
  "latex_envs": {
   "LaTeX_envs_menu_present": true,
   "autoclose": true,
   "autocomplete": true,
   "bibliofile": "biblio.bib",
   "cite_by": "apalike",
   "current_citInitial": 1,
   "eqLabelWithNumbers": true,
   "eqNumInitial": 1,
   "hotkeys": {
    "equation": "Ctrl-E",
    "itemize": "Ctrl-I"
   },
   "labels_anchors": false,
   "latex_user_defs": false,
   "report_style_numbering": false,
   "user_envs_cfg": false
  }
 },
 "nbformat": 4,
 "nbformat_minor": 5
}
