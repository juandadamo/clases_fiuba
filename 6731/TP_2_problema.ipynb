{
 "cells": [
  {
   "cell_type": "code",
   "execution_count": 1,
   "metadata": {
    "_kg_hide-input": true,
    "_kg_hide-output": true,
    "hide_input": true,
    "slideshow": {
     "slide_type": "skip"
    }
   },
   "outputs": [],
   "source": [
    "#%matplotlib notebook\n",
    "import numpy as np\n",
    "import matplotlib.pyplot as plt\n",
    "import ht,fluids,pint\n",
    "import CoolProp as cp\n",
    "from IPython.display import  Latex, Image\n",
    "ureg = pint.UnitRegistry()\n",
    "plt.rcParams[\"font.size\"] = \"20\""
   ]
  },
  {
   "cell_type": "markdown",
   "metadata": {
    "cell_style": "center",
    "slideshow": {
     "slide_type": "slide"
    }
   },
   "source": [
    "Una barra de área transversal uniforme $A_c=0.1$ m$^2$ y perímetro $per=0.05$ m se coloca en vacío.\n",
    "\n",
    "Su longitud es de $0.09$ m y su superficie externa puede considerarse adiabática. Durante un tiempo prolongado se transfiere calor en un extremo de la barra, $\\dot q(x=0)=100$ watt. El otro extremo se mantiene a una temperatura constante $T(x=L)=20^\\circ$C. El material tiene una densidad de $\\rho=5000$ kg/m$^3$, capacidad calorífica C_p=500J/kg K y conductividad $k=5$ W/m K.\n",
    "En estas condiciones, estacionarias, se produce un cambio. para el instante, $t=0$, el calor $\\dot q (x=0,t=0)= 0$ watt.\n",
    "\n",
    "¿Qué tiempo aproximado le lleva a la barra a responder ante el cambio de condiciones de transferencia?\n",
    "Realice un gráfico para la distribución de temperaturas para $t=0$, $t=\\infty$ y para $t=1$ hora."
   ]
  },
  {
   "cell_type": "code",
   "execution_count": 1,
   "metadata": {
    "hide_input": true
   },
   "outputs": [],
   "source": [
    "#%matplotlib notebook\n",
    "import numpy as np\n",
    "import matplotlib.pyplot as plt\n",
    "import ht,fluids,pint\n",
    "import CoolProp as cp\n",
    "from IPython.display import  Latex, Image\n",
    "ureg = pint.UnitRegistry()\n",
    "plt.rcParams[\"font.size\"] = \"20\""
   ]
  },
  {
   "cell_type": "code",
   "execution_count": 19,
   "metadata": {
    "cell_style": "center",
    "slideshow": {
     "slide_type": "slide"
    }
   },
   "outputs": [],
   "source": [
    "A_c = 0.1*ureg.m**2\n",
    "per = 0.05*ureg.m\n",
    "L = 0.09*ureg.m\n",
    "T_L = (20 + 273)*ureg.K\n",
    "q = (100)*ureg.watt\n",
    "rho = 5000*ureg.kg/ureg.m**3\n",
    "C_p = 500*ureg.joule/ureg.kilogram/ureg.kelvin\n",
    "k = 5*ureg.watt/ureg.meter/ureg.kelvin \n",
    "q_0 = 0*ureg.watt"
   ]
  },
  {
   "cell_type": "code",
   "execution_count": 37,
   "metadata": {},
   "outputs": [
    {
     "data": {
      "text/latex": [
       "Tiempo difusivo: $T(x=0,t=0) =$ 1.85 degree_Celsius"
      ],
      "text/plain": [
       "<IPython.core.display.Latex object>"
      ]
     },
     "metadata": {},
     "output_type": "display_data"
    }
   ],
   "source": [
    "T0 = -q *L / (A_c*k)+T_L\n",
    "display(Latex(f\"Tiempo difusivo: $T(x=0,t=0) =$ {T0.to('degreeC'):.2f}\"))"
   ]
  },
  {
   "cell_type": "code",
   "execution_count": 28,
   "metadata": {},
   "outputs": [
    {
     "data": {
      "text/html": [
       "37.85000000000002 degree_Celsius"
      ],
      "text/latex": [
       "$37.85000000000002\\ \\mathrm{degree\\_Celsius}$"
      ],
      "text/plain": [
       "37.85000000000002 <Unit('degree_Celsius')>"
      ]
     },
     "execution_count": 28,
     "metadata": {},
     "output_type": "execute_result"
    }
   ],
   "source": []
  },
  {
   "cell_type": "code",
   "execution_count": 18,
   "metadata": {},
   "outputs": [
    {
     "data": {
      "text/latex": [
       "Tiempo difusivo: $\tau_d =$ 4050.00 second"
      ],
      "text/plain": [
       "<IPython.core.display.Latex object>"
      ]
     },
     "metadata": {},
     "output_type": "display_data"
    }
   ],
   "source": [
    "a = k / rho / C_p\n",
    "\n",
    "t_difusivo = (L**2/a)\n",
    "display(Latex(f'Tiempo difusivo: $\\tau_d =$ {t_difusivo.to_base_units():.2f}'))"
   ]
  },
  {
   "cell_type": "code",
   "execution_count": null,
   "metadata": {},
   "outputs": [],
   "source": []
  },
  {
   "cell_type": "code",
   "execution_count": 22,
   "metadata": {
    "hide_input": false,
    "slideshow": {
     "slide_type": "subslide"
    }
   },
   "outputs": [
    {
     "data": {
      "text/latex": [
       "Resistencia térmica metal: 2.97e-04 K / W"
      ],
      "text/plain": [
       "<IPython.core.display.Latex object>"
      ]
     },
     "metadata": {},
     "output_type": "display_data"
    },
    {
     "data": {
      "text/latex": [
       "Resistencia térmica suelo: 0.26 K / W"
      ],
      "text/plain": [
       "<IPython.core.display.Latex object>"
      ]
     },
     "metadata": {},
     "output_type": "display_data"
    },
    {
     "data": {
      "text/latex": [
       "Resistencia térmica convección: 0.01 K / W"
      ],
      "text/plain": [
       "<IPython.core.display.Latex object>"
      ]
     },
     "metadata": {},
     "output_type": "display_data"
    },
    {
     "data": {
      "text/latex": [
       "Resistencia térmica total: 0.29 K / W"
      ],
      "text/plain": [
       "<IPython.core.display.Latex object>"
      ]
     },
     "metadata": {},
     "output_type": "display_data"
    }
   ],
   "source": [
    "display(Latex(f'Resistencia térmica metal: {R_T_cond_metal:~.2e}'))\n",
    "display(Latex(f'Resistencia térmica suelo: {R_T_suelo:~.2f}'))\n",
    "display(Latex(f'Resistencia térmica convección: {R_T_conveccion:~.2f}'))\n",
    "\n",
    "R_T_total = 2*(R_T_cond_metal+R_T_conveccion)+R_T_suelo\n",
    "display(Latex(f'Resistencia térmica total: {R_T_total:~.2f}'))\n"
   ]
  },
  {
   "cell_type": "code",
   "execution_count": 23,
   "metadata": {
    "slideshow": {
     "slide_type": "slide"
    }
   },
   "outputs": [
    {
     "data": {
      "text/latex": [
       "Calor transferido, $\\dot Q =137.36 W$"
      ],
      "text/plain": [
       "<IPython.core.display.Latex object>"
      ]
     },
     "metadata": {},
     "output_type": "display_data"
    }
   ],
   "source": [
    "Q = (Ta_c-Ta_f)/R_T_total\n",
    "display (Latex(f\"Calor transferido, $\\dot Q ={Q:~.2f}$\"))"
   ]
  },
  {
   "cell_type": "code",
   "execution_count": 24,
   "metadata": {
    "slideshow": {
     "slide_type": "slide"
    }
   },
   "outputs": [
    {
     "data": {
      "text/latex": [
       "S aproximado: 4.50 m"
      ],
      "text/plain": [
       "<IPython.core.display.Latex object>"
      ]
     },
     "metadata": {},
     "output_type": "display_data"
    },
    {
     "data": {
      "text/latex": [
       "S calculado: 12.64 m"
      ],
      "text/plain": [
       "<IPython.core.display.Latex object>"
      ]
     },
     "metadata": {},
     "output_type": "display_data"
    }
   ],
   "source": [
    "#Aproximacion de S\n",
    "\n",
    "S_approx = Do*L_c / (dist_c-Do)\n",
    "display(Latex(f'S aproximado: {S_approx:~.2f}'))\n",
    "display(Latex(f'S calculado: {S:~.2f}'))"
   ]
  },
  {
   "cell_type": "code",
   "execution_count": 25,
   "metadata": {
    "slideshow": {
     "slide_type": "skip"
    }
   },
   "outputs": [],
   "source": [
    "def resist_termica(dist_c_i):\n",
    "    S = ht.conduction.S_isothermal_pipe_to_isothermal_pipe(Do, Do, dist_c_i, L_c)\n",
    "    R_T_suelo = 1/(k_s*S)\n",
    "    R_T_conveccion = 1 / (h_w*np.pi*L_c*Di)\n",
    "    R_T_cond_metal = (k_acerog * np.pi*2*L_c/np.log(Do/Di))**-1\n",
    "    R_T_total = 2*(R_T_cond_metal+R_T_conveccion)+R_T_suelo\n",
    "    return R_T_total"
   ]
  },
  {
   "cell_type": "code",
   "execution_count": 26,
   "metadata": {
    "hide_input": true,
    "slideshow": {
     "slide_type": "skip"
    }
   },
   "outputs": [],
   "source": [
    "def resist_termica(dist_c):\n",
    "    S = ht.conduction.S_isothermal_pipe_to_isothermal_pipe(Do, Do, dist_c, L_c)\n",
    "    R_T_suelo = 1/(k_s*S)\n",
    "    R_T_conveccion = 1 / (h_w*np.pi*L_c*Di)\n",
    "    R_T_cond_metal = (k_acerog * np.pi*2*L_c/np.log(Do/Di))**-1\n",
    "    R_T_total = 2*(R_T_cond_metal+R_T_conveccion)+R_T_suelo\n",
    "    return R_T_total"
   ]
  },
  {
   "cell_type": "code",
   "execution_count": 27,
   "metadata": {
    "cell_style": "split",
    "hide_input": false,
    "slideshow": {
     "slide_type": "slide"
    }
   },
   "outputs": [],
   "source": [
    "#Gráfico en funcion de dist_c\n",
    "distancias = np.linspace(1.5*Do,10*Do,50)\n",
    "Q_i0 = Q\n",
    "Q_i = np.zeros_like(distancias)*ureg.watt\n",
    "for i,dist_c_i in enumerate(distancias):\n",
    "    R_t = resist_termica(dist_c_i)\n",
    "    Q_i[i] = (Ta_c-Ta_f)/R_t    "
   ]
  },
  {
   "cell_type": "code",
   "execution_count": 29,
   "metadata": {
    "cell_style": "split",
    "hide_input": true,
    "slideshow": {
     "slide_type": "fragment"
    }
   },
   "outputs": [
    {
     "data": {
      "image/png": "[encoded data removed]",
      "text/plain": [
       "<Figure size 504x504 with 1 Axes>"
      ]
     },
     "metadata": {
      "needs_background": "light"
     },
     "output_type": "display_data"
    }
   ],
   "source": [
    "fig0,ax0 = plt.subplots(figsize=(7,7))\n",
    "ax0.plot(distancias.magnitude/Do.magnitude,Q_i.magnitude/Q_i0.magnitude,'s-',markerfacecolor='None',markersize=10);\n",
    "ax0.set_xlabel('$dist_C / D_o$',fontsize=20);\n",
    "ax0.set_ylabel('$Q / Q_0$',fontsize=20);"
   ]
  },
  {
   "cell_type": "code",
   "execution_count": null,
   "metadata": {
    "hide_input": true
   },
   "outputs": [],
   "source": []
  }
 ],
 "metadata": {
  "celltoolbar": "Slideshow",
  "kernelspec": {
   "display_name": "Python 3",
   "language": "python",
   "name": "python3"
  },
  "language_info": {
   "codemirror_mode": {
    "name": "ipython",
    "version": 3
   },
   "file_extension": ".py",
   "mimetype": "text/x-python",
   "name": "python",
   "nbconvert_exporter": "python",
   "pygments_lexer": "ipython3",
   "version": "3.8.8"
  },
  "latex_envs": {
   "LaTeX_envs_menu_present": true,
   "autoclose": false,
   "autocomplete": true,
   "bibliofile": "biblio.bib",
   "cite_by": "apalike",
   "current_citInitial": 1,
   "eqLabelWithNumbers": true,
   "eqNumInitial": 1,
   "hotkeys": {
    "equation": "Ctrl-E",
    "itemize": "Ctrl-I"
   },
   "labels_anchors": false,
   "latex_user_defs": false,
   "report_style_numbering": false,
   "user_envs_cfg": false
  }
 },
 "nbformat": 4,
 "nbformat_minor": 4
}
