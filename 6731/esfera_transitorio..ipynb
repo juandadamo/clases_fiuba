{
 "cells": [
  {
   "cell_type": "code",
   "execution_count": 1,
   "id": "59c422d2",
   "metadata": {
    "slideshow": {
     "slide_type": "skip"
    }
   },
   "outputs": [],
   "source": [
    "%%capture\n",
    "!pip install sympy matplotlib numpy scipy IPython itikz "
   ]
  },
  {
   "cell_type": "code",
   "execution_count": 2,
   "id": "08ddca5f",
   "metadata": {},
   "outputs": [],
   "source": [
    "#%load_ext itikz\n",
    "%matplotlib widget"
   ]
  },
  {
   "cell_type": "code",
   "execution_count": 3,
   "id": "af40f854",
   "metadata": {
    "slideshow": {
     "slide_type": "skip"
    }
   },
   "outputs": [],
   "source": [
    "import sympy as sp\n",
    "import matplotlib.pyplot as plt\n",
    "import numpy as np\n",
    "import ht\n",
    "import CoolProp as cp\n",
    "from IPython.display import Latex\n",
    "\n",
    "\n",
    "from IPython.display import display, Math,Latex\n",
    "def round_expr(expr, num_digits):\n",
    "    return expr.xreplace({n : round(n, num_digits) for n in expr.atoms(sp.Number)})\n",
    "\n",
    "def h(a,D):\n",
    "    return 40*(a/0.005)**0.4*(D/0.01)**-0.3\n",
    "\n",
    "def num_aletas(a,W,D):\n",
    "    N = np.floor((W/(a+D))**2)\n",
    "    return N\n",
    "\n",
    "def area_perimetro(a,D):\n",
    "    p = np.pi*D\n",
    "    At = np.pi*D**2/4\n",
    "    return At,p\n",
    "\n",
    "def beta (a,D,k):\n",
    "    A_transversal,p = area_perimetro(a,D)\n",
    "    \n",
    "    beta = np.sqrt(h(a,D)*p/(k*A_transversal))\n",
    "    \n",
    "    return beta\n",
    "    \n",
    "def eta(betaL):\n",
    "    return np.tanh(betaL)/betaL\n",
    "\n",
    "    "
   ]
  },
  {
   "cell_type": "code",
   "execution_count": 4,
   "id": "4c40d35d-ec30-491c-abdc-2b1b3fdef62c",
   "metadata": {},
   "outputs": [
    {
     "data": {
      "text/plain": [
       "0.9556197289354292"
      ]
     },
     "execution_count": 4,
     "metadata": {},
     "output_type": "execute_result"
    }
   ],
   "source": [
    "eta(5*10*7.5e-3)"
   ]
  },
  {
   "cell_type": "code",
   "execution_count": 5,
   "id": "82b39bb9",
   "metadata": {},
   "outputs": [],
   "source": [
    "#datos\n",
    "g = 9.8\n",
    "D = 30e-3\n",
    "rho_e = 400\n",
    "C_e = 1600\n",
    "k_e = 1.7\n",
    "\n",
    "beta_a = 7e-4\n",
    "rho_a = 825\n",
    "C_a = 2337\n",
    "k_a = 0.134\n",
    "mu_a = 8.7e-3\n",
    "nu_a = mu_a/rho_a\n",
    "DT = 280\n",
    "Ti = 800\n",
    "Tf = 415\n",
    "Ta = 320\n",
    "Ts = 415\n",
    "\n",
    "a_a = k_a / (rho_a*C_a)\n",
    "Pr_a = nu_a/a_a"
   ]
  },
  {
   "cell_type": "code",
   "execution_count": 12,
   "id": "165f546c-b508-4984-99ef-0542699efc92",
   "metadata": {},
   "outputs": [
    {
     "data": {
      "text/latex": [
       "$Ra_D = 7.08e+07$"
      ],
      "text/plain": [
       "<IPython.core.display.Latex object>"
      ]
     },
     "metadata": {},
     "output_type": "display_data"
    }
   ],
   "source": [
    "Ra_D = DT*g*D**3*beta_a/(a_a*nu_a)\n",
    "Gr_D = Ra_D/Pr_a\n",
    "display(Latex(f'$Ra_D = {Ra_D:.3g}$'))"
   ]
  },
  {
   "cell_type": "code",
   "execution_count": 15,
   "id": "e0db4a0b-21bd-4446-b7b0-ff3a43e71074",
   "metadata": {},
   "outputs": [
    {
     "data": {
      "text/latex": [
       "$Nu_D = 63.6$"
      ],
      "text/plain": [
       "<IPython.core.display.Latex object>"
      ]
     },
     "metadata": {},
     "output_type": "display_data"
    },
    {
     "data": {
      "text/latex": [
       "$Nu_D = 63.6$"
      ],
      "text/plain": [
       "<IPython.core.display.Latex object>"
      ]
     },
     "metadata": {},
     "output_type": "display_data"
    },
    {
     "data": {
      "text/latex": [
       "$h_D = 284.1$"
      ],
      "text/plain": [
       "<IPython.core.display.Latex object>"
      ]
     },
     "metadata": {},
     "output_type": "display_data"
    }
   ],
   "source": [
    "Nu_D = ht.conv_free_immersed.Nu_sphere_Churchill(Pr_a,Gr_D)\n",
    "display(Latex(f'$Nu_D = {Nu_D:.1f}$'))\n",
    "\n",
    "h_D = Nu_D*k_a/D\n",
    "display(Latex(f'$Nu_D = {Nu_D:.1f}$'))\n",
    "display(Latex(f'$h_D = {h_D:.1f}$'))"
   ]
  },
  {
   "cell_type": "code",
   "execution_count": 20,
   "id": "df706c0e-823f-4f33-9d41-c41b10235589",
   "metadata": {},
   "outputs": [
    {
     "data": {
      "text/latex": [
       "$\\tau = 3237.4$"
      ],
      "text/plain": [
       "<IPython.core.display.Latex object>"
      ]
     },
     "metadata": {},
     "output_type": "display_data"
    },
    {
     "data": {
      "text/latex": [
       "$Bi = 2.5$"
      ],
      "text/plain": [
       "<IPython.core.display.Latex object>"
      ]
     },
     "metadata": {},
     "output_type": "display_data"
    }
   ],
   "source": [
    "tau = D**2/4/a_a\n",
    "display(Latex(f'$\\\\tau = {tau:.1f}$'))\n",
    "Bi  = h_D*D/(k_e*2)\n",
    "display(Latex(f'$Bi = {Bi:.1f}$'))"
   ]
  },
  {
   "cell_type": "code",
   "execution_count": null,
   "id": "37b01f7c-779f-4e21-b9c4-75ffb6654703",
   "metadata": {},
   "outputs": [],
   "source": [
    "A1 = 1.5\n",
    "lambda1 = 5\n",
    "B1 = 0.6\n",
    "phi = 1-A1*"
   ]
  },
  {
   "cell_type": "code",
   "execution_count": 21,
   "id": "8c010eb1-0acd-4ded-ade2-b6a637ed3b11",
   "metadata": {},
   "outputs": [
    {
     "data": {
      "text/plain": [
       "0.0625"
      ]
     },
     "execution_count": 21,
     "metadata": {},
     "output_type": "execute_result"
    }
   ],
   "source": [
    "1/16"
   ]
  },
  {
   "cell_type": "code",
   "execution_count": null,
   "id": "30206ce6-6e03-41a2-a54c-ef0a5ce81bcd",
   "metadata": {},
   "outputs": [],
   "source": []
  }
 ],
 "metadata": {
  "celltoolbar": "Slideshow",
  "kernelspec": {
   "display_name": "Python 3 (ipykernel)",
   "language": "python",
   "name": "python3"
  },
  "language_info": {
   "codemirror_mode": {
    "name": "ipython",
    "version": 3
   },
   "file_extension": ".py",
   "mimetype": "text/x-python",
   "name": "python",
   "nbconvert_exporter": "python",
   "pygments_lexer": "ipython3",
   "version": "3.10.9"
  },
  "latex_envs": {
   "LaTeX_envs_menu_present": true,
   "autoclose": true,
   "autocomplete": true,
   "bibliofile": "biblio.bib",
   "cite_by": "apalike",
   "current_citInitial": 1,
   "eqLabelWithNumbers": true,
   "eqNumInitial": 1,
   "hotkeys": {
    "equation": "Ctrl-E",
    "itemize": "Ctrl-I"
   },
   "labels_anchors": false,
   "latex_user_defs": false,
   "report_style_numbering": false,
   "user_envs_cfg": false
  },
  "toc-showtags": false
 },
 "nbformat": 4,
 "nbformat_minor": 5
}
