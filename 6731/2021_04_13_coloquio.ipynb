{
 "cells": [
  {
   "cell_type": "code",
   "execution_count": 2,
   "metadata": {
    "slideshow": {
     "slide_type": "skip"
    },
    "tags": []
   },
   "outputs": [],
   "source": [
    "# -*- coding: utf-8 -*-\n",
    "%matplotlib notebook\n",
    "import numpy as np\n",
    "import matplotlib.pyplot as plt\n",
    "import ht\n",
    "import CoolProp as cp\n",
    "import fluids"
   ]
  },
  {
   "cell_type": "markdown",
   "metadata": {
    "slideshow": {
     "slide_type": "slide"
    }
   },
   "source": [
    "#### EJERCICIO PRACTICO\n",
    "Un intercambiador de calor de casco y tubos (condensador), se utiliza para condensar vapor saturado de amoníaco que ingresa por la carcasa a 50°C. El fluido de enfriamiento es agua que ingresa por los tubos a una temperatura de 20°C. La transferencia de calor es de 200kW. Considerando un coeficiente global de transmisión de 1000W/m$^2$ K. Se pide determinar:\n",
    "\n",
    "    1) La masa de vapor condensado, si el calor latente de cambio de estado es de 1051kJ/kg.\n",
    "    2) El área para lograr una efectividad del intercambiador de calor del 60 por ciento con una temperatura del agua de salida de 40°C.\n",
    "    3) ¿Qué porcentaje de reducción en la transferencia de calor resultaría si el flujo de agua se reduce a la mitad mientras se mantiene el área del intercambiador de calor y U iguales?."
   ]
  },
  {
   "cell_type": "code",
   "execution_count": 3,
   "metadata": {
    "slideshow": {
     "slide_type": "slide"
    },
    "tags": []
   },
   "outputs": [
    {
     "name": "stdout",
     "output_type": "stream",
     "text": [
      "masa de condensado: 0.19 kg/s\n"
     ]
    }
   ],
   "source": [
    "fluid1,fluid2 = ['Ammonia','Water']\n",
    "T1_in = 50\n",
    "T2_in = 20\n",
    "g = 9.8\n",
    "Q = 200e3\n",
    "U = 1000\n",
    "Tw = (T1_in+T2_in)/2\n",
    "L  = 1\n",
    "D = 25.4e-3\n",
    "Ntubos = 30\n",
    "\n",
    "Area_tubo = L*D*np.pi\n",
    "Area_total = Area_tubo*Ntubos\n",
    "Psat = cp.CoolProp.PropsSI('P','T',50+273,'Q',1,fluid1)\n",
    "rho_1v = cp.CoolProp.PropsSI('D','T',50+273,'Q',1,fluid1)\n",
    "rho_1l = cp.CoolProp.PropsSI('D','T',50+273,'Q',0,fluid1)\n",
    "k_1l = cp.CoolProp.PropsSI('L','T',50+273,'Q',0,fluid1)\n",
    "mu_1l = cp.CoolProp.PropsSI('V','T',50+273,'Q',0,fluid1)\n",
    "cp_1 = cp.CoolProp.PropsSI('C','T',50+273,'Q',1,fluid1)\n",
    "\n",
    "h_1_v = cp.CoolProp.PropsSI('H','T',50+273,'Q',1,fluid1)\n",
    "h_1_l = cp.CoolProp.PropsSI('H','T',50+273,'Q',0,fluid1)\n",
    "hfg_1 = (h_1_v-h_1_l)\n",
    "m_1 = Q / hfg_1\n",
    "print('masa de condensado: %.2f kg/s'%(m_1))"
   ]
  },
  {
   "cell_type": "code",
   "execution_count": 4,
   "metadata": {
    "tags": []
   },
   "outputs": [
    {
     "data": {
      "text/plain": [
       "2.3938936020354222"
      ]
     },
     "execution_count": 4,
     "metadata": {},
     "output_type": "execute_result"
    }
   ],
   "source": [
    "Area_total"
   ]
  },
  {
   "cell_type": "code",
   "execution_count": null,
   "metadata": {},
   "outputs": [],
   "source": []
  },
  {
   "cell_type": "code",
   "execution_count": 9,
   "metadata": {
    "tags": []
   },
   "outputs": [
    {
     "data": {
      "text/plain": [
       "6365.604896629942"
      ]
     },
     "execution_count": 9,
     "metadata": {},
     "output_type": "execute_result"
    }
   ],
   "source": [
    "h_D\n"
   ]
  },
  {
   "cell_type": "code",
   "execution_count": 25,
   "metadata": {
    "tags": []
   },
   "outputs": [],
   "source": [
    "hcond = ht.condensation.Nusselt_laminar(T1_in,Tw,rho_1v,rho_1l,k_1l,mu_1l,hfg_1,D)\n",
    "\n",
    "Qcond  = hcond*Area_total*(T1_in-Tw)"
   ]
  },
  {
   "cell_type": "code",
   "execution_count": 26,
   "metadata": {
    "tags": []
   },
   "outputs": [
    {
     "data": {
      "text/plain": [
       "(295668.8980121843, 228578.7125269166)"
      ]
     },
     "execution_count": 26,
     "metadata": {},
     "output_type": "execute_result"
    }
   ],
   "source": [
    "#NuD = 0.728*(rho_1l*(rho_1l-rho_1v)*ge*hfg_1*D**3/(mu_1l*k_1l*(T1_in-Tw)))**(1/4)\n",
    "\n",
    "h_D = 0.729*(rho_1l*(rho_1l-rho_1v)*g*hfg_1*k_1l**3/(mu_1l*D*(T1_in-Tw)))**(1/4)\n",
    "Qcond2  = h_D*Area_total*(T1_in-Tw)\n",
    "Qcond,Qcond2"
   ]
  },
  {
   "cell_type": "code",
   "execution_count": 41,
   "metadata": {
    "slideshow": {
     "slide_type": "slide"
    },
    "tags": []
   },
   "outputs": [],
   "source": [
    "T2_out = 40\n",
    "eps = 0.6\n",
    "T2_m = (T2_out+T2_in)/2\n",
    "DeltaT_2 = (T2_out-T2_in)\n",
    "rho_2 = cp.CoolProp.PropsSI('D','T',T2_m+273,'Q',1,fluid2)\n",
    "cp_2 = cp.CoolProp.PropsSI('C','T',T2_m+273,'Q',1,fluid2)\n",
    "\n",
    "m_2 = Q / (cp_2*(DeltaT_2))\n",
    "Cmin = m_2*cp_2"
   ]
  },
  {
   "cell_type": "code",
   "execution_count": 42,
   "metadata": {
    "tags": []
   },
   "outputs": [
    {
     "data": {
      "text/plain": [
       "10000.0"
      ]
     },
     "execution_count": 42,
     "metadata": {},
     "output_type": "execute_result"
    }
   ],
   "source": [
    "Cmin"
   ]
  },
  {
   "cell_type": "code",
   "execution_count": 43,
   "metadata": {
    "tags": []
   },
   "outputs": [],
   "source": [
    "Qmax = Q/eps\n",
    "\n",
    "Cmin  = Qmax/(T1_in-T2_in)\n"
   ]
  },
  {
   "cell_type": "code",
   "execution_count": 44,
   "metadata": {
    "tags": []
   },
   "outputs": [
    {
     "data": {
      "text/plain": [
       "11111.111111111113"
      ]
     },
     "execution_count": 44,
     "metadata": {},
     "output_type": "execute_result"
    }
   ],
   "source": [
    "Cmin"
   ]
  },
  {
   "cell_type": "code",
   "execution_count": 45,
   "metadata": {
    "tags": []
   },
   "outputs": [],
   "source": [
    "NUT = ht.NTU_from_effectiveness(eps, 0, subtype='counterflow')"
   ]
  },
  {
   "cell_type": "code",
   "execution_count": 46,
   "metadata": {
    "slideshow": {
     "slide_type": "slide"
    },
    "tags": []
   },
   "outputs": [
    {
     "name": "stdout",
     "output_type": "stream",
     "text": [
      "Area: 10.18 m2\n"
     ]
    }
   ],
   "source": [
    "NUT = ht.NTU_from_effectiveness(eps, 0, subtype='S&T')\n",
    "UA = NUT*Cmin\n",
    "A = UA/U\n",
    "print('Area: %.2f m2'%A)"
   ]
  },
  {
   "cell_type": "code",
   "execution_count": 40,
   "metadata": {
    "tags": []
   },
   "outputs": [
    {
     "data": {
      "text/plain": [
       "(1.0986122866681098, 0.666666666)"
      ]
     },
     "execution_count": 40,
     "metadata": {},
     "output_type": "execute_result"
    }
   ],
   "source": [
    "NUT,eps"
   ]
  },
  {
   "cell_type": "code",
   "execution_count": 32,
   "metadata": {
    "slideshow": {
     "slide_type": "slide"
    },
    "tags": []
   },
   "outputs": [
    {
     "name": "stdout",
     "output_type": "stream",
     "text": [
      "Calor intercambiado: 133.3 kW\n"
     ]
    }
   ],
   "source": [
    "m_2 = m_2/2\n",
    "Cmin = m_2*cp_2\n",
    "Qmax = Cmin*(T1_in-T2_in)\n",
    "NUT = UA/Cmin\n",
    "eps2 = ht.effectiveness_from_NTU(NUT, 0, subtype='S&T')\n",
    "Q2 = eps2*Qmax\n",
    "print('Calor intercambiado: %.1f kW'%(Q2*1e-3))"
   ]
  },
  {
   "cell_type": "code",
   "execution_count": 22,
   "metadata": {
    "tags": []
   },
   "outputs": [
    {
     "data": {
      "text/plain": [
       "150000.0"
      ]
     },
     "execution_count": 22,
     "metadata": {},
     "output_type": "execute_result"
    }
   ],
   "source": [
    "Qmax"
   ]
  },
  {
   "cell_type": "code",
   "execution_count": 24,
   "metadata": {
    "tags": []
   },
   "outputs": [
    {
     "data": {
      "text/plain": [
       "0.8888888886885806"
      ]
     },
     "execution_count": 24,
     "metadata": {},
     "output_type": "execute_result"
    }
   ],
   "source": [
    "eps2"
   ]
  },
  {
   "cell_type": "code",
   "execution_count": null,
   "metadata": {},
   "outputs": [],
   "source": []
  },
  {
   "cell_type": "code",
   "execution_count": null,
   "metadata": {},
   "outputs": [],
   "source": []
  }
 ],
 "metadata": {
  "anaconda-cloud": {},
  "celltoolbar": "Slideshow",
  "kernelspec": {
   "display_name": "Python 3 (ipykernel)",
   "language": "python",
   "name": "python3"
  },
  "language_info": {
   "codemirror_mode": {
    "name": "ipython",
    "version": 3
   },
   "file_extension": ".py",
   "mimetype": "text/x-python",
   "name": "python",
   "nbconvert_exporter": "python",
   "pygments_lexer": "ipython3",
   "version": "3.12.7"
  }
 },
 "nbformat": 4,
 "nbformat_minor": 4
}
