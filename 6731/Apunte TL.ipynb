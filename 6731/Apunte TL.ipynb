{
 "cells": [
  {
   "cell_type": "markdown",
   "metadata": {},
   "source": [
    "# Apunte Transformadas de Laplace\n",
    "\n",
    "+ Pequeño recordatorio de las transformadas y cómo aplicar la antitransformada utilizando python"
   ]
  },
  {
   "cell_type": "markdown",
   "metadata": {},
   "source": [
    "### Definición\n",
    "\n",
    "La Transformada de Laplace es una herramienta matemática que permite transformar funciones definidas en el dominio del tiempo $t$ hacian el dominio de las frecuencias complejas $p$. Esto facilita el análisis y la resolución de ecuaciones diferenciales.\n",
    "\n",
    "Entonces la expresión de la Transformada de Laplace de una función $f_{(t)}$ se expresa como:\n",
    "$$\n",
    "\\mathcal{L}\\left\\{f_{(t)}\\cdot H_{(t)}\\right\\}=F_{(p)}=\\int_{-\\infty}^{+\\infty} f_{(t)}H_{(t)}e^{-pt}dt\n",
    "$$\n",
    "\n",
    "\n",
    "La función escalón de Heaviside, $H_{(t)}$ representa un cambio repentino en el tiempo, de esta manera se describe cuando la función deja de ser nula. Se define como:\n",
    "\n",
    "$$\n",
    "H_{(t)}=\\begin{cases} 0, \\; t<0 \\\\ 1, \\; t\\geq 0\\end{cases}\n",
    "$$"
   ]
  },
  {
   "cell_type": "code",
   "execution_count": 1,
   "metadata": {
    "tags": []
   },
   "outputs": [
    {
     "data": {
      "image/png": "[encoded data removed]",
      "text/plain": [
       "<Figure size 640x480 with 1 Axes>"
      ]
     },
     "metadata": {},
     "output_type": "display_data"
    }
   ],
   "source": [
    "# Grafico de función de Heaviside\n",
    "import numpy as np\n",
    "import matplotlib.pyplot as plt\n",
    "\n",
    "def h(t):\n",
    "    return 1 if t >= 0 else 0\n",
    "\n",
    "t = np.linspace(-1, 1, 1000)\n",
    "h = np.vectorize(h)\n",
    "plt.plot(t, h(t))\n",
    "plt.title('Función de Heaviside')\n",
    "plt.xlabel('t')\n",
    "plt.ylabel('h(t)')\n",
    "plt.grid()\n",
    "plt.show()\n"
   ]
  },
  {
   "cell_type": "markdown",
   "metadata": {},
   "source": [
    "## Transformadas Elementales\n",
    "\n",
    "1) **Heaviside**\n",
    "\n",
    "$$\n",
    "f_{(t)}=H_{(t)} \\implies \\mathcal{L}\\left\\{\\right\\}=\\frac{1}{p}\n",
    "$$\n",
    "\n",
    "2) **Exponenciales**\n",
    "\n",
    "$$\n",
    "f_{(t)}=e^{at}H_{(t)} \\implies \\mathcal{L}\\left\\{\\right\\}=\\frac{1}{p-a}\n",
    "$$\n",
    "$$\n",
    "f_{(t)}=e^{-at}H_{(t)} \\implies \\mathcal{L}\\left\\{\\right\\}=\\frac{1}{p+a}\n",
    "$$\n",
    "$$\n",
    "f_{(t)}=e^{iat}H_{(t)} \\implies \\mathcal{L}\\left\\{\\right\\}=\\frac{1}{p-ia}\n",
    "$$\n",
    "$$\n",
    "f_{(t)}=e^{-iat}H_{(t)} \\implies \\mathcal{L}\\left\\{\\right\\}=\\frac{1}{p+ia}\n",
    "$$\n",
    "\n",
    "3) **Trigonométricas**\n",
    "\n",
    "$$\n",
    "f_{(t)}=sen(at)H_{(t)} \\implies \\mathcal{L}\\left\\{\\right\\}=\\frac{a}{p^2+a^2}\n",
    "$$\n",
    "$$\n",
    "f_{(t)}=cos(at)H_{(t)} \\implies \\mathcal{L}\\left\\{\\right\\}=\\frac{p}{p^2+a^2}\n",
    "$$\n",
    "\n",
    "4) **Polinómicas**\n",
    "\n",
    "$$\n",
    "f_{(t)}=t^{n}H_{(t)} \\implies \\mathcal{L}\\left\\{\\right\\}=\\frac{n!}{p^{n+1}}\n",
    "$$\n",
    "\n",
    "## Propiedades\n",
    "\n",
    "+ Derivada de la original\n",
    "\n",
    "$$\\mathcal{L}\\left\\{ f_{(t)}^{(n)}\\right\\}=p^{n}F_{p}-\\sum_{i=1}^{n}p^{n-i}\\:F_{(0+)}^{(i-1)}$$"
   ]
  },
  {
   "cell_type": "code",
   "execution_count": 2,
   "metadata": {
    "tags": []
   },
   "outputs": [
    {
     "data": {
      "text/latex": [
       "$\\displaystyle \\mathcal{L}^{-1}\\left\\{F(s)\\right\\} = \\sin{\\left(t \\right)} \\theta\\left(t\\right)$"
      ],
      "text/plain": [
       "<IPython.core.display.Math object>"
      ]
     },
     "metadata": {},
     "output_type": "display_data"
    }
   ],
   "source": [
    "#Calculo de la antitransformada de Laplace\n",
    "import sympy as sp\n",
    "from sympy.integrals.transforms import inverse_laplace_transform\n",
    "from IPython.display import display, Math\n",
    "\n",
    "#Defino las letras s y t como símbolos\n",
    "s, t = sp.symbols('s t')\n",
    "#Función de ejemplo F(S)\n",
    "F = 1/(s**2+1)\n",
    "\n",
    "#Calculo la antitransformada de Laplace\n",
    "f = inverse_laplace_transform(F, s, t)\n",
    "\n",
    "#Muestro el resultado\n",
    "display(Math(r'\\mathcal{L}^{-1}\\left\\{F(s)\\right\\} = ' + sp.latex(f)))\n"
   ]
  },
  {
   "cell_type": "code",
   "execution_count": 7,
   "metadata": {
    "tags": []
   },
   "outputs": [
    {
     "data": {
      "text/latex": [
       "$\\displaystyle \\text{Ecuación diferencial original:}$"
      ],
      "text/plain": [
       "<IPython.core.display.Math object>"
      ]
     },
     "metadata": {},
     "output_type": "display_data"
    },
    {
     "data": {
      "text/latex": [
       "$\\displaystyle 5 y{\\left(t \\right)} + \\frac{d}{d t} y{\\left(t \\right)} + \\frac{d^{2}}{d t^{2}} y{\\left(t \\right)} = 2 e^{- t}$"
      ],
      "text/plain": [
       "<IPython.core.display.Math object>"
      ]
     },
     "metadata": {},
     "output_type": "display_data"
    },
    {
     "data": {
      "text/latex": [
       "$\\displaystyle \\text{Ecuación diferencial transformada:}$"
      ],
      "text/plain": [
       "<IPython.core.display.Math object>"
      ]
     },
     "metadata": {},
     "output_type": "display_data"
    },
    {
     "data": {
      "text/latex": [
       "$\\displaystyle s^{2} \\mathcal{L}_{t}\\left[y{\\left(t \\right)}\\right]\\left(s\\right) + s \\mathcal{L}_{t}\\left[y{\\left(t \\right)}\\right]\\left(s\\right) - s y{\\left(0 \\right)} + 5 \\mathcal{L}_{t}\\left[y{\\left(t \\right)}\\right]\\left(s\\right) - y{\\left(0 \\right)} - \\left. \\frac{d}{d t} y{\\left(t \\right)} \\right|_{\\substack{ t=0 }} = \\frac{2}{s + 1}$"
      ],
      "text/plain": [
       "<IPython.core.display.Math object>"
      ]
     },
     "metadata": {},
     "output_type": "display_data"
    },
    {
     "data": {
      "text/latex": [
       "$\\displaystyle \\text{Ahora tenemos una ecuación lineal, despejamos } \\mathcal{L}^{}\\left\\{y(t)\\right\\}$"
      ],
      "text/plain": [
       "<IPython.core.display.Math object>"
      ]
     },
     "metadata": {},
     "output_type": "display_data"
    },
    {
     "data": {
      "text/latex": [
       "$\\displaystyle \\text{Solución de la ecuación transformada:}$"
      ],
      "text/plain": [
       "<IPython.core.display.Math object>"
      ]
     },
     "metadata": {},
     "output_type": "display_data"
    },
    {
     "data": {
      "text/latex": [
       "$\\displaystyle \\mathcal{L}^{}\\left\\{y(t)\\right\\}  = \\frac{s^{2} y{\\left(0 \\right)} + 2 s y{\\left(0 \\right)} + s \\left. \\frac{d}{d t} y{\\left(t \\right)} \\right|_{\\substack{ t=0 }} + y{\\left(0 \\right)} + \\left. \\frac{d}{d t} y{\\left(t \\right)} \\right|_{\\substack{ t=0 }} + 2}{s^{3} + 2 s^{2} + 6 s + 5}$"
      ],
      "text/plain": [
       "<IPython.core.display.Math object>"
      ]
     },
     "metadata": {},
     "output_type": "display_data"
    }
   ],
   "source": [
    "import sympy as sp\n",
    "from IPython.display import display, Math\n",
    "\n",
    "def resolver_ecuacion_diferencial(equacion, mostrar_pasos=True):\n",
    "    # Defino las variables y la función\n",
    "    t, s = sp.symbols('t s')\n",
    "    y = sp.Function('y')(t)\n",
    "    \n",
    "    # Mostrar la ecuación diferencial original\n",
    "    \n",
    "    display(Math(r'\\text{Ecuación diferencial original:}'))\n",
    "    display(Math(sp.latex(equacion)))\n",
    "    \n",
    "    # Aplicar la transformada de Laplace a ambos lados de la ecuación\n",
    "    L_diff = sp.laplace_transform(equacion.lhs, t, s)[0]\n",
    "    R_diff = sp.laplace_transform(equacion.rhs, t, s)[0]\n",
    "    \n",
    "    # Mostrar la ecuación diferencial transformada\n",
    "    if mostrar_pasos:\n",
    "        display(Math(r'\\text{Ecuación diferencial transformada:}'))\n",
    "        display(Math(sp.latex(L_diff) + ' = ' + sp.latex(R_diff)))\n",
    "    \n",
    "    # Resuelvo la ecuación transformada\n",
    "    Y = sp.solve(L_diff - R_diff, sp.laplace_transform(y, t, s))[0]\n",
    "    \n",
    "    # Mostrar la solución de la ecuación transformada\n",
    "    if mostrar_pasos:\n",
    "        display(Math(r'\\text{Ahora tenemos una ecuación lineal, despejamos } \\mathcal{L}^{}\\left\\{y(t)\\right\\}'))\n",
    "        display(Math(r'\\text{Solución de la ecuación transformada:}'))\n",
    "        display(Math(r'\\mathcal{L}^{}\\left\\{y(t)\\right\\}  = ' + sp.latex(Y[0])))\n",
    "    else:\n",
    "        display(Math(r'\\text{Solución de la ecuación transformada:}'))\n",
    "        display(Math(r'\\mathcal{L}^{}\\left\\{y(t)\\right\\}  = ' + sp.latex(Y[0])))\n",
    "    return Y\n",
    "\n",
    "# Ejemplo de uso\n",
    "t, s = sp.symbols('t s')\n",
    "y = sp.Function('y')(t)\n",
    "dy = y.diff(t)\n",
    "ddy=dy.diff(t)\n",
    "diff_eq = sp.Eq(ddy + dy + 5*y, 2*sp.exp(-t))\n",
    "\n",
    "# Llamar a la función con la ecuación diferencial y mostrar los pasos\n",
    "solucion = resolver_ecuacion_diferencial(diff_eq, mostrar_pasos=True)"
   ]
  },
  {
   "cell_type": "code",
   "execution_count": null,
   "metadata": {},
   "outputs": [],
   "source": []
  }
 ],
 "metadata": {
  "kernelspec": {
   "display_name": "Python 3 (ipykernel)",
   "language": "python",
   "name": "python3"
  },
  "language_info": {
   "codemirror_mode": {
    "name": "ipython",
    "version": 3
   },
   "file_extension": ".py",
   "mimetype": "text/x-python",
   "name": "python",
   "nbconvert_exporter": "python",
   "pygments_lexer": "ipython3",
   "version": "3.12.7"
  }
 },
 "nbformat": 4,
 "nbformat_minor": 4
}
