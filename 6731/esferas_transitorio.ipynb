{
 "cells": [
  {
   "cell_type": "code",
   "execution_count": 1,
   "id": "a1775e7d-de14-4ced-93f2-c31ff1126942",
   "metadata": {
    "tags": []
   },
   "outputs": [],
   "source": [
    "import sympy as sp\n",
    "import matplotlib.pyplot as plt\n",
    "import numpy as np\n",
    "from IPython.display import Latex\n",
    "from pint import UnitRegistry\n",
    "ureg = UnitRegistry()\n",
    "from CoolProp import CoolProp as cp\n",
    "import scipy.constants as phys_c \n",
    "import ht, fluids"
   ]
  },
  {
   "cell_type": "code",
   "execution_count": 2,
   "id": "85388f8f-ef97-41e5-a9df-5e77b5da5874",
   "metadata": {
    "tags": []
   },
   "outputs": [],
   "source": [
    "R, p, v, a, Cp, x, θ, T, h, k,ρ = sp .symbols('R p v a Cp x θ T h k ρ')"
   ]
  },
  {
   "cell_type": "code",
   "execution_count": 3,
   "id": "0c3bb842-a9f5-429b-9a9e-88395c5327b9",
   "metadata": {
    "tags": []
   },
   "outputs": [],
   "source": [
    "R = 1*ureg.mm\n",
    "T_i = (273+327)*ureg.degK\n",
    "T_a1 = (20+273)*ureg.degK\n",
    "S = 4*np.pi*R**2"
   ]
  },
  {
   "cell_type": "markdown",
   "id": "9ffdd98e-80ef-4e47-80dd-539f19970655",
   "metadata": {},
   "source": [
    "\n",
    "Propiedades físicas del Plomo: \n",
    " Emisividad $\\varepsilon=0.1$, densidad $\\rho_{Pb}=10.5\\cdot densidaddensidad10^3$kg/m$^3$, calor latente $h_{fg}=23$kJ/kg K, conductividad térmica $\\kappa_{Pb}=16$ watt/m K, difusividad térmica $a_{Pb}=1\\cdot 10^{-5}$m$^2$/s.\n"
   ]
  },
  {
   "cell_type": "code",
   "execution_count": 41,
   "id": "1cdae524-106f-41c9-ad62-3e4c0061131a",
   "metadata": {
    "tags": []
   },
   "outputs": [],
   "source": [
    "g = phys_c.g*ureg.meter/ureg.second**2\n",
    "\n",
    "rho_pb  = 10.5e3*ureg.kilogram/ureg.meter**3\n",
    "em_pb = 0.1\n",
    "hfg_pb = 23e3*ureg.joule/ureg.kilogram\n",
    "k_pb = 16*ureg.watt/ureg.meter/ureg.kelvin\n",
    "a_pb = 1e-5 * ureg.meter**2/ureg.second\n",
    "Tref = (T_i+T_a1)/2\n",
    "rho_a = cp.PropsSI('D','T',Tref.magnitude,'P',101.3e3,'Air')\n",
    "mu_a = cp.PropsSI('V','T',Tref.magnitude,'P',101.3e3,'Air')\n",
    "k_a = cp.PropsSI('L','T',Tref.magnitude,'P',101.3e3,'Air')*ureg.watt/ureg.meter/ureg.kelvin\n",
    "nu_a = mu_a / rho_a * ureg.meter**2/ureg.second\n",
    "Prandtl_a = cp.PropsSI('Prandtl','T',Tref.magnitude,'P',101.3e3,'Air')\n",
    "a_a = nu_a/Prandtl_a  \n",
    "sigma = phys_c.sigma*ureg.watt/ureg.meter**2/ureg.kelvin**4\n",
    "Q_rad1 = 1*sigma*T_i**4*S*em_pb"
   ]
  },
  {
   "cell_type": "code",
   "execution_count": null,
   "id": "8132f510-807d-4308-ac3e-355bdd4abc4e",
   "metadata": {},
   "outputs": [],
   "source": []
  },
  {
   "cell_type": "code",
   "execution_count": 42,
   "id": "cbd26af9-54d5-4e6c-88ef-2204989ad0b7",
   "metadata": {},
   "outputs": [
    {
     "data": {
      "text/html": [
       "0.009234781030685089 kilogram meter<sup>2</sup>/second<sup>3</sup>"
      ],
      "text/latex": [
       "$0.009234781030685089\\ \\frac{\\mathrm{kilogram} \\cdot \\mathrm{meter}^{2}}{\\mathrm{second}^{3}}$"
      ],
      "text/plain": [
       "<Quantity(0.00923478103, 'kilogram * meter ** 2 / second ** 3')>"
      ]
     },
     "execution_count": 42,
     "metadata": {},
     "output_type": "execute_result"
    }
   ],
   "source": [
    "Q_rad1.to_base_units()"
   ]
  },
  {
   "cell_type": "code",
   "execution_count": 43,
   "id": "dbd9a2e8-d4ad-47b5-836e-e8b7216a0db3",
   "metadata": {
    "tags": []
   },
   "outputs": [
    {
     "name": "stdout",
     "output_type": "stream",
     "text": [
      "109.54161566956694 second\n"
     ]
    },
    {
     "data": {
      "text/latex": [
       "$Q_{solid}=1.01 kilogram * meter ** 2 / second ** 2$"
      ],
      "text/plain": [
       "<IPython.core.display.Latex object>"
      ]
     },
     "metadata": {},
     "output_type": "display_data"
    }
   ],
   "source": [
    "#Caso Espacio Exterior\n",
    "#Calor total\n",
    "Q_solid1 = 4/3*np.pi*R**3*hfg_pb*rho_pb\n",
    "tiempo_1 = Q_solid1/Q_rad1\n",
    "print(tiempo_1.to_base_units())\n",
    "display(Latex(f'$Q_{{solid}}={Q_solid1.to_base_units():.2f}$'))"
   ]
  },
  {
   "cell_type": "code",
   "execution_count": null,
   "id": "d769922f-0f9c-4532-8ee7-8eba38a20576",
   "metadata": {},
   "outputs": [],
   "source": []
  },
  {
   "cell_type": "code",
   "execution_count": 44,
   "id": "c5a06606-77c5-43f6-925c-cd6b71289579",
   "metadata": {
    "tags": []
   },
   "outputs": [
    {
     "name": "stdout",
     "output_type": "stream",
     "text": [
      "2333.88856021108 second\n"
     ]
    }
   ],
   "source": [
    "#Caso Estacion espacial\n",
    "# Q_cond = k_a*(T_i-T_a1)/long_dif\n",
    "# long_dif = np.sqrt(a_a*tdif)\n",
    "#Q_cond * tdif  = Q_solid1\n",
    "tdif  = (Q_solid1/ (S*k_a*(T_i-T_a1)/np.sqrt(a_a)))**2\n",
    "print(tdif.to_base_units())"
   ]
  },
  {
   "cell_type": "code",
   "execution_count": 45,
   "id": "548f72f1-7236-4158-ad84-138345f219ab",
   "metadata": {},
   "outputs": [
    {
     "data": {
      "text/html": [
       "0.0004334366480481928 second watt<sup>2</sup>/joule"
      ],
      "text/latex": [
       "$0.0004334366480481928\\ \\frac{\\mathrm{second} \\cdot \\mathrm{watt}^{2}}{\\mathrm{joule}}$"
      ],
      "text/plain": [
       "<Quantity(0.000433436648, 'watt ** 2 * second / joule')>"
      ]
     },
     "execution_count": 45,
     "metadata": {},
     "output_type": "execute_result"
    }
   ],
   "source": [
    "long_dif = np.sqrt(a_a*tdif)\n",
    "Q_cond = S*k_a*(T_i-T_a1)/long_dif\n",
    "Q_cond*tdif*1e-9\n",
    "(Q_cond).to_reduced_units()"
   ]
  },
  {
   "cell_type": "code",
   "execution_count": 46,
   "id": "6e1180ce-cb47-4457-a1f6-2f9136f3701e",
   "metadata": {},
   "outputs": [
    {
     "data": {
      "text/plain": [
       "(<Quantity(1.01159283, 'meter ** 2 * kilogram / second ** 2')>,\n",
       " <Quantity(0.0209394701, 'meter ** 2 * kilogram / second ** 2.5')>)"
      ]
     },
     "execution_count": 46,
     "metadata": {},
     "output_type": "execute_result"
    }
   ],
   "source": [
    "Q_solid1.to_base_units(),(S*k_a*(T_i-T_a1)/np.sqrt(a_a)).to_base_units()"
   ]
  },
  {
   "cell_type": "code",
   "execution_count": 50,
   "id": "ce8550ea-c69a-4c9e-b620-ceb69757c954",
   "metadata": {
    "tags": []
   },
   "outputs": [
    {
     "name": "stdout",
     "output_type": "stream",
     "text": [
      "4.7073931950504235 dimensionless\n"
     ]
    }
   ],
   "source": [
    "Tm = (T_i+T_a1)/2\n",
    "DeltaT = T_i-T_a1\n",
    "Ra_D = R**3/Tm*DeltaT*g/nu_a/a_a\n",
    "Nu_D = Ra_D**(1/4)\n",
    "h_D = Nu_D*k_a/R\n",
    "print(Ra_D.to_base_units())"
   ]
  },
  {
   "cell_type": "code",
   "execution_count": 48,
   "id": "91311b35-e383-4c85-a951-900dcc7f47fe",
   "metadata": {},
   "outputs": [
    {
     "data": {
      "text/plain": [
       "(<Quantity(293, 'kelvin')>, <Quantity(293, 'kelvin')>)"
      ]
     },
     "execution_count": 48,
     "metadata": {},
     "output_type": "execute_result"
    }
   ],
   "source": []
  },
  {
   "cell_type": "code",
   "execution_count": 51,
   "id": "d67e0574-0ea4-4353-a41a-01d112ee3264",
   "metadata": {
    "tags": []
   },
   "outputs": [
    {
     "name": "stdout",
     "output_type": "stream",
     "text": [
      "9.745625726299478 second\n"
     ]
    }
   ],
   "source": [
    "Q_conv_nat = h_D*S/2*DeltaT\n",
    "t_conv_nat = Q_solid1/Q_conv_nat\n",
    "print(t_conv_nat.to_base_units())"
   ]
  },
  {
   "cell_type": "code",
   "execution_count": 53,
   "id": "f77ffc95-f1b8-43c8-b9ae-a6c2f15b2c5d",
   "metadata": {
    "tags": []
   },
   "outputs": [
    {
     "data": {
      "text/plain": [
       "(<Quantity(0.10379968, 'meter ** 2 * kilogram / second ** 3')>,\n",
       " <Quantity(4.7073932e+09, 'millimeter ** 3 / meter ** 3')>)"
      ]
     },
     "execution_count": 53,
     "metadata": {},
     "output_type": "execute_result"
    }
   ],
   "source": [
    "Q_conv_nat.to_base_units(),Ra_D"
   ]
  },
  {
   "cell_type": "code",
   "execution_count": 23,
   "id": "08ad4804-7434-457d-9f56-583873962408",
   "metadata": {
    "tags": []
   },
   "outputs": [
    {
     "data": {
      "text/plain": [
       "(<Quantity(0.11854994283822572, 'meter ** 2 * kilogram / second ** 3')>,\n",
       " <Quantity(2.3763532308927124, 'dimensionless')>)"
      ]
     },
     "execution_count": 23,
     "metadata": {},
     "output_type": "execute_result"
    }
   ],
   "source": [
    "Q_conv_nat.to_base_units(),Nu_D.to_base_units()"
   ]
  },
  {
   "cell_type": "code",
   "execution_count": 24,
   "id": "210e759f-53ee-4282-b779-b5631f99865d",
   "metadata": {
    "tags": []
   },
   "outputs": [],
   "source": [
    "from scipy.optimize import  brentq\n",
    "\n",
    "\n",
    "def Ulim(U):\n",
    "    R1 = R.to_base_units().magnitude\n",
    "    Area_e = 4*np.pi*R1**2\n",
    "    Vol_e = 4/3*np.pi*R1**3\n",
    "    P = Vol_e*rho_pb.to_base_units().magnitude*g.to_base_units().magnitude\n",
    "    Re = U*R1*2/nu_a.to_base_units().magnitude\n",
    "    CD = fluids.drag_sphere(Re)\n",
    "    FD = CD*0.5*rho_a*U**2*Area_e\n",
    "    return FD-P\n",
    "def Nu_sp(Re,Pr):\n",
    "    Nu_D = 2+(0.4*Re**0.5+0.06*Re**(2/3))*Pr**0.4\n",
    "    return Nu_D"
   ]
  },
  {
   "cell_type": "code",
   "execution_count": 32,
   "id": "a2962739-a494-40bf-92d1-3c2ec5e9a1b6",
   "metadata": {},
   "outputs": [
    {
     "data": {
      "text/plain": [
       "0.395884018776819"
      ]
     },
     "execution_count": 32,
     "metadata": {},
     "output_type": "execute_result"
    }
   ],
   "source": [
    "fluids.drag_sphere(3000)"
   ]
  },
  {
   "cell_type": "code",
   "execution_count": 25,
   "id": "8480c2ed-fdc3-4dbe-9a34-639ca28fd7a3",
   "metadata": {
    "tags": []
   },
   "outputs": [
    {
     "data": {
      "text/latex": [
       "time: 0.90sec"
      ],
      "text/plain": [
       "<IPython.core.display.Latex object>"
      ]
     },
     "metadata": {},
     "output_type": "display_data"
    }
   ],
   "source": [
    "U = brentq(Ulim,0.1,30)\n",
    "R1 = R.to_base_units().magnitude\n",
    "Area_e = 4*np.pi*R1**2\n",
    "Vol_e = 4/3*np.pi*R1**3\n",
    "Re = U*R1*2/nu_a.to_base_units().magnitude\n",
    "CD = fluids.drag_sphere(Re)\n",
    "FD = CD*0.5*rho_a*U**2*Area_e\n",
    "Nu_D = Nu_sp(Re,Prandtl_a)\n",
    "h_sp = Nu_D*k_a.to_base_units().magnitude/(R1*2)\n",
    "\n",
    "Q_conv_forced = h_sp*S.to_base_units().magnitude*DeltaT.to_base_units().magnitude\n",
    "\n",
    "t = Q_solid1.to_base_units().magnitude/Q_conv_forced\n",
    "display(Latex(f'time: {t:.2f}sec'))"
   ]
  },
  {
   "cell_type": "code",
   "execution_count": 26,
   "id": "9c7c2397-e9b8-4b5c-b560-8cb6ae761157",
   "metadata": {},
   "outputs": [
    {
     "data": {
      "text/plain": [
       "(0.0004313189943485688, 0.002558711154874779)"
      ]
     },
     "execution_count": 26,
     "metadata": {},
     "output_type": "execute_result"
    }
   ],
   "source": [
    "Vol_e*rho_pb.to_base_units().magnitude*g.to_base_units().magnitude,CD*0.5*rho_a*28**2*Area_e\n",
    "\n"
   ]
  },
  {
   "cell_type": "code",
   "execution_count": 27,
   "id": "01bc17ca-c419-42df-855d-ee17ee1dd9bc",
   "metadata": {
    "tags": []
   },
   "outputs": [
    {
     "data": {
      "text/plain": [
       "40382.443598757505"
      ]
     },
     "execution_count": 27,
     "metadata": {},
     "output_type": "execute_result"
    }
   ],
   "source": [
    "2+(0.4*Re**0.5+0.06*Re**2/3)*Prandtl_a**0.4"
   ]
  },
  {
   "cell_type": "code",
   "execution_count": 28,
   "id": "44b9ec39-7b78-4994-9fc4-3e290ea676dd",
   "metadata": {
    "tags": []
   },
   "outputs": [
    {
     "data": {
      "text/plain": [
       "(0.00043131899434855416, 0.0004313189943485688, 0.002937295968606252)"
      ]
     },
     "execution_count": 28,
     "metadata": {},
     "output_type": "execute_result"
    }
   ],
   "source": [
    "FD,Vol_e*rho_pb.to_base_units().magnitude*g.to_base_units().magnitude,CD*0.5*rho_a*30**2*Area_e"
   ]
  },
  {
   "cell_type": "code",
   "execution_count": 29,
   "id": "973851a5-1e5b-4fcc-b47a-ac5357b86148",
   "metadata": {
    "tags": []
   },
   "outputs": [
    {
     "data": {
      "text/html": [
       "0.009234781030685089 kilogram meter<sup>2</sup>/second<sup>3</sup>"
      ],
      "text/latex": [
       "$0.009234781030685089\\ \\frac{\\mathrm{kilogram} \\cdot \\mathrm{meter}^{2}}{\\mathrm{second}^{3}}$"
      ],
      "text/plain": [
       "<Quantity(0.009234781030685089, 'kilogram * meter ** 2 / second ** 3')>"
      ]
     },
     "execution_count": 29,
     "metadata": {},
     "output_type": "execute_result"
    }
   ],
   "source": [
    "Q_rad1.to_base_units()"
   ]
  },
  {
   "cell_type": "code",
   "execution_count": 39,
   "id": "25d73e63-ba0c-47b6-aa3c-4db15bc5756d",
   "metadata": {
    "tags": []
   },
   "outputs": [
    {
     "data": {
      "text/plain": [
       "1.1228855638739907"
      ]
     },
     "execution_count": 39,
     "metadata": {},
     "output_type": "execute_result"
    }
   ],
   "source": [
    "Q_conv_forced"
   ]
  },
  {
   "cell_type": "code",
   "execution_count": 17,
   "id": "d1790bfa-81af-4669-9816-c98526a8dc27",
   "metadata": {
    "tags": []
   },
   "outputs": [
    {
     "data": {
      "text/plain": [
       "294.11764705882354"
      ]
     },
     "execution_count": 17,
     "metadata": {},
     "output_type": "execute_result"
    }
   ],
   "source": [
    "1/3.4e-3"
   ]
  },
  {
   "cell_type": "code",
   "execution_count": null,
   "id": "2ee75de4-4aa3-4afb-97be-43bba88a46f7",
   "metadata": {},
   "outputs": [],
   "source": []
  },
  {
   "cell_type": "code",
   "execution_count": null,
   "id": "b4ae4386-b1e0-4ed9-a34c-750811843a63",
   "metadata": {},
   "outputs": [],
   "source": []
  },
  {
   "cell_type": "markdown",
   "id": "9b1173d1-a88f-4419-b03f-7bf122135b27",
   "metadata": {},
   "source": [
    "# Radiacion Colector Solar"
   ]
  },
  {
   "cell_type": "code",
   "execution_count": 13,
   "id": "197c4ba3-b2b3-4c79-8298-74bcc593b4ac",
   "metadata": {},
   "outputs": [],
   "source": [
    "#Daros \n",
    "# Irradiacion Pcia Buenos Aires https://sig.energia.gob.ar/visor/visorsig.php\n",
    "I = 6e3  #kwh/día\n",
    "Q = I*ureg.watt/12\n",
    "q = Q/ureg.meter**2\n",
    "\n",
    "S = 2*ureg.meter**2\n",
    "Tref = (100+273)*ureg.kelvin\n",
    "Cp_agua = cp.PropsSI('C','T',Tref.magnitude,'P',101.3e3,'Water')*ureg.joule/ureg.kelvin/ureg.kilogram\n",
    "rho_agua = cp.PropsSI('D','T',Tref.magnitude,'P',101.3e3,'Water')*ureg.kilogram/ureg.meter**3\n",
    "Ti_agua = (20+273)*ureg.kelvin\n",
    "Ts_agua = (80+273)*ureg.kelvin\n",
    "G_agua = S*q/(Ts_agua-Ti_agua)/Cp_agua/rho_agua\n",
    "\n",
    "L = 1*ureg.centimeter\n",
    "Tamb = (30+273)*ureg.kelvin"
   ]
  },
  {
   "cell_type": "code",
   "execution_count": 14,
   "id": "5a904aee-debd-4821-a714-39c4719923f7",
   "metadata": {},
   "outputs": [
    {
     "data": {
      "text/html": [
       "1000.0 watt"
      ],
      "text/latex": [
       "$1000.0\\ \\mathrm{watt}$"
      ],
      "text/plain": [
       "1000.0 <Unit('watt')>"
      ]
     },
     "execution_count": 14,
     "metadata": {},
     "output_type": "execute_result"
    }
   ],
   "source": [
    "q*S"
   ]
  },
  {
   "cell_type": "code",
   "execution_count": 15,
   "id": "0026b4cf-8fee-446d-a10c-72402efc41c5",
   "metadata": {},
   "outputs": [
    {
     "data": {
      "text/html": [
       "178.201260055969 liter"
      ],
      "text/latex": [
       "$178.201260055969\\ \\mathrm{liter}$"
      ],
      "text/plain": [
       "178.201260055969 <Unit('liter')>"
      ]
     },
     "execution_count": 15,
     "metadata": {},
     "output_type": "execute_result"
    }
   ],
   "source": [
    "G_agua.to(ureg.liter/ureg.hour)*12*ureg.hour"
   ]
  },
  {
   "cell_type": "code",
   "execution_count": 16,
   "id": "c38d7266-12ab-47f6-b2d7-f25464b77de9",
   "metadata": {},
   "outputs": [],
   "source": [
    "Tm_agua = (Ti_agua+Ts_agua)/2"
   ]
  },
  {
   "cell_type": "code",
   "execution_count": 17,
   "id": "289a6bd4-4689-4756-a87a-b9d399e37f5e",
   "metadata": {},
   "outputs": [],
   "source": [
    "Ra = L**3*1/Tm_agua*(Ts_agua-Tamb)*g/nu_a/a_a"
   ]
  },
  {
   "cell_type": "code",
   "execution_count": 18,
   "id": "d8679db3-1362-4737-934d-a7a65b32b184",
   "metadata": {},
   "outputs": [
    {
     "data": {
      "text/html": [
       "2142.679856495361 watt"
      ],
      "text/latex": [
       "$2142.679856495361\\ \\mathrm{watt}$"
      ],
      "text/plain": [
       "2142.679856495361 <Unit('watt')>"
      ]
     },
     "execution_count": 18,
     "metadata": {},
     "output_type": "execute_result"
    }
   ],
   "source": [
    "h_c = Ra.to_base_units()**(1/4)*k_a/L\n",
    "h_c.to(ureg.watt/ureg.meter**2/ureg.kelvin)*S*(Ts_agua-Tamb)"
   ]
  },
  {
   "cell_type": "code",
   "execution_count": 19,
   "id": "db0f54e1-32df-4883-a32b-f4507289b5d8",
   "metadata": {},
   "outputs": [
    {
     "data": {
      "text/html": [
       "4711.299490251705 dimensionless"
      ],
      "text/latex": [
       "$4711.299490251705\\ dimensionless$"
      ],
      "text/plain": [
       "4711.299490251705 <Unit('dimensionless')>"
      ]
     },
     "execution_count": 19,
     "metadata": {},
     "output_type": "execute_result"
    }
   ],
   "source": [
    "Ra.to_base_units()"
   ]
  },
  {
   "cell_type": "code",
   "execution_count": 20,
   "id": "911f5777-673a-4b7c-bb1d-1f7bee003429",
   "metadata": {},
   "outputs": [
    {
     "data": {
      "text/html": [
       "21.42679856495361 kilogram/(kelvin second<sup>3</sup>)"
      ],
      "text/latex": [
       "$21.42679856495361\\ \\frac{\\mathrm{kilogram}}{\\left(\\mathrm{kelvin} \\cdot \\mathrm{second}^{3}\\right)}$"
      ],
      "text/plain": [
       "21.42679856495361 <Unit('kilogram / kelvin / second ** 3')>"
      ]
     },
     "execution_count": 20,
     "metadata": {},
     "output_type": "execute_result"
    }
   ],
   "source": [
    "h_c.to_base_units()"
   ]
  },
  {
   "cell_type": "code",
   "execution_count": null,
   "id": "83a03248-bfb1-4e70-9324-b506ce4126bc",
   "metadata": {},
   "outputs": [],
   "source": []
  },
  {
   "cell_type": "code",
   "execution_count": null,
   "id": "f2376c93-1a3f-4f45-bba3-d1225cee4d10",
   "metadata": {},
   "outputs": [],
   "source": []
  }
 ],
 "metadata": {
  "kernelspec": {
   "display_name": "Python 3 (ipykernel)",
   "language": "python",
   "name": "python3"
  },
  "language_info": {
   "codemirror_mode": {
    "name": "ipython",
    "version": 3
   },
   "file_extension": ".py",
   "mimetype": "text/x-python",
   "name": "python",
   "nbconvert_exporter": "python",
   "pygments_lexer": "ipython3",
   "version": "3.12.2"
  }
 },
 "nbformat": 4,
 "nbformat_minor": 5
}
