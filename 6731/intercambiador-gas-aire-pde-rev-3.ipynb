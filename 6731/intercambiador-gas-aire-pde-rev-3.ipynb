{
 "cells": [
  {
   "cell_type": "code",
   "execution_count": 171,
   "metadata": {
    "_kg_hide-input": true,
    "_kg_hide-output": true
   },
   "outputs": [],
   "source": [
    "#!pip install ht CoolProp fluids xlrd xlwt"
   ]
  },
  {
   "cell_type": "code",
   "execution_count": 20,
   "metadata": {
    "_cell_guid": "b1076dfc-b9ad-4769-8c92-a6c4dae69d19",
    "_kg_hide-input": true,
    "_kg_hide-output": true,
    "_uuid": "8f2839f25d086af736a60e9eeb907d3b93b6e0e5",
    "tags": []
   },
   "outputs": [],
   "source": [
    "import numpy as np # linear algebra\n",
    "import pandas as pd # data processing, CSV file I/O (e.g. pd.read_csv)\n",
    "import xlwt as xw\n",
    "from pint import UnitRegistry \n",
    "ureg = UnitRegistry()\n",
    "lista_data = []\n",
    "import os\n",
    "#for dirname, _, filenames in os.walk('/kaggle/input'):\n",
    "#    for filename in filenames:\n",
    "#        lista_data.append(os.path.join(dirname, filename))\n",
    "import matplotlib.pyplot as plt\n",
    "import ht,fluids\n",
    "import CoolProp as cp\n",
    "from IPython.display import Image,IFrame,Latex\n",
    "#from shutil import copyfile\n",
    "#copyfile(src = \"../input/prop-fluidos-intercambiadores/prop_fluidos_intercambiadores.py\", dst = \"../working/prop_fluidos_intercambiadores.py\")\n",
    "from prop_fluidos_intercambiadores import fluido_intercambiador\n",
    "# Carga Datos Excel\n",
    "#data_excel = pd.read_excel('../input/data-eduardo-leon-rev1/Calculo calentador aire mandioca Rev1.xls',sheet_name=1)\n",
    "data_excel = pd.read_excel('Calculo calentador aire mandioca Rev1.xls',sheet_name=1)"
   ]
  },
  {
   "cell_type": "code",
   "execution_count": null,
   "metadata": {},
   "outputs": [],
   "source": []
  },
  {
   "cell_type": "markdown",
   "metadata": {},
   "source": [
    "HIPOTESIS DE CALCULO:\n",
    "\n",
    "\n",
    "1. Intercambiador de calor tubular de tubos lisos (sin aletas)\n",
    "2. Flujo de aire dentro de tubos\n",
    "3. Flujo cruzado de aire externo a tubos\n",
    "4. Distribución de tubos alineados"
   ]
  },
  {
   "cell_type": "markdown",
   "metadata": {},
   "source": [
    "Se propone un paso de tubos p = 1.5 D. En intercambiadores casco y tubo, lo usual es encontrar pasos p= D o p = 1.3D. Ver pej \n",
    "- Shah, R. K., & Sekulic, D. P. (2003). Fundamentals of heat exchanger design. John Wiley & Sons. \n",
    "- Cao, E. (2010). Heat transfer in process engineering. McGraw-Hill Education. (pags 509-522)"
   ]
  },
  {
   "cell_type": "code",
   "execution_count": 4,
   "metadata": {
    "tags": []
   },
   "outputs": [],
   "source": [
    "data = data_excel.to_numpy() # datos del archivo excel\n",
    "#constantes de calculo\n",
    "g = 9.8; cal2joule = 4.184\n",
    "###########################################################\n",
    "#           DATOS  del Intercambiador  \n",
    "#\n",
    "###########################################################\n",
    "# Definición de Flujos\n",
    "Gases = fluido_intercambiador('Gases combustion') \n",
    "Aire = fluido_intercambiador('Aire')\n",
    "# Temperaturas\n",
    "Gases.temp_entrada = data[20,4]    \n",
    "Gases.temp_salida = data[21,4]\n",
    "Gases.temp_salida = 150\n",
    "Aire.temp_entrada = data[22,4]\n",
    "Aire.temp_salida = data[12,5]\n",
    "# Calor\n",
    "Calor_ingreso = data[17,4]*cal2joule*1e3/3600\n",
    "#Calor_intercambiado = data[18,4]*cal2joule*1e3/3600\n",
    "#Q = Calor_intercambiado\n",
    "Gases.caudal = 0.15*1.3/Gases.rho  #kg/s un 30% mayor a la condicion de diseño del horno\n",
    "Q = Gases.rho*Gases.cp*(Gases.temp_entrada-Gases.temp_salida)*Gases.caudal\n",
    "\n",
    "Aire.caudal = Q/ (Aire.rho*(Aire.temp_salida-Aire.temp_entrada)*Aire.cp  )\n",
    "Gases.calor_intercambiado, Aire.calor_intercambiado = [Q,Q]\n",
    "\n",
    "# Geometría del Intercambiador\n",
    "Tubo_dext = data[13,4]\n",
    "Tubo_esp = data[13,6]*1e-3\n",
    "Tubo_dint = Tubo_dext-Tubo_esp*2\n",
    "Tubo_long = 2.9\n",
    "paso_tubos = data[47,4]\n",
    "Ncarcasa = 2\n",
    "Rf = data[58,4]  #factor de ensuciamiento. Ver Cao pag 524"
   ]
  },
  {
   "cell_type": "code",
   "execution_count": 28,
   "metadata": {
    "tags": []
   },
   "outputs": [
    {
     "data": {
      "text/html": [
       "104999.99999999999 calorie"
      ],
      "text/latex": [
       "$104999.99999999999\\ \\mathrm{calorie}$"
      ],
      "text/plain": [
       "104999.99999999999 <Unit('calorie')>"
      ]
     },
     "execution_count": 28,
     "metadata": {},
     "output_type": "execute_result"
    }
   ],
   "source": [
    "Qin = Calor_ingreso*ureg.joule\n",
    "Qin.to(ureg.cal)"
   ]
  },
  {
   "cell_type": "code",
   "execution_count": 19,
   "metadata": {
    "tags": []
   },
   "outputs": [],
   "source": []
  },
  {
   "cell_type": "code",
   "execution_count": 26,
   "metadata": {
    "tags": []
   },
   "outputs": [
    {
     "data": {
      "text/html": [
       "12.113041284116981 calorie/second"
      ],
      "text/latex": [
       "$12.113041284116981\\ \\frac{\\mathrm{calorie}}{\\mathrm{second}}$"
      ],
      "text/plain": [
       "12.113041284116981 <Unit('calorie / second')>"
      ]
     },
     "execution_count": 26,
     "metadata": {},
     "output_type": "execute_result"
    }
   ],
   "source": [
    "Qt = Q*ureg.watt\n",
    "Qt.to(ureg.cal/ureg.second)/1e3"
   ]
  },
  {
   "cell_type": "markdown",
   "metadata": {},
   "source": [
    "Observación: Se propone un paso de tubos p = 1.5 D. En intercambiadores casco y tubo, lo usual es encontrar pasos p= D o p = 1.3D. Ver pej \n",
    "- Shah, R. K., & Sekulic, D. P. (2003). Fundamentals of heat exchanger design. John Wiley & Sons. \n",
    "- Cao, E. (2010). Heat transfer in process engineering. McGraw-Hill Education. (pags 509-522)\n",
    "\n",
    "Pero la elección p = 1.5D tiene razones de facilidad en la limpieza, pej."
   ]
  },
  {
   "cell_type": "code",
   "execution_count": 5,
   "metadata": {
    "tags": []
   },
   "outputs": [
    {
     "name": "stdout",
     "output_type": "stream",
     "text": [
      "Capacidad Térmica Mínima Cmin = 202.7 W/K\n",
      "Calor Máximo disponible Qmax=77.0 kW\n",
      "Eficiencia térmica del equipo = 0.66\n"
     ]
    }
   ],
   "source": [
    "#Capacidad Térmica Mínima\n",
    "Cmin = np.min((Aire.cp*Aire.caudal*Aire.rho,Gases.cp*Gases.caudal*Gases.rho))\n",
    "#Mayor Salto Térmico del sistema\n",
    "DeltaT_max = Gases.temp_entrada-Aire.temp_entrada\n",
    "#Calor Máximo disponible\n",
    "Qmax = Cmin*DeltaT_max\n",
    "#ficiencia térmica\n",
    "eficiencia = Q/Qmax\n",
    "\n",
    "print('Capacidad Térmica Mínima Cmin = %.1f W/K'%Cmin)\n",
    "print('Calor Máximo disponible Qmax=%.1f kW'%(Qmax*1e-3))\n",
    "print('Eficiencia térmica del equipo = %.2f'%eficiencia)\n"
   ]
  },
  {
   "cell_type": "markdown",
   "metadata": {},
   "source": [
    "La estimación del factor $F_T$ para este tipo de intercambiadores la podemos estimar en base a resultado como los presentados en: \n",
    "- Annaratone, Donatello. Handbook for heat exchangers and tube banks design. Springer Science & Business Media, 2010.\n",
    "\n",
    "Allí se definen los números adimensionales:\n",
    "\\begin{eqnarray}\n",
    "\\psi &=& \\frac{ T_{CS} - T_{FE}}{ T_{CE} - T_{FE}}\\\\\n",
    "\\beta &=& \\frac{ \\eta \\dot C_C}{ \\dot C_F}\\\\\n",
    "\\gamma &=& \\frac{US}{\\eta C_C}\n",
    "\\end{eqnarray}\n",
    "Y surge el factor de correción \n",
    "\\begin{equation}\n",
    "\\chi_i = \\gamma_i / \\gamma\n",
    "\\end{equation}\n",
    "siendo $\\gamma_i$ el estimado para un intercambiador en general y $\\gamma$ la referencia de contracorriente."
   ]
  },
  {
   "cell_type": "code",
   "execution_count": 6,
   "metadata": {
    "tags": []
   },
   "outputs": [
    {
     "data": {
      "text/latex": [
       "$\\left(\\psi=0.34,~~~~\\beta=0.23\\right)$"
      ],
      "text/plain": [
       "<IPython.core.display.Latex object>"
      ]
     },
     "metadata": {},
     "output_type": "display_data"
    },
    {
     "data": {
      "text/latex": [
       "$\\Longrightarrow \\gamma = 0.980$"
      ],
      "text/plain": [
       "<IPython.core.display.Latex object>"
      ]
     },
     "metadata": {},
     "output_type": "display_data"
    }
   ],
   "source": [
    "psi  =  (Gases.temp_salida- Aire.temp_entrada) /  (Gases.temp_entrada- Aire.temp_entrada) \n",
    "beta = eficiencia*Gases.caudal*Gases.cp / (Aire.caudal*Aire.cp)\n",
    "#de pags 104, 105\n",
    "gamma = 0.980\n",
    "display(Latex(r'$\\left(\\psi=%.2f,~~~~\\beta=%.2f\\right)$'%(psi,beta)))\n",
    "display(Latex(r'$\\Longrightarrow \\gamma = %.3f$'%gamma))"
   ]
  },
  {
   "cell_type": "code",
   "execution_count": 9,
   "metadata": {
    "tags": []
   },
   "outputs": [
    {
     "name": "stdout",
     "output_type": "stream",
     "text": [
      "Temperatura logaritmica media 214.7 C\n",
      "Número de Unidades de Transferencia (Nut) = 0.84\n",
      "G_Gases =0.3 m3/s\n",
      "G_Aire =0.9 m3/s \n",
      "Area propuesta =12.0\n",
      "Area real =13.2\n",
      "Numero de tubos 24\n"
     ]
    }
   ],
   "source": [
    "LMTD = ht.LMTD(Tci=Aire.temp_entrada, Tco=Aire.temp_salida, Thi=Gases.temp_entrada, Tho=Gases.temp_salida)\n",
    "\n",
    "#Ft = ht.F_LMTD_Fakheri(Tci=Aire.temp_entrada, Tco=Aire.temp_salida, Thi=Gases.temp_entrada, Tho=Gases.temp_salida, shells=Ncarcasa)\n",
    "################\n",
    "Ft = gamma\n",
    "\n",
    "\n",
    "#######################\n",
    "UA = Q/(LMTD*Ft)\n",
    "Upropuesto = 20\n",
    "Apropuesta = UA/Upropuesto\n",
    "Ntubos_0_0  = int(Apropuesta / (np.pi*Tubo_dext*Tubo_long))\n",
    "Ntubos_0 = np.ceil(Ntubos_0_0/4)*4\n",
    "Areal = Ntubos_0*(np.pi*Tubo_dext*Tubo_long)\n",
    "print('Temperatura logaritmica media %.1f C'%LMTD)\n",
    "print('Número de Unidades de Transferencia (Nut) = %.2f'%(Cmin/UA))\n",
    "print('G_Gases =%.1f m3/s'%Gases.caudal)\n",
    "print('G_Aire =%.1f m3/s '%Aire.caudal)\n",
    "print('Area propuesta =%.1f'%Apropuesta)\n",
    "print('Area real =%.1f'%Areal)\n",
    "print('Numero de tubos %0d'%Ntubos_0)\n",
    "\n",
    "Npasostubos = 1\n",
    "Aire.area =  Tubo_dint**2/4*np.pi*Ntubos_0 #* Npasostubos\n",
    "Aire.long = Tubo_dint\n",
    "Aire.veloc = Aire.caudal / Aire.area\n",
    "Aire.Reynolds()\n",
    "#Npasotubos =  Re_design*(np.pi*Tubo_dext-Tubo_esp*2*Ntubos_0*m ) / (4*m_t)"
   ]
  },
  {
   "cell_type": "code",
   "execution_count": 10,
   "metadata": {
    "tags": []
   },
   "outputs": [
    {
     "name": "stdout",
     "output_type": "stream",
     "text": [
      "Area de pasaje de Gases 0.187 m2\n",
      "Velocidad de Gases 1.618 m/s\n",
      "Velocidad de Banco max 1.709 m/s\n"
     ]
    }
   ],
   "source": [
    "###########################################################\n",
    "# Determinacion de Area de pasaje del aire por la carcasa\n",
    "# alrededor del paquete de tubos\n",
    "###########################################################\n",
    "Tubo_area_ext = Tubo_dext**2/4*np.pi\n",
    "carcasa_huelgo = 20e-3\n",
    "nfilas = 6\n",
    "ncolumnas = Ntubos_0/nfilas\n",
    "\n",
    "carcasa_xmax,carcasa_ymax = [paso_tubos*(ncolumnas-1)+carcasa_huelgo*2+Tubo_dext,\n",
    "                                                       paso_tubos*(nfilas-1)+carcasa_huelgo*2+Tubo_dext]\n",
    "carcasa_area = carcasa_xmax*carcasa_ymax\n",
    "\n",
    "Veloc_banco_entrada  = Gases.caudal/(carcasa_xmax*Tubo_long/2)\n",
    "Veloc_banco_max = Veloc_banco_entrada*paso_tubos/(paso_tubos-Tubo_dext) #esta expresión no toma en cuenta el area entre tubo y carcasa (huelgo)\n",
    "\n",
    "Gases.area = (carcasa_xmax-Tubo_dext*ncolumnas)*Tubo_long/2\n",
    "Gases.long = Tubo_dext\n",
    "Gases.veloc = Gases.caudal  / Gases.area\n",
    "print('Area de pasaje de Gases %.3f m2'%Gases.area)\n",
    "print('Velocidad de Gases %.3f m/s'%Gases.veloc)\n",
    "print('Velocidad de Banco max %.3f m/s'%Veloc_banco_max)"
   ]
  },
  {
   "cell_type": "code",
   "execution_count": 11,
   "metadata": {
    "tags": []
   },
   "outputs": [
    {
     "name": "stdout",
     "output_type": "stream",
     "text": [
      "Reynolds Banco Tubos = 2296\n",
      "Coeficiente conveccion gases = 38.3\n"
     ]
    }
   ],
   "source": [
    "Gases.Reynolds() \n",
    "Re_banco_tubos = Veloc_banco_max*Gases.long/Gases.nu\n",
    "Re = Gases.Re\n",
    "pitch_parallel,pitch_normal = [paso_tubos,paso_tubos]\n",
    "Pr = Gases.Pr\n",
    "tube_rows = ncolumnas\n",
    "Gases.Nu = ht.conv_tube_bank.Nu_Zukauskas_Bejan(Re, Pr, tube_rows, pitch_parallel, pitch_normal, Pr_wall=None)\n",
    "Gases.hc = Gases.Nu*Gases.long / Gases.k\n",
    "\n",
    "print('Reynolds Banco Tubos = %.d'%Re_banco_tubos)\n",
    "print('Coeficiente conveccion gases = %.1f'%Gases.hc)"
   ]
  },
  {
   "cell_type": "markdown",
   "metadata": {},
   "source": [
    "ŽUKAUSKAS, A. Heat transfer from tubes in crossflow. En Advances in heat transfer. Elsevier, 1972. p. 93-160."
   ]
  },
  {
   "cell_type": "code",
   "execution_count": 12,
   "metadata": {
    "tags": []
   },
   "outputs": [
    {
     "name": "stdout",
     "output_type": "stream",
     "text": [
      "Reynolds aire = 48899\n",
      "Coeficiente conveccion aire = 56.8\n"
     ]
    }
   ],
   "source": [
    "Aire.Nu = ht.conv_internal.turbulent_Colburn(Aire.Re,Aire.Pr)\n",
    "Aire.hc = Aire.Nu*Aire.k/Aire.long\n",
    "print('Reynolds aire = %.d'%Aire.Re)\n",
    "print('Coeficiente conveccion aire = %.1f'%Aire.hc)"
   ]
  },
  {
   "cell_type": "markdown",
   "metadata": {},
   "source": [
    "COLBURN, Allan P. A method of correlating forced convection heat-transfer data and a comparison with fluid friction. International Journal of Heat and Mass Transfer, 1964, vol. 7, no 12, p. 1359-1384."
   ]
  },
  {
   "cell_type": "code",
   "execution_count": 13,
   "metadata": {
    "tags": []
   },
   "outputs": [
    {
     "name": "stdout",
     "output_type": "stream",
     "text": [
      "Banco de tubos Nu= 27.24\n",
      "Banco de tubos h_c= 38.28\n",
      "Banco de tubos Delta P= 3.14\n",
      "Gases Delta P= 3.14\n",
      "Paper Zukauskas Nu 30.39\n",
      "Paper Zukauskas dp 1.32\n"
     ]
    },
    {
     "data": {
      "text/plain": [
       "1.56985324341974"
      ]
     },
     "execution_count": 13,
     "metadata": {},
     "output_type": "execute_result"
    }
   ],
   "source": [
    "Twall = (Aire.hc*Aire.temp_media+Gases.hc*Gases.temp_media) / (Aire.hc+Gases.hc)\n",
    "Pr_w = cp.CoolProp.PropsSI('Prandtl','T',273+Twall,'P',101.325e3,'Air')\n",
    "mu_w = cp.CoolProp.PropsSI('V','T',273+Twall,'P',101.325e3,'Air')\n",
    "Gases.Nu = ht.conv_tube_bank.Nu_Zukauskas_Bejan(Gases.Re, Gases.Pr, tube_rows, pitch_parallel, pitch_normal,\n",
    "                                                Pr_wall=Pr_w)\n",
    "Gases.hc = Gases.Nu*Gases.long / Gases.k\n",
    "\n",
    "DeltaP_banco_tubos = Ncarcasa*ht.conv_tube_bank.dP_Zukauskas(Gases.Re, ncolumnas, pitch_normal,\n",
    "                                         pitch_parallel, Tubo_dext, Gases.rho, Gases.veloc)\n",
    "Gases.DeltaP = DeltaP_banco_tubos #+ DeltaP_Codo\n",
    "print('Banco de tubos Nu= %.2f'%Gases.Nu)\n",
    "print('Banco de tubos h_c= %.2f'%Gases.hc)\n",
    "print('Banco de tubos Delta P= %.2f'%DeltaP_banco_tubos)\n",
    "print('Gases Delta P= %.2f'%Gases.DeltaP)\n",
    "\n",
    "Nu_paper = 0.24*Gases.Re**0.63\n",
    "\n",
    "dp_paper = 0.35*tube_rows*0.5*Gases.rho*Veloc_banco_max**2\n",
    "print('Paper Zukauskas Nu %.2f'%Nu_paper)\n",
    "print('Paper Zukauskas dp %.2f'%dp_paper)\n",
    "\n",
    "ht.conv_tube_bank.dP_Zukauskas(Gases.Re, tube_rows, pitch_normal, pitch_parallel, Tubo_dext,\n",
    "                               Gases.rho, Gases.veloc)\n",
    "\n"
   ]
  },
  {
   "cell_type": "code",
   "execution_count": null,
   "metadata": {},
   "outputs": [],
   "source": []
  },
  {
   "cell_type": "code",
   "execution_count": 14,
   "metadata": {
    "tags": []
   },
   "outputs": [
    {
     "name": "stdout",
     "output_type": "stream",
     "text": [
      "U limpio=21.94\n",
      "U=18.57\n",
      "Acalculo = 12.97\n",
      "A propuesta inicial 12.04\n",
      "A real inicial = 13.18\n"
     ]
    }
   ],
   "source": [
    "Ulimpio = 1 / (Tubo_dext/Tubo_dint/Gases.hc+1/Aire.hc )\n",
    "U = 1 / (1/Ulimpio + Rf *(1+Tubo_dext/Tubo_dint))\n",
    "\n",
    "A_calculo = Q / (U*LMTD*Ft)\n",
    "print('U limpio=%.2f'%Ulimpio)\n",
    "print('U=%.2f'%U)\n",
    "print('Acalculo = %.2f'%A_calculo)\n",
    "print('A propuesta inicial %.2f'%Apropuesta)\n",
    "print('A real inicial = %.2f'%Areal)"
   ]
  },
  {
   "cell_type": "code",
   "execution_count": null,
   "metadata": {},
   "outputs": [],
   "source": []
  },
  {
   "cell_type": "code",
   "execution_count": 15,
   "metadata": {
    "tags": []
   },
   "outputs": [
    {
     "name": "stdout",
     "output_type": "stream",
     "text": [
      "factor friccion tubos = 0.023032 \n",
      "Gtubos = 0.9 m3/s\n",
      "Delta p friccion = 140.27\n",
      "Delta p tubos = 140.27\n"
     ]
    }
   ],
   "source": [
    "# Caida de presion\n",
    "\n",
    "# Calculo para flujo en tubos\n",
    "roughness = fluids.roughness_Farshad('Carbon steel, bare', D=Tubo_dint)\n",
    "\n",
    "f_c = fluids.friction.friction_factor(Re=Aire.Re, eD=roughness/Tubo_dint)\n",
    "\n",
    "f_c2 = 1.2*(0.0014+0.125/Aire.Re**.32)\n",
    "\n",
    "#Gtubos = m_c*Npasotubos*4 / (Ntubos*np.pi*Di**2)\n",
    "Gtubos = Aire.caudal\n",
    "\n",
    "Delta_p_friccion = f_c*Npasostubos*Aire.veloc**2*Tubo_long/Tubo_dint/2 *(Aire.mu/mu_w)**-0.14\n",
    "\n",
    "#Delta_p_cabezales = 4*Npasotubos*Gtubos**2/rho_c/2\n",
    "\n",
    "Delta_p_tubos = Delta_p_friccion#+Delta_p_cabezales\n",
    "Aire.DeltaP = Delta_p_tubos\n",
    "print('factor friccion tubos = %4f '%f_c)\n",
    "print('Gtubos = %.1f m3/s'%Gtubos)\n",
    "print('Delta p friccion = %.2f'%Delta_p_friccion)\n",
    "#print('Delta p cabezales = %.2f'%Delta_p_cabezales)\n",
    "print('Delta p tubos = %.2f'%Delta_p_tubos)"
   ]
  },
  {
   "cell_type": "code",
   "execution_count": 16,
   "metadata": {
    "_kg_hide-input": true,
    "tags": []
   },
   "outputs": [
    {
     "name": "stdout",
     "output_type": "stream",
     "text": [
      "Se puede volcar sobre un archivo Excel.\n"
     ]
    },
    {
     "data": {
      "text/html": [
       "<div>\n",
       "<style scoped>\n",
       "    .dataframe tbody tr th:only-of-type {\n",
       "        vertical-align: middle;\n",
       "    }\n",
       "\n",
       "    .dataframe tbody tr th {\n",
       "        vertical-align: top;\n",
       "    }\n",
       "\n",
       "    .dataframe thead th {\n",
       "        text-align: right;\n",
       "    }\n",
       "</style>\n",
       "<table border=\"1\" class=\"dataframe\">\n",
       "  <thead>\n",
       "    <tr style=\"text-align: right;\">\n",
       "      <th></th>\n",
       "      <th>Unnamed: 0</th>\n",
       "      <th>Unnamed: 1</th>\n",
       "      <th>Unnamed: 2</th>\n",
       "    </tr>\n",
       "  </thead>\n",
       "  <tbody>\n",
       "    <tr>\n",
       "      <th>0</th>\n",
       "      <td>Nombre Fluido</td>\n",
       "      <td>Aire</td>\n",
       "      <td>Gases Combustión</td>\n",
       "    </tr>\n",
       "    <tr>\n",
       "      <th>1</th>\n",
       "      <td>Caudal masico (kg/s)</td>\n",
       "      <td>1.01</td>\n",
       "      <td>0.20</td>\n",
       "    </tr>\n",
       "    <tr>\n",
       "      <th>2</th>\n",
       "      <td>Temperatura Entrada</td>\n",
       "      <td>20.0</td>\n",
       "      <td>400.0</td>\n",
       "    </tr>\n",
       "    <tr>\n",
       "      <th>3</th>\n",
       "      <td>Temperatura salida</td>\n",
       "      <td>70.0</td>\n",
       "      <td>150.0</td>\n",
       "    </tr>\n",
       "    <tr>\n",
       "      <th>4</th>\n",
       "      <td>Densidad kg/m3</td>\n",
       "      <td>1.11</td>\n",
       "      <td>0.64</td>\n",
       "    </tr>\n",
       "    <tr>\n",
       "      <th>5</th>\n",
       "      <td>Viscosidad cP</td>\n",
       "      <td>0.02</td>\n",
       "      <td>0.03</td>\n",
       "    </tr>\n",
       "    <tr>\n",
       "      <th>6</th>\n",
       "      <td>Calor específico J/Kg C</td>\n",
       "      <td>1007.2</td>\n",
       "      <td>1039.6</td>\n",
       "    </tr>\n",
       "    <tr>\n",
       "      <th>7</th>\n",
       "      <td>Conductividad térmica W/Kg C</td>\n",
       "      <td>0.028</td>\n",
       "      <td>0.043</td>\n",
       "    </tr>\n",
       "    <tr>\n",
       "      <th>8</th>\n",
       "      <td>Presión de entrada kPa</td>\n",
       "      <td>101.3</td>\n",
       "      <td>101.3</td>\n",
       "    </tr>\n",
       "    <tr>\n",
       "      <th>9</th>\n",
       "      <td>Velocidad m/s</td>\n",
       "      <td>15.17</td>\n",
       "      <td>1.62</td>\n",
       "    </tr>\n",
       "    <tr>\n",
       "      <th>10</th>\n",
       "      <td>Caída de presión Pa</td>\n",
       "      <td>140.271</td>\n",
       "      <td>3.140</td>\n",
       "    </tr>\n",
       "    <tr>\n",
       "      <th>11</th>\n",
       "      <td>Resistencia de ensuciamiento m2C/W</td>\n",
       "      <td>0.0020</td>\n",
       "      <td>0.0020</td>\n",
       "    </tr>\n",
       "    <tr>\n",
       "      <th>12</th>\n",
       "      <td>Calor intercambiado kW</td>\n",
       "      <td>50.7</td>\n",
       "      <td>NaN</td>\n",
       "    </tr>\n",
       "    <tr>\n",
       "      <th>13</th>\n",
       "      <td>Coeficiente Global de Transferencia</td>\n",
       "      <td>18.6</td>\n",
       "      <td>NaN</td>\n",
       "    </tr>\n",
       "    <tr>\n",
       "      <th>14</th>\n",
       "      <td>Número de pasos de tubos</td>\n",
       "      <td>1</td>\n",
       "      <td>NaN</td>\n",
       "    </tr>\n",
       "    <tr>\n",
       "      <th>15</th>\n",
       "      <td>Número de pasos de carcasa</td>\n",
       "      <td>2.0</td>\n",
       "      <td>NaN</td>\n",
       "    </tr>\n",
       "    <tr>\n",
       "      <th>16</th>\n",
       "      <td>Tubos Longitud m</td>\n",
       "      <td>2.90</td>\n",
       "      <td>NaN</td>\n",
       "    </tr>\n",
       "    <tr>\n",
       "      <th>17</th>\n",
       "      <td>Tubos D exterior mm</td>\n",
       "      <td>60.30</td>\n",
       "      <td>NaN</td>\n",
       "    </tr>\n",
       "    <tr>\n",
       "      <th>18</th>\n",
       "      <td>Tubos D interior mm</td>\n",
       "      <td>56.30</td>\n",
       "      <td>NaN</td>\n",
       "    </tr>\n",
       "    <tr>\n",
       "      <th>19</th>\n",
       "      <td>Tubos espesor mm</td>\n",
       "      <td>2.00</td>\n",
       "      <td>NaN</td>\n",
       "    </tr>\n",
       "    <tr>\n",
       "      <th>20</th>\n",
       "      <td>Carcasa Lx m</td>\n",
       "      <td>0.37</td>\n",
       "      <td>NaN</td>\n",
       "    </tr>\n",
       "    <tr>\n",
       "      <th>21</th>\n",
       "      <td>Carcasa Ly m</td>\n",
       "      <td>0.55</td>\n",
       "      <td>NaN</td>\n",
       "    </tr>\n",
       "  </tbody>\n",
       "</table>\n",
       "</div>"
      ],
      "text/plain": [
       "                             Unnamed: 0 Unnamed: 1        Unnamed: 2\n",
       "0                         Nombre Fluido       Aire  Gases Combustión\n",
       "1                  Caudal masico (kg/s)       1.01              0.20\n",
       "2                   Temperatura Entrada       20.0             400.0\n",
       "3                    Temperatura salida       70.0             150.0\n",
       "4                        Densidad kg/m3       1.11              0.64\n",
       "5                         Viscosidad cP       0.02              0.03\n",
       "6               Calor específico J/Kg C     1007.2            1039.6\n",
       "7          Conductividad térmica W/Kg C      0.028             0.043\n",
       "8                Presión de entrada kPa      101.3             101.3\n",
       "9                         Velocidad m/s      15.17              1.62\n",
       "10                  Caída de presión Pa    140.271             3.140\n",
       "11   Resistencia de ensuciamiento m2C/W     0.0020            0.0020\n",
       "12               Calor intercambiado kW       50.7               NaN\n",
       "13  Coeficiente Global de Transferencia       18.6               NaN\n",
       "14             Número de pasos de tubos          1               NaN\n",
       "15           Número de pasos de carcasa        2.0               NaN\n",
       "16                     Tubos Longitud m       2.90               NaN\n",
       "17                  Tubos D exterior mm      60.30               NaN\n",
       "18                  Tubos D interior mm      56.30               NaN\n",
       "19                     Tubos espesor mm       2.00               NaN\n",
       "20                         Carcasa Lx m       0.37               NaN\n",
       "21                         Carcasa Ly m       0.55               NaN"
      ]
     },
     "execution_count": 16,
     "metadata": {},
     "output_type": "execute_result"
    }
   ],
   "source": [
    "print('Se puede volcar sobre un archivo Excel.')\n",
    "# Workbook is created \n",
    "wb = xw.Workbook() \n",
    "xw.add_palette_colour(\"gris\", 0x21)\n",
    "wb.set_colour_RGB(0x21, 200, 200,200)  \n",
    "# add_sheet is used to create sheet. \n",
    "sheet1 = wb.add_sheet('Performance Unidad') \n",
    "style = xw.easyxf('pattern: pattern solid, fore_colour gris;')\n",
    "# Input data into rows \n",
    "sheet1.write(3, 0, 'Nombre Fluido') \n",
    "sheet1.write(3, 1, 'Aire') \n",
    "sheet1.write(3, 2, 'Gases Combustión') \n",
    "\n",
    "sheet1.write(4, 0, 'Caudal masico (kg/s)',style) \n",
    "sheet1.write(4, 1, '%.2f'%(Aire.caudal*Aire.rho),style) \n",
    "sheet1.write(4, 2, '%.2f'%(Gases.caudal*Gases.rho),style) \n",
    "\n",
    "sheet1.write(5, 0, 'Temperatura Entrada') \n",
    "sheet1.write(5, 1, '%.1f'%Aire.temp_entrada) \n",
    "sheet1.write(5, 2, '%.1f'%Gases.temp_entrada) \n",
    "\n",
    "sheet1.write(6, 0, 'Temperatura salida',style) \n",
    "sheet1.write(6, 1, '%.1f'%Aire.temp_salida,style) \n",
    "sheet1.write(6, 2, '%.1f'%Gases.temp_salida,style) \n",
    "\n",
    "\n",
    "sheet1.write(7, 0, 'Densidad kg/m3') \n",
    "sheet1.write(7, 1, '%.2f'%Aire.rho) \n",
    "sheet1.write(7, 2, '%.2f'%Gases.rho) \n",
    "\n",
    "sheet1.write(8, 0, 'Viscosidad cP',style) \n",
    "sheet1.write(8, 1, '%.2f'%(1e3*Aire.mu),style) \n",
    "sheet1.write(8, 2, '%.2f'%(1e3*Gases.mu),style) \n",
    "\n",
    "\n",
    "sheet1.write(9, 0, 'Calor específico J/Kg C')\n",
    "sheet1.write(9, 1, '%.1f'%Aire.cp)\n",
    "sheet1.write(9, 2, '%.1f'%Gases.cp)\n",
    "\n",
    "sheet1.write(10, 0, 'Conductividad térmica W/Kg C',style) \n",
    "sheet1.write(10, 1, '%.3f'%Aire.k,style) \n",
    "sheet1.write(10, 2, '%.3f'%Gases.k,style) \n",
    "\n",
    "sheet1.write(11, 0, 'Presión de entrada kPa') \n",
    "sheet1.write(11, 1, '%.1f'%(101.3))\n",
    "sheet1.write(11, 2, '%.1f'%(101.3))\n",
    "\n",
    "sheet1.write(12, 0, 'Velocidad m/s',style) \n",
    "sheet1.write(12, 1, '%.2f'%Aire.veloc,style)\n",
    "sheet1.write(12, 2, '%.2f'%Gases.veloc,style)\n",
    "\n",
    "sheet1.write(13, 0, 'Caída de presión Pa') \n",
    "sheet1.write(13, 1, '%.3f'%(Aire.DeltaP))\n",
    "sheet1.write(13, 2, '%.3f'%(Gases.DeltaP))\n",
    "\n",
    "\n",
    "sheet1.write(14, 0, 'Resistencia de ensuciamiento m2C/W',style) \n",
    "sheet1.write(14, 1, '%.4f'%(Rf/2),style)\n",
    "sheet1.write(14, 2, '%.4f'%(Rf/2),style)\n",
    "\n",
    "sheet1.write(15, 0, 'Calor intercambiado kW') \n",
    "sheet1.write(15, 1, '%.1f'%(Q/1e3))\n",
    "\n",
    "sheet1.write(16, 0, 'Coeficiente Global de Transferencia',style)\n",
    "sheet1.write(16, 1, '%.1f'%U,style)\n",
    "\n",
    "sheet1.write(17, 0, 'Número de pasos de tubos')\n",
    "sheet1.write(17, 1, '%0d'%Npasostubos)\n",
    "\n",
    "sheet1.write(18, 0, 'Número de pasos de carcasa',style)\n",
    "sheet1.write(18, 1, '%.1f'%Ncarcasa,style)\n",
    "\n",
    "sheet1.write(19, 0, 'Tubos Longitud m')\n",
    "sheet1.write(19, 1, '%.2f'%Tubo_long)\n",
    "\n",
    "sheet1.write(20, 0, 'Tubos D exterior mm',style)\n",
    "sheet1.write(20, 1, '%.2f'%(Tubo_dext*1e3),style)\n",
    "\n",
    "sheet1.write(21, 0, 'Tubos D interior mm')\n",
    "sheet1.write(21, 1, '%.2f'%(Tubo_dint*1e3))\n",
    "             \n",
    "sheet1.write(22, 0, 'Tubos espesor mm',style)\n",
    "sheet1.write(22, 1, '%.2f'%(Tubo_esp*1e3),style)\n",
    "             \n",
    "sheet1.write(23,0,'Carcasa Lx m')             \n",
    "sheet1.write(23,1,'%.2f'%carcasa_xmax)\n",
    "             \n",
    "sheet1.write(24,0,'Carcasa Ly m',style)             \n",
    "sheet1.write(24,1,'%.2f'%carcasa_ymax,style)\n",
    "\n",
    "nombre_salida = 'Intercambiador_salida_TEMA.xls'\n",
    "wb.save(nombre_salida)\n",
    "data_salida_excel = pd.read_excel('./'+nombre_salida,skiprows=2)\n",
    "data_salida_excel"
   ]
  },
  {
   "cell_type": "markdown",
   "metadata": {},
   "source": [
    "### Arreglo de tubos. Geometría"
   ]
  },
  {
   "cell_type": "code",
   "execution_count": 277,
   "metadata": {
    "_kg_hide-input": true
   },
   "outputs": [
    {
     "data": {
      "image/png": "[encoded data removed]",
      "text/plain": [
       "<Figure size 1152x1152 with 1 Axes>"
      ]
     },
     "metadata": {
      "needs_background": "light"
     },
     "output_type": "display_data"
    }
   ],
   "source": [
    "import matplotlib.patches as mpatches\n",
    "prop_cycle = plt.rcParams['axes.prop_cycle']\n",
    "colors = prop_cycle.by_key()['color']\n",
    "escala = 1/3\n",
    "coord_tubo = []\n",
    "for filai in np.arange(nfilas):\n",
    "    yi = filai*paso_tubos+carcasa_huelgo+Tubo_dext/2\n",
    "    for columnai in np.arange(ncolumnas):\n",
    "        xi = columnai*paso_tubos+carcasa_huelgo+Tubo_dext/2\n",
    "        coord_tubo.append([xi,yi])\n",
    "\n",
    "carcasa_area = carcasa_xmax*carcasa_ymax\n",
    "Area_pasaje_aire = carcasa_area-Ntubos*Tubo_area_ext        \n",
    "carcasa_espesor = 0\n",
    "carcasa_paso = 2*Tubo_dext\n",
    "fig0,ax0  = plt.subplots(figsize=(16,16))\n",
    "desplazamiento_plot = 1.25\n",
    "for i,coord_tuboi in enumerate(coord_tubo):\n",
    "    xi1,yi1 = coord_tuboi\n",
    "    xi1 += desplazamiento_plot; \n",
    "    ax0.add_patch(plt.Circle((xi1, yi1), Tubo_dext/2, color='k',fill=False))\n",
    "    ax0.plot([0,Tubo_long*escala],[yi1,yi1],color='k',linestyle='dashdot',linewidth=1)\n",
    "    ax0.plot([Tubo_long*escala,desplazamiento_plot],[yi1,yi1],color='k',linestyle='dashdot',linewidth=.1)\n",
    "    ax0.plot([0,Tubo_long*escala],[yi1+Tubo_dext/2,yi1+Tubo_dext/2],color='k')\n",
    "    ax0.plot([0,Tubo_long*escala],[yi1-Tubo_dext/2,yi1-Tubo_dext/2],color='k')\n",
    "ax0.set_aspect('equal')  \n",
    "lin, = ax0.plot([0,Tubo_long*escala],[0,0],linewidth=3)\n",
    "color_c = lin.get_color()\n",
    "ax0.plot([0,Tubo_long*escala],[carcasa_ymax,carcasa_ymax],linewidth=3,color=color_c)\n",
    "ax0.plot([0,0],[0,carcasa_ymax+carcasa_paso],linewidth=3,color=color_c)\n",
    "ax0.plot([Tubo_long*escala/2,Tubo_long*escala/2],[0,carcasa_ymax],linewidth=3,color=color_c)\n",
    "\n",
    "ax0.plot([Tubo_long*escala/2,Tubo_long*escala],[carcasa_ymax,carcasa_ymax],linewidth=3,color=color_c)\n",
    "ax0.plot([Tubo_long*escala/2,Tubo_long*escala],[0,0],linewidth=3,color=color_c)\n",
    "ax0.plot([Tubo_long*escala,Tubo_long*escala],[0,carcasa_ymax+carcasa_paso],linewidth=3,color=color_c)\n",
    "\n",
    "ax0.plot([0,Tubo_long*escala],[carcasa_ymax+carcasa_paso,carcasa_ymax+carcasa_paso]\n",
    "         ,linewidth=3,color=color_c)\n",
    "\n",
    "ax0.plot([desplazamiento_plot,desplazamiento_plot+carcasa_xmax],[0,0],linewidth=3,color=color_c)\n",
    "\n",
    "ax0.plot([desplazamiento_plot,desplazamiento_plot+carcasa_xmax],[carcasa_ymax,carcasa_ymax],linewidth=3,color=color_c)\n",
    "ax0.plot([desplazamiento_plot,desplazamiento_plot],[0,carcasa_ymax],linewidth=3,color=color_c)\n",
    "ax0.plot([desplazamiento_plot+carcasa_xmax,desplazamiento_plot+carcasa_xmax],[0,carcasa_ymax],linewidth=3,color=color_c)\n",
    "\n",
    "ax0.set_axis_off()\n",
    "arrow0 = mpatches.FancyArrowPatch((Tubo_long*escala/4,carcasa_ymax/2), (-.2, carcasa_ymax/2),\n",
    "                                 mutation_scale=50,color=colors[1],ec='k')\n",
    "\n",
    "arrow1 = mpatches.FancyArrowPatch((Tubo_long*escala/4, -.15), (Tubo_long*escala/4, .0),\n",
    "                                 mutation_scale=50,color=colors[0],ec='k')\n",
    "\n",
    "arrow2 = mpatches.FancyArrowPatch((3*Tubo_long*escala/4, 0), (3*Tubo_long*escala/4, -.15),\n",
    "                                 mutation_scale=50,color=colors[0],ec='k')\n",
    "arrow3 = mpatches.FancyArrowPatch((Tubo_long*escala/4, carcasa_ymax), \n",
    "                                  (2*Tubo_long*escala/4, carcasa_ymax+carcasa_paso/2),\n",
    "                                 mutation_scale=50,color=colors[0],ec='k',\n",
    "                                  connectionstyle=\"angle3, angleA=90, angleB=0\")\n",
    "arrow4 = mpatches.FancyArrowPatch((2*Tubo_long*escala/4, carcasa_ymax+carcasa_paso/2),(3*Tubo_long*escala/4, carcasa_ymax), \n",
    "                                 mutation_scale=50,color=colors[0],ec='k',\n",
    "                                  connectionstyle=\"angle3, angleA=0, angleB=120\")\n",
    "ax0.add_patch(arrow0)\n",
    "ax0.add_patch(arrow1)\n",
    "ax0.add_patch(arrow2);\n",
    "ax0.add_patch(arrow3);\n",
    "ax0.add_patch(arrow4);\n",
    "ax0.set_title('Esquema del Intercambiador',fontsize=18);"
   ]
  },
  {
   "cell_type": "code",
   "execution_count": null,
   "metadata": {},
   "outputs": [],
   "source": []
  },
  {
   "cell_type": "code",
   "execution_count": 256,
   "metadata": {
    "_kg_hide-input": true
   },
   "outputs": [],
   "source": [
    "#datos geometría\n",
    "\n",
    "Tubo_area_int = Tubo_dint**2/4*np.pi\n",
    "Tubo_area_ext = Tubo_dext**2/4*np.pi\n",
    "Ntubos = Ntubos_0\n",
    "\n",
    "paso_tubos =pitch_normal\n",
    "carcasa_huelgo = 20e-3  #Cao pag 142 10mm\n"
   ]
  },
  {
   "cell_type": "code",
   "execution_count": null,
   "metadata": {},
   "outputs": [],
   "source": []
  },
  {
   "cell_type": "code",
   "execution_count": 278,
   "metadata": {},
   "outputs": [
    {
     "data": {
      "text/plain": [
       "2.9524500000000007"
      ]
     },
     "execution_count": 278,
     "metadata": {},
     "output_type": "execute_result"
    }
   ],
   "source": [
    "1.62**2*1./2*2.25"
   ]
  },
  {
   "cell_type": "code",
   "execution_count": null,
   "metadata": {},
   "outputs": [],
   "source": []
  }
 ],
 "metadata": {
  "kernelspec": {
   "display_name": "Python 3 (ipykernel)",
   "language": "python",
   "name": "python3"
  },
  "language_info": {
   "codemirror_mode": {
    "name": "ipython",
    "version": 3
   },
   "file_extension": ".py",
   "mimetype": "text/x-python",
   "name": "python",
   "nbconvert_exporter": "python",
   "pygments_lexer": "ipython3",
   "version": "3.11.4"
  },
  "latex_envs": {
   "LaTeX_envs_menu_present": true,
   "autoclose": false,
   "autocomplete": true,
   "bibliofile": "biblio.bib",
   "cite_by": "apalike",
   "current_citInitial": 1,
   "eqLabelWithNumbers": true,
   "eqNumInitial": 1,
   "hotkeys": {
    "equation": "Ctrl-E",
    "itemize": "Ctrl-I"
   },
   "labels_anchors": false,
   "latex_user_defs": false,
   "report_style_numbering": false,
   "user_envs_cfg": false
  }
 },
 "nbformat": 4,
 "nbformat_minor": 4
}
