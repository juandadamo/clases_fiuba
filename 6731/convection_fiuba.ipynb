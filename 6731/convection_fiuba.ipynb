{
  "nbformat": 4,
  "nbformat_minor": 0,
  "metadata": {
    "colab": {
      "provenance": []
    },
    "kernelspec": {
      "name": "python2",
      "display_name": "Python 2"
    }
  },
  "cells": [
    {
      "cell_type": "markdown",
      "metadata": {
        "id": "PFHk_7cO9Qpk"
      },
      "source": [
        "## Trabajo Practico 1: Conveccion externa\n",
        "\n",
        "### Enunciado\n",
        "\n",
        "Un condensador de vapor refrigerado por aire opera en flujo cruzado de acuerdo a un arreglo cuadrado de $400$ tubos en linea ($N_{L}=N_{T}=20$) con un diametro de tubo externo de $20$mm, paso longitudinal $S_{L}=60$mm y paso transversal $S_{T}=30$mm. Vapor saturado a una presion de $2.455$bar circula por los tubos, mientras que la temperatura en la superficie externa a los tubos puede asumirse uniforme ($T_{s}=390$K) a medida que ocurre la condensacion en su interior.\n",
        "\n",
        "**(a)** Siendo la temperatura y velocidad del flujo de aire que entra al arreglo iguales a $T_{i}=300$K y $V=4$m/s, determine la temperatura de salida del aire $T_{o}$. Como primer aproximacion, evalue las propiedades del aire a $300$K.\n",
        "\n",
        "**(b)** Siendo la longitud de tubos de $2$m, determine la velocidad de transferencia de calor y el caudal de condensado.\n",
        "\n",
        "**(c)** Analice el efecto causado por un incremento de $N_{L}$ en un factor $2$ mientras que $S_{L}$ se reduce hasta $30$mm. Para esta configuracion, explore el efecto causado por cambios en la velocidad del aire."
      ]
    },
    {
      "cell_type": "markdown",
      "metadata": {
        "id": "FSRwxAcx1DI5"
      },
      "source": [
        "![](https://drive.google.com/uc?export=view&id=1jB3GduSqe6QFQBi8zbd7Xp15qNLpZPir)"
      ]
    },
    {
      "cell_type": "code",
      "metadata": {
        "id": "dTyOY3j9KJJJ"
      },
      "source": [
        "!pip install ht\n",
        "!pip install thermo"
      ],
      "execution_count": null,
      "outputs": []
    },
    {
      "cell_type": "code",
      "metadata": {
        "id": "GFrn-bfp6tZu",
        "colab": {
          "base_uri": "https://localhost:8080/",
          "height": 85
        },
        "outputId": "9c96684f-6d1c-43c4-908d-1b12704f0e99"
      },
      "source": [
        "!pip install ht"
      ],
      "execution_count": null,
      "outputs": [
        {
          "output_type": "stream",
          "text": [
            "Requirement already satisfied: ht in /usr/local/lib/python2.7/dist-packages (0.1.54)\n",
            "Requirement already satisfied: numpy>=1.5.0 in /usr/local/lib/python2.7/dist-packages (from ht) (1.16.4)\n",
            "Requirement already satisfied: fluids>=0.1.77 in /usr/local/lib/python2.7/dist-packages (from ht) (0.1.78)\n",
            "Requirement already satisfied: scipy>=0.9.0 in /usr/local/lib/python2.7/dist-packages (from ht) (1.2.2)\n"
          ],
          "name": "stdout"
        }
      ]
    },
    {
      "cell_type": "code",
      "metadata": {
        "id": "938v3TKLLga1"
      },
      "source": [
        "import numpy as np\n",
        "import matplotlib.pyplot as plt\n",
        "import ht\n",
        "import thermo"
      ],
      "execution_count": null,
      "outputs": []
    },
    {
      "cell_type": "code",
      "metadata": {
        "id": "uGqVGgRC74F8",
        "colab": {
          "base_uri": "https://localhost:8080/",
          "height": 34
        },
        "outputId": "2cf715bd-9bb0-4efe-fc98-bafa04f88dfb"
      },
      "source": [
        "np.sin(np.pi)\n",
        "np.sin(0)\n"
      ],
      "execution_count": null,
      "outputs": [
        {
          "output_type": "execute_result",
          "data": {
            "text/plain": [
              "0.0"
            ]
          },
          "metadata": {
            "tags": []
          },
          "execution_count": 5
        }
      ]
    },
    {
      "cell_type": "code",
      "metadata": {
        "id": "8JzQStKWL4xQ"
      },
      "source": [
        "# *********** Datos ***********\n",
        "\n",
        "# Geometria del arreglo de tubos\n",
        "D=0.02 # [m]\n",
        "SL=0.06 # [m]\n",
        "ST=0.03 # [m]\n",
        "NL=20\n",
        "NT=20\n",
        "N=NL*NT\n",
        "L=2 # [m]\n",
        "\n",
        "# Condiciones de flujo\n",
        "V=4 # [m/s]\n",
        "Ti=300 # Temperatura de entrada de refrigerante [K]\n",
        "\n",
        "# Temperatura de superficie\n",
        "Ts=390 # [K]\n",
        "\n",
        "# Presion de vapor saturado\n",
        "Psat=245500 # [Pa]"
      ],
      "execution_count": null,
      "outputs": []
    },
    {
      "cell_type": "code",
      "metadata": {
        "id": "DDTf3-3YOc3Z"
      },
      "source": [
        "# *********** Propiedades ***********\n",
        "\n",
        "air_i = thermo.Mixture('air',T=Ti)\n",
        "rho_i = air_i.rho # [kg/m^3]\n",
        "Cp_i = air_i.Cp # [J/kgK]\n",
        "nu_i = air_i.nu # [m^2/s]\n",
        "k_i = air_i.k # [W/mK]\n",
        "Pr_i = air_i.Pr\n",
        "\n",
        "air_s = thermo.Mixture('air',T=Ts)\n",
        "Pr_s = air_s.Pr\n",
        "\n",
        "steam = thermo.Chemical('water')\n",
        "\n",
        "# Determina la temperatura a la cual el agua tiene una presion de vapor de 2.455 bar:\n",
        "Tsat = steam.VaporPressure.solve_prop(Psat) # [K]\n",
        "\n",
        "# Establece condiciones de operacion\n",
        "steam.calculate(T=Tsat,P=Psat)\n",
        "\n",
        "Hfg = steam.Hvap # Calor latente de vaporizacion [J/kg]\n"
      ],
      "execution_count": null,
      "outputs": []
    },
    {
      "cell_type": "code",
      "metadata": {
        "id": "xxXyn4Q1OkKv",
        "colab": {
          "base_uri": "https://localhost:8080/",
          "height": 108
        },
        "outputId": "5ac7e678-ca3e-4332-8125-4398aa275cb9"
      },
      "source": [
        "print air_i\n",
        "print rho_i\n",
        "print steam\n",
        "print Hfg"
      ],
      "execution_count": null,
      "outputs": [
        {
          "output_type": "stream",
          "text": [
            "<Mixture, components=['nitrogen', 'argon', 'oxygen'], mole fractions=[0.7812, 0.0092, 0.2096], T=300.00 K, P=101325 Pa>\n",
            "1.17698235001\n",
            "<Chemical [water], T=399.99 K, P=245500 Pa>\n",
            "2190991.29231\n"
          ],
          "name": "stdout"
        }
      ]
    },
    {
      "cell_type": "markdown",
      "metadata": {
        "id": "UaOIlgeSijwJ"
      },
      "source": [
        "***Correlación de Zukauskas***\n",
        "\n",
        "Calcula el numero de Nusselt para una disposicion de flujo cruzado a traves de un tubo:\n",
        "\n",
        "$Nu_{D}=CRe^{m}Pr^{n}\\left(\\frac{Pr}{Pr_s}\\right)^{1/4}$"
      ]
    },
    {
      "cell_type": "markdown",
      "metadata": {
        "id": "uN6cTgMgAigH"
      },
      "source": []
    },
    {
      "cell_type": "code",
      "metadata": {
        "id": "EUxD8i9ERXXX"
      },
      "source": [
        "# *********** Analisis (a) ***********\n",
        "\n",
        "# Velocidad maxima de flujo en el banco de tubos\n",
        "V_max = (ST/(ST-D))*V # [m/s]\n",
        "\n",
        "# Numero de Reynolds\n",
        "Re_max = V_max*D/nu_i\n",
        "\n",
        "# Numero de Nusselt\n",
        "Nu = ht.Nu_cylinder_Zukauskas(Re_max,Pr_i,Pr_s)\n",
        "\n",
        "# Coeficiente de transferencia de calor promedio\n",
        "h = Nu*k_i/D # [W/m^2K]\n",
        "\n",
        "# Temperatura de salida de refrigerante\n",
        "To = Ts-(Ts-Ti)*np.exp(-np.pi*D*N*h/(rho_i*V*NT*ST*Cp_i)) # [K]"
      ],
      "execution_count": null,
      "outputs": []
    },
    {
      "cell_type": "markdown",
      "metadata": {
        "id": "TPZaQoDvHKxL"
      },
      "source": [
        "ht"
      ]
    },
    {
      "cell_type": "code",
      "metadata": {
        "id": "BjQgLiFNHMOH"
      },
      "source": [
        "ht.LMTD?\n"
      ],
      "execution_count": null,
      "outputs": []
    },
    {
      "cell_type": "code",
      "metadata": {
        "id": "Ww2tKEgER-MZ",
        "colab": {
          "base_uri": "https://localhost:8080/",
          "height": 34
        },
        "outputId": "8a2ea238-c77b-4934-ff04-84d97d1a693e"
      },
      "source": [
        "print To"
      ],
      "execution_count": null,
      "outputs": [
        {
          "output_type": "stream",
          "text": [
            "353.03953251856166\n"
          ],
          "name": "stdout"
        }
      ]
    },
    {
      "cell_type": "code",
      "metadata": {
        "id": "MpcUEVWQRzsE"
      },
      "source": [
        "# *********** Analisis (b) ***********\n",
        "\n",
        "# Diferencia de temperatura media logaritmica\n",
        "dTlm = ht.LMTD(Ts,Ts,Ti,To)\n",
        "\n",
        "# Velocidad de transferencia de calor\n",
        "q = N*h*np.pi*D*L*dTlm # [W]\n",
        "\n",
        "# Caudal de condensado\n",
        "mc = q/Hfg # [kg/s]"
      ],
      "execution_count": null,
      "outputs": []
    },
    {
      "cell_type": "code",
      "metadata": {
        "id": "Wd0dyslKSEgd",
        "colab": {
          "base_uri": "https://localhost:8080/",
          "height": 34
        },
        "outputId": "aee53037-ca04-4d27-b98e-adc155215415"
      },
      "source": [
        "print q,mc"
      ],
      "execution_count": null,
      "outputs": [
        {
          "output_type": "stream",
          "text": [
            "602193.2811231018 0.2748496916603017\n"
          ],
          "name": "stdout"
        }
      ]
    },
    {
      "cell_type": "code",
      "metadata": {
        "id": "lzs-_HiGTGzI",
        "colab": {
          "base_uri": "https://localhost:8080/",
          "height": 143
        },
        "outputId": "89443458-f484-474b-d63d-ed6561811ac4"
      },
      "source": [
        "# *********** Analisis (c) ***********\n",
        "# Efecto causado al duplicar el area superficial del banco de tubos\n",
        "\n",
        "def condensate():\n",
        "    V_max = (ST/(ST-D))*V # [m/s]\n",
        "    Re_max = V_max*D/nu_m\n",
        "    Nu = ht.Nu_cylinder_Zukauskas(Re_max,Pr_m,Pr_s)\n",
        "    h = Nu*k_m/D # [W/m^2K]\n",
        "    To = Ts-(Ts-Ti)*np.exp(-np.pi*D*N*h/(rho_m*V*NT*ST*Cp_m)) # [K]\n",
        "    dTlm = ht.LMTD(Ts,Ts,Ti,To)\n",
        "    q = N*h*np.pi*D*L*dTlm # [W]\n",
        "    mc = q/Hfg # [kg/s]\n",
        "    return To,dTlm,q,mc\n",
        "\n",
        "# Evalua propiedades del aire a una temperatura media entre entrada y salida\n",
        "Tm = (Ti+To)/2\n",
        "\n",
        "# Propiedades del aire para la nueva configuracion\n",
        "air_m = thermo.Mixture('air',T=Tm)\n",
        "rho_m = air_m.rho # [kg/m^3]\n",
        "Cp_m = air_m.Cp # [J/kgK]\n",
        "nu_m = air_m.nu # [m^2/s]\n",
        "k_m = air_m.k # [W/mK]\n",
        "Pr_m = air_m.Pr\n",
        "\n",
        "# Geometria de la nueva configuracion\n",
        "SL=SL/2 # [m]\n",
        "NL=NL*2\n",
        "N=NL*NT\n",
        "\n",
        "# Valores resultado de la nueva configuracion\n",
        "[To_1,dTlm_1,q_1,mc_1]=condensate()"
      ],
      "execution_count": null,
      "outputs": [
        {
          "output_type": "stream",
          "text": [
            "/usr/local/lib/python2.7/dist-packages/thermo/volume.py:1294: RuntimeWarning: invalid value encountered in double_scalars\n",
            "  B = Pc*(-1 + a*tau**(1/3.) + b*tau**(2/3.) + d*tau + e*tau**(4/3.))\n",
            "/usr/local/lib/python2.7/dist-packages/thermo/volume.py:437: RuntimeWarning: invalid value encountered in double_scalars\n",
            "  - 0.81446*(1-Tr) + 0.190454*(1-Tr)**(4/3.)\n",
            "/usr/local/lib/python2.7/dist-packages/thermo/viscosity.py:826: RuntimeWarning: invalid value encountered in double_scalars\n",
            "  D = 0.3257/((1.0039-Tr**2.573)**0.2906) - 0.2086\n"
          ],
          "name": "stderr"
        }
      ]
    },
    {
      "cell_type": "code",
      "metadata": {
        "id": "lRZMeZEWVfc2",
        "colab": {
          "base_uri": "https://localhost:8080/",
          "height": 51
        },
        "outputId": "f0b0c087-6c79-4a49-e81d-f7505d7c3d0e"
      },
      "source": [
        "print 'Configuracion original',To,dTlm,q,mc\n",
        "print 'Configuracion nueva',To_1,dTlm_1,q_1,mc_1"
      ],
      "execution_count": null,
      "outputs": [
        {
          "output_type": "stream",
          "text": [
            "Configuracion original 353.03953251856166 59.59760698321435 602193.2811231018 0.2748496916603017\n",
            "Configuracion nueva 387.9350810988662 23.295797031294505 459272.7197048725 0.209618687813071\n"
          ],
          "name": "stdout"
        }
      ]
    },
    {
      "cell_type": "code",
      "metadata": {
        "id": "bOPQbxq2V0Ro"
      },
      "source": [
        "# *********** Analisis (c) ***********\n",
        "# Efecto causado por cambios en la velocidad del aire para la nueva configuracion\n",
        "dTlm_v = []\n",
        "mc_v = []\n",
        "Vini=0.5; Vfin=10.0; dV=0.1\n",
        "vels = np.arange(Vini,Vfin+dV,dV)\n",
        "\n",
        "for V in vels: # [m/s]\n",
        "  [To,dTlm,q,mc]=condensate()\n",
        "  dTlm_v.append(dTlm)\n",
        "  mc_v.append(mc)\n"
      ],
      "execution_count": null,
      "outputs": []
    },
    {
      "cell_type": "code",
      "metadata": {
        "id": "2EsjDV6NXWIp",
        "colab": {
          "base_uri": "https://localhost:8080/",
          "height": 541
        },
        "outputId": "c07dc309-1fe2-4efc-f6d5-2d592041437b"
      },
      "source": [
        "# %%%%%%%%%%%%%%%%%%%% GRAFICA %%%%%%%%%%%%%%%%%%%\n",
        "h,w=2,1\n",
        "fig = plt.figure(figsize=(11,8))\n",
        "\n",
        "# ************* Caudal de condensado *************\n",
        "plt.subplot(h,w,1)\n",
        "plt.plot(vels,mc_v,'r-',lw=3)\n",
        "plt.ylabel('$\\.{m}_{c}$ [$kg/s$]',fontsize=28,color='k')\n",
        "plt.tick_params(axis='both',which='major',labelsize=15)\n",
        "plt.grid(b=True,which='major')\n",
        "plt.title('Efecto de cambios en la velocidad del aire',fontsize=22)\n",
        "\n",
        "# ****** Diferencia de temperatura media logaritmica ******\n",
        "plt.subplot(h,w,2)\n",
        "plt.plot(vels,dTlm_v,'b-',lw=3)\n",
        "plt.ylabel('$\\Delta T_{lm}$ [$K$]',fontsize=28,color='k')\n",
        "plt.tick_params(axis='both',which='major',labelsize=15)\n",
        "plt.grid(b=True,which='major')\n",
        "plt.xlabel('velocidad [$m/s$]',fontsize=24,color='k')\n",
        "\n",
        "# *********************************************\n",
        "plt.show()\n"
      ],
      "execution_count": null,
      "outputs": [
        {
          "output_type": "display_data",
          "data": {
            "image/png": "[encoded data removed]",
            "text/plain": [
              "<Figure size 792x576 with 2 Axes>"
            ]
          },
          "metadata": {
            "tags": []
          }
        }
      ]
    },
    {
      "cell_type": "markdown",
      "metadata": {
        "id": "YMEmSQVPZ9Ru"
      },
      "source": [
        "### **Conclusiones**\n",
        "\n",
        "(1) El caudal de condensado aumenta ***levemente*** al incrementar el area superficial del banco de tubos.\n",
        "\n",
        "*Causa:* $\\uparrow N_{L}\\;\\Rightarrow\\;\\uparrow N\\;\\Rightarrow\\;\\uparrow\\dot{q}$ ... si bien\n",
        "$\\uparrow N_{L}\\;\\Rightarrow\\;\\uparrow T_{o}\\;\\Rightarrow\\;\\downarrow\\Delta T_{lm}\\;\\Rightarrow\\;\\downarrow\\dot{q}$\n",
        "\n",
        "(2) El caudal de condensado aumenta ***considerablemente*** al incrementar el flujo masico de refrigerante.\n",
        "\n",
        "*Causa:* $\\uparrow V\\;\\Rightarrow\\;\\uparrow\\overline{h}\\;\\Rightarrow\\;\\uparrow\\dot{q}$ ... ademas\n",
        "$\\uparrow V\\;\\Rightarrow\\;\\downarrow T_{o}\\;\\Rightarrow\\;\\uparrow\\Delta T_{lm}\\;\\Rightarrow\\;\\uparrow\\dot{q}$\n",
        "\n",
        "**Nota:** Podria optar por un refrigerante liquido ($\\uparrow\\uparrow\\overline{h}$) si deseo aumentar el caudal de condensado."
      ]
    }
  ]
}