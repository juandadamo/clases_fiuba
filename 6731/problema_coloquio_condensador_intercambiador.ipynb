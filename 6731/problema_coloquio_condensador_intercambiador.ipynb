{
 "cells": [
  {
   "cell_type": "code",
   "execution_count": 1,
   "id": "4cc71c04",
   "metadata": {},
   "outputs": [],
   "source": [
    "import numpy as np\n",
    "import ht\n",
    "import matplotlib.pyplot as plt\n",
    "import CoolProp as cp\n",
    "from IPython.display import Latex"
   ]
  },
  {
   "cell_type": "markdown",
   "id": "bb3b8eda",
   "metadata": {},
   "source": [
    "#### Práctica\n",
    "\t\n",
    "A un haz de tubos horizontales está formado por un patrón en cuadrado de 5 tubos en altura y 5 tubos a lo\n",
    "\tancho. Los tubos de acero al carbono (\\(k_w\\) =50W/m K) son de diámetro externo $D=$25mm, con un espesor de\n",
    "\tpared \\(e_t =1\\)mm. Estos se encuentran sumergidos en una corriente de vapor saturado a \\(T_{sat} =350\\)K. Por uno de\n",
    "\tsus extremos ingresa agua a \\(T_{AE}=300\\)K, para un caudal que en el interior de estos se establece una\n",
    "\tvelocidad de \\(V=2\\)m/s (un paso por tubos). Si se requiere que la temperatura del agua a la salida sea\n",
    "\t\\(T_{AS}=320\\)K, se pide calcular:\n",
    "\n",
    "1.  El caudal de agua establecido (\\(\\dot m_f\\) ).\n",
    "2.  El calor intercambiado (\\(\\dot Q\\)).\n",
    "3.  La masa de vapor condensado (\\(\\dot m_c\\) )\n",
    "4.  El coeficiente global de transmisión (\\(U\\)).\n",
    "5.  La superficie de intercambio requerida (\\(A\\)).\n",
    "\tDurante el funcionamiento, repentinamente la temperatura del agua cae a \\(T_{AE}'= 295\\)K. Asumiendo que todos\n",
    "\tlos parámetros calculados (\\(U, A, \\dot m_f\\) , y todas las propiedades de los fluidos) permanecen constantes,\n",
    "\tdeterminar:\n",
    "6.  La nueva temperatura del agua a la salida (\\(T_{AS}'\\))\n",
    "7.  El nuevo calor intercambiado (\\(\\dot Q'\\)).\n",
    "8.  La nueva tasa de condensado (\\(\\dot m_c'\\) )."
   ]
  },
  {
   "cell_type": "code",
   "execution_count": 2,
   "id": "4d64e1a0",
   "metadata": {},
   "outputs": [],
   "source": [
    "nf, nc = [5, 5]\n",
    "ntubos = nf * nc\n",
    "D = 25e-3\n",
    "e_t = 1e-3\n",
    "Tae = 300\n",
    "V = 2\n",
    "Tsat = 350\n",
    "Tas = 320"
   ]
  },
  {
   "cell_type": "code",
   "execution_count": 3,
   "id": "77ec275f",
   "metadata": {},
   "outputs": [],
   "source": [
    "rho_v = cp.CoolProp.PropsSI('D', 'T', Tsat, 'Q', 1, 'Water')\n",
    "cp_v = cp.CoolProp.PropsSI('C', 'T', Tsat, 'Q', 1, 'Water')\n",
    "h_v = cp.CoolProp.PropsSI('H', 'T', Tsat, 'Q', 1, 'Water')\n",
    "h_a = cp.CoolProp.PropsSI('H', 'T', Tsat, 'Q', 0, 'Water')\n",
    "h_fg = h_v - h_a\n",
    "\n",
    "acero = ht.nearest_material('metals, steel')\n",
    "k_w = ht.k_material(acero)\n",
    "\n",
    "Tam = (Tas + Tae) / 2\n",
    "rho_a = cp.CoolProp.PropsSI('D', 'T', Tam, 'Q', 0, 'Water')\n",
    "cp_a = cp.CoolProp.PropsSI('C', 'T', Tam, 'Q', 0, 'Water')\n",
    "mu_a = cp.CoolProp.PropsSI('V', 'T', Tam, 'Q', 0, 'Water')\n",
    "k_a = cp.CoolProp.PropsSI('L', 'T', Tam, 'Q', 0, 'Water')\n",
    "Pr_a = cp.CoolProp.PropsSI('Prandtl', 'T', Tam, 'Q', 0, 'Water')\n",
    "nu_a = mu_a / rho_a\n",
    "Area_a = np.pi * (D - 2 * e_t)**2 / 4 * ntubos\n",
    "G_a = V * Area_a\n",
    "m_a = G_a * rho_a\n",
    "Q_a = m_a * cp_a * np.abs(Tae - Tas)"
   ]
  },
  {
   "cell_type": "code",
   "execution_count": 4,
   "id": "5d44160c",
   "metadata": {},
   "outputs": [
    {
     "data": {
      "text/latex": [
       "caudal másico de agua: $\\dot m_a=20.64$ kg/s"
      ],
      "text/plain": [
       "<IPython.core.display.Latex object>"
      ]
     },
     "metadata": {},
     "output_type": "display_data"
    },
    {
     "data": {
      "text/latex": [
       "Calor Intercambiado: $Q_a=1724.91$ kW"
      ],
      "text/plain": [
       "<IPython.core.display.Latex object>"
      ]
     },
     "metadata": {},
     "output_type": "display_data"
    }
   ],
   "source": [
    "display(Latex(f'caudal másico de agua: $\\dot m_a={m_a:.2f}$ kg/s'))\n",
    "display(Latex(f'Calor Intercambiado: $Q_a={Q_a*1e-3:.2f}$ kW'))"
   ]
  },
  {
   "cell_type": "code",
   "execution_count": 5,
   "id": "cc0e647a",
   "metadata": {},
   "outputs": [
    {
     "data": {
      "text/latex": [
       "Masa condensado: $\\dot m_c=0.74$ kg/s"
      ],
      "text/plain": [
       "<IPython.core.display.Latex object>"
      ]
     },
     "metadata": {},
     "output_type": "display_data"
    }
   ],
   "source": [
    "m_c = Q_a/h_fg\n",
    "Tw = (Tam + Tsat)/2\n",
    "display(Latex(f'Masa condensado: $\\dot m_c={m_c:.2f}$ kg/s'))"
   ]
  },
  {
   "cell_type": "code",
   "execution_count": 6,
   "id": "3fa4f296",
   "metadata": {},
   "outputs": [],
   "source": [
    "rho_l = cp.CoolProp.PropsSI('D','T',Tsat,'Q',0,'Water')\n",
    "k_l = cp.CoolProp.PropsSI('L','T',Tsat,'Q',0,'Water')\n",
    "mu_l = cp.CoolProp.PropsSI('V','T',Tsat,'Q',0,'Water')\n",
    "h_cond = ht.condensation.Nusselt_laminar(Tsat, Tw, rho_v, rho_l, k_l, mu_l, h_fg, nf*D)*.728/.943 #correcion tubo/placa"
   ]
  },
  {
   "cell_type": "code",
   "execution_count": 7,
   "id": "29628f8f",
   "metadata": {},
   "outputs": [
    {
     "data": {
      "text/latex": [
       "Coeficiente transferencia por condensación: $h_{cond}=6625.94$ watt/m$^2$ K"
      ],
      "text/plain": [
       "<IPython.core.display.Latex object>"
      ]
     },
     "metadata": {},
     "output_type": "display_data"
    }
   ],
   "source": [
    "display(Latex(f'Coeficiente transferencia por condensación: $h_{{cond}}={h_cond:.2f}$ watt/m$^2$ K'))"
   ]
  },
  {
   "cell_type": "code",
   "execution_count": 8,
   "id": "0f6f24df",
   "metadata": {},
   "outputs": [],
   "source": [
    "Re_a = V*(D-2*e_t)/nu_a\n",
    "Nu_a = ht.conv_internal.Nu_conv_internal(Re_a, Pr_a)\n",
    "h_a = Nu_a * k_a/(D-2*e_t)"
   ]
  },
  {
   "cell_type": "code",
   "execution_count": 9,
   "id": "4ae23c58",
   "metadata": {},
   "outputs": [
    {
     "data": {
      "text/latex": [
       "Coeficiente transferencia por convección: $h_{conv}=9594.33$ watt/m$^2$ K"
      ],
      "text/plain": [
       "<IPython.core.display.Latex object>"
      ]
     },
     "metadata": {},
     "output_type": "display_data"
    }
   ],
   "source": [
    "display(Latex(f'Coeficiente transferencia por convección: $h_{{conv}}={h_a:.2f}$ watt/m$^2$ K'))"
   ]
  },
  {
   "cell_type": "code",
   "execution_count": 10,
   "id": "d3159ce4",
   "metadata": {},
   "outputs": [],
   "source": [
    "U = 1 / ( (1/h_cond ) + (D*np.log(D/(D-2*e_t))/(2*k_w)) + (D/h_a/(D-2*e_t)) )"
   ]
  },
  {
   "cell_type": "code",
   "execution_count": 11,
   "id": "95ef03bd",
   "metadata": {},
   "outputs": [
    {
     "data": {
      "text/latex": [
       "Coeficiente transferencia Global: $U=3508.05$ watt/m$^2$ K"
      ],
      "text/plain": [
       "<IPython.core.display.Latex object>"
      ]
     },
     "metadata": {},
     "output_type": "display_data"
    }
   ],
   "source": [
    "display(Latex(f'Coeficiente transferencia Global: $U={U:.2f}$ watt/m$^2$ K'))"
   ]
  },
  {
   "cell_type": "code",
   "execution_count": 12,
   "id": "a239e71b",
   "metadata": {},
   "outputs": [
    {
     "data": {
      "text/latex": [
       "DTLM =39.2 K"
      ],
      "text/plain": [
       "<IPython.core.display.Latex object>"
      ]
     },
     "metadata": {},
     "output_type": "display_data"
    }
   ],
   "source": [
    "DTLM = ht.LMTD(Tsat, Tsat, Tae, Tas, counterflow=True)\n",
    "display(Latex(f'DTLM ={DTLM:.1f} K'))"
   ]
  },
  {
   "cell_type": "code",
   "execution_count": 13,
   "id": "4dd979c5",
   "metadata": {},
   "outputs": [
    {
     "data": {
      "text/latex": [
       "Area total =12.6 m$^2$"
      ],
      "text/plain": [
       "<IPython.core.display.Latex object>"
      ]
     },
     "metadata": {},
     "output_type": "display_data"
    }
   ],
   "source": [
    "A_total = Q_a / (U*DTLM)\n",
    "display(Latex(f'Area total ={A_total:.1f} m$^2$'))"
   ]
  },
  {
   "cell_type": "code",
   "execution_count": 14,
   "id": "33d05df7",
   "metadata": {},
   "outputs": [
    {
     "data": {
      "text/latex": [
       "Nut =0.51"
      ],
      "text/plain": [
       "<IPython.core.display.Latex object>"
      ]
     },
     "metadata": {},
     "output_type": "display_data"
    },
    {
     "data": {
      "text/latex": [
       "\\(\\varepsilon =\\)0.40"
      ],
      "text/plain": [
       "<IPython.core.display.Latex object>"
      ]
     },
     "metadata": {},
     "output_type": "display_data"
    }
   ],
   "source": [
    "Cmin = cp_a*m_a\n",
    "Nut = U*A_total / Cmin\n",
    "display(Latex(f'Nut ={Nut:.2f}'))\n",
    "epsilon = ht.effectiveness_from_NTU(Nut,0)\n",
    "display(Latex(f'\\(\\\\varepsilon =\\){epsilon:.2f}'))"
   ]
  },
  {
   "cell_type": "code",
   "execution_count": 15,
   "id": "d86c56bd",
   "metadata": {},
   "outputs": [
    {
     "data": {
      "text/latex": [
       "\\(T_{as}^\\prime =\\)317.0K"
      ],
      "text/plain": [
       "<IPython.core.display.Latex object>"
      ]
     },
     "metadata": {},
     "output_type": "display_data"
    },
    {
     "data": {
      "text/latex": [
       "\\(\\dot Q^\\prime =\\)1897.4kW"
      ],
      "text/plain": [
       "<IPython.core.display.Latex object>"
      ]
     },
     "metadata": {},
     "output_type": "display_data"
    },
    {
     "data": {
      "text/latex": [
       "Masa condensado nueva: $\\dot m_c^\\prime=0.82$ kg/s"
      ],
      "text/plain": [
       "<IPython.core.display.Latex object>"
      ]
     },
     "metadata": {},
     "output_type": "display_data"
    }
   ],
   "source": [
    "Tae2 = 295\n",
    "Tas2 = Tae2+(Tsat-Tae2)*epsilon\n",
    "display(Latex(f'\\(T_{{as}}^\\prime =\\){Tas2:.1f}K'))\n",
    "Q_a2 = m_a * cp_a*(Tas2-Tae2)\n",
    "display(Latex(f'\\(\\dot Q^\\prime =\\){Q_a2*1e-3:.1f}kW'))\n",
    "m_c2 = Q_a2/h_fg\n",
    "display(Latex(f'Masa condensado nueva: $\\dot m_c^\\prime={m_c2:.2f}$ kg/s'))"
   ]
  },
  {
   "cell_type": "code",
   "execution_count": null,
   "id": "a94360d5",
   "metadata": {},
   "outputs": [],
   "source": []
  }
 ],
 "metadata": {
  "kernelspec": {
   "display_name": "Python 3 (ipykernel)",
   "language": "python",
   "name": "python3"
  },
  "language_info": {
   "codemirror_mode": {
    "name": "ipython",
    "version": 3
   },
   "file_extension": ".py",
   "mimetype": "text/x-python",
   "name": "python",
   "nbconvert_exporter": "python",
   "pygments_lexer": "ipython3",
   "version": "3.10.9"
  },
  "latex_envs": {
   "LaTeX_envs_menu_present": true,
   "autoclose": true,
   "autocomplete": true,
   "bibliofile": "biblio.bib",
   "cite_by": "apalike",
   "current_citInitial": 1,
   "eqLabelWithNumbers": true,
   "eqNumInitial": 1,
   "hotkeys": {
    "equation": "Ctrl-E",
    "itemize": "Ctrl-I"
   },
   "labels_anchors": false,
   "latex_user_defs": false,
   "report_style_numbering": false,
   "user_envs_cfg": false
  }
 },
 "nbformat": 4,
 "nbformat_minor": 5
}
