{
 "cells": [
  {
   "cell_type": "markdown",
   "id": "15eb3542-82bf-4049-aa25-8ff8d1d3b0f2",
   "metadata": {},
   "source": [
    "# Transferencia de calor en Hogares de Calderas\n",
    "\n",
    "| **Parameter**                         | **Value**                      |\n",
    "|---------------------------------------|--------------------------------|\n",
    "| **Furnace Geometry**                  | 5 m × 5 m × 15 m               |\n",
    "| **Fuel**                              | Methane                        |\n",
    "| **Lower Heating Value (Hu)**          | 50,409 kJ/kg                   |\n",
    "| **Heat Capacity (Qc)**                | 117,000 kW                     |\n",
    "| **Combustion Conditions**             | 30% air surplus, no soot formation |\n",
    "| **Temperatures of Incoming Mass Flows**|                                |\n",
    "| T0 (Initial Temperature)              | 298.15 K                       |\n",
    "| **Surrounding Ambient Temperature**   | 298.15 K                       |\n",
    "| **Wall Temperature**                  | 700.00 K                       |\n",
    "| **Degree of Emission of the Walls (eW)**| 0.8                           |\n",
    "| **Convective Heat Transfer Coefficient (α)**| 5.8 × 10³ kW/(m²·K)          |\n",
    "| **Stefan–Boltzmann Constant (σ)**     | 5.67 × 10⁻¹¹ kW/(m²·K⁴)        |"
   ]
  },
  {
   "cell_type": "markdown",
   "id": "09e81092-a0ea-4b1b-a856-fd63c1084387",
   "metadata": {},
   "source": [
    "| **Parámetro**                         | **Valor**                      |\n",
    "|---------------------------------------|--------------------------------|\n",
    "| **Geometría del Horno**               | 5 m × 5 m × 15 m               |\n",
    "| **Combustible**                       | Metano                         |\n",
    "| **Poder Calorífico Inferior (Hu)**    | 50,409 kJ/kg                   |\n",
    "| **Capacidad Calórica (Qc)**           | 117,000 kW                     |\n",
    "| **Condiciones de Combustión**         | 30% de aire en exceso, sin formación de hollín |\n",
    "| **Temperaturas de los Flujos Másivos Entrantes** |                        |\n",
    "| T0 (Temperatura Inicial)              | 298.15 K                       |\n",
    "| **Temperatura Ambiental**             | 298.15 K                       |\n",
    "| **Temperatura de la Pared**           | 700.00 K                       |\n",
    "| **Grado de Emisión de las Paredes (eW)**| 0.8                           |\n",
    "| **Coeficiente de Transferencia de Calor Convectivo (α)**| 5.8 × 10³ kW/(m²·K)          |\n",
    "| **Constante de Stefan–Boltzmann (σ)** | 5.67 × 10⁻¹¹ kW/(m²·K⁴)        |\n"
   ]
  },
  {
   "cell_type": "code",
   "execution_count": 2,
   "id": "1f1639c7-1125-4402-ba4d-386c21cd8f1c",
   "metadata": {},
   "outputs": [],
   "source": [
    "# Variables de acuerdo a la tabla en Python\n",
    "furnace_geometry = (5, 5, 15)  # Geometría del horno (en metros)\n",
    "fuel = \"Metano\"\n",
    "lower_heating_value = 50409  # kJ/kg\n",
    "heat_capacity = 117000  # kW\n",
    "combustion_conditions = \"30% aire en exceso, sin formación de hollín\"\n",
    "T0 = 298.15  # Temperatura inicial en K\n",
    "ambient_temperature = 298.15  # Temperatura ambiental en K\n",
    "T_W = 700.00  # Temperatura de la pared en K\n",
    "e_W = 0.8  # Grado de emisión de las paredes\n",
    "alpha = 5800.0  # Coeficiente de transferencia de calor convectivo en kW/(m²·K)\n",
    "stefan_boltzmann_constant = 5.67e-11  # Constante de Stefan-Boltzmann en kW/(m²·K⁴)\n"
   ]
  },
  {
   "cell_type": "code",
   "execution_count": null,
   "id": "28aaa286-620a-475f-bc05-3ac8ac0033f0",
   "metadata": {},
   "outputs": [],
   "source": []
  }
 ],
 "metadata": {
  "kernelspec": {
   "display_name": "Python 3 (ipykernel)",
   "language": "python",
   "name": "python3"
  },
  "language_info": {
   "codemirror_mode": {
    "name": "ipython",
    "version": 3
   },
   "file_extension": ".py",
   "mimetype": "text/x-python",
   "name": "python",
   "nbconvert_exporter": "python",
   "pygments_lexer": "ipython3",
   "version": "3.12.7"
  }
 },
 "nbformat": 4,
 "nbformat_minor": 5
}
