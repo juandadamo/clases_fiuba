{
 "cells": [
  {
   "cell_type": "code",
   "execution_count": 39,
   "id": "3a487ad3-b874-4330-9e4b-26266be65601",
   "metadata": {
    "tags": []
   },
   "outputs": [],
   "source": [
    "import numpy as np \n",
    "import matplotlib.pyplot as plt\n",
    "import pandas as pd\n",
    "import glob\n",
    "import CoolProp as cp\n",
    "from IPython.display import Latex"
   ]
  },
  {
   "cell_type": "markdown",
   "id": "3fa2a654-0879-46c2-9241-27f1573debb6",
   "metadata": {},
   "source": [
    "# Ejemplo 1 Combustion de gas "
   ]
  },
  {
   "cell_type": "markdown",
   "id": "ea378e08-060c-4be5-b436-67e581b9974e",
   "metadata": {},
   "source": [
    "| **Parámetro**                            | **Valor**                              |\n",
    "|------------------------------------------|----------------------------------------|\n",
    "| Geometría Hogar                          | 5 m × 5 m × 15 m                      |\n",
    "| Combustible                              | Metano                            |\n",
    "|Poder calorífico Inferior PCI(\\(H_u\\))    | 50,409 kJ/kg                          |\n",
    "| Condiciones de Combustion                | 30% air surplus, no soot formation    |\n",
    "| Temperaturas de entrada de flujos        | $T_0 = 298.15 \\, \\text{K}$          |\n",
    "| Temperatura ambiente  (\\(T_U\\))          | $T_U = 298.15 \\, \\text{K}$         |\n",
    "| Temperatura de pared(\\(T_W\\))            | $T_W = 700.00 \\, \\text{K}$          |\n",
    "| Emisividad de paredes (\\(e_W\\))          | 0.8                                   |\n",
    "| Coeficiente de transferencia por convección (\\(a\\)) | $5.8 \\times 10^{-3} \\, \\text{kW}/(\\text{m}^2 \\, \\text{K})$ |\n",
    "| constante de Stefan–Boltzmann  ($\\sigma$)       | $5.67 \\times 10^{-11} \\, \\text{kW}/(\\text{m}^2 \\, \\text{K}^4)$ |\n"
   ]
  },
  {
   "cell_type": "code",
   "execution_count": 60,
   "id": "a763c8f5-9c1e-4f4a-89ee-6cec4902242a",
   "metadata": {
    "tags": []
   },
   "outputs": [
    {
     "name": "stdout",
     "output_type": "stream",
     "text": [
      "Geometría del horno (m): (5, 5, 15)\n",
      "Combustible: Metano\n",
      "Poder calorífico inferior (J/kg): 50409000.0\n",
      "Exceso de aire (%): 30.0\n",
      "Formación de hollín: False\n",
      "Temperatura del flujo entrante (K): 298.15\n",
      "Temperatura ambiente (K): 298.15\n",
      "Temperatura de las paredes (K): 700.0\n",
      "Grado de emisión de las paredes: 0.8\n",
      "Coef. de transferencia de calor (W/m^2·K): 5.8\n",
      "Constante de Stefan-Boltzmann (W/m^2·K^4): 5.67e-08\n"
     ]
    }
   ],
   "source": [
    "# Definir propiedades del horno\n",
    "geometria_horno = (5, 5, 15)  # Dimensiones en metros (largo, ancho, alto)\n",
    "combustible = \"Metano\"\n",
    "PCI = 50409*1e3  # kJ/kg\n",
    "calor_combustible = 117e3*1e3 #Watt\n",
    "p_hogar  = 101.3e3\n",
    "# Condiciones de combustión\n",
    "exceso_aire = 0.30  # 30% de exceso de aire\n",
    "formacion_hollin = False  # Sin formación de hollín\n",
    "\n",
    "# Temperaturas (en Kelvin)\n",
    "T0 = 298.15  # Temperatura del flujo másico entrante\n",
    "TU = 298.15  # Temperatura ambiente circundante\n",
    "TW = 700.00  # Temperatura de las paredes\n",
    "\n",
    "# Propiedades del material\n",
    "eW = 0.8  # Grado de emisión de las paredes\n",
    "h_conv = 5.8e-3*1e3  # Coeficiente de transferencia de calor por convección (kW/(m^2·K))\n",
    "sigma = 5.67e-8  # Constante de Stefan-Boltzmann (W/(m^2·K^4))\n",
    "\n",
    "# Mostrar las variables definidas para referencia\n",
    "variables = {\n",
    "    \"Geometría del horno (m)\": geometria_horno,\n",
    "    \"Combustible\": combustible,\n",
    "    \"Poder calorífico inferior (J/kg)\": poder_calorifico_inferior,\n",
    "    \"Exceso de aire (%)\": exceso_aire * 100,\n",
    "    \"Formación de hollín\": formacion_hollin,\n",
    "    \"Temperatura del flujo entrante (K)\": T0,\n",
    "    \"Temperatura ambiente (K)\": TU,\n",
    "    \"Temperatura de las paredes (K)\": TW,\n",
    "    \"Grado de emisión de las paredes\": eW,\n",
    "    \"Coef. de transferencia de calor (W/m^2·K)\": h_conv,\n",
    "    \"Constante de Stefan-Boltzmann (W/m^2·K^4)\": sigma,\n",
    "}\n",
    "\n",
    "for clave, valor in variables.items():\n",
    "    print(f\"{clave}: {valor}\")\n"
   ]
  },
  {
   "cell_type": "code",
   "execution_count": 61,
   "id": "3aa0c1a9-0264-4648-92ce-8edf787d1c09",
   "metadata": {
    "tags": []
   },
   "outputs": [
    {
     "data": {
      "text/plain": [
       "(2.321014104624174, 117000000.0, 50409000.0)"
      ]
     },
     "execution_count": 61,
     "metadata": {},
     "output_type": "execute_result"
    }
   ],
   "source": [
    "m_ch4 = calor_combustible/PCI\n",
    "m_ch4,calor_combustible,PCI\n",
    "\n",
    "\n"
   ]
  },
  {
   "cell_type": "code",
   "execution_count": 62,
   "id": "d1668030-4eda-4a95-91e1-8a32c0eade92",
   "metadata": {},
   "outputs": [
    {
     "data": {
      "text/plain": [
       "46.83256781283499"
      ]
     },
     "execution_count": 62,
     "metadata": {},
     "output_type": "execute_result"
    }
   ],
   "source": [
    "calor_combustible/(cp1*T_aD_COMB_CH4)"
   ]
  },
  {
   "cell_type": "code",
   "execution_count": 63,
   "id": "6672a6df-ecad-4421-87ba-f906428afbbb",
   "metadata": {
    "tags": []
   },
   "outputs": [],
   "source": [
    "# T_adiabatica_metano \n",
    "T_aD_COMB_CH4 = 1963+273"
   ]
  },
  {
   "cell_type": "code",
   "execution_count": 121,
   "id": "dc3a3724-4131-42f1-bb16-e80a93518529",
   "metadata": {
    "tags": []
   },
   "outputs": [],
   "source": [
    "T_G0 = (T_aD_COMB_CH4 + TW)/2\n",
    "\n",
    "T_G = 1600\n",
    "CP_G = cp.CoolProp.PropsSI('C','T',T_G,'P',p_hogar,'AIR')\n",
    "bar = 101.3e3\n",
    "pCO2 = 0.074 *bar;\n",
    "pH2O = 0.158*bar;\n",
    "pN2 =  0.724*bar;\n",
    "pO2 = 0.044* bar\n",
    "\n",
    "m_vg =  54319 #kg/s desde calculos de combustion\n",
    "\n",
    "Vol_hogar = np.array(geometria_horno).prod()\n",
    "L1,L2,L3 = geometria_horno\n",
    "S_hogar = L1*L2*2+L2*L3*2+L3*L1*2\n",
    "s_eq = 4*Vol_hogar/S_hogar*0.9"
   ]
  },
  {
   "cell_type": "code",
   "execution_count": 122,
   "id": "2dd7783f-9cab-400b-bec3-96209ce8c9a7",
   "metadata": {
    "tags": []
   },
   "outputs": [],
   "source": [
    "eps_G, Av = [0.291,0.543]"
   ]
  },
  {
   "cell_type": "markdown",
   "id": "ac759536-f12b-4cd2-8d17-57f63f05dea9",
   "metadata": {},
   "source": [
    "$\\dot Q_{conv} = A h_{conv}(T_G-T_w)$"
   ]
  },
  {
   "cell_type": "code",
   "execution_count": 123,
   "id": "0b5cfc28-9fd3-4309-bb7b-ec592cc1094c",
   "metadata": {
    "tags": []
   },
   "outputs": [],
   "source": [
    "Q_conv = S_hogar*h_conv*(T_G-TW)\n",
    "\n",
    "Tref1 = (T_G+TU)/2\n",
    "Tref2 = (T0+TU)/2\n",
    "cp1 = cp.CoolProp.PropsSI('C','T',Tref1,'P',p_hogar,'AIR')\n",
    "if Tref2!=0:\n",
    "    cp2 = cp.CoolProp.PropsSI('C','T',Tref1,'P',p_hogar,'AIR')\n",
    "else: cp2 = 0\n",
    "Q_F = m_vg*(cp1*1e-3*(T_G-TU)+cp2*(T0-TU))"
   ]
  },
  {
   "cell_type": "markdown",
   "id": "b6ce41aa-228f-4f25-9282-b612a400d791",
   "metadata": {
    "tags": []
   },
   "source": [
    "$\\dot Q_{gw} =\\displaystyle A\\sigma\\frac{\\varepsilon_w}\n",
    "{1-(1-\\varepsilon_w)(1-A_v)}(\\varepsilon_g T_g^4-A_v T_w^4)$"
   ]
  },
  {
   "cell_type": "code",
   "execution_count": 124,
   "id": "ae31a209-dd8e-47ac-a0ac-f65361cfa924",
   "metadata": {},
   "outputs": [
    {
     "name": "stdout",
     "output_type": "stream",
     "text": [
      "0.2854285714285714\n"
     ]
    }
   ],
   "source": [
    "print(s_eq*pCO2/bar)\n",
    "eps_CO2_w = 0.15"
   ]
  },
  {
   "cell_type": "code",
   "execution_count": 125,
   "id": "d59f0a31-36a9-4108-ad0e-829f9d5f5ee4",
   "metadata": {},
   "outputs": [
    {
     "name": "stdout",
     "output_type": "stream",
     "text": [
      "0.6094285714285714\n"
     ]
    }
   ],
   "source": [
    "print(s_eq*pH2O/bar)\n",
    "eps_H20_w = 0.4"
   ]
  },
  {
   "cell_type": "code",
   "execution_count": 126,
   "id": "fce5ba04-081c-42e8-94f3-ecf390b1c94a",
   "metadata": {},
   "outputs": [
    {
     "name": "stdout",
     "output_type": "stream",
     "text": [
      "0.6810344827586207\n",
      "0.8948571428571428\n"
     ]
    },
    {
     "data": {
      "text/latex": [
       "$\\varepsilon_W=0.500$"
      ],
      "text/plain": [
       "<IPython.core.display.Latex object>"
      ]
     },
     "metadata": {},
     "output_type": "display_data"
    }
   ],
   "source": [
    "print(pH2O/(pCO2+pH2O))\n",
    "print(s_eq*pH2O/bar+s_eq*pCO2/bar)\n",
    "delta_eps = 0.05\n",
    "eps_W = eps_CO2_w+eps_H20_w-delta_eps\n",
    "\n",
    "display(Latex(f'$\\\\varepsilon_W={eps_W:.3f}$'))"
   ]
  },
  {
   "cell_type": "code",
   "execution_count": 127,
   "id": "f2f81df2-1ba7-40bb-88f3-1e7da4ed734b",
   "metadata": {
    "tags": []
   },
   "outputs": [],
   "source": [
    "Q_gw =sigma*S_hogar*eps_W/(1-(1-eps_W)*(1-Av))*(eps_G*T_G**4-Av*TU**4)"
   ]
  },
  {
   "cell_type": "code",
   "execution_count": 128,
   "id": "afa0e9ea-8292-4b93-ba3c-56a5b9609b1a",
   "metadata": {},
   "outputs": [
    {
     "data": {
      "text/plain": [
       "(24472586.38154347, 1827000.0, 79982636.56779781, 1600)"
      ]
     },
     "execution_count": 128,
     "metadata": {},
     "output_type": "execute_result"
    }
   ],
   "source": [
    "Q_gw,Q_conv,Q_F,T_G"
   ]
  },
  {
   "cell_type": "code",
   "execution_count": 146,
   "id": "30b05515-7317-44ca-ab15-d2809f720dcd",
   "metadata": {},
   "outputs": [
    {
     "data": {
      "text/latex": [
       "iteraciones: 2730"
      ],
      "text/plain": [
       "<IPython.core.display.Latex object>"
      ]
     },
     "metadata": {},
     "output_type": "display_data"
    },
    {
     "data": {
      "text/latex": [
       "$T_G = 1677.9K$"
      ],
      "text/plain": [
       "<IPython.core.display.Latex object>"
      ]
     },
     "metadata": {},
     "output_type": "display_data"
    },
    {
     "data": {
      "text/latex": [
       "$Q_F= 85343.1kW$"
      ],
      "text/plain": [
       "<IPython.core.display.Latex object>"
      ]
     },
     "metadata": {},
     "output_type": "display_data"
    },
    {
     "data": {
      "text/latex": [
       "$Q_{gw} = 29609.9kW$"
      ],
      "text/plain": [
       "<IPython.core.display.Latex object>"
      ]
     },
     "metadata": {},
     "output_type": "display_data"
    },
    {
     "data": {
      "text/latex": [
       "$Q_{conv} = 1985.1kW$"
      ],
      "text/plain": [
       "<IPython.core.display.Latex object>"
      ]
     },
     "metadata": {},
     "output_type": "display_data"
    },
    {
     "data": {
      "text/latex": [
       "$Q_{c} = 117000.0kW$"
      ],
      "text/plain": [
       "<IPython.core.display.Latex object>"
      ]
     },
     "metadata": {},
     "output_type": "display_data"
    },
    {
     "data": {
      "text/latex": [
       "$\\eta=27.1\\%$"
      ],
      "text/plain": [
       "<IPython.core.display.Latex object>"
      ]
     },
     "metadata": {},
     "output_type": "display_data"
    }
   ],
   "source": [
    "\n",
    "T_Gi = T_G0\n",
    "#T_Gi = 1400\n",
    "#for i in range (1000):\n",
    "dTG = 10\n",
    "iter = 0\n",
    "while dTG >.001:\n",
    "    Tref1 = (T_Gi+TU)/2\n",
    "    cp_i = cp.CoolProp.PropsSI('C','T',Tref1,'P',p_hogar,'AIR')\n",
    "    c_1 = eps_W / (1-(1-eps_W)*(1-Av))\n",
    "    dfdTG = m_vg*cp_i+S_hogar*h_conv+4*S_hogar*c_1*eps_G*sigma*T_Gi**3\n",
    "    \n",
    "    Q_F = m_vg*(cp_i*1e-3*(T_Gi-TU))\n",
    "    Q_conv = S_hogar*h_conv*(T_Gi-TW)\n",
    "    Q_gw =sigma*S_hogar*eps_W/(1-(1-eps_W)*(1-Av))*(eps_G*T_Gi**4-Av*TU**4)\n",
    "    Qc = calor_combustible\n",
    "    \n",
    "    fTG = Q_F+Q_conv+Q_gw-Qc\n",
    "    T_Gi1 = T_Gi - fTG/dfdTG\n",
    "    dTG = np.abs(T_Gi-T_Gi1)\n",
    "    T_Gi = T_Gi1\n",
    "    iter += 1\n",
    "display(Latex(f'iteraciones: {iter:0d}'))\n",
    "display(Latex(f'$T_G = {T_Gi:.1f}K$')  )  \n",
    "display(Latex(f'$Q_F= {Q_F*1e-3:.1f}kW$')  ) \n",
    "display(Latex(f'$Q_{{gw}} = {Q_gw*1e-3:.1f}kW$')  ) \n",
    "display(Latex(f'$Q_{{conv}} = {Q_conv*1e-3:.1f}kW$')  ) \n",
    "display(Latex(f'$Q_{{c}} = {Qc*1e-3:.1f}kW$')  ) \n",
    "\n",
    "Qu = m_vg*cp_i*(T_Gi-TU)*1e-3\n",
    "Qneto = Qc - Qu\n",
    "eficiencia = Qneto / Qc\n",
    "\n",
    "display(Latex(f'$\\\\eta={eficiencia*100:.1f}\\\\%$'))"
   ]
  },
  {
   "cell_type": "markdown",
   "id": "9c0d2722-ff66-4709-af76-044436100937",
   "metadata": {},
   "source": [
    "# Ejemplo 2: Combustión de carbón"
   ]
  },
  {
   "cell_type": "markdown",
   "id": "9048c93d-cf4e-4edc-bca4-8bf4f6a91bf4",
   "metadata": {
    "editable": true,
    "slideshow": {
     "slide_type": ""
    },
    "tags": []
   },
   "source": [
    "| **Parámetro**                            | **Valor**                              |\n",
    "|------------------------------------------|----------------------------------------|\n",
    "| Geometría Hogar                          | 5 m × 5 m × 15 m                      |\n",
    "| Combustible                              | polvo de carbon No 3 Cuadro     11.1                       |\n",
    "|Poder calorífico Inferior PCI(\\(H_u\\))    | 31506 kJ/kg                          |\n",
    "| Condiciones de Combustion                | Cuadro  11.1   |\n",
    "| Temperaturas de entrada de flujos        | $T_0 = 298.15 \\, \\text{K}$          |\n",
    "| Temperatura ambiente  (\\(T_U\\))          | $T_U = 298.15 \\, \\text{K}$         |\n",
    "| Temperatura de pared(\\(T_W\\))            | $T_W = 700.00 \\, \\text{K}$          |\n",
    "| Emisividad de paredes (\\(e_W\\))          | 0.8                                   |\n",
    "| Coeficiente de transferencia por convección (\\(a\\)) | $5.8 \\times 10^{-3} \\, \\text{kW}/(\\text{m}^2 \\, \\text{K})$ |\n",
    "| constante de Stefan–Boltzmann  ($\\sigma$)       | $5.67 \\times 10^{-11} \\, \\text{kW}/(\\text{m}^2 \\, \\text{K}^4)$ |\n"
   ]
  },
  {
   "cell_type": "code",
   "execution_count": 150,
   "id": "5de4baae-6042-4fc4-bc01-3d96f52906f6",
   "metadata": {},
   "outputs": [],
   "source": [
    "PCI_carbon = 31506e3"
   ]
  },
  {
   "cell_type": "markdown",
   "id": "edbb818f-3596-47b7-af6b-ae7d4727178a",
   "metadata": {
    "editable": true,
    "slideshow": {
     "slide_type": ""
    },
    "tags": []
   },
   "source": [
    "| **Parámetro**                                          | **Valor**                                 |\n",
    "|--------------------------------------------------------|-------------------------------------------|\n",
    "| Densidad de la mezcla de productos de combustión ($r_{VG}$) | $0.241 \\, \\text{kg/m}^3 \\, (1,500 \\, \\text{K})$ |\n",
    "| Densidad del material particulado de cenizas ($r_A$)    | $2,200 \\, \\text{kg/m}^3$                |\n",
    "| Diámetro promedio ponderado de cenizas ($x_A$)          | $16.8 \\times 10^{-6} \\, \\text{m}$       |\n",
    "| Parámetro de dispersión de distribución Rosin-Rammler ($n$) | $1.5$                                  |\n",
    "| Sección transversal efectiva relativa media para absorción de radiación de partículas de cenizas ($Q_{abs,A}$) | $0.2$ |\n",
    "| Concentración másica efectiva de partículas de carbón ($r_{K}$) | Una décima parte de las partículas de carbón mezcladas, pero no reaccionadas |\n",
    "| Densidad del material particulado de carbón ($r_K$)     | $850 \\, \\text{kg/m}^3$                 |\n",
    "| Diámetro promedio ponderado de partículas de carbón ($x_K$) | $65 \\times 10^{-6} \\, \\text{m}$        |\n",
    "| Parámetro de dispersión de distribución de partículas de carbón ($n$) | $1.5$                                 |\n",
    "| Sección transversal efectiva relativa media para absorción de radiación de partículas de carbón ($Q_{abs,K}$) | $0.85$ |\n",
    "| Carga efectiva de hollín (condiciones STP) ($B_R$)      | $163.5 \\times 10^{-6} \\, \\text{kg/m}^3$ |\n",
    "\n"
   ]
  },
  {
   "cell_type": "code",
   "execution_count": 147,
   "id": "06b5c203-e895-41cc-a406-9b3d1d5202c6",
   "metadata": {
    "editable": true,
    "slideshow": {
     "slide_type": ""
    },
    "tags": []
   },
   "outputs": [
    {
     "name": "stdout",
     "output_type": "stream",
     "text": [
      "Densidad mezcla productos de combustión (kg/m^3): 0.241\n",
      "Densidad cenizas (kg/m^3): 2200\n",
      "Diámetro promedio de cenizas (m): 1.68e-05\n",
      "Parámetro de dispersión de cenizas: 1.5\n",
      "Sección transversal efectiva de cenizas: 0.2\n",
      "Proporción partículas de carbón: 0.1\n",
      "Densidad carbón (kg/m^3): 850\n",
      "Diámetro promedio de carbón (m): 6.5e-05\n",
      "Parámetro de dispersión de carbón: 1.5\n",
      "Sección transversal efectiva de carbón: 0.85\n",
      "Carga efectiva de hollín (kg/m^3): 0.0001635\n"
     ]
    }
   ],
   "source": [
    "# Propiedades de los productos de combustión\n",
    "densidad_mezcla_productos = 0.241  # kg/m^3 (a 1,500 K)\n",
    "densidad_cenizas = 2200  # kg/m^3\n",
    "diametro_promedio_cenizas = 16.8e-6  # m\n",
    "parametro_dispersión_cenizas = 1.5\n",
    "seccion_transversal_abs_cenizas = 0.2  # sin unidad\n",
    "\n",
    "# Propiedades del carbón\n",
    "proporcion_particulas_carbon = 0.1  # Fracción de partículas mezcladas pero no reaccionadas\n",
    "densidad_carbon = 850  # kg/m^3\n",
    "diametro_promedio_carbon = 65e-6  # m\n",
    "parametro_dispersión_carbon = 1.5\n",
    "seccion_transversal_abs_carbon = 0.85  # sin unidad\n",
    "\n",
    "# Hollín\n",
    "carga_efectiva_hollin = 163.5e-6  # kg/m^3 (condiciones STP)\n",
    "\n",
    "# Salida de variables\n",
    "variables = {\n",
    "    \"Densidad mezcla productos de combustión (kg/m^3)\": densidad_mezcla_productos,\n",
    "    \"Densidad cenizas (kg/m^3)\": densidad_cenizas,\n",
    "    \"Diámetro promedio de cenizas (m)\": diametro_promedio_cenizas,\n",
    "    \"Parámetro de dispersión de cenizas\": parametro_dispersión_cenizas,\n",
    "    \"Sección transversal efectiva de cenizas\": seccion_transversal_abs_cenizas,\n",
    "    \"Proporción partículas de carbón\": proporcion_particulas_carbon,\n",
    "    \"Densidad carbón (kg/m^3)\": densidad_carbon,\n",
    "    \"Diámetro promedio de carbón (m)\": diametro_promedio_carbon,\n",
    "    \"Parámetro de dispersión de carbón\": parametro_dispersión_carbon,\n",
    "    \"Sección transversal efectiva de carbón\": seccion_transversal_abs_carbon,\n",
    "    \"Carga efectiva de hollín (kg/m^3)\": carga_efectiva_hollin,\n",
    "}\n",
    "\n",
    "for clave, valor in variables.items():\n",
    "    print(f\"{clave}: {valor}\")\n"
   ]
  },
  {
   "cell_type": "code",
   "execution_count": 148,
   "id": "324832f3-da37-42af-aaf6-acc39fbc48ad",
   "metadata": {
    "editable": true,
    "slideshow": {
     "slide_type": ""
    },
    "tags": []
   },
   "outputs": [],
   "source": [
    "pCO2 = 0.133 *bar;\n",
    "pH2O = 0.062*bar;\n",
    "pN2 =  0.759*bar;\n",
    "pO2 = 0.046* bar\n",
    "\n",
    "m_vg = 55.5  #kg/s\n"
   ]
  },
  {
   "cell_type": "markdown",
   "id": "e7584784-ef2f-44e3-aa5c-776e0691cb94",
   "metadata": {},
   "source": [
    "### a) radiacion de gases pura"
   ]
  },
  {
   "cell_type": "code",
   "execution_count": 149,
   "id": "2e4f22db-236f-4fe5-ad47-95d41c2ce700",
   "metadata": {},
   "outputs": [
    {
     "data": {
      "text/latex": [
       "$\\eta = 25.7\\%$"
      ],
      "text/plain": [
       "<IPython.core.display.Latex object>"
      ]
     },
     "metadata": {},
     "output_type": "display_data"
    }
   ],
   "source": [
    "TG = 1625\n",
    "Q_F = 86909e3\n",
    "Q_conv = 1878e3\n",
    "Q_rad  = 28213e3\n",
    "\n",
    "eta_carbon = (Q_conv+Q_rad) / Qc\n",
    "display(Latex(f'$\\\\eta = {eta_carbon*100:.1f}\\\\%$'))"
   ]
  },
  {
   "cell_type": "markdown",
   "id": "3c5d1317-e8e3-4dd7-b1b2-13f5584910fe",
   "metadata": {},
   "source": [
    "### b) Radiación de gases y llama\n",
    "\n",
    "cenizas, hollin, coque"
   ]
  },
  {
   "cell_type": "code",
   "execution_count": 172,
   "id": "ee83fbfc-588c-408e-8260-c58def2c5f80",
   "metadata": {},
   "outputs": [
    {
     "data": {
      "text/latex": [
       "$m_{cenizas}=0.0043kg/kg$"
      ],
      "text/plain": [
       "<IPython.core.display.Latex object>"
      ]
     },
     "metadata": {},
     "output_type": "display_data"
    }
   ],
   "source": [
    "m_combustible = Qc/PCI_carbon\n",
    "m_cenizas = 6.5*1e-2*m_combustible/m_vg\n",
    "display(Latex(f'$m_{{cenizas}}={m_cenizas:.4f}kg/kg$'))\n",
    "\n",
    "m_particulas_carbon  = proporcion_particulas_carbon* (1-0.014)*m_combustible/m_vg  # carbon residual sin combustión\n",
    "B_cenizas = densidad_mezcla_productos * m_cenizas\n",
    "B_particulas_carbon = densidad_mezcla_productos * m_particulas_carbon\n",
    "\n",
    "T_hollin = 1500  ##hipotesis\n",
    "\n",
    "B_hollin = carga_efectiva_hollin * 273 / T_hollin\n",
    "\n",
    "m_hollin = 1"
   ]
  },
  {
   "cell_type": "code",
   "execution_count": 177,
   "id": "3ee44127-137f-4abc-abf2-411bf6cf0576",
   "metadata": {},
   "outputs": [
    {
     "data": {
      "text/plain": [
       "(1.0481658577259414, 1.5899869780273514, 29.756999999999998)"
      ]
     },
     "execution_count": 177,
     "metadata": {},
     "output_type": "execute_result"
    }
   ],
   "source": [
    "B_cenizas*1e3,B_particulas_carbon*1e3,B_hollin*1e6   #kg/m3"
   ]
  },
  {
   "attachments": {
    "6a1e9fb7-9f3c-43a9-8ff1-11693e6d59cc.png": {
     "image/png": "[encoded data removed]"
    }
   },
   "cell_type": "markdown",
   "id": "190642c6-be3c-481e-9f75-6d0ed6b03ffd",
   "metadata": {},
   "source": [
    "![imagen.png](attachment:6a1e9fb7-9f3c-43a9-8ff1-11693e6d59cc.png)"
   ]
  },
  {
   "cell_type": "code",
   "execution_count": null,
   "id": "8828f0cf-9e62-4651-8db8-0e208a4bea89",
   "metadata": {},
   "outputs": [],
   "source": []
  }
 ],
 "metadata": {
  "kernelspec": {
   "display_name": "Python 3 (ipykernel)",
   "language": "python",
   "name": "python3"
  },
  "language_info": {
   "codemirror_mode": {
    "name": "ipython",
    "version": 3
   },
   "file_extension": ".py",
   "mimetype": "text/x-python",
   "name": "python",
   "nbconvert_exporter": "python",
   "pygments_lexer": "ipython3",
   "version": "3.12.7"
  }
 },
 "nbformat": 4,
 "nbformat_minor": 5
}
