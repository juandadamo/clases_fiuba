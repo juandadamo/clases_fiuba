{
 "cells": [
  {
   "cell_type": "code",
   "execution_count": 40,
   "id": "c8bd94a3",
   "metadata": {
    "_kg_hide-input": true,
    "_kg_hide-output": true,
    "papermill": {
     "duration": 12.40044,
     "end_time": "2021-05-30T21:24:18.188788",
     "exception": false,
     "start_time": "2021-05-30T21:24:05.788348",
     "status": "completed"
    },
    "tags": []
   },
   "outputs": [],
   "source": [
    "%%capture\n",
    "!pip install ht CoolProp fluids"
   ]
  },
  {
   "cell_type": "code",
   "execution_count": 69,
   "id": "0faa0c8e",
   "metadata": {
    "_cell_guid": "b1076dfc-b9ad-4769-8c92-a6c4dae69d19",
    "_kg_hide-input": true,
    "_kg_hide-output": true,
    "_uuid": "8f2839f25d086af736a60e9eeb907d3b93b6e0e5",
    "papermill": {
     "duration": 0.12376,
     "end_time": "2021-05-30T21:24:18.340027",
     "exception": false,
     "start_time": "2021-05-30T21:24:18.216267",
     "status": "completed"
    },
    "tags": []
   },
   "outputs": [],
   "source": [
    "%matplotlib widget\n",
    "import numpy as np # linear algebra\n",
    "import matplotlib.pyplot as plt\n",
    "import ht,fluids,os\n",
    "import CoolProp as cp\n",
    "from IPython.display import Latex\n",
    "from matplotlib.lines import Line2D\n",
    "from scipy.optimize import brentq\n",
    "MK = Line2D.markers\n",
    "mk = [mki for mki in MK.keys()][2:]"
   ]
  },
  {
   "cell_type": "code",
   "execution_count": 52,
   "id": "7267a22c",
   "metadata": {},
   "outputs": [],
   "source": [
    "D = 50e-3\n",
    "T_e0 = 800\n",
    "T_a = 300\n",
    "T_w = 300\n",
    "T_ef = 400\n",
    "T_eref = 450\n",
    "\n",
    "\n",
    "T_m = (T_a + T_eref)/2\n",
    "Pr = cp.CoolProp.PropsSI('Prandtl','T',T_m+273,'P',101.3e3,'Air')\n",
    "mu_a = cp.CoolProp.PropsSI('V','T',T_m+273,'P',101.3e3,'Air')\n",
    "rho_a = cp.CoolProp.PropsSI('D','T',T_m+273,'P',101.3e3,'Air')\n",
    "k_a = cp.CoolProp.PropsSI('L','T',T_m+273,'P',101.3e3,'Air')\n",
    "nu_a = mu_a/rho_a\n",
    "a_a = nu_a / Pr\n",
    "k_e = 231\n",
    "rho_e = 2700\n",
    "C_e = 1030\n",
    "S_e = np.pi*(D/2)**2/4\n",
    "V_e = np.pi*(D/2)**3*4/3\n",
    "\n",
    "a_c = 0.833e-7\n",
    "epsilon_e = 0.75\n",
    "g = 9.8\n",
    "L = 1\n",
    "\n",
    "sigma_sb = 5.67e-8\n",
    "Lc = D\n",
    "beta = 1/(T_m+273)\n",
    "Ra = beta * (T_eref-T_a)*g*Lc**3/ nu_a / a_a\n",
    "Gr = Ra/Pr\n",
    "\n",
    "\n",
    "Nu = ht.conv_free_immersed.Nu_sphere_Churchill(Pr,Gr)"
   ]
  },
  {
   "cell_type": "code",
   "execution_count": 57,
   "id": "447baf06-6202-4b72-887c-80c544599d8f",
   "metadata": {},
   "outputs": [
    {
     "data": {
      "text/latex": [
       "$h_{conv}=8.8$W/m$^2$"
      ],
      "text/plain": [
       "<IPython.core.display.Latex object>"
      ]
     },
     "metadata": {},
     "output_type": "display_data"
    },
    {
     "data": {
      "text/latex": [
       "$Bi=0.002$"
      ],
      "text/plain": [
       "<IPython.core.display.Latex object>"
      ]
     },
     "metadata": {},
     "output_type": "display_data"
    }
   ],
   "source": [
    "hconv = Nu * k_a / D\n",
    "display(Latex(f'$h_{{conv}}={hconv:.1f}$W/m$^2$'))\n",
    "Bi = hconv * D / k_e\n",
    "display(Latex(f'$Bi={Bi:.3f}$'))\n",
    "\n"
   ]
  },
  {
   "cell_type": "code",
   "execution_count": 83,
   "id": "736b4a49",
   "metadata": {},
   "outputs": [],
   "source": [
    "def theta(t,RC):\n",
    "    return np.exp(-1/RC*t)\n",
    "\n",
    "def Temp(t,Ti,T0,Tinf,RC):\n",
    "    return (Ti-Tinf)*theta(t,RC)+Tinf - (Tinf+(Ti-T0))"
   ]
  },
  {
   "cell_type": "code",
   "execution_count": 84,
   "id": "6778e491-ef01-4efc-83c5-f6899b40ade7",
   "metadata": {},
   "outputs": [
    {
     "data": {
      "text/plain": [
       "300"
      ]
     },
     "execution_count": 84,
     "metadata": {},
     "output_type": "execute_result"
    }
   ],
   "source": [
    "T_a"
   ]
  },
  {
   "cell_type": "code",
   "execution_count": 111,
   "id": "fa93d468-0cc9-4bf1-bcf6-de75d28515a6",
   "metadata": {},
   "outputs": [
    {
     "data": {
      "text/latex": [
       "$RC=42205.61/s$"
      ],
      "text/plain": [
       "<IPython.core.display.Latex object>"
      ]
     },
     "metadata": {},
     "output_type": "display_data"
    },
    {
     "data": {
      "text/latex": [
       "$t_{f1}=2.6h$"
      ],
      "text/plain": [
       "<IPython.core.display.Latex object>"
      ]
     },
     "metadata": {},
     "output_type": "display_data"
    }
   ],
   "source": [
    "RC = rho_e*C_e*V_e/(S_e*hconv)\n",
    "display(Latex(f'$RC={RC:.1f}1/s$'))\n",
    "tfinal1 = brentq(Temp,0,50000,args=(T_e0,T_ef,T_a,RC),disp=False)\n",
    "display(Latex(f'$t_{{f1}}={tfinal1/3600:.1f}h$'))"
   ]
  },
  {
   "cell_type": "code",
   "execution_count": 112,
   "id": "ece4e6b9-52a5-4b9d-b273-c2891bdd92ae",
   "metadata": {},
   "outputs": [
    {
     "data": {
      "text/plain": [
       "2.369351123859062e-05"
      ]
     },
     "execution_count": 112,
     "metadata": {},
     "output_type": "execute_result"
    }
   ],
   "source": [
    "1/RC"
   ]
  },
  {
   "cell_type": "code",
   "execution_count": 113,
   "id": "08bee538-72fb-4e5e-a0da-a4f42554394d",
   "metadata": {},
   "outputs": [
    {
     "data": {
      "text/plain": [
       "7.075096875"
      ]
     },
     "execution_count": 113,
     "metadata": {},
     "output_type": "execute_result"
    }
   ],
   "source": [
    "550**3*sigma_sb*epsilon_e"
   ]
  },
  {
   "cell_type": "code",
   "execution_count": 109,
   "id": "d3207477",
   "metadata": {},
   "outputs": [
    {
     "data": {
      "text/latex": [
       "$Bi_2=0.010$"
      ],
      "text/plain": [
       "<IPython.core.display.Latex object>"
      ]
     },
     "metadata": {},
     "output_type": "display_data"
    },
    {
     "data": {
      "text/latex": [
       "$h_{conv}=8.8$W/m$^2$"
      ],
      "text/plain": [
       "<IPython.core.display.Latex object>"
      ]
     },
     "metadata": {},
     "output_type": "display_data"
    },
    {
     "data": {
      "text/latex": [
       "$h_{total}=55.7$W/m$^2$"
      ],
      "text/plain": [
       "<IPython.core.display.Latex object>"
      ]
     },
     "metadata": {},
     "output_type": "display_data"
    },
    {
     "data": {
      "text/latex": [
       "$h_{rad}=46.9$W/m$^2$"
      ],
      "text/plain": [
       "<IPython.core.display.Latex object>"
      ]
     },
     "metadata": {},
     "output_type": "display_data"
    }
   ],
   "source": [
    "hrad = ((T_eref+273)+(T_w+273))* ((T_eref+273)**2+(T_w+273)**2) *sigma_sb*epsilon_e\n",
    "Qrad = epsilon_e*sigma_sb*((T_eref+273)**4-(T_w+273)**4)*np.pi*D**2/4\n",
    "#Qrad2 = hrad*(T_c-T_a)*2*L\n",
    "Bi_2 = hrad * D / k_e\n",
    "display(Latex(f'$Bi_2={Bi_2:.3f}$'))\n",
    "htotal = (1/hrad**-1+1/hconv**-1)\n",
    "display(Latex(f'$h_{{conv}}={hconv:.1f}$W/m$^2$'))\n",
    "display(Latex(f'$h_{{total}}={htotal:.1f}$W/m$^2$'))\n",
    "display(Latex(f'$h_{{rad}}={hrad:.1f}$W/m$^2$'))"
   ]
  },
  {
   "cell_type": "code",
   "execution_count": 110,
   "id": "3e3054f1-3d6e-403e-81fb-fcfaca251bdb",
   "metadata": {},
   "outputs": [
    {
     "data": {
      "text/latex": [
       "$RC=42205.61/s$"
      ],
      "text/plain": [
       "<IPython.core.display.Latex object>"
      ]
     },
     "metadata": {},
     "output_type": "display_data"
    },
    {
     "data": {
      "text/latex": [
       "$t_{f2}=0.5h$"
      ],
      "text/plain": [
       "<IPython.core.display.Latex object>"
      ]
     },
     "metadata": {},
     "output_type": "display_data"
    }
   ],
   "source": [
    "RC2 = rho_e*V_e*C_e/(S_e*hrad)\n",
    "display(Latex(f'$RC={RC:.1f}1/s$'))\n",
    "tfinal2 = brentq(Temp,0,100000,args=(T_e0,T_ef,T_a,RC2),disp=False)\n",
    "display(Latex(f'$t_{{f2}}={tfinal2/3600:.1f}h$'))\n",
    "    "
   ]
  },
  {
   "cell_type": "code",
   "execution_count": 107,
   "id": "754912c8-09e4-42a2-8a19-95b27f8f5280",
   "metadata": {},
   "outputs": [
    {
     "data": {
      "text/latex": [
       "$RC=50111.21/s$"
      ],
      "text/plain": [
       "<IPython.core.display.Latex object>"
      ]
     },
     "metadata": {},
     "output_type": "display_data"
    },
    {
     "data": {
      "text/latex": [
       "$t_{f3}=3.1h$"
      ],
      "text/plain": [
       "<IPython.core.display.Latex object>"
      ]
     },
     "metadata": {},
     "output_type": "display_data"
    }
   ],
   "source": [
    "RC3 = rho_e*V_e*C_e/(S_e*htotal)\n",
    "display(Latex(f'$RC={RC3:.1f}1/s$'))\n",
    "tfinal3 = brentq(Temp,0,100000,args=(T_e0,T_ef,T_a,RC3),disp=False)\n",
    "display(Latex(f'$t_{{f3}}={tfinal3/3600:.1f}h$'))"
   ]
  },
  {
   "cell_type": "code",
   "execution_count": 38,
   "id": "9322fe89",
   "metadata": {},
   "outputs": [],
   "source": [
    "from scipy.special import erfc"
   ]
  },
  {
   "cell_type": "code",
   "execution_count": 39,
   "id": "e1272a90",
   "metadata": {},
   "outputs": [],
   "source": [
    "def theta (x,a,t,hc,k):\n",
    "    z = x/(4*a*t)**0.5\n",
    "    z2 = hc/k*(a*t)**0.5\n",
    "    arg = hc*x/k+(hc/k)**2*a*t\n",
    "    return erfc(z)-np.exp(arg)*erfc(z+z2)\n",
    "    "
   ]
  },
  {
   "cell_type": "code",
   "execution_count": 96,
   "id": "ef5b3d8f-d273-4e71-a4da-a7743cdfd34f",
   "metadata": {},
   "outputs": [
    {
     "data": {
      "text/plain": [
       "0.13333333333333333"
      ]
     },
     "execution_count": 96,
     "metadata": {},
     "output_type": "execute_result"
    }
   ],
   "source": [
    "V_e/S_e"
   ]
  },
  {
   "cell_type": "code",
   "execution_count": null,
   "id": "3f329c46-caf9-4638-b1d7-98f300a3db80",
   "metadata": {},
   "outputs": [],
   "source": []
  }
 ],
 "metadata": {
  "kernelspec": {
   "display_name": "Python 3 (ipykernel)",
   "language": "python",
   "name": "python3"
  },
  "language_info": {
   "codemirror_mode": {
    "name": "ipython",
    "version": 3
   },
   "file_extension": ".py",
   "mimetype": "text/x-python",
   "name": "python",
   "nbconvert_exporter": "python",
   "pygments_lexer": "ipython3",
   "version": "3.10.9"
  },
  "latex_envs": {
   "LaTeX_envs_menu_present": true,
   "autoclose": true,
   "autocomplete": true,
   "bibliofile": "biblio.bib",
   "cite_by": "apalike",
   "current_citInitial": 1,
   "eqLabelWithNumbers": true,
   "eqNumInitial": 1,
   "hotkeys": {
    "equation": "Ctrl-E",
    "itemize": "Ctrl-I"
   },
   "labels_anchors": false,
   "latex_user_defs": false,
   "report_style_numbering": false,
   "user_envs_cfg": false
  },
  "papermill": {
   "default_parameters": {},
   "duration": 23.771076,
   "end_time": "2021-05-30T21:24:22.664715",
   "environment_variables": {},
   "exception": null,
   "input_path": "__notebook__.ipynb",
   "output_path": "__notebook__.ipynb",
   "parameters": {},
   "start_time": "2021-05-30T21:23:58.893639",
   "version": "2.3.3"
  }
 },
 "nbformat": 4,
 "nbformat_minor": 5
}
