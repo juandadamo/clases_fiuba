{
 "cells": [
  {
   "cell_type": "code",
   "execution_count": 87,
   "id": "b3d01ad7",
   "metadata": {
    "slideshow": {
     "slide_type": "skip"
    }
   },
   "outputs": [],
   "source": [
    "import sympy as sp\n",
    "r, beta = sp.symbols('r beta')\n",
    "F = sp.Function('F')\n",
    "from IPython.display import display, Math,Latex"
   ]
  },
  {
   "cell_type": "code",
   "execution_count": 88,
   "id": "12335986",
   "metadata": {
    "slideshow": {
     "slide_type": "slide"
    }
   },
   "outputs": [
    {
     "data": {
      "text/latex": [
       "La ecuación $\\displaystyle- \\beta F{\\left(r \\right)} - \\frac{d}{d r} r \\frac{d}{d r} F{\\left(r \\right)}=0$"
      ],
      "text/plain": [
       "<IPython.core.display.Latex object>"
      ]
     },
     "metadata": {},
     "output_type": "display_data"
    }
   ],
   "source": [
    "equation = -sp.Derivative((r*sp.Derivative(F(r),r,evaluate=False)),r)-beta*F(r) \n",
    "display(Latex(r'La ecuación $\\displaystyle'+ sp.latex(equation)+'=0$'))"
   ]
  },
  {
   "cell_type": "code",
   "execution_count": 89,
   "id": "5cfc34b5",
   "metadata": {
    "slideshow": {
     "slide_type": "fragment"
    }
   },
   "outputs": [
    {
     "data": {
      "text/latex": [
       "Tiene como solución:"
      ],
      "text/plain": [
       "<IPython.core.display.Latex object>"
      ]
     },
     "metadata": {},
     "output_type": "display_data"
    },
    {
     "data": {
      "text/latex": [
       "$\\displaystyle F{\\left(r \\right)} = C_{1} J_{0}\\left(2 \\sqrt{\\beta} \\sqrt{r}\\right) + C_{2} Y_{0}\\left(2 \\sqrt{\\beta} \\sqrt{r}\\right)$"
      ],
      "text/plain": [
       "Eq(F(r), C1*besselj(0, 2*sqrt(beta)*sqrt(r)) + C2*bessely(0, 2*sqrt(beta)*sqrt(r)))"
      ]
     },
     "execution_count": 89,
     "metadata": {},
     "output_type": "execute_result"
    }
   ],
   "source": [
    "display(Latex('Tiene como solución:'))\n",
    "sp.dsolve(equation)"
   ]
  },
  {
   "cell_type": "markdown",
   "id": "83f32d6f",
   "metadata": {
    "slideshow": {
     "slide_type": "fragment"
    }
   },
   "source": [
    "Siendo $C_1, C_2$ constantes y $J_0, Y_0$ funciones de Bessel de primer y segundo orden respectivamente."
   ]
  }
 ],
 "metadata": {
  "celltoolbar": "Slideshow",
  "kernelspec": {
   "display_name": "Python 3",
   "language": "python",
   "name": "python3"
  },
  "language_info": {
   "codemirror_mode": {
    "name": "ipython",
    "version": 3
   },
   "file_extension": ".py",
   "mimetype": "text/x-python",
   "name": "python",
   "nbconvert_exporter": "python",
   "pygments_lexer": "ipython3",
   "version": "3.8.8"
  },
  "latex_envs": {
   "LaTeX_envs_menu_present": true,
   "autoclose": true,
   "autocomplete": true,
   "bibliofile": "biblio.bib",
   "cite_by": "apalike",
   "current_citInitial": 1,
   "eqLabelWithNumbers": true,
   "eqNumInitial": 1,
   "hotkeys": {
    "equation": "Ctrl-E",
    "itemize": "Ctrl-I"
   },
   "labels_anchors": false,
   "latex_user_defs": false,
   "report_style_numbering": false,
   "user_envs_cfg": false
  }
 },
 "nbformat": 4,
 "nbformat_minor": 5
}
