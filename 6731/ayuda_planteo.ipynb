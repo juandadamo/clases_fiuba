{
 "cells": [
  {
   "cell_type": "code",
   "execution_count": 91,
   "id": "e7c6a776",
   "metadata": {},
   "outputs": [
    {
     "name": "stdout",
     "output_type": "stream",
     "text": [
      "Requirement already satisfied: sympy in /home/juan/anaconda3/lib/python3.8/site-packages (1.8)\r\n",
      "Requirement already satisfied: mpmath>=0.19 in /home/juan/anaconda3/lib/python3.8/site-packages (from sympy) (1.2.1)\r\n"
     ]
    }
   ],
   "source": [
    "!pip install sympy"
   ]
  },
  {
   "cell_type": "code",
   "execution_count": 1,
   "id": "ff6b78f9",
   "metadata": {
    "slideshow": {
     "slide_type": "skip"
    }
   },
   "outputs": [],
   "source": [
    "import sympy as sp\n",
    "r, beta = sp.symbols('r beta')\n",
    "F = sp.Function('F')\n",
    "from IPython.display import display, Math,Latex"
   ]
  },
  {
   "cell_type": "code",
   "execution_count": 12,
   "id": "99bbe275",
   "metadata": {
    "slideshow": {
     "slide_type": "slide"
    }
   },
   "outputs": [
    {
     "data": {
      "text/latex": [
       "La ecuación $\\displaystyle- \\beta r F{\\left(r \\right)} - \\frac{d}{d r} r \\frac{d}{d r} F{\\left(r \\right)}=0$"
      ],
      "text/plain": [
       "<IPython.core.display.Latex object>"
      ]
     },
     "metadata": {},
     "output_type": "display_data"
    }
   ],
   "source": [
    "equation = -sp.Derivative((r*sp.Derivative(F(r),r,evaluate=False)),r)-beta*r*F(r) \n",
    "display(Latex(r'La ecuación $\\displaystyle'+ sp.latex(equation)+'=0$'))"
   ]
  },
  {
   "cell_type": "code",
   "execution_count": 5,
   "id": "fbcc4072",
   "metadata": {
    "slideshow": {
     "slide_type": "fragment"
    }
   },
   "outputs": [
    {
     "data": {
      "text/latex": [
       "Tiene como solución:"
      ],
      "text/plain": [
       "<IPython.core.display.Latex object>"
      ]
     },
     "metadata": {},
     "output_type": "display_data"
    },
    {
     "name": "stdout",
     "output_type": "stream",
     "text": [
      "Eq(F(r), C1*besselj(0, sqrt(beta)*r) + C2*bessely(0, sqrt(beta)*r))\n"
     ]
    }
   ],
   "source": [
    "display(Latex('Tiene como solución:'))\n",
    "Temp = sp.dsolve(equation)\n",
    "print(Temp)"
   ]
  },
  {
   "cell_type": "markdown",
   "id": "eb7db7e4",
   "metadata": {
    "slideshow": {
     "slide_type": "fragment"
    }
   },
   "source": [
    "Siendo $C_1, C_2$ constantes y $J_0, Y_0$ funciones de Bessel de primer y segundo orden respectivamente."
   ]
  },
  {
   "cell_type": "code",
   "execution_count": 5,
   "id": "b7b4e60a",
   "metadata": {},
   "outputs": [
    {
     "data": {
      "text/plain": [
       "'F{\\\\left(r \\\\right)} = C_{1} J_{0}\\\\left(\\\\sqrt{\\\\beta} r\\\\right) + C_{2} Y_{0}\\\\left(\\\\sqrt{\\\\beta} r\\\\right)'"
      ]
     },
     "execution_count": 5,
     "metadata": {},
     "output_type": "execute_result"
    }
   ],
   "source": [
    "sp.latex(sp.dsolve(equation))"
   ]
  },
  {
   "cell_type": "code",
   "execution_count": 11,
   "id": "0b239faa",
   "metadata": {},
   "outputs": [
    {
     "data": {
      "text/latex": [
       "$\\displaystyle F{\\left(r \\right)} = 2 J_{0}\\left(2 r\\right)$"
      ],
      "text/plain": [
       "Eq(F(r), 2*besselj(0, 2*r))"
      ]
     },
     "execution_count": 11,
     "metadata": {},
     "output_type": "execute_result"
    }
   ],
   "source": [
    "Temp.subs('C2',0).subs('C1',2).subs('beta',4)"
   ]
  },
  {
   "cell_type": "code",
   "execution_count": null,
   "id": "08ad9ec4",
   "metadata": {},
   "outputs": [],
   "source": []
  }
 ],
 "metadata": {
  "celltoolbar": "Slideshow",
  "kernelspec": {
   "display_name": "Python 3",
   "language": "python",
   "name": "python3"
  },
  "language_info": {
   "codemirror_mode": {
    "name": "ipython",
    "version": 3
   },
   "file_extension": ".py",
   "mimetype": "text/x-python",
   "name": "python",
   "nbconvert_exporter": "python",
   "pygments_lexer": "ipython3",
   "version": "3.8.10"
  },
  "latex_envs": {
   "LaTeX_envs_menu_present": true,
   "autoclose": true,
   "autocomplete": true,
   "bibliofile": "biblio.bib",
   "cite_by": "apalike",
   "current_citInitial": 1,
   "eqLabelWithNumbers": true,
   "eqNumInitial": 1,
   "hotkeys": {
    "equation": "Ctrl-E",
    "itemize": "Ctrl-I"
   },
   "labels_anchors": false,
   "latex_user_defs": false,
   "report_style_numbering": false,
   "user_envs_cfg": false
  }
 },
 "nbformat": 4,
 "nbformat_minor": 5
}
