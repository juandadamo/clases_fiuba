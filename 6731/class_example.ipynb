{
 "cells": [
  {
   "cell_type": "code",
   "execution_count": 1,
   "metadata": {},
   "outputs": [],
   "source": [
    "import numpy as np"
   ]
  },
  {
   "cell_type": "code",
   "execution_count": null,
   "metadata": {},
   "outputs": [],
   "source": []
  },
  {
   "cell_type": "code",
   "execution_count": 31,
   "metadata": {},
   "outputs": [],
   "source": [
    "class ejemplo:\n",
    "    def __init__(self, cantidad=0, dimensiones=0):\n",
    "        # creamos una propiedad privada que nos guarde los valores\n",
    "        self._dimensiones = dimensiones\n",
    "        self.cantidad = cantidad\n",
    "        \n",
    "        self.calcula()\n",
    "    @property\n",
    "    def dimensiones(self):\n",
    "        return self._dimensiones\n",
    "    @dimensiones.setter\n",
    "    def dimensiones(self, value):\n",
    "        self._dimensiones = value\n",
    "        # operaciones que quieras que se hagan\n",
    "        self.calcula()\n",
    "    def propiedades(self):\n",
    "        self.calculos = self.cantidad * self.dimensiones\n",
    "    def calcula(self):\n",
    "        self.calculos = self.cantidad * self.dimensiones"
   ]
  },
  {
   "cell_type": "code",
   "execution_count": 32,
   "metadata": {},
   "outputs": [
    {
     "data": {
      "text/plain": [
       "1"
      ]
     },
     "execution_count": 32,
     "metadata": {},
     "output_type": "execute_result"
    }
   ],
   "source": [
    "barras = ejemplo(1,1)\n",
    "barras.dimensiones"
   ]
  },
  {
   "cell_type": "code",
   "execution_count": 26,
   "metadata": {},
   "outputs": [
    {
     "data": {
      "text/plain": [
       "3"
      ]
     },
     "execution_count": 26,
     "metadata": {},
     "output_type": "execute_result"
    }
   ],
   "source": [
    "barras.dimensiones = 3\n",
    "barras.calculos"
   ]
  },
  {
   "cell_type": "code",
   "execution_count": 12,
   "metadata": {},
   "outputs": [
    {
     "ename": "AttributeError",
     "evalue": "type object 'ejemplo' has no attribute 'cantidad'",
     "output_type": "error",
     "traceback": [
      "\u001b[0;31m---------------------------------------------------------------------------\u001b[0m",
      "\u001b[0;31mAttributeError\u001b[0m                            Traceback (most recent call last)",
      "\u001b[0;32m<ipython-input-12-77c7fd0505e3>\u001b[0m in \u001b[0;36m<module>\u001b[0;34m\u001b[0m\n\u001b[0;32m----> 1\u001b[0;31m \u001b[0mbarras\u001b[0m\u001b[0;34m.\u001b[0m\u001b[0mcantidad\u001b[0m\u001b[0;34m\u001b[0m\u001b[0;34m\u001b[0m\u001b[0m\n\u001b[0m",
      "\u001b[0;31mAttributeError\u001b[0m: type object 'ejemplo' has no attribute 'cantidad'"
     ]
    }
   ],
   "source": [
    "barras.cantidad"
   ]
  },
  {
   "cell_type": "code",
   "execution_count": null,
   "metadata": {},
   "outputs": [],
   "source": []
  }
 ],
 "metadata": {
  "kernelspec": {
   "display_name": "Python 3",
   "language": "python",
   "name": "python3"
  },
  "language_info": {
   "codemirror_mode": {
    "name": "ipython",
    "version": 3
   },
   "file_extension": ".py",
   "mimetype": "text/x-python",
   "name": "python",
   "nbconvert_exporter": "python",
   "pygments_lexer": "ipython3",
   "version": "3.8.5"
  }
 },
 "nbformat": 4,
 "nbformat_minor": 4
}
