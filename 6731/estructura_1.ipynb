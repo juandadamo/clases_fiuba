{
 "cells": [
  {
   "cell_type": "code",
   "execution_count": 1,
   "id": "0209730e-8184-4fd7-8326-ecb1d9e0a711",
   "metadata": {
    "tags": []
   },
   "outputs": [],
   "source": [
    "import sympy as sp\n",
    "import matplotlib.pyplot as plt\n",
    "import numpy as np\n",
    "from IPython.display import Latex\n",
    "import pint\n",
    "ureg = pint.UnitRegistry()"
   ]
  },
  {
   "cell_type": "markdown",
   "id": "410c742b-9718-4d86-a20d-f76359d0e40f",
   "metadata": {
    "tags": []
   },
   "source": [
    "# Cálculos para la Estructura de Velas"
   ]
  },
  {
   "cell_type": "markdown",
   "id": "db644740-c732-4a75-b8b6-54e51904c8d5",
   "metadata": {},
   "source": [
    "## Fuerza de arrastre\n",
    "\n",
    "$F_D = \\frac{1}{2}\\rho U^2 A_f C_D$\n",
    "\n",
    "- U: Velocidad de l viento\n",
    "\n",
    "- $\\rho$: densidad del aires\n",
    "\n",
    "- $A_f$ Área frontal del objeto (vela). Área que se opone a la corriente de aire.\n",
    "\n",
    "- $C_D$ coeficiente de arrastre. Aerodinamia. Depende de la geometría del objeto. \n",
    "Un valor pesimista puede ser, para una placa inclinada, $C_D=1.3$."
   ]
  },
  {
   "cell_type": "code",
   "execution_count": 2,
   "id": "125497f7-c6be-4bda-9407-b86df60baf99",
   "metadata": {
    "tags": []
   },
   "outputs": [
    {
     "data": {
      "text/latex": [
       "Fuerza de Arrastre $F_D=258.54 newton$"
      ],
      "text/plain": [
       "<IPython.core.display.Latex object>"
      ]
     },
     "metadata": {},
     "output_type": "display_data"
    },
    {
     "data": {
      "text/latex": [
       "Fuerza de Arrastre $F_D=$26.36 force_kilogram"
      ],
      "text/plain": [
       "<IPython.core.display.Latex object>"
      ]
     },
     "metadata": {},
     "output_type": "display_data"
    }
   ],
   "source": [
    "U = 30*ureg.kilometer_per_hour  #en km/h\n",
    "ρ = 1.2*ureg.kilogram/ureg.meter**3 # (en kg/m^3) #densidad volumétrica\n",
    "L1, L2 = [3*ureg.meter, 4.5*ureg.meter] #dimensiones vela (metros)\n",
    "ang = 45*ureg.degree  #en grados\n",
    "Area_v = L1*L2/2\n",
    "A_f = Area_v*np.sin(ang)  #area triangulo, inclinado\n",
    "C_D = 1.3\n",
    "\n",
    "F_D = 1/2*ρ*(U)**2*A_f*C_D\n",
    "F_D.ito(ureg.newton)\n",
    "display(Latex(f'Fuerza de Arrastre $F_D={F_D:.2f}$'))\n",
    "display(Latex(f'Fuerza de Arrastre $F_D=${F_D.to(ureg.kilogram_force):.2f}'))"
   ]
  },
  {
   "cell_type": "code",
   "execution_count": 8,
   "id": "47fe8ec5-796c-4890-a758-0ce1ce8dfd5c",
   "metadata": {
    "tags": []
   },
   "outputs": [
    {
     "data": {
      "text/latex": [
       "Peso de la vela $P_v=$4.05 force_kilogram"
      ],
      "text/plain": [
       "<IPython.core.display.Latex object>"
      ]
     },
     "metadata": {},
     "output_type": "display_data"
    }
   ],
   "source": [
    "## Peso propio de la Vela\n",
    "\n",
    "ρs_v = 600*ureg.gram/ureg.meter**2  #densidad superficial de la tela \n",
    "g = 9.8*ureg.meter/ureg.second**2\n",
    "P_v = (ρs_v*Area_v*g)\n",
    "\n",
    "display(Latex(f'Peso de la vela $P_v=${P_v.to(ureg.kilogram_force):.2f}'))"
   ]
  },
  {
   "cell_type": "markdown",
   "id": "f638b950-5cdd-4e88-b6c1-f894c834571a",
   "metadata": {
    "tags": []
   },
   "source": [
    "## Resultante "
   ]
  },
  {
   "cell_type": "code",
   "execution_count": 13,
   "id": "1ffb687e-d1f5-45dd-ad47-7e7a8fe47d1f",
   "metadata": {
    "tags": []
   },
   "outputs": [
    {
     "data": {
      "text/latex": [
       "Resultante Vectorial$F_R=$26.67 force_kilogram"
      ],
      "text/plain": [
       "<IPython.core.display.Latex object>"
      ]
     },
     "metadata": {},
     "output_type": "display_data"
    }
   ],
   "source": [
    "F_R = (F_D**2+P_v**2)**0.5\n",
    "display(Latex(f'Resultante Vectorial$F_R=${F_R.to(ureg.kilogram_force):.2f}'))"
   ]
  },
  {
   "cell_type": "markdown",
   "id": "907dfc7d-83d3-40cb-b3d7-56466739053d",
   "metadata": {
    "tags": []
   },
   "source": [
    "### Carga sobre el perno\n",
    "\n",
    "## $\\sigma_{flex} = \\frac{M y}{I}$\n",
    "\n",
    "donde $M$ es el momento flexor en la extructura. y la distancia del borde del perfil al centro de rotación opor flexión y el momento de área $I$.\n",
    "\n",
    "Para una barra cilíndrica, \n",
    "\n",
    "- $y\\equiv R$ \n",
    "\n",
    "- $I = \\pi D^4/32$\n",
    "\n",
    "\n"
   ]
  },
  {
   "attachments": {
    "fee3c794-3a9f-4eaa-8ba9-51b8c6002a76.png": {
     "image/png": "[encoded data removed]"
    }
   },
   "cell_type": "markdown",
   "id": "7e86977a-48f3-4a34-842b-dc521ebdc14a",
   "metadata": {
    "tags": []
   },
   "source": [
    "![image.png](attachment:fee3c794-3a9f-4eaa-8ba9-51b8c6002a76.png)"
   ]
  },
  {
   "cell_type": "markdown",
   "id": "acb49496-bec2-42ee-b0d8-d9da211d17db",
   "metadata": {},
   "source": [
    "#### El momento flexor en este caso es $F_R/2 L_x$\n",
    "\n",
    "- $L_x$ es la mitad del largo del perno"
   ]
  },
  {
   "cell_type": "code",
   "execution_count": 21,
   "id": "97e7d9e8-152c-42a9-bc60-94de2ed9cc69",
   "metadata": {
    "tags": []
   },
   "outputs": [
    {
     "data": {
      "text/latex": [
       "Tensión por Flexión $\\sigma_{flex}=$53.06 force_kilogram / centimeter ** 2"
      ],
      "text/plain": [
       "<IPython.core.display.Latex object>"
      ]
     },
     "metadata": {},
     "output_type": "display_data"
    }
   ],
   "source": [
    "L_perno = 8*ureg.millimeter\n",
    "R_perno = 4*ureg.millimeter\n",
    "M = F_R/2*(L_perno/2)\n",
    "I = np.pi*(2*R_perno)**4/32\n",
    "\n",
    "σ_flex = M * R_perno/I\n",
    "display(Latex(f'Tensión por Flexión $\\sigma_{{flex}}=${σ_flex.to(ureg.kilogram_force/ureg.centimeter**2):.2f}'))"
   ]
  },
  {
   "cell_type": "code",
   "execution_count": null,
   "id": "4a6abc71-d0ed-43bc-a770-39eaf3a90720",
   "metadata": {},
   "outputs": [],
   "source": []
  }
 ],
 "metadata": {
  "kernelspec": {
   "display_name": "Python 3 (ipykernel)",
   "language": "python",
   "name": "python3"
  },
  "language_info": {
   "codemirror_mode": {
    "name": "ipython",
    "version": 3
   },
   "file_extension": ".py",
   "mimetype": "text/x-python",
   "name": "python",
   "nbconvert_exporter": "python",
   "pygments_lexer": "ipython3",
   "version": "3.11.4"
  }
 },
 "nbformat": 4,
 "nbformat_minor": 5
}
