{
 "cells": [
  {
   "cell_type": "code",
   "execution_count": 1,
   "id": "61c7d36d",
   "metadata": {
    "_kg_hide-input": true,
    "_kg_hide-output": true,
    "papermill": {
     "duration": 12.40044,
     "end_time": "2021-05-30T21:24:18.188788",
     "exception": false,
     "start_time": "2021-05-30T21:24:05.788348",
     "status": "completed"
    },
    "tags": []
   },
   "outputs": [],
   "source": [
    "%%capture\n",
    "!pip install ht CoolProp fluids xlrd xlwt"
   ]
  },
  {
   "cell_type": "code",
   "execution_count": 3,
   "id": "693fee3f",
   "metadata": {
    "_cell_guid": "b1076dfc-b9ad-4769-8c92-a6c4dae69d19",
    "_kg_hide-input": true,
    "_kg_hide-output": true,
    "_uuid": "8f2839f25d086af736a60e9eeb907d3b93b6e0e5",
    "papermill": {
     "duration": 0.12376,
     "end_time": "2021-05-30T21:24:18.340027",
     "exception": false,
     "start_time": "2021-05-30T21:24:18.216267",
     "status": "completed"
    },
    "tags": []
   },
   "outputs": [],
   "source": [
    "import numpy as np # linear algebra\n",
    "import pandas as pd # data processing, CSV file I/O (e.g. pd.read_csv)\n",
    "import xlwt as xw\n",
    "lista_data = []\n",
    "import matplotlib.pyplot as plt\n",
    "import ht,fluids,os,socket\n",
    "import CoolProp as cp\n",
    "from IPython.display import Latex\n",
    "from prop_fluidos_intercambiadores import fluido_intercambiador\n"
   ]
  },
  {
   "cell_type": "markdown",
   "id": "56a25c8b-e0bc-4f9f-a1e0-896341933cfa",
   "metadata": {},
   "source": [
    "$\\require{\\siunitx}$\n",
    "\n",
    "Un generador de vapor consiste en un arreglo en línea de tubos, cada uno de diámetro externo $D = \\SI{10}{\\milli\\meter}$ y longitud $L = \\SI{1}{\\meter}$. Los espaciados longitudinal y transversal son cada uno $S_L = S_T = \\SI{20}{\\milli\\meter}$, mientras los números de filas longitudinales y transversales son       $N_L = 20$ y $N_T = 5$. Agua saturada (líquida) entra en los tubos a una presión de $\\SI{250}{\\kilo\\pascal}$, y su flujo másico se ajusta para asegurar que salga de los tubos como vapor saturado. Considerar que los tubos están dispuestos con su eje en forma vertical.\n",
    "La ebullición que ocurre en los tubos mantiene una temperatura de la pared del tubo uniforme de $T_s=\\SI{400}{\\kelvin}$.\n",
    "Considerar que al banco de tubos ingresan gases de combustión a una velocidad y una temperatura $u_\\infty = \\SI{10}{\\meter/\\second}$ y $T_{m,i} = \\SI{1200}{\\kelvin}$, respectivamente.\n",
    "Determine el coeficiente de convección promedio del lado del gas, la temperatura de salida del gas, y la rapidez de producción de vapor en \\SI{}{\\kilogram/\\second}.\n",
    "Las propiedades del gas se pueden aproximar a las del aire atmosférico a una temperatura de $\\SI{900}{\\kelvin}$."
   ]
  },
  {
   "cell_type": "markdown",
   "id": "fdb5ff54",
   "metadata": {
    "papermill": {
     "duration": 0.027009,
     "end_time": "2021-05-30T21:24:19.006551",
     "exception": false,
     "start_time": "2021-05-30T21:24:18.979542",
     "status": "completed"
    },
    "tags": []
   },
   "source": [
    "ŽUKAUSKAS, A. Heat transfer from tubes in crossflow. En Advances in heat transfer. Elsevier, 1972. p. 93-160."
   ]
  },
  {
   "cell_type": "code",
   "execution_count": 7,
   "id": "3f9f7a48-9150-4265-bb10-fcb571c85e82",
   "metadata": {
    "tags": []
   },
   "outputs": [],
   "source": [
    "p_agua = 250e3\n",
    "Ts = 400\n",
    "Ti_aire=1200\n",
    "uinf = 10\n",
    "L=1\n",
    "D = 10e-3\n",
    "t = 1e-3\n",
    "Di = D - 2*t\n",
    "NL = 20\n",
    "NT = 5\n",
    "g=9.8\n",
    "N_totales = NL*NT\n",
    "Area_cond = Di*np.pi*L*N_totales\n",
    "Area_aire = D*L*NT\n",
    "\n",
    "Tr_aire = 900\n",
    "\n",
    "rho_aire = cp.CoolProp.PropsSI('D','T',Tr_aire,'P',101.3e3,'Air')\n",
    "\n",
    "rho_vap_sat = cp.CoolProp.PropsSI('D','Q',1,'P',p_agua,'Water')\n",
    "rho_agua_sat = cp.CoolProp.PropsSI('D','Q',0,'P',p_agua,'Water')\n",
    "T_agua_sat = cp.CoolProp.PropsSI('T','Q',0,'P',p_agua,'Water')\n",
    "T_vap_sat = cp.CoolProp.PropsSI('T','Q',1,'P',p_agua,'Water')\n",
    "k_agua = cp.CoolProp.PropsSI('L','Q',0,'P',p_agua,'Water')\n",
    "h_agua = cp.CoolProp.PropsSI('H','Q',0,'P',p_agua,'Water')\n",
    "h_vapor = cp.CoolProp.PropsSI('H','Q',1,'P',p_agua,'Water')\n",
    "mu_agua = cp.CoolProp.PropsSI('V','Q',0,'P',p_agua,'Water')\n",
    "hfg = h_vapor - h_agua\n",
    "\n",
    "Cp_aire = cp.CoolProp.PropsSI('C','P',101.3e3,'T',Tr_aire,'Air')\n"
   ]
  },
  {
   "cell_type": "code",
   "execution_count": 8,
   "id": "4d84000c-b545-4ec6-ae7c-012bc336b01c",
   "metadata": {
    "tags": []
   },
   "outputs": [],
   "source": [
    "Nu_cond = ht.condensation.Nusselt_laminar(T_agua_sat,Ts,rho_vap_sat,rho_agua_sat,k_agua,mu_agua,hfg,L)\n",
    "h_cond = Nu_cond*k_agua/L\n",
    "Q_cond = h_cond * Area_cond * (T_agua_sat-Ts)\n",
    "m_cond = Q_cond / hfg"
   ]
  },
  {
   "cell_type": "code",
   "execution_count": 9,
   "id": "4f6f0601-1f95-4b20-b21c-ec6d8c2608ac",
   "metadata": {
    "tags": []
   },
   "outputs": [
    {
     "data": {
      "text/plain": [
       "7.133206337034413e-05"
      ]
     },
     "execution_count": 9,
     "metadata": {},
     "output_type": "execute_result"
    }
   ],
   "source": [
    "delta = L/Nu_cond\n",
    "delta"
   ]
  },
  {
   "cell_type": "code",
   "execution_count": 10,
   "id": "f146cc47-cfec-4f50-96bc-8a0a9dbb1d72",
   "metadata": {
    "tags": []
   },
   "outputs": [
    {
     "data": {
      "text/plain": [
       "21.95472684314711"
      ]
     },
     "execution_count": 10,
     "metadata": {},
     "output_type": "execute_result"
    }
   ],
   "source": [
    "rho_agua_sat*(rho_agua_sat-rho_vap_sat)/(3*mu_agua**2)*g*delta**3"
   ]
  },
  {
   "cell_type": "code",
   "execution_count": 11,
   "id": "435aa7f3-b830-4243-ac15-f5a66c4dd0bc",
   "metadata": {
    "tags": []
   },
   "outputs": [
    {
     "data": {
      "text/plain": [
       "0.5614064737957847"
      ]
     },
     "execution_count": 11,
     "metadata": {},
     "output_type": "execute_result"
    }
   ],
   "source": [
    "(T_vap_sat-Ts)"
   ]
  },
  {
   "cell_type": "code",
   "execution_count": 12,
   "id": "2ce843b3-637b-425b-a75f-a3c098574fd0",
   "metadata": {
    "tags": []
   },
   "outputs": [
    {
     "data": {
      "text/plain": [
       "0.16798553106282743"
      ]
     },
     "execution_count": 12,
     "metadata": {},
     "output_type": "execute_result"
    }
   ],
   "source": [
    "delta*Area_cond*rho_agua_sat"
   ]
  },
  {
   "cell_type": "code",
   "execution_count": 13,
   "id": "393798ff-5fa3-49c4-a712-82ba92e91046",
   "metadata": {
    "tags": []
   },
   "outputs": [
    {
     "data": {
      "text/plain": [
       "22.294288628872476"
      ]
     },
     "execution_count": 13,
     "metadata": {},
     "output_type": "execute_result"
    }
   ],
   "source": [
    "m_cond*3600"
   ]
  },
  {
   "cell_type": "code",
   "execution_count": 14,
   "id": "22c33d42-e2dc-4190-9682-03fbd254cdae",
   "metadata": {
    "tags": []
   },
   "outputs": [],
   "source": [
    "Q_aire = Q_cond"
   ]
  },
  {
   "cell_type": "code",
   "execution_count": 15,
   "id": "e156d931-aff2-4e2a-8b6c-da01083c4999",
   "metadata": {
    "tags": []
   },
   "outputs": [
    {
     "data": {
      "text/plain": [
       "1138.5150037368203"
      ]
     },
     "execution_count": 15,
     "metadata": {},
     "output_type": "execute_result"
    }
   ],
   "source": [
    "To_aire = Ti_aire- Q_aire / (Cp_aire*rho_aire*uinf*Area_aire)\n",
    "To_aire"
   ]
  },
  {
   "cell_type": "code",
   "execution_count": null,
   "id": "53148046-a1c4-460b-811a-59924922ed5b",
   "metadata": {},
   "outputs": [],
   "source": []
  },
  {
   "cell_type": "code",
   "execution_count": null,
   "id": "a9b1c429-2b68-48a6-881f-adc1e94b027d",
   "metadata": {},
   "outputs": [],
   "source": []
  },
  {
   "cell_type": "code",
   "execution_count": 18,
   "id": "c94a1b95",
   "metadata": {
    "papermill": {
     "duration": 0.03529,
     "end_time": "2021-05-30T21:24:19.069169",
     "exception": false,
     "start_time": "2021-05-30T21:24:19.033879",
     "status": "completed"
    },
    "tags": []
   },
   "outputs": [
    {
     "data": {
      "text/latex": [
       "$Re_{crudo}=314$,$Nu_{crudo}=10.0$, $hc_{crudo}=51$"
      ],
      "text/plain": [
       "<IPython.core.display.Latex object>"
      ]
     },
     "metadata": {},
     "output_type": "display_data"
    },
    {
     "data": {
      "text/latex": [
       "$Re_{glycol}=254$,    $Nu_{glycol}=5.1$,$hc_{glycol}=27$"
      ],
      "text/plain": [
       "<IPython.core.display.Latex object>"
      ]
     },
     "metadata": {},
     "output_type": "display_data"
    }
   ],
   "source": [
    "Re_crudo = Veloc_crudo * D_interno / nu_crudo\n",
    "Re_glycol = Veloc_glycol * D_hidraulico_glycol / nu_glycol\n",
    "Nu_crudo = ht.conv_internal.turbulent_Colburn(Re_crudo,Pr_crudo)\n",
    "Nu_glycol = ht.conv_internal.turbulent_Colburn(Re_glycol,Pr_glycol)\n",
    "hc_crudo = Nu_crudo*k_crudo/D_interno\n",
    "hc_glycol = Nu_glycol*k_glycol/D_hidraulico_glycol\n",
    "display(Latex(f'$Re_{{crudo}}={Re_crudo:.0f}$,$Nu_{{crudo}}={Nu_crudo:.1f}$, $hc_{{crudo}}={hc_crudo:.0f}$'))\n",
    "display(Latex(f'$Re_{{glycol}}={Re_glycol:.0f}$,    $Nu_{{glycol}}={Nu_glycol:.1f}$,$hc_{{glycol}}={hc_glycol:.0f}$'))\n",
    "#print('Coeficiente conveccion aire = %.1f'%Aire.hc)"
   ]
  },
  {
   "cell_type": "markdown",
   "id": "7599e910",
   "metadata": {
    "papermill": {
     "duration": 0.027354,
     "end_time": "2021-05-30T21:24:19.125477",
     "exception": false,
     "start_time": "2021-05-30T21:24:19.098123",
     "status": "completed"
    },
    "tags": []
   },
   "source": [
    "COLBURN, Allan P. A method of correlating forced convection heat-transfer data and a comparison with fluid friction. International Journal of Heat and Mass Transfer, 1964, vol. 7, no 12, p. 1359-1384."
   ]
  },
  {
   "cell_type": "code",
   "execution_count": 21,
   "id": "4023bcbf-e101-46c3-9953-8192aedab646",
   "metadata": {},
   "outputs": [],
   "source": [
    "k_acero = ht.k_material('stainless steel')\n",
    "espesor_tubo = 1e-3"
   ]
  },
  {
   "cell_type": "code",
   "execution_count": 22,
   "id": "c80bed78",
   "metadata": {
    "papermill": {
     "duration": 0.037501,
     "end_time": "2021-05-30T21:24:19.611607",
     "exception": false,
     "start_time": "2021-05-30T21:24:19.574106",
     "status": "completed"
    },
    "tags": []
   },
   "outputs": [],
   "source": [
    "Ulimpio = (1/ (hc_crudo*D_interno) + np.log((D_interno+espesor_tubo)/D_interno)/k_acero + 1/(hc_glycol*(D_interno+espesor_tubo)))**-1\n",
    "#U_calc = 1 / (1/Ulimpio + Rf *(1+Tubo_dext/Tubo_dint))\n",
    "\n"
   ]
  },
  {
   "cell_type": "code",
   "execution_count": 23,
   "id": "83e0d79a-d418-40fd-9e3b-701985e6e3ac",
   "metadata": {},
   "outputs": [
    {
     "data": {
      "text/plain": [
       "(440.2452970082708, 1.2961839923607767)"
      ]
     },
     "execution_count": 23,
     "metadata": {},
     "output_type": "execute_result"
    }
   ],
   "source": [
    "1/ (np.log((D_interno+espesor_tubo)/D_interno)/k_acero ), (hc_crudo*D_interno) "
   ]
  },
  {
   "cell_type": "code",
   "execution_count": 22,
   "id": "351ed4de-f104-481f-8158-e67334f721d2",
   "metadata": {},
   "outputs": [
    {
     "data": {
      "text/plain": [
       "(4.270114968579573, 1531.9786379170362)"
      ]
     },
     "execution_count": 22,
     "metadata": {},
     "output_type": "execute_result"
    }
   ],
   "source": [
    "Ulimpio,hc_crudo"
   ]
  },
  {
   "cell_type": "code",
   "execution_count": 24,
   "id": "1557ace1",
   "metadata": {
    "papermill": {
     "duration": 0.038704,
     "end_time": "2021-05-30T21:24:19.678680",
     "exception": false,
     "start_time": "2021-05-30T21:24:19.639976",
     "status": "completed"
    },
    "tags": []
   },
   "outputs": [
    {
     "data": {
      "text/latex": [
       "$\\Delta p_{crudo}=0.3559587650480511$Pa"
      ],
      "text/plain": [
       "<IPython.core.display.Latex object>"
      ]
     },
     "metadata": {},
     "output_type": "display_data"
    },
    {
     "data": {
      "text/latex": [
       "$\\Delta p_{glycol}=0.0012161099724487204$Pa"
      ],
      "text/plain": [
       "<IPython.core.display.Latex object>"
      ]
     },
     "metadata": {},
     "output_type": "display_data"
    }
   ],
   "source": [
    "# Caida de presion\n",
    "\n",
    "# Calculo para flujo en tubos\n",
    "roughness = fluids.roughness_Farshad('Carbon steel, bare', D=D_interno)\n",
    "roughness_gl = fluids.roughness_Farshad('Carbon steel, bare', D=D_hidraulico_glycol)\n",
    "\n",
    "f_c = fluids.friction.friction_factor(Re=Re_crudo, eD=roughness/D_interno)\n",
    "f_c2 = 1.2*(0.0014+0.125/Re_crudo**.32)\n",
    "f_c_gl = fluids.friction.friction_factor(Re=Re_glycol, eD=roughness_gl/D_hidraulico_glycol)\n",
    "\n",
    "Delta_p_crudo = f_c*Veloc_crudo**2*Longitud/D_interno/2 \n",
    "Delta_p_glycol = f_c_gl*Veloc_glycol**2*Longitud/D_hidraulico_glycol/2 \n",
    "\n",
    "display(Latex(f'$\\Delta p_{{crudo}}={Delta_p_crudo}$Pa'))\n",
    "display(Latex(f'$\\Delta p_{{glycol}}={Delta_p_glycol}$Pa'))"
   ]
  },
  {
   "cell_type": "code",
   "execution_count": 25,
   "id": "b00abc95-ef00-4152-9c6a-b497e2b24d88",
   "metadata": {},
   "outputs": [
    {
     "ename": "SyntaxError",
     "evalue": "invalid syntax (2619805294.py, line 1)",
     "output_type": "error",
     "traceback": [
      "\u001b[0;36m  Input \u001b[0;32mIn [25]\u001b[0;36m\u001b[0m\n\u001b[0;31m    calcular volumen de parafina necesario.... tres veces lo que deposita 5mm en la pared\u001b[0m\n\u001b[0m             ^\u001b[0m\n\u001b[0;31mSyntaxError\u001b[0m\u001b[0;31m:\u001b[0m invalid syntax\n"
     ]
    }
   ],
   "source": [
    "calcular volumen de parafina necesario.... tres veces lo que deposita 5mm en la pared"
   ]
  },
  {
   "cell_type": "code",
   "execution_count": 28,
   "id": "07b06e18",
   "metadata": {
    "papermill": {
     "duration": 0.038502,
     "end_time": "2021-05-30T21:24:21.917769",
     "exception": false,
     "start_time": "2021-05-30T21:24:21.879267",
     "status": "completed"
    },
    "tags": []
   },
   "outputs": [],
   "source": [
    "Diam = 25.4e-3\n",
    "Diam_para = 25.4e-3-2.5e-3\n",
    "\n",
    "Vol_para = (Diam**2*np.pi/4-Diam_para**2*np.pi/4)*Longitud"
   ]
  },
  {
   "cell_type": "code",
   "execution_count": 29,
   "id": "6497460a-a223-4c53-8b28-c312bd4325bd",
   "metadata": {},
   "outputs": [
    {
     "data": {
      "text/plain": [
       "1.5173892516838692"
      ]
     },
     "execution_count": 29,
     "metadata": {},
     "output_type": "execute_result"
    }
   ],
   "source": [
    "Vol_para*1e3"
   ]
  },
  {
   "cell_type": "code",
   "execution_count": null,
   "id": "175a60fa-a6b3-4d5f-88fb-16f3404d20dd",
   "metadata": {},
   "outputs": [],
   "source": []
  }
 ],
 "metadata": {
  "kernelspec": {
   "display_name": "Python 3 (ipykernel)",
   "language": "python",
   "name": "python3"
  },
  "language_info": {
   "codemirror_mode": {
    "name": "ipython",
    "version": 3
   },
   "file_extension": ".py",
   "mimetype": "text/x-python",
   "name": "python",
   "nbconvert_exporter": "python",
   "pygments_lexer": "ipython3",
   "version": "3.10.9"
  },
  "latex_envs": {
   "LaTeX_envs_menu_present": true,
   "autoclose": true,
   "autocomplete": true,
   "bibliofile": "biblio.bib",
   "cite_by": "apalike",
   "current_citInitial": 1,
   "eqLabelWithNumbers": true,
   "eqNumInitial": 1,
   "hotkeys": {
    "equation": "Ctrl-E",
    "itemize": "Ctrl-I"
   },
   "labels_anchors": false,
   "latex_user_defs": false,
   "report_style_numbering": false,
   "user_envs_cfg": false
  },
  "papermill": {
   "default_parameters": {},
   "duration": 23.771076,
   "end_time": "2021-05-30T21:24:22.664715",
   "environment_variables": {},
   "exception": null,
   "input_path": "__notebook__.ipynb",
   "output_path": "__notebook__.ipynb",
   "parameters": {},
   "start_time": "2021-05-30T21:23:58.893639",
   "version": "2.3.3"
  }
 },
 "nbformat": 4,
 "nbformat_minor": 5
}
