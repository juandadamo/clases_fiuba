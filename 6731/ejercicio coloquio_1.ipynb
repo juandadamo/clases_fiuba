{
 "cells": [
  {
   "cell_type": "code",
   "execution_count": 6,
   "id": "1ed9d654-82d3-41d5-a764-21d6b68013a4",
   "metadata": {},
   "outputs": [],
   "source": [
    "%%capture\n",
    "!pip install ht pandas fluids Coolprop"
   ]
  },
  {
   "cell_type": "code",
   "execution_count": 2,
   "id": "c2c20209",
   "metadata": {},
   "outputs": [],
   "source": [
    "%matplotlib widget\n",
    "import numpy as np\n",
    "import matplotlib.pyplot as plt\n",
    "from matplotlib import markers,lines,colors\n",
    "from scipy import interpolate\n",
    "import ht,fluids\n",
    "import CoolProp as cp\n",
    "import pandas as pd\n",
    "from IPython.display import  Latex"
   ]
  },
  {
   "cell_type": "markdown",
   "id": "da5153cd",
   "metadata": {},
   "source": [
    "Considere un intercambiador de calor de tubo en tubo, de flujo paralelo, con los siguientes parámetros:\n",
    "\n",
    "    Corriente fría:\n",
    "        Temperatura de entrada: TFE=40°C\n",
    "        Capacidad térmica del flujo: CF=20000W/K\n",
    "\n",
    "    Corriente caliente:\n",
    "        Temperatura de entrada: TCE=150°C\n",
    "        Capacidad térmica de flujo: CC=10000W/K\n",
    "\n",
    "    Superficie de intercambio: 30m2\n",
    "\n",
    "    Coeficiente global de transmisión: 500W/m2 K\n",
    "\n",
    "Se pide determinar:\n",
    "\n",
    "1.- El calor intercambiado\n",
    "\n",
    "2.- La temperatura de la corriente fría a la salida\n",
    "\n",
    "3.- La temperatura de la corriente caliente a la salida\n",
    "\n",
    "\n",
    "Un nuevo requerimiento de proceso exige que la temperatura caliente de salida sea de 90°C. Utilizando un equipo similar, se pide:\n",
    "\n",
    "4.- La nueva superficie de intercambio que cumpla el requerimiento, si se utilizara una configuración en flujo paralelo, y otra en contracorriente.\n",
    "\n",
    "5.- El nuevo calor intercambiado.\n",
    "\n",
    "6.- La nueva temperatura de la corriente fría de salida.\n",
    "\n"
   ]
  },
  {
   "cell_type": "code",
   "execution_count": 2,
   "id": "7858d49f",
   "metadata": {},
   "outputs": [],
   "source": [
    "Tfe = 40\n",
    "Cf = 20000\n",
    "Tce = 150\n",
    "Cc = 10000\n",
    "A = 30\n",
    "U = 500\n",
    "#flujo paralelo"
   ]
  },
  {
   "cell_type": "code",
   "execution_count": 3,
   "id": "405ac44c",
   "metadata": {},
   "outputs": [
    {
     "data": {
      "text/latex": [
       "\\(\\dot Q=\\)463.56kW"
      ],
      "text/plain": [
       "<IPython.core.display.Latex object>"
      ]
     },
     "metadata": {},
     "output_type": "display_data"
    },
    {
     "data": {
      "text/latex": [
       "\\(\\varepsilon =\\)0.42"
      ],
      "text/plain": [
       "<IPython.core.display.Latex object>"
      ]
     },
     "metadata": {},
     "output_type": "display_data"
    }
   ],
   "source": [
    "Cmin, Cmax = [np.min((Cc,Cf)),np.max((Cc,Cf))]\n",
    "Cr = Cmin/Cmax\n",
    "Nut = Cmin/U/A\n",
    "epsilon = ht.effectiveness_from_NTU(Nut, Cr, subtype='parallel')\n",
    "Qmax = Cmin * (Tce-Tfe)\n",
    "Q = Qmax*epsilon\n",
    "display(Latex(f'\\(\\dot Q=\\){Q*1e-3:.2f}kW'))\n",
    "display(Latex(f'\\(\\\\varepsilon =\\){epsilon:.2f}'))"
   ]
  },
  {
   "cell_type": "code",
   "execution_count": 4,
   "id": "39b26382",
   "metadata": {},
   "outputs": [
    {
     "data": {
      "text/latex": [
       "\\(T_{fs} =\\)63.2\\(^\\circ\\)C"
      ],
      "text/plain": [
       "<IPython.core.display.Latex object>"
      ]
     },
     "metadata": {},
     "output_type": "display_data"
    },
    {
     "data": {
      "text/latex": [
       "\\(T_{cs} =\\)103.6\\(^\\circ\\)C"
      ],
      "text/plain": [
       "<IPython.core.display.Latex object>"
      ]
     },
     "metadata": {},
     "output_type": "display_data"
    }
   ],
   "source": [
    "Tfs = Tfe+Q/Cf\n",
    "display(Latex(f'\\(T_{{fs}} =\\){Tfs:.1f}\\(^\\circ\\)C'))\n",
    "\n",
    "Tcs = Tce-Q/Cc\n",
    "display(Latex(f'\\(T_{{cs}} =\\){Tcs:.1f}\\(^\\circ\\)C'))"
   ]
  },
  {
   "cell_type": "code",
   "execution_count": 5,
   "id": "c5610304",
   "metadata": {},
   "outputs": [
    {
     "data": {
      "text/latex": [
       "\\(\\dot Q=\\)600.00kW"
      ],
      "text/plain": [
       "<IPython.core.display.Latex object>"
      ]
     },
     "metadata": {},
     "output_type": "display_data"
    },
    {
     "data": {
      "text/latex": [
       "\\(\\varepsilon =\\)0.55"
      ],
      "text/plain": [
       "<IPython.core.display.Latex object>"
      ]
     },
     "metadata": {},
     "output_type": "display_data"
    },
    {
     "data": {
      "text/latex": [
       "\\(Nut_p =\\)1.14"
      ],
      "text/plain": [
       "<IPython.core.display.Latex object>"
      ]
     },
     "metadata": {},
     "output_type": "display_data"
    },
    {
     "data": {
      "text/latex": [
       "\\(Nut_c =\\)0.94"
      ],
      "text/plain": [
       "<IPython.core.display.Latex object>"
      ]
     },
     "metadata": {},
     "output_type": "display_data"
    },
    {
     "data": {
      "text/latex": [
       "\\(A_p =\\)17.60m\\(^2\\)"
      ],
      "text/plain": [
       "<IPython.core.display.Latex object>"
      ]
     },
     "metadata": {},
     "output_type": "display_data"
    },
    {
     "data": {
      "text/latex": [
       "\\(A_c =\\)21.28m\\(^2\\)"
      ],
      "text/plain": [
       "<IPython.core.display.Latex object>"
      ]
     },
     "metadata": {},
     "output_type": "display_data"
    }
   ],
   "source": [
    "Tcs = 90\n",
    "#mismo equipo\n",
    "\n",
    "Q = (Tce-Tcs)*Cc\n",
    "display(Latex(f'\\(\\dot Q=\\){Q*1e-3:.2f}kW'))\n",
    "\n",
    "epsilon = Q/Qmax\n",
    "display(Latex(f'\\(\\\\varepsilon =\\){epsilon:.2f}'))\n",
    "Nut_p = ht.NTU_from_effectiveness(epsilon,Cr,subtype='parallel')\n",
    "Nut_c = ht.NTU_from_effectiveness(epsilon,Cr,subtype='counterflow')\n",
    "display(Latex(f'\\(Nut_p =\\){Nut_p:.2f}'))\n",
    "display(Latex(f'\\(Nut_c =\\){Nut_c:.2f}'))\n",
    "\n",
    "A_p = Cmin/U/Nut_p\n",
    "A_c = Cmin/U/Nut_c\n",
    "\n",
    "\n",
    "display(Latex(f'\\(A_p =\\){A_p:.2f}m\\(^2\\)'))\n",
    "display(Latex(f'\\(A_c =\\){A_c:.2f}m\\(^2\\)'))"
   ]
  },
  {
   "cell_type": "code",
   "execution_count": 6,
   "id": "9291c6a5",
   "metadata": {},
   "outputs": [
    {
     "data": {
      "text/latex": [
       "\\(T_{fs} =\\)70.0\\(^\\circ\\)C"
      ],
      "text/plain": [
       "<IPython.core.display.Latex object>"
      ]
     },
     "metadata": {},
     "output_type": "display_data"
    }
   ],
   "source": [
    "Tfs = Tfe+Q/Cf\n",
    "display(Latex(f'\\(T_{{fs}} =\\){Tfs:.1f}\\(^\\circ\\)C'))"
   ]
  },
  {
   "cell_type": "code",
   "execution_count": null,
   "id": "b7fc3861",
   "metadata": {},
   "outputs": [],
   "source": []
  },
  {
   "cell_type": "code",
   "execution_count": null,
   "id": "9b7739d9-a9cc-47d1-936f-3b14a8f362b3",
   "metadata": {},
   "outputs": [],
   "source": []
  },
  {
   "cell_type": "markdown",
   "id": "920137b8-8d8a-4867-b066-90a9972007d7",
   "metadata": {},
   "source": [
    "\t\n",
    "A un haz de tubos horizontales está formado por un patrón en cuadrado de 5 tubos en altura y 5 tubos a lo ancho. Los tubos de acero al carbono (\\(k_w\\) =50W/m K) son de diámetro externo $D=$25mm, con un espesor de pared e \\(t =1\\)mm. Estos se encuentran sumergidos en una corriente de vapor saturado a \\(T_{sat} =350\\)K. Por uno de sus extremos ingresa agua a \\(T_{AE}=300\\)K, para un caudal que en el interior de estos se establece una velocidad de \\(V=2\\)m/s (un paso por tubos). Si se requiere que la temperatura del agua a la salida sea\n",
    "\\(T_{AS}=320\\)K, se pide calcular:\n",
    "\n",
    "    a. El caudal de agua establecido (\\(\\dot m_f\\) ).\n",
    "    b. El calor intercambiado (\\(\\dot Q\\)).\n",
    "    c. La masa de vapor condensado (\\(\\dot m_c\\) )\n",
    "    d. El coeficiente global de transmisión (\\(U\\)).\n",
    "    e. La superficie de intercambio requerida (\\(A\\)).\n",
    "Durante el funcionamiento, repentinamente la temperatura del agua cae a \\(T_{AE}'= 295\\)K. Asumiendo que todos los parámetros calculados (\\(U, A, \\dot m_f\\) , y todas las propiedades de los fluidos) permanecen constantes,\n",
    " determinar:\n",
    " \n",
    "    f. La nueva temperatura del agua a la salida (\\(T_{AS}'\\))\n",
    "    g. El nuevo calor intercambiado (\\(\\dot Q'\\)).\n",
    "    h. La nueva tasa de condensado (\\(\\dot m_c'\\) ).\n",
    "\n",
    "CONSIDERACIONES:\n",
    "\n",
    "    - Para el cálculo de las propiedades térmicas del lado vapor, y del $h_e$, considerar que la temperatura de pared exterior $T_{we}$=330K.\n",
    "\n",
    "    -Para corrección del coeficiente de convección interno, utilizar \n",
    "$$\\mu_{wi}=4.31 \\cdot 10^{-4}\\text{kg/m s}$$\n",
    "    - Para a el cálculo del coeficiente de convección interno se sugiere utilizar expresiones de la forma \n",
    "$$Nu = C Re^\\alpha PR^\\beta$$.\n"
   ]
  },
  {
   "cell_type": "code",
   "execution_count": 11,
   "id": "8c8eea97-b622-4d48-bcbd-f8391848d0d1",
   "metadata": {},
   "outputs": [],
   "source": [
    "De=25e-3\n",
    "e_t=1e-3\n",
    "T_sat = 350\n",
    "Tsat = T_sat\n",
    "T_ae = 300\n",
    "V_a = 2\n",
    "T_as = 320\n",
    "Nx, Ny = [5,5]\n",
    "g =9.8\n",
    "k_t = 50"
   ]
  },
  {
   "cell_type": "code",
   "execution_count": 20,
   "id": "7261fed1-16cf-4e58-9180-28023dd8bbea",
   "metadata": {},
   "outputs": [
    {
     "data": {
      "text/latex": [
       "$\\dot m_a = 20.64kg/s$"
      ],
      "text/plain": [
       "<IPython.core.display.Latex object>"
      ]
     },
     "metadata": {},
     "output_type": "display_data"
    },
    {
     "data": {
      "text/latex": [
       "$Q_a = 1724.88$kW"
      ],
      "text/plain": [
       "<IPython.core.display.Latex object>"
      ]
     },
     "metadata": {},
     "output_type": "display_data"
    },
    {
     "data": {
      "text/latex": [
       "$\\dot m_c = 0.73kg/s$"
      ],
      "text/plain": [
       "<IPython.core.display.Latex object>"
      ]
     },
     "metadata": {},
     "output_type": "display_data"
    }
   ],
   "source": [
    "Di = De-2*e_t\n",
    "Ai = np.pi*Di**2/4\n",
    "\n",
    "\n",
    "\n",
    "T_am = (T_ae+T_as)/2\n",
    "p_a = 101.3e3\n",
    "Cp_a = cp.CoolProp.PropsSI('C','T',T_am,'P',p_a,'Water')\n",
    "rho_a = cp.CoolProp.PropsSI('D','T',T_am,'P',p_a,'Water')\n",
    "mu_a = cp.CoolProp.PropsSI('V','T',T_am,'P',p_a,'Water')\n",
    "nu_a = mu_a/rho_a\n",
    "k_a = cp.CoolProp.PropsSI('L','T',T_am,'P',p_a,'Water')\n",
    "\n",
    "Cp_v = cp.CoolProp.PropsSI('C','T',T_sat,'Q',1,'Water')\n",
    "rho_v = cp.CoolProp.PropsSI('D','T',T_sat,'Q',1,'Water')\n",
    "mu_v = cp.CoolProp.PropsSI('V','T',T_sat,'Q',1,'Water')\n",
    "nu_v = mu_v/rho_v\n",
    "i_v = cp.CoolProp.PropsSI('H','T',T_sat,'Q',1,'Water')\n",
    "i_va = cp.CoolProp.PropsSI('H','T',T_sat,'Q',0,'Water')\n",
    "Pr_v = cp.CoolProp.PropsSI('Prandtl','T',T_sat,'Q',1,'Water')\n",
    "Pr_a = cp.CoolProp.PropsSI('Prandtl','T',T_sat,'Q',0,'Water')\n",
    "hfg = i_v-i_va\n",
    "\n",
    "hfg_1 = hfg+(0.683-0.228/Pr_v)*Cp_v*(T_sat-T_ae)\n",
    "\n",
    "G_a = Nx*Ny*Ai*V_a\n",
    "m_a = rho_a*G_a\n",
    "Q_a = m_a*Cp_a*(T_as-T_ae)\n",
    "\n",
    "Q_v = Q_a\n",
    "\n",
    "m_c = Q_v/(hfg_1)\n",
    "\n",
    "display(Latex(f'$\\dot m_a = {m_a:.2f}kg/s$'))\n",
    "display(Latex(f'$Q_a = {Q_a*1e-3:.2f}$kW'))\n",
    "display(Latex(f'$\\dot m_c = {m_c:.2f}kg/s$'))"
   ]
  },
  {
   "cell_type": "code",
   "execution_count": 21,
   "id": "6dd16262-49d2-456b-8d25-5e792478cce2",
   "metadata": {},
   "outputs": [
    {
     "data": {
      "text/latex": [
       "$h_e= 4356W/m^2 K$"
      ],
      "text/plain": [
       "<IPython.core.display.Latex object>"
      ]
     },
     "metadata": {},
     "output_type": "display_data"
    }
   ],
   "source": [
    "h_e = 0.728*(((rho_a-rho_v)*g*hfg_1*k_a**3)/(Ny*nu_a*De*(T_sat-T_ae)))**(1/4)\n",
    "display(Latex(f'$h_e= {h_e:.0f}W/m^2 K$'))"
   ]
  },
  {
   "cell_type": "code",
   "execution_count": 14,
   "id": "4671765d-49ef-4d23-90a1-07af060df5ba",
   "metadata": {},
   "outputs": [
    {
     "data": {
      "text/latex": [
       "$Re_a= 65907.58$"
      ],
      "text/plain": [
       "<IPython.core.display.Latex object>"
      ]
     },
     "metadata": {},
     "output_type": "display_data"
    },
    {
     "data": {
      "text/latex": [
       "$h_i= 6946W/m^2 K$"
      ],
      "text/plain": [
       "<IPython.core.display.Latex object>"
      ]
     },
     "metadata": {},
     "output_type": "display_data"
    }
   ],
   "source": [
    "Re_a = V_a/nu_a * Di\n",
    "display(Latex(f'$Re_a= {Re_a:.2f}$'))\n",
    "\n",
    "Nu_ia = ht.conv_internal.Nu_conv_internal(Re_a,Pr_a)\n",
    "h_ia = Nu_ia*k_a/Di\n",
    "display(Latex(f'$h_i= {h_ia:.0f}W/m^2 K$'))\n",
    "\n",
    "#h_ia = 8726"
   ]
  },
  {
   "cell_type": "code",
   "execution_count": 15,
   "id": "2e2bbff1-3978-4d4b-8aa2-e115ba01c62b",
   "metadata": {},
   "outputs": [],
   "source": [
    "U = 1 / (1/h_e+ De*np.log(De/Di)/2/k_t+De/(h_ia*Di) ) "
   ]
  },
  {
   "cell_type": "code",
   "execution_count": 16,
   "id": "e4e6695d-fb8c-4b40-b757-1793f2bebc32",
   "metadata": {},
   "outputs": [
    {
     "data": {
      "text/latex": [
       "DTLM$= 39.2$"
      ],
      "text/plain": [
       "<IPython.core.display.Latex object>"
      ]
     },
     "metadata": {},
     "output_type": "display_data"
    },
    {
     "data": {
      "text/latex": [
       "Area$= 17.9m^2$"
      ],
      "text/plain": [
       "<IPython.core.display.Latex object>"
      ]
     },
     "metadata": {},
     "output_type": "display_data"
    },
    {
     "data": {
      "text/latex": [
       "NUT$= 0.51$"
      ],
      "text/plain": [
       "<IPython.core.display.Latex object>"
      ]
     },
     "metadata": {},
     "output_type": "display_data"
    },
    {
     "data": {
      "text/latex": [
       "$\\varepsilon$= 0.40$"
      ],
      "text/plain": [
       "<IPython.core.display.Latex object>"
      ]
     },
     "metadata": {},
     "output_type": "display_data"
    }
   ],
   "source": [
    "DTLM = ht.LMTD(Tci=T_ae, Tco=T_as, Thi=T_sat, Tho=T_sat)\n",
    "display(Latex(f'DTLM$= {DTLM:.1f}$'))\n",
    "Area = Q_a / U / DTLM\n",
    "display(Latex(f'Area$= {Area:.1f}m^2$'))\n",
    "\n",
    "Nut = U * Area / (m_a*Cp_a)\n",
    "display(Latex(f'NUT$= {Nut:.2f}$'))\n",
    "\n",
    "epsilon = ht.effectiveness_from_NTU(Nut, 0, subtype='counterflow')\n",
    "\n",
    "display(Latex(f'$\\\\varepsilon$= {epsilon:.2f}$'))"
   ]
  },
  {
   "cell_type": "code",
   "execution_count": 17,
   "id": "1902c317-5f1b-4b83-b178-f70d85d13d2a",
   "metadata": {},
   "outputs": [],
   "source": [
    "T_ae2 = 295"
   ]
  },
  {
   "cell_type": "markdown",
   "id": "d84bcf20-a50c-48c9-b483-581181c8c23b",
   "metadata": {},
   "source": [
    "$$Q = \\varepsilon Q_{\\max}$$\n",
    "$$Q = \\varepsilon C_{\\min}(T_{sat}-T_{ae}) = C_a(T_{as}-T_{ae})$$\n",
    "$$\\varepsilon C_a(T_{sat}-T_{ae}) = C_a(T_{as}-T_{ae})$$\n",
    "$$\\varepsilon (T_{sat}-T_{ae}) = (T_{as}-T_{ae})$$\n",
    "$$T_{as} = \\varepsilon (T_{sat}-T_{ae})+T_{ae}$$\n"
   ]
  },
  {
   "cell_type": "code",
   "execution_count": 18,
   "id": "05a5a3d6-4c20-408b-a8bc-c9df0b7da8de",
   "metadata": {},
   "outputs": [
    {
     "data": {
      "text/latex": [
       "$T_{as}^\\prime=317.00K$"
      ],
      "text/plain": [
       "<IPython.core.display.Latex object>"
      ]
     },
     "metadata": {},
     "output_type": "display_data"
    }
   ],
   "source": [
    "T_as2 = epsilon*(T_sat-T_ae2)+T_ae2\n",
    "display(Latex(f'$T_{{as}}^\\\\prime={T_as2:.2f}K$'))"
   ]
  },
  {
   "cell_type": "code",
   "execution_count": 19,
   "id": "3a5c9f03-7b30-4418-a1b8-57db50c06578",
   "metadata": {},
   "outputs": [
    {
     "data": {
      "text/latex": [
       "$Q_a^\\prime = 1897.37$kW"
      ],
      "text/plain": [
       "<IPython.core.display.Latex object>"
      ]
     },
     "metadata": {},
     "output_type": "display_data"
    },
    {
     "data": {
      "text/latex": [
       "$\\dot m_c^\\prime = 0.80kg/s$"
      ],
      "text/plain": [
       "<IPython.core.display.Latex object>"
      ]
     },
     "metadata": {},
     "output_type": "display_data"
    }
   ],
   "source": [
    "Q2 = Cp_a*m_a*(T_as2-T_ae2)\n",
    "m_c2 = Q2/hfg_1\n",
    "display(Latex(f'$Q_a^\\\\prime = {Q2*1e-3:.2f}$kW'))\n",
    "display(Latex(f'$\\dot m_c^\\\\prime = {m_c2:.2f}kg/s$'))"
   ]
  },
  {
   "cell_type": "code",
   "execution_count": 3,
   "id": "4d5fb617-1fc9-498a-ab51-7fb86aa1c35e",
   "metadata": {},
   "outputs": [],
   "source": [
    "m_g = 15\n",
    "T_ge = 1100\n",
    "m_a = 10\n",
    "T_ae = 300\n",
    "U = 100\n",
    "Cp_a,Cp_g = [1075,1075]"
   ]
  },
  {
   "cell_type": "code",
   "execution_count": 36,
   "id": "6366dc7b-8be1-4750-b77a-ca6c68e21388",
   "metadata": {},
   "outputs": [
    {
     "data": {
      "text/latex": [
       "$Q=5912.5$kW"
      ],
      "text/plain": [
       "<IPython.core.display.Latex object>"
      ]
     },
     "metadata": {},
     "output_type": "display_data"
    },
    {
     "data": {
      "text/latex": [
       "$\\varepsilon=0.69$"
      ],
      "text/plain": [
       "<IPython.core.display.Latex object>"
      ]
     },
     "metadata": {},
     "output_type": "display_data"
    },
    {
     "data": {
      "text/latex": [
       "Área=211.56m$^2$"
      ],
      "text/plain": [
       "<IPython.core.display.Latex object>"
      ]
     },
     "metadata": {},
     "output_type": "display_data"
    },
    {
     "data": {
      "text/plain": [
       "8600000"
      ]
     },
     "execution_count": 36,
     "metadata": {},
     "output_type": "execute_result"
    }
   ],
   "source": [
    "T_as = 850\n",
    "\n",
    "Q = m_a*Cp_a*(T_as-T_ae)\n",
    "\n",
    "\n",
    "display(Latex(f'$Q={Q*1e-3:.1f}$kW'))\n",
    "Cmax = Cp_g * m_g\n",
    "Cmin = Cp_a * m_a\n",
    "T_gs = T_ge - Q/Cmax\n",
    "Qmax = Cmin*(T_ge-T_ae)\n",
    "epsilon = Q/Qmax\n",
    "display(Latex(f'$\\\\varepsilon={epsilon:.2f}$'))\n",
    "Cr = Cmin/Cmax\n",
    "Nut = ht.NTU_from_effectiveness(epsilon,Cr,subtype='crossflow');\n",
    "#Nut  = UA / Cmin\n",
    "A = Nut*Cmin/U\n",
    "display(Latex(f'Área={A:.2f}m$^2$'))\n",
    "Qmax"
   ]
  },
  {
   "cell_type": "code",
   "execution_count": 35,
   "id": "63656bb3-91f3-4df9-aa96-9b04767ba98c",
   "metadata": {},
   "outputs": [
    {
     "data": {
      "text/plain": [
       "1.9679918749981342"
      ]
     },
     "execution_count": 35,
     "metadata": {},
     "output_type": "execute_result"
    }
   ],
   "source": [
    "Nut"
   ]
  },
  {
   "cell_type": "code",
   "execution_count": 5,
   "id": "9ceb8d27-851d-4c7e-925c-8705f97f8971",
   "metadata": {},
   "outputs": [],
   "source": [
    "def deltaTx(x,Tc0,Tf0,UA,L,Cc,Cf):\n",
    "    return (Tc0-Tf0)*np.exp(-UA*(1/Cc-1/Cf)*x/L)\n",
    "\n",
    "UA = U*A\n",
    "Cc = Cmax\n",
    "Cf = Cmin\n",
    "L = 1\n",
    "xi = np.linspace(0,1,100)\n",
    "Tcx = np.copy(xi)\n",
    "Tcx[0] = T_ge\n",
    "for i, xii in enumerate(xi[:-1]):\n",
    "    Tcx[i + 1] = T_as - deltaTx(xii, T_ge, T_as, UA, L, Cmax, Cmin)\n",
    "Tcx[-1] = T_gs\n",
    "Tfx = np.copy(xi)\n",
    "Tfx[0] = T_ae\n",
    "for i, xii in enumerate(xi[:-1]):\n",
    "    Tfx[i + 1] = T_ge - deltaTx(xii, T_ge, T_as, UA, L, Cmin, Cmax)\n",
    "Tfx[-1] = T_as"
   ]
  },
  {
   "cell_type": "code",
   "execution_count": 6,
   "id": "859b1cc3-89b6-45f1-a533-c8e49dd2efd4",
   "metadata": {},
   "outputs": [
    {
     "data": {
      "text/plain": [
       "1.2973107139432503e+02"
      ]
     },
     "execution_count": 6,
     "metadata": {},
     "output_type": "execute_result"
    }
   ],
   "source": [
    "deltaTx(1, T_ge, T_as, UA, 1, Cmin, Cmax)"
   ]
  },
  {
   "cell_type": "code",
   "execution_count": 7,
   "id": "c797b859-cf0b-4e6b-8d18-366a6be263af",
   "metadata": {},
   "outputs": [
    {
     "data": {
      "text/plain": [
       "[<matplotlib.lines.Line2D at 0x7f411d78b610>]"
      ]
     },
     "execution_count": 7,
     "metadata": {},
     "output_type": "execute_result"
    },
    {
     "data": {
      "application/vnd.jupyter.widget-view+json": {
       "model_id": "9df1060e3dc649868b930a4a7933c6b7",
       "version_major": 2,
       "version_minor": 0
      },
      "image/png": "[encoded data removed]",
      "text/html": [
       "\n",
       "            <div style=\"display: inline-block;\">\n",
       "                <div class=\"jupyter-widgets widget-label\" style=\"text-align: center;\">\n",
       "                    Figure\n",
       "                </div>\n",
       "                <img src='data:image/png;base64,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' width=640.0/>\n",
       "            </div>\n",
       "        "
      ],
      "text/plain": [
       "Canvas(toolbar=Toolbar(toolitems=[('Home', 'Reset original view', 'home', 'home'), ('Back', 'Back to previous …"
      ]
     },
     "metadata": {},
     "output_type": "display_data"
    }
   ],
   "source": [
    "fig,ax = plt.subplots()\n",
    "ax.plot(xi,Tcx)\n",
    "ax.plot(xi,Tfx)"
   ]
  },
  {
   "cell_type": "code",
   "execution_count": 32,
   "id": "dd4a6f0c-a706-432e-bfe1-5828cc6f4415",
   "metadata": {},
   "outputs": [
    {
     "data": {
      "text/latex": [
       "$Q^\\prime=5703$ kW"
      ],
      "text/plain": [
       "<IPython.core.display.Latex object>"
      ]
     },
     "metadata": {},
     "output_type": "display_data"
    }
   ],
   "source": [
    "m_g2 = 13\n",
    "Cmax2 = m_g2*Cp_g\n",
    "Cr2 = Cmin/Cmax2\n",
    "epsilon2 = ht.effectiveness_from_NTU(Nut,Cr2, subtype='crossflow')\n",
    "\n",
    "Q2 = epsilon2*Qmax\n",
    "display(Latex(f'$Q^\\prime={Q2*1e-3:.0f}$ kW'))"
   ]
  },
  {
   "cell_type": "code",
   "execution_count": 22,
   "id": "06b7c108-870c-497f-9d88-e2bc58e744ba",
   "metadata": {},
   "outputs": [
    {
     "data": {
      "text/plain": [
       "733.3333333333333"
      ]
     },
     "execution_count": 22,
     "metadata": {},
     "output_type": "execute_result"
    }
   ],
   "source": [
    "T_gs"
   ]
  },
  {
   "cell_type": "code",
   "execution_count": 33,
   "id": "20baca12-34e2-4840-a7c3-00b40bdc3ed9",
   "metadata": {},
   "outputs": [
    {
     "data": {
      "text/latex": [
       "$T_gs=691.9$"
      ],
      "text/plain": [
       "<IPython.core.display.Latex object>"
      ]
     },
     "metadata": {},
     "output_type": "display_data"
    }
   ],
   "source": [
    "T_gs2 = T_ge-Q2/Cmax2\n",
    "display(Latex(f'$T_gs={T_gs2:.1f}$'))"
   ]
  },
  {
   "cell_type": "code",
   "execution_count": 37,
   "id": "4fb490fc-fea4-42e1-b7e9-1e2b8bb25371",
   "metadata": {},
   "outputs": [
    {
     "data": {
      "text/plain": [
       "0.6631901443467195"
      ]
     },
     "execution_count": 37,
     "metadata": {},
     "output_type": "execute_result"
    }
   ],
   "source": [
    "epsilon2"
   ]
  },
  {
   "cell_type": "code",
   "execution_count": 40,
   "id": "8891ae54-cf37-45ae-8cb6-7e13f84b980d",
   "metadata": {},
   "outputs": [
    {
     "data": {
      "text/plain": [
       "830.5521154773757"
      ]
     },
     "execution_count": 40,
     "metadata": {},
     "output_type": "execute_result"
    }
   ],
   "source": [
    "T_as2 = T_ae+Q2/Cmin\n",
    "T_as2"
   ]
  },
  {
   "cell_type": "code",
   "execution_count": null,
   "id": "0b1b817f-3773-4055-a27c-14ac08c45fc3",
   "metadata": {},
   "outputs": [],
   "source": []
  }
 ],
 "metadata": {
  "kernelspec": {
   "display_name": "Python 3 (ipykernel)",
   "language": "python",
   "name": "python3"
  },
  "language_info": {
   "codemirror_mode": {
    "name": "ipython",
    "version": 3
   },
   "file_extension": ".py",
   "mimetype": "text/x-python",
   "name": "python",
   "nbconvert_exporter": "python",
   "pygments_lexer": "ipython3",
   "version": "3.10.9"
  },
  "latex_envs": {
   "LaTeX_envs_menu_present": true,
   "autoclose": true,
   "autocomplete": true,
   "bibliofile": "biblio.bib",
   "cite_by": "apalike",
   "current_citInitial": 1,
   "eqLabelWithNumbers": true,
   "eqNumInitial": 1,
   "hotkeys": {
    "equation": "Ctrl-E",
    "itemize": "Ctrl-I"
   },
   "labels_anchors": false,
   "latex_user_defs": false,
   "report_style_numbering": false,
   "user_envs_cfg": false
  }
 },
 "nbformat": 4,
 "nbformat_minor": 5
}
