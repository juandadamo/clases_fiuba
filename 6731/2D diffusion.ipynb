{
 "cells": [
  {
   "cell_type": "code",
   "execution_count": 2,
   "metadata": {},
   "outputs": [],
   "source": [
    "#%matplotlib notebook\n",
    "from fipy import CellVariable, Grid2D, Viewer, TransientTerm, DiffusionTerm\n",
    "from scipy.special import erf # doctest: +SCIPY>\n",
    "import numpy as np\n",
    "import matplotlib.pyplot as plt\n",
    "from ipywidgets import interact, interactive,widgets,Layout\n"
   ]
  },
  {
   "cell_type": "markdown",
   "metadata": {},
   "source": [
    "## Solucion numerica del problema de difusión\n",
    "### Conducción no estacionaria en tranferencia de calor\n",
    "\n",
    "$$\\frac{\\partial T}{\\partial t} = D \\nabla^2 T.$$\n",
    "\n",
    "#### Caso 3: conducción en 2D"
   ]
  },
  {
   "cell_type": "code",
   "execution_count": 3,
   "metadata": {},
   "outputs": [],
   "source": [
    "nx = 20\n",
    "\n",
    "ny = nx\n",
    "\n",
    "dx = 1.\n",
    "\n",
    "dy = dx\n",
    "\n",
    "L = dx * nx\n",
    "\n",
    "mesh = Grid2D(dx=dx, dy=dy, nx=nx, ny=ny)"
   ]
  },
  {
   "cell_type": "code",
   "execution_count": 4,
   "metadata": {},
   "outputs": [],
   "source": [
    "phi = CellVariable(name = \"solution variable\",\n",
    "\n",
    "                   mesh = mesh,\n",
    "\n",
    "                   value = 0.)"
   ]
  },
  {
   "cell_type": "code",
   "execution_count": 5,
   "metadata": {},
   "outputs": [],
   "source": [
    "D = 1.\n",
    "\n",
    "eq = TransientTerm() == DiffusionTerm(coeff=D)"
   ]
  },
  {
   "cell_type": "code",
   "execution_count": 6,
   "metadata": {},
   "outputs": [],
   "source": [
    "valueTopLeft = 0\n",
    "\n",
    "valueBottomRight = 1"
   ]
  },
  {
   "cell_type": "code",
   "execution_count": 7,
   "metadata": {},
   "outputs": [],
   "source": [
    "X, Y = mesh.faceCenters\n",
    "\n",
    "facesTopLeft = ((mesh.facesLeft & (Y > L / 2))\n",
    "\n",
    "                | (mesh.facesTop & (X < L / 2)))\n",
    "\n",
    "facesBottomRight = ((mesh.facesRight & (Y < L / 2))\n",
    "\n",
    "                    | (mesh.facesBottom & (X > L / 2)))\n",
    "\n",
    "\n",
    "\n",
    "facesTop = (mesh.facesTop & (Y > L/2 ))\n",
    "\n",
    "facesLeft = (mesh.facesLeft & (X < L / 2))\n",
    "\n",
    "facesBottom = (mesh.facesBottom & (Y < L / 2))\n",
    "\n",
    "facesRight =  (mesh.facesRight & (X > L / 2))"
   ]
  },
  {
   "cell_type": "code",
   "execution_count": 8,
   "metadata": {},
   "outputs": [],
   "source": [
    "T1 = 40\n",
    "T0 = 0\n",
    "phi.constrain(T1, facesTop)\n",
    "\n",
    "phi.constrain(T0, facesBottom)\n",
    "\n",
    "phi.constrain(T0, facesRight)\n",
    "\n",
    "phi.constrain(T0, facesLeft)\n",
    "\n"
   ]
  },
  {
   "cell_type": "code",
   "execution_count": 47,
   "metadata": {},
   "outputs": [],
   "source": [
    "delta_tiempo =  0.9 * dx**2 / (2 * D)\n",
    "#Fourier = t * a / Lx\n",
    "t_final = 2*L/D\n",
    "pasos = np.int( t_final/delta_tiempo)+1\n",
    "tiempo = np.arange(0,t_final,delta_tiempo)\n",
    "\n",
    "temperaturas = np.tile(np.zeros_like(phi.value),(pasos,1))\n",
    "\n",
    "phi.setValue(0)\n",
    "\n",
    "for i, tiempo_i in enumerate(tiempo):\n",
    "    temperaturas[i] = phi.value\n",
    "    eq.solve(var=phi, dt=delta_tiempo)\n",
    "    \n"
   ]
  },
  {
   "cell_type": "code",
   "execution_count": 48,
   "metadata": {},
   "outputs": [],
   "source": [
    "#fig0,ax0 = plt.subplots()\n",
    "#i = np.abs(tiempo-t_final/2).argmin()\n",
    "#temperatura_i = temperaturas[i].reshape(nx,ny)\n",
    "\n",
    "#x = mesh.x.value.reshape(nx,ny)\n",
    "#y = mesh.y.value.reshape(nx,ny)\n",
    "#cf1 = ax0.contourf(x,y,temperatura_i);\n",
    "#fig0.colorbar(cf1,label='T');"
   ]
  },
  {
   "cell_type": "code",
   "execution_count": 50,
   "metadata": {},
   "outputs": [
    {
     "data": {
      "application/vnd.jupyter.widget-view+json": {
       "model_id": "c425a9069a62442aaa0efc6ac14cb759",
       "version_major": 2,
       "version_minor": 0
      },
      "text/plain": [
       "interactive(children=(FloatSlider(value=0.0, description='Tiempo [s]', max=40.0, step=2.25), Output()), _dom_c…"
      ]
     },
     "metadata": {},
     "output_type": "display_data"
    }
   ],
   "source": [
    "niveles= np.linspace(T0,T1,20)\n",
    "def presenta_campo(ti):\n",
    "    #fig1,ax1 = plt.subplots()\n",
    "    i = np.int(ti/delta_tiempo)\n",
    "    #i = np.abs(tiempo-t_final/2).argmin()\n",
    "    \n",
    "    tiempo_i = delta_tiempo*i\n",
    "    temperatura_i = temperaturas[i].reshape(nx,ny)\n",
    "    x = mesh.x.value.reshape(nx,ny)\n",
    "    y = mesh.y.value.reshape(nx,ny)\n",
    "    plt.contourf(x,y,temperatura_i,levels=niveles);\n",
    "    plt.colorbar()\n",
    "    print(i)\n",
    "\n",
    "interact(presenta_campo,ti=widgets.FloatSlider(min=0,max=t_final,step=delta_tiempo*5,value=0,description='Tiempo [s]'));"
   ]
  },
  {
   "cell_type": "code",
   "execution_count": 34,
   "metadata": {},
   "outputs": [
    {
     "data": {
      "image/png": "[encoded data removed]",
      "text/plain": [
       "<Figure size 432x288 with 2 Axes>"
      ]
     },
     "metadata": {
      "needs_background": "light"
     },
     "output_type": "display_data"
    },
    {
     "data": {
      "application/vnd.jupyter.widget-view+json": {
       "model_id": "c047e7e02f3945b8826e7240abad22f4",
       "version_major": 2,
       "version_minor": 0
      },
      "text/plain": [
       "interactive(children=(FloatSlider(value=0.0, description='Tiempo [s]', max=4.0, step=0.45), Output()), _dom_cl…"
      ]
     },
     "metadata": {},
     "output_type": "display_data"
    }
   ],
   "source": [
    "fig0,ax0 = plt.subplots()\n",
    "temperatura_i = temperaturas[0].reshape(nx,ny)\n",
    "x = mesh.x.value.reshape(nx,ny)\n",
    "y = mesh.y.value.reshape(nx,ny)\n",
    "cf1 = ax0.contourf(x,y,temperatura_i);\n",
    "fig0.colorbar(cf1,label='T');\n",
    "def presenta_campo_T(ti):\n",
    "    #fig1,ax1 = plt.subplots()\n",
    "    i = np.int(ti/delta_tiempo)\n",
    "    #i = np.abs(tiempo-t_final/2).argmin()\n",
    "    tiempo_i = delta_tiempo*i\n",
    "    temperatura_i = temperaturas[i].reshape(nx,ny)\n",
    "    x = mesh.x.value.reshape(nx,ny)\n",
    "    y = mesh.y.value.reshape(nx,ny)\n",
    "    #cf1 = ax0.contourf(x,y,temperatura_i);\n",
    "    cf1.set_array(temperatura_i)\n",
    "    fig0.canvas.draw_idle()\n",
    "    #plt.show()\n",
    "interact(presenta_campo_T,ti=widgets.FloatSlider(min=0,max=t_final,step=delta_tiempo,value=0,description='Tiempo [s]'));   "
   ]
  }
 ],
 "metadata": {
  "kernelspec": {
   "display_name": "Python 3 (ipykernel)",
   "language": "python",
   "name": "python3"
  },
  "language_info": {
   "codemirror_mode": {
    "name": "ipython",
    "version": 3
   },
   "file_extension": ".py",
   "mimetype": "text/x-python",
   "name": "python",
   "nbconvert_exporter": "python",
   "pygments_lexer": "ipython3",
   "version": "3.12.2"
  },
  "latex_envs": {
   "LaTeX_envs_menu_present": true,
   "autoclose": false,
   "autocomplete": true,
   "bibliofile": "biblio.bib",
   "cite_by": "apalike",
   "current_citInitial": 1,
   "eqLabelWithNumbers": true,
   "eqNumInitial": 1,
   "hotkeys": {
    "equation": "Ctrl-E",
    "itemize": "Ctrl-I"
   },
   "labels_anchors": false,
   "latex_user_defs": false,
   "report_style_numbering": false,
   "user_envs_cfg": false
  }
 },
 "nbformat": 4,
 "nbformat_minor": 4
}
