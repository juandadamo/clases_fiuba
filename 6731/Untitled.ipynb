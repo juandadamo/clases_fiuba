{
 "cells": [
  {
   "cell_type": "code",
   "execution_count": 9,
   "id": "93f67f32",
   "metadata": {},
   "outputs": [],
   "source": [
    "from sympy import Function, dsolve, Eq, Derivative, sin, cos\n",
    "from sympy.abc import r\n",
    "T = Function('T')\n",
    "h=20\n",
    "k=40\n",
    "b=5e-3\n",
    "beta = h*2/k*b\n",
    "Ta = 30\n",
    "\n",
    "sol = dsolve(-Derivative(r*Derivative(T(r), r), r) - beta*(T(r)), T(r))\n"
   ]
  },
  {
   "cell_type": "code",
   "execution_count": 10,
   "id": "8df910eb",
   "metadata": {},
   "outputs": [
    {
     "data": {
      "text/plain": [
       "<bound method Basic.simplify of Eq(T(r), C1*besselj(0, 0.14142135623731*sqrt(r)) + C2*bessely(0, 0.14142135623731*sqrt(r)))>"
      ]
     },
     "execution_count": 10,
     "metadata": {},
     "output_type": "execute_result"
    }
   ],
   "source": [
    "sol.simplify"
   ]
  },
  {
   "cell_type": "code",
   "execution_count": null,
   "id": "b3d01ad7",
   "metadata": {},
   "outputs": [],
   "source": []
  }
 ],
 "metadata": {
  "kernelspec": {
   "display_name": "Python 3",
   "language": "python",
   "name": "python3"
  },
  "language_info": {
   "codemirror_mode": {
    "name": "ipython",
    "version": 3
   },
   "file_extension": ".py",
   "mimetype": "text/x-python",
   "name": "python",
   "nbconvert_exporter": "python",
   "pygments_lexer": "ipython3",
   "version": "3.8.8"
  },
  "latex_envs": {
   "LaTeX_envs_menu_present": true,
   "autoclose": true,
   "autocomplete": true,
   "bibliofile": "biblio.bib",
   "cite_by": "apalike",
   "current_citInitial": 1,
   "eqLabelWithNumbers": true,
   "eqNumInitial": 1,
   "hotkeys": {
    "equation": "Ctrl-E",
    "itemize": "Ctrl-I"
   },
   "labels_anchors": false,
   "latex_user_defs": false,
   "report_style_numbering": false,
   "user_envs_cfg": false
  }
 },
 "nbformat": 4,
 "nbformat_minor": 5
}
