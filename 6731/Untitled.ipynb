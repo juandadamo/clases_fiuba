{
 "cells": [
  {
   "cell_type": "code",
   "execution_count": 2,
   "metadata": {},
   "outputs": [],
   "source": [
    "% matplotlib notebook\n",
    "% reload_ext autoreload\n",
    "import numpy as np # linear algebra\n",
    "import pandas as pd # data processing, CSV file I/O (e.g. pd.read_csv)\n",
    "import glob\n",
    "from scipy import interpolate,optimize,integrate,signal\n",
    "import matplotlib.pyplot as plt\n",
    "import pylab,six,matplotlib \n",
    "from matplotlib import markers,lines,colors\n",
    "import os,six,socket\n",
    "mk=np.tile(markers.MarkerStyle.filled_markers,2)\n",
    "mk = ['s','o','*','d','v','>','x']\n",
    "\n",
    "matplotlib.rc('font',family='serif',size=15)   \n",
    "from scipy.signal import find_peaks\n",
    "from tikzplotlib import save as tikz_save\n",
    "ck = [p['color'] for p in plt.rcParams['axes.prop_cycle']] "
   ]
  },
  {
   "cell_type": "code",
   "execution_count": 8,
   "metadata": {},
   "outputs": [],
   "source": [
    "Peso_grano = 1e3/22e3 #en gramos\n",
    "Peso_64_casillas = Peso_grano*2**64"
   ]
  },
  {
   "cell_type": "code",
   "execution_count": 9,
   "metadata": {},
   "outputs": [
    {
     "data": {
      "text/plain": [
       "838488366986797.9"
      ]
     },
     "execution_count": 9,
     "metadata": {},
     "output_type": "execute_result"
    }
   ],
   "source": [
    "Peso_64_casillas/1e3"
   ]
  },
  {
   "cell_type": "code",
   "execution_count": 10,
   "metadata": {},
   "outputs": [],
   "source": [
    "Peso_planeta_Tierra = 10**24 #en kg"
   ]
  },
  {
   "cell_type": "code",
   "execution_count": 11,
   "metadata": {},
   "outputs": [
    {
     "data": {
      "text/plain": [
       "1192622.389734055"
      ]
     },
     "execution_count": 11,
     "metadata": {},
     "output_type": "execute_result"
    }
   ],
   "source": [
    "Peso_planeta_Tierra / Peso_64_casillas"
   ]
  },
  {
   "cell_type": "code",
   "execution_count": null,
   "metadata": {},
   "outputs": [],
   "source": []
  }
 ],
 "metadata": {
  "kernelspec": {
   "display_name": "Python 3",
   "language": "python",
   "name": "python3"
  },
  "language_info": {
   "codemirror_mode": {
    "name": "ipython",
    "version": 3
   },
   "file_extension": ".py",
   "mimetype": "text/x-python",
   "name": "python",
   "nbconvert_exporter": "python",
   "pygments_lexer": "ipython3",
   "version": "3.6.9"
  }
 },
 "nbformat": 4,
 "nbformat_minor": 2
}
