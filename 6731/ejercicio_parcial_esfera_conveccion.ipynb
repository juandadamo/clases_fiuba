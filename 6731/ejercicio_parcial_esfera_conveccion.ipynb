{
 "cells": [
  {
   "cell_type": "code",
   "execution_count": 6,
   "metadata": {},
   "outputs": [],
   "source": [
    "%matplotlib notebook\n",
    "import numpy as np\n",
    "import matplotlib.pyplot as plt\n",
    "from matplotlib import markers,lines,colors\n",
    "from scipy import interpolate\n",
    "import ht,fluids\n",
    "import pandas as pd\n",
    "from IPython.display import Image,Latex\n",
    "import CoolProp as cp"
   ]
  },
  {
   "cell_type": "code",
   "execution_count": null,
   "metadata": {},
   "outputs": [],
   "source": []
  },
  {
   "cell_type": "code",
   "execution_count": 4,
   "metadata": {},
   "outputs": [],
   "source": [
    "def conv_esfera(Ra,Pr):\n",
    "    return 2+(0.589*Ra**0.25)/ (1+(0.469/Pr)**(9/16))**(4/9)"
   ]
  },
  {
   "cell_type": "code",
   "execution_count": 29,
   "metadata": {},
   "outputs": [],
   "source": [
    "g = 9.8\n",
    "\n",
    "T_s = 450\n",
    "T_infty = 300\n",
    "Tm = (T_s + T_infty)/2\n",
    "DeltaT = T_s-T_infty\n",
    "beta = 1/Tm\n",
    "D = 50e-3\n",
    "mu = cp.CoolProp.PropsSI('V','T',Tm,'P',101.3e3,'Air')\n",
    "rho = cp.CoolProp.PropsSI('D','T',Tm,'P',101.3e3,'Air')\n",
    "nu = mu/rho\n",
    "Pr = cp.CoolProp.PropsSI('Prandtl','T',Tm,'P',101.3e3,'Air')\n",
    "k = cp.CoolProp.PropsSI('L','T',Tm,'P',101.3e3,'Air')\n",
    "a = nu/Pr\n",
    "Ra_D = g*D**3*beta*(T_s-T_infty) / (nu*a)"
   ]
  },
  {
   "cell_type": "code",
   "execution_count": 30,
   "metadata": {},
   "outputs": [
    {
     "data": {
      "text/latex": [
       "$\\mathrm{Nu}_D$ = 14.8"
      ],
      "text/plain": [
       "<IPython.core.display.Latex object>"
      ]
     },
     "metadata": {},
     "output_type": "display_data"
    },
    {
     "data": {
      "text/latex": [
       "$\\mathrm{h}_c$ = 23.3"
      ],
      "text/plain": [
       "<IPython.core.display.Latex object>"
      ]
     },
     "metadata": {},
     "output_type": "display_data"
    }
   ],
   "source": [
    "Nu_D = conv_esfera(Ra_D,Pr)\n",
    "display(Latex(f'$\\mathrm{{Nu}}_D$ = {Nu_D:.1f}'))\n",
    "h_c = Nu_D * D / k\n",
    "display(Latex(f'$\\mathrm{{h}}_c$ = {h_c:.1f}'))"
   ]
  },
  {
   "cell_type": "code",
   "execution_count": 31,
   "metadata": {},
   "outputs": [
    {
     "data": {
      "text/plain": [
       "0.03174759660185585"
      ]
     },
     "execution_count": 31,
     "metadata": {},
     "output_type": "execute_result"
    }
   ],
   "source": [
    "k"
   ]
  },
  {
   "cell_type": "code",
   "execution_count": 32,
   "metadata": {},
   "outputs": [
    {
     "data": {
      "text/latex": [
       "$\\mathrm{Bi}$ = 0.24"
      ],
      "text/plain": [
       "<IPython.core.display.Latex object>"
      ]
     },
     "metadata": {},
     "output_type": "display_data"
    }
   ],
   "source": [
    "k_al = ht.k_material('aluminium')\n",
    "Bi = h_c*D /k_al\n",
    "display(Latex(f'$\\mathrm{{Bi}}$ = {Bi:.2f}'))"
   ]
  },
  {
   "cell_type": "code",
   "execution_count": 35,
   "metadata": {},
   "outputs": [],
   "source": [
    "#Suponiendo cuerpo negro, el coeficiente equivalente por transferencia de calor por radiacion\n",
    "\n",
    "sigma = 5.67e-8\n",
    "F_12 = 0.5\n",
    "h_rad = F_12*Tm**3*sigma\n"
   ]
  },
  {
   "cell_type": "code",
   "execution_count": 36,
   "metadata": {},
   "outputs": [
    {
     "data": {
      "text/plain": [
       "1.4950195312499999"
      ]
     },
     "execution_count": 36,
     "metadata": {},
     "output_type": "execute_result"
    }
   ],
   "source": [
    "h_rad"
   ]
  },
  {
   "cell_type": "code",
   "execution_count": null,
   "metadata": {},
   "outputs": [],
   "source": []
  }
 ],
 "metadata": {
  "anaconda-cloud": {},
  "kernelspec": {
   "display_name": "Python 3 (ipykernel)",
   "language": "python",
   "name": "python3"
  },
  "language_info": {
   "codemirror_mode": {
    "name": "ipython",
    "version": 3
   },
   "file_extension": ".py",
   "mimetype": "text/x-python",
   "name": "python",
   "nbconvert_exporter": "python",
   "pygments_lexer": "ipython3",
   "version": "3.9.12"
  }
 },
 "nbformat": 4,
 "nbformat_minor": 2
}
