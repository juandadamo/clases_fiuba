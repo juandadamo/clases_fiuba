{
 "cells": [
  {
   "cell_type": "code",
   "execution_count": 3,
   "metadata": {},
   "outputs": [],
   "source": [
    "# -*- coding: utf-8 -*-\n",
    "%matplotlib notebook\n",
    "import numpy as np\n",
    "import matplotlib.pyplot as plt\n",
    "import matplotlib as mpl\n",
    "\n",
    "mpl.rc('font',family='serif',size=9)\n",
    "import ht,thermo"
   ]
  },
  {
   "cell_type": "markdown",
   "metadata": {},
   "source": [
    "## Sumidero de calor termoeléctrico\n",
    "\n",
    "La evacuación de calor desde un dispositivo de refrigeración termoeléctrico se logra mediante un arreglo de $10\\times10$ de aletas de diámetro $D_{aleta}=1.5$ mm y de largo $L_{aleta}=15$ mm. Las aletas estan unidas a una placa base cuadrada de lado $W_b = 30$ mm y espesor $th_b=2$ mm, como muestra la Figura. La conductividad del material de la aleta es $k_{aleta} = 70$ W/m$\\cdot$ K y ladel material base es $k_b= 25$ W/m$\\cdot$K. Hay una resistencia de contacto de ${R_c}^{''}=1\\cdot 10^{-4}$m$^2\\cdot$ K / W en la interfase entre la placa base y las aletas. El extremo del refigerador termoeléctrico se encuentra a $T_{hot} = 30^\\circ$C y el aire alrededor está a $T_\\infty= 20^\\circ$C. El coeficiente de transferencia promedio entre el aire y la superficie del sumidero de calor es de $h=50$ W/m$^2\\cdot $K."
   ]
  },
  {
   "cell_type": "markdown",
   "metadata": {},
   "source": [
    "![aletas](problema_aletas.png)"
   ]
  },
  {
   "cell_type": "code",
   "execution_count": null,
   "metadata": {
    "collapsed": true
   },
   "outputs": [],
   "source": []
  },
  {
   "cell_type": "markdown",
   "metadata": {},
   "source": [
    "a) ¿Cuá es la resistencia térmica total entre el extremo de la aleta y el aire? ¿ Cual es la tasa de extracción de calor que puede conseguirse en estas condiciones?\n",
    "\n",
    "b) A partir de la selección de material y manipulación del flujo de aire a través del sumidero de calor es posible afectar al diseño de $k_{aleta}$ y de $\\bar h$. Realice un gráfico que muestro lineas de nivel de extracción constante de calor para $k_{aleta}\\in [5,150]$W/m$\\cdot$K y $\\bar h\\in[10,200]$ W/m$^2\\cdot$K.\n",
    "\n",
    "c) Se determinó que el coeficiente de convección \n",
    "\n",
    "$\\bar h = 40\\left[\\frac{\\text{W}}{\\text{m}^2 \\text{K}}\\right]\\left(\\frac{a}{0.005[\\text{m}]}\\right)^{0.4}\\left(\\frac{D}{0.01[\\text{m}]}\\right)^{-0.3}$\n",
    "donde $a$ es la distancia entre aletas y $D$ el diámetro.\n",
    "\n",
    "Para valores de $D_{aleta}$ alrededor del valor de diseño, encuentre un valor óptimo."
   ]
  }
 ],
 "metadata": {
  "anaconda-cloud": {},
  "kernelspec": {
   "display_name": "Python 3",
   "language": "python",
   "name": "python3"
  },
  "language_info": {
   "codemirror_mode": {
    "name": "ipython",
    "version": 3
   },
   "file_extension": ".py",
   "mimetype": "text/x-python",
   "name": "python",
   "nbconvert_exporter": "python",
   "pygments_lexer": "ipython3",
   "version": "3.8.8"
  },
  "latex_envs": {
   "LaTeX_envs_menu_present": true,
   "autoclose": true,
   "autocomplete": true,
   "bibliofile": "biblio.bib",
   "cite_by": "apalike",
   "current_citInitial": 1,
   "eqLabelWithNumbers": true,
   "eqNumInitial": 1,
   "hotkeys": {
    "equation": "Ctrl-E",
    "itemize": "Ctrl-I"
   },
   "labels_anchors": false,
   "latex_user_defs": false,
   "report_style_numbering": false,
   "user_envs_cfg": false
  }
 },
 "nbformat": 4,
 "nbformat_minor": 2
}
