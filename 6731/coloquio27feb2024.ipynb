{
 "cells": [
  {
   "cell_type": "code",
   "execution_count": 1,
   "id": "5e33ae6a-cbff-4783-b218-88a15321032c",
   "metadata": {},
   "outputs": [],
   "source": [
    "import ht\n",
    "import numpy as np"
   ]
  },
  {
   "cell_type": "code",
   "execution_count": 15,
   "id": "d015e11f-bf6a-48a7-8029-994762587b85",
   "metadata": {},
   "outputs": [],
   "source": [
    "Tbe =360\n",
    "Tbs = 335\n",
    "gb = 6\n",
    "\n",
    "Tae = 290\n",
    "Tas = 324\n",
    "\n",
    "cb = 1880\n",
    "ca =4175\n",
    "\n",
    "Qb = gb*cb * (Tbe-Tbs)\n",
    "Qa = Qb\n",
    "ga = Qa / (Tas-Tae)/ca\n",
    "\n",
    "Cmin = np.min((cb*gb,ca*ga))\n",
    "Cmax = np.max((cb*gb,ca*ga))\n",
    "Cr = Cmin/Cmax\n",
    "\n",
    "Qmax = Cmin*(Tbe-Tae)\n",
    "eps1 = Qa/Qmax\n",
    "\n",
    "Nut1 = ht.NTU_from_effectiveness(eps1,Cr,subtype='S&T')\n",
    "\n",
    "UA1 = Nut1*Cmin"
   ]
  },
  {
   "cell_type": "code",
   "execution_count": 22,
   "id": "be8f179a-4fc0-4c83-ae76-32be7cde2e72",
   "metadata": {},
   "outputs": [
    {
     "name": "stdout",
     "output_type": "stream",
     "text": [
      "conductancias ratio 0.8\n"
     ]
    }
   ],
   "source": [
    "R1 = 1/UA1\n",
    "R2 = R1*1.25\n",
    "\n",
    "UA2 = 1/R2\n",
    "print('conductancias ratio',UA2/UA1)\n",
    "\n",
    "UA2 = 0.8*UA1\n",
    "Nut2 = UA2/Cmin\n",
    "eps2 = ht.effectiveness_from_NTU(Nut2,Cr,subtype='S&T')\n",
    "eps2\n",
    "\n",
    "Qb2 = Qmax*eps2"
   ]
  },
  {
   "cell_type": "code",
   "execution_count": 19,
   "id": "fbf972a4-79f6-431a-942b-180d373ade21",
   "metadata": {},
   "outputs": [
    {
     "data": {
      "text/plain": [
       "0.893306216912555"
      ]
     },
     "execution_count": 19,
     "metadata": {},
     "output_type": "execute_result"
    }
   ],
   "source": [
    "Qb2/Qb"
   ]
  },
  {
   "cell_type": "code",
   "execution_count": 23,
   "id": "7c12f34a-ae62-4393-a536-9b13cfe95287",
   "metadata": {},
   "outputs": [
    {
     "data": {
      "text/plain": [
       "282000"
      ]
     },
     "execution_count": 23,
     "metadata": {},
     "output_type": "execute_result"
    }
   ],
   "source": [
    "Qb"
   ]
  },
  {
   "cell_type": "code",
   "execution_count": 25,
   "id": "bacae192-926f-497a-977d-092a6a458baf",
   "metadata": {},
   "outputs": [
    {
     "data": {
      "text/plain": [
       "1.9866150052835505"
      ]
     },
     "execution_count": 25,
     "metadata": {},
     "output_type": "execute_result"
    }
   ],
   "source": [
    "ga"
   ]
  },
  {
   "cell_type": "code",
   "execution_count": 26,
   "id": "7bfc4ad4-16b2-406b-a1cd-24291368c507",
   "metadata": {},
   "outputs": [
    {
     "data": {
      "text/plain": [
       "0.43389159107181247"
      ]
     },
     "execution_count": 26,
     "metadata": {},
     "output_type": "execute_result"
    }
   ],
   "source": [
    "eps2"
   ]
  },
  {
   "cell_type": "code",
   "execution_count": 27,
   "id": "47b5e275-dc31-47c4-bc61-e6553369d7ca",
   "metadata": {},
   "outputs": [
    {
     "data": {
      "text/plain": [
       "7720.927104190816"
      ]
     },
     "execution_count": 27,
     "metadata": {},
     "output_type": "execute_result"
    }
   ],
   "source": [
    "UA1"
   ]
  },
  {
   "cell_type": "code",
   "execution_count": null,
   "id": "369f2172-232a-453a-bb5d-8acd218e06d2",
   "metadata": {},
   "outputs": [],
   "source": []
  }
 ],
 "metadata": {
  "kernelspec": {
   "display_name": "Python 3 (ipykernel)",
   "language": "python",
   "name": "python3"
  },
  "language_info": {
   "codemirror_mode": {
    "name": "ipython",
    "version": 3
   },
   "file_extension": ".py",
   "mimetype": "text/x-python",
   "name": "python",
   "nbconvert_exporter": "python",
   "pygments_lexer": "ipython3",
   "version": "3.12.7"
  }
 },
 "nbformat": 4,
 "nbformat_minor": 5
}
