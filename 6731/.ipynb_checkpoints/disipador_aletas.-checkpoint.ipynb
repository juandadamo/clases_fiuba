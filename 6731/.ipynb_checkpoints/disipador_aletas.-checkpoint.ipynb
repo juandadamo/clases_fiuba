{
 "cells": [
  {
   "cell_type": "code",
   "execution_count": 14,
   "id": "59c422d2",
   "metadata": {
    "slideshow": {
     "slide_type": "skip"
    }
   },
   "outputs": [
    {
     "name": "stdout",
     "output_type": "stream",
     "text": [
      "Requirement already satisfied: sympy in /home/juan/.local/lib/python3.8/site-packages (1.8)\n",
      "Requirement already satisfied: matplotlib in /home/juan/.local/lib/python3.8/site-packages (3.4.2)\n",
      "Requirement already satisfied: numpy in /home/juan/.local/lib/python3.8/site-packages (1.20.3)\n",
      "Requirement already satisfied: scipy in /home/juan/.local/lib/python3.8/site-packages (1.6.3)\n",
      "Requirement already satisfied: IPython in /usr/lib/python3/dist-packages (7.13.0)\n",
      "Requirement already satisfied: itikz in /home/juan/.local/lib/python3.8/site-packages (0.1.5)\n",
      "Requirement already satisfied: mpmath>=0.19 in /home/juan/.local/lib/python3.8/site-packages (from sympy) (1.2.1)\n",
      "Requirement already satisfied: cycler>=0.10 in /home/juan/.local/lib/python3.8/site-packages (from matplotlib) (0.10.0)\n",
      "Requirement already satisfied: python-dateutil>=2.7 in /usr/lib/python3/dist-packages (from matplotlib) (2.7.3)\n",
      "Requirement already satisfied: pyparsing>=2.2.1 in /home/juan/.local/lib/python3.8/site-packages (from matplotlib) (2.4.7)\n",
      "Requirement already satisfied: pillow>=6.2.0 in /usr/lib/python3/dist-packages (from matplotlib) (7.0.0)\n",
      "Requirement already satisfied: kiwisolver>=1.0.1 in /home/juan/.local/lib/python3.8/site-packages (from matplotlib) (1.3.1)\n",
      "Requirement already satisfied: pexpect in /usr/lib/python3/dist-packages (from IPython) (4.6.0)\n",
      "Requirement already satisfied: six in /usr/lib/python3/dist-packages (from cycler>=0.10->matplotlib) (1.14.0)\n"
     ]
    }
   ],
   "source": [
    "!pip install sympy matplotlib numpy scipy IPython itikz "
   ]
  },
  {
   "cell_type": "code",
   "execution_count": 8,
   "id": "08ddca5f",
   "metadata": {},
   "outputs": [],
   "source": [
    "#%load_ext itikz\n",
    "%matplotlib inline"
   ]
  },
  {
   "cell_type": "code",
   "execution_count": 9,
   "id": "af40f854",
   "metadata": {
    "slideshow": {
     "slide_type": "skip"
    }
   },
   "outputs": [],
   "source": [
    "import sympy as sp\n",
    "import matplotlib.pyplot as plt\n",
    "import numpy as np\n",
    "\n",
    "\n",
    "from IPython.display import display, Math,Latex\n",
    "def round_expr(expr, num_digits):\n",
    "    return expr.xreplace({n : round(n, num_digits) for n in expr.atoms(sp.Number)})\n",
    "\n",
    "def h(a,D):\n",
    "    return 40*(a/0.005)**0.4*(D/0.01)**-0.3\n",
    "\n",
    "def num_aletas(a,W,D):\n",
    "    N = np.floor((W/(a+D))**2)\n",
    "    return N\n",
    "\n",
    "def area_perimetro(a,D):\n",
    "    p = np.pi*D\n",
    "    At = np.pi*D**2/4\n",
    "    return At,p\n",
    "\n",
    "def beta (a,D,k):\n",
    "    A_transversal,p = area_perimetro(a,D)\n",
    "    \n",
    "    beta = np.sqrt(h(a,D)*p/(k*A_transversal))\n",
    "    \n",
    "    return beta\n",
    "    \n",
    "def eta(betaL):\n",
    "    return np.tanh(betaL)/betaL\n",
    "\n",
    "    "
   ]
  },
  {
   "cell_type": "code",
   "execution_count": 10,
   "id": "82b39bb9",
   "metadata": {},
   "outputs": [],
   "source": [
    "#datos\n",
    "a = 5e-3\n",
    "L = 10*a\n",
    "D = 7.5e-3\n",
    "T_aire = 20\n",
    "k = 70\n",
    "T_base = 120\n",
    "W = 10e-2\n"
   ]
  },
  {
   "cell_type": "code",
   "execution_count": 11,
   "id": "4f59faf7-8304-4baa-af2b-0639d970deda",
   "metadata": {},
   "outputs": [
    {
     "data": {
      "text/latex": [
       "El área total de las aletas del disipador es 754.0 cm$^2$"
      ],
      "text/plain": [
       "<IPython.core.display.Latex object>"
      ]
     },
     "metadata": {},
     "output_type": "display_data"
    },
    {
     "data": {
      "text/latex": [
       "El área total de la base del disipador 71.7 cm$^2$"
      ],
      "text/plain": [
       "<IPython.core.display.Latex object>"
      ]
     },
     "metadata": {},
     "output_type": "display_data"
    },
    {
     "data": {
      "text/latex": [
       "La constante de la aleta vale $\\beta L=$ 0.911m"
      ],
      "text/plain": [
       "<IPython.core.display.Latex object>"
      ]
     },
     "metadata": {},
     "output_type": "display_data"
    },
    {
     "data": {
      "text/latex": [
       "La efectividad de la aleta vale $\\eta=$ 0.792"
      ],
      "text/plain": [
       "<IPython.core.display.Latex object>"
      ]
     },
     "metadata": {},
     "output_type": "display_data"
    }
   ],
   "source": [
    "N = num_aletas(a,W,D)\n",
    "A_transversal,p = area_perimetro(a,D)\n",
    "\n",
    "Area_total = N*p*L\n",
    "Area_base = W**2-N*A_transversal\n",
    "display(Latex(f'El área total de las aletas del disipador es {Area_total*10**4:.1f} cm$^2$'))\n",
    "display(Latex(f'El área total de la base del disipador {Area_base*10**4:.1f} cm$^2$'))\n",
    "\n",
    "betaL =  beta (a,D,k) *L\n",
    "eta_1 = eta(betaL)\n",
    "#L*np.sqrt(h(a,D)*p/(k*A_transversal))\n",
    "display(Latex(f'La constante de la aleta vale $\\\\beta L=$ {betaL:.3f}m'))\n",
    "display(Latex(f'La efectividad de la aleta vale $\\\\eta=$ {eta_1:.3f}'))\n"
   ]
  },
  {
   "cell_type": "code",
   "execution_count": 12,
   "id": "5b4e584d-4163-42ad-b604-e372b4f7a710",
   "metadata": {},
   "outputs": [
    {
     "data": {
      "text/latex": [
       "Flujo de calor  $\\dot q=$ 291.664"
      ],
      "text/plain": [
       "<IPython.core.display.Latex object>"
      ]
     },
     "metadata": {},
     "output_type": "display_data"
    }
   ],
   "source": [
    "R_aletas = 1/(h(a,D)*Area_total*eta_1)\n",
    "R_base = 1/(h(a,D)*Area_base)\n",
    "R_paralelo = (1/R_aletas+1/R_base)**-1\n",
    "\n",
    "q_total = (T_base-T_aire)/(R_paralelo)\n",
    "display(Latex(f'Flujo de calor  $\\\\dot q=$ {q_total:.3f}'))\n"
   ]
  },
  {
   "cell_type": "code",
   "execution_count": 25,
   "id": "ddeeb7ae",
   "metadata": {},
   "outputs": [],
   "source": [
    "a = np.linspace(D*0.01,2*D,50)\n",
    "q = np.zeros_like(a)\n",
    "for i,ai in enumerate(a):\n",
    "    L = 10*ai\n",
    "    N = num_aletas(ai,W,D)\n",
    "    A_transversal,p = area_perimetro(ai,D)\n",
    "    Area_total = N*p*L\n",
    "    Area_base = W**2-N*A_transversal\n",
    "    betaL =  beta (ai,D,k) *L\n",
    "    eta_1 = eta(betaL)\n",
    "    R_aletas = 1/(h(ai,D)*Area_total*eta_1)\n",
    "    R_base = 1/(h(ai,D)*Area_base)\n",
    "    R_paralelo = (1/R_aletas+1/R_base)**-1\n",
    "\n",
    "    q[i] = (T_base-T_aire)/(R_paralelo)\n",
    "    #print(eta_1)\n",
    "\n",
    "     \n",
    "    "
   ]
  },
  {
   "cell_type": "code",
   "execution_count": 29,
   "id": "b044086a-b866-4dbd-bb21-2c84eab74300",
   "metadata": {},
   "outputs": [
    {
     "data": {
      "image/png": "[encoded data removed]",
      "text/plain": [
       "<Figure size 640x480 with 1 Axes>"
      ]
     },
     "metadata": {},
     "output_type": "display_data"
    }
   ],
   "source": [
    "nmax = q.argmax()\n",
    "\n",
    "fig,ax = plt.subplots()\n",
    "ax.plot(a/D,q,'o')\n",
    "ax.plot(a[nmax]/D,q[nmax],'ko',markersize=10)\n",
    "ax.set_xlabel('$a/D$')\n",
    "ax.set_ylabel('$\\\\dot q$')\n",
    "ax.grid()\n",
    "\n",
    "              "
   ]
  },
  {
   "cell_type": "code",
   "execution_count": 16,
   "id": "b23bf80d-2f14-4f23-95d8-c26efa62d7c7",
   "metadata": {},
   "outputs": [
    {
     "data": {
      "text/plain": [
       "0.0075"
      ]
     },
     "execution_count": 16,
     "metadata": {},
     "output_type": "execute_result"
    }
   ],
   "source": [
    "0.75*1e-2"
   ]
  },
  {
   "cell_type": "code",
   "execution_count": null,
   "id": "305f677e-5838-46b3-a306-2456632735de",
   "metadata": {},
   "outputs": [],
   "source": []
  }
 ],
 "metadata": {
  "celltoolbar": "Slideshow",
  "kernelspec": {
   "display_name": "Python 3 (ipykernel)",
   "language": "python",
   "name": "python3"
  },
  "language_info": {
   "codemirror_mode": {
    "name": "ipython",
    "version": 3
   },
   "file_extension": ".py",
   "mimetype": "text/x-python",
   "name": "python",
   "nbconvert_exporter": "python",
   "pygments_lexer": "ipython3",
   "version": "3.9.16"
  },
  "latex_envs": {
   "LaTeX_envs_menu_present": true,
   "autoclose": true,
   "autocomplete": true,
   "bibliofile": "biblio.bib",
   "cite_by": "apalike",
   "current_citInitial": 1,
   "eqLabelWithNumbers": true,
   "eqNumInitial": 1,
   "hotkeys": {
    "equation": "Ctrl-E",
    "itemize": "Ctrl-I"
   },
   "labels_anchors": false,
   "latex_user_defs": false,
   "report_style_numbering": false,
   "user_envs_cfg": false
  },
  "toc-showtags": false
 },
 "nbformat": 4,
 "nbformat_minor": 5
}
