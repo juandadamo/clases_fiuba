{
 "cells": [
  {
   "cell_type": "code",
   "execution_count": null,
   "id": "15449f6f-9f5d-40f8-80fa-f5b2ea2f7b15",
   "metadata": {},
   "outputs": [],
   "source": []
  },
  {
   "cell_type": "markdown",
   "id": "c6526639-bf91-4cd4-b9ed-491485f69ca0",
   "metadata": {},
   "source": [
    "Un flujo de 6kg/s de ácido sulfúrico (Cp=1480J/kg K) debe enfriarse en un intercambiador de calor en\n",
    "contracorriente de dos etapas. El ácido caliente a 175°C entra en un tanque, en el que se agita en\n",
    "contacto con unos serpentines de refrigeración, la descarga continua de este tanque a 89°C fluye\n",
    "hacia un segundo tanque agitado, del que sale a 46°C. Una corriente de agua a 20°C ingresa en el\n",
    "serpentín de refrigeración del tanque frío y sale del serpentín del tanque caliente a 80°C. Si los\n",
    "coeficientes globales de transferencia de calor son de 52 y 38W/m2 K en el tanque caliente y en el\n",
    "tanque frío, respectivamente, se pide:\n",
    "\n",
    "    - La temperatura del agua de salida del tanque frio (que será la entrada al tanque\n",
    "\tcaliente).\n",
    "    - Los perfiles de temperaturas para cada intercambiador. Considerar que en ambos casos, TODA\n",
    "\tla superficie externa del serpentín está en contacto con el ácido sulfúrico a la temperatura\n",
    "\tdel tanque.\n",
    "\t- El calor intercambiado en cada uno de los equipos.\n",
    "\t- La superficie de intercambio de cada unidad.\n",
    "\t- Si la temperatura del agua a la entrada cambia repentinamente a 15°C, Calcular:\n",
    "        a. Las nuevas temperaturas de equilibro de los tanques.\n",
    "        b. El nuevo calor intercambiado\n",
    "\t\n",
    "Suponer que se conoce la configuración constructiva de los intercambiadores en términos de \tlongitud, diámetro y cantidad de los tubos que conforman el serpentín. Existe una propuesta \tde reducir el diámetro de los tubos, manteniendo cantidad de tubos y la superficie de \tintercambio. Indicar el impacto relativo a la configuración original (aumenta o disminuye) \tque se esperaría para los siguientes parámetros:\n",
    "\n",
    "\ta. Longitud de los tubos.\n",
    "\tb. Coeficiente global de transmisión.\n",
    "\tc. Caída de presión.\n"
   ]
  },
  {
   "cell_type": "code",
   "execution_count": null,
   "id": "61d92378-877f-4cba-8d0e-3113df48c998",
   "metadata": {},
   "outputs": [],
   "source": []
  }
 ],
 "metadata": {
  "kernelspec": {
   "display_name": "Python 3 (ipykernel)",
   "language": "python",
   "name": "python3"
  },
  "language_info": {
   "codemirror_mode": {
    "name": "ipython",
    "version": 3
   },
   "file_extension": ".py",
   "mimetype": "text/x-python",
   "name": "python",
   "nbconvert_exporter": "python",
   "pygments_lexer": "ipython3",
   "version": "3.10.9"
  }
 },
 "nbformat": 4,
 "nbformat_minor": 5
}
