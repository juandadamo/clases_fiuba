{
 "cells": [
  {
   "cell_type": "code",
   "execution_count": 3,
   "id": "a1775e7d-de14-4ced-93f2-c31ff1126942",
   "metadata": {
    "tags": []
   },
   "outputs": [],
   "source": [
    "import sympy as sp\n",
    "import matplotlib.pyplot as plt\n",
    "import numpy as np\n",
    "from IPython.display import Latex\n"
   ]
  },
  {
   "cell_type": "code",
   "execution_count": 4,
   "id": "85388f8f-ef97-41e5-a9df-5e77b5da5874",
   "metadata": {
    "tags": []
   },
   "outputs": [],
   "source": [
    "R, p, v, a, C_p, x, θ, T, h, k = sp .symbols('R p v a C_p x θ T h k')"
   ]
  },
  {
   "cell_type": "markdown",
   "id": "f4c496c6-7da9-46b5-99d6-728b2bca4735",
   "metadata": {},
   "source": [
    "$\\rho C_p V T(x) + q(x) A_a dt = q(x+dx)A dt + \\rho C_p V T(x+dx) +h A_p(T(x)-T_\\infty)dt$\n",
    "\n",
    "$-\\rho C_p V  dx (dT(x)/dx) - dx (dq(x)/dx) A_a dt -h A_p(T(x)-T_\\infty)dt = 0$\n",
    "\n",
    "$-\\rho C_p \\pi R^2 (dx/dt)   dx (dT(x)/dx) - dx (dq(x)/dx) \\pi R^2  -h \\pi dx 2R(T(x)-T_\\infty) = 0$\n",
    "\n",
    "$\\theta = (T(x)-T_\\infty)$\n",
    "\n",
    "$-\\rho C_p \\pi R^2 (dx/dt)    (d\\theta/dx) -  (-k d^2\\theta/dx^2) \\pi R^2  -h \\pi  2R(\\theta) = 0$\n",
    "\n",
    "$k d^2\\theta/dx^2   R  -h    2(\\theta) -\\rho C_p  R (dx/dt)    (d\\theta/dx) = 0$\n",
    "\n",
    "$ d^2\\theta/dx^2   -2h \\theta    /(kR) -\\rho C_p  v(d\\theta/dx)/k = 0$\n",
    "\n",
    "$p^2= 2h/kR$                 \n",
    "\n",
    "$v/a= \\rho C_p  v /k $\n",
    "\n",
    "$ d^2\\theta/dx^2   -p^2\\theta  - (v/a)(d\\theta/dx) = 0$"
   ]
  },
  {
   "cell_type": "markdown",
   "id": "9a74a3d3-5572-46ef-a882-951d040420b7",
   "metadata": {},
   "source": [
    "## condicion $L\\gg 1$\n",
    "\n",
    "#### $v\\sim0$"
   ]
  },
  {
   "cell_type": "markdown",
   "id": "29dcac2a-5feb-4a62-8c75-9de18409959c",
   "metadata": {},
   "source": [
    "$\\theta = C_1 e^{-px}+C_2 e^{-px}$\n",
    "\n",
    "$x\\rightarrow\\infty~~~~~~\\longrightarrow~~~~ C_2 = 0$\n",
    "\n",
    "$x=0~~~~~~~~\\longrightarrow~~~~ C_1 = \\theta_0$"
   ]
  },
  {
   "cell_type": "code",
   "execution_count": 19,
   "id": "c86bf4cb-194e-40c3-bf12-9175f499b6b7",
   "metadata": {},
   "outputs": [
    {
     "data": {
      "text/latex": [
       "$\\displaystyle \\operatorname{Fx}{\\left(x \\right)} = C_{1} e^{- \\sqrt{2} x \\sqrt{\\frac{h}{R k}}} + C_{2} e^{\\sqrt{2} x \\sqrt{\\frac{h}{R k}}}$"
      ],
      "text/plain": [
       "Eq(Fx(x), C1*exp(-sqrt(2)*x*sqrt(h/(R*k))) + C2*exp(sqrt(2)*x*sqrt(h/(R*k))))"
      ]
     },
     "execution_count": 19,
     "metadata": {},
     "output_type": "execute_result"
    }
   ],
   "source": [
    "Fx = Function('Fx')\n",
    "resultado = sp.dsolve(Derivative(Fx(x),x,x)-p**2*Fx(x))\n",
    "resultado\n"
   ]
  },
  {
   "cell_type": "code",
   "execution_count": 16,
   "id": "daf5d522-6426-41eb-80f7-cc9ec5cc4d89",
   "metadata": {
    "tags": []
   },
   "outputs": [],
   "source": [
    "T1 = 800\n",
    "Ta = 300\n",
    "C1 = T1-Ta\n",
    "p = sp.sqrt(2*h/k/R)\n",
    "#x = np.linspace(0,10,100)\n",
    "θ = C1*sp.exp(-p*x)\n",
    "\n",
    "xm = sp.solve(θ-1,x)[0]"
   ]
  },
  {
   "cell_type": "code",
   "execution_count": 6,
   "id": "9a392dfc-3d5a-477b-a203-1ffb2720df26",
   "metadata": {
    "tags": []
   },
   "outputs": [
    {
     "data": {
      "text/latex": [
       "$x_m=7.8mm$"
      ],
      "text/plain": [
       "<IPython.core.display.Latex object>"
      ]
     },
     "metadata": {},
     "output_type": "display_data"
    }
   ],
   "source": [
    "hi = 48;   Ri = 100e-6;   ki = 1.5\n",
    "xmi = sp.N(xm.subs('h',hi).subs('R',Ri).subs('k',ki))\n",
    "display(Latex(f'$x_m={xmi*1e3:.2g}mm$'))"
   ]
  },
  {
   "cell_type": "markdown",
   "id": "7eb9339b-8432-4c3e-a957-aa4da17c8223",
   "metadata": {},
   "source": [
    "\n",
    "#### $v\\gg1$"
   ]
  },
  {
   "cell_type": "markdown",
   "id": "c0e87cb9-98ae-4575-ad55-12b35bff5da5",
   "metadata": {},
   "source": [
    "$-p^2\\theta  - (v/a)(d\\theta/dx) = 0$"
   ]
  },
  {
   "cell_type": "code",
   "execution_count": 13,
   "id": "9d74cdef-250d-4fa3-82cc-b2068942fbda",
   "metadata": {},
   "outputs": [],
   "source": [
    "Fx = Function('Fx')\n",
    "resultado = sp.dsolve(Derivative(Fx(x),x)*v/a+p**2*Fx(x))"
   ]
  },
  {
   "cell_type": "code",
   "execution_count": 14,
   "id": "b2c77913-fadd-48d0-a38b-e195a8e7d031",
   "metadata": {},
   "outputs": [
    {
     "data": {
      "text/latex": [
       "$\\displaystyle \\operatorname{Fx}{\\left(x \\right)} = C_{1} e^{- \\frac{2 a h x}{R k v}}$"
      ],
      "text/plain": [
       "Eq(Fx(x), C1*exp(-2*a*h*x/(R*k*v)))"
      ]
     },
     "execution_count": 14,
     "metadata": {},
     "output_type": "execute_result"
    }
   ],
   "source": [
    "resultado"
   ]
  },
  {
   "cell_type": "code",
   "execution_count": null,
   "id": "ec3b4d3a-6cd8-495b-8701-386f7bdd55bb",
   "metadata": {},
   "outputs": [],
   "source": []
  }
 ],
 "metadata": {
  "kernelspec": {
   "display_name": "Python 3 (ipykernel)",
   "language": "python",
   "name": "python3"
  },
  "language_info": {
   "codemirror_mode": {
    "name": "ipython",
    "version": 3
   },
   "file_extension": ".py",
   "mimetype": "text/x-python",
   "name": "python",
   "nbconvert_exporter": "python",
   "pygments_lexer": "ipython3",
   "version": "3.10.9"
  }
 },
 "nbformat": 4,
 "nbformat_minor": 5
}
