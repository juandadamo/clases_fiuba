{
 "cells": [
  {
   "cell_type": "code",
   "execution_count": 2,
   "id": "59c422d2",
   "metadata": {
    "slideshow": {
     "slide_type": "skip"
    }
   },
   "outputs": [
    {
     "name": "stdout",
     "output_type": "stream",
     "text": [
      "Defaulting to user installation because normal site-packages is not writeable\n",
      "Requirement already satisfied: sympy in /usr/lib/python3/dist-packages (1.9)\n",
      "Requirement already satisfied: matplotlib in /home/juan/.local/lib/python3.10/site-packages (3.5.2)\n",
      "Requirement already satisfied: numpy in /usr/lib/python3/dist-packages (1.21.5)\n",
      "Requirement already satisfied: scipy in /home/juan/.local/lib/python3.10/site-packages (1.8.1)\n",
      "Requirement already satisfied: IPython in /home/juan/.local/lib/python3.10/site-packages (8.4.0)\n",
      "Requirement already satisfied: itikz in /home/juan/.local/lib/python3.10/site-packages (0.1.5)\n",
      "Requirement already satisfied: pyparsing>=2.2.1 in /usr/lib/python3/dist-packages (from matplotlib) (2.4.7)\n",
      "Requirement already satisfied: fonttools>=4.22.0 in /home/juan/.local/lib/python3.10/site-packages (from matplotlib) (4.33.3)\n",
      "Requirement already satisfied: kiwisolver>=1.0.1 in /home/juan/.local/lib/python3.10/site-packages (from matplotlib) (1.4.3)\n",
      "Requirement already satisfied: pillow>=6.2.0 in /usr/lib/python3/dist-packages (from matplotlib) (9.0.1)\n",
      "Requirement already satisfied: python-dateutil>=2.7 in /home/juan/.local/lib/python3.10/site-packages (from matplotlib) (2.8.2)\n",
      "Requirement already satisfied: packaging>=20.0 in /home/juan/.local/lib/python3.10/site-packages (from matplotlib) (21.3)\n",
      "Requirement already satisfied: cycler>=0.10 in /home/juan/.local/lib/python3.10/site-packages (from matplotlib) (0.11.0)\n",
      "Requirement already satisfied: pygments>=2.4.0 in /home/juan/.local/lib/python3.10/site-packages (from IPython) (2.12.0)\n",
      "Requirement already satisfied: setuptools>=18.5 in /usr/lib/python3/dist-packages (from IPython) (59.6.0)\n",
      "Requirement already satisfied: pickleshare in /home/juan/.local/lib/python3.10/site-packages (from IPython) (0.7.5)\n",
      "Requirement already satisfied: pexpect>4.3 in /usr/lib/python3/dist-packages (from IPython) (4.8.0)\n",
      "Requirement already satisfied: traitlets>=5 in /home/juan/.local/lib/python3.10/site-packages (from IPython) (5.3.0)\n",
      "Requirement already satisfied: jedi>=0.16 in /home/juan/.local/lib/python3.10/site-packages (from IPython) (0.18.1)\n",
      "Requirement already satisfied: stack-data in /home/juan/.local/lib/python3.10/site-packages (from IPython) (0.3.0)\n",
      "Requirement already satisfied: decorator in /home/juan/.local/lib/python3.10/site-packages (from IPython) (5.1.1)\n",
      "Requirement already satisfied: backcall in /home/juan/.local/lib/python3.10/site-packages (from IPython) (0.2.0)\n",
      "Requirement already satisfied: matplotlib-inline in /home/juan/.local/lib/python3.10/site-packages (from IPython) (0.1.3)\n",
      "Requirement already satisfied: prompt-toolkit!=3.0.0,!=3.0.1,<3.1.0,>=2.0.0 in /home/juan/.local/lib/python3.10/site-packages (from IPython) (3.0.30)\n",
      "Requirement already satisfied: parso<0.9.0,>=0.8.0 in /home/juan/.local/lib/python3.10/site-packages (from jedi>=0.16->IPython) (0.8.3)\n",
      "Requirement already satisfied: wcwidth in /home/juan/.local/lib/python3.10/site-packages (from prompt-toolkit!=3.0.0,!=3.0.1,<3.1.0,>=2.0.0->IPython) (0.2.5)\n",
      "Requirement already satisfied: six>=1.5 in /usr/lib/python3/dist-packages (from python-dateutil>=2.7->matplotlib) (1.16.0)\n",
      "Requirement already satisfied: pure-eval in /home/juan/.local/lib/python3.10/site-packages (from stack-data->IPython) (0.2.2)\n",
      "Requirement already satisfied: executing in /home/juan/.local/lib/python3.10/site-packages (from stack-data->IPython) (0.8.3)\n",
      "Requirement already satisfied: asttokens in /home/juan/.local/lib/python3.10/site-packages (from stack-data->IPython) (2.0.5)\n"
     ]
    }
   ],
   "source": [
    "!pip install sympy matplotlib numpy scipy IPython itikz "
   ]
  },
  {
   "cell_type": "code",
   "execution_count": 3,
   "id": "08ddca5f",
   "metadata": {},
   "outputs": [],
   "source": [
    "#%load_ext itikz\n",
    "%matplotlib widget"
   ]
  },
  {
   "cell_type": "code",
   "execution_count": 4,
   "id": "af40f854",
   "metadata": {
    "slideshow": {
     "slide_type": "skip"
    }
   },
   "outputs": [],
   "source": [
    "import sympy as sp\n",
    "import matplotlib.pyplot as plt\n",
    "import numpy as np\n",
    "import ht\n",
    "import CoolProp as cp\n",
    "\n",
    "\n",
    "from IPython.display import display, Math,Latex\n",
    "def round_expr(expr, num_digits):\n",
    "    return expr.xreplace({n : round(n, num_digits) for n in expr.atoms(sp.Number)})\n",
    "\n",
    "def h(a,D):\n",
    "    return 40*(a/0.005)**0.4*(D/0.01)**-0.3\n",
    "\n",
    "def num_aletas(a,W,D):\n",
    "    N = np.floor((W/(a+D))**2)\n",
    "    return N\n",
    "\n",
    "def area_perimetro(a,D):\n",
    "    p = np.pi*D\n",
    "    At = np.pi*D**2/4\n",
    "    return At,p\n",
    "\n",
    "def beta (a,D,k):\n",
    "    A_transversal,p = area_perimetro(a,D)\n",
    "    \n",
    "    beta = np.sqrt(h(a,D)*p/(k*A_transversal))\n",
    "    \n",
    "    return beta\n",
    "    \n",
    "def eta(betaL):\n",
    "    return np.tanh(betaL)/betaL\n",
    "\n",
    "    "
   ]
  },
  {
   "cell_type": "code",
   "execution_count": 26,
   "id": "4c40d35d-ec30-491c-abdc-2b1b3fdef62c",
   "metadata": {},
   "outputs": [
    {
     "data": {
      "text/plain": [
       "0.9556197289354292"
      ]
     },
     "execution_count": 26,
     "metadata": {},
     "output_type": "execute_result"
    }
   ],
   "source": [
    "eta(5*10*7.5e-3)"
   ]
  },
  {
   "cell_type": "code",
   "execution_count": 5,
   "id": "82b39bb9",
   "metadata": {},
   "outputs": [],
   "source": [
    "#datos\n",
    "D = 7.5e-3\n",
    "a = 5e-3\n",
    "a = D*0.75\n",
    "L = 10*a\n",
    "\n",
    "T_aire = 20\n",
    "k = 70\n",
    "T_base = 120\n",
    "W = 10e-2\n"
   ]
  },
  {
   "cell_type": "code",
   "execution_count": 6,
   "id": "4f59faf7-8304-4baa-af2b-0639d970deda",
   "metadata": {},
   "outputs": [
    {
     "data": {
      "text/latex": [
       "El área total de las aletas del disipador es 794.3 cm$^2$"
      ],
      "text/plain": [
       "<IPython.core.display.Latex object>"
      ]
     },
     "metadata": {},
     "output_type": "display_data"
    },
    {
     "data": {
      "text/latex": [
       "El área total de la base del disipador 74.4 cm$^2$"
      ],
      "text/plain": [
       "<IPython.core.display.Latex object>"
      ]
     },
     "metadata": {},
     "output_type": "display_data"
    },
    {
     "data": {
      "text/latex": [
       "La constante de la aleta vale $\\beta L=$ 1.050m"
      ],
      "text/plain": [
       "<IPython.core.display.Latex object>"
      ]
     },
     "metadata": {},
     "output_type": "display_data"
    },
    {
     "data": {
      "text/latex": [
       "La efectividad de la aleta vale $\\eta=$ 0.745"
      ],
      "text/plain": [
       "<IPython.core.display.Latex object>"
      ]
     },
     "metadata": {},
     "output_type": "display_data"
    }
   ],
   "source": [
    "N = num_aletas(a,W,D)\n",
    "A_transversal,p = area_perimetro(a,D)\n",
    "\n",
    "Area_total = N*p*L+N*A_transversal\n",
    "Area_base = W**2-N*A_transversal\n",
    "display(Latex(f'El área total de las aletas del disipador es {Area_total*10**4:.1f} cm$^2$'))\n",
    "display(Latex(f'El área total de la base del disipador {Area_base*10**4:.1f} cm$^2$'))\n",
    "\n",
    "betaL =  beta (a,D,k) *L\n",
    "eta_1 = eta(betaL)\n",
    "#L*np.sqrt(h(a,D)*p/(k*A_transversal))\n",
    "display(Latex(f'La constante de la aleta vale $\\\\beta L=$ {betaL:.3f}m'))\n",
    "display(Latex(f'La efectividad de la aleta vale $\\\\eta=$ {eta_1:.3f}'))\n"
   ]
  },
  {
   "cell_type": "code",
   "execution_count": 7,
   "id": "a1509e45-b647-4dd6-a31f-0cd2ae62cf2e",
   "metadata": {},
   "outputs": [
    {
     "data": {
      "text/plain": [
       "(18.661719381604332,\n",
       " 4.4178646691106464e-05,\n",
       " 45.709094848954265,\n",
       " 0.056249999999999994)"
      ]
     },
     "execution_count": 7,
     "metadata": {},
     "output_type": "execute_result"
    }
   ],
   "source": [
    "betaL/L,A_transversal,h(a,D),L"
   ]
  },
  {
   "cell_type": "code",
   "execution_count": 8,
   "id": "5b4e584d-4163-42ad-b604-e372b4f7a710",
   "metadata": {},
   "outputs": [
    {
     "data": {
      "text/latex": [
       "Flujo de calor  $\\dot q=$ 304.374"
      ],
      "text/plain": [
       "<IPython.core.display.Latex object>"
      ]
     },
     "metadata": {},
     "output_type": "display_data"
    }
   ],
   "source": [
    "R_aletas = 1/(h(a,D)*Area_total*eta_1)\n",
    "R_base = 1/(h(a,D)*Area_base)\n",
    "R_paralelo = (1/R_aletas+1/R_base)**-1\n",
    "\n",
    "q_total = (T_base-T_aire)/(R_paralelo)\n",
    "display(Latex(f'Flujo de calor  $\\\\dot q=$ {q_total:.3f}'))\n"
   ]
  },
  {
   "cell_type": "code",
   "execution_count": 9,
   "id": "e6b3084e-99fb-44f4-9808-d0e1c4250287",
   "metadata": {},
   "outputs": [
    {
     "data": {
      "text/plain": [
       "(0.3285435065416309, 0.36985405484545025, 2.9414557074840464, 58.0)"
      ]
     },
     "execution_count": 9,
     "metadata": {},
     "output_type": "execute_result"
    }
   ],
   "source": [
    "R_paralelo,R_aletas,R_base,N"
   ]
  },
  {
   "cell_type": "code",
   "execution_count": 10,
   "id": "ddeeb7ae",
   "metadata": {},
   "outputs": [],
   "source": [
    "a = np.linspace(D*0.01,2*D,500)\n",
    "q = np.zeros_like(a)\n",
    "for i,ai in enumerate(a):\n",
    "    L = 10*ai\n",
    "    N = num_aletas(ai,W,D)\n",
    "    A_transversal,p = area_perimetro(ai,D)\n",
    "    Area_total = N*(p*L+A_transversal)\n",
    "    Area_base = W**2-N*A_transversal\n",
    "    betaL =  beta (ai,D,k) *L\n",
    "    eta_1 = eta(betaL)\n",
    "    R_aletas = 1/(h(ai,D)*Area_total*eta_1)\n",
    "    R_base = 1/(h(ai,D)*Area_base)\n",
    "    R_paralelo = (1/R_aletas+1/R_base)**-1\n",
    "\n",
    "    q[i] = (T_base-T_aire)/(R_paralelo)\n",
    "    #print(eta_1)\n",
    "\n",
    "     \n",
    "    "
   ]
  },
  {
   "cell_type": "code",
   "execution_count": 11,
   "id": "b044086a-b866-4dbd-bb21-2c84eab74300",
   "metadata": {},
   "outputs": [
    {
     "data": {
      "application/vnd.jupyter.widget-view+json": {
       "model_id": "eb1e4eb76fab4cb4a64708c48d5714ce",
       "version_major": 2,
       "version_minor": 0
      },
      "image/png": "[encoded data removed]",
      "text/html": [
       "\n",
       "            <div style=\"display: inline-block;\">\n",
       "                <div class=\"jupyter-widgets widget-label\" style=\"text-align: center;\">\n",
       "                    Figure\n",
       "                </div>\n",
       "                <img src='data:image/png;base64,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' width=640.0/>\n",
       "            </div>\n",
       "        "
      ],
      "text/plain": [
       "Canvas(toolbar=Toolbar(toolitems=[('Home', 'Reset original view', 'home', 'home'), ('Back', 'Back to previous …"
      ]
     },
     "metadata": {},
     "output_type": "display_data"
    }
   ],
   "source": [
    "nmax = q.argmax()\n",
    "\n",
    "fig,ax = plt.subplots()\n",
    "ax.plot(a/D,q,'.',markersize=1)\n",
    "ax.plot(a[nmax]/D,q[nmax],'k.',markersize=1)\n",
    "ax.set_xlabel('$a/D$')\n",
    "ax.set_ylabel('$\\\\dot q$')\n",
    "ax.grid()\n",
    "\n",
    "              "
   ]
  },
  {
   "cell_type": "code",
   "execution_count": 12,
   "id": "373c0da0-4a1e-4911-bdc5-8c053884650a",
   "metadata": {},
   "outputs": [
    {
     "data": {
      "text/latex": [
       "El área total de las aletas del disipador es 794.3 cm$^2$"
      ],
      "text/plain": [
       "<IPython.core.display.Latex object>"
      ]
     },
     "metadata": {},
     "output_type": "display_data"
    },
    {
     "data": {
      "text/latex": [
       "El área total de la base del disipador 74.4 cm$^2$"
      ],
      "text/plain": [
       "<IPython.core.display.Latex object>"
      ]
     },
     "metadata": {},
     "output_type": "display_data"
    },
    {
     "data": {
      "text/latex": [
       "La constante de la aleta vale $\\beta L=$ 1.050m"
      ],
      "text/plain": [
       "<IPython.core.display.Latex object>"
      ]
     },
     "metadata": {},
     "output_type": "display_data"
    },
    {
     "data": {
      "text/latex": [
       "La efectividad de la aleta vale $\\eta=$ 0.745"
      ],
      "text/plain": [
       "<IPython.core.display.Latex object>"
      ]
     },
     "metadata": {},
     "output_type": "display_data"
    },
    {
     "data": {
      "text/latex": [
       "Flujo de calor  $\\dot q=$ 304.374"
      ],
      "text/plain": [
       "<IPython.core.display.Latex object>"
      ]
     },
     "metadata": {},
     "output_type": "display_data"
    }
   ],
   "source": [
    "#datos\n",
    "D = 7.5e-3\n",
    "a = 5e-3\n",
    "a = D*0.75\n",
    "L = 10*a\n",
    "\n",
    "T_aire = 20\n",
    "k = 70\n",
    "T_base = 120\n",
    "W = 10e-2\n",
    "N = num_aletas(a,W,D)\n",
    "A_transversal,p = area_perimetro(a,D)\n",
    "\n",
    "Area_total = N*p*L+N*A_transversal\n",
    "Area_base = W**2-N*A_transversal\n",
    "display(Latex(f'El área total de las aletas del disipador es {Area_total*10**4:.1f} cm$^2$'))\n",
    "display(Latex(f'El área total de la base del disipador {Area_base*10**4:.1f} cm$^2$'))\n",
    "\n",
    "betaL =  beta (a,D,k) *L\n",
    "eta_1 = eta(betaL)\n",
    "#L*np.sqrt(h(a,D)*p/(k*A_transversal))\n",
    "display(Latex(f'La constante de la aleta vale $\\\\beta L=$ {betaL:.3f}m'))\n",
    "display(Latex(f'La efectividad de la aleta vale $\\\\eta=$ {eta_1:.3f}'))\n",
    "R_aletas = 1/(h(a,D)*Area_total*eta_1)\n",
    "R_base = 1/(h(a,D)*Area_base)\n",
    "R_paralelo = (1/R_aletas+1/R_base)**-1\n",
    "\n",
    "q_total = (T_base-T_aire)/(R_paralelo)\n",
    "display(Latex(f'Flujo de calor  $\\\\dot q=$ {q_total:.3f}'))\n"
   ]
  },
  {
   "cell_type": "code",
   "execution_count": 13,
   "id": "b23bf80d-2f14-4f23-95d8-c26efa62d7c7",
   "metadata": {},
   "outputs": [],
   "source": [
    "\n",
    "\n",
    "a_s = np.linspace(D*0.01,2*D,50)\n",
    "D_s = np.linspace(D*0.1,D*6,50)\n",
    "A, DS = np.meshgrid(a_s,D_s)\n",
    "q = np.zeros_like(A)\n",
    "\n",
    "for j,Di in enumerate(D_s):\n",
    "    for i,ai in enumerate(a_s):\n",
    "        L = 10*ai\n",
    "        N = num_aletas(ai,W,Di)\n",
    "        A_transversal,p = area_perimetro(ai,Di)\n",
    "        Area_total = N*p*L\n",
    "        Area_base = W**2-N*A_transversal\n",
    "        betaL =  beta (ai,Di,k) *L\n",
    "        eta_1 = eta(betaL)\n",
    "        R_aletas = 1/(h(ai,Di)*Area_total*eta_1)\n",
    "        R_base = 1/(h(ai,Di)*Area_base)\n",
    "        R_paralelo = (1/R_aletas+1/R_base)**-1\n",
    "    \n",
    "        q[j,i] = (T_base-T_aire)/(R_paralelo)"
   ]
  },
  {
   "cell_type": "code",
   "execution_count": 14,
   "id": "305f677e-5838-46b3-a306-2456632735de",
   "metadata": {},
   "outputs": [
    {
     "data": {
      "text/plain": [
       "<matplotlib.contour.QuadContourSet at 0x7f3366f73040>"
      ]
     },
     "execution_count": 14,
     "metadata": {},
     "output_type": "execute_result"
    },
    {
     "data": {
      "application/vnd.jupyter.widget-view+json": {
       "model_id": "18cd99c452fc4600bac42d9dfc5c7d28",
       "version_major": 2,
       "version_minor": 0
      },
      "image/png": "[encoded data removed]",
      "text/html": [
       "\n",
       "            <div style=\"display: inline-block;\">\n",
       "                <div class=\"jupyter-widgets widget-label\" style=\"text-align: center;\">\n",
       "                    Figure\n",
       "                </div>\n",
       "                <img src='data:image/png;base64,iVBORw0KGgoAAAANSUhEUgAAAoAAAAHgCAYAAAA10dzkAAAAOXRFWHRTb2Z0d2FyZQBNYXRwbG90bGliIHZlcnNpb24zLjUuMiwgaHR0cHM6Ly9tYXRwbG90bGliLm9yZy8qNh9FAAAACXBIWXMAAA9hAAAPYQGoP6dpAABJMklEQVR4nO3dfXRUhZ3/8U+GkEQpCRBKAhgMVTQqSJSHIaxn0UN+xsquzZbWQFUoh6K2ylNcV2AR0G43qIulFlqWrn3aIxvKHqVuyuKJwbO6JQVJoBYrVFkxgEyA5ZDQKAkk9/cHm4Ehk2Se7tyn9+ucOS2TO5N7LwHefu/DpBiGYQgAAACe4bN6BQAAAJBcBCAAAIDHEIAAAAAeQwACAAB4DAEIAADgMQQgAACAxxCAAAAAHkMAAgAAeAwBCAAA4DEEIAAAgMcQgAAAAB5DAAIAAHgMAQgAAOAxBCAAAIDHEIAAAAAeQwACAAB4DAEIAADgMQQgAACAxxCAAAAAHkMAAgAAeAwBCAAA4DEEIAAAgMcQgAAAAB5DAAIAAHgMAQgAAOAxBCAAAIDHEIAAAAAeQwACAAB4DAEIAADgMQQgAACAxxCAAAAAHkMAAgAAeAwBCAAA4DEEIAAAgMcQgAAAAB5DAAIAAHgMAQgAAOAxBCAAAIDHEIAAAAAeQwACAAB4DAEIAADgMQQgAACAxxCAAAAAHkMAAgAAeAwBCAAA4DEEIAAAgMcQgAAAAB5DAAIAAHgMAQgAAOAxBCAAAIDHEIAAAAAeQwACAAB4jG0CcP369crPz1dGRob8fr92797d4/JbtmxRQUGBMjIyNGbMGG3btq3bZR999FGlpKRo7dq1Ic/n5+crJSUl5LF69epEbA4AAIBt2SIAN2/erPLycq1cuVL19fUaO3asSkpKdOLEibDL79y5UzNnztTcuXO1d+9elZaWqrS0VPv37++y7Guvvabf/e53GjZsWNj3evbZZ3X8+PHgY/78+QndNgAAALuxRQC++OKLmjdvnubMmaObb75ZGzZs0NVXX62f/vSnYZf/wQ9+oHvuuUdPPvmkbrrpJn33u9/V7bffrnXr1oUsd+zYMc2fP1+vvPKK+vbtG/a9+vfvr9zc3OCjX79+Cd8+AAAAO7E8ANva2lRXV6fi4uLgcz6fT8XFxaqtrQ37mtra2pDlJamkpCRk+Y6ODj300EN68skndcstt3T7/VevXq3s7GzddttteuGFF3ThwoU4twgAAMDeUq1egVOnTqm9vV05OTkhz+fk5OjAgQNhXxMIBMIuHwgEgr9+7rnnlJqaqgULFnT7vRcsWKDbb79dgwYN0s6dO7V06VIdP35cL774YtjlW1tb1draGvx1R0eHTp8+rezsbKWkpPS6rQAAwHqGYejs2bMaNmyYfD7LZ2GWsDwAzVBXV6cf/OAHqq+v7zHMysvLg///1ltvVVpamh555BFVVFQoPT29y/IVFRV65plnTFlnAACQXEeOHNE111xj9WpYwvIAHDx4sPr06aPGxsaQ5xsbG5Wbmxv2Nbm5uT0u/8477+jEiRMaMWJE8Ovt7e164okntHbtWh0+fDjs+/r9fl24cEGHDx/WjTfe2OXrS5cuDYnGpqYmjRgxQncOnqVUX1pE2wv7aLsh/IVBcLfmkV3/4w72dzaPoyyx6H/ECPt8vPuzu/e1s8u3uaP1nD5e86z69+9v4RpZy/IATEtL07hx41RTU6PS0lJJFw+t1tTU6PHHHw/7mqKiItXU1GjRokXB56qrq1VUVCRJeuihh8KeI/jQQw9pzpw53a7Lvn375PP5NGTIkLBfT09PDzsZTPWlEYAO1JGaYfUqwAJ90ghAJ+qTQQDG4rNR4Z/vk4D37f+JsyJwQKN09trQnyMvn75leQBKFw/Fzp49W+PHj9fEiRO1du1atbS0BGNt1qxZGj58uCoqKiRJCxcu1JQpU7RmzRpNmzZNlZWV2rNnjzZu3ChJys7OVnZ2dsj36Nu3r3Jzc4OTvdraWu3atUt33XWX+vfvr9raWi1evFgPPvigBg4cmMStBwD0pv8nRpd/vGGts9emOC4C+Tm6xBYBWFZWppMnT2rFihUKBAIqLCzU9u3bgxd6NDQ0hJykOXnyZG3atEnLly/XsmXLNGrUKG3dulWjR4+O+Hump6ersrJSq1atUmtrq0aOHKnFixeHHOIFAADd64wpJ4Vg/08Mtbc5Z33NkmIYBnshRs3NzcrKylLxkG9xCNiB2gq8eeKv1zVdxyFgp2JyY29OisD2tnPa969/r6amJmVmZlq9Opbw5rXPADwr61Br7wvBlpwUGF509toUIt1BCEAAAJAwiY5AwtIctjgHEACASHASvzOY8XvkxPMN7YwJIABHabounfP4AA/jPwASgwkgANvqKfQ6v8Y5fd7DFBBOvAWN3RCAAGwh1qleLCGYdaiVKaLDEYHgkHB8CEAAlkh0gDVdl840EPAgpoGxIQABJEUyJm4cFvYWpoDoRARGjwAEYBqrDrP2FIIc+gXciUPC0SEAAbgWsed+TAFxpUh+HtrP8TPDbWAAAAA8hgAEADgah/yA6BGAAAAAHkMAAgAcjykgEB0CEIBpuB0LANgTAQgAcAWmgEDkCEAAAACPIQABAK7BFBCIDAEIAHAVIhDoHQEIAADgMQQgAMB1mAICPSMAAZiKW8EAgP0QgAAAV2IKCHQv1eoVABKpreAaq1cBgI30/8TQ2WtTrF4NwHaYAAIAAHgMAQgAcDUOBQNdEYAAAAAeQwACMB1XAsNqTAGBUAQgAMATiEDgEgIQADyIK2MBb+M2MADgQpEEXucyXpqMcVsY4CLbTADXr1+v/Px8ZWRkyO/3a/fu3T0uv2XLFhUUFCgjI0NjxozRtm3bul320UcfVUpKitauXRvy/OnTp/XAAw8oMzNTAwYM0Ny5c/XnP/85EZsDAJY4e21K1IFDEAHeY4sA3Lx5s8rLy7Vy5UrV19dr7NixKikp0YkTJ8Iuv3PnTs2cOVNz587V3r17VVpaqtLSUu3fv7/Lsq+99pp+97vfadiwYV2+9sADD+j9999XdXW1qqqq9Pbbb+vhhx9O+PYBgN3FEo5O5aWJJ9CdFMMwLP+T4Pf7NWHCBK1bt06S1NHRoby8PM2fP19LlizpsnxZWZlaWlpUVVUVfG7SpEkqLCzUhg0bgs8dO3ZMfr9fb7zxhqZNm6ZFixZp0aJFkqQPPvhAN998s959912NHz9ekrR9+3bde++9Onr0aNhgvFJzc7OysrJUPORbSvWlxbMLkCB8Eoi9NV2XbvUqeEK8IeeVQPJK8KKr9nPndOgfl6mpqUmZmZlWr44lLJ8AtrW1qa6uTsXFxcHnfD6fiouLVVtbG/Y1tbW1IctLUklJScjyHR0deuihh/Tkk0/qlltuCfseAwYMCMafJBUXF8vn82nXrl1hv29ra6uam5tDHgDgNomYBna+R3cPANayPABPnTql9vZ25eTkhDyfk5OjQCAQ9jWBQKDX5Z977jmlpqZqwYIF3b7HkCFDQp5LTU3VoEGDuv2+FRUVysrKCj7y8vJ63T4ASLZETfB6CrV4A88OIeiVSScQjiuvAq6rq9MPfvAD1dfXKyUlcX/BLF26VOXl5cFfNzc3E4EAXM3sSDt7bYqlIcZVwfAqyyeAgwcPVp8+fdTY2BjyfGNjo3Jzc8O+Jjc3t8fl33nnHZ04cUIjRoxQamqqUlNT9cknn+iJJ55Qfn5+8D2uvMjkwoULOn36dLffNz09XZmZmSEPAEB87DANBLzG8gBMS0vTuHHjVFNTE3yuo6NDNTU1KioqCvuaoqKikOUlqbq6Orj8Qw89pPfee0/79u0LPoYNG6Ynn3xSb7zxRvA9zpw5o7q6uuB77NixQx0dHfL7/YneTABIKice3iQCgeSxxSHg8vJyzZ49W+PHj9fEiRO1du1atbS0aM6cOZKkWbNmafjw4aqoqJAkLVy4UFOmTNGaNWs0bdo0VVZWas+ePdq4caMkKTs7W9nZ2SHfo2/fvsrNzdWNN94oSbrpppt0zz33aN68edqwYYPOnz+vxx9/XDNmzIjoCmAA0cs61MqVwOhRIm5OTUgCvbNFAJaVlenkyZNasWKFAoGACgsLtX379uCFHg0NDfL5Lg0rJ0+erE2bNmn58uVatmyZRo0apa1bt2r06NFRfd9XXnlFjz/+uKZOnSqfz6fp06frpZdeSui2AYBVnHx+25XnBjp1OwC7ssV9AJ2K+wDaD/cBtD8mgMlFOAFdcR9Am0wAATjLlRGXdajVojVBb5w8BQRgHgIQQER6mtx1fo0QBABnIAABdCvaw7WRhCAXggCA9QhAACESEWdMBO2Fw8DRY5/B7QhAAJLMuTjjyhBk8genIP7gdgQgXIMrgO2L8LMeEy0Al7P8k0AA2AOHawHAOwhAuALTP6B3Tvx4OADmIAABAAA8hgCE4zH9AyLHFBCARAACAAB4DgEIR2P6B0SPKSAAAhCORfwBABAbAhBAELeCAQBvIADhSEz/gPhwGBjwNgIQAADAYwhAOA7TPyAxmAIC3kUAwlGIPyCxiEDAmwhAAAAAj0m1egWASDH9S46sQ61qui7d6tVAEvX/xNDZa1OsXg0kQOuIti7PpTekWbAmsDsmgAAAuASxh0gRgAAAzgV0ESIQkSAAAQBwGSIQveEcQACwmZ7OxzNzUse5gO5CBKInBCAAWCja4OpcnkO2AOJBAALogiuBzZHI6drZa1NMiUCmgOhJuKuMe8IU0r4IQAAwQTIiimkgYhVtyMXzfYhAeyIAAQQx9XOmWKeBTPq8KVnxd/n3IwLthwAEQPi5QHfTQCIPV+qMsWSGYOf3IgTtgwAEPIrocyeCD5FKb0hjGuhh3AcQ8Jim69KJvyTgvDw4gRUxluzoRHi2CcD169crPz9fGRkZ8vv92r17d4/Lb9myRQUFBcrIyNCYMWO0bdu2kK+vWrVKBQUF6tevnwYOHKji4mLt2rUrZJn8/HylpKSEPFavXp3wbQOs1hl9hB+AK6U3pCU9BFtHtCU0BDvfj7iMnC0OAW/evFnl5eXasGGD/H6/1q5dq5KSEh08eFBDhgzpsvzOnTs1c+ZMVVRU6K/+6q+0adMmlZaWqr6+XqNHj5Yk3XDDDVq3bp2+9KUv6fPPP9f3v/993X333froo4/0xS9+Mfhezz77rObNmxf8df/+/c3fYMQk7cBRtRVcY/VqOArBZy1uqQInseqQsFnvyaHmnqUYhmH5cQq/368JEyZo3bp1kqSOjg7l5eVp/vz5WrJkSZfly8rK1NLSoqqqquBzkyZNUmFhoTZs2BD2ezQ3NysrK0tvvvmmpk6dKuniBHDRokVatGhRTOvd+Z7FQ76lVB8/aMlAAEaG8LMPAhBO46YpWncR2H7unA794zI1NTUpMzMzyWtlD5YfAm5ra1NdXZ2Ki4uDz/l8PhUXF6u2tjbsa2pra0OWl6SSkpJul29ra9PGjRuVlZWlsWPHhnxt9erVys7O1m233aYXXnhBFy5c6HZdW1tb1dzcHPJA8hB/kSH+AMTDikPCZnFTzCaa5YeAT506pfb2duXk5IQ8n5OTowMHDoR9TSAQCLt8IBAIea6qqkozZszQZ599pqFDh6q6ulqDBw8Ofn3BggW6/fbbNWjQIO3cuVNLly7V8ePH9eKLL4b9vhUVFXrmmWdi2UzEifiDU3EYGE5lxSFhM3BIODzLA9BMd911l/bt26dTp07pJz/5ie6//37t2rUreF5heXl5cNlbb71VaWlpeuSRR1RRUaH09K5TlKVLl4a8prm5WXl5eeZviMcRfwBgDSvuGWgWbkETyvJDwIMHD1afPn3U2NgY8nxjY6Nyc3PDviY3Nzei5fv166frr79ekyZN0ssvv6zU1FS9/PLL3a6L3+/XhQsXdPjw4bBfT09PV2ZmZsgDAHrDLWHgdG4JJzeEbKJYHoBpaWkaN26campqgs91dHSopqZGRUVFYV9TVFQUsrwkVVdXd7v85e/b2tra7df37dsnn88X9spjWIPpHwDYg5sisC2PELTFIeDy8nLNnj1b48eP18SJE7V27Vq1tLRozpw5kqRZs2Zp+PDhqqiokCQtXLhQU6ZM0Zo1azRt2jRVVlZqz5492rhxoySppaVF3/ve93Tfffdp6NChOnXqlNavX69jx47p61//uqSLF5Ls2rVLd911l/r376/a2lotXrxYDz74oAYOHGjNjkAI4g9uwrmAcAM3HRL2OlsEYFlZmU6ePKkVK1YoEAiosLBQ27dvD17o0dDQIJ/v0rBy8uTJ2rRpk5YvX65ly5Zp1KhR2rp1a/AegH369NGBAwf0i1/8QqdOnVJ2drYmTJigd955R7fccouki4dzKysrtWrVKrW2tmrkyJFavHhxyDl+sA7xBwD2RQg6ny3uA+hU3AfQHMRffLgNjH0xAYQbOTECOz4/pyPfXsV9AAG4R9ah7s9zhbW4GARu5Kb7BnoJAQgAAOJGBDoLAQgAScQUEG7GNNA5CEAAAJBQhKD9EYAAkGRMAeEVRKB9EYAAAMA0TAPtiQAEXIgrgSN39tqU4COZmALCawhBe7HFjaABJBb3AuxZd7HX+Xwy4ox7AtpDT/ewI1bMkd6Q5sh7B7oNAQhb4SbQ8SH8EiPRIUjsAaH4JBHrEYCwDeIvdoRfdCL9XN5YQ5Dgcw6mUdYiBK1DAAIORvglx9lrU3qMQILP2cJFIId/k4sQTD4CELbA9C96xF98Ip0CdiLy3I1JoD0QgslDAMJyxF90CD/AHMmKwN6+B9NHQjAZCEDAIQg/wHzxxFeiYqXzfQhBQtBMBCAsxfSvd4SfeaI9DAzvsiJAWke0EYH/hxBMPG4EDQBAN1pHtFkaHQRPKG4mnTgEIABP4xM50BM7xIbVEWpHhGD8CEAAAHpgl9AgArsiBGPHOYAAAPTCLreJifa8wGjX2akxxTmC0SMAAXgeF4MgEnaKQDPf26kRKBGC0eAQMGBzWYdarV4FAP/HyXEUKTfEE4eGe0cAAoC4GASR80JYuOXCk84Q9MLvWbQIQAAAouSVqHBDBHbyyu9ZpAhAWIabQPeu6bp0bgQN2JgXgsJNEShd/D1LO+L+37fecBEILEH89Y7wSz4uBkEs7HJxiJni/Xg6Pv/YfghAwGYIP8B5vBCBknnTQKdffexEHAJG0jH96x7xlzhnr00JPqLBxSCIFeeYxccLAW0nTAABGyD8EqO72Ot8nrhDMnhlGmgGJoHJQwAiqZj+dUX8xSeaCV+kIci5gIgXERi7eM83RGQIQMBCxF9s4o0zJoJIBj6VIj5MA81lm3MA169fr/z8fGVkZMjv92v37t09Lr9lyxYVFBQoIyNDY8aM0bZt20K+vmrVKhUUFKhfv34aOHCgiouLtWvXrpBlTp8+rQceeECZmZkaMGCA5s6dqz//+c8J3zZcxPQvFPEXm0RO5sKdIxjLeYOITOfNhb0WRERM7Lz2s5JMtgjAzZs3q7y8XCtXrlR9fb3Gjh2rkpISnThxIuzyO3fu1MyZMzV37lzt3btXpaWlKi0t1f79+4PL3HDDDVq3bp3+8Ic/6L//+7+Vn5+vu+++WydPngwu88ADD+j9999XdXW1qqqq9Pbbb+vhhx82fXsBxM6MqV2sF4wgOl4OIS9ve7wi/Y+Gy/8Do7dHWx5hmWIYhuXHQPx+vyZMmKB169ZJkjo6OpSXl6f58+dryZIlXZYvKytTS0uLqqqqgs9NmjRJhYWF2rBhQ9jv0dzcrKysLL355puaOnWqPvjgA91888169913NX78eEnS9u3bde+99+ro0aMaNmxYr+vd+Z7FQ76lVB9/uHvDBDAUE8DYEWrO5vVDe0y1rNfx+Tkd+fYqNTU1KTMz0+rVsYTlE8C2tjbV1dWpuLg4+JzP51NxcbFqa2vDvqa2tjZkeUkqKSnpdvm2tjZt3LhRWVlZGjt2bPA9BgwYEIw/SSouLpbP5+tyqBgAkDhejj+J7Yc9WH4RyKlTp9Te3q6cnJyQ53NycnTgwIGwrwkEAmGXDwQCIc9VVVVpxowZ+uyzzzR06FBVV1dr8ODBwfcYMmRIyPKpqakaNGhQl/fp1NraqtbW1uCvm5ubI9tIIIysQ61MAWPEVbroiRM+dYILRGA1yyeAZrrrrru0b98+7dy5U/fcc4/uv//+bs8rjERFRYWysrKCj7y8vASuLQAgUj2d3xXJa+3CDjEKb7I8AAcPHqw+ffqosbEx5PnGxkbl5uaGfU1ubm5Ey/fr10/XX3+9Jk2apJdfflmpqal6+eWXg+9xZQxeuHBBp0+f7vb7Ll26VE1NTcHHkSNHotpWAInDLVzcL57Ii/S97YBPEIEVLA/AtLQ0jRs3TjU1NcHnOjo6VFNTo6KiorCvKSoqCllekqqrq7td/vL37TyEW1RUpDNnzqiuri749R07dqijo0N+vz/s69PT05WZmRnyAADEz4zIi/T72gURiGSy/BxASSovL9fs2bM1fvx4TZw4UWvXrlVLS4vmzJkjSZo1a5aGDx+uiooKSdLChQs1ZcoUrVmzRtOmTVNlZaX27NmjjRs3SpJaWlr0ve99T/fdd5+GDh2qU6dOaf369Tp27Ji+/vWvS5Juuukm3XPPPZo3b542bNig8+fP6/HHH9eMGTMiugIYiBfn/wH2YKerkjk3EMliiwAsKyvTyZMntWLFCgUCARUWFmr79u3BCz0aGhrk810aVk6ePFmbNm3S8uXLtWzZMo0aNUpbt27V6NGjJUl9+vTRgQMH9Itf/EKnTp1Sdna2JkyYoHfeeUe33HJL8H1eeeUVPf7445o6dap8Pp+mT5+ul156Kbkb7xHcAuYSwi9xuBjEPaz+6LR4P34sknWP5r0JQZjNFvcBdCruAxg5AvAi4i/xCEB3sUPwhAu1RK5XtJFph33iNtwH0CYTQLgb8XcR8WcOpoDuYofJl9nfO9pDznbYJ3Afyy8CAbyA+IsMIYdOdjknzyyxxBxXCyORCECYiukf8ReJyz+Hl8/kRSe3x06sVzu7fb8gOQhAwETEX896ir3Or0USg9wT0L28EDtMA2EFzgGEabw+/SP+ehbNlK9z2e5Cj4mhu1l9hXAyRHpeoNv3A5KHAATgGJeHINHnLV6JQCBZOAQMU3h9+gdzEX/exCFPIHEIQMAkWYdarV4FW+O8PcSCCAQSg0PAAIC4XH7oMhmBxn3xgPgRgEg4Dv8C7tZTeCXzc3W9cF4gYBYCEIBluJjD/mIJrHg/VzcaRCAQGwIQCcX0D3C2RMZUsqaBRCAQPQIQMAn3Aewd0z/3MyMCiT0gfgQgYALir2eEn32ZMU2L9ZAwoQeYhwAEEoz46x7h5wxmHVLtbhpI6AHJRwACCUT8hUf4OY+ZEQjAegQgkCDEX1eEHwDYEwEIJADxF4rwcweurgXciwAE4kT8XUL4uQ8RCLgTnwUMAOgRn78LuA8BiITx4k2gmf7BK4hAwF0IQCBGxB+8Jr0hjRAEXIIABGJA/MHJWke0BR+xIAIB5yMAkRBeOvxL/HWv/yeG1auAMC4PviujjwgEvImrgIEoEH9wgmijLtaPauMKYcC5mAACSCimgNaI97Bu53tEi0kg4ExMAIEIMf2DnZg1eYtlGsgkEHAeAhBx88L5f8Rf5LgZtDu0jmjrNQKJPsC5CECgF8RfZAi/5ErG1O3KCCT4APcgAAHEjfizRrIiEID7EICIi9sP/zL96xnhZz3OvwMQC9tcBbx+/Xrl5+crIyNDfr9fu3fv7nH5LVu2qKCgQBkZGRozZoy2bdsW/Nr58+f11FNPacyYMerXr5+GDRumWbNm6dNPPw15j/z8fKWkpIQ8Vq9ebcr2wXmIv54Rf/bBlbgAomWLANy8ebPKy8u1cuVK1dfXa+zYsSopKdGJEyfCLr9z507NnDlTc+fO1d69e1VaWqrS0lLt379fkvTZZ5+pvr5eTz/9tOrr6/Xqq6/q4MGDuu+++7q817PPPqvjx48HH/Pnzzd1WwGnO3ttCvFnQ0QggGikGIZh+U27/H6/JkyYoHXr1kmSOjo6lJeXp/nz52vJkiVdli8rK1NLS4uqqqqCz02aNEmFhYXasGFD2O/x7rvvauLEifrkk080YsQISRcngIsWLdKiRYtiWu/m5mZlZWWpeMi3lOrz3l++bj78y/QvPMLP/jgcDPSu4/NzOvLtVWpqalJmZqbVq2MJyyeAbW1tqqurU3FxcfA5n8+n4uJi1dbWhn1NbW1tyPKSVFJS0u3yktTU1KSUlBQNGDAg5PnVq1crOztbt912m1544QVduHAh9o2BKxB/XTH1AwB3sfwikFOnTqm9vV05OTkhz+fk5OjAgQNhXxMIBMIuHwgEwi5/7tw5PfXUU5o5c2ZI6S9YsEC33367Bg0apJ07d2rp0qU6fvy4XnzxxbDv09raqtbW1uCvm5ubI9pGwMkIP/tj6gcgWpYHoNnOnz+v+++/X4Zh6Mc//nHI18rLy4P//9Zbb1VaWpoeeeQRVVRUKD296xSooqJCzzzzjOnr7ARuPvyLS4g/+yL6AMTD8kPAgwcPVp8+fdTY2BjyfGNjo3Jzc8O+Jjc3N6LlO+Pvk08+UXV1da/H+f1+vy5cuKDDhw+H/frSpUvV1NQUfBw5cqSXrQOci/izn0R83i8ASDYIwLS0NI0bN041NTXB5zo6OlRTU6OioqKwrykqKgpZXpKqq6tDlu+Mvw8//FBvvvmmsrOze12Xffv2yefzaciQIWG/np6erszMzJAH3IXz/zjfz26IPgBmsMUh4PLycs2ePVvjx4/XxIkTtXbtWrW0tGjOnDmSpFmzZmn48OGqqKiQJC1cuFBTpkzRmjVrNG3aNFVWVmrPnj3auHGjpIvx97WvfU319fWqqqpSe3t78PzAQYMGKS0tTbW1tdq1a5fuuusu9e/fX7W1tVq8eLEefPBBDRw40JodAViM8LMHYg+A2WwRgGVlZTp58qRWrFihQCCgwsJCbd++PXihR0NDg3y+S8PKyZMna9OmTVq+fLmWLVumUaNGaevWrRo9erQk6dixY3r99dclSYWFhSHf66233tKdd96p9PR0VVZWatWqVWptbdXIkSO1ePHikPMCER7n/7kT8Wctog9AMtniPoBO5dX7ALo5AL16CJj4swbRB1iD+wDa4BxAwC6IPwCAVxCAiIqbp39eRPxZi49vA2AVW5wDCCC5CD/7SG9I41AwgKRjAgh4DPFnP0wCASQbE0BEjMO/zkf8me/KaV6kccckEEAyEYCAvHEBCPFnnp7CrfNrkYQgEQggWTgEDHgA8WeOaD6hI9JlORwMIBkIQMDliL/Ei+ej2ZjwAbADDgEjIm4+/8/Nh3+Jv8RKVLx1d1iYOASQLAQgAPTCrDAj+ABYhUPA8DSmf+gNkQbAjZgAolduPvzrVsRf/Ag/AG5GAMKz3Dr9I/7iQ/gB8AICEHAR4i92hB8AL+EcQHiSG6d/xF/siD8AXkMAokduPP+P+MPliD8AXkQAwlPcGH+ID5+8AcCLCEB4hlvjj+lf/IhAAF5DAKJbbjr8S/wBAHAJAQjXc2v8IbGYAgLwEgIQYbll+ufm+GP6l3hEIACv4D6AcC3iz9uuvLo30rhLb0jjymAArscEEK5E/HlbuIBrHdEWcdgxCQTgdkwA0YVbDv/Cm3qLvM6vdxd5TP8AeAEBCDgI07/uRRtu4UKQ+APgFQQgXMeth3+Jv+7FE25EHwAv4hxAhODwL5yGgAOA6BGAgAMw/QuP+AOA2BCAcBW3Hv5FV8QfAMSOcwARxOFfe2L6F4rwA4D4MQGEa7hx+kf8hSL+ACAxbBOA69evV35+vjIyMuT3+7V79+4el9+yZYsKCgqUkZGhMWPGaNu2bcGvnT9/Xk899ZTGjBmjfv36adiwYZo1a5Y+/fTTkPc4ffq0HnjgAWVmZmrAgAGaO3eu/vznP5uyfTCXG+MPoYg/AEgcWwTg5s2bVV5erpUrV6q+vl5jx45VSUmJTpw4EXb5nTt3aubMmZo7d6727t2r0tJSlZaWav/+/ZKkzz77TPX19Xr66adVX1+vV199VQcPHtR9990X8j4PPPCA3n//fVVXV6uqqkpvv/22Hn74YdO31444/Gs/TP8AAGZJMQzDsHol/H6/JkyYoHXr1kmSOjo6lJeXp/nz52vJkiVdli8rK1NLS4uqqqqCz02aNEmFhYXasGFD2O/x7rvvauLEifrkk080YsQIffDBB7r55pv17rvvavz48ZKk7du3695779XRo0c1bNiwXte7ublZWVlZKh7yLaX6nP3RUU4OQDdO/4i/UEz/ACRSx+fndOTbq9TU1KTMzEyrV8cSlk8A29raVFdXp+Li4uBzPp9PxcXFqq2tDfua2trakOUlqaSkpNvlJampqUkpKSkaMGBA8D0GDBgQjD9JKi4uls/n065du8K+R2trq5qbm0MesBbx537EHwAknuUBeOrUKbW3tysnJyfk+ZycHAUCgbCvCQQCUS1/7tw5PfXUU5o5c2aw9AOBgIYMGRKyXGpqqgYNGtTt+1RUVCgrKyv4yMvLi2gb7c7J0z83OXttCvF3BeIPAMxheQCa7fz587r//vtlGIZ+/OMfx/VeS5cuVVNTU/Bx5MiRBK0lYuGm6R/h1xXxBwDmsfw+gIMHD1afPn3U2NgY8nxjY6Nyc3PDviY3Nzei5Tvj75NPPtGOHTtCjvPn5uZ2ucjkwoULOn36dLffNz09Xenp7okOJyP+3I34AwBzWT4BTEtL07hx41RTUxN8rqOjQzU1NSoqKgr7mqKiopDlJam6ujpk+c74+/DDD/Xmm28qOzu7y3ucOXNGdXV1wed27Nihjo4O+f3+RGyaI3D411rEX1fEHwCYz/IJoCSVl5dr9uzZGj9+vCZOnKi1a9eqpaVFc+bMkSTNmjVLw4cPV0VFhSRp4cKFmjJlitasWaNp06apsrJSe/bs0caNGyVdjL+vfe1rqq+vV1VVldrb24Pn9Q0aNEhpaWm66aabdM8992jevHnasGGDzp8/r8cff1wzZsyI6ApgWMct0z/iryviDwCSwxYBWFZWppMnT2rFihUKBAIqLCzU9u3bgxd6NDQ0yOe7NKycPHmyNm3apOXLl2vZsmUaNWqUtm7dqtGjR0uSjh07ptdff12SVFhYGPK93nrrLd15552SpFdeeUWPP/64pk6dKp/Pp+nTp+ull14yf4PhecTfJUQfACSfLe4D6FRuuA+g0w4Bu2H65/X4I/gAWI37ANpkAghrEH/J59X4I/oAwF4IQCBJvBh/hB8A2BMBCEdww/TPSwg/ALA3y28DA3iBl6Z/xB8A2B8B6FFOOv/P6dM/L8UfAMAZCEDARF6LP6Z/AOAMBCBszcnTP+IPAGBXBKAHOenwLwBnyL/mpPKvOWn1agCIEFcBw7aY/jkH0z/vIvoAZ2ICCCSY1+IP3hUu/pIdhEwegdgQgLAlp07/vBh/TP+8p7foSkaQXbkORCAQHQLQY5xw/p9T48+LiD9vOnz0i1avAoA4cQ4gkCBemv4RfuiMwHCTt2QEIhEKxIcAhK04cfrnpfCTiD+EujwEiTLAOTgEDNsg/uytdUQb8edBkZ5bR/wBzkIAeogTzv9zEq/FH7ynM/6surLXzhd22H39gN5wCBi24LTpn1fij/DzrivjJhmHeLu7rYxdpot2Xz8gGkwAYTniz56IP+/qbrJl5sTL6tvK9MQOt70BEo0JIBAF4g9uZ8XhXjuz+/oBsWIC6BF2Pf/PSdM/L8QfF3p4WySxk8ggiua9rAqxw0e/2OshXg4Bw4mYAAIR8Er8wbuY/HVdp8vD7srI61yW+INTMQEEekH8we2ijbF44y3W11t1DmI4kUwGATsjAD2Aw7+xI/7gdl6f/PV0gYfd1hVIJAIQ6AbxBzsxI0biec9YXpuIbUjUfuA+fvA6AtDlmP7FhviDnZhxQ+ZkxpjdYssJF58AZuMiEMCDiD8ki1mTy1jOv3NDzF2+DZyDiHgQgEg6pn/WIv6cIZLz0qIJALPixymfhOGG+AMSiQAELkP8wUrxXI0bLsKsjh6zr9qNNDwTcdWyXSLXLusB5yMAXcyO5//ZffrnVoSfvdnp4ohEscv62GU9ALshAJE0do8/N07/CD97cluU2GlCdjm37WcgkQhAQO6LP8LPfrwUI8na1p7CM9HrYNfIBWJlm9vArF+/Xvn5+crIyJDf79fu3bt7XH7Lli0qKChQRkaGxowZo23btoV8/dVXX9Xdd9+t7OxspaSkaN++fV3e484771RKSkrI49FHH03kZuH/2H365xZ8lq95Om9lEuvDK+ywrXZYh2h58WcF1rJFAG7evFnl5eVauXKl6uvrNXbsWJWUlOjEiRNhl9+5c6dmzpypuXPnau/evSotLVVpaan2798fXKalpUV33HGHnnvuuR6/97x583T8+PHg4/nnn0/otlnFTuf/2T3+3DD9I/zMwz/KkbFqP135Pe30cXFWvy/QkxTDMAyrV8Lv92vChAlat26dJKmjo0N5eXmaP3++lixZ0mX5srIytbS0qKqqKvjcpEmTVFhYqA0bNoQse/jwYY0cOVJ79+5VYWFhyNfuvPNOFRYWau3atTGtd3Nzs7KyslQ85FtK9aXF9B5msUsAEn/mI/zMwz/MztB5aDYZv1+JPAzc3fpyqNl8HZ+f05Fvr1JTU5MyMzOtXh1LWD4BbGtrU11dnYqLi4PP+Xw+FRcXq7a2NuxramtrQ5aXpJKSkm6X78krr7yiwYMHa/To0Vq6dKk+++yzbpdtbW1Vc3NzyAPORfyhO0z9ALid5ReBnDp1Su3t7crJyQl5PicnRwcOHAj7mkAgEHb5QCAQ1ff+xje+oWuvvVbDhg3Te++9p6eeekoHDx7Uq6++Gnb5iooKPfPMM1F9Dysw/eud0+OP8DMP4Ydk6OnnjAtOkAyWB6CVHn744eD/HzNmjIYOHaqpU6fq0KFDuu6667osv3TpUpWXlwd/3dzcrLy8vKSsK9CJ+DMH4eds/P4B0bE8AAcPHqw+ffqosbEx5PnGxkbl5uaGfU1ubm5Uy0fK7/dLkj766KOwAZienq70dPtOteyE6Z85iL/EIxyQbPzMwQ4sPwcwLS1N48aNU01NTfC5jo4O1dTUqKioKOxrioqKQpaXpOrq6m6Xj1TnrWKGDh0a1/tYyS6Hf+2K+MPl+IcY0UrEx8oBdmD5BFCSysvLNXv2bI0fP14TJ07U2rVr1dLSojlz5kiSZs2apeHDh6uiokKStHDhQk2ZMkVr1qzRtGnTVFlZqT179mjjxo3B9zx9+rQaGhr06aefSpIOHjwo6eL0MDc3V4cOHdKmTZt07733Kjs7W++9954WL16sv/zLv9Stt96a5D2AZCD+cDn+IXYPfi+B6NkiAMvKynTy5EmtWLFCgUBAhYWF2r59e/BCj4aGBvl8l4aVkydP1qZNm7R8+XItW7ZMo0aN0tatWzV69OjgMq+//nowICVpxowZkqSVK1dq1apVSktL05tvvhmMzby8PE2fPl3Lly9P0la7lx0P/zo1/gi/xCMWYBV+9mAntrgPoFPZ7T6Adjn8a7cAJP7QiX+AkQixXqEbzc8fVwGbi/sA2uAcQLgL8ZcYxF/iEX8AcAkBiIQh/hKD+Es84g8AQhGALmGXw7924cT44/N8zUH8wS44rAs7scVFIHA+O03/nBp/6B0xB6sRcXALAhCu4rT4I/y6R+wBgHkIQMTNLtM/4s/ZCD54weGjX+RnHbZAALqAlef/EX+xIf4u4h9COE3+NSc5DAxX4CIQOJ6T4o8LPS4h/uBU8f7sEpCwAwIQMbPL9M8pCL+L8q85SfzB8cyMQAIRycAhYIfz+u1fnDD9I/wuIvrgNvEeDu58LX82YAUmgIiJHaZ/xJ9z8A8c3CoRE20mfrACE0BEjfjrHeF3CfEHL0jUNBBIFgLQwbx6+Jf4cwbCD17T+TNPzMEJOASMqFg9/SP+nIH4g5fx8w8nYAIIx7Bz/BF+F/EPH3AR9wuE3TEBRMSsnP4Rf/bGrV2ArvgzATtjAuhQXjr/j/izJ/5xA3rHJBB2RQAiIlaf+2dHXoo/Yg+IHREIOyIAYWt2nP65PfyIPSDxiEDYDecAOlCyD/9aNf0j/pKL8/gAc/HnC3bCBBC2RPwlB/8gAcnFJBB2QQCiR1ZM/+wWf4QfAMBtOATsMG6/+pf4Mx/xBwBgAohuJXv6Z6f4I/wAmIHDv7ALJoAIi/hzF+IPsB7xBzthAgjLEX/mIfwA6xF+sCMC0EGSdf6fF2/67Lbwk4g/wA6IP9gVh4ARwouHfok/AGYg/mBnTABhGavjj/ADYAbCD05AADpEMg7/JnP6R/wlFuEH2APxB6ewzSHg9evXKz8/XxkZGfL7/dq9e3ePy2/ZskUFBQXKyMjQmDFjtG3btpCvv/rqq7r77ruVnZ2tlJQU7du3r8t7nDt3To899piys7P1hS98QdOnT1djY2MiNwthEH+Jw8e3AeY4fPSLUcVctMsDVrNFAG7evFnl5eVauXKl6uvrNXbsWJWUlOjEiRNhl9+5c6dmzpypuXPnau/evSotLVVpaan2798fXKalpUV33HGHnnvuuW6/7+LFi/Uf//Ef2rJli/7rv/5Ln376qb761a8mfPucIFnTP+IvPp3BR/gBydEZdlc+rvw64DQphmEYVq+E3+/XhAkTtG7dOklSR0eH8vLyNH/+fC1ZsqTL8mVlZWppaVFVVVXwuUmTJqmwsFAbNmwIWfbw4cMaOXKk9u7dq8LCwuDzTU1N+uIXv6hNmzbpa1/7miTpwIEDuummm1RbW6tJkyb1ut7Nzc3KyspS8ZBvKdWXFsumR8Tsw79eOPTr5PAj9IDkIujcr+Pzczry7VVqampSZmam1atjCcsngG1tbaqrq1NxcXHwOZ/Pp+LiYtXW1oZ9TW1tbcjyklRSUtLt8uHU1dXp/PnzIe9TUFCgESNGRPU+iBzxFx2mfAAAs1h+EcipU6fU3t6unJyckOdzcnJ04MCBsK8JBAJhlw8EAhF/30AgoLS0NA0YMCDi92ltbVVra2vw183NzRF/P7ty+6Ffp8UfwQcASAbLJ4BOUlFRoaysrOAjLy/P9O+ZrJs/m4n46x3TPgBAMlkegIMHD1afPn26XH3b2Nio3NzcsK/Jzc2Navnu3qOtrU1nzpyJ+H2WLl2qpqam4OPIkSMRfz87Ssb0z4r4ax3R5pj4I/wAe+H8P3iF5QGYlpamcePGqaamJvhcR0eHampqVFRUFPY1RUVFIctLUnV1dbfLhzNu3Dj17ds35H0OHjyohoaGbt8nPT1dmZmZIQ90z6r4cwLCDwBgJcvPAZSk8vJyzZ49W+PHj9fEiRO1du1atbS0aM6cOZKkWbNmafjw4aqoqJAkLVy4UFOmTNGaNWs0bdo0VVZWas+ePdq4cWPwPU+fPq2GhgZ9+umnki7GnXRx8pebm6usrCzNnTtX5eXlGjRokDIzMzV//nwVFRVFdAWw05k9/SP+ukf4AfbE9A9eYosALCsr08mTJ7VixQoFAgEVFhZq+/btwQs9Ghoa5PNdGlZOnjxZmzZt0vLly7Vs2TKNGjVKW7du1ejRo4PLvP7668GAlKQZM2ZIklauXKlVq1ZJkr7//e/L5/Np+vTpam1tVUlJiX70ox8lYYsj44bz/5LFCfFH+AH2RPjBi2xxH0CnMvs+gGYFoNumf8QfgFgRf97EfQBtMgFE8rgp/gg/AFcGXDR/5og/eBkBaFNOPPxL/IUi/gBzhQu4y5/r6c8g8QevIwA9xMzpH/EXivgDzBNpvHUud+WfR+IPIACRAMTfJYQfYK5Y4o3gA7oiAG3IjMO/Zk3/iL+LCD/AfIQckDgEIGKWrPgj/AAQf0BiEYAekIyPfDOLXeOP8AOSh/gDEo8AtJlEH/518qFfO8Yf4QckF/EHmIMARNS8GH+EHwDATQhAFzNj+ue1+CP8AOsw/QPMQwAiYsQfgGQh/mCW9IY0tZ/rsHo1LEcA2kgiz/9L9PTPS/FH+AHWIfxglvSGNKtXwVYIQPTK7Pgj/ABvI/pgNuKvKwLQhZx02xc7xB/hByQf0YdkIPy6RwDaRKIO/zrp0K/V8Uf4AdYg/pAMxF/PCEB0y63xR/gB1iD8EKvuYq67f0uIv94RgC6SyOmfWfFH+AHeRPwhFr2FHKEXOwLQBhL96R/xclv8EX6AtYg/xIK4MxcB6BKJmv65Kf4IP8BahB9iQfglBwGIIDPij/ADvIn4Q7QIv+QiAC2WiMO/iZj+uSH+CD/AeoQfCDlnIAAdjvgj/ACrEX0g+pyHAETCEX+AexF7kAg+NyAALRTv4V+7Tf8IP3v5f7kHevx6daAgSWsCJyP40InocxcC0MOcGH9eDL/eQs7q9yUk3YnwA8HnbgSgQ8U7/SP+7Mes0DNb53oTgu5A+Hkb0ecdBKBF4jn867X4c2P4OTX2ukP8ORvR510En3cRgB7jpPhzS/i5LfbgDkSfNxF86EQAOkwiP+83VoRfz7wWfEz/7IvIg0T0ITwC0EMSMf0zM/6cGn5eC77LEX/2QvCB2EOkCEALxHr+XzzTPzvHn9PCz8vBdznizx6IPm8j+BArn9Ur0Gn9+vXKz89XRkaG/H6/du/e3ePyW7ZsUUFBgTIyMjRmzBht27Yt5OuGYWjFihUaOnSorrrqKhUXF+vDDz8MWSY/P18pKSkhj9WrVyd826xG/MXv/+UeCD5A/Fnt8NEvBh/wjvSGtC4PIFa2CMDNmzervLxcK1euVH19vcaOHauSkhKdOHEi7PI7d+7UzJkzNXfuXO3du1elpaUqLS3V/v37g8s8//zzeumll7Rhwwbt2rVL/fr1U0lJic6dOxfyXs8++6yOHz8efMyfP9/UbY1VrNM/u8Zf/jUnbR9/RF94xJ81iD5vIfZgthTDMAyrV8Lv92vChAlat26dJKmjo0N5eXmaP3++lixZ0mX5srIytbS0qKqqKvjcpEmTVFhYqA0bNsgwDA0bNkxPPPGE/vZv/1aS1NTUpJycHP385z/XjBkzJF2cAC5atEiLFi2Kab2bm5uVlZWl4iHfUqovsj+csRz+tSr+zAo/OyP2ekcAJhfB526EnTXaz53ToX9cpqamJmVmZlq9OpawfALY1tamuro6FRcXB5/z+XwqLi5WbW1t2NfU1taGLC9JJSUlweU//vhjBQKBkGWysrLk9/u7vOfq1auVnZ2t2267TS+88IIuXLiQqE2zlN3iz64Tv8unfMRfz6oDBcRfEjHtc5dwEz3iD1ay/CKQU6dOqb29XTk5OSHP5+Tk6MCB8P8gBwKBsMsHAoHg1zuf624ZSVqwYIFuv/12DRo0SDt37tTSpUt1/Phxvfjii2G/b2trq1pbW4O/bm5ujnArYxfL9M+O8WcnhF70CL/kIPicj6iDU1gegFYqLy8P/v9bb71VaWlpeuSRR1RRUaH09K7hVVFRoWeeeSbm7xfPp39EKp74c3P4EX2xI/7MR/g5E7EHJ7M8AAcPHqw+ffqosbEx5PnGxkbl5uaGfU1ubm6Py3f+b2Njo4YOHRqyTGFhYbfr4vf7deHCBR0+fFg33nhjl68vXbo0JBqbm5uVl5fX8wbGIZk3fU5k/Nkl/Ii++BB+5iH4nIngg5tYfg5gWlqaxo0bp5qamuBzHR0dqqmpUVFRUdjXFBUVhSwvSdXV1cHlR44cqdzc3JBlmpubtWvXrm7fU5L27dsnn8+nIUOGhP16enq6MjMzQx5mSeahXzfFH+fzJQbxl1iXX8FL/DkH5+vBzSyfAEoXD8XOnj1b48eP18SJE7V27Vq1tLRozpw5kqRZs2Zp+PDhqqiokCQtXLhQU6ZM0Zo1azRt2jRVVlZqz5492rhxoyQpJSVFixYt0j/8wz9o1KhRGjlypJ5++mkNGzZMpaWlki5eSLJr1y7ddddd6t+/v2pra7V48WI9+OCDGjhwYMK30ezDv1bHn5XhR+wlFvEXPyLPmYg8eIktArCsrEwnT57UihUrFAgEVFhYqO3btwcv4mhoaJDPd2lYOXnyZG3atEnLly/XsmXLNGrUKG3dulWjR48OLvN3f/d3amlp0cMPP6wzZ87ojjvu0Pbt25WRkSHp4jSvsrJSq1atUmtrq0aOHKnFixeHHOK1SrTTPyvjz6rwI/rMQfzFhuBzHmIPXmeL+wA6VTT3AYx0ApiM+HPq1I/oMxfxFx2iz94IPPSE+wDaZALodmYd/rUq/pIZfkSfuYi+yBF89kLgAfEhAG0kmumfFfGXrPAj+sxF9EWG4LMHQg8wBwHoQNHGH+EHifCLBNFnLWIPSB4C0GSJPvcvmfGXjPAj+sxH+HWP4LMOsQdYiwC0Aa/FH9GXHIRfVwRfchF5gH0RgC4Va/wRfs5H+F1C8CUHoQc4DwFookgO/5ox/Ysl/swKP6IveQg/gi8ZiD3AHQhAB4g0/uwSfkRf8ng5+og9cxF6gLsRgBaKZPrnpPgj/Mzn1eAj9sxB5AHeRQCapLfDv1bGXyLDj+gzlxeDj9hLLCIPQDgEoE1FEn9WhR/RZz4vhB+hlxgEHoBYEIAW6G36l+j4I/ycwc3RR+zFh8gDutf/EyPq17S3Rf8atyEATRDPZ//aMf4IP/O4NfoIvugQeECoWKIO0SEAk6yn6V8i4y/e8CP6zOPG6CP4ekfkwYsIOfsiAJMonvhL1tSP8DOPW8KP2OsZoQc3IeDciwBMsO4O/yYj/mINP6Iv8Zwee0Re9wg8uAmB510EoMUSEX+xhB/RlzhOjj1CrysCD05H1CESBGASRPpxb5cj/OzJqbFH6F1E3MEJCDgkAwGYQOEO/8Zy6Le3+Is2/Ii+2Dkt+LwcesQd7Iqggx0RgBYJF3+JnvoRftFzSvB5MfQIPFiFgIMbEYAm6m76F+lHvF2O8DOH3YPPK6FH3CFZiDngIgIwQSK9+XO0kz/CL/HsGn1ujj0CD7Ei2ABzEIAmuXL6F+35fpGGH9HXO7sFnxtDj8BDJIg5wD4IwCSIZuoXSfgRfaEIPPMQdugOMQc4GwGYAG03DAvZkZdP/yKNP8Kve3YKPDfEHVGHcAg6wFsIwATr6bYvsUz9vBJ9dog8J8cdUQeJiAMQOQLQRJ3Tv2jDz83RZ2XoOS3wiDr3I9gAWIUATKDeDv128kr4JTv27B54BJ2zEWsA3IQAjINhXPwH4cKFVklSe9vFX5/NS5HOXVymLa9N+vzSa0YMO6ULLaHvc1fOnyRJ5/4c2fct7f/7qNZz69mxUS0fj7cab7jsV60Jf/+GTwf38NVzCf9+vUk7EnnUtVuwfl7S/4i5gdZu6rsDSKb2tot/H3f+O+5FKYaXtz5OR48eVV5entWrAQAAYnDkyBFdc01k9/F1GwIwDh0dHfr000/Vv39/paRE/+keTtfc3Ky8vDwdOXJEmZmZVq+OZdgPl7AvLmI/XMK+uIj9cIkd9oVhGDp79qyGDRsmn89nyTpYjUPAcfD5fJ79L4fLZWZmev4vNIn9cDn2xUXsh0vYFxexHy6xel9kZWVZ9r3twJvZCwAA4GEEIAAAgMcQgIhZenq6Vq5cqfT07m9+7QXsh0vYFxexHy5hX1zEfriEfWEPXAQCAADgMUwAAQAAPIYABAAA8BgCEAAAwGMIQAAAAI8hAD1s/fr1ys/PV0ZGhvx+v3bv3t3j8lu2bFFBQYEyMjI0ZswYbdu2LeTrhmFoxYoVGjp0qK666ioVFxfrww8/DH798OHDmjt3rkaOHKmrrrpK1113nVauXKm2tjZTti8ayd4Xl2ttbVVhYaFSUlK0b9++RG1STKzaD7/5zW/k9/t11VVXaeDAgSotLU3kZkXNiv3wpz/9SV/5ylc0ePBgZWZm6o477tBbb72V8G2LVqL3xauvvqq7775b2dnZ3f7Mnzt3To899piys7P1hS98QdOnT1djY2MiNytqyd4Pp0+f1vz583XjjTfqqquu0ogRI7RgwQI1NTUletOiZsXPRCfDMPTlL39ZKSkp2rp1awK2xsMMeFJlZaWRlpZm/PSnPzXef/99Y968ecaAAQOMxsbGsMv/9re/Nfr06WM8//zzxh//+Edj+fLlRt++fY0//OEPwWVWr15tZGVlGVu3bjV+//vfG/fdd58xcuRI4/PPPzcMwzD+8z//0/jmN79pvPHGG8ahQ4eMX//618aQIUOMJ554Iinb3B0r9sXlFixYYHz5y182JBl79+41azN7ZdV++Pd//3dj4MCBxo9//GPj4MGDxvvvv29s3rzZ9O3tjlX7YdSoUca9995r/P73vzf+9Kc/Gd/5zneMq6++2jh+/Ljp29wdM/bFL3/5S+OZZ54xfvKTn3T7M//oo48aeXl5Rk1NjbFnzx5j0qRJxuTJk83azF5ZsR/+8Ic/GF/96leN119/3fjoo4+MmpoaY9SoUcb06dPN3NReWfUz0enFF18M/n352muvJXjrvIUA9KiJEycajz32WPDX7e3txrBhw4yKioqwy99///3GtGnTQp7z+/3GI488YhiGYXR0dBi5ubnGCy+8EPz6mTNnjPT0dOPf/u3ful2P559/3hg5cmQ8mxI3K/fFtm3bjIKCAuP999+3PACt2A/nz583hg8fbvzLv/xLojcnZlbsh5MnTxqSjLfffju4THNzsyHJqK6uTti2RSvR++JyH3/8cdif+TNnzhh9+/Y1tmzZEnzugw8+MCQZtbW1cWxN7KzYD+H86le/MtLS0ozz589HtwEJZOW+2Lt3rzF8+HDj+PHjBGACcAjYg9ra2lRXV6fi4uLgcz6fT8XFxaqtrQ37mtra2pDlJamkpCS4/Mcff6xAIBCyTFZWlvx+f7fvKUlNTU0aNGhQPJsTFyv3RWNjo+bNm6d//dd/1dVXX53IzYqaVfuhvr5ex44dk8/n02233aahQ4fqy1/+svbv35/oTYyIVfshOztbN954o375y1+qpaVFFy5c0D//8z9ryJAhGjduXKI3MyJm7ItI1NXV6fz58yHvU1BQoBEjRkT1Poli1X4Ip6mpSZmZmUpNTY3rfWJl5b747LPP9I1vfEPr169Xbm5u9CuPLghADzp16pTa29uVk5MT8nxOTo4CgUDY1wQCgR6X7/zfaN7zo48+0g9/+EM98sgjMW1HIli1LwzD0De/+U09+uijGj9+fEK2JR5W7Yf/+Z//kSStWrVKy5cvV1VVlQYOHKg777xTp0+fjn/DomTVfkhJSdGbb76pvXv3qn///srIyNCLL76o7du3a+DAgQnZtmiZsS8iEQgElJaWpgEDBsT1Poli1X4Itx7f/e539fDDD8f8HvGycl8sXrxYkydP1le+8pXoVhrdIgBhiWPHjumee+7R17/+dc2bN8/q1Um6H/7whzp79qyWLl1q9apYqqOjQ5L093//95o+fbrGjRunn/3sZ0pJSdGWLVssXrvkMQxDjz32mIYMGaJ33nlHu3fvVmlpqf76r/9ax48ft3r1YLHm5mZNmzZNN998s1atWmX16iTd66+/rh07dmjt2rVWr4qrEIAeNHjwYPXp06fLVXWNjY3djtZzc3N7XL7zfyN5z08//VR33XWXJk+erI0bN8a1LfGyal/s2LFDtbW1Sk9PV2pqqq6//npJ0vjx4zV79uz4NyxKVu2HoUOHSpJuvvnm4NfT09P1pS99SQ0NDXFsUWys/HmoqqpSZWWl/uIv/kK33367fvSjH+mqq67SL37xi4RsW7TM2BeRyM3NVVtbm86cORPX+ySKVfuh09mzZ3XPPfeof//+eu2119S3b9+o3yNRrNoXO3bs0KFDhzRgwAClpqYGD4FPnz5dd955Z3QbgSAC0IPS0tI0btw41dTUBJ/r6OhQTU2NioqKwr6mqKgoZHlJqq6uDi4/cuRI5ebmhizT3NysXbt2hbznsWPHdOeddwYnPT6ftT+CVu2Ll156Sb///e+1b98+7du3L3hbhM2bN+t73/teQrcxElbth3Hjxik9PV0HDx4MLnP+/HkdPnxY1157bcK2L1JW7YfPPvtMkrr8efD5fMEpabKZsS8iMW7cOPXt2zfkfQ4ePKiGhoao3idRrNoP0sWfk7vvvltpaWl6/fXXlZGREf0GJJBV+2LJkiV67733gn9fdt4m5vvf/75+9rOfRb8huMjqq1BgjcrKSiM9Pd34+c9/bvzxj380Hn74YWPAgAFGIBAwDMMwHnroIWPJkiXB5X/7298aqampxj/90z8ZH3zwgbFy5cqwt7oYMGCA8etf/9p47733jK985Ssht7o4evSocf311xtTp041jh49ahw/fjz4sJIV++JK0VwJaBar9sPChQuN4cOHG2+88YZx4MABY+7cucaQIUOM06dPJ2/jL2PFfjh58qSRnZ1tfPWrXzX27dtnHDx40Pjbv/1bo2/fvsa+ffuSuwMuY8a++N///V9j7969xm9+8xtDklFZWWns3bs35O+BRx991BgxYoSxY8cOY8+ePUZRUZFRVFSUvA2/ghX7oampyfD7/caYMWOMjz76KOTvywsXLiR3B1zGqp+JK4mrgONGAHrYD3/4Q2PEiBFGWlqaMXHiRON3v/td8GtTpkwxZs+eHbL8r371K+OGG24w0tLSjFtuucX4zW9+E/L1jo4O4+mnnzZycnKM9PR0Y+rUqcbBgweDX//Zz35mSAr7sFqy98WV7BCAhmHNfmhrazOeeOIJY8iQIUb//v2N4uJiY//+/aZtYySs2A/vvvuucffddxuDBg0y+vfvb0yaNMnYtm2badsYqUTvi+7+Hli5cmVwmc8//9z4zne+YwwcONC4+uqrjb/5m7+x/D8Uk70f3nrrrW7/vvz4449N3tqeWfEzcSUCMH4phmEYZk8ZAQAAYB+cAwgAAOAxBCAAAIDHEIAAAAAeQwACAAB4DAEIAADgMQQgAACAxxCAAAAAHkMAAgAAeAwBCAAA4DEEIAAAgMcQgAAAAB5DAAIAAHgMAQgAAOAxBCAAAIDHEIAAAAAeQwACAAB4DAEIAADgMQQgAACAxxCAAAAAHkMAAgAAeAwBCAAA4DEEIAAAgMcQgAAAAB5DAAIAAHgMAQgAAOAxBCAAAIDHEIAAAAAeQwACAAB4DAEIAADgMQQgAACAxxCAAAAAHvP/AasZg1J5CImQAAAAAElFTkSuQmCC' width=640.0/>\n",
       "            </div>\n",
       "        "
      ],
      "text/plain": [
       "Canvas(toolbar=Toolbar(toolitems=[('Home', 'Reset original view', 'home', 'home'), ('Back', 'Back to previous …"
      ]
     },
     "metadata": {},
     "output_type": "display_data"
    }
   ],
   "source": [
    "fig,ax = plt.subplots()\n",
    "ax.contourf(A,DS,q)"
   ]
  },
  {
   "cell_type": "code",
   "execution_count": 15,
   "id": "f416ba66-6857-438a-aebf-ee556868a399",
   "metadata": {},
   "outputs": [],
   "source": [
    "#datos\n",
    "D = 7.5e-3\n",
    "a = 5e-3\n",
    "a = D*0.75\n",
    "L = 10*a\n",
    "\n",
    "T_aire = 20\n",
    "k = 70\n",
    "T_base = 120\n",
    "W = 10e-2\n",
    "N = num_aletas(a,W,D)\n",
    "A_transversal,p = area_perimetro(a,D)\n",
    "\n",
    "Area_total = N*p*L+N*A_transversal\n",
    "Area_base = W**2-N*A_transversal\n",
    "\n",
    "U = 1.5\n",
    "U1 = (D+a)/a\n",
    "Tref = (T_base+T_aire)/2\n",
    "mu_a = cp.CoolProp.PropsSI('V','T',273+Tref,'P',101.3e3,'Air')\n",
    "rho_a = cp.CoolProp.PropsSI('D','T',273+Tref,'P',101.3e3,'Air')\n",
    "nu_a = mu_a/rho_a\n",
    "k_a = cp.CoolProp.PropsSI('L','T',273+Tref,'P',101.3e3,'Air')\n",
    "Pr_a = cp.CoolProp.PropsSI('PRANDTL','T',273+Tref,'P',101.3e3,'Air')"
   ]
  },
  {
   "cell_type": "code",
   "execution_count": 16,
   "id": "fc899e78-9687-4135-b87d-d9b00c81c948",
   "metadata": {},
   "outputs": [],
   "source": [
    "Re_a = U*D/ nu_a\n",
    "N_row = np.floor(np.sqrt(N))\n",
    "N_col = N/N_row\n",
    "Nu_tubes = ht.conv_tube_bank.Nu_Grimison_tube_bank(Re_a, Pr_a, D, N_row, a+D, a+D)\n",
    "h_conv = Nu_tubes*k_a/D"
   ]
  },
  {
   "cell_type": "code",
   "execution_count": 17,
   "id": "17ceb01f-f52a-47aa-9ace-b8d20b96ff9e",
   "metadata": {},
   "outputs": [
    {
     "data": {
      "text/plain": [
       "563.2586036676896"
      ]
     },
     "execution_count": 17,
     "metadata": {},
     "output_type": "execute_result"
    }
   ],
   "source": [
    "Re_a"
   ]
  },
  {
   "cell_type": "markdown",
   "id": "2f1765b4-e3a1-4a44-af63-95c6230e9f5c",
   "metadata": {},
   "source": [
    "$$\\bar{Nu_D} = 1.13C_1Re_{D,max}^m Pr^{1/3}C_2$$"
   ]
  },
  {
   "cell_type": "code",
   "execution_count": 18,
   "id": "28f40ab2-eccd-4257-93b4-0a845dff683b",
   "metadata": {},
   "outputs": [],
   "source": [
    "C1 = 0.348\n",
    "m = 0.592\n",
    "C2 = 1\n"
   ]
  },
  {
   "cell_type": "code",
   "execution_count": 19,
   "id": "e5c1ffe6-4d3c-42f0-8b86-5f53b03d30fd",
   "metadata": {},
   "outputs": [
    {
     "name": "stdout",
     "output_type": "stream",
     "text": [
      "65.75782558240306 43.92942031579742\n"
     ]
    }
   ],
   "source": [
    "Nu_tubes_2 = 1.13*C1*Re_a**m#*Pr_a**.3*C2\n",
    "print(Nu_tubes_2*k_a/D,h_conv)"
   ]
  },
  {
   "cell_type": "code",
   "execution_count": 20,
   "id": "5a03d85b-7dcf-4181-995d-b2fbffe7462d",
   "metadata": {},
   "outputs": [],
   "source": [
    "sigma_sf = 5.68e-8\n"
   ]
  },
  {
   "cell_type": "code",
   "execution_count": 21,
   "id": "5e65a365-eb70-4d5f-a22b-b4e93908b457",
   "metadata": {},
   "outputs": [
    {
     "name": "stdout",
     "output_type": "stream",
     "text": [
      "el largo de la aleta L =56.25 mm\n"
     ]
    }
   ],
   "source": [
    "print(f'el largo de la aleta L ={L*1e3:.2f} mm')"
   ]
  },
  {
   "cell_type": "code",
   "execution_count": 22,
   "id": "228064a9-c3f3-40c7-8eaf-1d10950a4fda",
   "metadata": {},
   "outputs": [
    {
     "data": {
      "text/plain": [
       "1260.0"
      ]
     },
     "execution_count": 22,
     "metadata": {},
     "output_type": "execute_result"
    }
   ],
   "source": [
    "2.7*7.e-3/1.5e-5"
   ]
  },
  {
   "cell_type": "code",
   "execution_count": 23,
   "id": "6982421d-b077-4592-bcee-c0581744c5c3",
   "metadata": {},
   "outputs": [
    {
     "data": {
      "text/plain": [
       "6428.571428571428"
      ]
     },
     "execution_count": 23,
     "metadata": {},
     "output_type": "execute_result"
    }
   ],
   "source": [
    "12*7.5e-3/1.4e-5"
   ]
  },
  {
   "cell_type": "code",
   "execution_count": 24,
   "id": "36a3cca9-13a9-47bf-bf19-bc6b2c7b391c",
   "metadata": {},
   "outputs": [
    {
     "data": {
      "text/plain": [
       "<function __main__.beta(a, D, k)>"
      ]
     },
     "execution_count": 24,
     "metadata": {},
     "output_type": "execute_result"
    }
   ],
   "source": [
    "beta"
   ]
  },
  {
   "cell_type": "code",
   "execution_count": null,
   "id": "165f546c-b508-4984-99ef-0542699efc92",
   "metadata": {},
   "outputs": [],
   "source": []
  }
 ],
 "metadata": {
  "celltoolbar": "Slideshow",
  "kernelspec": {
   "display_name": "Python 3 (ipykernel)",
   "language": "python",
   "name": "python3"
  },
  "language_info": {
   "codemirror_mode": {
    "name": "ipython",
    "version": 3
   },
   "file_extension": ".py",
   "mimetype": "text/x-python",
   "name": "python",
   "nbconvert_exporter": "python",
   "pygments_lexer": "ipython3",
   "version": "3.10.9"
  },
  "latex_envs": {
   "LaTeX_envs_menu_present": true,
   "autoclose": true,
   "autocomplete": true,
   "bibliofile": "biblio.bib",
   "cite_by": "apalike",
   "current_citInitial": 1,
   "eqLabelWithNumbers": true,
   "eqNumInitial": 1,
   "hotkeys": {
    "equation": "Ctrl-E",
    "itemize": "Ctrl-I"
   },
   "labels_anchors": false,
   "latex_user_defs": false,
   "report_style_numbering": false,
   "user_envs_cfg": false
  },
  "toc-showtags": false
 },
 "nbformat": 4,
 "nbformat_minor": 5
}
