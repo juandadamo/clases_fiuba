{
 "cells": [
  {
   "cell_type": "markdown",
   "id": "93be5ec4",
   "metadata": {},
   "source": [
    "[Versión Interactiva](https://mybinder.org/v2/git/https%3A%2F%2Fgithub.com%2Fjuandadamo%2Fclases_fiuba/HEAD?filepath=6731%2Fdifusion-y-soluciones-numericas.ipynb)"
   ]
  },
  {
   "cell_type": "code",
   "execution_count": 1,
   "id": "d9760bcb",
   "metadata": {},
   "outputs": [
    {
     "name": "stdout",
     "output_type": "stream",
     "text": [
      "Requirement already satisfied: future in /usr/lib/python3/dist-packages (0.18.2)\r\n",
      "Requirement already satisfied: ht in /home/juan/.local/lib/python3.8/site-packages (0.1.55)\r\n",
      "Requirement already satisfied: fluids in /home/juan/.local/lib/python3.8/site-packages (0.1.83)\r\n",
      "Requirement already satisfied: matplotlib in /home/juan/.local/lib/python3.8/site-packages (3.2.2)\r\n",
      "Requirement already satisfied: numpy in /home/juan/.local/lib/python3.8/site-packages (1.19.0)\r\n",
      "Requirement already satisfied: scipy in /home/juan/.local/lib/python3.8/site-packages (1.5.1)\r\n",
      "Requirement already satisfied: cycler>=0.10 in /home/juan/.local/lib/python3.8/site-packages (from matplotlib) (0.10.0)\r\n",
      "Requirement already satisfied: kiwisolver>=1.0.1 in /home/juan/.local/lib/python3.8/site-packages (from matplotlib) (1.2.0)\r\n",
      "Requirement already satisfied: pyparsing!=2.0.4,!=2.1.2,!=2.1.6,>=2.0.1 in /home/juan/.local/lib/python3.8/site-packages (from matplotlib) (2.4.7)\r\n",
      "Requirement already satisfied: python-dateutil>=2.1 in /home/juan/.local/lib/python3.8/site-packages (from matplotlib) (2.8.2)\r\n",
      "Requirement already satisfied: six in /usr/lib/python3/dist-packages (from cycler>=0.10->matplotlib) (1.14.0)\r\n"
     ]
    }
   ],
   "source": [
    "!pip install future  ht fluids matplotlib numpy scipy"
   ]
  },
  {
   "cell_type": "code",
   "execution_count": 2,
   "id": "666d71b6",
   "metadata": {
    "_kg_hide-input": true,
    "_kg_hide-output": true,
    "execution": {
     "iopub.execute_input": "2021-05-11T17:37:34.415060Z",
     "iopub.status.busy": "2021-05-11T17:37:34.413829Z",
     "iopub.status.idle": "2021-05-11T17:37:57.030433Z",
     "shell.execute_reply": "2021-05-11T17:37:57.030978Z"
    },
    "papermill": {
     "duration": 22.634667,
     "end_time": "2021-05-11T17:37:57.031377",
     "exception": false,
     "start_time": "2021-05-11T17:37:34.396710",
     "status": "completed"
    },
    "tags": []
   },
   "outputs": [
    {
     "name": "stdout",
     "output_type": "stream",
     "text": [
      "Collecting fipy\n",
      "  Downloading FiPy-3.4.2.1.tar.gz (6.0 MB)\n",
      "\u001b[K     |████████████████████████████████| 6.0 MB 1.5 MB/s eta 0:00:01\n",
      "\u001b[?25hRequirement already satisfied: future in /usr/lib/python3/dist-packages (from fipy) (0.18.2)\n",
      "Requirement already satisfied: matplotlib in /home/juan/.local/lib/python3.8/site-packages (from fipy) (3.2.2)\n",
      "Requirement already satisfied: numpy in /home/juan/.local/lib/python3.8/site-packages (from fipy) (1.19.0)\n",
      "Requirement already satisfied: scipy in /home/juan/.local/lib/python3.8/site-packages (from fipy) (1.5.1)\n",
      "Requirement already satisfied: cycler>=0.10 in /home/juan/.local/lib/python3.8/site-packages (from matplotlib->fipy) (0.10.0)\n",
      "Requirement already satisfied: kiwisolver>=1.0.1 in /home/juan/.local/lib/python3.8/site-packages (from matplotlib->fipy) (1.2.0)\n",
      "Requirement already satisfied: pyparsing!=2.0.4,!=2.1.2,!=2.1.6,>=2.0.1 in /home/juan/.local/lib/python3.8/site-packages (from matplotlib->fipy) (2.4.7)\n",
      "Requirement already satisfied: python-dateutil>=2.1 in /home/juan/.local/lib/python3.8/site-packages (from matplotlib->fipy) (2.8.2)\n",
      "Requirement already satisfied: six in /usr/lib/python3/dist-packages (from cycler>=0.10->matplotlib->fipy) (1.14.0)\n",
      "Building wheels for collected packages: fipy\n",
      "  Building wheel for fipy (setup.py) ... \u001b[?25ldone\n",
      "\u001b[?25h  Created wheel for fipy: filename=FiPy-3.4.2.1-py3-none-any.whl size=428095 sha256=ab68e0529dbcb3aead74a685a406f26c8d67de536e01cda35925199fa984dbb1\n",
      "  Stored in directory: /home/juan/.cache/pip/wheels/88/c7/c7/d81adcb8e9574c321345f40384f69b3e2b366d755747555250\n",
      "Successfully built fipy\n",
      "Installing collected packages: fipy\n",
      "Successfully installed fipy-3.4.2.1\n"
     ]
    }
   ],
   "source": [
    "!pip install  fipy "
   ]
  },
  {
   "cell_type": "code",
   "execution_count": 3,
   "id": "0c5e19f2",
   "metadata": {
    "_cell_guid": "b1076dfc-b9ad-4769-8c92-a6c4dae69d19",
    "_uuid": "8f2839f25d086af736a60e9eeb907d3b93b6e0e5",
    "execution": {
     "iopub.execute_input": "2021-05-11T17:37:57.116533Z",
     "iopub.status.busy": "2021-05-11T17:37:57.115753Z",
     "iopub.status.idle": "2021-05-11T17:37:57.654026Z",
     "shell.execute_reply": "2021-05-11T17:37:57.652643Z"
    },
    "papermill": {
     "duration": 0.5828,
     "end_time": "2021-05-11T17:37:57.654275",
     "exception": false,
     "start_time": "2021-05-11T17:37:57.071475",
     "status": "completed"
    },
    "tags": []
   },
   "outputs": [],
   "source": [
    "from scipy.special import erf  \n",
    "import numpy as np\n",
    "import matplotlib.pyplot as plt\n",
    "from fipy import Variable, FaceVariable, CellVariable, Grid1D, ExplicitDiffusionTerm, TransientTerm, DiffusionTerm, Viewer\n",
    "from IPython.display import Latex"
   ]
  },
  {
   "cell_type": "markdown",
   "id": "1697bf6a",
   "metadata": {
    "papermill": {
     "duration": 0.03778,
     "end_time": "2021-05-11T17:37:57.729696",
     "exception": false,
     "start_time": "2021-05-11T17:37:57.691916",
     "status": "completed"
    },
    "tags": []
   },
   "source": [
    "## Solucion numerica del problema de difusión\n",
    "### Conducción no estacionaria en tranferencia de calor\n",
    "\n",
    "$$\\frac{\\partial T}{\\partial t} = D \\nabla^2 T.$$\n",
    "\n",
    "### Caso 1: Problema sólido sometido a una condición inicial de Temperatura."
   ]
  },
  {
   "cell_type": "code",
   "execution_count": 5,
   "id": "d9418e9c",
   "metadata": {
    "execution": {
     "iopub.execute_input": "2021-05-11T17:37:57.816477Z",
     "iopub.status.busy": "2021-05-11T17:37:57.815263Z",
     "iopub.status.idle": "2021-05-11T17:37:57.829856Z",
     "shell.execute_reply": "2021-05-11T17:37:57.829012Z"
    },
    "papermill": {
     "duration": 0.062204,
     "end_time": "2021-05-11T17:37:57.830031",
     "exception": false,
     "start_time": "2021-05-11T17:37:57.767827",
     "status": "completed"
    },
    "tags": []
   },
   "outputs": [],
   "source": [
    "### Geometría\n",
    "nx = 50\n",
    "Lx = 30e-2\n",
    "dx = Lx/nx\n",
    "T0 = 10.\n",
    "T1 = 20.\n",
    "#Definicion de una malla\n",
    "mesh = Grid1D(Lx=Lx, dx = dx)\n",
    "#acceso a los nodos de la malla\n",
    "x = mesh.cellCenters[0]\n",
    "\n",
    "#Definición de la variable solución del problema: T\n",
    "T = CellVariable(name=\"Temperatura\",mesh=mesh, value=T0)\n",
    "\n",
    "#Valor Inicial de la solución\n",
    "T.setValue(T0)\n",
    "\n",
    "#Parámetro Físico de la ecuacion: Difusión a\n",
    "a = 0.27e-5  #ladrillo\n",
    "\n",
    "# Condiciones de Borde Dirichlet 0 y 1\n",
    "valueLeft = T1\n",
    "valueRight = T0\n",
    "# Condicion de Borde Neumann en 0\n",
    "GradValueLeft = -1  #estos es qs/lambda\n",
    "\n",
    "# Aplicacion sobre la variable solucion del problema\n",
    "T.constrain(valueRight, mesh.facesRight)\n",
    "T.constrain(valueLeft, mesh.facesLeft)\n",
    "#T.faceGrad.constrain(-1,mesh.facesLeft)"
   ]
  },
  {
   "cell_type": "markdown",
   "id": "dd90e151",
   "metadata": {
    "papermill": {
     "duration": 0.037075,
     "end_time": "2021-05-11T17:37:57.904624",
     "exception": false,
     "start_time": "2021-05-11T17:37:57.867549",
     "status": "completed"
    },
    "tags": []
   },
   "source": [
    "El incremento de tiempo máximo admisible se estima $\\Delta t \\le \\Delta x^2 / (2 a)$.\n",
    "Una fracción de ese valor asegura que el cálculo numérico sea estable.\n",
    "\n"
   ]
  },
  {
   "cell_type": "code",
   "execution_count": 6,
   "id": "bf6a0cca",
   "metadata": {
    "execution": {
     "iopub.execute_input": "2021-05-11T17:37:57.991627Z",
     "iopub.status.busy": "2021-05-11T17:37:57.990478Z",
     "iopub.status.idle": "2021-05-11T17:37:58.004906Z",
     "shell.execute_reply": "2021-05-11T17:37:58.004247Z"
    },
    "papermill": {
     "duration": 0.062345,
     "end_time": "2021-05-11T17:37:58.005086",
     "exception": false,
     "start_time": "2021-05-11T17:37:57.942741",
     "status": "completed"
    },
    "tags": []
   },
   "outputs": [],
   "source": [
    "# Definicion de la variable tiempo\n",
    "delta_tiempo = 0.5 * dx**2 / (2 * a)\n",
    "\n",
    "# Horizonte de tiempo \"corto\"\n",
    "Fourier = 0.035  # t *a / x\n",
    "t_final = Fourier * Lx/a\n",
    "pasos = np.int(t_final / delta_tiempo)\n",
    "\n",
    "tiempo = np.linspace(0,t_final,pasos)\n",
    "\n",
    "# Definición de la ecuación a resolver: Ecuacion de Fourier\n",
    "# Se trata de un termino transitorio y un termino difusivo\n",
    "# Se define un objeto ecuacion:    eqX\n",
    "eqX = TransientTerm() == ExplicitDiffusionTerm(coeff=a)  \n",
    "\n",
    "#Opcional para este problema introductorio, comparación con el resultado analítico\n",
    "T_Analytical_1 = CellVariable(name=\"Temperatura analítica\", mesh=mesh)\n",
    "T_Analytical_2 = CellVariable(name=\"Temperatura analítica\", mesh=mesh)\n",
    "# Evaluamos en el tiempo final\n",
    "T_Analytical_1.setValue(T0+(T1-T0)*(1 - erf(x / (2 * np.sqrt(a * t_final))))) \n",
    "T_Analytical_2.setValue(T0+(T1-T0)*(1 - erf(x / (2 * np.sqrt(a * t_final/2))))) \n",
    "#T_Analytical.setValue(0 - GradValueLeft *( np.sqrt(4*a*t_final/np.pi)*np.exp(-x**2/(4*a*t_final))-x*(1-erf(x/(4*a*t_final)**.5) ) ) )"
   ]
  },
  {
   "cell_type": "code",
   "execution_count": 7,
   "id": "0b6a5f6a",
   "metadata": {
    "execution": {
     "iopub.execute_input": "2021-05-11T17:37:58.091176Z",
     "iopub.status.busy": "2021-05-11T17:37:58.090419Z",
     "iopub.status.idle": "2021-05-11T17:37:58.096135Z",
     "shell.execute_reply": "2021-05-11T17:37:58.096949Z"
    },
    "papermill": {
     "duration": 0.053784,
     "end_time": "2021-05-11T17:37:58.097151",
     "exception": false,
     "start_time": "2021-05-11T17:37:58.043367",
     "status": "completed"
    },
    "tags": []
   },
   "outputs": [
    {
     "data": {
      "text/latex": [
       "$\\Delta t$=3.3 s"
      ],
      "text/plain": [
       "<IPython.core.display.Latex object>"
      ]
     },
     "metadata": {},
     "output_type": "display_data"
    },
    {
     "data": {
      "text/latex": [
       "$T_{final}$=3888.9 s"
      ],
      "text/plain": [
       "<IPython.core.display.Latex object>"
      ]
     },
     "metadata": {},
     "output_type": "display_data"
    },
    {
     "data": {
      "text/latex": [
       "Pasos de tiempo: 1166"
      ],
      "text/plain": [
       "<IPython.core.display.Latex object>"
      ]
     },
     "metadata": {},
     "output_type": "display_data"
    }
   ],
   "source": [
    "display(Latex('$\\Delta t$=%.2g s'%delta_tiempo))\n",
    "display(Latex('$T_{final}$=%.1f s'%t_final))\n",
    "display(Latex('Pasos de tiempo: %0d'%tiempo.shape[0]))\n"
   ]
  },
  {
   "cell_type": "code",
   "execution_count": 8,
   "id": "f6e7643b",
   "metadata": {
    "execution": {
     "iopub.execute_input": "2021-05-11T17:37:58.180109Z",
     "iopub.status.busy": "2021-05-11T17:37:58.179379Z",
     "iopub.status.idle": "2021-05-11T17:38:13.247960Z",
     "shell.execute_reply": "2021-05-11T17:38:13.246486Z"
    },
    "papermill": {
     "duration": 15.111551,
     "end_time": "2021-05-11T17:38:13.248194",
     "exception": false,
     "start_time": "2021-05-11T17:37:58.136643",
     "status": "completed"
    },
    "tags": []
   },
   "outputs": [],
   "source": [
    "# Preparación de la salida gráfica. Se visualizará la solución y la referencia analítica\n",
    "#viewer = Viewer(vars=(T,T_Analytical) )\n",
    "perfil_temp = np.tile(np.zeros_like(T.value),(pasos,1))\n",
    "# Resolución de la ecuación diferencial para cada paso temporal \n",
    "T.setValue(T0)\n",
    "for i,tiempo_i in enumerate(tiempo):\n",
    "    perfil_temp[i] = T.value\n",
    "    eqX.solve(var=T,dt=delta_tiempo)\n",
    "    #if __name__ == '__main__':\n",
    "       # viewer.plot()#('1Dtransient_%0d.png'%step)\n",
    "    "
   ]
  },
  {
   "cell_type": "code",
   "execution_count": 9,
   "id": "cc20570c",
   "metadata": {
    "execution": {
     "iopub.execute_input": "2021-05-11T17:38:13.357936Z",
     "iopub.status.busy": "2021-05-11T17:38:13.357074Z",
     "iopub.status.idle": "2021-05-11T17:38:13.807853Z",
     "shell.execute_reply": "2021-05-11T17:38:13.806924Z"
    },
    "papermill": {
     "duration": 0.519275,
     "end_time": "2021-05-11T17:38:13.808034",
     "exception": false,
     "start_time": "2021-05-11T17:38:13.288759",
     "status": "completed"
    },
    "tags": []
   },
   "outputs": [
    {
     "data": {
      "image/png": "[encoded data removed]",
      "text/plain": [
       "<Figure size 432x288 with 1 Axes>"
      ]
     },
     "metadata": {
      "needs_background": "light"
     },
     "output_type": "display_data"
    }
   ],
   "source": [
    "#Creamos un objeto para graficar: una figura y sus ejes\n",
    "fig0,ax0  = plt.subplots()\n",
    "\n",
    "#indice que corresponde a la mitad del tiempo final\n",
    "i = np.abs(tiempo-t_final/2).argmin()\n",
    "\n",
    "# plots sobre los ejes de los perfiles de temperatura calculados\n",
    "lin1, = ax0.plot(x.value,perfil_temp[i],label='%.1f s'%tiempo[i],marker='s',linestyle='')\n",
    "lin2, = ax0.plot(x.value,perfil_temp[-1],label='%.1f s'%t_final,marker='o',linestyle = '')\n",
    "\n",
    "# plots de los perfiles analíticos\n",
    "ax0.plot(x.value,T_Analytical_2.value,label= r'Analítica $t_f/2$',color = lin1.get_color())\n",
    "ax0.plot(x.value,T_Analytical_1.value,label= r'Analítica $t_f$',color = lin2.get_color())\n",
    "ax0.legend()\n",
    "ax0.set_xlabel('x [m]')\n",
    "ax0.set_ylabel('T [$^\\circ$C]');"
   ]
  },
  {
   "cell_type": "markdown",
   "id": "cc3471be",
   "metadata": {
    "papermill": {
     "duration": 0.040181,
     "end_time": "2021-05-11T17:38:13.888751",
     "exception": false,
     "start_time": "2021-05-11T17:38:13.848570",
     "status": "completed"
    },
    "tags": []
   },
   "source": [
    "### Caso 2: Problema sólido sometido a un flujo de calor constante."
   ]
  },
  {
   "cell_type": "code",
   "execution_count": 10,
   "id": "05555489",
   "metadata": {
    "execution": {
     "iopub.execute_input": "2021-05-11T17:38:13.975218Z",
     "iopub.status.busy": "2021-05-11T17:38:13.974462Z",
     "iopub.status.idle": "2021-05-11T17:38:13.987991Z",
     "shell.execute_reply": "2021-05-11T17:38:13.988567Z"
    },
    "papermill": {
     "duration": 0.059603,
     "end_time": "2021-05-11T17:38:13.988806",
     "exception": false,
     "start_time": "2021-05-11T17:38:13.929203",
     "status": "completed"
    },
    "tags": []
   },
   "outputs": [],
   "source": [
    "### Geometría\n",
    "nx = 50\n",
    "Lx = 30e-2\n",
    "dx = Lx/nx\n",
    "T0 = 10.\n",
    "T1 = 20.\n",
    "#Definicion de una malla\n",
    "mesh = Grid1D(Lx=Lx, dx = dx)\n",
    "#acceso a los nodos de la malla\n",
    "x = mesh.cellCenters[0]\n",
    "\n",
    "#Definición de la variable solución del problema: T\n",
    "T = CellVariable(name=\"Temperatura\",mesh=mesh, value=T0)\n",
    "\n",
    "#Valor Inicial de la solución\n",
    "T.setValue(T0)\n",
    "\n",
    "#Parámetro Físico de la ecuacion: Difusión a\n",
    "a = 0.27e-5  #ladrillo\n",
    "\n",
    "# Condiciones de Borde Dirichlet 0 y 1\n",
    "valueRight = T0\n",
    "# Condicion de Borde Neuman en 0\n",
    "GradValueLeft = -20  #estos es qs/lambda\n",
    "\n",
    "# Aplicacion sobre la variable solucion del problema\n",
    "T.constrain(valueRight, mesh.facesRight)\n",
    "T.faceGrad.constrain(GradValueLeft,mesh.facesLeft)"
   ]
  },
  {
   "cell_type": "code",
   "execution_count": 16,
   "id": "1a4e6f37",
   "metadata": {
    "execution": {
     "iopub.execute_input": "2021-05-11T17:38:14.074869Z",
     "iopub.status.busy": "2021-05-11T17:38:14.074077Z",
     "iopub.status.idle": "2021-05-11T17:38:14.091542Z",
     "shell.execute_reply": "2021-05-11T17:38:14.092089Z"
    },
    "papermill": {
     "duration": 0.062928,
     "end_time": "2021-05-11T17:38:14.092338",
     "exception": false,
     "start_time": "2021-05-11T17:38:14.029410",
     "status": "completed"
    },
    "tags": []
   },
   "outputs": [],
   "source": [
    "# Definicion de la variable tiempo\n",
    "delta_tiempo = 0.5 * dx**2 / (2 * a)\n",
    "\n",
    "# Horizonte de tiempo \"corto\"\n",
    "Fourier = 0.035  # t *a / x\n",
    "t_final = Fourier * Lx/a\n",
    "pasos = np.int(t_final / delta_tiempo)\n",
    "\n",
    "tiempo = np.linspace(0,t_final,pasos)\n",
    "\n",
    "# Definición de la ecuación a resolver: Ecuacion de Fourier\n",
    "# Se trata de un termino transitorio y un termino difusivo\n",
    "# Se define un objeto ecuacion:    eqX\n",
    "eqX = TransientTerm() == ExplicitDiffusionTerm(coeff=a)  \n",
    "\n",
    "#Opcional para este problema introductorio, comparación con el resultado analítico\n",
    "T_Analytical = CellVariable(name=\"Temperatura analítica tf\", mesh=mesh)\n",
    "T_Analytical2 = CellVariable(name=\"Temperatura analítica tf/2\", mesh=mesh)\n",
    "# Evaluamos en el tiempo final\n",
    "T_Analytical.setValue(T0 - GradValueLeft *( np.sqrt(4*a*t_final/np.pi)*np.exp(-x**2/(4*a*t_final))-x*(1-erf(x/(4*a*t_final)**.5) ) ) )\n",
    "T_Analytical2.setValue(T0 - GradValueLeft *( np.sqrt(4*a*t_final/2/np.pi)*np.exp(-x**2/(4*a*t_final/2))-x*(1-erf(x/(4*a*t_final/2)**.5) ) ) )"
   ]
  },
  {
   "cell_type": "code",
   "execution_count": 12,
   "id": "e243b451",
   "metadata": {
    "execution": {
     "iopub.execute_input": "2021-05-11T17:38:14.179461Z",
     "iopub.status.busy": "2021-05-11T17:38:14.178720Z",
     "iopub.status.idle": "2021-05-11T17:38:28.661031Z",
     "shell.execute_reply": "2021-05-11T17:38:28.661549Z"
    },
    "papermill": {
     "duration": 14.527745,
     "end_time": "2021-05-11T17:38:28.661770",
     "exception": false,
     "start_time": "2021-05-11T17:38:14.134025",
     "status": "completed"
    },
    "tags": []
   },
   "outputs": [],
   "source": [
    "# Preparación de la salida gráfica. Se visualizará la solución y la referencia analítica\n",
    "#viewer = Viewer(vars=(T,T_Analytical) )\n",
    "perfil_temp2 = np.tile(np.zeros_like(T.value),(pasos,1))\n",
    "# Resolución de la ecuación diferencial para cada paso temporal \n",
    "T.setValue(T0)\n",
    "for i,tiempo_i in enumerate(tiempo):\n",
    "    perfil_temp2[i] = T.value\n",
    "    eqX.solve(var=T,dt=delta_tiempo)\n",
    "\n",
    "    "
   ]
  },
  {
   "cell_type": "code",
   "execution_count": 17,
   "id": "1da13b16",
   "metadata": {
    "execution": {
     "iopub.execute_input": "2021-05-11T17:38:28.772310Z",
     "iopub.status.busy": "2021-05-11T17:38:28.771492Z",
     "iopub.status.idle": "2021-05-11T17:38:28.946470Z",
     "shell.execute_reply": "2021-05-11T17:38:28.946979Z"
    },
    "papermill": {
     "duration": 0.243864,
     "end_time": "2021-05-11T17:38:28.947194",
     "exception": false,
     "start_time": "2021-05-11T17:38:28.703330",
     "status": "completed"
    },
    "tags": []
   },
   "outputs": [
    {
     "data": {
      "image/png": "[encoded data removed]",
      "text/plain": [
       "<Figure size 432x288 with 1 Axes>"
      ]
     },
     "metadata": {
      "needs_background": "light"
     },
     "output_type": "display_data"
    }
   ],
   "source": [
    "fig1,ax1  = plt.subplots()\n",
    "\n",
    "i = np.abs(tiempo-t_final/2).argmin()\n",
    "lin1, = ax1.plot(x.value,perfil_temp2[i],label='%.1f s'%tiempo[i],marker='o',linestyle='',markerfacecolor='None')\n",
    "lin2, = ax1.plot(x.value,perfil_temp2[-1],label='%.1f s'%t_final,marker='o',linestyle='',markerfacecolor='None')\n",
    "ax1.plot(x.value,T_Analytical2.value,label= r'Analítica',color = lin1.get_color())\n",
    "ax1.plot(x.value,T_Analytical.value,label= r'Analítica',color = lin2.get_color())\n",
    "\n",
    "ax1.legend()\n",
    "ax1.set_xlabel('x [m]')\n",
    "ax1.set_ylabel('T [$^\\circ$C]');"
   ]
  },
  {
   "cell_type": "code",
   "execution_count": null,
   "id": "5fa84127",
   "metadata": {},
   "outputs": [],
   "source": []
  },
  {
   "cell_type": "markdown",
   "id": "800bd87b",
   "metadata": {
    "papermill": {
     "duration": 0.040181,
     "end_time": "2021-05-11T17:38:13.888751",
     "exception": false,
     "start_time": "2021-05-11T17:38:13.848570",
     "status": "completed"
    },
    "tags": []
   },
   "source": [
    "### Caso 2: Problema sólido sometido a un pulso de energía"
   ]
  },
  {
   "cell_type": "code",
   "execution_count": 31,
   "id": "a38a4a0f",
   "metadata": {
    "execution": {
     "iopub.execute_input": "2021-05-11T17:38:13.975218Z",
     "iopub.status.busy": "2021-05-11T17:38:13.974462Z",
     "iopub.status.idle": "2021-05-11T17:38:13.987991Z",
     "shell.execute_reply": "2021-05-11T17:38:13.988567Z"
    },
    "papermill": {
     "duration": 0.059603,
     "end_time": "2021-05-11T17:38:13.988806",
     "exception": false,
     "start_time": "2021-05-11T17:38:13.929203",
     "status": "completed"
    },
    "tags": []
   },
   "outputs": [],
   "source": [
    "### Geometría\n",
    "nx = 50\n",
    "Lx = 30e-2\n",
    "dx = Lx/nx\n",
    "T0 = 10.\n",
    "T1 = 20.\n",
    "#Definicion de una malla\n",
    "mesh = Grid1D(Lx=Lx, dx = dx)\n",
    "#acceso a los nodos de la malla\n",
    "x = mesh.cellCenters[0]\n",
    "\n",
    "#Definición de la variable solución del problema: T\n",
    "T = CellVariable(name=\"Temperatura\",mesh=mesh, value=T0)\n",
    "\n",
    "#Valor Inicial de la solución\n",
    "T.setValue(T0)\n",
    "\n",
    "#Parámetro Físico de la ecuacion: Difusión a\n",
    "a = 0.27e-5  #ladrillo\n",
    "\n",
    "# Condiciones de Borde Dirichlet 0 y 1\n",
    "valueRight = T0\n",
    "# Condicion de Borde Neuman en 0\n",
    "GradValueLeft = -20  #estos es qs/lambda\n",
    "\n",
    "# Aplicacion sobre la variable solucion del problema\n",
    "T.constrain(valueRight, mesh.facesRight)\n",
    "time = Variable()\n",
    "GradValueLeft = -20*np.sin(2*np.pi*10*time) \n",
    "T.faceGrad.constrain(GradValueLeft,mesh.facesLeft)"
   ]
  },
  {
   "cell_type": "code",
   "execution_count": 32,
   "id": "9b7b7ec2",
   "metadata": {
    "execution": {
     "iopub.execute_input": "2021-05-11T17:38:14.074869Z",
     "iopub.status.busy": "2021-05-11T17:38:14.074077Z",
     "iopub.status.idle": "2021-05-11T17:38:14.091542Z",
     "shell.execute_reply": "2021-05-11T17:38:14.092089Z"
    },
    "papermill": {
     "duration": 0.062928,
     "end_time": "2021-05-11T17:38:14.092338",
     "exception": false,
     "start_time": "2021-05-11T17:38:14.029410",
     "status": "completed"
    },
    "tags": []
   },
   "outputs": [],
   "source": [
    "# Definicion de la variable tiempo\n",
    "delta_tiempo = 0.5 * dx**2 / (2 * a)\n",
    "\n",
    "# Horizonte de tiempo \"corto\"\n",
    "Fourier = 0.035  # t *a / x\n",
    "t_final = Fourier * Lx/a\n",
    "pasos = np.int(t_final / delta_tiempo)\n",
    "\n",
    "\n",
    "\n",
    "# Definición de la ecuación a resolver: Ecuacion de Fourier\n",
    "# Se trata de un termino transitorio y un termino difusivo\n",
    "# Se define un objeto ecuacion:    eqX\n",
    "eqX = TransientTerm() == ExplicitDiffusionTerm(coeff=a)  \n",
    "\n",
    "#Opcional para este problema introductorio, comparación con el resultado analítico\n",
    "T_Analytical = CellVariable(name=\"Temperatura analítica tf\", mesh=mesh)\n",
    "T_Analytical2 = CellVariable(name=\"Temperatura analítica tf/2\", mesh=mesh)\n",
    "# Evaluamos en el tiempo final\n"
   ]
  },
  {
   "cell_type": "code",
   "execution_count": 27,
   "id": "1128ea3b",
   "metadata": {
    "execution": {
     "iopub.execute_input": "2021-05-11T17:38:14.179461Z",
     "iopub.status.busy": "2021-05-11T17:38:14.178720Z",
     "iopub.status.idle": "2021-05-11T17:38:28.661031Z",
     "shell.execute_reply": "2021-05-11T17:38:28.661549Z"
    },
    "papermill": {
     "duration": 14.527745,
     "end_time": "2021-05-11T17:38:28.661770",
     "exception": false,
     "start_time": "2021-05-11T17:38:14.134025",
     "status": "completed"
    },
    "tags": []
   },
   "outputs": [
    {
     "ename": "IndexError",
     "evalue": "boolean index did not match indexed array along dimension 0; dimension is 1166 but corresponding boolean dimension is 50",
     "output_type": "error",
     "traceback": [
      "\u001b[0;31m---------------------------------------------------------------------------\u001b[0m",
      "\u001b[0;31mValueError\u001b[0m                                Traceback (most recent call last)",
      "\u001b[0;32m~/.local/lib/python3.8/site-packages/fipy/variables/variable.py\u001b[0m in \u001b[0;36m_getValue\u001b[0;34m(self)\u001b[0m\n\u001b[1;32m    513\u001b[0m                         \u001b[0;32mtry\u001b[0m\u001b[0;34m:\u001b[0m\u001b[0;34m\u001b[0m\u001b[0;34m\u001b[0m\u001b[0m\n\u001b[0;32m--> 514\u001b[0;31m                             \u001b[0mvalue\u001b[0m\u001b[0;34m[\u001b[0m\u001b[0;34m...\u001b[0m\u001b[0;34m,\u001b[0m \u001b[0mmask\u001b[0m\u001b[0;34m]\u001b[0m \u001b[0;34m=\u001b[0m \u001b[0mconstraint\u001b[0m\u001b[0;34m.\u001b[0m\u001b[0mvalue\u001b[0m\u001b[0;34m\u001b[0m\u001b[0;34m\u001b[0m\u001b[0m\n\u001b[0m\u001b[1;32m    515\u001b[0m                         \u001b[0;32mexcept\u001b[0m\u001b[0;34m:\u001b[0m\u001b[0;34m\u001b[0m\u001b[0;34m\u001b[0m\u001b[0m\n",
      "\u001b[0;31mValueError\u001b[0m: shape mismatch: value array of shape (1166,) could not be broadcast to indexing result of shape (1,1)",
      "\nDuring handling of the above exception, another exception occurred:\n",
      "\u001b[0;31mIndexError\u001b[0m                                Traceback (most recent call last)",
      "\u001b[0;32m<ipython-input-27-973dd99ee976>\u001b[0m in \u001b[0;36m<module>\u001b[0;34m\u001b[0m\n\u001b[1;32m      6\u001b[0m \u001b[0;32mfor\u001b[0m \u001b[0mi\u001b[0m\u001b[0;34m,\u001b[0m\u001b[0mtiempo_i\u001b[0m \u001b[0;32min\u001b[0m \u001b[0menumerate\u001b[0m\u001b[0;34m(\u001b[0m\u001b[0mtiempo\u001b[0m\u001b[0;34m)\u001b[0m\u001b[0;34m:\u001b[0m\u001b[0;34m\u001b[0m\u001b[0;34m\u001b[0m\u001b[0m\n\u001b[1;32m      7\u001b[0m     \u001b[0mperfil_temp2\u001b[0m\u001b[0;34m[\u001b[0m\u001b[0mi\u001b[0m\u001b[0;34m]\u001b[0m \u001b[0;34m=\u001b[0m \u001b[0mT\u001b[0m\u001b[0;34m.\u001b[0m\u001b[0mvalue\u001b[0m\u001b[0;34m\u001b[0m\u001b[0;34m\u001b[0m\u001b[0m\n\u001b[0;32m----> 8\u001b[0;31m     \u001b[0meqX\u001b[0m\u001b[0;34m.\u001b[0m\u001b[0msolve\u001b[0m\u001b[0;34m(\u001b[0m\u001b[0mvar\u001b[0m\u001b[0;34m=\u001b[0m\u001b[0mT\u001b[0m\u001b[0;34m,\u001b[0m\u001b[0mdt\u001b[0m\u001b[0;34m=\u001b[0m\u001b[0mdelta_tiempo\u001b[0m\u001b[0;34m)\u001b[0m\u001b[0;34m\u001b[0m\u001b[0;34m\u001b[0m\u001b[0m\n\u001b[0m\u001b[1;32m      9\u001b[0m \u001b[0;34m\u001b[0m\u001b[0m\n\u001b[1;32m     10\u001b[0m \u001b[0;34m\u001b[0m\u001b[0m\n",
      "\u001b[0;32m~/.local/lib/python3.8/site-packages/fipy/terms/term.py\u001b[0m in \u001b[0;36msolve\u001b[0;34m(self, var, solver, boundaryConditions, dt)\u001b[0m\n\u001b[1;32m    174\u001b[0m         \"\"\"\n\u001b[1;32m    175\u001b[0m \u001b[0;34m\u001b[0m\u001b[0m\n\u001b[0;32m--> 176\u001b[0;31m         \u001b[0msolver\u001b[0m \u001b[0;34m=\u001b[0m \u001b[0mself\u001b[0m\u001b[0;34m.\u001b[0m\u001b[0m_prepareLinearSystem\u001b[0m\u001b[0;34m(\u001b[0m\u001b[0mvar\u001b[0m\u001b[0;34m,\u001b[0m \u001b[0msolver\u001b[0m\u001b[0;34m,\u001b[0m \u001b[0mboundaryConditions\u001b[0m\u001b[0;34m,\u001b[0m \u001b[0mdt\u001b[0m\u001b[0;34m)\u001b[0m\u001b[0;34m\u001b[0m\u001b[0;34m\u001b[0m\u001b[0m\n\u001b[0m\u001b[1;32m    177\u001b[0m \u001b[0;34m\u001b[0m\u001b[0m\n\u001b[1;32m    178\u001b[0m         \u001b[0msolver\u001b[0m\u001b[0;34m.\u001b[0m\u001b[0m_solve\u001b[0m\u001b[0;34m(\u001b[0m\u001b[0;34m)\u001b[0m\u001b[0;34m\u001b[0m\u001b[0;34m\u001b[0m\u001b[0m\n",
      "\u001b[0;32m~/.local/lib/python3.8/site-packages/fipy/terms/term.py\u001b[0m in \u001b[0;36m_prepareLinearSystem\u001b[0;34m(self, var, solver, boundaryConditions, dt)\u001b[0m\n\u001b[1;32m    122\u001b[0m                 \u001b[0mTerm\u001b[0m\u001b[0;34m.\u001b[0m\u001b[0m_viewer\u001b[0m \u001b[0;34m=\u001b[0m \u001b[0mMatplotlibSparseMatrixViewer\u001b[0m\u001b[0;34m(\u001b[0m\u001b[0;34m)\u001b[0m\u001b[0;34m\u001b[0m\u001b[0;34m\u001b[0m\u001b[0m\n\u001b[1;32m    123\u001b[0m \u001b[0;34m\u001b[0m\u001b[0m\n\u001b[0;32m--> 124\u001b[0;31m         var, matrix, RHSvector = self._buildAndAddMatrices(var,\n\u001b[0m\u001b[1;32m    125\u001b[0m                                                            \u001b[0mself\u001b[0m\u001b[0;34m.\u001b[0m\u001b[0m_getMatrixClass\u001b[0m\u001b[0;34m(\u001b[0m\u001b[0msolver\u001b[0m\u001b[0;34m,\u001b[0m \u001b[0mvar\u001b[0m\u001b[0;34m)\u001b[0m\u001b[0;34m,\u001b[0m\u001b[0;34m\u001b[0m\u001b[0;34m\u001b[0m\u001b[0m\n\u001b[1;32m    126\u001b[0m                                                            \u001b[0mboundaryConditions\u001b[0m\u001b[0;34m=\u001b[0m\u001b[0mboundaryConditions\u001b[0m\u001b[0;34m,\u001b[0m\u001b[0;34m\u001b[0m\u001b[0;34m\u001b[0m\u001b[0m\n",
      "\u001b[0;32m~/.local/lib/python3.8/site-packages/fipy/terms/binaryTerm.py\u001b[0m in \u001b[0;36m_buildAndAddMatrices\u001b[0;34m(self, var, SparseMatrix, boundaryConditions, dt, transientGeomCoeff, diffusionGeomCoeff, buildExplicitIfOther)\u001b[0m\n\u001b[1;32m     26\u001b[0m         \u001b[0;32mfor\u001b[0m \u001b[0mterm\u001b[0m \u001b[0;32min\u001b[0m \u001b[0;34m(\u001b[0m\u001b[0mself\u001b[0m\u001b[0;34m.\u001b[0m\u001b[0mterm\u001b[0m\u001b[0;34m,\u001b[0m \u001b[0mself\u001b[0m\u001b[0;34m.\u001b[0m\u001b[0mother\u001b[0m\u001b[0;34m)\u001b[0m\u001b[0;34m:\u001b[0m\u001b[0;34m\u001b[0m\u001b[0;34m\u001b[0m\u001b[0m\n\u001b[1;32m     27\u001b[0m \u001b[0;34m\u001b[0m\u001b[0m\n\u001b[0;32m---> 28\u001b[0;31m             tmpVar, tmpMatrix, tmpRHSvector = term._buildAndAddMatrices(var,\n\u001b[0m\u001b[1;32m     29\u001b[0m                                                                         \u001b[0mSparseMatrix\u001b[0m\u001b[0;34m,\u001b[0m\u001b[0;34m\u001b[0m\u001b[0;34m\u001b[0m\u001b[0m\n\u001b[1;32m     30\u001b[0m                                                                         \u001b[0mboundaryConditions\u001b[0m\u001b[0;34m=\u001b[0m\u001b[0mboundaryConditions\u001b[0m\u001b[0;34m,\u001b[0m\u001b[0;34m\u001b[0m\u001b[0;34m\u001b[0m\u001b[0m\n",
      "\u001b[0;32m~/.local/lib/python3.8/site-packages/fipy/terms/unaryTerm.py\u001b[0m in \u001b[0;36m_buildAndAddMatrices\u001b[0;34m(self, var, SparseMatrix, boundaryConditions, dt, transientGeomCoeff, diffusionGeomCoeff, buildExplicitIfOther)\u001b[0m\n\u001b[1;32m     60\u001b[0m \u001b[0;34m\u001b[0m\u001b[0m\n\u001b[1;32m     61\u001b[0m         \u001b[0;32mif\u001b[0m \u001b[0mvar\u001b[0m \u001b[0;32mis\u001b[0m \u001b[0mself\u001b[0m\u001b[0;34m.\u001b[0m\u001b[0mvar\u001b[0m \u001b[0;32mor\u001b[0m \u001b[0mself\u001b[0m\u001b[0;34m.\u001b[0m\u001b[0mvar\u001b[0m \u001b[0;32mis\u001b[0m \u001b[0;32mNone\u001b[0m\u001b[0;34m:\u001b[0m\u001b[0;34m\u001b[0m\u001b[0;34m\u001b[0m\u001b[0m\n\u001b[0;32m---> 62\u001b[0;31m             var, matrix, RHSvector = self._buildMatrix(var,\n\u001b[0m\u001b[1;32m     63\u001b[0m                                                        \u001b[0mSparseMatrix\u001b[0m\u001b[0;34m,\u001b[0m\u001b[0;34m\u001b[0m\u001b[0;34m\u001b[0m\u001b[0m\n\u001b[1;32m     64\u001b[0m                                                        \u001b[0mboundaryConditions\u001b[0m\u001b[0;34m=\u001b[0m\u001b[0mboundaryConditions\u001b[0m\u001b[0;34m,\u001b[0m\u001b[0;34m\u001b[0m\u001b[0;34m\u001b[0m\u001b[0m\n",
      "\u001b[0;32m~/.local/lib/python3.8/site-packages/fipy/terms/explicitDiffusionTerm.py\u001b[0m in \u001b[0;36m_buildMatrix\u001b[0;34m(self, var, SparseMatrix, boundaryConditions, dt, transientGeomCoeff, diffusionGeomCoeff)\u001b[0m\n\u001b[1;32m     29\u001b[0m             \u001b[0mvarOld\u001b[0m \u001b[0;34m=\u001b[0m \u001b[0mvar\u001b[0m\u001b[0;34m\u001b[0m\u001b[0;34m\u001b[0m\u001b[0m\n\u001b[1;32m     30\u001b[0m \u001b[0;34m\u001b[0m\u001b[0m\n\u001b[0;32m---> 31\u001b[0;31m         varOld, L, b = _AbstractDiffusionTerm._buildMatrix(self, varOld, SparseMatrix, boundaryConditions = boundaryConditions, dt = dt,\n\u001b[0m\u001b[1;32m     32\u001b[0m                                                   transientGeomCoeff=transientGeomCoeff, diffusionGeomCoeff=diffusionGeomCoeff)\n\u001b[1;32m     33\u001b[0m \u001b[0;34m\u001b[0m\u001b[0m\n",
      "\u001b[0;32m~/.local/lib/python3.8/site-packages/fipy/terms/abstractDiffusionTerm.py\u001b[0m in \u001b[0;36m_buildMatrix\u001b[0;34m(self, var, SparseMatrix, boundaryConditions, dt, transientGeomCoeff, diffusionGeomCoeff)\u001b[0m\n\u001b[1;32m    304\u001b[0m                         \u001b[0mcoeff\u001b[0m \u001b[0;34m=\u001b[0m \u001b[0mself\u001b[0m\u001b[0;34m.\u001b[0m\u001b[0mnthCoeff\u001b[0m\u001b[0;34m\u001b[0m\u001b[0;34m\u001b[0m\u001b[0m\n\u001b[1;32m    305\u001b[0m \u001b[0;34m\u001b[0m\u001b[0m\n\u001b[0;32m--> 306\u001b[0;31m                     \u001b[0mnthCoeffFaceGrad\u001b[0m \u001b[0;34m=\u001b[0m \u001b[0mcoeff\u001b[0m\u001b[0;34m[\u001b[0m\u001b[0mnumerix\u001b[0m\u001b[0;34m.\u001b[0m\u001b[0mnewaxis\u001b[0m\u001b[0;34m]\u001b[0m \u001b[0;34m*\u001b[0m \u001b[0mvar\u001b[0m\u001b[0;34m.\u001b[0m\u001b[0mfaceGrad\u001b[0m\u001b[0;34m[\u001b[0m\u001b[0;34m:\u001b[0m\u001b[0;34m,\u001b[0m \u001b[0mnumerix\u001b[0m\u001b[0;34m.\u001b[0m\u001b[0mnewaxis\u001b[0m\u001b[0;34m]\u001b[0m\u001b[0;34m\u001b[0m\u001b[0;34m\u001b[0m\u001b[0m\n\u001b[0m\u001b[1;32m    307\u001b[0m                     \u001b[0ms\u001b[0m \u001b[0;34m=\u001b[0m \u001b[0;34m(\u001b[0m\u001b[0mslice\u001b[0m\u001b[0;34m(\u001b[0m\u001b[0;36m0\u001b[0m\u001b[0;34m,\u001b[0m \u001b[0;32mNone\u001b[0m\u001b[0;34m,\u001b[0m \u001b[0;32mNone\u001b[0m\u001b[0;34m)\u001b[0m\u001b[0;34m,\u001b[0m\u001b[0;34m)\u001b[0m \u001b[0;34m+\u001b[0m \u001b[0;34m(\u001b[0m\u001b[0mnumerix\u001b[0m\u001b[0;34m.\u001b[0m\u001b[0mnewaxis\u001b[0m\u001b[0;34m,\u001b[0m\u001b[0;34m)\u001b[0m \u001b[0;34m*\u001b[0m \u001b[0;34m(\u001b[0m\u001b[0mlen\u001b[0m\u001b[0;34m(\u001b[0m\u001b[0mcoeff\u001b[0m\u001b[0;34m.\u001b[0m\u001b[0mshape\u001b[0m\u001b[0;34m)\u001b[0m \u001b[0;34m-\u001b[0m \u001b[0;36m1\u001b[0m\u001b[0;34m)\u001b[0m \u001b[0;34m+\u001b[0m \u001b[0;34m(\u001b[0m\u001b[0mslice\u001b[0m\u001b[0;34m(\u001b[0m\u001b[0;36m0\u001b[0m\u001b[0;34m,\u001b[0m \u001b[0;32mNone\u001b[0m\u001b[0;34m,\u001b[0m \u001b[0;32mNone\u001b[0m\u001b[0;34m)\u001b[0m\u001b[0;34m,\u001b[0m\u001b[0;34m)\u001b[0m\u001b[0;34m\u001b[0m\u001b[0;34m\u001b[0m\u001b[0m\n\u001b[1;32m    308\u001b[0m                     \u001b[0mnormalsNthCoeff\u001b[0m \u001b[0;34m=\u001b[0m \u001b[0mcoeff\u001b[0m\u001b[0;34m[\u001b[0m\u001b[0mnumerix\u001b[0m\u001b[0;34m.\u001b[0m\u001b[0mnewaxis\u001b[0m\u001b[0;34m]\u001b[0m \u001b[0;34m*\u001b[0m \u001b[0mnormals\u001b[0m\u001b[0;34m[\u001b[0m\u001b[0ms\u001b[0m\u001b[0;34m]\u001b[0m\u001b[0;34m\u001b[0m\u001b[0;34m\u001b[0m\u001b[0m\n",
      "\u001b[0;32m~/.local/lib/python3.8/site-packages/fipy/variables/variable.py\u001b[0m in \u001b[0;36m__getitem__\u001b[0;34m(self, index)\u001b[0m\n\u001b[1;32m   1459\u001b[0m                                            \u001b[0moperatorClass\u001b[0m\u001b[0;34m=\u001b[0m\u001b[0mself\u001b[0m\u001b[0;34m.\u001b[0m\u001b[0m_getitemClass\u001b[0m\u001b[0;34m(\u001b[0m\u001b[0mindex\u001b[0m\u001b[0;34m=\u001b[0m\u001b[0mindex\u001b[0m\u001b[0;34m)\u001b[0m\u001b[0;34m,\u001b[0m\u001b[0;34m\u001b[0m\u001b[0;34m\u001b[0m\u001b[0m\n\u001b[1;32m   1460\u001b[0m                                            \u001b[0mopShape\u001b[0m\u001b[0;34m=\u001b[0m\u001b[0mnumerix\u001b[0m\u001b[0;34m.\u001b[0m\u001b[0m_indexShape\u001b[0m\u001b[0;34m(\u001b[0m\u001b[0mindex\u001b[0m\u001b[0;34m=\u001b[0m\u001b[0mindex\u001b[0m\u001b[0;34m,\u001b[0m \u001b[0marrayShape\u001b[0m\u001b[0;34m=\u001b[0m\u001b[0mself\u001b[0m\u001b[0;34m.\u001b[0m\u001b[0mshape\u001b[0m\u001b[0;34m)\u001b[0m\u001b[0;34m,\u001b[0m\u001b[0;34m\u001b[0m\u001b[0;34m\u001b[0m\u001b[0m\n\u001b[0;32m-> 1461\u001b[0;31m                                            \u001b[0munit\u001b[0m\u001b[0;34m=\u001b[0m\u001b[0mself\u001b[0m\u001b[0;34m.\u001b[0m\u001b[0munit\u001b[0m\u001b[0;34m,\u001b[0m\u001b[0;34m\u001b[0m\u001b[0;34m\u001b[0m\u001b[0m\n\u001b[0m\u001b[1;32m   1462\u001b[0m                                            canInline=False)\n\u001b[1;32m   1463\u001b[0m \u001b[0;34m\u001b[0m\u001b[0m\n",
      "\u001b[0;32m~/.local/lib/python3.8/site-packages/fipy/variables/variable.py\u001b[0m in \u001b[0;36m_getUnit\u001b[0;34m(self)\u001b[0m\n\u001b[1;32m    221\u001b[0m             \u001b[0;34m<\u001b[0m\u001b[0mPhysicalUnit\u001b[0m \u001b[0mm\u001b[0m\u001b[0;34m>\u001b[0m\u001b[0;34m\u001b[0m\u001b[0;34m\u001b[0m\u001b[0m\n\u001b[1;32m    222\u001b[0m         \"\"\"\n\u001b[0;32m--> 223\u001b[0;31m         \u001b[0;32mreturn\u001b[0m \u001b[0mself\u001b[0m\u001b[0;34m.\u001b[0m\u001b[0m_extractUnit\u001b[0m\u001b[0;34m(\u001b[0m\u001b[0mself\u001b[0m\u001b[0;34m.\u001b[0m\u001b[0mvalue\u001b[0m\u001b[0;34m)\u001b[0m\u001b[0;34m\u001b[0m\u001b[0;34m\u001b[0m\u001b[0m\n\u001b[0m\u001b[1;32m    224\u001b[0m \u001b[0;34m\u001b[0m\u001b[0m\n\u001b[1;32m    225\u001b[0m     \u001b[0;32mdef\u001b[0m \u001b[0m_setUnit\u001b[0m\u001b[0;34m(\u001b[0m\u001b[0mself\u001b[0m\u001b[0;34m,\u001b[0m \u001b[0munit\u001b[0m\u001b[0;34m)\u001b[0m\u001b[0;34m:\u001b[0m\u001b[0;34m\u001b[0m\u001b[0;34m\u001b[0m\u001b[0m\n",
      "\u001b[0;32m~/.local/lib/python3.8/site-packages/fipy/variables/variable.py\u001b[0m in \u001b[0;36m_getValue\u001b[0;34m(self)\u001b[0m\n\u001b[1;32m    514\u001b[0m                             \u001b[0mvalue\u001b[0m\u001b[0;34m[\u001b[0m\u001b[0;34m...\u001b[0m\u001b[0;34m,\u001b[0m \u001b[0mmask\u001b[0m\u001b[0;34m]\u001b[0m \u001b[0;34m=\u001b[0m \u001b[0mconstraint\u001b[0m\u001b[0;34m.\u001b[0m\u001b[0mvalue\u001b[0m\u001b[0;34m\u001b[0m\u001b[0;34m\u001b[0m\u001b[0m\n\u001b[1;32m    515\u001b[0m                         \u001b[0;32mexcept\u001b[0m\u001b[0;34m:\u001b[0m\u001b[0;34m\u001b[0m\u001b[0;34m\u001b[0m\u001b[0m\n\u001b[0;32m--> 516\u001b[0;31m                             \u001b[0mvalue\u001b[0m\u001b[0;34m[\u001b[0m\u001b[0;34m...\u001b[0m\u001b[0;34m,\u001b[0m \u001b[0mmask\u001b[0m\u001b[0;34m]\u001b[0m \u001b[0;34m=\u001b[0m \u001b[0mnumerix\u001b[0m\u001b[0;34m.\u001b[0m\u001b[0marray\u001b[0m\u001b[0;34m(\u001b[0m\u001b[0mconstraint\u001b[0m\u001b[0;34m.\u001b[0m\u001b[0mvalue\u001b[0m\u001b[0;34m)\u001b[0m\u001b[0;34m[\u001b[0m\u001b[0;34m...\u001b[0m\u001b[0;34m,\u001b[0m \u001b[0mmask\u001b[0m\u001b[0;34m]\u001b[0m\u001b[0;34m\u001b[0m\u001b[0;34m\u001b[0m\u001b[0m\n\u001b[0m\u001b[1;32m    517\u001b[0m \u001b[0;34m\u001b[0m\u001b[0m\n\u001b[1;32m    518\u001b[0m         \u001b[0;32mreturn\u001b[0m \u001b[0mvalue\u001b[0m\u001b[0;34m\u001b[0m\u001b[0;34m\u001b[0m\u001b[0m\n",
      "\u001b[0;31mIndexError\u001b[0m: boolean index did not match indexed array along dimension 0; dimension is 1166 but corresponding boolean dimension is 50"
     ]
    }
   ],
   "source": [
    "# Preparación de la salida gráfica. Se visualizará la solución y la referencia analítica\n",
    "#viewer = Viewer(vars=(T,T_Analytical) )\n",
    "perfil_temp2 = np.tile(np.zeros_like(T.value),(pasos,1))\n",
    "# Resolución de la ecuación diferencial para cada paso temporal \n",
    "T.setValue(T0)\n",
    "for i,tiempo_i in enumerate(tiempo):\n",
    "    time.setValue(time() + delta_tiempo)\n",
    "    perfil_temp2[i] = T.value\n",
    "    eqX.solve(var=T,dt=delta_tiempo)\n",
    "\n",
    "    "
   ]
  },
  {
   "cell_type": "code",
   "execution_count": 17,
   "id": "8caeea1c",
   "metadata": {
    "execution": {
     "iopub.execute_input": "2021-05-11T17:38:28.772310Z",
     "iopub.status.busy": "2021-05-11T17:38:28.771492Z",
     "iopub.status.idle": "2021-05-11T17:38:28.946470Z",
     "shell.execute_reply": "2021-05-11T17:38:28.946979Z"
    },
    "papermill": {
     "duration": 0.243864,
     "end_time": "2021-05-11T17:38:28.947194",
     "exception": false,
     "start_time": "2021-05-11T17:38:28.703330",
     "status": "completed"
    },
    "tags": []
   },
   "outputs": [
    {
     "data": {
      "image/png": "[encoded data removed]",
      "text/plain": [
       "<Figure size 432x288 with 1 Axes>"
      ]
     },
     "metadata": {
      "needs_background": "light"
     },
     "output_type": "display_data"
    }
   ],
   "source": [
    "fig1,ax1  = plt.subplots()\n",
    "\n",
    "i = np.abs(tiempo-t_final/2).argmin()\n",
    "lin1, = ax1.plot(x.value,perfil_temp2[i],label='%.1f s'%tiempo[i],marker='o',linestyle='',markerfacecolor='None')\n",
    "lin2, = ax1.plot(x.value,perfil_temp2[-1],label='%.1f s'%t_final,marker='o',linestyle='',markerfacecolor='None')\n",
    "ax1.plot(x.value,T_Analytical2.value,label= r'Analítica',color = lin1.get_color())\n",
    "ax1.plot(x.value,T_Analytical.value,label= r'Analítica',color = lin2.get_color())\n",
    "\n",
    "ax1.legend()\n",
    "ax1.set_xlabel('x [m]')\n",
    "ax1.set_ylabel('T [$^\\circ$C]');"
   ]
  }
 ],
 "metadata": {
  "kernelspec": {
   "display_name": "Python 3",
   "language": "python",
   "name": "python3"
  },
  "language_info": {
   "codemirror_mode": {
    "name": "ipython",
    "version": 3
   },
   "file_extension": ".py",
   "mimetype": "text/x-python",
   "name": "python",
   "nbconvert_exporter": "python",
   "pygments_lexer": "ipython3",
   "version": "3.8.10"
  },
  "latex_envs": {
   "LaTeX_envs_menu_present": true,
   "autoclose": true,
   "autocomplete": true,
   "bibliofile": "biblio.bib",
   "cite_by": "apalike",
   "current_citInitial": 1,
   "eqLabelWithNumbers": true,
   "eqNumInitial": 1,
   "hotkeys": {
    "equation": "Ctrl-E",
    "itemize": "Ctrl-I"
   },
   "labels_anchors": false,
   "latex_user_defs": false,
   "report_style_numbering": false,
   "user_envs_cfg": false
  },
  "papermill": {
   "default_parameters": {},
   "duration": 65.950194,
   "end_time": "2021-05-11T17:38:30.002836",
   "environment_variables": {},
   "exception": null,
   "input_path": "__notebook__.ipynb",
   "output_path": "__notebook__.ipynb",
   "parameters": {},
   "start_time": "2021-05-11T17:37:24.052642",
   "version": "2.3.3"
  }
 },
 "nbformat": 4,
 "nbformat_minor": 5
}
