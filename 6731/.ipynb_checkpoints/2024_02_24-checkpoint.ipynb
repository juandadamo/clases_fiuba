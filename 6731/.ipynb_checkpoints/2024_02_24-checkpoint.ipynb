{
 "cells": [
  {
   "cell_type": "code",
   "execution_count": 1,
   "id": "c8bd94a3",
   "metadata": {
    "_kg_hide-input": true,
    "_kg_hide-output": true,
    "papermill": {
     "duration": 12.40044,
     "end_time": "2021-05-30T21:24:18.188788",
     "exception": false,
     "start_time": "2021-05-30T21:24:05.788348",
     "status": "completed"
    },
    "tags": []
   },
   "outputs": [
    {
     "name": "stdout",
     "output_type": "stream",
     "text": [
      "/bin/bash: línea 1: pip: orden no encontrada\n"
     ]
    }
   ],
   "source": [
    "!pip install ht CoolProp fluids"
   ]
  },
  {
   "cell_type": "code",
   "execution_count": 2,
   "id": "0faa0c8e",
   "metadata": {
    "_cell_guid": "b1076dfc-b9ad-4769-8c92-a6c4dae69d19",
    "_kg_hide-input": true,
    "_kg_hide-output": true,
    "_uuid": "8f2839f25d086af736a60e9eeb907d3b93b6e0e5",
    "papermill": {
     "duration": 0.12376,
     "end_time": "2021-05-30T21:24:18.340027",
     "exception": false,
     "start_time": "2021-05-30T21:24:18.216267",
     "status": "completed"
    },
    "tags": []
   },
   "outputs": [],
   "source": [
    "%matplotlib notebook\n",
    "import numpy as np # linear algebra\n",
    "import matplotlib.pyplot as plt\n",
    "import ht,fluids,os\n",
    "import CoolProp as cp\n",
    "from IPython.display import Latex\n",
    "from matplotlib.lines import Line2D\n",
    "MK = Line2D.markers\n",
    "mk = [mki for mki in MK.keys()][2:]"
   ]
  },
  {
   "cell_type": "code",
   "execution_count": 3,
   "id": "7267a22c",
   "metadata": {},
   "outputs": [],
   "source": [
    "Tia= 160\n",
    "Tsa = 300\n",
    "\n",
    "G_a = 230e3/3600\n",
    "\n",
    "Tig = 800\n",
    "\n",
    "G_g = 500e3/3600\n",
    "\n",
    "Tsg1 = Tia\n",
    "\n",
    "Trg = (Tsg1+Tig)/2\n",
    "Tra = (Tia+Tsa)/2\n",
    "\n",
    "Cp_w = cp.CoolProp.PropsSI('C','T',T_wm1+273,'P',101.3e3,'Water')\n",
    "Pr_w1 = cp.CoolProp.PropsSI('Prandtl','T',T_wm1+273,'P',101.3e3,'Water')\n",
    "mu_w1 = cp.CoolProp.PropsSI('V','T',T_wm1+273,'P',101.3e3,'Water')\n",
    "rho_w1 = cp.CoolProp.PropsSI('D','T',T_wm1+273,'P',101.3e3,'Water')\n",
    "k_w1 = cp.CoolProp.PropsSI('L','T',T_wm1+273,'P',101.3e3,'Water')\n",
    "\n",
    "\n",
    "Cp_w = cp.CoolProp.PropsSI('C','T',T_wm1+273,'P',101.3e3,'Water')\n",
    "Pr_w1 = cp.CoolProp.PropsSI('Prandtl','T',T_wm1+273,'P',101.3e3,'Water')\n",
    "mu_w1 = cp.CoolProp.PropsSI('V','T',T_wm1+273,'P',101.3e3,'Water')\n",
    "rho_w1 = cp.CoolProp.PropsSI('D','T',T_wm1+273,'P',101.3e3,'Water')\n",
    "k_w1 = cp.CoolProp.PropsSI('L','T',T_wm1+273,'P',101.3e3,'Water')\n",
    "nu_w1 = mu_w1/rho_w1\n",
    "a_w1 = nu_w1 / Pr_w1\n",
    "\n",
    "Cp_ac = 1480\n",
    "C_ac = m_ac*Cp_ac"
   ]
  },
  {
   "cell_type": "code",
   "execution_count": 13,
   "id": "9ed5c4fe",
   "metadata": {},
   "outputs": [],
   "source": [
    "U1 = 52\n",
    "U2 = 38"
   ]
  },
  {
   "cell_type": "code",
   "execution_count": 40,
   "id": "30185ac0",
   "metadata": {},
   "outputs": [],
   "source": [
    "Q1 = Cp_ac*m_ac* (T_ac_in1-T_ac_out1)\n",
    "Q2 = Cp_ac*m_ac* (T_ac_in2-T_ac_out2)\n",
    "\n",
    "#Cp_w*m_w * (T_w_out2-T_w_out1) = Q1\n",
    "#Cp_w*m_w * (T_w_out1-T_w_in1) = Q2\n",
    "#Cp_w*m_w * (T_w_out2-T_w_in1) = Q1+Q2\n",
    "m_w = (Q1+Q2)/(Cp_w*(T_w_out2-T_w_in1))\n",
    "T_w_out11 = Q2/(Cp_w*m_w  )+T_w_in1"
   ]
  },
  {
   "cell_type": "code",
   "execution_count": 4,
   "id": "f6d4534c-276a-4192-a792-a6a26dd838be",
   "metadata": {},
   "outputs": [
    {
     "data": {
      "text/plain": [
       "\u001b[0;31mSignature:\u001b[0m \u001b[0mht\u001b[0m\u001b[0;34m.\u001b[0m\u001b[0mDBundle_for_Ntubes_Phadkeb\u001b[0m\u001b[0;34m(\u001b[0m\u001b[0mNtubes\u001b[0m\u001b[0;34m,\u001b[0m \u001b[0mDo\u001b[0m\u001b[0;34m,\u001b[0m \u001b[0mpitch\u001b[0m\u001b[0;34m,\u001b[0m \u001b[0mNtp\u001b[0m\u001b[0;34m,\u001b[0m \u001b[0mangle\u001b[0m\u001b[0;34m=\u001b[0m\u001b[0;36m30\u001b[0m\u001b[0;34m)\u001b[0m\u001b[0;34m\u001b[0m\u001b[0;34m\u001b[0m\u001b[0m\n",
       "\u001b[0;31mDocstring:\u001b[0m\n",
       "Determine the bundle diameter required to fit a specified number of\n",
       "tubes in a heat exchanger. Uses the highly accurate method of [1]_,\n",
       "which takes into account pitch, number of tube passes, angle,\n",
       "and tube diameter. The method is analytically correct when used in the\n",
       "other direction (calculating number of tubes from bundle diameter); in\n",
       "reverse, it is solved by bisection.\n",
       "\n",
       "Parameters\n",
       "----------\n",
       "Ntubes : int\n",
       "    Total number of tubes that fit in the heat exchanger, [-]\n",
       "Do : float\n",
       "    Tube outer diameter, [m]\n",
       "pitch : float\n",
       "    Pitch; distance between two orthogonal tube centers, [m]\n",
       "Ntp : int\n",
       "    Number of tube passes, [-]\n",
       "angle : float, optional\n",
       "    The angle the tubes are positioned; 30, 45, 60 or 90, [degrees]\n",
       "\n",
       "Returns\n",
       "-------\n",
       "DBundle : float\n",
       "    Outer diameter of tube bundle, [m]\n",
       "\n",
       "Notes\n",
       "-----\n",
       "This function will fail when there are more than 100,000 tubes. There are\n",
       "a range of correct diameters for which there can be the given number of\n",
       "tubes; a number within that range is returned as found by bisection.\n",
       "\n",
       "Examples\n",
       "--------\n",
       ">>> DBundle_for_Ntubes_Phadkeb(Ntubes=782, Do=.028, pitch=.036, Ntp=2, angle=45.)\n",
       "1.1879392959379533\n",
       "\n",
       "References\n",
       "----------\n",
       ".. [1] Phadke, P. S., Determining tube counts for shell and tube\n",
       "   exchangers, Chem. Eng., September, 91, 65-68 (1984).\n",
       "\u001b[0;31mFile:\u001b[0m      ~/.local/lib/python3.10/site-packages/ht/hx.py\n",
       "\u001b[0;31mType:\u001b[0m      function"
      ]
     },
     "metadata": {},
     "output_type": "display_data"
    }
   ],
   "source": [
    "ht.DBundle_for_Ntubes_Phadkeb?"
   ]
  },
  {
   "cell_type": "code",
   "execution_count": 43,
   "id": "20fcf1de-b071-454b-9113-cc13bea05b04",
   "metadata": {},
   "outputs": [
    {
     "name": "stdout",
     "output_type": "stream",
     "text": [
      "763.68 381.84\n"
     ]
    }
   ],
   "source": [
    "print(Q1/1e3,Q2/1e3)"
   ]
  },
  {
   "cell_type": "code",
   "execution_count": 58,
   "id": "736b4a49",
   "metadata": {},
   "outputs": [
    {
     "name": "stdout",
     "output_type": "stream",
     "text": [
      "0.6370370370370371 0.6231884057971014\n"
     ]
    }
   ],
   "source": [
    "Qmax1 = (T_ac_in1-T_w_out11)*C_ac\n",
    "\n",
    "Qmax2 = (T_ac_in2-T_w_in1)*C_ac\n",
    "\n",
    "\n",
    "eps1 = Q1/Qmax1\n",
    "eps2 = Q2/Qmax2\n",
    "print(eps1,eps2)\n",
    "Cr = C_ac / Cp_w/m_w"
   ]
  },
  {
   "cell_type": "code",
   "execution_count": 64,
   "id": "72ef3fdf",
   "metadata": {},
   "outputs": [
    {
     "name": "stdout",
     "output_type": "stream",
     "text": [
      "0.007248132310240152 0.005070038307802891\n"
     ]
    }
   ],
   "source": [
    "Nut1 = ht.NTU_from_effectiveness(eps1,Cr)\n",
    "Nut2 = ht.NTU_from_effectiveness(eps2,Cr)\n",
    "\n",
    "A1 = Nut1 *U1/ (C_ac)\n",
    "A2 = Nut2 *U2/ C_ac\n",
    "print(A1,A2)"
   ]
  },
  {
   "cell_type": "code",
   "execution_count": 65,
   "id": "195a2b6e-ffe8-4034-9934-22952e3131dc",
   "metadata": {},
   "outputs": [
    {
     "data": {
      "text/plain": [
       "1.2377579791333182"
      ]
     },
     "execution_count": 65,
     "metadata": {},
     "output_type": "execute_result"
    }
   ],
   "source": [
    "Nut1"
   ]
  },
  {
   "cell_type": "code",
   "execution_count": 232,
   "id": "d3207477",
   "metadata": {},
   "outputs": [
    {
     "data": {
      "text/latex": [
       "$h_{total}=4.9$W/m$^2$"
      ],
      "text/plain": [
       "<IPython.core.display.Latex object>"
      ]
     },
     "metadata": {},
     "output_type": "display_data"
    }
   ],
   "source": [
    "hrad = ((T_c+273)+(T_a+273))* ((T_c+273)**2+(T_a+273)**2) *sigma_sb*epsilon_c\n",
    "Qrad = sigma_sb*((T_c+273)**4-(T_a+273)**4)*L * 2\n",
    "Qrad2 = hrad*(T_c-T_a)*2*L\n",
    "\n",
    "htotal = (hrad**-1+hconvf**-1)**-1\n",
    "display(Latex(f'$h_{{total}}={htotal:.1f}$W/m$^2$'))"
   ]
  },
  {
   "cell_type": "code",
   "execution_count": null,
   "id": "a468d7e2",
   "metadata": {},
   "outputs": [],
   "source": []
  },
  {
   "cell_type": "code",
   "execution_count": 191,
   "id": "9322fe89",
   "metadata": {},
   "outputs": [],
   "source": [
    "from scipy.special import erfc"
   ]
  },
  {
   "cell_type": "code",
   "execution_count": 192,
   "id": "e1272a90",
   "metadata": {},
   "outputs": [],
   "source": [
    "def theta (x,a,t,hc,k):\n",
    "    z = x/(4*a*t)**0.5\n",
    "    z2 = hc/k*(a*t)**0.5\n",
    "    arg = hc*x/k+(hc/k)**2*a*t\n",
    "    return erfc(z)-np.exp(arg)*erfc(z+z2)\n",
    "    "
   ]
  }
 ],
 "metadata": {
  "kernelspec": {
   "display_name": "Python 3 (ipykernel)",
   "language": "python",
   "name": "python3"
  },
  "language_info": {
   "codemirror_mode": {
    "name": "ipython",
    "version": 3
   },
   "file_extension": ".py",
   "mimetype": "text/x-python",
   "name": "python",
   "nbconvert_exporter": "python",
   "pygments_lexer": "ipython3",
   "version": "3.12.2"
  },
  "latex_envs": {
   "LaTeX_envs_menu_present": true,
   "autoclose": true,
   "autocomplete": true,
   "bibliofile": "biblio.bib",
   "cite_by": "apalike",
   "current_citInitial": 1,
   "eqLabelWithNumbers": true,
   "eqNumInitial": 1,
   "hotkeys": {
    "equation": "Ctrl-E",
    "itemize": "Ctrl-I"
   },
   "labels_anchors": false,
   "latex_user_defs": false,
   "report_style_numbering": false,
   "user_envs_cfg": false
  },
  "papermill": {
   "default_parameters": {},
   "duration": 23.771076,
   "end_time": "2021-05-30T21:24:22.664715",
   "environment_variables": {},
   "exception": null,
   "input_path": "__notebook__.ipynb",
   "output_path": "__notebook__.ipynb",
   "parameters": {},
   "start_time": "2021-05-30T21:23:58.893639",
   "version": "2.3.3"
  }
 },
 "nbformat": 4,
 "nbformat_minor": 5
}
