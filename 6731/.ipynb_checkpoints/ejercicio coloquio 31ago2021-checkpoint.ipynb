{
 "cells": [
  {
   "cell_type": "code",
   "execution_count": 11,
   "id": "844226b0",
   "metadata": {
    "collapsed": true,
    "jupyter": {
     "outputs_hidden": true
    }
   },
   "outputs": [
    {
     "name": "stdout",
     "output_type": "stream",
     "text": [
      "Requirement already satisfied: fluids in /home/juan/anaconda3/lib/python3.8/site-packages (1.0.9)\n",
      "Requirement already satisfied: ht in /home/juan/anaconda3/lib/python3.8/site-packages (1.0.1)\n",
      "Requirement already satisfied: CoolProp in /home/juan/anaconda3/lib/python3.8/site-packages (6.4.1)\n",
      "Collecting pints\n",
      "  Downloading pints-0.3.0-py3-none-any.whl (231 kB)\n",
      "\u001b[K     |████████████████████████████████| 231 kB 2.4 MB/s eta 0:00:01\n",
      "\u001b[?25hRequirement already satisfied: numpy>=1.5.0 in /home/juan/anaconda3/lib/python3.8/site-packages (from fluids) (1.20.1)\n",
      "Requirement already satisfied: scipy>=0.9.0 in /home/juan/anaconda3/lib/python3.8/site-packages (from fluids) (1.6.2)\n",
      "Requirement already satisfied: matplotlib>=1.5 in /home/juan/anaconda3/lib/python3.8/site-packages (from pints) (3.3.4)\n",
      "Collecting cma>=2\n",
      "  Downloading cma-3.1.0-py2.py3-none-any.whl (269 kB)\n",
      "\u001b[K     |████████████████████████████████| 269 kB 6.8 MB/s eta 0:00:01\n",
      "\u001b[?25hRequirement already satisfied: tabulate in /home/juan/anaconda3/lib/python3.8/site-packages (from pints) (0.8.9)\n",
      "Requirement already satisfied: pyparsing!=2.0.4,!=2.1.2,!=2.1.6,>=2.0.3 in /home/juan/anaconda3/lib/python3.8/site-packages (from matplotlib>=1.5->pints) (2.4.7)\n",
      "Requirement already satisfied: pillow>=6.2.0 in /home/juan/anaconda3/lib/python3.8/site-packages (from matplotlib>=1.5->pints) (8.2.0)\n",
      "Requirement already satisfied: kiwisolver>=1.0.1 in /home/juan/anaconda3/lib/python3.8/site-packages (from matplotlib>=1.5->pints) (1.3.1)\n",
      "Requirement already satisfied: cycler>=0.10 in /home/juan/anaconda3/lib/python3.8/site-packages (from matplotlib>=1.5->pints) (0.10.0)\n",
      "Requirement already satisfied: python-dateutil>=2.1 in /home/juan/anaconda3/lib/python3.8/site-packages (from matplotlib>=1.5->pints) (2.8.1)\n",
      "Requirement already satisfied: six in /home/juan/anaconda3/lib/python3.8/site-packages (from cycler>=0.10->matplotlib>=1.5->pints) (1.15.0)\n",
      "Installing collected packages: cma, pints\n",
      "Successfully installed cma-3.1.0 pints-0.3.0\n"
     ]
    }
   ],
   "source": [
    "!pip install fluids  ht CoolProp pints"
   ]
  },
  {
   "cell_type": "code",
   "execution_count": 1,
   "id": "fdb03995",
   "metadata": {},
   "outputs": [],
   "source": [
    "%matplotlib notebook\n",
    "import numpy as np\n",
    "import matplotlib.pyplot as plt\n",
    "from matplotlib import markers,lines,colors\n",
    "from scipy import interpolate\n",
    "import ht,fluids\n",
    "import CoolProp as cp\n",
    "import pandas as pd\n",
    "from IPython.display import  Latex"
   ]
  },
  {
   "cell_type": "markdown",
   "id": "6174d6f8",
   "metadata": {},
   "source": [
    "Una corriente de 2.4kg/s de un fluido-A que tiene un calor específico de 0.81kJ/kg K, entra a un\n",
    "intercambiador de tubo en tubo en contracorriente, en donde es calentado desde 0 a 400°C, gracias al aporte de otro fluido-B que circula a razón de 3kg/s con un calor específico de 0.96kJ/kg K, ingresando a la unidad a 700°C. Se pide determinar:\n",
    "\n",
    "    - El porcentaje de incremento de superficie de un nuevo equipo del mismo tipo, para lograr que la temperatura del fluido-A a la salida sea de 500°C. Para ello, considere los siguientes cálculos:\n",
    "\n",
    "    a -El calor intercambiado en el equipo.\n",
    "    b -La temperatura del fluido-B a la salida.\n",
    "    c -El máximo calor que pueden intercambiar estas 2 corrientes."
   ]
  },
  {
   "cell_type": "code",
   "execution_count": 2,
   "id": "8a5ebc2e",
   "metadata": {},
   "outputs": [],
   "source": [
    "Tfe = 0\n",
    "Tfs = 400\n",
    "Cpf = 0.81e3\n",
    "Tce = 700\n",
    "Cpc = 0.96e3\n",
    "mf = 2.4\n",
    "mc = 3\n",
    "Cf = Cpf *mf\n",
    "Cc = Cpc*mc\n",
    "#flujo contracorr"
   ]
  },
  {
   "cell_type": "code",
   "execution_count": 3,
   "id": "e98ea6b5",
   "metadata": {},
   "outputs": [
    {
     "data": {
      "text/latex": [
       "Q = 778kW"
      ],
      "text/plain": [
       "<IPython.core.display.Latex object>"
      ]
     },
     "metadata": {},
     "output_type": "display_data"
    }
   ],
   "source": [
    "Q = Cpf * mf * (Tfs-Tfe)\n",
    "display(Latex(f'Q = {Q*1e-3:.0f}kW'))"
   ]
  },
  {
   "cell_type": "code",
   "execution_count": 4,
   "id": "ecc67ee7",
   "metadata": {},
   "outputs": [
    {
     "data": {
      "text/latex": [
       "\\(T_{CS} = \\)430\\(^\\circ\\)C"
      ],
      "text/plain": [
       "<IPython.core.display.Latex object>"
      ]
     },
     "metadata": {},
     "output_type": "display_data"
    }
   ],
   "source": [
    "Tcs = Tce - Q/Cc\n",
    "display(Latex(f'\\(T_{{CS}} = \\){Tcs:.0f}\\(^\\circ\\)C'))"
   ]
  },
  {
   "cell_type": "code",
   "execution_count": 1,
   "id": "85243c0b",
   "metadata": {},
   "outputs": [
    {
     "data": {
      "text/plain": [
       "703"
      ]
     },
     "execution_count": 1,
     "metadata": {},
     "output_type": "execute_result"
    }
   ],
   "source": [
    "430+273"
   ]
  },
  {
   "cell_type": "code",
   "execution_count": 5,
   "id": "7c11601e",
   "metadata": {},
   "outputs": [
    {
     "data": {
      "text/latex": [
       "\\(Q_\\max =\\) 1361kW"
      ],
      "text/plain": [
       "<IPython.core.display.Latex object>"
      ]
     },
     "metadata": {},
     "output_type": "display_data"
    },
    {
     "data": {
      "text/latex": [
       "\\(\\varepsilon = \\) 0.57"
      ],
      "text/plain": [
       "<IPython.core.display.Latex object>"
      ]
     },
     "metadata": {},
     "output_type": "display_data"
    },
    {
     "data": {
      "text/latex": [
       "\\(Nut = \\) 1.11"
      ],
      "text/plain": [
       "<IPython.core.display.Latex object>"
      ]
     },
     "metadata": {},
     "output_type": "display_data"
    }
   ],
   "source": [
    "Cmin, Cmax = [np.min((Cc,Cf)),np.max((Cc,Cf))]\n",
    "Cr = Cmin/Cmax\n",
    "Qmax = Cmin * (Tce-Tfe)\n",
    "display(Latex(f'\\(Q_\\max =\\) {Qmax*1e-3:.0f}kW'))\n",
    "epsilon = Q / Qmax\n",
    "display(Latex(f'\\(\\\\varepsilon = \\) {epsilon:.2f}'))\n",
    "Nut = ht.NTU_from_effectiveness(epsilon, Cr, subtype='counterflow')\n",
    "display(Latex(f'\\(Nut = \\) {Nut:.2f}'))"
   ]
  },
  {
   "cell_type": "code",
   "execution_count": 6,
   "id": "83b97716",
   "metadata": {},
   "outputs": [
    {
     "data": {
      "text/latex": [
       "\\(UA =\\)2153W/K"
      ],
      "text/plain": [
       "<IPython.core.display.Latex object>"
      ]
     },
     "metadata": {},
     "output_type": "display_data"
    }
   ],
   "source": [
    "UA = Nut*Cmin\n",
    "display(Latex(f'\\(UA =\\){UA:.0f}W/K'))"
   ]
  },
  {
   "cell_type": "code",
   "execution_count": 7,
   "id": "5c721149",
   "metadata": {},
   "outputs": [],
   "source": [
    "Tfs_2 = 500\n",
    "Q_2  = Cpf * mf * (Tfs_2-Tfe)\n",
    "epsilon_2 = Q_2/Qmax \n",
    "Nut_2 = ht.NTU_from_effectiveness(epsilon_2, Cr, subtype='counterflow')"
   ]
  },
  {
   "cell_type": "code",
   "execution_count": 8,
   "id": "6f50cbb7",
   "metadata": {},
   "outputs": [
    {
     "data": {
      "text/latex": [
       "Area aumento % : 165.20"
      ],
      "text/plain": [
       "<IPython.core.display.Latex object>"
      ]
     },
     "metadata": {},
     "output_type": "display_data"
    }
   ],
   "source": [
    "display(Latex(f'Area aumento % : {100*Nut_2/Nut:.2f}'))\n"
   ]
  },
  {
   "cell_type": "code",
   "execution_count": null,
   "id": "45f681f4",
   "metadata": {},
   "outputs": [],
   "source": []
  }
 ],
 "metadata": {
  "kernelspec": {
   "display_name": "Python 3 (ipykernel)",
   "language": "python",
   "name": "python3"
  },
  "language_info": {
   "codemirror_mode": {
    "name": "ipython",
    "version": 3
   },
   "file_extension": ".py",
   "mimetype": "text/x-python",
   "name": "python",
   "nbconvert_exporter": "python",
   "pygments_lexer": "ipython3",
   "version": "3.9.13"
  },
  "latex_envs": {
   "LaTeX_envs_menu_present": true,
   "autoclose": true,
   "autocomplete": true,
   "bibliofile": "biblio.bib",
   "cite_by": "apalike",
   "current_citInitial": 1,
   "eqLabelWithNumbers": true,
   "eqNumInitial": 1,
   "hotkeys": {
    "equation": "Ctrl-E",
    "itemize": "Ctrl-I"
   },
   "labels_anchors": false,
   "latex_user_defs": false,
   "report_style_numbering": false,
   "user_envs_cfg": false
  }
 },
 "nbformat": 4,
 "nbformat_minor": 5
}
