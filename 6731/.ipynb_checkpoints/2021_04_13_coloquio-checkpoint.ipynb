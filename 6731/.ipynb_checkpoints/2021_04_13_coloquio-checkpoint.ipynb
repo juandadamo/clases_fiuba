{
 "cells": [
  {
   "cell_type": "code",
   "execution_count": 1,
   "metadata": {
    "slideshow": {
     "slide_type": "skip"
    }
   },
   "outputs": [],
   "source": [
    "# -*- coding: utf-8 -*-\n",
    "%matplotlib notebook\n",
    "import numpy as np\n",
    "import matplotlib.pyplot as plt\n",
    "import ht\n",
    "import CoolProp as cp\n",
    "import fluids"
   ]
  },
  {
   "cell_type": "markdown",
   "metadata": {
    "slideshow": {
     "slide_type": "slide"
    }
   },
   "source": [
    "#### EJERCICIO PRACTICO\n",
    "Un intercambiador de calor de casco y tubos (condensador), se utiliza para condensar vapor saturado de amoníaco que ingresa por la carcasa a 50°C. El fluido de enfriamiento es agua que ingresa por los tubos a una temperatura de 20°C. La transferencia de calor es de 200kW. Considerando un coeficiente global de transmisión de 1000W/m$^2$ K. Se pide determinar:\n",
    "\n",
    "    1) La masa de vapor condensado, si el calor latente de cambio de estado es de 1051kJ/kg.\n",
    "    2) El área para lograr una efectividad del intercambiador de calor del 60 por ciento con una temperatura del agua de salida de 40°C.\n",
    "    3) ¿Qué porcentaje de reducción en la transferencia de calor resultaría si el flujo de agua se reduce a la mitad mientras se mantiene el área del intercambiador de calor y U iguales?."
   ]
  },
  {
   "cell_type": "code",
   "execution_count": 2,
   "metadata": {
    "slideshow": {
     "slide_type": "slide"
    }
   },
   "outputs": [
    {
     "name": "stdout",
     "output_type": "stream",
     "text": [
      "masa de condensado: 0.19 kg/s\n"
     ]
    }
   ],
   "source": [
    "fluid1,fluid2 = ['Ammonia','Water']\n",
    "T1_in = 50\n",
    "T2_in = 20\n",
    "\n",
    "Q = 200e3\n",
    "U = 1000\n",
    "Psat = cp.CoolProp.PropsSI('P','T',50+273,'Q',1,fluid1)\n",
    "rho_1 = cp.CoolProp.PropsSI('D','T',50+273,'Q',1,fluid1)\n",
    "\n",
    "cp_1 = cp.CoolProp.PropsSI('C','T',50+273,'Q',1,fluid1)\n",
    "\n",
    "h_1_v = cp.CoolProp.PropsSI('H','T',50+273,'Q',1,fluid1)\n",
    "h_1_l = cp.CoolProp.PropsSI('H','T',50+273,'Q',0,fluid1)\n",
    "hfg_1 = (h_1_v-h_1_l)\n",
    "m_1 = Q / hfg_1\n",
    "print('masa de condensado: %.2f kg/s'%(m_1))"
   ]
  },
  {
   "cell_type": "code",
   "execution_count": 3,
   "metadata": {
    "slideshow": {
     "slide_type": "slide"
    }
   },
   "outputs": [],
   "source": [
    "T2_out = 40\n",
    "eps = 60e-2\n",
    "T2_m = (T2_out+T2_in)/2\n",
    "DeltaT_2 = (T2_out-T2_in)\n",
    "rho_2 = cp.CoolProp.PropsSI('D','T',T2_m+273,'Q',1,fluid2)\n",
    "cp_2 = cp.CoolProp.PropsSI('C','T',T2_m+273,'Q',1,fluid2)\n",
    "\n",
    "m_2 = Q / (cp_2*(DeltaT_2))\n",
    "Cmin = m_2*cp_2"
   ]
  },
  {
   "cell_type": "code",
   "execution_count": 4,
   "metadata": {
    "slideshow": {
     "slide_type": "slide"
    }
   },
   "outputs": [
    {
     "name": "stdout",
     "output_type": "stream",
     "text": [
      "Area: 9.16 m2\n"
     ]
    }
   ],
   "source": [
    "NUT = ht.NTU_from_effectiveness(eps, 0, subtype='S&T')\n",
    "UA = NUT*Cmin\n",
    "A = UA/U\n",
    "print('Area: %.2f m2'%A)"
   ]
  },
  {
   "cell_type": "code",
   "execution_count": 5,
   "metadata": {
    "slideshow": {
     "slide_type": "slide"
    }
   },
   "outputs": [
    {
     "name": "stdout",
     "output_type": "stream",
     "text": [
      "Calor intercambiado: 126.0 kW\n"
     ]
    }
   ],
   "source": [
    "m_2 = m_2/2\n",
    "Cmin = m_2*cp_2\n",
    "Qmax = Cmin*(T1_in-T2_in)\n",
    "NUT = UA/Cmin\n",
    "eps2 = ht.effectiveness_from_NTU(NUT, 0, subtype='S&T')\n",
    "Q = eps2*Qmax\n",
    "print('Calor intercambiado: %.1f kW'%(Q*1e-3))"
   ]
  },
  {
   "cell_type": "code",
   "execution_count": null,
   "metadata": {},
   "outputs": [],
   "source": []
  },
  {
   "cell_type": "code",
   "execution_count": null,
   "metadata": {},
   "outputs": [],
   "source": []
  },
  {
   "cell_type": "code",
   "execution_count": null,
   "metadata": {},
   "outputs": [],
   "source": []
  },
  {
   "cell_type": "code",
   "execution_count": null,
   "metadata": {},
   "outputs": [],
   "source": []
  }
 ],
 "metadata": {
  "anaconda-cloud": {},
  "celltoolbar": "Slideshow",
  "kernelspec": {
   "display_name": "Python 3",
   "language": "python",
   "name": "python3"
  },
  "language_info": {
   "codemirror_mode": {
    "name": "ipython",
    "version": 3
   },
   "file_extension": ".py",
   "mimetype": "text/x-python",
   "name": "python",
   "nbconvert_exporter": "python",
   "pygments_lexer": "ipython3",
   "version": "3.8.5"
  }
 },
 "nbformat": 4,
 "nbformat_minor": 2
}
