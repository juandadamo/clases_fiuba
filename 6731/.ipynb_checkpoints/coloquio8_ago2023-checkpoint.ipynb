{
 "cells": [
  {
   "cell_type": "code",
   "execution_count": 1,
   "id": "c8bd94a3",
   "metadata": {
    "_kg_hide-input": true,
    "_kg_hide-output": true,
    "execution": {
     "iopub.execute_input": "2021-05-30T21:24:05.811537Z",
     "iopub.status.busy": "2021-05-30T21:24:05.810578Z",
     "iopub.status.idle": "2021-05-30T21:24:18.188574Z",
     "shell.execute_reply": "2021-05-30T21:24:18.187493Z",
     "shell.execute_reply.started": "2021-05-30T20:48:51.244697Z"
    },
    "papermill": {
     "duration": 12.40044,
     "end_time": "2021-05-30T21:24:18.188788",
     "exception": false,
     "start_time": "2021-05-30T21:24:05.788348",
     "status": "completed"
    },
    "tags": []
   },
   "outputs": [
    {
     "name": "stdout",
     "output_type": "stream",
     "text": [
      "Requirement already satisfied: ht in /home/juan/.local/lib/python3.8/site-packages (0.1.55)\n",
      "Requirement already satisfied: CoolProp in /home/juan/.local/lib/python3.8/site-packages (6.4.1)\n",
      "Requirement already satisfied: fluids in /home/juan/.local/lib/python3.8/site-packages (0.1.83)\n",
      "Requirement already satisfied: scipy>=0.9.0 in /home/juan/.local/lib/python3.8/site-packages (from ht) (1.5.1)\n",
      "Requirement already satisfied: numpy>=1.5.0 in /home/juan/.local/lib/python3.8/site-packages (from ht) (1.19.0)\n"
     ]
    }
   ],
   "source": [
    "!pip install ht CoolProp fluids"
   ]
  },
  {
   "cell_type": "code",
   "execution_count": 2,
   "id": "0faa0c8e",
   "metadata": {
    "_cell_guid": "b1076dfc-b9ad-4769-8c92-a6c4dae69d19",
    "_kg_hide-input": true,
    "_kg_hide-output": true,
    "_uuid": "8f2839f25d086af736a60e9eeb907d3b93b6e0e5",
    "execution": {
     "iopub.execute_input": "2021-05-30T21:24:18.248475Z",
     "iopub.status.busy": "2021-05-30T21:24:18.247881Z",
     "iopub.status.idle": "2021-05-30T21:24:18.339878Z",
     "shell.execute_reply": "2021-05-30T21:24:18.339363Z",
     "shell.execute_reply.started": "2021-05-30T20:49:03.305336Z"
    },
    "papermill": {
     "duration": 0.12376,
     "end_time": "2021-05-30T21:24:18.340027",
     "exception": false,
     "start_time": "2021-05-30T21:24:18.216267",
     "status": "completed"
    },
    "tags": []
   },
   "outputs": [],
   "source": [
    "%matplotlib notebook\n",
    "import numpy as np # linear algebra\n",
    "import matplotlib.pyplot as plt\n",
    "import ht,fluids,os\n",
    "import CoolProp as cp\n",
    "from IPython.display import Latex\n",
    "from matplotlib.lines import Line2D\n",
    "MK = Line2D.markers\n",
    "mk = [mki for mki in MK.keys()][2:]"
   ]
  },
  {
   "cell_type": "code",
   "execution_count": 243,
   "id": "7267a22c",
   "metadata": {},
   "outputs": [],
   "source": [
    "T_c = 140\n",
    "T_a = 15\n",
    "T_m = (T_c + T_a)/2\n",
    "Pr = cp.CoolProp.PropsSI('Prandtl','T',T_m+273,'P',101.3e3,'Air')\n",
    "mu_a = cp.CoolProp.PropsSI('V','T',T_m+273,'P',101.3e3,'Air')\n",
    "rho_a = cp.CoolProp.PropsSI('D','T',T_m+273,'P',101.3e3,'Air')\n",
    "k_a = cp.CoolProp.PropsSI('L','T',T_m+273,'P',101.3e3,'Air')\n",
    "nu_a = mu_a/rho_a\n",
    "a_a = nu_a / Pr\n",
    "k_c = 0.175\n",
    "a_c = 0.833e-7\n",
    "epsilon_c = 0.88\n",
    "g = 9.8\n",
    "L = 1\n",
    "delta = 10e-3\n",
    "tfinal = 60*30\n",
    "sigma_sb = 5.67e-8\n",
    "Lc = L*W / (2*L+2*W)\n",
    "beta = 1/(T_m+273)\n",
    "Ra = beta * (T_c-T_a)*g*L/ nu_a / a_a\n",
    "Gr = Ra/Pr\n",
    "\n",
    "\n",
    "Tm = (T_c + T_a)/2\n"
   ]
  },
  {
   "cell_type": "code",
   "execution_count": 244,
   "id": "9ed5c4fe",
   "metadata": {},
   "outputs": [],
   "source": [
    "U = 8\n",
    "Re = U*L / nu_a\n",
    "Nu_convf = ht.conv_external.Nu_external_horizontal_plate(Re,Pr)\n",
    "hconvf = Nu_convf * k_a / L"
   ]
  },
  {
   "cell_type": "code",
   "execution_count": null,
   "id": "30185ac0",
   "metadata": {},
   "outputs": [],
   "source": []
  },
  {
   "cell_type": "code",
   "execution_count": 245,
   "id": "736b4a49",
   "metadata": {},
   "outputs": [
    {
     "data": {
      "text/latex": [
       "$Bi=1.3$"
      ],
      "text/plain": [
       "<IPython.core.display.Latex object>"
      ]
     },
     "metadata": {},
     "output_type": "display_data"
    },
    {
     "data": {
      "text/latex": [
       "$Fo=1.499$"
      ],
      "text/plain": [
       "<IPython.core.display.Latex object>"
      ]
     },
     "metadata": {},
     "output_type": "display_data"
    }
   ],
   "source": [
    "htotal = hconvf\n",
    "Bi = htotal * 2*delta / k_c\n",
    "display(Latex(f'$Bi={Bi:.1f}$'))\n",
    "Fo = a_c*tfinal/delta**2\n",
    "display(Latex(f'$Fo={Fo:.3f}$'))"
   ]
  },
  {
   "cell_type": "code",
   "execution_count": 240,
   "id": "72ef3fdf",
   "metadata": {},
   "outputs": [
    {
     "data": {
      "text/plain": [
       "0.7949724025158929"
      ]
     },
     "execution_count": 240,
     "metadata": {},
     "output_type": "execute_result"
    }
   ],
   "source": [
    "1/Bi"
   ]
  },
  {
   "cell_type": "code",
   "execution_count": 232,
   "id": "d3207477",
   "metadata": {},
   "outputs": [
    {
     "data": {
      "text/latex": [
       "$h_{total}=4.9$W/m$^2$"
      ],
      "text/plain": [
       "<IPython.core.display.Latex object>"
      ]
     },
     "metadata": {},
     "output_type": "display_data"
    }
   ],
   "source": [
    "hrad = ((T_c+273)+(T_a+273))* ((T_c+273)**2+(T_a+273)**2) *sigma_sb*epsilon_c\n",
    "Qrad = sigma_sb*((T_c+273)**4-(T_a+273)**4)*L * 2\n",
    "Qrad2 = hrad*(T_c-T_a)*2*L\n",
    "\n",
    "htotal = (hrad**-1+hconvf**-1)**-1\n",
    "display(Latex(f'$h_{{total}}={htotal:.1f}$W/m$^2$'))"
   ]
  },
  {
   "cell_type": "code",
   "execution_count": null,
   "id": "a468d7e2",
   "metadata": {},
   "outputs": [],
   "source": []
  },
  {
   "cell_type": "code",
   "execution_count": 191,
   "id": "9322fe89",
   "metadata": {},
   "outputs": [],
   "source": [
    "from scipy.special import erfc"
   ]
  },
  {
   "cell_type": "code",
   "execution_count": 192,
   "id": "e1272a90",
   "metadata": {},
   "outputs": [],
   "source": [
    "def theta (x,a,t,hc,k):\n",
    "    z = x/(4*a*t)**0.5\n",
    "    z2 = hc/k*(a*t)**0.5\n",
    "    arg = hc*x/k+(hc/k)**2*a*t\n",
    "    return erfc(z)-np.exp(arg)*erfc(z+z2)\n",
    "    "
   ]
  }
 ],
 "metadata": {
  "kernelspec": {
   "display_name": "Python 3 (ipykernel)",
   "language": "python",
   "name": "python3"
  },
  "language_info": {
   "codemirror_mode": {
    "name": "ipython",
    "version": 3
   },
   "file_extension": ".py",
   "mimetype": "text/x-python",
   "name": "python",
   "nbconvert_exporter": "python",
   "pygments_lexer": "ipython3",
   "version": "3.10.9"
  },
  "latex_envs": {
   "LaTeX_envs_menu_present": true,
   "autoclose": true,
   "autocomplete": true,
   "bibliofile": "biblio.bib",
   "cite_by": "apalike",
   "current_citInitial": 1,
   "eqLabelWithNumbers": true,
   "eqNumInitial": 1,
   "hotkeys": {
    "equation": "Ctrl-E",
    "itemize": "Ctrl-I"
   },
   "labels_anchors": false,
   "latex_user_defs": false,
   "report_style_numbering": false,
   "user_envs_cfg": false
  },
  "papermill": {
   "default_parameters": {},
   "duration": 23.771076,
   "end_time": "2021-05-30T21:24:22.664715",
   "environment_variables": {},
   "exception": null,
   "input_path": "__notebook__.ipynb",
   "output_path": "__notebook__.ipynb",
   "parameters": {},
   "start_time": "2021-05-30T21:23:58.893639",
   "version": "2.3.3"
  }
 },
 "nbformat": 4,
 "nbformat_minor": 5
}
