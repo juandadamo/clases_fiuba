{
 "cells": [
  {
   "cell_type": "markdown",
   "id": "be53bdea",
   "metadata": {},
   "source": [
    "[Versión Interactiva](https://mybinder.org/v2/git/https%3A%2F%2Fgithub.com%2Fjuandadamo%2Fclases_fiuba/HEAD?filepath=6731%2Fconduccion-unidades-problema.ipynb)"
   ]
  },
  {
   "cell_type": "code",
   "execution_count": 1,
   "id": "a382c333",
   "metadata": {
    "papermill": {
     "duration": 13.633083,
     "end_time": "2021-04-27T15:30:38.533424",
     "exception": false,
     "start_time": "2021-04-27T15:30:24.900341",
     "status": "completed"
    },
    "tags": []
   },
   "outputs": [],
   "source": [
    "%%capture\n",
    "!pip install ht pint numpy matplotlib Coolprop xlrd xlwt meteocalc pint"
   ]
  },
  {
   "cell_type": "code",
   "execution_count": 2,
   "id": "cb245a17",
   "metadata": {
    "papermill": {
     "duration": 1.644377,
     "end_time": "2021-04-27T15:30:40.197584",
     "exception": false,
     "start_time": "2021-04-27T15:30:38.553207",
     "status": "completed"
    },
    "tags": []
   },
   "outputs": [],
   "source": [
    "%matplotlib inline\n",
    "import numpy as np # linear algebra\n",
    "import pandas as pd\n",
    "import ht,pint\n",
    "import CoolProp as cp\n",
    "import matplotlib.pyplot as plt\n",
    "from IPython.display import  Latex\n",
    "import meteocalc\n",
    "ureg = pint.UnitRegistry()#(fmt_locale='es_ES')"
   ]
  },
  {
   "cell_type": "code",
   "execution_count": 3,
   "id": "96350d39",
   "metadata": {},
   "outputs": [],
   "source": [
    "Diametros_nominales = np.array([1,1.25,1.5,2,2.5,3,3.5,4])\n",
    "Diam_exterior = np.array([33.4,42.2,48.3,60.3,73,88.9,101.6,114.3])\n",
    "espesores_caños = np.array([3.38,3.56,3.68,3.91,5.16,5.49,5.74,6.02])\n",
    "Diam_interior = Diam_exterior - 2*espesores_caños"
   ]
  },
  {
   "cell_type": "code",
   "execution_count": 12,
   "id": "7d090175-1ac0-40b4-9fdc-582ff576e310",
   "metadata": {},
   "outputs": [],
   "source": [
    "Temp_f = np.array([5,-5,-15,-25,-35,-45])\n",
    "espesores_aislacion = np.array([0,25,40,50,65,75,90,100,115,125])\n",
    "k_aislacion = np.array([0.039,0.038,0.027,0.032])\n",
    "hconv_fl_int = 850\n",
    "hconv_aire_ext_i = 4\n",
    "hconv_aire_ext_e = 34\n",
    "#Aire exterior\n",
    "Temp_aire_int = 32\n",
    "Temp_aire_ext = 36\n",
    "Humedad_aire_int = 80\n",
    "Humedad_aire_ext = 94\n",
    "espesor_recubrimiento = 0.5\n",
    "k_recubrimiento = 0.5\n",
    "emisividad_recubrimiento = 0.1\n",
    "sigma_SB = 5.67e-8"
   ]
  },
  {
   "cell_type": "code",
   "execution_count": 13,
   "id": "5a64bb3d-e7dc-462c-be3e-587247d05e38",
   "metadata": {},
   "outputs": [],
   "source": [
    "Qmax = 25\n",
    "\n",
    "T_rocio_aire_ext  = meteocalc.dew_point(Temp_aire_ext,Humedad_aire_ext).value\n",
    "T_rocio_aire_int  = meteocalc.dew_point(Temp_aire_int,Humedad_aire_int).value\n",
    "\n",
    "Tmax_1 = T_rocio_aire_ext + 0\n",
    "Tmax_2 = T_rocio_aire_int + 0\n",
    "\n"
   ]
  },
  {
   "cell_type": "code",
   "execution_count": 14,
   "id": "04c03fbb-4b36-4cdc-8b85-9f0de9894d80",
   "metadata": {},
   "outputs": [
    {
     "data": {
      "text/plain": [
       "(34.87772839347428, 28.11020239069907)"
      ]
     },
     "execution_count": 14,
     "metadata": {},
     "output_type": "execute_result"
    }
   ],
   "source": [
    "Tmax_1,Tmax_2"
   ]
  },
  {
   "cell_type": "code",
   "execution_count": 15,
   "id": "45655561-edff-44aa-baa0-3d45d63fedab",
   "metadata": {},
   "outputs": [],
   "source": [
    "def Resistencia_termica(hi,he,R1,R2,R3, R4,k1,k2,k3,hrad):\n",
    "    S1,S2,S3,S4 = [2*np.pi*Ri for Ri in [R1,R2,R3,R4]]\n",
    "    Rconv1 = 1/hi/(S1)\n",
    "    Rconv2 = 1/(he*S4)\n",
    "    R_caño = np.log(R2/R1)/(k1*2*np.pi)\n",
    "    R_rec = np.log(R4/R3)/(k2*2*np.pi)\n",
    "    R_aisl = np.log(R3/R2)/(k3*2*np.pi)\n",
    "    R_rad =  1/(hrad*S4)\n",
    "    R_serie =  Rconv1+ +R_caño +R_rec +R_aisl\n",
    "    return R_serie,Rconv1,Rconv2,R_aisl,R_caño,R_rec,R_rad"
   ]
  },
  {
   "cell_type": "code",
   "execution_count": 48,
   "id": "f6620ba4-6367-4d0d-8b49-3e7dd1f2c2c2",
   "metadata": {},
   "outputs": [],
   "source": [
    "j = 4 #Temperatura del fluido\n",
    "i = 0  #Diametro Interno\n",
    "k = 1  #espesor aislacion\n",
    "\n",
    "def deltaT(T4,k_aisla,Temp_fluido):\n",
    "    Tmedia = (T4+Temp_aire_ext)/2+273\n",
    "    hrad = Tmedia**3*sigma_SB*emisividad_recubrimiento\n",
    "    R1 = Diam_interior[i]/2*1e-3\n",
    "    R2 = R1+espesores_caños[i]*1e-3\n",
    "    R3 = R2 + espesores_aislacion[k]*1e-3\n",
    "    R4 = R3 + espesor_recubrimiento*1e-3\n",
    "    material = ht.nearest_material('steel')\n",
    "    k_acero = ht.k_material(material)\n",
    "    k_recubrimiento = 0.5\n",
    "    #k_aisla = k_aislacion[k]\n",
    "    R_serie,Rconv1,Rconv2,R_aisl,R_caño,R_rec,R_rad = Resistencia_termica(hconv_fl_int,hconv_aire_ext_e,R1,R2,R3,R4,k_acero,k_recubrimiento,k_aisla,hrad)\n",
    "    Rparalelo = (1/Rconv2+1/R_rad)**-1\n",
    "    R_total = R_serie + Rparalelo \n",
    "    Qreal = (Temp_aire_ext - Temp_fludo)/R_total\n",
    "    #print(f'Q={Qreal:.1f}')\n",
    "    T4b = Temp_f[j]+Qreal*R_serie             \n",
    "    #print(k)\n",
    "    return T4b - T4\n",
    "def calor(T4,k_aisla,Temp_fluido):\n",
    "\n",
    "    Tmedia = (T4+Temp_aire_ext)/2+273\n",
    "\n",
    "    hrad = Tmedia**3*sigma_SB*emisividad_recubrimiento\n",
    "\n",
    "    R1 = Diam_interior[i]/2*1e-3\n",
    "    R2 = R1+espesores_caños[i]*1e-3\n",
    "    R3 = R2 + espesores_aislacion[k]*1e-3\n",
    "    R4 = R3 + espesor_recubrimiento*1e-3\n",
    "    material = ht.nearest_material('steel')\n",
    "    k_acero = ht.k_material(material)\n",
    "    k_recubrimiento = 0.5\n",
    "    #k_aisla = k_aislacion[k]\n",
    "    R_serie,Rconv1,Rconv2,R_aisl,R_caño,R_rec,R_rad = Resistencia_termica(hconv_fl_int,hconv_aire_ext_e,R1,R2,R3,R4,k_acero,k_recubrimiento,k_aisla,hrad)\n",
    "    Rparalelo = (1/Rconv2+1/R_rad)**-1\n",
    "    R_total = R_serie + Rparalelo \n",
    "    Qreal = (Temp_aire_ext - Temp_fluido)/R_total\n",
    "\n",
    "    return Qreal"
   ]
  },
  {
   "cell_type": "code",
   "execution_count": 59,
   "id": "869b26fc-6f11-4b4b-ae35-340f219cdc1b",
   "metadata": {},
   "outputs": [
    {
     "data": {
      "text/plain": [
       "44.379890885589475"
      ]
     },
     "execution_count": 59,
     "metadata": {},
     "output_type": "execute_result"
    }
   ],
   "source": [
    "T4 = (Temp_f[j]+Temp_aire_ext)/2\n",
    "\n",
    "deltaT(0,k_aislacion[2])#,calor(T4,k_aislacion[0])"
   ]
  },
  {
   "cell_type": "code",
   "execution_count": 51,
   "id": "00ee4cb1-de75-4237-9068-42c713838e4b",
   "metadata": {},
   "outputs": [
    {
     "ename": "ValueError",
     "evalue": "f(a) and f(b) must have different signs",
     "output_type": "error",
     "traceback": [
      "\u001b[0;31m---------------------------------------------------------------------------\u001b[0m",
      "\u001b[0;31mValueError\u001b[0m                                Traceback (most recent call last)",
      "Input \u001b[0;32mIn [51]\u001b[0m, in \u001b[0;36m<cell line: 2>\u001b[0;34m()\u001b[0m\n\u001b[1;32m      1\u001b[0m \u001b[38;5;28;01mfrom\u001b[39;00m \u001b[38;5;21;01mscipy\u001b[39;00m\u001b[38;5;21;01m.\u001b[39;00m\u001b[38;5;21;01moptimize\u001b[39;00m \u001b[38;5;28;01mimport\u001b[39;00m brentq\n\u001b[0;32m----> 2\u001b[0m T4final \u001b[38;5;241m=\u001b[39m \u001b[43mbrentq\u001b[49m\u001b[43m(\u001b[49m\u001b[43mdeltaT\u001b[49m\u001b[43m,\u001b[49m\u001b[43m \u001b[49m\u001b[38;5;241;43m-\u001b[39;49m\u001b[38;5;241;43m10\u001b[39;49m\u001b[43m,\u001b[49m\u001b[38;5;241;43m10\u001b[39;49m\u001b[43m,\u001b[49m\u001b[43m(\u001b[49m\u001b[43mk_aislacion\u001b[49m\u001b[43m[\u001b[49m\u001b[38;5;241;43m0\u001b[39;49m\u001b[43m]\u001b[49m\u001b[43m)\u001b[49m\u001b[43m)\u001b[49m\n",
      "File \u001b[0;32m~/anaconda3/lib/python3.9/site-packages/scipy/optimize/zeros.py:776\u001b[0m, in \u001b[0;36mbrentq\u001b[0;34m(f, a, b, args, xtol, rtol, maxiter, full_output, disp)\u001b[0m\n\u001b[1;32m    774\u001b[0m \u001b[38;5;28;01mif\u001b[39;00m rtol \u001b[38;5;241m<\u001b[39m _rtol:\n\u001b[1;32m    775\u001b[0m     \u001b[38;5;28;01mraise\u001b[39;00m \u001b[38;5;167;01mValueError\u001b[39;00m(\u001b[38;5;124m\"\u001b[39m\u001b[38;5;124mrtol too small (\u001b[39m\u001b[38;5;132;01m%g\u001b[39;00m\u001b[38;5;124m < \u001b[39m\u001b[38;5;132;01m%g\u001b[39;00m\u001b[38;5;124m)\u001b[39m\u001b[38;5;124m\"\u001b[39m \u001b[38;5;241m%\u001b[39m (rtol, _rtol))\n\u001b[0;32m--> 776\u001b[0m r \u001b[38;5;241m=\u001b[39m \u001b[43m_zeros\u001b[49m\u001b[38;5;241;43m.\u001b[39;49m\u001b[43m_brentq\u001b[49m\u001b[43m(\u001b[49m\u001b[43mf\u001b[49m\u001b[43m,\u001b[49m\u001b[43m \u001b[49m\u001b[43ma\u001b[49m\u001b[43m,\u001b[49m\u001b[43m \u001b[49m\u001b[43mb\u001b[49m\u001b[43m,\u001b[49m\u001b[43m \u001b[49m\u001b[43mxtol\u001b[49m\u001b[43m,\u001b[49m\u001b[43m \u001b[49m\u001b[43mrtol\u001b[49m\u001b[43m,\u001b[49m\u001b[43m \u001b[49m\u001b[43mmaxiter\u001b[49m\u001b[43m,\u001b[49m\u001b[43m \u001b[49m\u001b[43margs\u001b[49m\u001b[43m,\u001b[49m\u001b[43m \u001b[49m\u001b[43mfull_output\u001b[49m\u001b[43m,\u001b[49m\u001b[43m \u001b[49m\u001b[43mdisp\u001b[49m\u001b[43m)\u001b[49m\n\u001b[1;32m    777\u001b[0m \u001b[38;5;28;01mreturn\u001b[39;00m results_c(full_output, r)\n",
      "\u001b[0;31mValueError\u001b[0m: f(a) and f(b) must have different signs"
     ]
    }
   ],
   "source": [
    "from scipy.optimize import brentq\n",
    "T4final = brentq(deltaT, -10,10,(k_aislacion[0]))"
   ]
  },
  {
   "cell_type": "code",
   "execution_count": 47,
   "id": "8c8e0888-2297-4cbd-b3e8-5b254891f420",
   "metadata": {},
   "outputs": [
    {
     "name": "stdout",
     "output_type": "stream",
     "text": [
      "2\n"
     ]
    },
    {
     "data": {
      "text/plain": [
       "(35.096925631371704, 8.646144293637334, 17.921936017638814)"
      ]
     },
     "execution_count": 47,
     "metadata": {},
     "output_type": "execute_result"
    }
   ],
   "source": [
    "T4final,deltaT(T4final),calor(T4final)"
   ]
  },
  {
   "cell_type": "code",
   "execution_count": 34,
   "id": "f7b12183-40fd-4954-ad8f-746f13c0e47a",
   "metadata": {},
   "outputs": [
    {
     "data": {
      "text/plain": [
       "array([ 26.64,  35.08,  40.94,  52.48,  62.68,  77.92,  90.12, 102.26])"
      ]
     },
     "execution_count": 34,
     "metadata": {},
     "output_type": "execute_result"
    }
   ],
   "source": [
    "Diam_interior"
   ]
  },
  {
   "cell_type": "code",
   "execution_count": 38,
   "id": "374d18af-0df4-47c5-8e7a-cb777c104795",
   "metadata": {},
   "outputs": [
    {
     "data": {
      "text/plain": [
       "50"
      ]
     },
     "execution_count": 38,
     "metadata": {},
     "output_type": "execute_result"
    }
   ],
   "source": [
    "espesores_aislacion[3]"
   ]
  },
  {
   "cell_type": "code",
   "execution_count": null,
   "id": "51970098-de7f-4915-8cf0-8af9550760b6",
   "metadata": {},
   "outputs": [],
   "source": []
  }
 ],
 "metadata": {
  "kernelspec": {
   "display_name": "Python 3 (ipykernel)",
   "language": "python",
   "name": "python3"
  },
  "language_info": {
   "codemirror_mode": {
    "name": "ipython",
    "version": 3
   },
   "file_extension": ".py",
   "mimetype": "text/x-python",
   "name": "python",
   "nbconvert_exporter": "python",
   "pygments_lexer": "ipython3",
   "version": "3.9.12"
  },
  "latex_envs": {
   "LaTeX_envs_menu_present": true,
   "autoclose": true,
   "autocomplete": true,
   "bibliofile": "biblio.bib",
   "cite_by": "apalike",
   "current_citInitial": 1,
   "eqLabelWithNumbers": true,
   "eqNumInitial": 1,
   "hotkeys": {
    "equation": "Ctrl-E",
    "itemize": "Ctrl-I"
   },
   "labels_anchors": false,
   "latex_user_defs": false,
   "report_style_numbering": false,
   "user_envs_cfg": false
  },
  "papermill": {
   "default_parameters": {},
   "duration": 26.252158,
   "end_time": "2021-04-27T15:30:42.330091",
   "environment_variables": {},
   "exception": null,
   "input_path": "__notebook__.ipynb",
   "output_path": "__notebook__.ipynb",
   "parameters": {},
   "start_time": "2021-04-27T15:30:16.077933",
   "version": "2.3.3"
  }
 },
 "nbformat": 4,
 "nbformat_minor": 5
}
