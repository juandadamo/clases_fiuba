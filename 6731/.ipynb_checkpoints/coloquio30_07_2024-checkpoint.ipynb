{
 "cells": [
  {
   "cell_type": "code",
   "execution_count": 1,
   "id": "61c7d36d",
   "metadata": {
    "_kg_hide-input": true,
    "_kg_hide-output": true,
    "papermill": {
     "duration": 12.40044,
     "end_time": "2021-05-30T21:24:18.188788",
     "exception": false,
     "start_time": "2021-05-30T21:24:05.788348",
     "status": "completed"
    },
    "tags": []
   },
   "outputs": [],
   "source": [
    "%%capture\n",
    "!pip install ht CoolProp fluids xlrd xlwt"
   ]
  },
  {
   "cell_type": "code",
   "execution_count": 4,
   "id": "693fee3f",
   "metadata": {
    "_cell_guid": "b1076dfc-b9ad-4769-8c92-a6c4dae69d19",
    "_kg_hide-input": true,
    "_kg_hide-output": true,
    "_uuid": "8f2839f25d086af736a60e9eeb907d3b93b6e0e5",
    "papermill": {
     "duration": 0.12376,
     "end_time": "2021-05-30T21:24:18.340027",
     "exception": false,
     "start_time": "2021-05-30T21:24:18.216267",
     "status": "completed"
    },
    "tags": []
   },
   "outputs": [],
   "source": [
    "import numpy as np # linear algebra\n",
    "import pandas as pd # data processing, CSV file I/O (e.g. pd.read_csv)\n",
    "import xlwt as xw\n",
    "lista_data = []\n",
    "import matplotlib.pyplot as plt\n",
    "import ht,fluids,os,socket\n",
    "import CoolProp as cp\n",
    "from IPython.display import Latex\n",
    "from prop_fluidos_intercambiadores import fluido_intercambiador\n"
   ]
  },
  {
   "cell_type": "code",
   "execution_count": null,
   "id": "99e6eaf3-8d5f-4bae-983d-a967972d5103",
   "metadata": {},
   "outputs": [],
   "source": []
  },
  {
   "cell_type": "markdown",
   "id": "92643a95",
   "metadata": {
    "papermill": {
     "duration": 0.026188,
     "end_time": "2021-05-30T21:24:18.392866",
     "exception": false,
     "start_time": "2021-05-30T21:24:18.366678",
     "status": "completed"
    },
    "tags": []
   },
   "source": [
    "## Intercambiador de Calor\n",
    "#### HIPOTESIS DE CALCULO:\n",
    "\n",
    "\n",
    "1. Intercambiador de calor a contracorriente de tubos concéntricos\n"
   ]
  },
  {
   "cell_type": "code",
   "execution_count": 76,
   "id": "0fcfde2a",
   "metadata": {
    "papermill": {
     "duration": 0.040034,
     "end_time": "2021-05-30T21:24:18.511413",
     "exception": false,
     "start_time": "2021-05-30T21:24:18.471379",
     "status": "completed"
    },
    "tags": []
   },
   "outputs": [],
   "source": [
    "#constantes de calculo\n",
    "g = 9.8; cal2joule = 4.184\n",
    "k_tubo = 104.5\n",
    "npasos = 4\n",
    "###########################################################\n",
    "#           DATOS  del Intercambiador  \n",
    "###########################################################\n",
    "# Definición de Flujos\n",
    "#Crudo = fluido_intercambiador('Crudo') \n",
    "#Glicol = fluido_intercambiador('Glycol')\n",
    "# Temperaturas\n",
    "T_agua_e = 20\n",
    "T_agua_s = 95\n",
    "\n",
    "p_vapor = 127.5e3 #kpa\n",
    "\n",
    "\n",
    "Caudal_agua = 30*1e3/3600 #t/h ---> kg/s\n",
    "\n",
    "#Caudal_aceite = 1.1 #kg/s\n",
    "D_interno = 12e-3\n",
    "D_externo = 14e-3\n",
    "espesor_tubo = (D_externo-D_interno)/2\n",
    "#Longitud = 4\n",
    "\n",
    "# Propiedades Físicas\n",
    "T_agua_media = (T_agua_e+T_agua_s)/2  # en caso de faltar un temperatura, tomar de la otra corriente\n",
    "\n",
    "Cp_agua = cp.CoolProp.PropsSI('C','T',273+T_agua_media,'P',101325,'Water')\n",
    "rho_agua = cp.CoolProp.PropsSI('D','T',273+ T_agua_media,'P',101325,'Water')\n",
    "k_agua = cp.CoolProp.PropsSI('L','T',273+ T_agua_media,'P',101325,'Water')\n",
    "mu_agua = cp.CoolProp.PropsSI('V','T',273+T_agua_media,'P',101325,'Water')\n",
    "nu_agua = mu_agua / rho_agua\n",
    "   #difusividad térmica\n",
    "a_agua = k_agua/(rho_agua*Cp_agua)\n",
    "\n",
    "Pr_agua = nu_agua/a_agua\n",
    "\n",
    "ivap = cp.CoolProp.PropsSI('H','P',127.5e3,'Q',1,'Water')\n",
    "iagua = cp.CoolProp.PropsSI('H','P',127.5e3,'Q',0,'Water')\n",
    "T_sat = cp.CoolProp.PropsSI('T','P',127.5e3,'Q',0,'Water')\n",
    "hfg = ivap-iagua\n",
    "\n",
    "Cp_vap = cp.CoolProp.PropsSI('C','P',127.5e3,'Q',1,'Water')\n",
    "rho_vap = cp.CoolProp.PropsSI('D','P',127.5e3,'Q',1,'Water')\n",
    "k_vap = cp.CoolProp.PropsSI('L','P',127.5e3,'Q',1,'Water')\n",
    "mu_vap = cp.CoolProp.PropsSI('V','P',127.5e3,'Q',1,'Water')\n",
    "nu_vap = mu_agua / rho_agua\n",
    "   #difusividad térmica\n",
    "a_vap = k_agua/(rho_agua*Cp_agua)\n",
    "\n",
    "Pr_vap = nu_agua/a_agua\n"
   ]
  },
  {
   "cell_type": "code",
   "execution_count": null,
   "id": "c6a726c4-11b1-4859-97c4-3d286dbd446c",
   "metadata": {},
   "outputs": [],
   "source": []
  },
  {
   "cell_type": "code",
   "execution_count": 36,
   "id": "80de2a03-f526-453b-a6b8-3115664c2389",
   "metadata": {},
   "outputs": [
    {
     "name": "stdout",
     "output_type": "stream",
     "text": [
      "Calor 2614.9 kW\n"
     ]
    }
   ],
   "source": [
    "Q = Cp_agua*Caudal_agua*(T_agua_s-T_agua_e)\n",
    "print(f'Calor {Q/1000:.1f} kW')"
   ]
  },
  {
   "cell_type": "code",
   "execution_count": 37,
   "id": "1571f4f4-7802-4d6b-9a59-027dd3179721",
   "metadata": {},
   "outputs": [
    {
     "name": "stdout",
     "output_type": "stream",
     "text": [
      "Caudal Vapor 1.2kg/s\n"
     ]
    }
   ],
   "source": [
    "#Vapor\n",
    "\n",
    "G_vap = Q / (0.98*hfg)\n",
    "\n",
    "print(f'Caudal Vapor {G_vap:.1f}kg/s')"
   ]
  },
  {
   "cell_type": "code",
   "execution_count": 74,
   "id": "60bfa455-bed8-4336-a0c2-aad69c47fa05",
   "metadata": {},
   "outputs": [],
   "source": [
    "DeltaTlog = ht.LMTD(T_sat-273,T_sat-273,T_agua_e,T_agua_s)\n",
    "\n",
    "t_pared = T_sat-273-DeltaTlog/2\n",
    "t_int = t_pared - espesor_tubo/k_tubo\n",
    "\n",
    "Cmin = Cp_agua*Caudal_agua\n",
    "Cr = 0\n",
    "\n",
    "UA  = Q/(DeltaTlog)\n",
    "Qmax = Cmin*(T_sat-273-T_agua_e)\n",
    "#Nut = U*A/Cmin\n",
    "#ht.effectiveness_from_NTU\n",
    "Nut = ht.NTU_from_effectiveness(Q/Qmax,0)"
   ]
  },
  {
   "cell_type": "code",
   "execution_count": 82,
   "id": "979a2f5a-1e76-4850-927c-3dd44a9f1e31",
   "metadata": {},
   "outputs": [],
   "source": [
    "Veloc_agua = 1.5\n",
    "A_pasaje = Caudal_agua/Veloc_agua/rho_agua\n",
    "\n"
   ]
  },
  {
   "cell_type": "code",
   "execution_count": null,
   "id": "2552d7ba-75f6-4b3c-854f-1bf17a24cc87",
   "metadata": {},
   "outputs": [],
   "source": []
  },
  {
   "cell_type": "code",
   "execution_count": 85,
   "id": "952ac4d9-a3c1-4794-a32a-bfa932f5757c",
   "metadata": {},
   "outputs": [
    {
     "name": "stdout",
     "output_type": "stream",
     "text": [
      "49.89333538969127\n"
     ]
    }
   ],
   "source": [
    "A_tubo_int = D_interno**2*np.pi/4\n",
    "\n",
    "tubopaso = A_pasaje/A_tubo_int\n",
    "\n",
    "print(tubopaso)"
   ]
  },
  {
   "cell_type": "code",
   "execution_count": 7,
   "id": "266aaa5b-2da6-4c82-b8c1-2153abfa786f",
   "metadata": {},
   "outputs": [],
   "source": [
    "Veloc_agua = Caudal_agua/Area_agua/rho_agua\n",
    "Veloc_aceite = Caudal_aceite / Area_Aceite / rho_aceite\n",
    "\n",
    "\n",
    "Re_aceite = Veloc_aceite * D_interno / nu_aceite\n",
    "D_agua = D_externo - D_interno - espesor_tubo\n",
    "Re_agua = Veloc_agua * D_agua / nu_agua\n",
    "\n",
    "Re_aceite,Re_agua\n",
    "\n",
    "\n",
    "Nu_aceite = 3.66\n",
    "Nu_agua = ht.Nu_conv_internal(Re_agua,Pr_agua)\n",
    "\n",
    "h_aceite = Nu_aceite * k_aceite / D_interno\n",
    "h_agua = Nu_agua * k_agua / D_agua"
   ]
  },
  {
   "cell_type": "code",
   "execution_count": 8,
   "id": "30fdf75b-faa3-496c-becf-0bb5d92aa32f",
   "metadata": {},
   "outputs": [
    {
     "data": {
      "text/plain": [
       "2743.5347176249747"
      ]
     },
     "execution_count": 8,
     "metadata": {},
     "output_type": "execute_result"
    }
   ],
   "source": [
    "Re_aceite"
   ]
  },
  {
   "cell_type": "code",
   "execution_count": 9,
   "id": "b925fe03-3285-46cd-9619-11df418ff314",
   "metadata": {},
   "outputs": [
    {
     "ename": "NameError",
     "evalue": "name 'k_acero' is not defined",
     "output_type": "error",
     "traceback": [
      "\u001b[0;31m---------------------------------------------------------------------------\u001b[0m",
      "\u001b[0;31mNameError\u001b[0m                                 Traceback (most recent call last)",
      "Input \u001b[0;32mIn [9]\u001b[0m, in \u001b[0;36m<cell line: 1>\u001b[0;34m()\u001b[0m\n\u001b[0;32m----> 1\u001b[0m np\u001b[38;5;241m.\u001b[39mlog((D_interno\u001b[38;5;241m+\u001b[39mespesor_tubo)\u001b[38;5;241m/\u001b[39mD_interno)\u001b[38;5;241m/\u001b[39m\u001b[43mk_acero\u001b[49m \n\u001b[1;32m      4\u001b[0m \u001b[38;5;241m1\u001b[39m\u001b[38;5;241m/\u001b[39m (h_aceite\u001b[38;5;241m*\u001b[39mD_interno)\n",
      "\u001b[0;31mNameError\u001b[0m: name 'k_acero' is not defined"
     ]
    }
   ],
   "source": [
    "\n",
    "\n",
    "np.log((D_interno+espesor_tubo)/D_interno)/k_acero \n",
    "\n",
    "\n",
    "1/ (h_aceite*D_interno)"
   ]
  },
  {
   "cell_type": "code",
   "execution_count": null,
   "id": "e9a17553-40cf-4e58-baaf-6662b3b77e89",
   "metadata": {},
   "outputs": [],
   "source": [
    "Caudal_aceite / Area_agua / rho_aceite * D_agua / nu_aceite"
   ]
  },
  {
   "cell_type": "code",
   "execution_count": 41,
   "id": "e7b8bbb8-b47f-4086-a071-bbf7c936c927",
   "metadata": {},
   "outputs": [
    {
     "data": {
      "text/plain": [
       "10000.0"
      ]
     },
     "execution_count": 41,
     "metadata": {},
     "output_type": "execute_result"
    }
   ],
   "source": [
    "h_aceite"
   ]
  },
  {
   "cell_type": "code",
   "execution_count": 71,
   "id": "f5fca669-d090-4992-8749-bacbf802165c",
   "metadata": {},
   "outputs": [
    {
     "data": {
      "text/plain": [
       "25.173512989600376"
      ]
     },
     "execution_count": 71,
     "metadata": {},
     "output_type": "execute_result"
    }
   ],
   "source": [
    "h_agua, h_aceite\n",
    "k_acero = ht.k_material('stainless steel')\n",
    "espesor_tubo = 1e-3\n",
    "\n",
    "Ulimpio = (1/ (h_aceite*D_interno) + np.log((D_interno+espesor_tubo)/D_interno)/k_acero + 1/(h_agua*(D_agua)))**-1\n",
    "#U_calc = 1 / (1/Ulimpio + Rf *(1+Tubo_dext/Tubo_dint))\n",
    "Ulimpio /D_interno"
   ]
  },
  {
   "cell_type": "markdown",
   "id": "53cd83cc-7b3b-493e-82ef-862833461639",
   "metadata": {},
   "source": [
    "[datos](https://material-properties.org/es/combustible-diesel-densidad-punto-de-fusion-conductividad-termica/)"
   ]
  },
  {
   "cell_type": "code",
   "execution_count": 70,
   "id": "203d4f8e-6a5e-4110-93a2-f501dcd28be5",
   "metadata": {},
   "outputs": [
    {
     "data": {
      "text/plain": [
       "25.254000000000005"
      ]
     },
     "execution_count": 70,
     "metadata": {},
     "output_type": "execute_result"
    }
   ],
   "source": [
    "h_aceite"
   ]
  },
  {
   "cell_type": "code",
   "execution_count": 14,
   "id": "6d2b52b3-7c17-4ab3-a8da-132c1981f4e1",
   "metadata": {},
   "outputs": [
    {
     "data": {
      "text/latex": [
       "Calor Intercambiado: $Q=0.22$kW"
      ],
      "text/plain": [
       "<IPython.core.display.Latex object>"
      ]
     },
     "metadata": {},
     "output_type": "display_data"
    }
   ],
   "source": [
    "Q_crudo = Cp_crudo*Caudal_crudo*rho_crudo*(T_crudo_e-T_crudo_s)\n",
    "Q_glycol = Q_crudo\n",
    "Caudal_glycol = Q_glycol / (Cp_glycol*(T_glycol_s-T_glycol_e) *rho_glycol)\n",
    "display(Latex(f'Calor Intercambiado: $Q={Q_crudo*1e-3:.2f}$kW'))"
   ]
  },
  {
   "cell_type": "code",
   "execution_count": 12,
   "id": "17e4398b-1ff2-4dbf-89fc-417f339c50f4",
   "metadata": {},
   "outputs": [
    {
     "data": {
      "text/plain": [
       "[67.38375, 185.30531249999945]"
      ]
     },
     "execution_count": 12,
     "metadata": {},
     "output_type": "execute_result"
    }
   ],
   "source": [
    "[Cp_crudo*Caudal_crudo*rho_crudo,Cp_glycol*Caudal_glycol*rho_glycol]"
   ]
  },
  {
   "cell_type": "markdown",
   "id": "f9db9180",
   "metadata": {
    "papermill": {
     "duration": 0.026308,
     "end_time": "2021-05-30T21:24:18.617700",
     "exception": false,
     "start_time": "2021-05-30T21:24:18.591392",
     "status": "completed"
    },
    "tags": []
   },
   "source": [
    "### Eficiencia térmica. Calor Intercambiado."
   ]
  },
  {
   "cell_type": "code",
   "execution_count": 15,
   "id": "7bb6e53c",
   "metadata": {
    "papermill": {
     "duration": 0.036227,
     "end_time": "2021-05-30T21:24:18.680611",
     "exception": false,
     "start_time": "2021-05-30T21:24:18.644384",
     "status": "completed"
    },
    "tags": []
   },
   "outputs": [
    {
     "name": "stdout",
     "output_type": "stream",
     "text": [
      "Capacidad Térmica Mínima Cmin = 67.4 W/K\n",
      "Fluido Cmin: Crudo\n",
      "Calor Máximo disponible Qmax=1.1 kW\n",
      "Eficiencia térmica del equipo = 0.19\n"
     ]
    }
   ],
   "source": [
    "#Capacidad Térmica Mínima\n",
    "Capacidades_termicas = np.array([Cp_crudo*Caudal_crudo*rho_crudo,Cp_glycol*Caudal_glycol*rho_glycol])\n",
    "Fluidos = ['Crudo','Glycol']\n",
    "Cmin = np.min(Capacidades_termicas)\n",
    "fluido_cmin = Fluidos[np.argmin(Capacidades_termicas)]\n",
    "#Mayor Salto Térmico del sistema\n",
    "DeltaT_max = T_crudo_e- T_glycol_e\n",
    "#Calor Máximo disponible\n",
    "Qmax = Cmin*DeltaT_max\n",
    "#ficiencia térmica\n",
    "eficiencia = Q_crudo/Qmax\n",
    "\n",
    " \n",
    "print(f'Capacidad Térmica Mínima Cmin = %.1f W/K'%Cmin)\n",
    "print(f'Fluido Cmin: '+fluido_cmin)\n",
    "print(f'Calor Máximo disponible Qmax=%.1f kW'%(Qmax*1e-3))\n",
    "print(f'Eficiencia térmica del equipo = %.2f'%eficiencia)\n"
   ]
  },
  {
   "cell_type": "markdown",
   "id": "d819fd61",
   "metadata": {
    "papermill": {
     "duration": 0.026476,
     "end_time": "2021-05-30T21:24:18.733833",
     "exception": false,
     "start_time": "2021-05-30T21:24:18.707357",
     "status": "completed"
    },
    "tags": []
   },
   "source": [
    "## LMTD, área y Coeficiente Global \n"
   ]
  },
  {
   "cell_type": "code",
   "execution_count": 17,
   "id": "1916c2e0",
   "metadata": {
    "papermill": {
     "duration": 0.053378,
     "end_time": "2021-05-30T21:24:18.823659",
     "exception": false,
     "start_time": "2021-05-30T21:24:18.770281",
     "status": "completed"
    },
    "tags": []
   },
   "outputs": [
    {
     "data": {
      "text/latex": [
       "Conductancia Global U=11.8W/m$^2$"
      ],
      "text/plain": [
       "<IPython.core.display.Latex object>"
      ]
     },
     "metadata": {},
     "output_type": "display_data"
    },
    {
     "data": {
      "text/latex": [
       "Velocidad crudo $V_{crudo}=0.075$m/s"
      ],
      "text/plain": [
       "<IPython.core.display.Latex object>"
      ]
     },
     "metadata": {},
     "output_type": "display_data"
    },
    {
     "data": {
      "text/latex": [
       "Velocidad crudo $V_{glycol}=0.007$m/s"
      ],
      "text/plain": [
       "<IPython.core.display.Latex object>"
      ]
     },
     "metadata": {},
     "output_type": "display_data"
    }
   ],
   "source": [
    "LMTD = ht.LMTD(Tci=T_glycol_e, Tco=T_glycol_s, Thi=T_crudo_e, Tho=T_crudo_s)\n",
    "\n",
    "Area = D_interno*np.pi*Longitud\n",
    "#######################\n",
    "U = Q_crudo/(LMTD*Area)\n",
    "\n",
    "display(Latex(f'Conductancia Global U={U:.1f}W/m$^2$'))\n",
    "\n",
    "Area_pasaje_crudo = (D_interno**2*np.pi/4)\n",
    "Veloc_crudo = Caudal_crudo / Area_pasaje_crudo\n",
    "\n",
    "Area_pasaje_glycol = ( (D_externo**2-D_interno**2)*np.pi/4)\n",
    "Perimetro_glycol = D_interno*np.pi+D_externo*np.pi\n",
    "\n",
    "Veloc_glycol  = Caudal_glycol / Area_pasaje_glycol\n",
    "\n",
    "\n",
    "D_hidraulico_glycol = 4*Area_pasaje_glycol / Perimetro_glycol\n",
    "\n",
    "display(Latex(f'Velocidad crudo $V_{{crudo}}={Veloc_crudo:.3f}$m/s'))\n",
    "display(Latex(f'Velocidad crudo $V_{{glycol}}={Veloc_glycol:.3f}$m/s'))\n",
    "\n",
    "\n",
    "#Aire.veloc = Aire.caudal / Aire.area\n",
    "#Aire.Reynolds()\n",
    "#Npasotubos =  Re_design*(np.pi*Tubo_dext-Tubo_esp*2*Ntubos_0*m ) / (4*m_t)"
   ]
  },
  {
   "cell_type": "markdown",
   "id": "fdb5ff54",
   "metadata": {
    "papermill": {
     "duration": 0.027009,
     "end_time": "2021-05-30T21:24:19.006551",
     "exception": false,
     "start_time": "2021-05-30T21:24:18.979542",
     "status": "completed"
    },
    "tags": []
   },
   "source": [
    "ŽUKAUSKAS, A. Heat transfer from tubes in crossflow. En Advances in heat transfer. Elsevier, 1972. p. 93-160."
   ]
  },
  {
   "cell_type": "code",
   "execution_count": 18,
   "id": "c94a1b95",
   "metadata": {
    "papermill": {
     "duration": 0.03529,
     "end_time": "2021-05-30T21:24:19.069169",
     "exception": false,
     "start_time": "2021-05-30T21:24:19.033879",
     "status": "completed"
    },
    "tags": []
   },
   "outputs": [
    {
     "data": {
      "text/latex": [
       "$Re_{crudo}=314$,$Nu_{crudo}=10.0$, $hc_{crudo}=51$"
      ],
      "text/plain": [
       "<IPython.core.display.Latex object>"
      ]
     },
     "metadata": {},
     "output_type": "display_data"
    },
    {
     "data": {
      "text/latex": [
       "$Re_{glycol}=254$,    $Nu_{glycol}=5.1$,$hc_{glycol}=27$"
      ],
      "text/plain": [
       "<IPython.core.display.Latex object>"
      ]
     },
     "metadata": {},
     "output_type": "display_data"
    }
   ],
   "source": [
    "Re_crudo = Veloc_crudo * D_interno / nu_crudo\n",
    "Re_glycol = Veloc_glycol * D_hidraulico_glycol / nu_glycol\n",
    "Nu_crudo = ht.conv_internal.turbulent_Colburn(Re_crudo,Pr_crudo)\n",
    "Nu_glycol = ht.conv_internal.turbulent_Colburn(Re_glycol,Pr_glycol)\n",
    "hc_crudo = Nu_crudo*k_crudo/D_interno\n",
    "hc_glycol = Nu_glycol*k_glycol/D_hidraulico_glycol\n",
    "display(Latex(f'$Re_{{crudo}}={Re_crudo:.0f}$,$Nu_{{crudo}}={Nu_crudo:.1f}$, $hc_{{crudo}}={hc_crudo:.0f}$'))\n",
    "display(Latex(f'$Re_{{glycol}}={Re_glycol:.0f}$,    $Nu_{{glycol}}={Nu_glycol:.1f}$,$hc_{{glycol}}={hc_glycol:.0f}$'))\n",
    "#print('Coeficiente conveccion aire = %.1f'%Aire.hc)"
   ]
  },
  {
   "cell_type": "markdown",
   "id": "7599e910",
   "metadata": {
    "papermill": {
     "duration": 0.027354,
     "end_time": "2021-05-30T21:24:19.125477",
     "exception": false,
     "start_time": "2021-05-30T21:24:19.098123",
     "status": "completed"
    },
    "tags": []
   },
   "source": [
    "COLBURN, Allan P. A method of correlating forced convection heat-transfer data and a comparison with fluid friction. International Journal of Heat and Mass Transfer, 1964, vol. 7, no 12, p. 1359-1384."
   ]
  },
  {
   "cell_type": "code",
   "execution_count": 21,
   "id": "4023bcbf-e101-46c3-9953-8192aedab646",
   "metadata": {},
   "outputs": [],
   "source": [
    "k_acero = ht.k_material('stainless steel')\n",
    "espesor_tubo = 1e-3"
   ]
  },
  {
   "cell_type": "code",
   "execution_count": 22,
   "id": "c80bed78",
   "metadata": {
    "papermill": {
     "duration": 0.037501,
     "end_time": "2021-05-30T21:24:19.611607",
     "exception": false,
     "start_time": "2021-05-30T21:24:19.574106",
     "status": "completed"
    },
    "tags": []
   },
   "outputs": [],
   "source": [
    "Ulimpio = (1/ (hc_crudo*D_interno) + np.log((D_interno+espesor_tubo)/D_interno)/k_acero + 1/(hc_glycol*(D_interno+espesor_tubo)))**-1\n",
    "#U_calc = 1 / (1/Ulimpio + Rf *(1+Tubo_dext/Tubo_dint))\n",
    "\n"
   ]
  },
  {
   "cell_type": "code",
   "execution_count": 23,
   "id": "83e0d79a-d418-40fd-9e3b-701985e6e3ac",
   "metadata": {},
   "outputs": [
    {
     "data": {
      "text/plain": [
       "(440.2452970082708, 1.2961839923607767)"
      ]
     },
     "execution_count": 23,
     "metadata": {},
     "output_type": "execute_result"
    }
   ],
   "source": [
    "1/ (np.log((D_interno+espesor_tubo)/D_interno)/k_acero ), (hc_crudo*D_interno) "
   ]
  },
  {
   "cell_type": "code",
   "execution_count": 22,
   "id": "351ed4de-f104-481f-8158-e67334f721d2",
   "metadata": {},
   "outputs": [
    {
     "data": {
      "text/plain": [
       "(4.270114968579573, 1531.9786379170362)"
      ]
     },
     "execution_count": 22,
     "metadata": {},
     "output_type": "execute_result"
    }
   ],
   "source": [
    "Ulimpio,hc_crudo"
   ]
  },
  {
   "cell_type": "code",
   "execution_count": 24,
   "id": "1557ace1",
   "metadata": {
    "papermill": {
     "duration": 0.038704,
     "end_time": "2021-05-30T21:24:19.678680",
     "exception": false,
     "start_time": "2021-05-30T21:24:19.639976",
     "status": "completed"
    },
    "tags": []
   },
   "outputs": [
    {
     "data": {
      "text/latex": [
       "$\\Delta p_{crudo}=0.3559587650480511$Pa"
      ],
      "text/plain": [
       "<IPython.core.display.Latex object>"
      ]
     },
     "metadata": {},
     "output_type": "display_data"
    },
    {
     "data": {
      "text/latex": [
       "$\\Delta p_{glycol}=0.0012161099724487204$Pa"
      ],
      "text/plain": [
       "<IPython.core.display.Latex object>"
      ]
     },
     "metadata": {},
     "output_type": "display_data"
    }
   ],
   "source": [
    "# Caida de presion\n",
    "\n",
    "# Calculo para flujo en tubos\n",
    "roughness = fluids.roughness_Farshad('Carbon steel, bare', D=D_interno)\n",
    "roughness_gl = fluids.roughness_Farshad('Carbon steel, bare', D=D_hidraulico_glycol)\n",
    "\n",
    "f_c = fluids.friction.friction_factor(Re=Re_crudo, eD=roughness/D_interno)\n",
    "f_c2 = 1.2*(0.0014+0.125/Re_crudo**.32)\n",
    "f_c_gl = fluids.friction.friction_factor(Re=Re_glycol, eD=roughness_gl/D_hidraulico_glycol)\n",
    "\n",
    "Delta_p_crudo = f_c*Veloc_crudo**2*Longitud/D_interno/2 \n",
    "Delta_p_glycol = f_c_gl*Veloc_glycol**2*Longitud/D_hidraulico_glycol/2 \n",
    "\n",
    "display(Latex(f'$\\Delta p_{{crudo}}={Delta_p_crudo}$Pa'))\n",
    "display(Latex(f'$\\Delta p_{{glycol}}={Delta_p_glycol}$Pa'))"
   ]
  },
  {
   "cell_type": "code",
   "execution_count": 13,
   "id": "416eb2ee",
   "metadata": {
    "_kg_hide-input": true,
    "papermill": {
     "duration": 0.091143,
     "end_time": "2021-05-30T21:24:19.799295",
     "exception": false,
     "start_time": "2021-05-30T21:24:19.708152",
     "status": "completed"
    },
    "tags": []
   },
   "outputs": [
    {
     "name": "stdout",
     "output_type": "stream",
     "text": [
      "Se puede volcar sobre un archivo Excel.\n"
     ]
    },
    {
     "data": {
      "text/html": [
       "<div>\n",
       "<style scoped>\n",
       "    .dataframe tbody tr th:only-of-type {\n",
       "        vertical-align: middle;\n",
       "    }\n",
       "\n",
       "    .dataframe tbody tr th {\n",
       "        vertical-align: top;\n",
       "    }\n",
       "\n",
       "    .dataframe thead th {\n",
       "        text-align: right;\n",
       "    }\n",
       "</style>\n",
       "<table border=\"1\" class=\"dataframe\">\n",
       "  <thead>\n",
       "    <tr style=\"text-align: right;\">\n",
       "      <th></th>\n",
       "      <th>Unnamed: 0</th>\n",
       "      <th>Unnamed: 1</th>\n",
       "      <th>Unnamed: 2</th>\n",
       "    </tr>\n",
       "  </thead>\n",
       "  <tbody>\n",
       "    <tr>\n",
       "      <th>0</th>\n",
       "      <td>Nombre Fluido</td>\n",
       "      <td>Crudo</td>\n",
       "      <td>Glycol 50%</td>\n",
       "    </tr>\n",
       "    <tr>\n",
       "      <th>1</th>\n",
       "      <td>Caudal masico (kg/s)</td>\n",
       "      <td>0.28</td>\n",
       "      <td>0.29</td>\n",
       "    </tr>\n",
       "    <tr>\n",
       "      <th>2</th>\n",
       "      <td>Temperatura Entrada</td>\n",
       "      <td>60.0</td>\n",
       "      <td>-20.0</td>\n",
       "    </tr>\n",
       "    <tr>\n",
       "      <th>3</th>\n",
       "      <td>Temperatura salida</td>\n",
       "      <td>22.0</td>\n",
       "      <td>5.0</td>\n",
       "    </tr>\n",
       "    <tr>\n",
       "      <th>4</th>\n",
       "      <td>Densidad kg/m3</td>\n",
       "      <td>850</td>\n",
       "      <td>1078</td>\n",
       "    </tr>\n",
       "    <tr>\n",
       "      <th>5</th>\n",
       "      <td>Viscosidad cP</td>\n",
       "      <td>6.4</td>\n",
       "      <td>11.4</td>\n",
       "    </tr>\n",
       "    <tr>\n",
       "      <th>6</th>\n",
       "      <td>Calor específico J/Kg C</td>\n",
       "      <td>2100</td>\n",
       "      <td>3159</td>\n",
       "    </tr>\n",
       "    <tr>\n",
       "      <th>7</th>\n",
       "      <td>Conductividad térmica W/Kg C</td>\n",
       "      <td>0.13</td>\n",
       "      <td>0.37</td>\n",
       "    </tr>\n",
       "    <tr>\n",
       "      <th>8</th>\n",
       "      <td>Presión de entrada kPa</td>\n",
       "      <td>101.3</td>\n",
       "      <td>101.3</td>\n",
       "    </tr>\n",
       "    <tr>\n",
       "      <th>9</th>\n",
       "      <td>Velocidad m/s</td>\n",
       "      <td>4.7</td>\n",
       "      <td>0.6</td>\n",
       "    </tr>\n",
       "    <tr>\n",
       "      <th>10</th>\n",
       "      <td>Caída de presión Pa</td>\n",
       "      <td>734.2</td>\n",
       "      <td>13.1</td>\n",
       "    </tr>\n",
       "    <tr>\n",
       "      <th>11</th>\n",
       "      <td>Resistencia de ensuciamiento m2C/W</td>\n",
       "      <td>NaN</td>\n",
       "      <td>NaN</td>\n",
       "    </tr>\n",
       "    <tr>\n",
       "      <th>12</th>\n",
       "      <td>Calor intercambiado kW</td>\n",
       "      <td>22.61</td>\n",
       "      <td>NaN</td>\n",
       "    </tr>\n",
       "    <tr>\n",
       "      <th>13</th>\n",
       "      <td>Coeficiente Global de Transferencia</td>\n",
       "      <td>979.6</td>\n",
       "      <td>NaN</td>\n",
       "    </tr>\n",
       "  </tbody>\n",
       "</table>\n",
       "</div>"
      ],
      "text/plain": [
       "                             Unnamed: 0 Unnamed: 1  Unnamed: 2\n",
       "0                         Nombre Fluido      Crudo  Glycol 50%\n",
       "1                  Caudal masico (kg/s)       0.28        0.29\n",
       "2                   Temperatura Entrada       60.0       -20.0\n",
       "3                    Temperatura salida       22.0         5.0\n",
       "4                        Densidad kg/m3        850        1078\n",
       "5                         Viscosidad cP        6.4        11.4\n",
       "6               Calor específico J/Kg C       2100        3159\n",
       "7          Conductividad térmica W/Kg C       0.13        0.37\n",
       "8                Presión de entrada kPa      101.3       101.3\n",
       "9                         Velocidad m/s        4.7         0.6\n",
       "10                  Caída de presión Pa      734.2        13.1\n",
       "11   Resistencia de ensuciamiento m2C/W        NaN         NaN\n",
       "12               Calor intercambiado kW      22.61         NaN\n",
       "13  Coeficiente Global de Transferencia      979.6         NaN"
      ]
     },
     "execution_count": 13,
     "metadata": {},
     "output_type": "execute_result"
    }
   ],
   "source": [
    "print('Se puede volcar sobre un archivo Excel.')\n",
    "# Workbook is created \n",
    "wb = xw.Workbook() \n",
    "xw.add_palette_colour(\"gris\", 0x21)\n",
    "wb.set_colour_RGB(0x21, 200, 200,200)  \n",
    "# add_sheet is used to create sheet. \n",
    "sheet1 = wb.add_sheet('Performance Unidad') \n",
    "style = xw.easyxf('pattern: pattern solid, fore_colour gris;')\n",
    "# Input data into rows \n",
    "sheet1.write(3, 0, 'Nombre Fluido') \n",
    "sheet1.write(3, 1, 'Crudo') \n",
    "sheet1.write(3, 2, 'Glycol 50%') \n",
    "\n",
    "sheet1.write(4, 0, 'Caudal masico (kg/s)',style) \n",
    "sheet1.write(4, 1, '%.2f'%(Caudal_crudo*rho_crudo),style) \n",
    "sheet1.write(4, 2, '%.2f'%(Caudal_glycol*rho_glycol),style) \n",
    "\n",
    "sheet1.write(5, 0, 'Temperatura Entrada') \n",
    "sheet1.write(5, 1, '%.1f'%T_crudo_e) \n",
    "sheet1.write(5, 2, '%.1f'%T_glycol_e) \n",
    "\n",
    "sheet1.write(6, 0, 'Temperatura salida',style) \n",
    "sheet1.write(6, 1, f'{T_crudo_s:.1f}',style) \n",
    "sheet1.write(6, 2, f'{T_glycol_s:.1f}',style) \n",
    "sheet1.write(7, 0, 'Densidad kg/m3') \n",
    "sheet1.write(7, 1, f'{rho_crudo:.0f}')\n",
    "sheet1.write(7, 2, f'{rho_glycol:.0f}')\n",
    "sheet1.write(8, 0, 'Viscosidad cP',style) \n",
    "sheet1.write(8, 1, f'{mu_crudo*1e3:.1f}',style) \n",
    "sheet1.write(8, 2, f'{mu_glycol*1e3:.1f}',style) \n",
    "\n",
    "\n",
    "sheet1.write(9, 0, 'Calor específico J/Kg C')\n",
    "sheet1.write(9, 1, f'{Cp_crudo:.0f}')\n",
    "sheet1.write(9, 2, f'{Cp_glycol:.0f}')\n",
    "\n",
    "\n",
    "sheet1.write(10, 0, 'Conductividad térmica W/Kg C',style) \n",
    "sheet1.write(10, 1, f'{k_crudo:.2f}',style) \n",
    "sheet1.write(10, 2, f'{k_glycol:.2f}',style) \n",
    "\n",
    "sheet1.write(11, 0, 'Presión de entrada kPa') \n",
    "sheet1.write(11, 1, '%.1f'%(101.3))\n",
    "sheet1.write(11, 2, '%.1f'%(101.3))\n",
    "\n",
    "\n",
    "sheet1.write(12, 0, 'Velocidad m/s',style) \n",
    "sheet1.write(12, 1, f'{Veloc_crudo:.1f}',style)\n",
    "sheet1.write(12, 2, f'{Veloc_glycol:.1f}',style)\n",
    "\n",
    "\n",
    "sheet1.write(13, 0, 'Caída de presión Pa') \n",
    "sheet1.write(13, 1, f'{Delta_p_crudo:.1f}')\n",
    "sheet1.write(13, 2, f'{Delta_p_glycol:.1f}')\n",
    "\n",
    "\n",
    "sheet1.write(14, 0, 'Resistencia de ensuciamiento m2C/W',style) \n",
    "#sheet1.write(14, 1, '%.4f'%(Rf/2),style)\n",
    "#sheet1.write(14, 2, '%.4f'%(Rf/2),style)\n",
    "\n",
    "sheet1.write(15, 0, 'Calor intercambiado kW') \n",
    "sheet1.write(15, 1, f'{Q_crudo*1e-3}')\n",
    "\n",
    "sheet1.write(16, 0, 'Coeficiente Global de Transferencia',style)\n",
    "sheet1.write(16, 1, f'{U:.1f}',style)\n",
    "\n",
    "nombre_salida = 'Intercambiador_salida.xls'\n",
    "wb.save(nombre_salida)\n",
    "data_salida_excel = pd.read_excel('./'+nombre_salida,skiprows=2)\n",
    "data_salida_excel"
   ]
  },
  {
   "cell_type": "code",
   "execution_count": 25,
   "id": "b00abc95-ef00-4152-9c6a-b497e2b24d88",
   "metadata": {},
   "outputs": [
    {
     "ename": "SyntaxError",
     "evalue": "invalid syntax (2619805294.py, line 1)",
     "output_type": "error",
     "traceback": [
      "\u001b[0;36m  Input \u001b[0;32mIn [25]\u001b[0;36m\u001b[0m\n\u001b[0;31m    calcular volumen de parafina necesario.... tres veces lo que deposita 5mm en la pared\u001b[0m\n\u001b[0m             ^\u001b[0m\n\u001b[0;31mSyntaxError\u001b[0m\u001b[0;31m:\u001b[0m invalid syntax\n"
     ]
    }
   ],
   "source": [
    "calcular volumen de parafina necesario.... tres veces lo que deposita 5mm en la pared"
   ]
  },
  {
   "cell_type": "code",
   "execution_count": 28,
   "id": "07b06e18",
   "metadata": {
    "papermill": {
     "duration": 0.038502,
     "end_time": "2021-05-30T21:24:21.917769",
     "exception": false,
     "start_time": "2021-05-30T21:24:21.879267",
     "status": "completed"
    },
    "tags": []
   },
   "outputs": [],
   "source": [
    "Diam = 25.4e-3\n",
    "Diam_para = 25.4e-3-2.5e-3\n",
    "\n",
    "Vol_para = (Diam**2*np.pi/4-Diam_para**2*np.pi/4)*Longitud"
   ]
  },
  {
   "cell_type": "code",
   "execution_count": 29,
   "id": "6497460a-a223-4c53-8b28-c312bd4325bd",
   "metadata": {},
   "outputs": [
    {
     "data": {
      "text/plain": [
       "1.5173892516838692"
      ]
     },
     "execution_count": 29,
     "metadata": {},
     "output_type": "execute_result"
    }
   ],
   "source": [
    "Vol_para*1e3"
   ]
  },
  {
   "cell_type": "code",
   "execution_count": null,
   "id": "175a60fa-a6b3-4d5f-88fb-16f3404d20dd",
   "metadata": {},
   "outputs": [],
   "source": []
  }
 ],
 "metadata": {
  "kernelspec": {
   "display_name": "Python 3 (ipykernel)",
   "language": "python",
   "name": "python3"
  },
  "language_info": {
   "codemirror_mode": {
    "name": "ipython",
    "version": 3
   },
   "file_extension": ".py",
   "mimetype": "text/x-python",
   "name": "python",
   "nbconvert_exporter": "python",
   "pygments_lexer": "ipython3",
   "version": "3.11.5"
  },
  "latex_envs": {
   "LaTeX_envs_menu_present": true,
   "autoclose": true,
   "autocomplete": true,
   "bibliofile": "biblio.bib",
   "cite_by": "apalike",
   "current_citInitial": 1,
   "eqLabelWithNumbers": true,
   "eqNumInitial": 1,
   "hotkeys": {
    "equation": "Ctrl-E",
    "itemize": "Ctrl-I"
   },
   "labels_anchors": false,
   "latex_user_defs": false,
   "report_style_numbering": false,
   "user_envs_cfg": false
  },
  "papermill": {
   "default_parameters": {},
   "duration": 23.771076,
   "end_time": "2021-05-30T21:24:22.664715",
   "environment_variables": {},
   "exception": null,
   "input_path": "__notebook__.ipynb",
   "output_path": "__notebook__.ipynb",
   "parameters": {},
   "start_time": "2021-05-30T21:23:58.893639",
   "version": "2.3.3"
  }
 },
 "nbformat": 4,
 "nbformat_minor": 5
}
