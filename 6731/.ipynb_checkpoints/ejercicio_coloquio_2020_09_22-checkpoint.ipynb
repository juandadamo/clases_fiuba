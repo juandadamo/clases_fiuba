{
 "cells": [
  {
   "cell_type": "code",
   "execution_count": 1,
   "metadata": {},
   "outputs": [],
   "source": [
    "%matplotlib notebook\n",
    "import numpy as np\n",
    "import matplotlib.pyplot as plt\n",
    "from matplotlib import markers,lines,colors\n",
    "from scipy import interpolate\n",
    "import ht,fluids\n",
    "from iapws import IAPWS97\n",
    "import pandas as pd"
   ]
  },
  {
   "cell_type": "markdown",
   "metadata": {},
   "source": [
    "    Se requiere calentar un caudal másico de 4 kg/s de agua de proceso, desde 20 a 40$^\\circ$C en un intercambiador\n",
    "    de calor de casco y tubos. En el lado de la carcasa, se usa otra corriente de agua de servicio como fluido\n",
    "    de calentamiento, con un caudal másico de 2 kg/s, a una temperatura de entrada de 100$^\\circ$C. La\n",
    "    configuración del equipo debe ser de 1 paso por carcasa y (2, 4, 6... pasos por tubos).\n",
    "    El coeficiente global de transferencia de calor es de 1500 W/m2 K, cuando el agua que circula por lo tubos\n",
    "    tiene una velocidad de 0.4m/s, considerando tubos de 19mm de diámetro externo y 1mm de espesor de\n",
    "    pared. Debido a las limitaciones de espacio, la longitud de los tubos debe estar comprendida entre 1 y 2m.\n",
    "    Se pide:\n",
    "\n",
    "    (a) Determinar las propiedades térmicas del flujo de proceso, y utilizar estas mismas para la\n",
    "    corriente de servicio.\n",
    "    (b) El calor intercambiado.\n",
    "    (c) La temperatura de salida del agua de servicio.\n",
    "    (d) En un gráfico T vs L, dibujar el perfil de temperaturas del equipo.\n",
    "    (e) La superficie de intercambio.\n",
    "    (f) La longitud de los tubos.\n",
    "    (g) La cantidad de tubos necesaria, y la cantidad por paso.\n",
    "    (h) El número de pasos por tubos requeridos.\n",
    "    Un problema en la instalación causa que la temperatura del agua de calefacción llegue solo a 85°C.\n",
    "    (i) Calcular las nuevas temperaturas de salida y el calor intercambiado.\n",
    "    (j) Esquematice el circuito eléctrico equivalente que describe el comportamiento del equipo\n",
    "        indicando:\n",
    "        a.- La expresión de todas las resistencias térmicas, teniendo en cuenta que el equipo\n",
    "        posee incrustaciones a ambos lados de la superficie de intercambio.\n",
    "        b.- TODOS los potenciales térmicos\n",
    "        c.- TODOS los flujos de calor."
   ]
  },
  {
   "cell_type": "code",
   "execution_count": 3,
   "metadata": {},
   "outputs": [],
   "source": [
    "#Datos: Agua. p proceso   s servicio\n",
    "m_p = 4\n",
    "T_pe = 20\n",
    "T_ps = 40\n",
    "m_s = 2\n",
    "T_se = 95\n",
    "U_global = 1500\n",
    "V_t = 0.4\n",
    "D_te = 19e-3\n",
    "e_t = 1e-3\n",
    "\n",
    "T_se2 = 85\n",
    "\n",
    "agua_p = IAPWS97(T=(T_pe+T_ps)/2+273, x=0)  \n",
    "rho_p = agua_p.rho\n",
    "k_p = agua_p.k\n",
    "cp_p = agua_p.cp*1e3\n",
    "nu_p = agua_p.nu\n",
    "\n",
    "T_ss = (T_pe+T_ps)/2\n",
    "T_s = (T_se+T_ss)/2\n",
    "\n",
    "agua_s = IAPWS97(T=T_s+273, x=0)  \n",
    "rho_s = agua_s.rho\n",
    "k_s = agua_s.k\n",
    "cp_s = agua_s.cp*1e3\n",
    "nu_s = agua_s.nu\n"
   ]
  },
  {
   "cell_type": "code",
   "execution_count": 4,
   "metadata": {},
   "outputs": [],
   "source": [
    "Q_p = m_p*cp_p*(T_ps-T_pe)\n",
    "\n",
    "T_ss = T_se-Q_p/m_s/cp_s"
   ]
  },
  {
   "cell_type": "code",
   "execution_count": 8,
   "metadata": {},
   "outputs": [
    {
     "data": {
      "text/plain": [
       "55.035132193366614"
      ]
     },
     "execution_count": 8,
     "metadata": {},
     "output_type": "execute_result"
    }
   ],
   "source": [
    "Q_p\n",
    "T_ss"
   ]
  },
  {
   "cell_type": "code",
   "execution_count": 25,
   "metadata": {},
   "outputs": [
    {
     "name": "stdout",
     "output_type": "stream",
     "text": [
      "0.26666666666666666 1.9982433903316692 0.9270467172483557\n"
     ]
    }
   ],
   "source": [
    "#Superficie de Intercambio\n",
    "R = (T_se-T_ss)/(T_ps-T_pe)\n",
    "P = (T_ps-T_pe)/(T_se-T_pe)\n",
    "\n",
    "\n",
    "Ft = ht.F_LMTD_Fakheri(Tci=T_pe, Tco=T_ps, Thi=T_se, Tho=T_ss, shells=1)\n",
    "print(P,R,Ft)"
   ]
  },
  {
   "cell_type": "code",
   "execution_count": 44,
   "metadata": {},
   "outputs": [
    {
     "name": "stdout",
     "output_type": "stream",
     "text": [
      "44.26978113674439 44.26978113674437 37.312503016502525\n"
     ]
    }
   ],
   "source": [
    "LMTD = ht.LMTD(T_se, T_ss, T_pe, T_ps)\n",
    "#ht.LMTD?\n",
    "delta1,delta2 = [(T_se-T_ps),(T_ss-T_pe)]\n",
    "LMTD2 = ( delta1-delta2 )/ np.log(delta1/delta2)\n",
    "\n",
    "\n",
    "LMTD3 = ht.LMTD(T_se, T_ss, T_pe, T_ps,counterflow=False)\n",
    "print(LMTD,LMTD2,LMTD3)"
   ]
  },
  {
   "cell_type": "code",
   "execution_count": 58,
   "metadata": {},
   "outputs": [
    {
     "name": "stdout",
     "output_type": "stream",
     "text": [
      "Area= 5.43\n",
      "numero de tubos  = 88. Longitud = 1.15\n"
     ]
    }
   ],
   "source": [
    "Area = Q_p / (U_global*LMTD*Ft)\n",
    "print('Area= %.2f'%Area)\n",
    "\n",
    "#caudal volumetrico tubos\n",
    "G_t  = m_p / rho_p\n",
    "D_ti = D_te-2*e_t\n",
    "A_t = D_ti**2*np.pi/4\n",
    "N_pasos = 2\n",
    "#V_t = G_t/A_t/N_tubos*N_pasos \n",
    "N_tubos = G_t/A_t/V_t*N_pasos \n",
    "Long_tubos = Area / N_tubos/np.pi/D_ti\n",
    "print('numero de tubos  = %.0d. Longitud = %1.3g'%(N_tubos,Long_tubos))\n",
    "\n"
   ]
  },
  {
   "cell_type": "code",
   "execution_count": 67,
   "metadata": {},
   "outputs": [
    {
     "name": "stdout",
     "output_type": "stream",
     "text": [
      "salto termico proceso = 20.00\n",
      "salto termico servicio = 39.96\n",
      "C_r=0.50\n",
      "Eficiencia=0.53\n"
     ]
    }
   ],
   "source": [
    "C_p = m_p*cp_p\n",
    "C_s = m_s*cp_s\n",
    "\n",
    "Cmin = np.min((C_p,C_s))\n",
    "Cmax = np.max((C_p,C_s))\n",
    "\n",
    "DeltaT_p = (T_ps-T_pe)\n",
    "DeltaT_s = (T_se-T_ss)\n",
    "DeltaT_max  = (T_se-T_pe)\n",
    "\n",
    "print('salto termico proceso = %.2f'%DeltaT_p)\n",
    "print('salto termico servicio = %.2f'%DeltaT_s)\n",
    "\n",
    "\n",
    "C_R = Cmin/Cmax\n",
    "print('C_r=%.2f'%C_R)\n",
    "#DeltaT_min = T_ss-T_ps\n",
    "\n",
    "epsilon = Q_p / (DeltaT_max*Cmin)\n",
    "print('Eficiencia=%.2f'%epsilon)"
   ]
  },
  {
   "cell_type": "code",
   "execution_count": 70,
   "metadata": {},
   "outputs": [
    {
     "name": "stdout",
     "output_type": "stream",
     "text": [
      "Nuevo Calor intercambiado Q=2.9e+05\n",
      "Nueva Temperatura de Salida de servicio T=50.4\n",
      "Nueva Temperatura de Salida de proceso T=37.3\n"
     ]
    }
   ],
   "source": [
    "#Nueva Condicion\n",
    "T_se2 = 85\n",
    "DeltaT_max2  = (T_se2-T_pe)\n",
    "Q_p2 = epsilon*DeltaT_max2*Cmin\n",
    "print('Nuevo Calor intercambiado Q=%.2g'%Q_p2)\n",
    "\n",
    "T_ss2 = T_se2-Q_p2/C_s\n",
    "T_ps2 = T_pe+Q_p2/C_p\n",
    "\n",
    "print('Nueva Temperatura de Salida de servicio T=%.1f'%T_ss2)\n",
    "print('Nueva Temperatura de Salida de proceso T=%.1f'%T_ps2)"
   ]
  },
  {
   "cell_type": "code",
   "execution_count": null,
   "metadata": {},
   "outputs": [],
   "source": []
  }
 ],
 "metadata": {
  "anaconda-cloud": {},
  "kernelspec": {
   "display_name": "Python 3 (ipykernel)",
   "language": "python",
   "name": "python3"
  },
  "language_info": {
   "codemirror_mode": {
    "name": "ipython",
    "version": 3
   },
   "file_extension": ".py",
   "mimetype": "text/x-python",
   "name": "python",
   "nbconvert_exporter": "python",
   "pygments_lexer": "ipython3",
   "version": "3.10.9"
  },
  "widgets": {
   "application/vnd.jupyter.widget-state+json": {
    "state": {},
    "version_major": 1,
    "version_minor": 0
   }
  }
 },
 "nbformat": 4,
 "nbformat_minor": 4
}
