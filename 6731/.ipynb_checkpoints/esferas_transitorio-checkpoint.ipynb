{
 "cells": [
  {
   "cell_type": "code",
   "execution_count": 1,
   "id": "a1775e7d-de14-4ced-93f2-c31ff1126942",
   "metadata": {
    "tags": []
   },
   "outputs": [],
   "source": [
    "import sympy as sp\n",
    "import matplotlib.pyplot as plt\n",
    "import numpy as np\n",
    "from IPython.display import Latex\n"
   ]
  },
  {
   "cell_type": "code",
   "execution_count": 2,
   "id": "85388f8f-ef97-41e5-a9df-5e77b5da5874",
   "metadata": {
    "tags": []
   },
   "outputs": [],
   "source": [
    "R, p, v, a, Cp, x, θ, T, h, k,ρ = sp .symbols('R p v a Cp x θ T h k ρ')"
   ]
  },
  {
   "cell_type": "markdown",
   "id": "f4c496c6-7da9-46b5-99d6-728b2bca4735",
   "metadata": {},
   "source": [
    "$\\rho C_p V T(x) + q(x) A_a dt = q(x+dx)A dt + \\rho C_p V T(x+dx) +h A_p(T(x)-T_\\infty)dt$\n",
    "\n",
    "$-\\rho C_p V  dx (dT(x)/dx) - dx (dq(x)/dx) A_a dt -h A_p(T(x)-T_\\infty)dt = 0$\n",
    "\n",
    "$-\\rho C_p \\pi R^2 (dx/dt)   dx (dT(x)/dx) - dx (dq(x)/dx) \\pi R^2  -h \\pi dx 2R(T(x)-T_\\infty) = 0$\n",
    "\n",
    "$\\theta = (T(x)-T_\\infty)$\n",
    "\n",
    "$-\\rho C_p \\pi R^2 (dx/dt)    (d\\theta/dx) -  (-k d^2\\theta/dx^2) \\pi R^2  -h \\pi  2R(\\theta) = 0$\n",
    "\n",
    "$k d^2\\theta/dx^2   R  -h    2(\\theta) -\\rho C_p  R (dx/dt)    (d\\theta/dx) = 0$\n",
    "\n",
    "$ d^2\\theta/dx^2   -2h \\theta    /(kR) -\\rho C_p  v(d\\theta/dx)/k = 0$\n",
    "\n",
    "$p^2= 2h/kR$                 \n",
    "\n",
    "$v/a= \\rho C_p  v /k $\n",
    "\n",
    "$ d^2\\theta/dx^2   -p^2\\theta  - (v/a)(d\\theta/dx) = 0$"
   ]
  },
  {
   "cell_type": "markdown",
   "id": "9a74a3d3-5572-46ef-a882-951d040420b7",
   "metadata": {},
   "source": [
    "## condicion $L\\gg 1$\n",
    "\n",
    "#### $v\\sim0$"
   ]
  },
  {
   "cell_type": "markdown",
   "id": "29dcac2a-5feb-4a62-8c75-9de18409959c",
   "metadata": {},
   "source": [
    "$\\theta = C_1 e^{-px}+C_2 e^{-px}$\n",
    "\n",
    "$x\\rightarrow\\infty~~~~~~\\longrightarrow~~~~ C_2 = 0$\n",
    "\n",
    "$x=0~~~~~~~~\\longrightarrow~~~~ C_1 = \\theta_0$"
   ]
  },
  {
   "cell_type": "code",
   "execution_count": 3,
   "id": "c86bf4cb-194e-40c3-bf12-9175f499b6b7",
   "metadata": {},
   "outputs": [
    {
     "data": {
      "text/latex": [
       "$\\displaystyle \\operatorname{Fx}{\\left(x \\right)} = C_{1} e^{- p x} + C_{2} e^{p x}$"
      ],
      "text/plain": [
       "Eq(Fx(x), C1*exp(-p*x) + C2*exp(p*x))"
      ]
     },
     "execution_count": 3,
     "metadata": {},
     "output_type": "execute_result"
    }
   ],
   "source": [
    "Fx = sp.Function('Fx')\n",
    "resultado = sp.dsolve(sp.Derivative(Fx(x),x,x)-p**2*Fx(x))\n",
    "resultado\n"
   ]
  },
  {
   "cell_type": "code",
   "execution_count": 4,
   "id": "daf5d522-6426-41eb-80f7-cc9ec5cc4d89",
   "metadata": {
    "tags": []
   },
   "outputs": [],
   "source": [
    "T1 = 800\n",
    "Ta = 300\n",
    "C1 = T1-Ta\n",
    "p = sp.sqrt(2*h/k/R)\n",
    "#x = np.linspace(0,10,100)\n",
    "θ = C1*sp.exp(-p*x)\n",
    "a = k/ρ/Cp\n",
    "xm = sp.solve(θ-1,x)[0]"
   ]
  },
  {
   "cell_type": "code",
   "execution_count": 5,
   "id": "9a392dfc-3d5a-477b-a203-1ffb2720df26",
   "metadata": {
    "tags": []
   },
   "outputs": [
    {
     "data": {
      "text/latex": [
       "$x_m=7.8mm$"
      ],
      "text/plain": [
       "<IPython.core.display.Latex object>"
      ]
     },
     "metadata": {},
     "output_type": "display_data"
    }
   ],
   "source": [
    "hi = 48;   Ri = 100e-6;   ki = 1.5; Cpi = 750; ρi=2000\n",
    "xmi = sp.N(xm.subs('h',hi).subs('R',Ri).subs('k',ki))\n",
    "display(Latex(f'$x_m={xmi*1e3:.2g}mm$'))"
   ]
  },
  {
   "cell_type": "markdown",
   "id": "7eb9339b-8432-4c3e-a957-aa4da17c8223",
   "metadata": {},
   "source": [
    "\n",
    "#### $v\\gg1$"
   ]
  },
  {
   "cell_type": "markdown",
   "id": "c0e87cb9-98ae-4575-ad55-12b35bff5da5",
   "metadata": {},
   "source": [
    "$-p^2\\theta  - (v/a)(d\\theta/dx) = 0$"
   ]
  },
  {
   "cell_type": "code",
   "execution_count": 34,
   "id": "9d74cdef-250d-4fa3-82cc-b2068942fbda",
   "metadata": {},
   "outputs": [],
   "source": [
    "Fx = sp.Function('Fx')\n",
    "resultado = sp.dsolve(sp.Derivative(Fx(x),x)*v/a+p**2*Fx(x))\n",
    "C1 = (T1-Ta)\n",
    "solucion_v_alta = resultado.subs('C1',C1).subs('v',6.4e-2).subs('k',ki).subs('R',Ri).subs('h',hi).subs('Cp',Cpi).subs('ρ',ρi).rhs"
   ]
  },
  {
   "cell_type": "code",
   "execution_count": 35,
   "id": "b2c77913-fadd-48d0-a38b-e195a8e7d031",
   "metadata": {},
   "outputs": [
    {
     "data": {
      "text/latex": [
       "$x_m=62cm$"
      ],
      "text/plain": [
       "<IPython.core.display.Latex object>"
      ]
     },
     "metadata": {},
     "output_type": "display_data"
    }
   ],
   "source": [
    "xm2 = sp.solve(solucion_v_alta-1,x)[0]\n",
    "display(Latex(f'$x_m={xm2*1e2:.2g}cm$'))"
   ]
  },
  {
   "cell_type": "markdown",
   "id": "b2dd6e42-d1ca-477d-bcf5-8f63c67a2cf2",
   "metadata": {},
   "source": [
    "#### $L\\simeq 1m$"
   ]
  },
  {
   "cell_type": "markdown",
   "id": "c882fc0a-ff83-47e8-9f11-2015d696d8e5",
   "metadata": {},
   "source": [
    "# Solucion completa"
   ]
  },
  {
   "cell_type": "code",
   "execution_count": 8,
   "id": "94337537-c58c-47a9-9398-783ef284f64b",
   "metadata": {},
   "outputs": [],
   "source": [
    "Fx = sp.Function('Fx')\n",
    "resultado = sp.dsolve(sp.Derivative(Fx(x),x)*v/a+p**2*Fx(x)-sp.Derivative(Fx(x),x,x))"
   ]
  },
  {
   "cell_type": "code",
   "execution_count": null,
   "id": "fbb16033-9f02-4fa4-9388-a50751f00b93",
   "metadata": {},
   "outputs": [],
   "source": []
  },
  {
   "cell_type": "code",
   "execution_count": 21,
   "id": "118229c5-4eb7-4ce6-8805-df505cb5f1b2",
   "metadata": {},
   "outputs": [
    {
     "data": {
      "text/latex": [
       "$\\displaystyle \\operatorname{Fx}{\\left(x \\right)} = C_{1} e^{\\frac{x \\left(Cp v ρ - \\frac{\\sqrt{R \\left(Cp^{2} R v^{2} ρ^{2} + 8 h k\\right)}}{R}\\right)}{2 k}}$"
      ],
      "text/plain": [
       "Eq(Fx(x), C1*exp(x*(Cp*v*ρ - sqrt(R*(Cp**2*R*v**2*ρ**2 + 8*h*k))/R)/(2*k)))"
      ]
     },
     "execution_count": 21,
     "metadata": {},
     "output_type": "execute_result"
    }
   ],
   "source": [
    "resultado.subs('C2',0)"
   ]
  },
  {
   "cell_type": "markdown",
   "id": "4fe6afb6-cad5-4ac7-85f8-ef45ee9baef2",
   "metadata": {},
   "source": [
    "$$C_2 \\exp\\left(\\frac{-v}{2a}(\\sqrt{1+4p^2a^2/v^2}-1)\\right)$$\n",
    "\n",
    "$$v_{cr} = 4p^2a^2$$"
   ]
  },
  {
   "cell_type": "code",
   "execution_count": 22,
   "id": "f11bba12-fb56-484f-98a2-6a93dd9f14b7",
   "metadata": {},
   "outputs": [],
   "source": [
    "vcr = sp.sqrt(4*p**2*a**2)"
   ]
  },
  {
   "cell_type": "code",
   "execution_count": 23,
   "id": "9eba97ba-2fe0-4e9b-b997-bf669b9156bd",
   "metadata": {},
   "outputs": [
    {
     "data": {
      "text/latex": [
       "$v_{cr}=1.6mm/s$"
      ],
      "text/plain": [
       "<IPython.core.display.Latex object>"
      ]
     },
     "metadata": {},
     "output_type": "display_data"
    }
   ],
   "source": [
    "velocidad_critica = vcr.subs('k',ki).subs('R',Ri).subs('h',hi).subs('Cp',Cpi).subs('ρ',ρi).evalf()\n",
    "display(Latex(f'$v_{{cr}}={velocidad_critica*1e3:.2g}mm/s$'))"
   ]
  },
  {
   "cell_type": "markdown",
   "id": "e87e086b-3932-4959-a5ae-6101fdf64d86",
   "metadata": {},
   "source": [
    "Luego, una velocidad del orden del cm/s ya puede considerarse alta-"
   ]
  },
  {
   "cell_type": "code",
   "execution_count": 42,
   "id": "ec2dd8fc-5d42-4b90-90de-e4a10513af89",
   "metadata": {},
   "outputs": [],
   "source": [
    "solucion_completa = resultado.subs('C2',0).subs('v',velocidad_critica).subs('k',ki).subs('R',Ri).subs('h',hi).subs('Cp',Cpi).subs('ρ',ρi).subs('C1',C1).rhs"
   ]
  },
  {
   "cell_type": "code",
   "execution_count": 46,
   "id": "404f558d-1dbd-4791-9bd2-cb789c29bd5c",
   "metadata": {},
   "outputs": [
    {
     "data": {
      "text/latex": [
       "$x_m=1.6cm$"
      ],
      "text/plain": [
       "<IPython.core.display.Latex object>"
      ]
     },
     "metadata": {},
     "output_type": "display_data"
    }
   ],
   "source": [
    "xm3 = sp.solve(solucion_completa-1,x)[0]\n",
    "#xm3 = sp.solve(500*sp.exp(-10*x)-1,x)[0]\n"
   ]
  },
  {
   "cell_type": "code",
   "execution_count": 48,
   "id": "a23fff4f-2ab9-4c3b-9046-fab29808c416",
   "metadata": {},
   "outputs": [
    {
     "data": {
      "text/latex": [
       "$x_m=1.6cm$"
      ],
      "text/plain": [
       "<IPython.core.display.Latex object>"
      ]
     },
     "metadata": {},
     "output_type": "display_data"
    }
   ],
   "source": [
    "display(Latex(f'$x_m={xm3*1e2:.2g}cm$'))"
   ]
  },
  {
   "cell_type": "code",
   "execution_count": null,
   "id": "987991c1-6dbb-4072-9f9d-e578f3d700ff",
   "metadata": {},
   "outputs": [],
   "source": []
  }
 ],
 "metadata": {
  "kernelspec": {
   "display_name": "Python 3 (ipykernel)",
   "language": "python",
   "name": "python3"
  },
  "language_info": {
   "codemirror_mode": {
    "name": "ipython",
    "version": 3
   },
   "file_extension": ".py",
   "mimetype": "text/x-python",
   "name": "python",
   "nbconvert_exporter": "python",
   "pygments_lexer": "ipython3",
   "version": "3.10.9"
  }
 },
 "nbformat": 4,
 "nbformat_minor": 5
}
