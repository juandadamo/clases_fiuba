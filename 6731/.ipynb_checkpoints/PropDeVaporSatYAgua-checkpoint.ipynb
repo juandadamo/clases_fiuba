{
 "cells": [
  {
   "cell_type": "code",
   "execution_count": 1,
   "metadata": {
    "colab": {
     "base_uri": "https://localhost:8080/"
    },
    "id": "RQ3_Hj4cn9VX",
    "outputId": "3779fd51-661d-494c-c088-d0f604a67199"
   },
   "outputs": [
    {
     "name": "stdout",
     "output_type": "stream",
     "text": [
      "Requirement already satisfied: ht in /home/juan/anaconda3/lib/python3.8/site-packages (1.0.1)\n",
      "Requirement already satisfied: CoolProp in /home/juan/anaconda3/lib/python3.8/site-packages (6.4.1)\n",
      "Requirement already satisfied: matplotlib in /home/juan/anaconda3/lib/python3.8/site-packages (3.3.4)\n",
      "Requirement already satisfied: numpy in /home/juan/anaconda3/lib/python3.8/site-packages (1.20.1)\n",
      "Requirement already satisfied: scipy in /home/juan/anaconda3/lib/python3.8/site-packages (1.6.2)\n",
      "Requirement already satisfied: fluids>=1.0.2 in /home/juan/anaconda3/lib/python3.8/site-packages (from ht) (1.0.9)\n",
      "Requirement already satisfied: pillow>=6.2.0 in /home/juan/anaconda3/lib/python3.8/site-packages (from matplotlib) (8.2.0)\n",
      "Requirement already satisfied: kiwisolver>=1.0.1 in /home/juan/anaconda3/lib/python3.8/site-packages (from matplotlib) (1.3.1)\n",
      "Requirement already satisfied: python-dateutil>=2.1 in /home/juan/anaconda3/lib/python3.8/site-packages (from matplotlib) (2.8.1)\n",
      "Requirement already satisfied: pyparsing!=2.0.4,!=2.1.2,!=2.1.6,>=2.0.3 in /home/juan/anaconda3/lib/python3.8/site-packages (from matplotlib) (2.4.7)\n",
      "Requirement already satisfied: cycler>=0.10 in /home/juan/anaconda3/lib/python3.8/site-packages (from matplotlib) (0.10.0)\n",
      "Requirement already satisfied: six in /home/juan/anaconda3/lib/python3.8/site-packages (from cycler>=0.10->matplotlib) (1.15.0)\n",
      "\u001b[33mWARNING: You are using pip version 21.3.1; however, version 22.0.3 is available.\n",
      "You should consider upgrading via the '/home/juan/anaconda3/bin/python -m pip install --upgrade pip' command.\u001b[0m\n"
     ]
    }
   ],
   "source": [
    "!pip install ht CoolProp matplotlib numpy scipy"
   ]
  },
  {
   "cell_type": "markdown",
   "metadata": {},
   "source": [
    "##### primera versión del alumno Juan Segundo Basombrio"
   ]
  },
  {
   "cell_type": "code",
   "execution_count": 14,
   "metadata": {
    "colab": {
     "base_uri": "https://localhost:8080/",
     "height": 322
    },
    "id": "PNfP7rHxoLoE",
    "outputId": "e0fa374f-66d9-4552-f326-c4af7ee26adb"
   },
   "outputs": [],
   "source": [
    "%matplotlib inline\n",
    "import numpy as np\n",
    "import CoolProp as cp\n",
    "import matplotlib.pyplot as plt\n"
   ]
  },
  {
   "cell_type": "code",
   "execution_count": 19,
   "metadata": {},
   "outputs": [],
   "source": [
    "temperaturas = np.linspace(273.06,373,100)\n",
    "entalpias_1 = np.zeros_like(temperaturas)\n",
    "volumen_1 = np.zeros_like(temperaturas)\n",
    "for i,temperaturas_i in  enumerate(temperaturas):\n",
    "    entalpias_1[i] =   cp.CoolProp.PropsSI('H','T',273.16,'P',1e3,'Water') \n",
    "    entalpias_1[i] =   1/cp.CoolProp.PropsSI('D','T',273.16,'P',1e3,'Water') \n",
    "    "
   ]
  },
  {
   "cell_type": "code",
   "execution_count": 20,
   "metadata": {},
   "outputs": [
    {
     "data": {
      "text/plain": [
       "[<matplotlib.lines.Line2D at 0x7f4da644c0d0>]"
      ]
     },
     "execution_count": 20,
     "metadata": {},
     "output_type": "execute_result"
    },
    {
     "data": {
      "image/png": "[encoded data removed]",
      "text/plain": [
       "<Figure size 432x288 with 1 Axes>"
      ]
     },
     "metadata": {
      "needs_background": "light"
     },
     "output_type": "display_data"
    }
   ],
   "source": [
    "fig,ax = plt.subplots()\n",
    "ax.plot(temperaturas,entalpias_1)"
   ]
  },
  {
   "cell_type": "code",
   "execution_count": 3,
   "metadata": {
    "colab": {
     "base_uri": "https://localhost:8080/"
    },
    "id": "gOmQb2iloUm_",
    "outputId": "0f92197a-8052-480c-a6ac-85192606a886"
   },
   "outputs": [
    {
     "name": "stdout",
     "output_type": "stream",
     "text": [
      "parametros calculados en base a una  T = 283\n",
      "datos agua\n",
      "densidad liq [kg/m3] =  999.6676170529616\n",
      "K liq [W/mK] =  0.5783970993045582\n",
      "Cp liq [J/kg K] =  4195.785247364795\n",
      "viscosidad din u liq [Pa.s = kg/m.s] =  0.0013116506760159838\n",
      "sigma [N/m] =  0.07431524696090372\n",
      "viscosidad cinem v liq [m2/s]=  1.312086791290443e-06\n",
      "alfa liq =  1.378977660789523e-07\n",
      "prnadtl liq =  9.51492419782361\n",
      "P st liq [Pa]=  1215.9084095945032\n",
      "T st [K] =  283.0\n",
      "T sat a la P_sat [k] =  373.1173825497736\n",
      "datos vapor\n",
      "densidad vap [kg/m3] =  0.009317799424605196\n",
      "K vap [W/m K] =  0.017402254283502522\n",
      "Cp vap [J/Kg K] =  1894.5385032282493\n",
      "viscosidad din u vap [Pa.s = Kg/m.s] =  9.233941787157986e-06\n",
      "viscosidad cinem v vapo [m2/s]=  0.0009910002744611811\n",
      "hfg [J/kg] =  2477542.33106365\n"
     ]
    }
   ],
   "source": [
    "#Propiedades de agua y vapor\n",
    "\n",
    "#EL numero que le sigue a Q es el titulo, en este caso es 0, por lo que tiene 0% de vapor\n",
    "#Todos los valors los da en el sistema internacional de unidades SI\n",
    "#EL fluido se modifica del texto \"Water\" buscar en la web de Coolprop cuales se encuentran incluidos\n",
    "\n",
    "#si queremos calcular los parametros en base a la P de saturacion, colocamos una P dentro de  '' en b\n",
    "# si queremos calcular los parametros en base a la Temperatura de referencia colocamos T\n",
    "\n",
    "Tr = 273+10\n",
    "P_sat = 101.3e3 # [Pa]\n",
    "b = 'T'\n",
    "#Debajo colocamos acorde a lo anterior ya sea Tr o P_sat\n",
    "b2 = Tr\n",
    "\n",
    "\n",
    "rho_a = cp.CoolProp.PropsSI('D',b,b2,'Q',0,'Water')                #densidad\n",
    "k_a =  cp.CoolProp.PropsSI('L',b,b2,'Q',0,'Water')                 # K del agua a esa P de sat\n",
    "cp_a = cp.CoolProp.PropsSI('C',b,b2,'Q',0,'Water')                 # Cp del agua a esa P de sat\n",
    "mu_a = cp.CoolProp.PropsSI('V',b,b2,'Q',0,'Water')                 # Viscosidad dinamica del agua a esa P de sat\n",
    "T_st = cp.CoolProp.PropsSI('T',b,b2,'Q',0,'Water')                # Temperatura de Saturación a esa P sat\n",
    "T_sat = cp.CoolProp.PropsSI('T','P',P_sat,'Q',0,'Water')           # Temperatura de saturacion a una determinada presion, si estamos evaluando segun presiones es igual a Tst si estamos con Tr no es lo mismo!\n",
    "sigma = cp.CoolProp.PropsSI('surface_tension',b,b2,'Q',0,'Water')  # Tension superficial del agua a esa P de sat\n",
    "nu_a = mu_a/rho_a                                                       # Viscosidad cinemtaica del agua a esa P de sat\n",
    "alfa_a = k_a/(rho_a*cp_a)\n",
    "pr_a = nu_a/alfa_a\n",
    "P_st = cp.CoolProp.PropsSI('P',b,b2,'Q',0,'Water')\n",
    "\n",
    "#EL numero que le sigue a Q es el titulo, en este caso es 0, por lo que tiene 0% de vapor\n",
    "rho_v = cp.CoolProp.PropsSI('D',b,b2,'Q',1,'Water')  # Densidad del vapor\n",
    "k_v =  cp.CoolProp.PropsSI('L',b,b2,'Q',1,'Water')   # K del vapor\n",
    "cp_v = cp.CoolProp.PropsSI('C',b,b2,'Q',1,'Water')   # Cp del vapor a esa P de sat\n",
    "mu_v = cp.CoolProp.PropsSI('V',b,b2,'Q',1,'Water')   # viscosidad dinamica del vapor a esa P de sat\n",
    "nu_v = mu_v/rho_v                                         # Viscosidad cinematica del vapor a esa P de sat\n",
    "\n",
    "H_a =   cp.CoolProp.PropsSI('H',b,b2,'Q',0,'Water')  #Entalpía del agua a esa P de sat\n",
    "H_v = cp.CoolProp.PropsSI('H',b,b2,'Q',1,'Water')    # Entalpía del vapor a esa p de sat\n",
    "Deltai_vap = H_v-H_a  #                                    # Delta entalpía condensacion o Hfg se lee en J/kg\n",
    "\n",
    "## ANTES DE MIRAR LOS DATOS FIJARSE SI LO QUE NECESITAMOS ES PSAT O TSAT (TST O PST)\n",
    "print('parametros calculados en base a una ', b,'=', b2)\n",
    "\n",
    "print('datos agua')\n",
    "print('densidad liq [kg/m3] = ', rho_a)\n",
    "print('K liq [W/mK] = ', k_a)\n",
    "print('Cp liq [J/kg K] = ', cp_a)\n",
    "print('viscosidad din u liq [Pa.s = kg/m.s] = ', mu_a)\n",
    "#print('T_sat liq [K] = ', T_sat)\n",
    "print('sigma [N/m] = ', sigma)\n",
    "print('viscosidad cinem v liq [m2/s]= ', nu_a)\n",
    "print('alfa liq = ', alfa_a)\n",
    "print('prnadtl liq = ', pr_a)\n",
    "print('P st liq [Pa]= ', P_st)\n",
    "print('T st [K] = ', T_st)\n",
    "print('T sat a la P_sat [k] = ', T_sat)\n",
    "\n",
    "print('datos vapor')\n",
    "print('densidad vap [kg/m3] = ', rho_v)\n",
    "print('K vap [W/m K] = ', k_v)\n",
    "print('Cp vap [J/Kg K] = ', cp_v)\n",
    "print('viscosidad din u vap [Pa.s = Kg/m.s] = ', mu_v)\n",
    "print('viscosidad cinem v vapo [m2/s]= ', nu_v)\n",
    "\n",
    "print(\"hfg [J/kg] = \",Deltai_vap)"
   ]
  },
  {
   "cell_type": "code",
   "execution_count": null,
   "metadata": {
    "id": "0iLtHkUDwBjj"
   },
   "outputs": [],
   "source": []
  }
 ],
 "metadata": {
  "colab": {
   "name": "PropDeVaporSatYAgua.ipynb",
   "provenance": []
  },
  "kernelspec": {
   "display_name": "Python 3",
   "language": "python",
   "name": "python3"
  },
  "language_info": {
   "codemirror_mode": {
    "name": "ipython",
    "version": 3
   },
   "file_extension": ".py",
   "mimetype": "text/x-python",
   "name": "python",
   "nbconvert_exporter": "python",
   "pygments_lexer": "ipython3",
   "version": "3.8.8"
  },
  "latex_envs": {
   "LaTeX_envs_menu_present": true,
   "autoclose": true,
   "autocomplete": true,
   "bibliofile": "biblio.bib",
   "cite_by": "apalike",
   "current_citInitial": 1,
   "eqLabelWithNumbers": true,
   "eqNumInitial": 1,
   "hotkeys": {
    "equation": "Ctrl-E",
    "itemize": "Ctrl-I"
   },
   "labels_anchors": false,
   "latex_user_defs": false,
   "report_style_numbering": false,
   "user_envs_cfg": false
  }
 },
 "nbformat": 4,
 "nbformat_minor": 1
}
