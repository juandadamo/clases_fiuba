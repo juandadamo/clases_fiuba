{
 "cells": [
  {
   "cell_type": "code",
   "execution_count": 1,
   "metadata": {
    "collapsed": true,
    "slideshow": {
     "slide_type": "skip"
    }
   },
   "outputs": [
    {
     "name": "stdout",
     "output_type": "stream",
     "text": [
      "Requirement already satisfied: sympy in /home/juan/.local/lib/python3.8/site-packages (1.8)\n",
      "Requirement already satisfied: matplotlib in /home/juan/.local/lib/python3.8/site-packages (3.4.2)\n",
      "Requirement already satisfied: numpy in /home/juan/.local/lib/python3.8/site-packages (1.20.3)\n",
      "Requirement already satisfied: scipy in /home/juan/.local/lib/python3.8/site-packages (1.6.3)\n",
      "Requirement already satisfied: IPython in /usr/lib/python3/dist-packages (7.13.0)\n",
      "Requirement already satisfied: itikz in /home/juan/.local/lib/python3.8/site-packages (0.1.5)\n",
      "Requirement already satisfied: mpmath>=0.19 in /home/juan/.local/lib/python3.8/site-packages (from sympy) (1.2.1)\n",
      "Requirement already satisfied: pillow>=6.2.0 in /usr/lib/python3/dist-packages (from matplotlib) (7.0.0)\n",
      "Requirement already satisfied: cycler>=0.10 in /home/juan/.local/lib/python3.8/site-packages (from matplotlib) (0.10.0)\n",
      "Requirement already satisfied: kiwisolver>=1.0.1 in /home/juan/.local/lib/python3.8/site-packages (from matplotlib) (1.3.1)\n",
      "Requirement already satisfied: python-dateutil>=2.7 in /usr/lib/python3/dist-packages (from matplotlib) (2.7.3)\n",
      "Requirement already satisfied: pyparsing>=2.2.1 in /home/juan/.local/lib/python3.8/site-packages (from matplotlib) (2.4.7)\n",
      "Requirement already satisfied: pexpect in /usr/lib/python3/dist-packages (from IPython) (4.6.0)\n",
      "Requirement already satisfied: six in /usr/lib/python3/dist-packages (from cycler>=0.10->matplotlib) (1.14.0)\n"
     ]
    }
   ],
   "source": [
    "!pip install sympy matplotlib numpy scipy IPython itikz "
   ]
  },
  {
   "cell_type": "code",
   "execution_count": 2,
   "metadata": {},
   "outputs": [],
   "source": [
    "%load_ext itikz\n",
    "%matplotlib notebook"
   ]
  },
  {
   "cell_type": "code",
   "execution_count": 3,
   "metadata": {
    "slideshow": {
     "slide_type": "skip"
    }
   },
   "outputs": [],
   "source": [
    "import sympy as sp\n",
    "import matplotlib.pyplot as plt\n",
    "import numpy as np\n",
    "\n",
    "\n",
    "from IPython.display import display, Math,Latex\n",
    "def round_expr(expr, num_digits):\n",
    "    return expr.xreplace({n : round(n, num_digits) for n in expr.atoms(sp.Number)})\n"
   ]
  },
  {
   "cell_type": "markdown",
   "metadata": {},
   "source": [
    "La ecuación de Fourier resulta:\n",
    "\\begin{equation}\n",
    "\\Theta s - a \\frac{d \\Theta}{d x} = 0\n",
    "\\end{equation}\n",
    "Da lugar a una solución del tipo:\n",
    "\\begin{equation}\n",
    "\\Theta(s)= C_1 e^{\\beta x}+C_2 e^{-\\beta x} \n",
    "\\end{equation}\n",
    "donde $\\beta^2=s/a$.\n",
    "Si la solución vale para $0<x<L$, entonces, si $x\\rightarrow \\infty$, para que $\\Theta(s)$ sea acotada se debe cumplir que $C_1=0$.\n",
    "\n",
    "Por otro lado, En $x=0$, $\\varphi_0$ constante.\n",
    "\\begin{equation}\n",
    "-k\\frac{d \\theta}{d x} = \\varphi_0\n",
    "\\end{equation}\n",
    "Aplicando la transformada:\n",
    "\\begin{eqnarray}\n",
    "-k\\frac{d \\Theta}{d x} = \\frac{\\varphi_0}{s} \\\\\n",
    "C_2= \\frac{\\varphi_0}{k \\beta s}\n",
    "\\end{eqnarray}\n",
    "Luego, la solución en el dominio de Laplace\n",
    "\n",
    "\\begin{equation}\n",
    "\\Theta(s)= \\frac{\\varphi_0}{k \\beta s} e^{-\\beta x} \n",
    "\\end{equation}\n",
    "\n",
    "En lo que sigue, se realiza la transformada inversa para recuperar la función $\\theta(t,x)$."
   ]
  },
  {
   "cell_type": "code",
   "execution_count": 6,
   "metadata": {},
   "outputs": [
    {
     "data": {
      "text/latex": [
       "$\\theta(t,x)=\\displaystyle\\frac{2 \\sqrt{a} \\sqrt{t} \\varphi_{0} e^{- \\frac{x^{2}}{4 a t}}}{\\sqrt{\\pi}} + \\varphi_{0} x \\operatorname{erf}{\\left(\\frac{x}{2 \\sqrt{a} \\sqrt{t}} \\right)} - \\varphi_{0} x$"
      ],
      "text/plain": [
       "<IPython.core.display.Latex object>"
      ]
     },
     "metadata": {},
     "output_type": "display_data"
    }
   ],
   "source": [
    "\n",
    "s, p = sp.symbols('s, p')\n",
    "phi0 = sp.Symbol('varphi0',real=True)\n",
    "a, x, k, t  = sp.symbols('a, x,  k, t',positive=True,real=True)\n",
    "\n",
    "\n",
    "beta = sp.sqrt(s/a)\n",
    "\n",
    "expression = phi0*sp.exp(-beta*x)/beta/s\n",
    "Tt = sp.inverse_laplace_transform(expression, s, t).simplify()\n",
    "display(Latex(r'$\\theta(t,x)=\\displaystyle'+sp.latex(Tt)+'$'))"
   ]
  },
  {
   "cell_type": "markdown",
   "metadata": {},
   "source": [
    "Para caracterizar el proceso de calentamiento del disco y la pastilla producto del frenado brusco, \n",
    "podemos aplicar un modelo donde se tiene un pulso térmico $E\\delta(t)$.\n",
    "En esos casos, para una función genérica $f(x,t)$ de transformada $F(s)$,\n",
    "\\begin{equation}\n",
    "F(s) = C_2 e^{\\beta x}\n",
    "\\end{equation}\n",
    "\n",
    "En $x=0$, $E\\delta(t)$\n",
    "\\begin{equation}\n",
    "-k\\frac{d \\theta}{d x} = E\n",
    "\\end{equation}\n",
    "Aplicando la transformada:\n",
    "\\begin{eqnarray}\n",
    "-k\\frac{d \\Theta}{d x} = \\frac{\\varphi_0}{s} \\\\\n",
    "C_2= \\frac{\\varphi_0}{k \\beta s}\n",
    "\\end{eqnarray}"
   ]
  },
  {
   "cell_type": "code",
   "execution_count": null,
   "metadata": {},
   "outputs": [],
   "source": []
  }
 ],
 "metadata": {
  "celltoolbar": "Slideshow",
  "kernelspec": {
   "display_name": "Python 3",
   "language": "python",
   "name": "python3"
  },
  "language_info": {
   "codemirror_mode": {
    "name": "ipython",
    "version": 3
   },
   "file_extension": ".py",
   "mimetype": "text/x-python",
   "name": "python",
   "nbconvert_exporter": "python",
   "pygments_lexer": "ipython3",
   "version": "3.8.10"
  },
  "latex_envs": {
   "LaTeX_envs_menu_present": true,
   "autoclose": true,
   "autocomplete": true,
   "bibliofile": "biblio.bib",
   "cite_by": "apalike",
   "current_citInitial": 1,
   "eqLabelWithNumbers": true,
   "eqNumInitial": 1,
   "hotkeys": {
    "equation": "Ctrl-E",
    "itemize": "Ctrl-I"
   },
   "labels_anchors": false,
   "latex_user_defs": false,
   "report_style_numbering": false,
   "user_envs_cfg": false
  },
  "toc-showtags": false
 },
 "nbformat": 4,
 "nbformat_minor": 5
}
