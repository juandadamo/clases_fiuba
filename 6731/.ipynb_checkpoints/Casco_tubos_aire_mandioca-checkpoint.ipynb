{
 "cells": [
  {
   "cell_type": "code",
   "execution_count": 138,
   "metadata": {},
   "outputs": [],
   "source": [
    "# -*- coding: utf-8 -*-\n",
    "%matplotlib notebook\n",
    "import numpy as np\n",
    "import pandas as pd\n",
    "import matplotlib.pyplot as plt\n",
    "import ht\n",
    "import CoolProp as cp\n",
    "import fluids"
   ]
  },
  {
   "cell_type": "code",
   "execution_count": 139,
   "metadata": {},
   "outputs": [],
   "source": [
    "#constantes de calculo\n",
    "g = 9.8; cal2joule = 4.184"
   ]
  },
  {
   "cell_type": "markdown",
   "metadata": {},
   "source": [
    "HIPOTESIS DE CALCULO:\n",
    "\n",
    "1. Intercambiador de calor tubular de tubos lisos (sin aletas)\n",
    "2. Flujo de gases de combustión de biomasa dentro de tubos\n",
    "3. Flujo cruzado de aire externo a tubos\n",
    "4. Distribución de tubos alineados\n"
   ]
  },
  {
   "cell_type": "code",
   "execution_count": 140,
   "metadata": {},
   "outputs": [],
   "source": [
    "data_excel = pd.read_excel('/home/juan/Documents/Proyectos/2021_PDE/intercambiador/Calculo calentador aire mandioca Rev1.xls',sheet_name=1)\n",
    "#data_excel = pd.read_excel('movies.xls')\n",
    "data = data_excel.to_numpy()"
   ]
  },
  {
   "cell_type": "code",
   "execution_count": 141,
   "metadata": {},
   "outputs": [],
   "source": [
    "class ejemplo:\n",
    "    def __init__(self, cantidad=0, dimensiones=0):\n",
    "        # creamos una propiedad privada que nos guarde los valores\n",
    "        self._dimensiones = dimensiones\n",
    "        self.cantidad = cantidad\n",
    "        self.calcula()\n",
    "    @property\n",
    "    def dimensiones(self):\n",
    "        return self._dimensiones\n",
    "    @dimensiones.setter\n",
    "    def dimensiones(self, value):\n",
    "        self._dimensiones = value\n",
    "        # operaciones que quieras que se hagan\n",
    "        self.calcula()\n",
    "\n",
    "    def calcula(self):\n",
    "        self.calculos = self.cantidad * self.dimensiones"
   ]
  },
  {
   "cell_type": "code",
   "execution_count": 142,
   "metadata": {},
   "outputs": [],
   "source": [
    "barras = ejemplo(1,2)"
   ]
  },
  {
   "cell_type": "code",
   "execution_count": null,
   "metadata": {},
   "outputs": [],
   "source": []
  },
  {
   "cell_type": "code",
   "execution_count": 143,
   "metadata": {},
   "outputs": [],
   "source": [
    "class fluido_intercambiador:\n",
    "    \n",
    "    def __init__(self, nombre_fluido):\n",
    "        self.fluid = nombre_fluido\n",
    "        self.k,self.rho,self.Pr,self.mu,self.nu,self.cp = np.zeros((6,1))\n",
    "        self._temp_entrada = 25\n",
    "        self._temp_salida = 25\n",
    "        self.propiedades()\n",
    "    @property\n",
    "    def temp_entrada(self):\n",
    "        return self._temp_entrada\n",
    "    @temp_entrada.setter\n",
    "    def temp_entrada(self, value):\n",
    "        self._temp_entrada = value\n",
    "        # operaciones que quieras que se hagan\n",
    "        self.propiedades()\n",
    "    @property\n",
    "    def temp_salida(self):\n",
    "        return self._temp_salida\n",
    "    @temp_salida.setter\n",
    "    def temp_salida(self, value):\n",
    "        self._temp_salida = value\n",
    "        # operaciones que quieras que se hagan\n",
    "        self.propiedades()\n",
    "\n",
    "    def propiedades(self):\n",
    "        self.temp_media = 1\n",
    "        self.temp_media = (self.temp_salida+self.temp_entrada) / 2\n",
    "        self.cp = cp.CoolProp.PropsSI('C','T',273+self.temp_media,'P',101.325e3,'Air')\n",
    "        self.rho = cp.CoolProp.PropsSI('D','T',273+self.temp_media,'P',101.325e3,'Air')\n",
    "        self.mu = cp.CoolProp.PropsSI('V','T',273+self.temp_media,'P',101.325e3,'Air')\n",
    "        self.Pr = cp.CoolProp.PropsSI('Prandtl','T',273+self.temp_media,'P',101.325e3,'Air')\n",
    "        self.k = cp.CoolProp.PropsSI('L','T',273+self.temp_media,'P',101.325e3,'Air')\n",
    "        self.nu = self.mu/self.rho\n",
    "\n",
    "        \n",
    "        "
   ]
  },
  {
   "cell_type": "code",
   "execution_count": 144,
   "metadata": {},
   "outputs": [],
   "source": [
    "###########################################################\n",
    "#           DATOS  del Intercambiador  \n",
    "#\n",
    "###########################################################\n",
    "Gases = fluido_intercambiador('Gases combustion')\n",
    "Aire = fluido_intercambiador('Gases combustion')\n",
    "Gases.temp_entrada = data[20,4]\n",
    "Gases.temp_salida = data[21,4]\n",
    "Aire.temp_entrada = data[22,4]\n",
    "Aire.temp_salida = data[12,5]\n",
    "Calor_ingreso = data[17,4]*cal2joule*1e3/3600\n",
    "Calor_intercambiado = data[18,4]*cal2joule*1e3/3600\n",
    "Q = Calor_intercambiado\n",
    "Tubo_dext = data[13,4]\n",
    "Tubo_esp = data[13,6]*1e-3\n",
    "Tubo_dint = Tubo_dext-Tubo_esp*2\n",
    "Tubo_long = 2.68\n",
    "paso_tubos = data[47,4]\n",
    "paso_tubos = Tubo_dext*4/3"
   ]
  },
  {
   "cell_type": "code",
   "execution_count": 145,
   "metadata": {},
   "outputs": [],
   "source": [
    "###########################################################\n",
    "#           DATOS  del Intercambiador  \n",
    "#\n",
    "###########################################################\n",
    "\n",
    "\n",
    "Gases_temp_ent = data[20,4]\n",
    "Gases_temp_sal = data[21,4]\n",
    "Aire_temp_ent = data[22,4]\n",
    "Aire_temp_sal = data[12,5]\n",
    "Calor_ingreso = data[17,4]*cal2joule*1e3/3600\n",
    "Calor_intercambiado = data[18,4]*cal2joule*1e3/3600\n",
    "Q = Calor_intercambiado\n",
    "Tubo_dext = data[13,4]\n",
    "Tubo_esp = data[13,6]*1e-3\n",
    "Tubo_dint = Tubo_dext-Tubo_esp*2\n",
    "Tubo_long = 2.68\n",
    "paso_tubos = data[47,4]\n",
    "paso_tubos = Tubo_dext*4/3"
   ]
  },
  {
   "cell_type": "code",
   "execution_count": 146,
   "metadata": {},
   "outputs": [],
   "source": [
    "Gases_temp_media = (Gases_temp_ent+Gases_temp_sal)/2\n",
    "Aire_temp_media = (Aire_temp_ent+Aire_temp_sal)/2\n",
    "Gases_cp = cp.CoolProp.PropsSI('C','T',273+Gases_temp_media,'P',101.325e3,'Air')\n",
    "Gases_rho = cp.CoolProp.PropsSI('D','T',273+Gases_temp_media,'P',101.325e3,'Air')\n",
    "Gases_mu = cp.CoolProp.PropsSI('V','T',273+Gases_temp_media,'P',101.325e3,'Air')\n",
    "Aire_cp = cp.CoolProp.PropsSI('C','T',273+Aire_temp_media,'P',101.325e3,'Air')\n",
    "Aire_rho = cp.CoolProp.PropsSI('D','T',273+Aire_temp_media,'P',101.325e3,'Air')\n",
    "Aire_mu = cp.CoolProp.PropsSI('V','T',273+Aire_temp_media,'P',101.325e3,'Air')\n",
    "Aire_Pr = cp.CoolProp.PropsSI('Prandtl','T',273+Aire_temp_media,'P',101.325e3,'Air')\n",
    "Gases_Pr = cp.CoolProp.PropsSI('Prandtl','T',273+Gases_temp_media,'P',101.325e3,'Air')\n",
    "Gases_k = cp.CoolProp.PropsSI('L','T',273+Gases_temp_media,'P',101.325e3,'Air')\n",
    "Aire_k = cp.CoolProp.PropsSI('L','T',273+Gases_temp_media,'P',101.325e3,'Air')\n",
    "\n",
    "Gases_nu = Gases_mu/Gases_rho\n",
    "Aire_nu = Aire_mu/Aire_rho"
   ]
  },
  {
   "cell_type": "code",
   "execution_count": 147,
   "metadata": {},
   "outputs": [
    {
     "name": "stdout",
     "output_type": "stream",
     "text": [
      "Temperatura logaritmica media 247.5 C\n",
      "G_Gases =0.5 m3/h\n",
      "G_Aire =1.1 m3/h \n",
      "Area propuesta =16.9\n",
      "Numero de tubos 32\n"
     ]
    }
   ],
   "source": [
    "Gases_caudalh = Calor_intercambiado/Gases_rho/(Gases_cp*(Gases_temp_ent-Gases_temp_sal))*3600\n",
    "Aire_caudalh = Calor_intercambiado/(Aire_cp*Aire_rho*(Aire_temp_sal-Aire_temp_ent))*3600\n",
    "Gases_caudal = Gases_caudalh/3600\n",
    "Aire_caudal = Aire_caudalh/3600\n",
    "\n",
    "LMTD = ht.LMTD(Tci=Aire_temp_ent, Tco=Aire_temp_sal, Thi=Gases_temp_ent, Tho=Gases_temp_sal)\n",
    "\n",
    "Ft = ht.F_LMTD_Fakheri(Tci=Aire_temp_ent, Tco=Aire_temp_sal, Thi=Gases_temp_ent, Tho=Gases_temp_sal, shells=1)\n",
    "UA = Q/(LMTD*Ft)\n",
    "Upropuesto = 15\n",
    "Apropuesta = UA/Upropuesto\n",
    "Ntubos_0  = np.int(Apropuesta / (np.pi*Tubo_dext*Tubo_long))\n",
    "Ntubos_0 = np.int(Ntubos_0/4)*4\n",
    "print('Temperatura logaritmica media %.1f C'%LMTD)\n",
    "print('G_Gases =%.1f m3/h'%Gases_caudal)\n",
    "print('G_Aire =%.1f m3/h '%Aire_caudal)\n",
    "print('Area propuesta =%.1f'%Apropuesta)\n",
    "print('Numero de tubos %0d'%Ntubos_0)\n",
    "\n",
    "Npasostubos = 1\n",
    "Area_interna = Tubo_dint**2/4*np.pi*Ntubos_0 #* Npasostubos\n",
    "Gases_veloc = Gases_caudal / Area_interna\n",
    "\n",
    "Gases_Re = Gases_veloc * Tubo_dint/ Gases_nu\n",
    "#Npasotubos =  Re_design*(np.pi*Tubo_dext-Tubo_esp*2*Ntubos_0*m ) / (4*m_t)"
   ]
  },
  {
   "cell_type": "code",
   "execution_count": 148,
   "metadata": {},
   "outputs": [
    {
     "data": {
      "text/plain": [
       "6921.976311557379"
      ]
     },
     "execution_count": 148,
     "metadata": {},
     "output_type": "execute_result"
    }
   ],
   "source": [
    "Gases_Re"
   ]
  },
  {
   "cell_type": "markdown",
   "metadata": {},
   "source": [
    "Se propone un paso de tubos p = 1.5 D. En intercambiadores casco y tubo, lo usual es encontrar pasos p= D o p = 1.3D. Ver pej \n",
    "- Shah, R. K., & Sekulic, D. P. (2003). Fundamentals of heat exchanger design. John Wiley & Sons. \n",
    "- Cao, E. (2010). Heat transfer in process engineering. McGraw-Hill Education. (pags 509-522)"
   ]
  },
  {
   "cell_type": "code",
   "execution_count": 149,
   "metadata": {},
   "outputs": [
    {
     "name": "stdout",
     "output_type": "stream",
     "text": [
      "Area de pasaje del Aire 0.269 m2\n",
      "Velocidad del Aire 4.060 m/s\n"
     ]
    }
   ],
   "source": [
    "###########################################################\n",
    "# Determinacion de Area de pasaje del aire por la carcasa\n",
    "# alrededor del paquete de tubos\n",
    "###########################################################\n",
    "Tubo_area_ext = Tubo_dext**2/4*np.pi\n",
    "carcasa_huelgo = 20e-3\n",
    "nfilas = 4\n",
    "ncolumnas = Ntubos_0/nfilas\n",
    "\n",
    "carcasa_xmax,carcasa_ymax = [paso_tubos*(ncolumnas-1)+carcasa_huelgo*2+Tubo_dext,\n",
    "                                                       paso_tubos*(nfilas-1)+carcasa_huelgo*2+Tubo_dext]\n",
    "carcasa_area = carcasa_xmax*carcasa_ymax\n",
    "Area_pasaje_aire = (carcasa_ymax-Tubo_dext*nfilas)*Tubo_long\n",
    "#Area_pasaje_aire = carcasa_area-Ntubos_0*Tubo_area_ext   \n",
    "Aire_velocidad = Aire_caudal  / Area_pasaje_aire\n",
    "print('Area de pasaje del Aire %.3f m2'%Area_pasaje_aire)\n",
    "print('Velocidad del Aire %.3f m/s'%Aire_velocidad)"
   ]
  },
  {
   "cell_type": "code",
   "execution_count": 150,
   "metadata": {},
   "outputs": [],
   "source": [
    "#ht.conv_tube_bank.Nu_Zukauskas_Bejan(Re, Pr, tube_rows, pitch_parallel, pitch_normal, Pr_wall=None)\n",
    "Aire_Re = Aire_velocidad*Tubo_dext / Aire_nu\n",
    "Re = Aire_Re\n",
    "pitch_parallel,pitch_normal = [paso_tubos,paso_tubos]\n",
    "Pr = Aire_Pr\n",
    "tube_rows = ncolumnas\n",
    "Aire_Nu = ht.conv_tube_bank.Nu_Zukauskas_Bejan(Re, Pr, tube_rows, pitch_parallel, pitch_normal, Pr_wall=None)\n",
    "Aire_hc = Aire_Nu*Tubo_dext / Aire_k"
   ]
  },
  {
   "cell_type": "code",
   "execution_count": 151,
   "metadata": {},
   "outputs": [
    {
     "name": "stdout",
     "output_type": "stream",
     "text": [
      "Reynolds gases = 6921\n",
      "Coeficiente conveccion gases = 19.0\n"
     ]
    }
   ],
   "source": [
    "Gases_Pr = cp.CoolProp.PropsSI('PRANDTL','T',273+Gases_temp_media,'P',101.325e3,'Air')\n",
    "Gases_k = cp.CoolProp.PropsSI('L','T',273+Gases_temp_media,'P',101.325e3,'Air')\n",
    "\n",
    "Gases_Nu = ht.conv_internal.turbulent_Colburn(Gases_Re,Gases_Pr)\n",
    "Gases_hc = Gases_Nu*Gases_k/Tubo_dint\n",
    "print('Reynolds gases = %.d'%Gases_Re)\n",
    "print('Coeficiente conveccion gases = %.1f'%Gases_hc)"
   ]
  },
  {
   "cell_type": "code",
   "execution_count": 152,
   "metadata": {},
   "outputs": [],
   "source": [
    "Twall = (Aire_hc*Aire_temp_media+Gases_hc*Gases_temp_media) / (Aire_hc+Gases_hc)\n",
    "\n",
    "Aire_temp_media = (Aire_temp_media+Twall)/2\n",
    "Gases_temp_media= (Gases_temp_media+Twall)/2\n",
    "\n",
    "Gases_cp = cp.CoolProp.PropsSI('C','T',273+Gases_temp_media,'P',101.325e3,'Air')\n",
    "Gases_rho = cp.CoolProp.PropsSI('D','T',273+Gases_temp_media,'P',101.325e3,'Air')\n",
    "Gases_mu = cp.CoolProp.PropsSI('V','T',273+Gases_temp_media,'P',101.325e3,'Air')\n",
    "Aire_cp = cp.CoolProp.PropsSI('C','T',273+Aire_temp_media,'P',101.325e3,'Air')\n",
    "Aire_rho = cp.CoolProp.PropsSI('D','T',273+Aire_temp_media,'P',101.325e3,'Air')\n",
    "Aire_mu = cp.CoolProp.PropsSI('V','T',273+Aire_temp_media,'P',101.325e3,'Air')\n",
    "Aire_Pr = cp.CoolProp.PropsSI('Prandtl','T',273+Aire_temp_media,'P',101.325e3,'Air')\n",
    "Gases_Pr = cp.CoolProp.PropsSI('Prandtl','T',273+Gases_temp_media,'P',101.325e3,'Air')\n",
    "Gases_k = cp.CoolProp.PropsSI('L','T',273+Gases_temp_media,'P',101.325e3,'Air')\n",
    "Aire_k = cp.CoolProp.PropsSI('L','T',273+Gases_temp_media,'P',101.325e3,'Air')\n",
    "\n",
    "mu_w = cp.CoolProp.PropsSI('V','T',273+Twall,'P',101.325e3,'Air')\n"
   ]
  },
  {
   "cell_type": "code",
   "execution_count": 165,
   "metadata": {},
   "outputs": [
    {
     "data": {
      "text/plain": [
       "204.7144393812578"
      ]
     },
     "execution_count": 165,
     "metadata": {},
     "output_type": "execute_result"
    }
   ],
   "source": [
    "Aire_Nu/Aire.k*Tubo_dext"
   ]
  },
  {
   "cell_type": "code",
   "execution_count": 265,
   "metadata": {},
   "outputs": [
    {
     "name": "stdout",
     "output_type": "stream",
     "text": [
      "hf = 2873.42   hc=1923.79\n"
     ]
    }
   ],
   "source": [
    "# En la carcasa\n",
    "\n",
    "B = 0.25*Dcarcasa\n",
    "\n",
    "#Pag 76 Cao, Dequivalente\n",
    "Pt = pitch\n",
    "c = (1.25-1)*25.4e-3\n",
    "As = Dcarcasa*c*B/Pt\n",
    "Gs = m_f / As\n",
    "\n",
    "\n",
    "Deq = 4*(pitch**2-np.pi*D**2/4) / (np.pi*D)\n",
    "Aeq =  Deq**2*np.pi/4*Ntubos*Npasotubos/4\n",
    "\n",
    "Pr_f = cp.CoolProp.PropsSI('PRANDTL','T',273+Tf_media,'P',101.325e3,'Water')\n",
    "k_f = cp.CoolProp.PropsSI('L','T',273+Tf_media,'P',101.325e3,'Water')\n",
    "mu_f = cp.CoolProp.PropsSI('V','T',273+Tf_media,'P',101.325e3,'Water')\n",
    "\n",
    "Re_f = Deq*m_f/mu_f/Aeq\n",
    "\n",
    "Re_f = Deq*Gs/mu_f\n",
    "Nu_f = 0.36*Re_f**0.55*Pr_f**0.3333\n",
    "\n",
    "h_f = Nu_f*k_f/Deq\n",
    "\n",
    "print('hf = %.2f   hc=%.2f'%(h_f,h_c))"
   ]
  },
  {
   "cell_type": "code",
   "execution_count": 306,
   "metadata": {},
   "outputs": [],
   "source": [
    "# Temperatura de pared Tw\n",
    "\n",
    "# (Tcm-Tw)*A*h_c = (Tw-Tfm) *A*h_f\n",
    "#Tw*h_c+Tw*h_f = Tcm*h_c + Tfm*h_f\n",
    "\n",
    "Tw = (h_c*Tc_media0+h_f*Tf_media) / (h_c+h_f )\n",
    "#con este valor se corrigen las propiedades de los fluidos\n",
    "\n",
    "Tcmedia = (Tc_media0+Tw)/2\n",
    "Tfmedia = (Tf_media+Tw)/2\n",
    "\n",
    "Pr_f = cp.CoolProp.PropsSI('PRANDTL','T',273+Tfmedia,'P',101.325e3,'Water')\n",
    "k_f = cp.CoolProp.PropsSI('L','T',273+Tfmedia,'P',101.325e3,'Water')\n",
    "mu_f = cp.CoolProp.PropsSI('V','T',273+Tfmedia,'P',101.325e3,'Water')\n",
    "\n",
    "Pr_c = cp.CoolProp.PropsSI('PRANDTL','T',273+Tcmedia,'P',101.325e3,'Water')\n",
    "k_c = cp.CoolProp.PropsSI('L','T',273+Tcmedia,'P',101.325e3,'Water')\n",
    "mu_c = cp.CoolProp.PropsSI('V','T',273+Tcmedia,'P',101.325e3,'Water')\n",
    "rho_c = cp.CoolProp.PropsSI('D','T',273+Tcmedia,'P',101.325e3,'Water')\n",
    "rho_f = cp.CoolProp.PropsSI('D','T',273+Tfmedia,'P',101.325e3,'Water')\n",
    "\n",
    "mu_w = cp.CoolProp.PropsSI('V','T',273+Tw,'P',101.325e3,'Water')\n"
   ]
  },
  {
   "cell_type": "code",
   "execution_count": 307,
   "metadata": {},
   "outputs": [
    {
     "name": "stdout",
     "output_type": "stream",
     "text": [
      "hf = 2970.74   hc=1993.10\n"
     ]
    }
   ],
   "source": [
    "Re_f = Deq*m_f/mu_f/Aeq\n",
    "\n",
    "Re_f = Deq*Gs/mu_f\n",
    "Nu_f = 0.36*Re_f**0.55*Pr_f**0.3333\n",
    "\n",
    "h_f = Nu_f*k_f/Deq\n",
    "\n",
    "Nu_c = ht.conv_internal.turbulent_Colburn(Re_d,Pr_c)\n",
    "h_c = Nu_c*k_c/Di\n",
    "print('hf = %.2f   hc=%.2f'%(h_f,h_c))"
   ]
  },
  {
   "cell_type": "code",
   "execution_count": 308,
   "metadata": {},
   "outputs": [
    {
     "name": "stdout",
     "output_type": "stream",
     "text": [
      "U=774.07   Acalculo = 22.17\n",
      "A real inicial 22.98\n"
     ]
    }
   ],
   "source": [
    "Ulimpio = 1 / (D/Di/h_c+1/h_f )\n",
    "U = 1 / (1/Ulimpio + Rf *(1+D/Di))\n",
    "\n",
    "\n",
    "\n",
    "A_calculo = Q / (U*dTlm*Ft)\n",
    "\n",
    "print('U=%.2f   Acalculo = %.2f'%(U,A_calculo))\n",
    "print('A real inicial %.2f'%A_real)"
   ]
  },
  {
   "cell_type": "code",
   "execution_count": 309,
   "metadata": {},
   "outputs": [
    {
     "name": "stdout",
     "output_type": "stream",
     "text": [
      "factor friccion tubos = 0.030748 \n",
      "Gtubos = 350.1\n",
      "Delta p friccion = 2971.88\n",
      "Delta p cabezales = 1489.85\n",
      "Delta p tubos = 4461.73\n"
     ]
    }
   ],
   "source": [
    "# Caida de presion\n",
    "\n",
    "# Calculo para flujo en tubos\n",
    "roughness = fluids.roughness_Farshad('Carbon steel, bare', D=D)\n",
    "\n",
    "f_c = fluids.friction.friction_factor(Re=Re_d, eD=roughness/Di)\n",
    "\n",
    "f_c2 = 1.2*(0.0014+0.125/Re_d**.32)\n",
    "\n",
    "Gtubos = m_c*Npasotubos*4 / (Ntubos*np.pi*Di**2)\n",
    "\n",
    "\n",
    "Delta_p_friccion = 4*f_c*Npasotubos*L_tubos*Gtubos**2/(2*Di*rho_c)*(mu_c/mu_w)**-0.14\n",
    "\n",
    "Delta_p_cabezales = 4*Npasotubos*Gtubos**2/rho_c/2\n",
    "\n",
    "Delta_p_tubos = Delta_p_cabezales+Delta_p_friccion\n",
    "\n",
    "print('factor friccion tubos = %4f '%f_c)\n",
    "print('Gtubos = %.1f'%Gtubos)\n",
    "print('Delta p friccion = %.2f'%Delta_p_friccion)\n",
    "print('Delta p cabezales = %.2f'%Delta_p_cabezales)\n",
    "print('Delta p tubos = %.2f'%Delta_p_tubos)"
   ]
  },
  {
   "cell_type": "code",
   "execution_count": 327,
   "metadata": {},
   "outputs": [
    {
     "name": "stdout",
     "output_type": "stream",
     "text": [
      "Delta p carcasa = 6280.5\n"
     ]
    }
   ],
   "source": [
    "#calculo para flujo en carcasa\n",
    "\n",
    "\n",
    "LSpacing = Dcarcasa*0.25\n",
    "NBaffles = np.floor(L_tubos / LSpacing)\n",
    "\n",
    "Delta_p_carcasa = ht.conv_tube_bank.dP_Kern(m_f, rho_f, mu_f, Dcarcasa, LSpacing, pitch, D, NBaffles, mu_w=mu_w)\n",
    "print('Delta p carcasa = %.1f'%Delta_p_carcasa)\n"
   ]
  },
  {
   "cell_type": "code",
   "execution_count": null,
   "metadata": {},
   "outputs": [],
   "source": []
  }
 ],
 "metadata": {
  "anaconda-cloud": {},
  "kernelspec": {
   "display_name": "Python 3",
   "language": "python",
   "name": "python3"
  },
  "language_info": {
   "codemirror_mode": {
    "name": "ipython",
    "version": 3
   },
   "file_extension": ".py",
   "mimetype": "text/x-python",
   "name": "python",
   "nbconvert_exporter": "python",
   "pygments_lexer": "ipython3",
   "version": "3.8.5"
  }
 },
 "nbformat": 4,
 "nbformat_minor": 2
}
