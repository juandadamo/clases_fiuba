{
 "cells": [
  {
   "cell_type": "code",
   "execution_count": 1,
   "id": "0774ef36",
   "metadata": {
    "slideshow": {
     "slide_type": "skip"
    }
   },
   "outputs": [
    {
     "name": "stdout",
     "output_type": "stream",
     "text": [
      "Requirement already satisfied: sympy in /home/juan/.local/lib/python3.8/site-packages (1.8)\n",
      "Requirement already satisfied: matplotlib in /home/juan/.local/lib/python3.8/site-packages (3.4.2)\n",
      "Requirement already satisfied: numpy in /home/juan/.local/lib/python3.8/site-packages (1.20.3)\n",
      "Requirement already satisfied: scipy in /home/juan/.local/lib/python3.8/site-packages (1.6.3)\n",
      "Requirement already satisfied: IPython in /usr/lib/python3/dist-packages (7.13.0)\n",
      "Requirement already satisfied: itikz in /home/juan/.local/lib/python3.8/site-packages (0.1.5)\n",
      "Requirement already satisfied: mpmath>=0.19 in /home/juan/.local/lib/python3.8/site-packages (from sympy) (1.2.1)\n",
      "Requirement already satisfied: cycler>=0.10 in /home/juan/.local/lib/python3.8/site-packages (from matplotlib) (0.10.0)\n",
      "Requirement already satisfied: python-dateutil>=2.7 in /usr/lib/python3/dist-packages (from matplotlib) (2.7.3)\n",
      "Requirement already satisfied: kiwisolver>=1.0.1 in /home/juan/.local/lib/python3.8/site-packages (from matplotlib) (1.3.1)\n",
      "Requirement already satisfied: pillow>=6.2.0 in /usr/lib/python3/dist-packages (from matplotlib) (7.0.0)\n",
      "Requirement already satisfied: pyparsing>=2.2.1 in /home/juan/.local/lib/python3.8/site-packages (from matplotlib) (2.4.7)\n",
      "Requirement already satisfied: pexpect in /usr/lib/python3/dist-packages (from IPython) (4.6.0)\n",
      "Requirement already satisfied: six in /usr/lib/python3/dist-packages (from cycler>=0.10->matplotlib) (1.14.0)\n"
     ]
    }
   ],
   "source": [
    "!pip install sympy matplotlib numpy scipy IPython itikz "
   ]
  },
  {
   "cell_type": "code",
   "execution_count": 123,
   "id": "92df5950",
   "metadata": {},
   "outputs": [
    {
     "name": "stdout",
     "output_type": "stream",
     "text": [
      "The itikz extension is already loaded. To reload it, use:\n",
      "  %reload_ext itikz\n"
     ]
    }
   ],
   "source": [
    "%load_ext itikz\n",
    "%matplotlib notebook"
   ]
  },
  {
   "cell_type": "code",
   "execution_count": 124,
   "id": "fae18814",
   "metadata": {
    "slideshow": {
     "slide_type": "skip"
    }
   },
   "outputs": [],
   "source": [
    "import sympy as sp\n",
    "import matplotlib.pyplot as plt\n",
    "import numpy as np\n",
    "\n",
    "\n",
    "from IPython.display import display, Math,Latex\n",
    "def round_expr(expr, num_digits):\n",
    "    return expr.xreplace({n : round(n, num_digits) for n in expr.atoms(sp.Number)})\n"
   ]
  },
  {
   "cell_type": "code",
   "execution_count": 182,
   "id": "38460cb1",
   "metadata": {},
   "outputs": [],
   "source": [
    "k_a = 20;\n",
    "rho_a = 7900;\n",
    "C_a = 560;\n",
    "T_lima=1670;\n",
    "\n",
    "k_c = 65\n",
    "rho_c = 2200\n",
    "C_c = 1600\n",
    "T_limc = 2270 \n",
    "\n",
    "Ti = 100+273"
   ]
  },
  {
   "cell_type": "code",
   "execution_count": 183,
   "id": "a6082a3f",
   "metadata": {},
   "outputs": [
    {
     "data": {
      "text/latex": [
       "$\\frac{2 \\sqrt{a} \\sqrt{t} \\varphi_{0} e^{- \\frac{x^{2}}{4 a t}}}{\\sqrt{\\pi} k} + \\frac{\\varphi_{0} x \\operatorname{erf}{\\left(\\frac{x}{2 \\sqrt{a} \\sqrt{t}} \\right)}}{k} - \\frac{\\varphi_{0} x}{k}$"
      ],
      "text/plain": [
       "<IPython.core.display.Latex object>"
      ]
     },
     "metadata": {},
     "output_type": "display_data"
    }
   ],
   "source": [
    "\n",
    "s, p = sp.symbols('s, p')\n",
    "phi0 = sp.Symbol('varphi0',real=True)\n",
    "a, x, k, t, gamma  = sp.symbols('a, x,  k, t, gamma',positive=True,real=True)\n",
    "beta = sp.sqrt(s/a)\n",
    "\n",
    "expression = phi0*sp.exp(-beta*x)/beta/s/k\n",
    "Tt = sp.inverse_laplace_transform(expression, s, t).simplify()\n",
    "display(Latex(r'$'+sp.latex(Tt)+'$'))"
   ]
  },
  {
   "cell_type": "code",
   "execution_count": 184,
   "id": "2c3dc4fe",
   "metadata": {},
   "outputs": [
    {
     "data": {
      "text/latex": [
       "$\\frac{\\sqrt{a} \\varphi_{0} e^{- \\frac{x^{2}}{4 a t}}}{\\sqrt{\\pi} k \\sqrt{t}}$"
      ],
      "text/plain": [
       "<IPython.core.display.Latex object>"
      ]
     },
     "metadata": {},
     "output_type": "display_data"
    }
   ],
   "source": [
    "expression = phi0*sp.exp(-beta*x)/beta/k\n",
    "Tt = sp.inverse_laplace_transform(expression, s, t).simplify()\n",
    "display(Latex(r'$'+sp.latex(Tt)+'$'))"
   ]
  },
  {
   "cell_type": "code",
   "execution_count": 185,
   "id": "2904f3c6",
   "metadata": {},
   "outputs": [
    {
     "data": {
      "text/latex": [
       "Tiempo de frenado: $\\tau_f=1.60$s"
      ],
      "text/plain": [
       "<IPython.core.display.Latex object>"
      ]
     },
     "metadata": {},
     "output_type": "display_data"
    },
    {
     "data": {
      "text/latex": [
       "Desaceleración: $a_f=2.66g$"
      ],
      "text/plain": [
       "<IPython.core.display.Latex object>"
      ]
     },
     "metadata": {},
     "output_type": "display_data"
    },
    {
     "data": {
      "text/latex": [
       "Densidad de flujo de calor: $\\dot q_f=20.35$Mw"
      ],
      "text/plain": [
       "<IPython.core.display.Latex object>"
      ]
     },
     "metadata": {},
     "output_type": "display_data"
    }
   ],
   "source": [
    "vi = 300/3.6\n",
    "vf = 150/3.6\n",
    "g = 9.8\n",
    "\n",
    "m = 500\n",
    "dist = 100\n",
    "Af = 50e-4 \n",
    "deltaK = 0.5*m*(vi**2-vf**2)\n",
    "tf = dist / (vf-(vf/2-vi/2) )\n",
    "desacelera_f = (vi-vf)/tf\n",
    "Qf = deltaK  / tf\n",
    "qfi = Qf/8/Af\n",
    "\n",
    "display(Latex(f'Tiempo de frenado: $\\\\tau_f={tf:.2f}$s'))\n",
    "display(Latex(f'Desaceleración: $a_f={desacelera_f/g:.2f}g$'))\n",
    "display(Latex(f'Densidad de flujo de calor: $\\\\dot q_f={qfi/1e6:.2f}$Mw'))"
   ]
  },
  {
   "cell_type": "code",
   "execution_count": 202,
   "id": "22daf31b",
   "metadata": {},
   "outputs": [
    {
     "data": {
      "text/latex": [
       "Temperatura al final del frenado: $T_f=1556.7^\\circ$C"
      ],
      "text/plain": [
       "<IPython.core.display.Latex object>"
      ]
     },
     "metadata": {},
     "output_type": "display_data"
    },
    {
     "data": {
      "text/latex": [
       "$r=0.62$"
      ],
      "text/plain": [
       "<IPython.core.display.Latex object>"
      ]
     },
     "metadata": {},
     "output_type": "display_data"
    }
   ],
   "source": [
    "b1 = np.sqrt(k_a*rho_a*C_a)\n",
    "b2 = np.sqrt(k_c*rho_c*C_c)\n",
    "\n",
    "Tf = Ti + 2*qfi/(b1+b2)*np.sqrt(tf/np.pi)\n",
    "r = b1/b2\n",
    "display(Latex(f'Temperatura al final del frenado: $T_f={Tf:.1f}^\\circ$C'))\n",
    "display(Latex(f'$r={r:.2f}$'))"
   ]
  },
  {
   "cell_type": "code",
   "execution_count": 193,
   "id": "fb420387",
   "metadata": {},
   "outputs": [],
   "source": [
    "a_a = k_a/rho_a/C_a\n",
    "esp = 1e-2\n",
    "t_dif = esp**2/a_a"
   ]
  },
  {
   "cell_type": "code",
   "execution_count": 199,
   "id": "fcd95acb",
   "metadata": {},
   "outputs": [
    {
     "data": {
      "text/latex": [
       "Fo=$0.07$"
      ],
      "text/plain": [
       "<IPython.core.display.Latex object>"
      ]
     },
     "metadata": {},
     "output_type": "display_data"
    }
   ],
   "source": [
    "Fourier = tf/t_dif\n",
    "display(Latex(f'Fo=${Fourier:.2f}$'))"
   ]
  }
 ],
 "metadata": {
  "celltoolbar": "Slideshow",
  "kernelspec": {
   "display_name": "Python 3",
   "language": "python",
   "name": "python3"
  },
  "language_info": {
   "codemirror_mode": {
    "name": "ipython",
    "version": 3
   },
   "file_extension": ".py",
   "mimetype": "text/x-python",
   "name": "python",
   "nbconvert_exporter": "python",
   "pygments_lexer": "ipython3",
   "version": "3.8.10"
  },
  "latex_envs": {
   "LaTeX_envs_menu_present": true,
   "autoclose": true,
   "autocomplete": true,
   "bibliofile": "biblio.bib",
   "cite_by": "apalike",
   "current_citInitial": 1,
   "eqLabelWithNumbers": true,
   "eqNumInitial": 1,
   "hotkeys": {
    "equation": "Ctrl-E",
    "itemize": "Ctrl-I"
   },
   "labels_anchors": false,
   "latex_user_defs": false,
   "report_style_numbering": false,
   "user_envs_cfg": false
  },
  "toc-showtags": false
 },
 "nbformat": 4,
 "nbformat_minor": 5
}
