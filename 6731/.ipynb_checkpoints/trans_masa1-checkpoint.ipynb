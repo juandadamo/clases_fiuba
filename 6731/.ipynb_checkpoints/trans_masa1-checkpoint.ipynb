{
 "cells": [
  {
   "cell_type": "code",
   "execution_count": 4,
   "id": "353461bc-1020-43f0-b3bb-375bcb5356b5",
   "metadata": {},
   "outputs": [],
   "source": [
    "# -*- coding: utf-8 -*-\n",
    "%matplotlib notebook\n",
    "import numpy as np\n",
    "import matplotlib.pyplot as plt\n",
    "import ht, pint, fluids\n",
    "import CoolProp as cp\n",
    "import pandas as pd\n",
    "from IPython.display import Latex\n",
    "ureg = pint.UnitRegistry();#(fmt_locale='es_ES')"
   ]
  },
  {
   "cell_type": "code",
   "execution_count": null,
   "id": "f9396532-1793-4fc4-8f02-e58798d4e8d5",
   "metadata": {},
   "outputs": [],
   "source": []
  },
  {
   "cell_type": "markdown",
   "id": "8c861382-3235-4cf2-8fa8-c6b9f3388f58",
   "metadata": {},
   "source": [
    "EXAMPLE 9.1\n",
    "Loss of Hydrogen from a Storage Tank\n",
    "A spherical steel tank of 1 liter capacity and 2 mm wall thickness is used to store hydrogen\n",
    "at 400°C. The initial pressure is 9 bar, and there is a vacuum outside the tank. Calculate\n",
    "the time required for the pressure to drop to 5 bar. Data for the hydrogen-steel (1-2) system\n",
    "include the following items:\n",
    "\n",
    "Diffusion coefficient: $\\mathcal D_{1,2} = 1.65 \\times 10^{-6}e^{-4630/T}$ [m$^2$/s].\n",
    "\n",
    "Solubility relation: $m_{1,u} \\simeq 2.09 \\times 10^{-4}e^{-3950/T} P_{1,s}^{1/2}]$ for T in kelvins and P in bars.\n",
    "Solution\n",
    "Given: High-temperature hydrogen gas stored in a 1 liter steel tank.\n",
    "Required: Time required for pressure to drop from 9 bar to 5 bar.\n",
    "Assumptions: \n",
    "1. Quasi-steady diffusion through the steel.\n",
    "2. Wall curvature effects are negligible.\n",
    "3. The ideal gas law applies."
   ]
  },
  {
   "cell_type": "code",
   "execution_count": 7,
   "id": "37c60f53-c2d4-4ee6-94b9-cc42458a642a",
   "metadata": {},
   "outputs": [],
   "source": [
    "P_i = 9; P_f = 5\n",
    "Vol = 1e-3\n",
    "T_i = 400\n",
    "\n",
    "def m1u ="
   ]
  },
  {
   "cell_type": "code",
   "execution_count": null,
   "id": "cb9f4384-3210-49ff-b737-f4f1f31bd639",
   "metadata": {},
   "outputs": [],
   "source": []
  }
 ],
 "metadata": {
  "kernelspec": {
   "display_name": "Python 3 (ipykernel)",
   "language": "python",
   "name": "python3"
  },
  "language_info": {
   "codemirror_mode": {
    "name": "ipython",
    "version": 3
   },
   "file_extension": ".py",
   "mimetype": "text/x-python",
   "name": "python",
   "nbconvert_exporter": "python",
   "pygments_lexer": "ipython3",
   "version": "3.10.9"
  }
 },
 "nbformat": 4,
 "nbformat_minor": 5
}
