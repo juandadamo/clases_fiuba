{
 "cells": [
  {
   "cell_type": "code",
   "execution_count": 14,
   "id": "deec139e",
   "metadata": {
    "slideshow": {
     "slide_type": "skip"
    }
   },
   "outputs": [
    {
     "name": "stdout",
     "output_type": "stream",
     "text": [
      "Requirement already satisfied: sympy in /home/juan/.local/lib/python3.8/site-packages (1.8)\n",
      "Requirement already satisfied: matplotlib in /home/juan/.local/lib/python3.8/site-packages (3.4.2)\n",
      "Requirement already satisfied: numpy in /home/juan/.local/lib/python3.8/site-packages (1.20.3)\n",
      "Requirement already satisfied: scipy in /home/juan/.local/lib/python3.8/site-packages (1.6.3)\n",
      "Requirement already satisfied: IPython in /usr/lib/python3/dist-packages (7.13.0)\n",
      "Requirement already satisfied: itikz in /home/juan/.local/lib/python3.8/site-packages (0.1.5)\n",
      "Requirement already satisfied: mpmath>=0.19 in /home/juan/.local/lib/python3.8/site-packages (from sympy) (1.2.1)\n",
      "Requirement already satisfied: cycler>=0.10 in /home/juan/.local/lib/python3.8/site-packages (from matplotlib) (0.10.0)\n",
      "Requirement already satisfied: python-dateutil>=2.7 in /usr/lib/python3/dist-packages (from matplotlib) (2.7.3)\n",
      "Requirement already satisfied: pyparsing>=2.2.1 in /home/juan/.local/lib/python3.8/site-packages (from matplotlib) (2.4.7)\n",
      "Requirement already satisfied: pillow>=6.2.0 in /usr/lib/python3/dist-packages (from matplotlib) (7.0.0)\n",
      "Requirement already satisfied: kiwisolver>=1.0.1 in /home/juan/.local/lib/python3.8/site-packages (from matplotlib) (1.3.1)\n",
      "Requirement already satisfied: pexpect in /usr/lib/python3/dist-packages (from IPython) (4.6.0)\n",
      "Requirement already satisfied: six in /usr/lib/python3/dist-packages (from cycler>=0.10->matplotlib) (1.14.0)\n"
     ]
    }
   ],
   "source": [
    "!pip install sympy matplotlib numpy scipy IPython itikz "
   ]
  },
  {
   "cell_type": "code",
   "execution_count": 15,
   "id": "775c4e12",
   "metadata": {},
   "outputs": [
    {
     "name": "stdout",
     "output_type": "stream",
     "text": [
      "The itikz extension is already loaded. To reload it, use:\n",
      "  %reload_ext itikz\n"
     ]
    }
   ],
   "source": [
    "%load_ext itikz\n",
    "%matplotlib notebook"
   ]
  },
  {
   "cell_type": "code",
   "execution_count": 16,
   "id": "f775bc59",
   "metadata": {
    "slideshow": {
     "slide_type": "skip"
    }
   },
   "outputs": [],
   "source": [
    "import sympy as sp\n",
    "import matplotlib.pyplot as plt\n",
    "import numpy as np\n",
    "\n",
    "\n",
    "from IPython.display import display, Math,Latex\n",
    "def round_expr(expr, num_digits):\n",
    "    return expr.xreplace({n : round(n, num_digits) for n in expr.atoms(sp.Number)})\n"
   ]
  },
  {
   "cell_type": "code",
   "execution_count": 84,
   "id": "d42abf52",
   "metadata": {},
   "outputs": [],
   "source": [
    "#datos\n",
    "k_a, k_c = [20,65]\n",
    "rho_a, rho_c = [7900,2200]\n",
    "C_a, C_c = [560,1600]\n",
    "Tlim_a, Tlim_c = [1670,2270]\n",
    "a_a, a_c = [k_a/rho_a/C_a,k_c/rho_c/C_c]"
   ]
  },
  {
   "cell_type": "markdown",
   "id": "0f5509a9",
   "metadata": {},
   "source": [
    "La ecuación de Fourier resulta:\n",
    "\\begin{equation}\n",
    "\\Theta s - a \\frac{d \\Theta}{d x} = 0\n",
    "\\end{equation}\n",
    "Da lugar a una solución del tipo:\n",
    "\\begin{equation}\n",
    "\\Theta(s)= C_1 e^{\\beta x}+C_2 e^{-\\beta x} \n",
    "\\end{equation}\n",
    "donde $\\beta^2=s/a$.\n",
    "Si la solución vale para $0<x<L$, entonces, si $x\\rightarrow \\infty$, para que $\\Theta(s)$ sea acotada se debe cumplir que $C_1=0$.\n",
    "\n",
    "Por otro lado, En $x=0$, $\\varphi_0$ constante.\n",
    "\\begin{equation}\n",
    "-k\\frac{d \\theta}{d x} = \\varphi_0\n",
    "\\end{equation}\n",
    "Aplicando la transformada:\n",
    "\\begin{eqnarray}\n",
    "-k\\frac{d \\Theta}{d x} = \\frac{\\varphi_0}{s} \\\\\n",
    "C_2= \\frac{\\varphi_0}{k \\beta s}\n",
    "\\end{eqnarray}\n",
    "Luego, la solución en el dominio de Laplace\n",
    "\n",
    "\\begin{equation}\n",
    "\\Theta(s)= \\frac{\\varphi_0}{k \\beta s} e^{-\\beta x} \n",
    "\\end{equation}\n",
    "\n",
    "En lo que sigue, se realiza la transformada inversa para recuperar la función $\\theta(t,x)$."
   ]
  },
  {
   "cell_type": "code",
   "execution_count": 101,
   "id": "36236050",
   "metadata": {},
   "outputs": [
    {
     "data": {
      "text/latex": [
       "$\\theta(t,x)=\\displaystyle\\frac{2 \\sqrt{a} \\sqrt{t} \\varphi_{0} e^{- \\frac{x^{2}}{4 a t}}}{\\sqrt{\\pi} k} + \\frac{\\varphi_{0} x \\operatorname{erf}{\\left(\\frac{x}{2 \\sqrt{a} \\sqrt{t}} \\right)}}{k} - \\frac{\\varphi_{0} x}{k}$"
      ],
      "text/plain": [
       "<IPython.core.display.Latex object>"
      ]
     },
     "metadata": {},
     "output_type": "display_data"
    }
   ],
   "source": [
    "\n",
    "s, p = sp.symbols('s, p')\n",
    "phi0 = sp.Symbol('varphi0',real=True)\n",
    "a, x, k, t, E  = sp.symbols('a, x,  k, t, E',positive=True,real=True)\n",
    "\n",
    "\n",
    "beta = sp.sqrt(s/a)\n",
    "\n",
    "expression = phi0*sp.exp(-beta*x)/beta/s/k\n",
    "Tt = sp.inverse_laplace_transform(expression, s, t).simplify()\n",
    "display(Latex(r'$\\theta(t,x)=\\displaystyle'+sp.latex(Tt)+'$'))"
   ]
  },
  {
   "cell_type": "markdown",
   "id": "b1b95198",
   "metadata": {},
   "source": [
    "\\begin{equation}\n",
    "\\theta(t,x)=\\displaystyle\\\\frac{2 \\sqrt{a} \\sqrt{t} \\varphi_{0} e^{- \\frac{x^{2}}{4 a t}}}{\\sqrt{\\pi}} + \\varphi_{0} x \\operatorname{erf}{\\left(\\frac{x}{2 \\sqrt{a} \\sqrt{t}} \\right)} - \\varphi_{0} x\n",
    "\\end{equation}"
   ]
  },
  {
   "cell_type": "markdown",
   "id": "86831550",
   "metadata": {},
   "source": [
    "Para caracterizar el proceso de calentamiento del disco y la pastilla producto del frenado brusco, \n",
    "podemos aplicar un modelo donde se tiene un pulso térmico $E\\delta(t)$.\n",
    "En esos casos, para una función genérica $f(x,t)$ de transformada $F(s)$,\n",
    "\\begin{equation}\n",
    "F(s) = C_2 e^{\\beta x}\n",
    "\\end{equation}\n",
    "\n",
    "En $x=0$, $E\\delta(t)$\n",
    "\\begin{equation}\n",
    "-k\\frac{d \\theta}{d x} = E\\delta(t)\n",
    "\\end{equation}\n",
    "Aplicando la transformada:\n",
    "\\begin{eqnarray}\n",
    "-k\\frac{d \\Theta}{d x} = E\\\\\n",
    "C_2= \\frac{E}{k \\beta}\n",
    "\\end{eqnarray}\n",
    "\n",
    "Y resulta:\n",
    "\\begin{equation}\n",
    "\\theta_{pulso} =\\frac{E \\sqrt{a} e^{- \\frac{ x^{2}}{4 a t}}}{\\sqrt{\\pi} k \\sqrt{t}}\n",
    "\\end{equation}"
   ]
  },
  {
   "cell_type": "code",
   "execution_count": 102,
   "id": "dea498e3",
   "metadata": {},
   "outputs": [
    {
     "data": {
      "text/latex": [
       "$\\theta(t,x)=\\displaystyle\\frac{E \\sqrt{a} e^{- \\frac{x^{2}}{4 a t}}}{\\sqrt{\\pi} k \\sqrt{t}}$"
      ],
      "text/plain": [
       "<IPython.core.display.Latex object>"
      ]
     },
     "metadata": {},
     "output_type": "display_data"
    }
   ],
   "source": [
    "expression = E*sp.exp(-beta*x)/beta/k\n",
    "Ttp = sp.inverse_laplace_transform(expression, s, t).simplify()\n",
    "display(Latex(r'$\\theta(t,x)=\\displaystyle'+sp.latex(Ttp)+'$'))"
   ]
  },
  {
   "cell_type": "markdown",
   "id": "0a9a94ed",
   "metadata": {},
   "source": []
  },
  {
   "cell_type": "markdown",
   "id": "634c5ef9",
   "metadata": {},
   "source": [
    "Si tenemos dos materiales que comparten la misma condición de borde \n",
    "\\begin{eqnarray}\n",
    "\\theta_1(x=0) = \\theta_2(x=0)\\\\\n",
    "\\frac{E \\sqrt{a_1} e^{- \\frac{ x^{2}}{4 a t}}}{\\sqrt{\\pi} k_1 \\sqrt{t}} = \\frac{E \\sqrt{a_2} e^{- \\frac{ x^{2}}{4 a_2 t}}}{\\sqrt{\\pi} k_2 \\sqrt{t}} \\\\\n",
    "\\frac{\\sqrt{a_1} }{  k_1 } = \\frac{\\sqrt{a_2} }{  k_2  } \\\\\n",
    "\\rho_1 k_1 C_{p1} = \\rho_2 k_2 C_{p2}\\\\\n",
    "b_1 = b_2\n",
    "\\end{eqnarray}\n",
    "*Efusividades* iguales.\n",
    "\n",
    "Y planteando la igualdad en la derivada de $\\theta_i$, para todo $t$ se cumple que en $x=0$, los flujos de calor resultan:\n",
    "\\begin{equation}\n",
    "\\frac{\\varphi_1}{b_1} = \\frac{\\varphi_2}{b_2}\n",
    "\\end{equation}\n"
   ]
  },
  {
   "cell_type": "code",
   "execution_count": 103,
   "id": "e62e7599",
   "metadata": {},
   "outputs": [
    {
     "data": {
      "text/latex": [
       "Tiempo de frenado: 1.50s"
      ],
      "text/plain": [
       "<IPython.core.display.Latex object>"
      ]
     },
     "metadata": {},
     "output_type": "display_data"
    },
    {
     "data": {
      "text/latex": [
       "Deceleración: 3.40g"
      ],
      "text/plain": [
       "<IPython.core.display.Latex object>"
      ]
     },
     "metadata": {},
     "output_type": "display_data"
    }
   ],
   "source": [
    "# Duracion frenado\n",
    "masa = 500\n",
    "V_i = 330/3.6\n",
    "V_f = 150/3.6\n",
    "L = 100\n",
    "\n",
    "tau_f = L/(V_i+V_f)*2\n",
    "display(Latex(f'Tiempo de frenado: {tau_f:.2f}s'))\n",
    "\n",
    "#Desaceleracion\n",
    "g =9.8\n",
    "decel = (V_i-V_f)/tau_f\n",
    "display(Latex(f'Deceleración: {decel/g:.2f}g'))"
   ]
  },
  {
   "cell_type": "code",
   "execution_count": 119,
   "id": "56d662aa",
   "metadata": {},
   "outputs": [
    {
     "data": {
      "text/latex": [
       "densidad de flujo de calor $\\dot q=$2.78e+07w/m$^2$"
      ],
      "text/plain": [
       "<IPython.core.display.Latex object>"
      ]
     },
     "metadata": {},
     "output_type": "display_data"
    }
   ],
   "source": [
    "Ti = 20\n",
    "Area = 50e-4\n",
    "delta_E = 0.5*masa*(V_i**2-V_f**2)\n",
    "espesor = 1e-2\n",
    "delta_potencia = delta_E/tau_f\n",
    "q = delta_potencia/Area\n",
    "display(Latex(f'densidad de flujo de calor $\\dot q=${q/8:.2e}w/m$^2$'))"
   ]
  },
  {
   "cell_type": "code",
   "execution_count": 111,
   "id": "10604aa8",
   "metadata": {},
   "outputs": [
    {
     "data": {
      "text/latex": [
       "$\\displaystyle \\frac{2 \\sqrt{a} \\sqrt{t} \\varphi_{0} e^{- \\frac{x^{2}}{4 a t}}}{\\sqrt{\\pi} k} + \\frac{\\varphi_{0} x \\operatorname{erf}{\\left(\\frac{x}{2 \\sqrt{a} \\sqrt{t}} \\right)}}{k} - \\frac{\\varphi_{0} x}{k}$"
      ],
      "text/plain": [
       "2*sqrt(a)*sqrt(t)*varphi0*exp(-x**2/(4*a*t))/(sqrt(pi)*k) + varphi0*x*erf(x/(2*sqrt(a)*sqrt(t)))/k - varphi0*x/k"
      ]
     },
     "execution_count": 111,
     "metadata": {},
     "output_type": "execute_result"
    }
   ],
   "source": [
    "# Temperatura al fin del frenado\n",
    "Tt.subs('x',0)"
   ]
  },
  {
   "cell_type": "code",
   "execution_count": 112,
   "id": "a5f36719",
   "metadata": {},
   "outputs": [],
   "source": [
    "b2,b1 = [np.sqrt(rho_a*C_a*k_a), np.sqrt(rho_c*C_c*k_c)]\n",
    "\n",
    "phi1,phi2 = sp.symbols('varphi_1 varphi_2')\n",
    "#phi_1= phi0-phi_2 \n",
    "#phi_2 = phi_1/b1*b2\n",
    "phi1_num = sp.solve(phi0-phi1*b2/b1-phi1,'varphi_1')[0].subs(phi0,q/8)"
   ]
  },
  {
   "cell_type": "code",
   "execution_count": 113,
   "id": "562f637a",
   "metadata": {},
   "outputs": [
    {
     "data": {
      "text/plain": [
       "(15126.13632095123,\n",
       " 2*sqrt(a)*sqrt(t)*varphi0*exp(-x**2/(4*a*t))/(sqrt(pi)*k) + varphi0*x*erf(x/(2*sqrt(a)*sqrt(t)))/k - varphi0*x/k,\n",
       " 1132.28404676362)"
      ]
     },
     "execution_count": 113,
     "metadata": {},
     "output_type": "execute_result"
    }
   ],
   "source": [
    "b1,Tt,phi1_num/b1"
   ]
  },
  {
   "cell_type": "code",
   "execution_count": 116,
   "id": "8bed901e",
   "metadata": {},
   "outputs": [],
   "source": [
    "Tf_c = Ti+Tt.subs(x,0).subs(t,tau_f).subs(a,a_c).subs(phi0,phi1_num).subs(k,k_c).evalf()\n",
    "Tf_a = Ti+Tt.subs(x,0).subs(t,tau_f).subs(a,a_a).subs(phi0,phi1_num*b2/b1).subs(k,k_a).evalf()"
   ]
  },
  {
   "cell_type": "code",
   "execution_count": 115,
   "id": "821761f5",
   "metadata": {},
   "outputs": [
    {
     "data": {
      "text/latex": [
       "Temperatura final: $\\displaystyle\\frac{2 \\sqrt{a} \\sqrt{t} \\varphi_{0}}{\\sqrt{\\pi} k}$"
      ],
      "text/plain": [
       "<IPython.core.display.Latex object>"
      ]
     },
     "metadata": {},
     "output_type": "display_data"
    }
   ],
   "source": [
    "display(Latex(f'Temperatura final: $\\displaystyle'+sp.latex(Tt.subs(x,0))+'$'))"
   ]
  },
  {
   "cell_type": "code",
   "execution_count": 118,
   "id": "b6293795",
   "metadata": {},
   "outputs": [
    {
     "data": {
      "text/plain": [
       "(1584.79005478623, 1584.79005478623)"
      ]
     },
     "execution_count": 118,
     "metadata": {},
     "output_type": "execute_result"
    }
   ],
   "source": [
    "Tf_a,Tf_c"
   ]
  },
  {
   "cell_type": "code",
   "execution_count": 123,
   "id": "9ae282ed",
   "metadata": {},
   "outputs": [
    {
     "data": {
      "text/latex": [
       "Fo = 1.108"
      ],
      "text/plain": [
       "<IPython.core.display.Latex object>"
      ]
     },
     "metadata": {},
     "output_type": "display_data"
    }
   ],
   "source": [
    "Fourier = a_c/(espesor/2)**2*tau_f\n",
    "display(Latex(f'Fo = {Fourier:.3f}'))"
   ]
  },
  {
   "cell_type": "code",
   "execution_count": null,
   "id": "08a7882a",
   "metadata": {},
   "outputs": [],
   "source": []
  }
 ],
 "metadata": {
  "celltoolbar": "Slideshow",
  "kernelspec": {
   "display_name": "Python 3 (ipykernel)",
   "language": "python",
   "name": "python3"
  },
  "language_info": {
   "codemirror_mode": {
    "name": "ipython",
    "version": 3
   },
   "file_extension": ".py",
   "mimetype": "text/x-python",
   "name": "python",
   "nbconvert_exporter": "python",
   "pygments_lexer": "ipython3",
   "version": "3.10.9"
  },
  "latex_envs": {
   "LaTeX_envs_menu_present": true,
   "autoclose": true,
   "autocomplete": true,
   "bibliofile": "biblio.bib",
   "cite_by": "apalike",
   "current_citInitial": 1,
   "eqLabelWithNumbers": true,
   "eqNumInitial": 1,
   "hotkeys": {
    "equation": "Ctrl-E",
    "itemize": "Ctrl-I"
   },
   "labels_anchors": false,
   "latex_user_defs": false,
   "report_style_numbering": false,
   "user_envs_cfg": false
  },
  "toc-showtags": false
 },
 "nbformat": 4,
 "nbformat_minor": 5
}
