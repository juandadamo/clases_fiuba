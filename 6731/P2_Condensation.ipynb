{
 "cells": [
  {
   "cell_type": "markdown",
   "metadata": {},
   "source": [
    "# <font face=\"Times New Roman\" size=\"6\">Transferencia de Calor y Masa</font>\n",
    "# <font face=\"Times New Roman\" size=\"6\" color='gray'>Conducto de calor (heat pipe)</font>   "
   ]
  },
  {
   "cell_type": "markdown",
   "metadata": {},
   "source": [
    "## Enunciado\n",
    "\n",
    "Se desea evaluar la habilidad de un caloducto para transferir energía térmica.\n",
    "El mismo consiste en un tubo de cobre cerrado por ambos extremos, el cual tiene una longitud de 1.5 m y un diámetro de 2.5 cm. El tubo contiene tolueno líquido.\n",
    "El tramo inferior de 5 cm de tubo se enrolla con una cinta calefactora la cual provee 100 W de calor al líquido. El tolueno entonces se evapora en el extremo inferior del tubo y el vapor se desplaza al extremo superior donde condensa al entrar en contacto con la superficie fría del tubo.\n",
    "El tramo superior de 6 cm de tubo se mantiene a 29°C por medio de un flujo de agua a 25°C y 1 atm. El condensado de tolueno vuelve a fluir hacia el tramo inferior del tubo y el ciclo se repite.\n",
    "El caloducto se encuentra aislado térmicamente excepto en su tramo inferior en contacto con el calentador y en su tramo superior en contacto con el agua.\n",
    "\n",
    "**(a)** Estime la temperatura de saturación y la presión del tolueno en el caloducto.<br>\n",
    "**(b)** Estime la temperatura de la superficie del tubo que se encuentra en contacto con el calentador.<br>\n",
    "**(c)** Estime la velocidad del agua de enfriamiento.<br>\n",
    "**(d)** Determine la conductividad térmica efectiva del caloducto."
   ]
  },
  {
   "cell_type": "code",
   "execution_count": 14,
   "metadata": {},
   "outputs": [],
   "source": [
    "import numpy as np\n",
    "import IPython.display as ipd\n",
    "from matplotlib import pyplot as plt\n",
    "from scipy import optimize\n",
    "import ht\n",
    "import CoolProp as cp\n",
    "\n",
    "\n",
    "# *********** Datos ***********\n",
    "# Aceleracion de la gravedad\n",
    "g = 9.8 # [m/s^2]\n",
    "# Geometria del caloducto\n",
    "\n",
    "L = 1.5 # longitud del tubo [m]\n",
    "D = 25e-3 # diametro externo del tubo [m]\n",
    "L_h = 50e-3 # longitud de la seccion caliente [m]\n",
    "A_h = np.pi*D*L_h # area superficial de la seccion caliente [m^2]\n",
    "L_c = 60e-3 # longitud de la seccion fria [m]\n",
    "A_c = np.pi*D*L_c # area superficial de la seccion fria [m^2]\n",
    "\n",
    "# Condiciones de operacion\n",
    "\n",
    "T_inf=25.0+273 # temperatura del agua [K]\n",
    "q_dot=100.0 # velocidad de transferencia de calor provista por el calentador [W]\n",
    "T_ts=29.0+273 # temperatura de la superficie del tubo en su tramo superior [K]"
   ]
  },
  {
   "cell_type": "markdown",
   "metadata": {},
   "source": [
    "## Proceso de Condensación\n",
    "\n",
    "La condensación en película se produce en la sección ***fría*** del caloducto.\n",
    "A fin de obtener el coeficiente de transferencia de calor para la condensación en película sobre el interior de un tubo horizontal ($\\bar{h}_{c}$), recurrimos a la correlación de Chato, 1962 (Ver Seccion 10.10 de <a name=\"ref-1\"/>[Incropera, 2007](#cite-incropera2007fundamentals)):\n",
    "\n",
    "\\begin{equation}\n",
    "\\bar{h}_{c}=0.555\\left[\\frac{g \\rho_{l,sat}\\left(\\rho_{l,sat}-\\rho_{v,sat}\\right) k_{l,sat}^{3} \\Delta i_{vap}^{\\prime}}{\\mu_{l,sat}\\left(T_{sat}-T_{ts}\\right) D}\\right]^{1/4}\\;\\;,\n",
    "\\;\\;\\;\\;\\;\\;Re_{v,i}<35\\cdot10^{3}\n",
    "\\end{equation}\n",
    "\n",
    "donde $Re_{v,i}$ refiere al número de Reynolds para el flujo de vapor evaluado en la sección de entrada del tubo, mientras que $\\Delta i_{vap}^{\\prime}$ corresponde al calor latente de vaporización modificado dado por:\n",
    "\n",
    "\\begin{equation}\n",
    "\\Delta i_{vap}^{\\prime}\\equiv\\Delta i_{vap}+\\frac{3}{8}c_{l,sat}\\left(T_{sat}-T_{ts}\\right)\n",
    "\\end{equation}\n",
    "\n",
    "Existe un balance entre la velocidad a la cual se transfiere calor a la sección de condensación ($\\dot{q}_{c}$) y la velocidad de transferencia provista por el calentador ($\\dot{q}_{h}$):\n",
    "\n",
    "\\begin{equation}\n",
    "\\dot{q}_{c}=\\dot{q}_{h}=\\dot{q}=A_{c}\\;\\bar{h}_{c}\\left(T_{sat}-T_{ts}\\right)\n",
    "\\end{equation}\n",
    "\n",
    "### Procedimiento de cálculo\n",
    "\n",
    "La temperatura de saturación ($T_{sat}$) no se especifica por lo cual debe calcularse. Esto conduce a un proceso iterativo a fin de evaluar las propiedades del tolueno y obtener el coeficiente de transferencia.\n",
    "Como punto de partida, suponemos una $T_{sat}$ y evaluamos las propiedades del tolueno a esa temperatura recurriendo a la librería CoolProp. Calculamos entonces el coeficiente $\\bar{h}_{c}$ y ajustamos el valor de $T_{sat}$ de forma tal de satisfacer el balance previo dado por la ley de enfriamiento de Newton."
   ]
  },
  {
   "cell_type": "markdown",
   "metadata": {},
   "source": [
    "Propiedades del Tolueno desde http://www.coolprop.org/v4/Fluids/Toluene.html\n",
    "Las aplicamos a través de la librería CoolProp (cp)"
   ]
  },
  {
   "cell_type": "code",
   "execution_count": 15,
   "metadata": {},
   "outputs": [
    {
     "name": "stdout",
     "output_type": "stream",
     "text": [
      "P_{sat} = 9.66e+03 Pa\n"
     ]
    },
    {
     "data": {
      "text/latex": [
       "$\\displaystyle \\longrightarrow \\bar{h}_{c} = 1323.7\\;W/m^{2}K$"
      ],
      "text/plain": [
       "<IPython.core.display.Math object>"
      ]
     },
     "metadata": {},
     "output_type": "display_data"
    },
    {
     "data": {
      "text/latex": [
       "$\\displaystyle \\longrightarrow T_{sat} =   44.6\\;°C$"
      ],
      "text/plain": [
       "<IPython.core.display.Math object>"
      ]
     },
     "metadata": {},
     "output_type": "display_data"
    },
    {
     "data": {
      "text/latex": [
       "$\\displaystyle \\longrightarrow P_{sat} = 9655.61\\;Pa$"
      ],
      "text/plain": [
       "<IPython.core.display.Math object>"
      ]
     },
     "metadata": {},
     "output_type": "display_data"
    }
   ],
   "source": [
    "def evaluar_prop(T_sat):\n",
    "    \n",
    "    # Presion de vapor del tolueno a T_sat\n",
    "    \n",
    "    P_sat = cp.CoolProp.PropsSI('P','T',T_sat, 'Q',1,'Toluene')\n",
    "\n",
    "\n",
    "    # Densidad del vapor saturado\n",
    "    \n",
    "    rho_vsat = cp.CoolProp.PropsSI('D','T',T_sat, 'Q',1,'Toluene') # [kg/m^3]\n",
    "\n",
    "    # Densidad del liquido saturado\n",
    "    \n",
    "    rho_lsat = cp.CoolProp.PropsSI('D','T',T_sat, 'Q',0,'Toluene') # [kg/m^3]\n",
    "    \n",
    "\n",
    "    # Calor latente de vaporizacion    \n",
    "    \n",
    "    \n",
    "    i_v = cp.CoolProp.PropsSI('H','T',T_sat, 'Q',1,'Toluene') #\n",
    "    i_l = cp.CoolProp.PropsSI('H','T',T_sat, 'Q',0,'Toluene') #\n",
    "    Deltai_vap = (i_v - i_l) # [J/kg]\n",
    "    \n",
    "\n",
    "    # Viscosidad del liquido saturado\n",
    "    \n",
    "    mu_lsat = cp.CoolProp.PropsSI('V','T',T_sat, 'Q',0,'Toluene') # [Pa*s]\n",
    "    \n",
    "\n",
    "    # Conductividad termica del liquido saturado \n",
    "    \n",
    "    k_lsat = cp.CoolProp.PropsSI('L','T',T_sat, 'Q',0,'Toluene') # [W/m*K]\n",
    "    \n",
    "    # calor especifico del liquido saturado\n",
    "    \n",
    "    c_lsat = cp.CoolProp.PropsSI('C','T',T_sat, 'Q',0,'Toluene') # [J/kg*K]\n",
    "\n",
    "    return [P_sat,rho_vsat,rho_lsat,Deltai_vap,mu_lsat,k_lsat,c_lsat]\n",
    "\n",
    "\n",
    "def corr_Chato(T_sat,rho_vsat,rho_lsat,Deltai_vap_m,mu_lsat,k_lsat,c_lsat,D):\n",
    "    \n",
    "    h_c = 0.555*((g*rho_lsat*(rho_lsat-rho_vsat)*(k_lsat**3)*Deltai_vap_m)/\n",
    "                 (mu_lsat*(T_sat-T_ts)*D))**(1/4)\n",
    "    \n",
    "    return h_c\n",
    "\n",
    "\n",
    "def condensado(T_sat):\n",
    "    g =9.8\n",
    "    # Evalua propiedades a T_sat \n",
    "    P_sat,rho_vsat,rho_lsat,Deltai_vap,mu_lsat,k_lsat,c_lsat = evaluar_prop(T_sat)\n",
    "\n",
    "    \n",
    "    # Calor latente de vaporizacion modificado [J/kg]\n",
    "    Deltai_vap_m = Deltai_vap+(3.0/8.0)*c_lsat*(T_sat-T_ts)    \n",
    "\n",
    "    # Coeficiente de transferencia [W/m^2*K]\n",
    "    h_c = corr_Chato(T_sat,rho_vsat,rho_lsat,Deltai_vap_m,mu_lsat,k_lsat,c_lsat,D)\n",
    "    \n",
    "    delta_condensado = k_lsat / h_c    \n",
    "    \n",
    "    masa_condensado = rho_lsat*(rho_lsat-rho_vsat)/(3*mu_lsat)*g*delta_condensado**3\n",
    "    \n",
    "    h_c2 = ht.Akers_Deans_Crosser(masa_condensado, rho_vsat, rho_lsat, k_lsat, mu_lsat, c_lsat, D, 1)\n",
    "    # Ley de enfriamiento (func=0)\n",
    "    func = h_c2 - q_dot/(A_c*(T_sat-T_ts))\n",
    "    \n",
    "    return func\n",
    "\n",
    "\n",
    "# ******** Resultados ********\n",
    "\n",
    "# Encuentra raiz de la funcion 'condensado' en un intervalo dado usando metodo de Brent\n",
    "T_sat = optimize.brentq(condensado,T_ts+0.1,T_ts+100)\n",
    "\n",
    "# Propiedades\n",
    "P_sat,rho_vsat,rho_lsat,Deltai_vap,mu_lsat,k_lsat,c_lsat = evaluar_prop(T_sat)\n",
    "\n",
    "# Calor latente modificado \n",
    "Deltai_vap_m = Deltai_vap+(3.0/8.0)*c_lsat*(T_sat-T_ts)\n",
    "    \n",
    "# Coef. de transferencia\n",
    "h_c = corr_Chato(T_sat,rho_vsat,rho_lsat,Deltai_vap_m,mu_lsat,k_lsat,c_lsat,D)\n",
    "\n",
    "\n",
    "#h_c = ht.condensation.Akers_Deans_Crosser(m, rhog, rhol, kl, mul, Cpl, D, x)\n",
    "\n",
    "# Imprime\n",
    "objeto1 = ipd.Math(r'\\longrightarrow \\bar{h}_{c} = %s'%format(h_c,'6.1f')+'\\;W/m^{2}K')\n",
    "objeto2 = ipd.Math(r'\\longrightarrow T_{sat} = %s'%format(T_sat-273,'6.1f')+'\\;°C')\n",
    "objeto3 = ipd.Math(r'\\longrightarrow P_{sat} = %s'%format(P_sat,'6.2f')+'\\;Pa')\n",
    "print('P_{sat} = %5.2e Pa'%P_sat )\n",
    "ipd.display(objeto1,objeto2,objeto3)"
   ]
  },
  {
   "cell_type": "markdown",
   "metadata": {},
   "source": [
    "## Proceso de Evaporación\n",
    "\n",
    "A fin de obtener el coeficiente de transferencia de calor para un evaporador que opera en el régimen de ebullición nucleada ($\\bar{h}_{b}$), recurrimos a la correlación de Rohsenow, 1952 (Ver Sección 7.2.3 de <a name=\"ref-2\"/>[Nellis, 2008](#cite-nellis_klein_2008)):\n",
    "\n",
    "\\begin{equation}\n",
    "\\bar{h}_{b}=\\mu_{l,sat} h_{fg} \\sqrt{\\frac{g\\left(\\rho_{l,sat}-\\rho_{v,sat}\\right)}{\\sigma}}\\left[\\frac{c_{l,sat} \\left(T_{bs}-T_{sat}\\right)^{2/3}}{C_{n b} h_{fg} P r_{l,sat}^{n}}\\right]^{3}\n",
    "\\end{equation}\n",
    "\n",
    "\n",
    "\n",
    "Reconozcamos algunas cantidades conocidas:\n",
    "\n",
    "\\begin{equation}\n",
    "    \\text{Ja} = \\frac{c_{l,sat} (T_{bs}-T_{sat})}{h_{fg}} \n",
    "\\end{equation}\n",
    "\n",
    "\\begin{equation}\n",
    "\\ell =  \\sqrt{\\frac{g\\left(\\rho_{l,sat}-\\rho_{v,sat}\\right)}{\\sigma}}\n",
    "\\end{equation}\n",
    "\n",
    "\n",
    "\n",
    "La velocidad de transferencia de calor está dada por la ley de enfriamiento de Newton:\n",
    "\n",
    "\\begin{equation}\n",
    "\\dot{q}=A_{h}\\;\\bar{h}_{b}\\left(T_{bs}-T_{sat}\\right)\n",
    "\\end{equation}\n",
    "\n",
    "### Procedimiento de cálculo\n",
    "\n",
    "La temperatura de la superficie del tubo en su tramo inferior ($T_{bs}$) no se especifica por lo cual debe calcularse. Esto conduce a un proceso iterativo a fin de obtener el coeficiente de transferencia.\n",
    "Como punto de partida, suponemos una temperatura de pared $T_{bs}$ y calculamos\n",
    "el coeficiente $\\bar{h}_{b}$ recurriendo a la función `boiling_nucleic.Rohsenow` disponible en la librería Python [`ht`](https://pypi.org/project/ht/) la cual permite implementar la expresión previa. Finalmente ajustamos el valor de $T_{bs}$ de forma tal de satisfacer la ley de enfriamiento de Newton."
   ]
  },
  {
   "cell_type": "code",
   "execution_count": 4,
   "metadata": {},
   "outputs": [],
   "source": [
    "# Tension superficial \n",
    "sigma = cp.CoolProp.PropsSI('surface_tension','T',T_sat, 'Q',0,'Toluene') # [N/m]\n",
    "\n",
    "# Coeficiente que depende de la combinacion superficie-fluido\n",
    "Cnb = 0.013\n",
    "\n",
    "# Exponente del numero de Prandtl\n",
    "n = 1.7\n"
   ]
  },
  {
   "cell_type": "code",
   "execution_count": 5,
   "metadata": {},
   "outputs": [],
   "source": [
    "def evaporado(T_bs):\n",
    "    \n",
    "    # Coeficiente de transferencia [W/m^2*K]\n",
    "    h_b = ht.boiling_nucleic.Rohsenow(rhol=rho_lsat, rhog=rho_vsat, mul=mu_lsat, \n",
    "                                      kl=k_lsat, Cpl=c_lsat, Hvap=Deltai_vap,\n",
    "                                      sigma=sigma, Te=T_bs-T_sat, Csf=Cnb, n=n)\n",
    "    \n",
    "    # Ley de enfriamiento (func=0)\n",
    "    func = h_b - q_dot/(A_h*(T_bs-T_sat))\n",
    "    return func\n",
    "    "
   ]
  },
  {
   "cell_type": "code",
   "execution_count": 16,
   "metadata": {},
   "outputs": [
    {
     "data": {
      "text/latex": [
       "$\\displaystyle \\longrightarrow T_{bs} =   86.8\\;°C$"
      ],
      "text/plain": [
       "<IPython.core.display.Math object>"
      ]
     },
     "metadata": {},
     "output_type": "display_data"
    },
    {
     "data": {
      "text/latex": [
       "$\\displaystyle \\longrightarrow \\bar{h}_{b} =  603.1\\;W/m^{2}K$"
      ],
      "text/plain": [
       "<IPython.core.display.Math object>"
      ]
     },
     "metadata": {},
     "output_type": "display_data"
    }
   ],
   "source": [
    "# ******** Resultados ********\n",
    "\n",
    "# Encuentra raiz de la funcion 'evaporado' en un intervalo dado usando metodo de Brent\n",
    "T_bs = optimize.brentq(evaporado,T_sat+0.1,T_sat+100)\n",
    "\n",
    "# Coef. de transferencia\n",
    "h_b = ht.boiling_nucleic.Rohsenow(rhol=rho_lsat, rhog=rho_vsat, mul=mu_lsat,\n",
    "                                  kl=k_lsat, Cpl=c_lsat, Hvap=Deltai_vap,\n",
    "                                  sigma=sigma, Te=T_bs-T_sat, Csf=Cnb, n=n)\n",
    "\n",
    "# Imprime\n",
    "objeto1 = ipd.Math(r'\\longrightarrow T_{bs} = %s'%format(T_bs-273,'6.1f')+'\\;°C')\n",
    "objeto2 = ipd.Math(r'\\longrightarrow \\bar{h}_{b} = %s'%format(h_b,'6.1f')+'\\;W/m^{2}K')\n",
    "ipd.display(objeto1,objeto2)"
   ]
  },
  {
   "cell_type": "markdown",
   "metadata": {},
   "source": [
    "## Mecanismo de Convección\n",
    "\n",
    "El coeficiente de transferencia para la convección externa al tubo se calcula por medio de:\n",
    "\n",
    "\\begin{equation}\n",
    "\\dot{q}=A_{c}\\;\\bar{h}_{conv}\\left(T_{ts}-T_{\\infty}\\right)\n",
    "\\end{equation}\n",
    "\n",
    "resultando $\\bar{h}_{conv}=5305\\;W/m^{2}K$. La velocidad requerida de agua de enfriamiento ($u_{\\infty}$) se obtiene considerando la correlación de Churchill y Bernstein, 1977 (Ver Seccion 4.9.3 de <a name=\"ref-2\"/>[Nellis, 2008](#cite-nellis_klein_2008)):\n",
    "\n",
    "\\begin{equation}\n",
    "\\overline{N u}_{D}=0.3+\\frac{0.62 \\operatorname{Re}_{D}^{0.5} \\operatorname{Pr}^{1 / 3}}{\\left[1+\\left(\\frac{0.4}{P r}\\right)^{2 / 3}\\right]^{0.25}}\\left[1+\\left(\\frac{R e_{D}}{2.82 \\times 10^{5}}\\right)^{0.625}\\right]^{0.80}\n",
    "\\end{equation}\n",
    "\n",
    "la cual permite calcular el número de Nusselt ($\\overline{Nu}_{D}$) para el flujo a través de un cilindro dados los números adimensionales $Re_{D}$ y $Pr$ evaluados a la temperatura de película $\\left(T_{ts}+T_{\\infty}\\right)/2$.\n",
    "\n",
    "### Procedimiento de cálculo\n",
    "\n",
    "Como punto de partida del esquema iterativo, suponemos un número de Reynolds $Re_{D}$ y calculamos el número de Nusselt ($\\overline{Nu}_{D}$) recurriendo a la función `conv_external.Nu_cylinder_Churchill_Bernstein` disponible en la librería Python [`ht`](https://pypi.org/project/ht/) la cual permite implementar la expresión previa. Finalmente ajustamos el valor de $Re_{D}$ de forma tal de satisfacer el valor de $\\bar{h}_{conv}$ obtenido previamente al aplicar la ley de enfriamiento de Newton."
   ]
  },
  {
   "cell_type": "code",
   "execution_count": 17,
   "metadata": {},
   "outputs": [
    {
     "name": "stdout",
     "output_type": "stream",
     "text": [
      "h_conveccion = 5305.16\n"
     ]
    }
   ],
   "source": [
    "h_conv = q_dot/A_c/(T_ts-T_inf)\n",
    "print('h_conveccion = %.2f'%h_conv)\n",
    "T_ref = (T_ts+T_inf)/2\n",
    "\n",
    "mu_agua = cp.CoolProp.PropsSI('V','T',T_ref,'Q',0,'water')\n",
    "rho_agua = cp.CoolProp.PropsSI('D','T',T_ref,'Q',0,'water')\n",
    "nu_agua = mu_agua/rho_agua\n",
    "k_agua = cp.CoolProp.PropsSI('L','T',T_ref,'Q',0,'water')\n",
    "cp_agua = cp.CoolProp.PropsSI('C','T',T_ref,'Q',0,'water')\n",
    "a_agua = k_agua / (cp_agua*rho_agua)\n",
    "\n",
    "Pr_agua = nu_agua / a_agua"
   ]
  },
  {
   "cell_type": "code",
   "execution_count": 8,
   "metadata": {},
   "outputs": [],
   "source": [
    "def solucion_conveccion (U):\n",
    "    ReD = U*D*rho_agua / mu_agua\n",
    "    \n",
    "    NuD = ht.conv_external.Nu_cylinder_Churchill_Bernstein (ReD,Pr_agua)\n",
    "    \n",
    "    h_conv_aux = k_agua/D * NuD\n",
    "    \n",
    "    func = h_conv_aux - h_conv\n",
    "    \n",
    "    return func"
   ]
  },
  {
   "cell_type": "code",
   "execution_count": 18,
   "metadata": {},
   "outputs": [
    {
     "name": "stdout",
     "output_type": "stream",
     "text": [
      "Velocidad agua = 0.99\n"
     ]
    }
   ],
   "source": [
    "U_agua = optimize.brentq(solucion_conveccion,0.0001,100)\n",
    "\n",
    "print('Velocidad agua = %.2f'%U_agua)"
   ]
  },
  {
   "cell_type": "markdown",
   "metadata": {},
   "source": [
    "## Desempeño térmico del caloducto\n",
    "\n",
    "La conductividad efectiva en este caso se refiere a la conductividad que debería tener una barra sólida de cobre con el mismo $\\Delta T$ impuesto en ambos extremos para transferir energía a la misma velocidad que el caloducto, es decir:  \n",
    "\n",
    "\\begin{equation}\n",
    "\\dot{q}=\\pi \\frac{D^{2}}{4} \\frac{k_{ef}}{L}\\left(T_{bs}-T_{ts}\\right)\\end{equation}\n",
    "\n"
   ]
  },
  {
   "cell_type": "code",
   "execution_count": 19,
   "metadata": {},
   "outputs": [
    {
     "name": "stdout",
     "output_type": "stream",
     "text": [
      "Conductividad_efectiva k_ef =5283.9\n"
     ]
    }
   ],
   "source": [
    "k_ef = q_dot *4*L / (D**2*np.pi*(T_bs-T_ts))\n",
    "print('Conductividad_efectiva k_ef =%.1f'%k_ef)"
   ]
  },
  {
   "cell_type": "code",
   "execution_count": 20,
   "metadata": {},
   "outputs": [
    {
     "data": {
      "text/plain": [
       "380.0"
      ]
     },
     "execution_count": 20,
     "metadata": {},
     "output_type": "execute_result"
    }
   ],
   "source": [
    "ht.insulation.k_material('Copper')"
   ]
  },
  {
   "cell_type": "code",
   "execution_count": 11,
   "metadata": {},
   "outputs": [
    {
     "name": "stdout",
     "output_type": "stream",
     "text": [
      "Conductividad_relativa al cobre = 13.9\n"
     ]
    }
   ],
   "source": [
    "k_cobre = ht.insulation.k_material('Copper')\n",
    "print('Conductividad_relativa al cobre = %.1f'%(k_ef/k_cobre))"
   ]
  },
  {
   "cell_type": "markdown",
   "metadata": {},
   "source": [
    "<div class=\"alert alert-block alert-warning\">\n",
    "<h2>Respuesta (d)</h2>       \n",
    "\n",
    "Teniendo en cuenta que $k_{cobre}=396\\;W/mK$ evaluada a una temperatura media $\\left(T_{bs}+T_{ts}\\right)/2$, podemos constatar la alta eficacia del caloducto para transferir energía térmica.\n",
    "</div>"
   ]
  },
  {
   "cell_type": "markdown",
   "metadata": {},
   "source": [
    "<!--bibtex\n",
    "\n",
    "@book{incropera2007fundamentals,\n",
    "  title={Fundamentals of heat and mass transfer},\n",
    "  author={Incropera, Frank P and Lavine, Adrienne S and Bergman, Theodore L and DeWitt, David P},\n",
    "  year={2007},\n",
    "  publisher={Wiley}\n",
    "}\n",
    "\n",
    "@book{nellis_klein_2008, place={Cambridge}, title={Heat Transfer}, DOI={10.1017/CBO9780511841606}, publisher={Cambridge University Press}, author={Nellis, Gregory and Klein, Sanford}, year={2008}}\n",
    "\n",
    "... Other Bibtex entries go here.\n",
    "\n",
    "-->"
   ]
  },
  {
   "cell_type": "markdown",
   "metadata": {},
   "source": [
    "<!--bibtex\n",
    "\n",
    "@Article{PER-GRA:2007,\n",
    "  Author    = {P\\'erez, Fernando and Granger, Brian E.},\n",
    "  Title     = {{IP}ython: a System for Interactive Scientific Computing},\n",
    "  Journal   = {Computing in Science and Engineering},\n",
    "  Volume    = {9},\n",
    "  Number    = {3},\n",
    "  Pages     = {21--29},\n",
    "  month     = may,\n",
    "  year      = 2007,\n",
    "  url       = \"http://ipython.org\",\n",
    "  ISSN      = \"1521-9615\",\n",
    "  doi       = {10.1109/MCSE.2007.53},\n",
    "  publisher = {IEEE Computer Society},\n",
    "}\n",
    "\n",
    "... Other Bibtex entries go here.\n",
    "\n",
    "-->"
   ]
  },
  {
   "cell_type": "markdown",
   "metadata": {},
   "source": [
    "# References\n",
    "\n",
    "<a name=\"cite-incropera2007fundamentals\"/><sup>[^](#ref-1) </sup>Incropera, Frank P and Lavine, Adrienne S and Bergman, Theodore L and DeWitt, David P. 2007. _Fundamentals of heat and mass transfer_.\n",
    "\n",
    "<a name=\"cite-nellis_klein_2008\"/><sup>[^](#ref-2) </sup>Nellis, Gregory and Klein, Sanford. 2008. _Heat Transfer_.\n",
    "\n"
   ]
  },
  {
   "cell_type": "code",
   "execution_count": null,
   "metadata": {},
   "outputs": [],
   "source": []
  },
  {
   "cell_type": "code",
   "execution_count": 12,
   "metadata": {},
   "outputs": [
    {
     "data": {
      "text/plain": [
       "['1-Butene',\n",
       " 'Acetone',\n",
       " 'Air',\n",
       " 'Ammonia',\n",
       " 'Argon',\n",
       " 'Benzene',\n",
       " 'CarbonDioxide',\n",
       " 'CarbonMonoxide',\n",
       " 'CarbonylSulfide',\n",
       " 'CycloHexane',\n",
       " 'CycloPropane',\n",
       " 'Cyclopentane',\n",
       " 'D4',\n",
       " 'D5',\n",
       " 'D6',\n",
       " 'Deuterium',\n",
       " 'Dichloroethane',\n",
       " 'DiethylEther',\n",
       " 'DimethylCarbonate',\n",
       " 'DimethylEther',\n",
       " 'Ethane',\n",
       " 'Ethanol',\n",
       " 'EthylBenzene',\n",
       " 'Ethylene',\n",
       " 'EthyleneOxide',\n",
       " 'Fluorine',\n",
       " 'HFE143m',\n",
       " 'HeavyWater',\n",
       " 'Helium',\n",
       " 'Hydrogen',\n",
       " 'HydrogenChloride',\n",
       " 'HydrogenSulfide',\n",
       " 'IsoButane',\n",
       " 'IsoButene',\n",
       " 'Isohexane',\n",
       " 'Isopentane',\n",
       " 'Krypton',\n",
       " 'MD2M',\n",
       " 'MD3M',\n",
       " 'MD4M',\n",
       " 'MDM',\n",
       " 'MM',\n",
       " 'Methane',\n",
       " 'Methanol',\n",
       " 'MethylLinoleate',\n",
       " 'MethylLinolenate',\n",
       " 'MethylOleate',\n",
       " 'MethylPalmitate',\n",
       " 'MethylStearate',\n",
       " 'Neon',\n",
       " 'Neopentane',\n",
       " 'Nitrogen',\n",
       " 'NitrousOxide',\n",
       " 'Novec649',\n",
       " 'OrthoDeuterium',\n",
       " 'OrthoHydrogen',\n",
       " 'Oxygen',\n",
       " 'ParaDeuterium',\n",
       " 'ParaHydrogen',\n",
       " 'Propylene',\n",
       " 'Propyne',\n",
       " 'R11',\n",
       " 'R113',\n",
       " 'R114',\n",
       " 'R115',\n",
       " 'R116',\n",
       " 'R12',\n",
       " 'R123',\n",
       " 'R1233zd(E)',\n",
       " 'R1234yf',\n",
       " 'R1234ze(E)',\n",
       " 'R1234ze(Z)',\n",
       " 'R124',\n",
       " 'R1243zf',\n",
       " 'R125',\n",
       " 'R13',\n",
       " 'R134a',\n",
       " 'R13I1',\n",
       " 'R14',\n",
       " 'R141b',\n",
       " 'R142b',\n",
       " 'R143a',\n",
       " 'R152A',\n",
       " 'R161',\n",
       " 'R21',\n",
       " 'R218',\n",
       " 'R22',\n",
       " 'R227EA',\n",
       " 'R23',\n",
       " 'R236EA',\n",
       " 'R236FA',\n",
       " 'R245ca',\n",
       " 'R245fa',\n",
       " 'R32',\n",
       " 'R365MFC',\n",
       " 'R40',\n",
       " 'R404A',\n",
       " 'R407C',\n",
       " 'R41',\n",
       " 'R410A',\n",
       " 'R507A',\n",
       " 'RC318',\n",
       " 'SES36',\n",
       " 'SulfurDioxide',\n",
       " 'SulfurHexafluoride',\n",
       " 'Toluene',\n",
       " 'Water',\n",
       " 'Xenon',\n",
       " 'cis-2-Butene',\n",
       " 'm-Xylene',\n",
       " 'n-Butane',\n",
       " 'n-Decane',\n",
       " 'n-Dodecane',\n",
       " 'n-Heptane',\n",
       " 'n-Hexane',\n",
       " 'n-Nonane',\n",
       " 'n-Octane',\n",
       " 'n-Pentane',\n",
       " 'n-Propane',\n",
       " 'n-Undecane',\n",
       " 'o-Xylene',\n",
       " 'p-Xylene',\n",
       " 'trans-2-Butene']"
      ]
     },
     "execution_count": 12,
     "metadata": {},
     "output_type": "execute_result"
    }
   ],
   "source": [
    "#Para conocer los alias de los fluidos que tiene incorporado CoolProp\n",
    "cp.CoolProp.get_global_param_string(\"FluidsList\").split(',')"
   ]
  },
  {
   "cell_type": "code",
   "execution_count": null,
   "metadata": {},
   "outputs": [],
   "source": []
  },
  {
   "cell_type": "markdown",
   "metadata": {},
   "source": [
    "Para conocer las entradas  http://www.coolprop.org/coolprop/HighLevelAPI.html#parameter-table"
   ]
  },
  {
   "cell_type": "code",
   "execution_count": 21,
   "metadata": {},
   "outputs": [
    {
     "data": {
      "text/plain": [
       "dict_keys(['Silica', 'Silica special', 'Fused silica', 'Fireclay', 'High-duty fireclay', 'Sillimanite', 'Mullite', 'Corundum 90%', 'Bauxite', 'Corundum 99%', 'Corundum Spinel', 'ACr 90', 'ACrZ 20', 'ACrZ 60', 'Magnesite Chrome', 'Magnesia', 'Magnesite Spinel', 'Magnesite Graphite H15', 'Dolomite P10', 'Sillimanite P5', 'Bauxite P5', 'Corundum P10', 'Magnesite P5', 'Zirconia', 'Zircon', 'AZS 41', 'AZS 33', 'a/b-Alumina', 'SIC 40%', 'SIC 70%', 'SIC 90%', 'L1260', 'L1400', 'L1540', 'L1760', 'L1870', 'Carbon, anthracite', 'Carbon, graphite', 'Board, Asbestos/cement', 'Board, Cement', 'Board, Fiber/cement, 1400 kg/m^3', 'Board, Fiber/cement, 1000 kg/m^3', 'Board, Fiber/cement, 400 kg/m^3', 'Board, Fiber/cement, 300 kg/m^3', 'Gypsum or plaster board', 'Oriented strand board (OSB)', 'Plywood (douglas fir)', 'Plywood/wood panels', 'Vegetable fiber board, Sheathing, regular density', 'Vegetable fiber board, Sheathing, intermediate density', 'Vegetable fiber board, Nail-base sheathing', 'Vegetable fiber board, Shingle backer', 'Vegetable fiber board, Sound deadening board', 'Vegetable fiber board, Tile and lay-in panels, plain or acoustic', 'Vegetable fiber board, Laminated paperboard', 'Vegetable fiber board, Homogeneous board from repulped paper', 'Hardboard, medium density', 'Hardboard, high density, service-tempered grade and service grade', 'Hardboard, high density, standard-tempered grade', 'Particleboard, low density', 'Particleboard, medium density', 'Particleboard, high density', 'Particleboard, underlayment', 'Waferboard', 'Shingles, Asbestos/cement', 'Shingles, Wood, 400 mm, 190 mm exposure', 'Shingles, Wood, double, 400 mm, 300 mm exposure', 'Shingles, Wood, plus ins. backer board', 'Shingles, Siding, Asbestos/cement, lapped', 'Shingles, Siding, Asphalt roll siding', 'Siding, Asphalt insulating siding', 'Siding, Hardboard siding', 'Siding, Wood, drop, 200 mm', 'Siding, Wood, bevel, 200 mm, lapped', 'Siding, Wood, bevel, 250 mm, lapped', 'Siding, Wood, plywood, lapped', 'Siding, Aluminum, steel, or vinyl, over sheathing, hollow-backed', 'Siding, Aluminum, steel, or vinyl, over sheathing, insulating-board-backed', 'Siding, Aluminum, steel, or vinyl, over sheathing foil-backed', 'Siding, Architectural (soda-lime float) glass', 'Carpet and rebounded urethane pad', 'Carpet and rubber pad, one-piece', 'Pile carpet with rubber pad', 'Linoleum/cork tile', 'PVC/Rubber floor covering, Rubber tile', 'PVC/Rubber floor covering, Terrazzo', 'Glass-fiber batts, 90 mm', 'Glass-fiber batts, 50 mm', 'Mineral fiber', 'Mineral wool, felted, 32 kg/m^3', 'Mineral wool, felted, 100 kg/m^3', 'Slag wool, 120 kg/m^3', 'Slag wool, 255 kg/m^3', 'Slag wool, 305 kg/m^3', 'Slag wool, 350 kg/m^3', 'Slag wool, 400 kg/m^3', 'Cellular glass', 'Cement fiber slabs, shredded wood, with Portland cement binder', 'Cement fiber slabs, shredded wood, with magnesia oxysulfide binder', 'Glass fiber board', 'Expanded rubber', 'Expanded polystyrene, extruded', 'Expanded polystyrene, molded beads', 'Mineral fiberboard, wet felted', 'Mineral fiberboard, wet felted, core or roof insulation', 'Mineral fiberboard, wet felted, acoustical tile, 290 kg/m^3', 'Mineral fiberboard, wet felted, acoustical tile, 335 kg/m^3', 'Mineral fiberboard, wet-molded, acoustical tile', 'Perlite board', 'Polyisocyanurate, aged, unfaced', 'Polyisocyanurate, aged, with facers', 'Phenolic foam board with facers, aged', 'Loose fill, Cellulosic', 'Loose fill, Perlite, expanded, 50 kg/m^3', 'Loose fill, Perlite, expanded, 100 kg/m^3', 'Loose fill, Perlite, expanded, 150 kg/m^3', 'Loose fill, Mineral fiber, 95 to 130 mm', 'Loose fill, Mineral fiber, 170 to 220 mm', 'Loose fill, Mineral fiber, 190 to 250 mm', 'Loose fill, Mineral fiber, 260 to 350 mm', 'Loose fill, Mineral fiber, 90 mm', 'Loose fill, Vermiculite, exfoliated, 120 kg/m^3', 'Loose fill, Vermiculite, exfoliated, 80 kg/m^3', 'Spray-applied Cellulosic fiber', 'Spray-applied Glass fiber', 'Spray-applied Polyurethane foam, 7 kg/m^3', 'Spray-applied Polyurethane foam, 40 kg/m^3', 'Spray-applied Polyurethane foam, aged and dry, 40 mm', 'Spray-applied Polyurethane foam, aged and dry, 50 mm', 'Spray-applied Polyurethane foam, aged and dry, 120 mm', 'Spray-applied Ureaformaldehyde foam, dry', 'Asbestos/cement shingles', 'Asphalt (bitumen with inert fill), 1600 kg/m^3', 'Asphalt (bitumen with inert fill), 1900 kg/m^3', 'Asphalt (bitumen with inert fill), 2300 kg/m^3', 'Asphalt roll roofing', 'Asphalt shingles', 'Built-up roofing', 'Mastic asphalt (heavy, 20% grit)', 'Reed thatch', 'Roofing felt', 'Slate', 'Straw thatch', 'Wood shingles, plain and plastic-film-faced', 'Cement plaster, sand aggregate', 'Sand aggregate', 'Gypsum plaster, 1120 kg/m^3', 'Gypsum plaster, 1280 kg/m^3', 'Lightweight aggregate', 'Perlite aggregate', 'Vermiculite aggregate, 480 kg/m^3', 'Vermiculite aggregate, 600 kg/m^3', 'Vermiculite aggregate, 720 kg/m^3', 'Vermiculite aggregate, 840 kg/m^3', 'Vermiculite aggregate, 960 kg/m^3', 'Perlite plaster, 400 kg/m^3', 'Perlite plaster, 600 kg/m^3', 'Pulpboard or paper plaster', 'Sand/cement plaster, conditioned', 'Sand/cement/lime plaster, conditioned', 'Sand/gypsum (3:1) plaster, conditioned', 'Brick, fired clay, 2400 kg/m^3', 'Brick, fired clay, 2240 kg/m^3', 'Brick, fired clay, 2080 kg/m^3', 'Brick, fired clay, 1920 kg/m^3', 'Brick, fired clay, 1760 kg/m^3', 'Brick, fired clay, 1600 kg/m^3', 'Brick, fired clay, 1440 kg/m^3', 'Brick, fired clay, 1280 kg/m^3', 'Brick, fired clay, 1120 kg/m^3', 'Clay tile, hollow, 1 cell deep', 'Clay tile, hollow, 2 cells deep', 'Clay tile, hollow, 3 cells deep', 'Lightweight brick, 800 kg/m^3', 'Lightweight brick, 770 kg/m^3', 'Concrete blocks, Limestone aggregate, 200 mm, 16 kg, 2200 kg/m^3, 2 cores with perlite-filled cores', 'Concrete blocks, Limestone aggregate, 300 mm, 25 kg, 2200 kg/m^3, 2 cores with perlite-filled cores.', 'Concrete blocks, normal-weight aggregate, 300 mm, 23 kg, 2100 kg/m^3, 2 or 3 cores', 'Concrete blocks, normal-weight aggregate, 300 mm, 23 kg, 2100 kg/m^3, with perlite-filled cores', 'Concrete blocks, normal-weight aggregate, 300 mm, 23 kg, 2100 kg/m^3, with vermiculite-filled cores', 'Concrete blocks, normal-weight aggregate, 300 mm, 23 kg, 2000 kg/m^3, 2 cores', 'Concrete blocks, medium-weight aggregate, 200 mm, 13 kg, 1650 kg/m^3, 2 or 3 cores', 'Concrete blocks, medium-weight aggregate, 200 mm, 13 kg, 1650 kg/m^3, with perlite-filled cores', 'Concrete blocks, medium-weight aggregate, 200 mm, 13 kg, 1650 kg/m^3, with vermiculite-filled cores', 'Concrete blocks, medium-weight aggregate, 200 mm, 13 kg, 1650 kg/m^3, with molded-EPS-filled cores', 'Concrete blocks, medium-weight aggregate, 200 mm, 13 kg, 1650 kg/m^3, with molded EPS inserts in cores', 'Concrete blocks, low-mass aggregate, 150 mm, 7.5 kg, 1400 kg/m^3, 2 or 3 cores', 'Concrete blocks, low-mass aggregate, 150 mm, 7.5 kg, 1400 kg/m^3, with perlite-filled cores', 'Concrete blocks, low-mass aggregate, 150 mm, 7.5 kg, 1400 kg/m^3, with vermiculite-filled cores', 'Concrete blocks, low-mass aggregate, 200 mm, 9 kg, 1250 kg/m^3', 'Concrete blocks, low-mass aggregate, 200 mm, 9 kg, 1250 kg/m^3, with perlite-filled cores', 'Concrete blocks, low-mass aggregate, 200 mm, 9 kg, 1250 kg/m^3, with vermiculite-filled cores', 'Concrete blocks, low-mass aggregate, 200 mm, 9 kg, 1250 kg/m^3, with molded-EPS-filled cores', 'Concrete blocks, low-mass aggregate, 200 mm, 9 kg, 1250 kg/m^3, with UF foam-filled cores', 'Concrete blocks, low-mass aggregate, 200 mm, 9 kg, 1250 kg/m^3, with molded EPS inserts in cores', 'Concrete blocks, low-mass aggregate, 300 mm, 16 kg, 1400 kg/m^3, 2 or 3 cores', 'Concrete blocks, low-mass aggregate, 300 mm, 16 kg, 1400 kg/m^3, with perlite-filled cores', 'Concrete blocks, low-mass aggregate, 300 mm, 16 kg, 1400 kg/m^3, with vermiculite-filled cores', 'Stone, lime, or sand', 'Quartzitic and sandstone, 2560 kg/m^3', 'Quartzitic and sandstone, 2240 kg/m^3', 'Quartzitic and sandstone, 1920 kg/m^3', 'Calcitic, dolomitic, limestone, marble, and granite, 2880 kg/m^3', 'Calcitic, dolomitic, limestone, marble, and granite, 2560 kg/m^3', 'Calcitic, dolomitic, limestone, marble, and granite, 2240 kg/m^3', 'Calcitic, dolomitic, limestone, marble, and granite, 1920 kg/m^3', 'Calcitic, dolomitic, limestone, marble, and granite, 1600 kg/m^3', 'Gypsum partition tile, 75 by 300 by 760 mm, solid, 3 cells', 'Gypsum partition tile, 75 by 300 by 760 mm, with 4 cells', 'Gypsum partition tile, 100 by 300 by 760 mm, 3 cells', 'Limestone, 2400 kg/m^3', 'Limestone, 2600 kg/m^3', 'Concrete, Sand and gravel or stone aggregate concretes, 2400 kg/m^3', 'Concrete, Sand and gravel or stone aggregate concretes, 2240 kg/m^3', 'Concrete, Sand and gravel or stone aggregate concretes, 2080 kg/m^3', 'Concrete, Low-mass aggregate or limestone', 'Concrete, Expanded shale, clay, or slate; expanded slags; cinders; pumice; scoria; 1600 kg/m^3', 'Concrete, Expanded shale, clay, or slate; expanded slags; cinders; pumice; scoria; 1280 kg/m^3', 'Concrete, Expanded shale, clay, or slate; expanded slags; cinders; pumice; scoria; 960 kg/m^3', 'Concrete, Expanded shale, clay, or slate; expanded slags; cinders; pumice; scoria; 640 kg/m^3', 'Concrete, Gypsum/fiber concrete (87.5% gypsum, 12.5% wood chips)', 'Concrete, Cement/lime, mortar, and stucco, 1920 kg/m^3', 'Concrete, Cement/lime, mortar, and stucco, 1600 kg/m^3', 'Concrete, Cement/lime, mortar, and stucco, 1280 kg/m^3', 'Concrete, Perlite, vermiculite, and polystyrene beads, 800 kg/m^3', 'Concrete, Perlite, vermiculite, and polystyrene beads, 640 kg/m^3', 'Concrete, Perlite, vermiculite, and polystyrene beads, 480 kg/m^3', 'Concrete, Perlite, vermiculite, and polystyrene beads, 320 kg/m^3', 'Concrete, Foam concretes, 1920 kg/m^3', 'Concrete, Foam concretes, 1600 kg/m^3', 'Concrete, Foam concretes, 1280 kg/m^3', 'Concrete, Foam concretes, 1120 kg/m^3', 'Concrete, Foam concretes and cellular concretes, 960 kg/m^3', 'Concrete, Foam concretes and cellular concretes, 640 kg/m^3', 'Concrete, Foam concretes and cellular concretes, 320 kg/m^3', 'Concrete, Aerated concrete (oven-dried)', 'Concrete, Polystyrene concrete (oven-dried)', 'Concrete, Polymer concrete, 1950 kg/m^3', 'Concrete, Polymer concrete, 2200 kg/m^3', 'Concrete, Polymer cement', 'Concrete, Slag concrete, 960 kg/m^3', 'Concrete, Slag concrete, 1280 kg/m^3', 'Concrete, Slag concrete, 1600 kg/m^3', 'Concrete, Slag concrete, 2000 kg/m^3', 'Oak', 'Birch', 'Maple', 'Ash', 'Southern pine', 'Southern yellow pine', 'Eastern white pine', 'Douglas fir/larch', 'Southern cypress', 'Hem/fir, spruce/pine/fir', 'Spruce', 'Western red cedar', 'West coast woods, cedars', 'Eastern white cedar', 'California redwood', 'Pine (oven-dried)', 'Spruce (oven-dried)', 'Asphalt', 'Bitumen, pure', 'Bitumen, felt or sheet', 'Concrete, medium density 1800 kg/m^3', 'Concrete, medium density 2000 kg/m^3', 'Concrete, medium density 2200 kg/m^3', 'Concrete, high density', 'Concrete, reinforced with 1% steel', 'Concrete, reinforced with 2% steel', 'Floor covering, rubber', 'Floor covering, plastic', 'Floor covering, underlay, cellular or plastic', 'Floor covering, underlay, felt', 'Floor covering, underlay, wool', 'Floor covering, underlay, cork', 'Floor covering, tiles, cork', 'Floor covering, carpet / textile flooring', 'Floor covering, Linoleum', 'Gases, air', 'Gases, carbon dioxide', 'Gases, argon', 'Gases, sulphur hexafluoride', 'Gases, krypton', 'Gases, xenon', 'Glass, soda lime', 'Glass, quartz', 'Glass, glass mosaic', 'Water, ice at -10 °C', 'Water, ice at 0 °C', 'Water, snow, freshly fallen (<30 mm)', 'Water, snow, soft (30 mm to 70 mm)', 'Water, snow, slightly compacted (70 mm to 100 mm)', 'Water, snow, compacted (<200 mm)', 'Water at 10°C', 'Water at 40°C', 'Water at 80°C', 'Metals, aluminium alloys', 'Metals, bronze', 'Metals, brass', 'Metals, copper', 'Metals, iron, cast', 'Metals, lead', 'Metals, steel', 'Metals, stainless steel', 'Metals, zinc', 'Plastics, acrylic', 'Plastics, polycarbonates', 'Plastics, polytetrafluoroethylene (PTFE)', 'Plastics, Polyvinylchloride (PVC)', 'Plastics, polymethylmethacrylate (PMMA)', 'Plastics, polyacetate', 'Plastics, polyamide (nylon)', 'Plastics, polyamide 6.6 with 25% glass fibre', 'Plastics, polyethylene / polythene, high density', 'Plastics, polyethylene / polythene, low density', 'Plastics, polystyrene', 'Plastics, polypropylene', 'Plastics, polypropylene with 25% glass fibre', 'Plastics, polyurethane (PU)', 'Plastics, epoxy resin', 'Plastics, phenolic resin', 'Plastics, polyester resin', 'Rubber, natural', 'Rubber, neoprene (polychloroprene)', 'Rubber, butyl (isobutene), solid melt', 'Rubber, foam rubber', 'Rubber, hard rubber (ebonite), solid', 'Rubber, ethylene propylene diene monomer (EPDM)', 'Rubber, polyisobutylene', 'Rubber, polysulfide', 'Rubber, butadiene', 'Sealant, silica gel (dessicant)', 'Sealant, silicone, pure', 'Sealant, silicone, filled', 'Sealant, silicone foam', 'Sealant, urethane / polyurethane (thermal break)', 'Sealant, polyvinylchloride (PVC) flexible, with 40% softner', 'Sealant, elastomeric foam, flexible', 'Sealant, polyurethane (PU) foam', 'Sealant, polyethylene foam', 'Gypsum, 600 kg/m^3', 'Gypsum, 900 kg/m^3', 'Gypsum, 1200 kg/m^3', 'Gypsum, 1500 kg/m^3', 'Gypsum, plasterboard', 'Plasters and renders, gypsum insulating plaster', 'Plasters and renders, gypsum plastering, 1000 kg/m^3', 'Plasters and renders, gypsum plastering, 1300 kg/m^3', 'Plasters and renders, lime sand', 'Plasters and renders, cement sand', 'Plasters and renders, gypsum sand', 'Solids, clay or silt', 'Solids, sand and gravel', 'Stone, natural, crystalline rock', 'Stone, natural, sedimentary rock', 'Stone, natural, sedimentary rock, light', 'Stone, natural, porous', 'Stone, basalt', 'Stone, gneiss', 'Stone, granite', 'Stone, marble', 'Stone, slate', 'Stone, limestone, extra soft', 'Stone, limestone, soft', 'Stone, limestone, semi-hard', 'Stone, limestone, hard', 'Stone, limestone, extra hard', 'Stone, sandstone (silica)', 'Stone, natural pumice', 'Stone, artificial stone', 'Tiles, clay', 'Tiles, concrete', 'Tiles, ceramic or porcelain', 'Tiles, plastic', 'Timber, 500 kg/m^3', 'Timber, 700 kg/m^3', 'Wood, plywood 300 kg/m^3', 'Wood, plywood 500 kg/m^3', 'Wood, plywood 700 kg/m^3', 'Wood, plywood 1000 kg/m^3', 'Wood, cement-bonded particleboard', 'Wood, particleboard, 300 kg/m^3', 'Wood, particleboard, 600 kg/m^3', 'Wood, particleboard, 900 kg/m^3', 'Wood, oriented strand board', 'Wood, fibreboard, 250 kg/m^3', 'Wood, fibreboard, 400 kg/m^3', 'Wood, fibreboard, 600 kg/m^3', 'Wood, fibreboard, 800 kg/m^3'])"
      ]
     },
     "execution_count": 21,
     "metadata": {},
     "output_type": "execute_result"
    }
   ],
   "source": [
    "ht.materials_dict.keys() ##lista de materiales\n"
   ]
  },
  {
   "cell_type": "code",
   "execution_count": null,
   "metadata": {},
   "outputs": [],
   "source": []
  }
 ],
 "metadata": {
  "anaconda-cloud": {},
  "kernelspec": {
   "display_name": "Python 3 (ipykernel)",
   "language": "python",
   "name": "python3"
  },
  "language_info": {
   "codemirror_mode": {
    "name": "ipython",
    "version": 3
   },
   "file_extension": ".py",
   "mimetype": "text/x-python",
   "name": "python",
   "nbconvert_exporter": "python",
   "pygments_lexer": "ipython3",
   "version": "3.10.9"
  },
  "latex_envs": {
   "LaTeX_envs_menu_present": true,
   "autoclose": true,
   "autocomplete": true,
   "bibliofile": "biblio.bib",
   "cite_by": "apalike",
   "current_citInitial": 1,
   "eqLabelWithNumbers": true,
   "eqNumInitial": 1,
   "hotkeys": {
    "equation": "Ctrl-E",
    "itemize": "Ctrl-I"
   },
   "labels_anchors": false,
   "latex_user_defs": false,
   "report_style_numbering": false,
   "user_envs_cfg": false
  }
 },
 "nbformat": 4,
 "nbformat_minor": 4
}
