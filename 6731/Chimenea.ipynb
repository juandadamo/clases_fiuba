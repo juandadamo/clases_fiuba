{
 "cells": [
  {
   "cell_type": "code",
   "execution_count": 3,
   "metadata": {},
   "outputs": [],
   "source": [
    "import numpy as np\n",
    "import ht, fluids\n",
    "import CoolProp as cp\n",
    "from IPython.display import Image,IFrame"
   ]
  },
  {
   "cell_type": "code",
   "execution_count": 17,
   "metadata": {
    "cell_style": "split"
   },
   "outputs": [
    {
     "data": {
      "image/png": "[encoded data removed]",
      "text/plain": [
       "<IPython.core.display.Image object>"
      ]
     },
     "execution_count": 17,
     "metadata": {
      "image/png": {
       "height": 100,
       "width": 100
      }
     },
     "output_type": "execute_result"
    }
   ],
   "source": [
    "Image(\"./tikzs/tubo_1.png\", width=100, height=100)"
   ]
  },
  {
   "cell_type": "markdown",
   "metadata": {
    "cell_style": "split"
   },
   "source": [
    "\\begin{equation}\n",
    "\\Delta\\left[\\frac{1}{2}\\rho U^2+p + \\rho g z \\right] = \\Delta p_{perdidas} -\\Delta p_{ganancias}\n",
    "\\end{equation}\n",
    "\n",
    "\\begin{equation}\n",
    " \\Delta p_{perdidas}  = \\Delta p_{friccion} + \\Delta p_{localizadas}\n",
    "\\end{equation}\n",
    "\n",
    "\\begin{equation}\n",
    "\\Delta p_{ganancias} = \\Delta p_{bombas} + \\Delta p_{flotacion}\n",
    "\\end{equation}\n",
    "\\begin{equation}\n",
    "\\Delta p_{flotacion} = \\Delta \\rho g H = \\beta\\rho\\Delta T g H  = \\Delta T \\rho g H / T_m\n",
    "\\end{equation}\n",
    "\\begin{equation}\n",
    "G = \\iint_S (\\bar u \\cdot \\bar n) ds = \\bar U \\pi D^2/4\n",
    "\\end{equation}\n",
    "\n",
    "$T_m  = (T_1+T_2)/2$ $~~~~\\text{temperatura media del gas en K}$"
   ]
  },
  {
   "cell_type": "code",
   "execution_count": 57,
   "metadata": {},
   "outputs": [],
   "source": [
    "g = 9.8\n",
    "#G = 1 ##m**3/s\n",
    "D_1 = 50e-2 #diametro chimenea 1\n",
    "D_2 = 5e-2 #diametro chimenea 2\n",
    "#D_2 = D_1\n",
    "A_1 = np.pi*D_1**2/4\n",
    "A_2 = np.pi*D_2**2/4\n",
    "L = 3  #Largo vertical\n",
    "\n",
    "z_1 = 0\n",
    "z_2 = L\n",
    "\n",
    "T_1 = 200 + 273\n",
    "cp_1 = cp.CoolProp.PropsSI('C','T',T_1,'P',101.325e3,'Air')\n",
    "rho_1 = cp.CoolProp.PropsSI('D','T',T_1,'P',101.325e3,'Air')\n",
    "mu_1 = cp.CoolProp.PropsSI('V','T',T_1,'P',101.325e3,'Air')\n",
    "Pr_1 = cp.CoolProp.PropsSI('Prandtl','T',T_1,'P',101.325e3,'Air')\n",
    "k_1 = cp.CoolProp.PropsSI('L','T',T_1,'P',101.325e3,'Air')\n",
    "\n",
    "T_2 = 30 + 273\n",
    "cp_2 = cp.CoolProp.PropsSI('C','T',T_2,'P',101.325e3,'Air')\n",
    "rho_2 = cp.CoolProp.PropsSI('D','T',T_2,'P',101.325e3,'Air')\n",
    "mu_2 = cp.CoolProp.PropsSI('V','T',T_2,'P',101.325e3,'Air')\n",
    "Pr_2 = cp.CoolProp.PropsSI('Prandtl','T',T_2,'P',101.325e3,'Air')\n",
    "k_2 = cp.CoolProp.PropsSI('L','T',T2,'P',101.325e3,'Air')\n",
    "\n",
    "Tm = (T_1+T_2)/2\n",
    "\n",
    "p_1 = 101.3e3 + (T_1-T_2)/Tm*L*g\n",
    "p_2 = 101.3e3 \n",
    "\n",
    "#U_1 = G/A_1\n",
    "#U_2 = G/A_2\n",
    "\n",
    "\n",
    "\n"
   ]
  },
  {
   "cell_type": "markdown",
   "metadata": {},
   "source": [
    " \\begin{equation}\n",
    " \\Delta p_{perdidas}  = \\Delta\\left[\\frac{1}{2}\\rho U^2+p + \\rho g z \\right] \n",
    "\\end{equation}"
   ]
  },
  {
   "cell_type": "code",
   "execution_count": 58,
   "metadata": {},
   "outputs": [
    {
     "name": "stdout",
     "output_type": "stream",
     "text": [
      "Las perdidas totales que podría son -1166077.7 Pa\n"
     ]
    }
   ],
   "source": [
    "p_totales = (p_1-p_2)  + (rho_1*g*z_1 + U_1**2*rho_1/2) - (rho_2*g*z_2 + (U_1*A_1/A_2)**2*rho_2/2)\n",
    "\n",
    "print('Las perdidas totales que podría son %.1f Pa'%p_totales)\n",
    "\n"
   ]
  },
  {
   "cell_type": "code",
   "execution_count": 55,
   "metadata": {},
   "outputs": [
    {
     "data": {
      "text/plain": [
       "12.881443298974773"
      ]
     },
     "execution_count": 55,
     "metadata": {},
     "output_type": "execute_result"
    }
   ],
   "source": [
    "(p_1-p_2)/rho_1"
   ]
  },
  {
   "cell_type": "code",
   "execution_count": 56,
   "metadata": {},
   "outputs": [
    {
     "data": {
      "text/plain": [
       "12.881443298969073"
      ]
     },
     "execution_count": 56,
     "metadata": {},
     "output_type": "execute_result"
    }
   ],
   "source": [
    "(T_1-T_2)/Tm*L*g"
   ]
  },
  {
   "cell_type": "code",
   "execution_count": 59,
   "metadata": {},
   "outputs": [
    {
     "data": {
      "text/plain": [
       "12.326404775180444"
      ]
     },
     "execution_count": 59,
     "metadata": {},
     "output_type": "execute_result"
    }
   ],
   "source": [
    "(rho_2-rho_1)*g*L"
   ]
  },
  {
   "cell_type": "code",
   "execution_count": 60,
   "metadata": {},
   "outputs": [
    {
     "data": {
      "text/plain": [
       "4.599516197920011"
      ]
     },
     "execution_count": 60,
     "metadata": {},
     "output_type": "execute_result"
    }
   ],
   "source": [
    "( (rho_2-rho_1)*g*L/rho_2*2 )**0.5"
   ]
  },
  {
   "cell_type": "code",
   "execution_count": null,
   "metadata": {},
   "outputs": [],
   "source": []
  }
 ],
 "metadata": {
  "kernelspec": {
   "display_name": "Python 3",
   "language": "python",
   "name": "python3"
  },
  "language_info": {
   "codemirror_mode": {
    "name": "ipython",
    "version": 3
   },
   "file_extension": ".py",
   "mimetype": "text/x-python",
   "name": "python",
   "nbconvert_exporter": "python",
   "pygments_lexer": "ipython3",
   "version": "3.8.5"
  },
  "latex_envs": {
   "LaTeX_envs_menu_present": true,
   "autoclose": false,
   "autocomplete": true,
   "bibliofile": "biblio.bib",
   "cite_by": "apalike",
   "current_citInitial": 1,
   "eqLabelWithNumbers": true,
   "eqNumInitial": 1,
   "hotkeys": {
    "equation": "Ctrl-E",
    "itemize": "Ctrl-I"
   },
   "labels_anchors": false,
   "latex_user_defs": false,
   "report_style_numbering": false,
   "user_envs_cfg": false
  }
 },
 "nbformat": 4,
 "nbformat_minor": 4
}
