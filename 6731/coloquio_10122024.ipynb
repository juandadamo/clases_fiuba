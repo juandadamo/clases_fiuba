{
 "cells": [
  {
   "cell_type": "markdown",
   "id": "6e38769f-2fdf-43cc-b064-06ab7f239922",
   "metadata": {},
   "source": [
    "Un intercambiador de flujo cruzado consta de 40 tubos de 10 mm de\n",
    "diámetro externo, y 1 mm de espesor de pared, ubicados en un ducto con\n",
    "sección transversal de 1 m × 1 m. No se tienen aletas sujetas a los tubos, a\n",
    "los que entra agua frı́a a 18 ◦ C con una velocidad promedio de 3 m/s (en un\n",
    "solo paso), en tanto que al canal entra aire caliente a 130 ◦ C, a una velocidad\n",
    "promedio de 12m/s. Si el coeficiente de transferencia de calor total referido\n",
    "a la superficie interna de los tubos es de 130 W/m2 °C.\n",
    "a. Determine las temperaturas de salida de los dos fluidos.\n",
    "b. El calor intercambiado.\n",
    "c. La eficiencia del intercambiador.\n",
    "d. A partir de considerar el circuito eléctrico equivalente, se pide escribir\n",
    "la expresión que permitirı́a calcular el coeficiente global de transmisión,\n",
    "e. si se conocieran cada uno de los aspectos térmicos del equipo (No se\n",
    "requiere hacer ningún cálculo).\n",
    "f. En búsqueda de mejorar el desempeño del equipo, se propone agregar\n",
    "aletas a la superficie externa. Se pide:\n",
    "i) ¿Cuál es la resistencia térmica que afecta la nueva configuración?\n",
    "¿Aumenta o la disminuye?\n",
    "ii) Asumiendo que se conocen todos los parámetros geométricos de\n",
    "la nueva configuración, reescribir la expresión del punto d, que\n",
    "contemple el aletado.\n",
    "Tomar para el agua: Cp = 4180 J/kg◦ C – ρ = 1000 kg/m3 , y para el aire:\n",
    "Cp = 1010 J/kg◦ C – ρ = 1 kg/m3"
   ]
  },
  {
   "cell_type": "code",
   "execution_count": 3,
   "id": "02815ea6-5ae7-4173-8ec6-069d168de05f",
   "metadata": {},
   "outputs": [
    {
     "name": "stdout",
     "output_type": "stream",
     "text": [
      "Flujo másico de agua: 3015.93 kg/s\n",
      "Flujo másico de aire: 12.00 kg/s\n",
      "Área total interna de los tubos: 1.0053 m^2\n"
     ]
    }
   ],
   "source": [
    "# Importar bibliotecas necesarias\n",
    "import numpy as np\n",
    "import matplotlib.pyplot as plt\n",
    "import ht\n",
    "#from ht.conv import overall_heat_transfer_coefficient\n",
    "from CoolProp.CoolProp import PropsSI\n",
    "\n",
    "# Datos del problema\n",
    "\n",
    "# Propiedades del agua (fluido frío)\n",
    "cp_agua = 4180  # Capacidad calorífica específica [J/kg·°C]\n",
    "rho_agua = 1000  # Densidad [kg/m^3]\n",
    "T_in_agua = 18  # Temperatura de entrada del agua [°C]\n",
    "v_agua = 3  # Velocidad promedio del agua [m/s]\n",
    "\n",
    "# Propiedades del aire (fluido caliente)\n",
    "cp_aire = 1010  # Capacidad calorífica específica [J/kg·°C]\n",
    "rho_aire = 1  # Densidad [kg/m^3]\n",
    "T_in_aire = 130  # Temperatura de entrada del aire [°C]\n",
    "v_aire = 12  # Velocidad promedio del aire [m/s]\n",
    "\n",
    "# Geometría del intercambiador\n",
    "d_ext = 10e-3  # Diámetro externo de los tubos [m]\n",
    "espesor_pared = 1e-3  # Espesor de la pared de los tubos [m]\n",
    "d_int = d_ext - 2 * espesor_pared  # Diámetro interno de los tubos [m]\n",
    "n_tubos = 40  # Número de tubos\n",
    "area_transversal = 1  # Área de la sección transversal del ducto [m^2]\n",
    "h_total = 130  # Coeficiente de transferencia de calor total [W/m^2·°C]\n",
    "\n",
    "# Cálculo de áreas\n",
    "area_superficie_tubo = np.pi * d_int  # Área interna de un tubo por unidad de longitud [m^2/m]\n",
    "area_total_tubos = n_tubos * area_superficie_tubo  # Área total interna de los tubos [m^2]\n",
    "\n",
    "# Flujo másico (masa = densidad * volumen)\n",
    "m_dot_agua = rho_agua * (v_agua * area_superficie_tubo) * n_tubos  # Flujo másico de agua [kg/s]\n",
    "m_dot_aire = rho_aire * (v_aire * area_transversal)  # Flujo másico de aire [kg/s]\n",
    "\n",
    "# Imprimir valores iniciales para verificar\n",
    "print(f\"Flujo másico de agua: {m_dot_agua:.2f} kg/s\")\n",
    "print(f\"Flujo másico de aire: {m_dot_aire:.2f} kg/s\")\n",
    "print(f\"Área total interna de los tubos: {area_total_tubos:.4f} m^2\")\n",
    "\n",
    "# Placeholder para cálculo de temperaturas de salida\n",
    "# Esto se resolverá iterativamente usando balances de energía y ecuaciones de transferencia de calor\n",
    "T_out_agua = None  # A determinar\n",
    "T_out_aire = None  # A determinar\n",
    "\n",
    "# Graficar coeficientes de transferencia de calor o comportamiento del sistema (ejemplo básico)\n",
    "\n",
    "\n",
    "# Próximos pasos:\n",
    "# - Calcular las temperaturas de salida usando balances de energía\n",
    "# - Determinar el calor intercambiado\n",
    "# - Implementar eficiencia del intercambiador y coeficientes globales\n"
   ]
  },
  {
   "cell_type": "code",
   "execution_count": 6,
   "id": "417a4c4d-57b5-42f8-b4c2-03605a3cde30",
   "metadata": {},
   "outputs": [
    {
     "data": {
      "text/plain": [
       "12120"
      ]
     },
     "execution_count": 6,
     "metadata": {},
     "output_type": "execute_result"
    }
   ],
   "source": [
    "cp_aire*m_dot_aire"
   ]
  },
  {
   "cell_type": "code",
   "execution_count": 20,
   "id": "bf77d160-8e84-4a1c-a70f-237eb856319e",
   "metadata": {},
   "outputs": [
    {
     "data": {
      "text/plain": [
       "12606583.000325121"
      ]
     },
     "execution_count": 20,
     "metadata": {},
     "output_type": "execute_result"
    }
   ],
   "source": [
    "cp_agua*m_dot_agua"
   ]
  },
  {
   "cell_type": "code",
   "execution_count": 8,
   "id": "b2839155-ccdd-40c6-a8ae-a0ba74802b61",
   "metadata": {},
   "outputs": [],
   "source": [
    "Cmin = cp_aire*m_dot_aire"
   ]
  },
  {
   "cell_type": "code",
   "execution_count": 16,
   "id": "f555bf8f-c600-45a6-841e-2c8bfad8219b",
   "metadata": {},
   "outputs": [
    {
     "data": {
      "text/plain": [
       "130.6902543893354"
      ]
     },
     "execution_count": 16,
     "metadata": {},
     "output_type": "execute_result"
    }
   ],
   "source": [
    "Lt = 1\n",
    "Ui = 130; Ai = np.pi*d_int*Lt*n_tubos\n",
    "\n",
    "Ui*Ai"
   ]
  },
  {
   "cell_type": "code",
   "execution_count": 15,
   "id": "5b2b2f5a-a684-4e90-b57c-99c9797f2fa7",
   "metadata": {},
   "outputs": [
    {
     "data": {
      "text/plain": [
       "1.0053096491487339"
      ]
     },
     "execution_count": 15,
     "metadata": {},
     "output_type": "execute_result"
    }
   ],
   "source": [
    "np.pi*d_int*40"
   ]
  },
  {
   "cell_type": "code",
   "execution_count": 17,
   "id": "7ff4e8ad-2291-455e-8889-7a5093f00a71",
   "metadata": {},
   "outputs": [],
   "source": [
    "Nut = Ui*Ai/Cmin"
   ]
  },
  {
   "cell_type": "code",
   "execution_count": 18,
   "id": "bc499b05-c621-4ac5-aa98-bbb01c7cd568",
   "metadata": {},
   "outputs": [
    {
     "data": {
      "text/plain": [
       "0.010783024289549125"
      ]
     },
     "execution_count": 18,
     "metadata": {},
     "output_type": "execute_result"
    }
   ],
   "source": [
    "Nut"
   ]
  },
  {
   "cell_type": "code",
   "execution_count": 21,
   "id": "ce41adaa-f622-47a0-92c3-5a26874afc9e",
   "metadata": {},
   "outputs": [
    {
     "ename": "SyntaxError",
     "evalue": "invalid syntax (3366801550.py, line 1)",
     "output_type": "error",
     "traceback": [
      "\u001b[0;36m  Cell \u001b[0;32mIn[21], line 1\u001b[0;36m\u001b[0m\n\u001b[0;31m    ht.effectiveness_from_NTU?#(Nut)\u001b[0m\n\u001b[0m                             ^\u001b[0m\n\u001b[0;31mSyntaxError\u001b[0m\u001b[0;31m:\u001b[0m invalid syntax\n"
     ]
    }
   ],
   "source": [
    "ht.effectiveness_from_NTU(Nut)"
   ]
  },
  {
   "cell_type": "code",
   "execution_count": 22,
   "id": "ba2e9600-2b73-4f0b-94f6-b6cf9e35ae73",
   "metadata": {},
   "outputs": [
    {
     "data": {
      "text/plain": [
       "\u001b[0;31mSignature:\u001b[0m\n",
       "\u001b[0mht\u001b[0m\u001b[0;34m.\u001b[0m\u001b[0meffectiveness_from_NTU\u001b[0m\u001b[0;34m(\u001b[0m\u001b[0;34m\u001b[0m\n",
       "\u001b[0;34m\u001b[0m    \u001b[0mNTU\u001b[0m\u001b[0;34m,\u001b[0m\u001b[0;34m\u001b[0m\n",
       "\u001b[0;34m\u001b[0m    \u001b[0mCr\u001b[0m\u001b[0;34m,\u001b[0m\u001b[0;34m\u001b[0m\n",
       "\u001b[0;34m\u001b[0m    \u001b[0msubtype\u001b[0m\u001b[0;34m=\u001b[0m\u001b[0;34m'counterflow'\u001b[0m\u001b[0;34m,\u001b[0m\u001b[0;34m\u001b[0m\n",
       "\u001b[0;34m\u001b[0m    \u001b[0mn_shell_tube\u001b[0m\u001b[0;34m=\u001b[0m\u001b[0;32mNone\u001b[0m\u001b[0;34m,\u001b[0m\u001b[0;34m\u001b[0m\n",
       "\u001b[0;34m\u001b[0m\u001b[0;34m)\u001b[0m\u001b[0;34m\u001b[0m\u001b[0;34m\u001b[0m\u001b[0m\n",
       "\u001b[0;31mDocstring:\u001b[0m\n",
       "Returns the effectiveness of a heat exchanger at a specified heat\n",
       "capacity rate, number of transfer units, and configuration. The following\n",
       "configurations are supported:\n",
       "\n",
       "    * Counterflow (ex. double-pipe)\n",
       "    * Parallel (ex. double pipe inefficient configuration)\n",
       "    * Shell and tube exchangers with even numbers of tube passes,\n",
       "      one or more shells in series\n",
       "    * Crossflow, single pass, fluids unmixed\n",
       "    * Crossflow, single pass, Cmax mixed, Cmin unmixed\n",
       "    * Crossflow, single pass, Cmin mixed, Cmax unmixed\n",
       "    * Boiler or condenser\n",
       "\n",
       "These situations are normally not those which occur in real heat exchangers,\n",
       "but are useful for academic purposes. More complicated expressions are\n",
       "available for other methods. These equations are confirmed in [1]_,\n",
       "[2]_, and [3]_.\n",
       "\n",
       "For parallel flow heat exchangers:\n",
       "\n",
       ".. math::\n",
       "    \\epsilon = \\frac{1 - \\exp[-NTU(1+C_r)]}{1+C_r}\n",
       "\n",
       "For counterflow heat exchangers:\n",
       "\n",
       ".. math::\n",
       "    \\epsilon = \\frac{1 - \\exp[-NTU(1-C_r)]}{1-C_r\\exp[-NTU(1-C_r)]},\\; C_r < 1\n",
       "\n",
       ".. math::\n",
       "    \\epsilon = \\frac{NTU}{1+NTU},\\; C_r = 1\n",
       "\n",
       "For TEMA E shell-and-tube heat exchangers with one shell pass, 2n tube\n",
       "passes:\n",
       "\n",
       ".. math::\n",
       "    \\epsilon_1 = 2\\left\\{1 + C_r + \\sqrt{1+C_r^2}\\times\\frac{1+\\exp\n",
       "    [-(NTU)_1\\sqrt{1+C_r^2}]}{1-\\exp[-(NTU)_1\\sqrt{1+C_r^2}]}\\right\\}^{-1}\n",
       "\n",
       "For TEMA E shell-and-tube heat exchangers with more than one shell pass, 2n\n",
       "tube passes (this model assumes each exchanger has an equal share of the\n",
       "overall NTU or said more plainly, the same UA):\n",
       "\n",
       ".. math::\n",
       "    \\epsilon = \\left[\\left(\\frac{1-\\epsilon_1 C_r}{1-\\epsilon_1}\\right)^2\n",
       "    -1\\right]\\left[\\left(\\frac{1-\\epsilon_1 C_r}{1-\\epsilon_1}\\right)^n\n",
       "    - C_r\\right]^{-1}\n",
       "\n",
       "For cross-flow (single-pass) heat exchangers with both fluids unmixed, there\n",
       "is an approximate and an exact formula. The approximate one is:\n",
       "\n",
       ".. math::\n",
       "    \\epsilon = 1 - \\exp\\left[\\left(\\frac{1}{C_r}\\right)\n",
       "    (NTU)^{0.22}\\left\\{\\exp\\left[C_r(NTU)^{0.78}\\right]-1\\right\\}\\right]\n",
       "\n",
       "The exact solution for crossflow (fluids unmixed) uses SciPy's quad\n",
       "to perform an integral (there is no analytical integral solution available).\n",
       ":math:`I_0(v)` is the modified Bessel function of the first kind. This formula\n",
       "was developed in [4]_.\n",
       "\n",
       ".. math::\n",
       "    \\epsilon = \\frac{1}{C_r} - \\frac{\\exp(-C_r \\cdot NTU)}{2(C_r NTU)^2}\n",
       "    \\int_0^{2 NTU\\sqrt{C_r}} \\left(1 + NTU - \\frac{v^2}{4C_r NTU}\\right)\n",
       "    \\exp\\left(-\\frac{v^2}{4C_r NTU}\\right)v I_0(v) dv\n",
       "\n",
       "For cross-flow (single-pass) heat exchangers with Cmax mixed, Cmin unmixed:\n",
       "\n",
       ".. math::\n",
       "    \\epsilon = \\left(\\frac{1}{C_r}\\right)(1 - \\exp\\left\\{-C_r[1-\\exp(-NTU)]\\right\\})\n",
       "\n",
       "For cross-flow (single-pass) heat exchangers with Cmin mixed, Cmax unmixed:\n",
       "\n",
       ".. math::\n",
       "    \\epsilon = 1 - \\exp(-C_r^{-1}\\{1 - \\exp[-C_r(NTU)]\\})\n",
       "\n",
       "For cases where `Cr` = 0, as in an exchanger with latent heat exchange,\n",
       "flow arrangement does not matter:\n",
       "\n",
       ".. math::\n",
       "    \\epsilon = 1 - \\exp(-NTU)\n",
       "\n",
       "Parameters\n",
       "----------\n",
       "NTU : float\n",
       "    Thermal Number of Transfer Units [-]\n",
       "Cr : float\n",
       "    The heat capacity rate ratio, of the smaller fluid to the larger\n",
       "    fluid, [-]\n",
       "subtype : str, optional\n",
       "    The subtype of exchanger; one of 'counterflow', 'parallel', 'crossflow'\n",
       "    'crossflow approximate', 'crossflow, mixed Cmin',\n",
       "    'crossflow, mixed Cmax', 'boiler', 'condenser', 'S&T'\n",
       "n_shell_tube : None or int, optional\n",
       "    The number of shell and tube exchangers in a row, [-]\n",
       "\n",
       "Returns\n",
       "-------\n",
       "effectiveness : float\n",
       "    The thermal effectiveness of the heat exchanger, [-]\n",
       "\n",
       "Notes\n",
       "-----\n",
       "Once the effectiveness of the exchanger has been calculated, the total\n",
       "heat transferred can be calculated according to the following formulas,\n",
       "depending on which stream temperatures are known:\n",
       "\n",
       "If the inlet temperatures for both sides are known:\n",
       "\n",
       ".. math::\n",
       "    Q=\\epsilon C_{min}(T_{h,i}-T_{c,i})\n",
       "\n",
       "If the outlet temperatures for both sides are known:\n",
       "\n",
       ".. math::\n",
       "    Q = \\frac{\\epsilon C_{min}C_{hot}C_{cold}(T_{c,o}-T_{h,o})}\n",
       "    {\\epsilon  C_{min}(C_{hot} +C_{cold}) - (C_{hot}C_{cold}) }\n",
       "\n",
       "If the hot inlet and cold outlet are known:\n",
       "\n",
       ".. math::\n",
       "    Q = \\frac{\\epsilon C_{min}C_c(T_{co}-T_{hi})}{\\epsilon C_{min}-C_c}\n",
       "\n",
       "If the hot outlet stream and cold inlet stream are known:\n",
       "\n",
       ".. math::\n",
       "    Q = \\frac{\\epsilon C_{min}C_h(T_{ci}-T_{ho})}{\\epsilon C_{min}-C_h}\n",
       "\n",
       "\n",
       "If the inlet and outlet conditions for a single side are known, the\n",
       "effectiveness wasn't needed for it to be calculated. For completeness,\n",
       "the formulas are as follows:\n",
       "\n",
       ".. math::\n",
       "    Q = C_c(T_{c,o} - T_{c,i}) = C_h(T_{h,i} - T_{h,o})\n",
       "\n",
       "There is also a term called :math:`Q_{max}`, which is the heat which would\n",
       "have been transferred if the effectiveness was 1. It is calculated as\n",
       "follows:\n",
       "\n",
       ".. math::\n",
       "    Q_{max} = \\frac{Q}{\\text{effectiveness}}\n",
       "\n",
       "Examples\n",
       "--------\n",
       "Worst case, parallel flow:\n",
       "\n",
       ">>> effectiveness_from_NTU(NTU=5, Cr=0.7, subtype='parallel')\n",
       "0.5881156068417585\n",
       "\n",
       "Crossflow, somewhat higher effectiveness:\n",
       "\n",
       ">>> effectiveness_from_NTU(NTU=5, Cr=0.7, subtype='crossflow')\n",
       "0.84448217997\n",
       "\n",
       "Counterflow, better than either crossflow or parallel flow:\n",
       "\n",
       ">>> effectiveness_from_NTU(NTU=5, Cr=0.7, subtype='counterflow')\n",
       "0.920670368605\n",
       "\n",
       "One shell and tube heat exchanger gives worse performance than counterflow,\n",
       "but they are designed to be economical and compact which a counterflow\n",
       "exchanger would not be. As the number of shells approaches infinity,\n",
       "the counterflow result is obtained exactly.\n",
       "\n",
       ">>> effectiveness_from_NTU(NTU=5, Cr=0.7, subtype='S&T')\n",
       "0.683497704431\n",
       ">>> effectiveness_from_NTU(NTU=5, Cr=0.7, subtype='S&T', n_shell_tube=50)\n",
       "0.920505870278\n",
       "\n",
       "\n",
       "Overall case of rating an existing heat exchanger where a known flowrate\n",
       "of steam and oil are contacted in crossflow, with the steam side mixed\n",
       "(example 10-9 in [3]_):\n",
       "\n",
       ">>> U = 275 # W/m^2/K\n",
       ">>> A = 10.82 # m^2\n",
       ">>> Cp_oil = 1900 # J/kg/K\n",
       ">>> Cp_steam = 1860 # J/kg/K\n",
       ">>> m_steam = 5.2 # kg/s\n",
       ">>> m_oil = 0.725 # kg/s\n",
       ">>> Thi = 130 # °C\n",
       ">>> Tci = 15 # °C\n",
       ">>> Cmin = calc_Cmin(mh=m_steam, mc=m_oil, Cph=Cp_steam, Cpc=Cp_oil)\n",
       ">>> Cmax = calc_Cmax(mh=m_steam, mc=m_oil, Cph=Cp_steam, Cpc=Cp_oil)\n",
       ">>> Cr = calc_Cr(mh=m_steam, mc=m_oil, Cph=Cp_steam, Cpc=Cp_oil)\n",
       ">>> NTU = NTU_from_UA(UA=U*A, Cmin=Cmin)\n",
       ">>> eff = effectiveness_from_NTU(NTU=NTU, Cr=Cr, subtype='crossflow, mixed Cmax')\n",
       ">>> Q = eff*Cmin*(Thi - Tci)\n",
       ">>> Tco = Tci + Q/(m_oil*Cp_oil)\n",
       ">>> Tho = Thi - Q/(m_steam*Cp_steam)\n",
       ">>> Cmin, Cmax, Cr\n",
       "(1377.5, 9672.0, 0.1424214226633)\n",
       ">>> NTU, eff, Q\n",
       "(2.16007259528, 0.831218036142, 131675.3271504)\n",
       ">>> Tco, Tho\n",
       "(110.5900741563, 116.3859256461)\n",
       "\n",
       "Alternatively, if only the outlet temperatures had been known:\n",
       "\n",
       ">>> Tco = 110.59007415639887\n",
       ">>> Tho = 116.38592564614977\n",
       ">>> Cc, Ch = Cmin, Cmax # In this case but not always\n",
       ">>> Q = eff*Cmin*Cc*Ch*(Tco - Tho)/(eff*Cmin*(Cc+Ch) - Ch*Cc)\n",
       ">>> Thi = Tho + Q/Ch\n",
       ">>> Tci = Tco - Q/Cc\n",
       ">>> Q, Tci, Thi\n",
       "(131675.3271504, 14.99999999999, 130.0000000000)\n",
       "\n",
       "References\n",
       "----------\n",
       ".. [1] Bergman, Theodore L., Adrienne S. Lavine, Frank P. Incropera, and\n",
       "   David P. DeWitt. Introduction to Heat Transfer. 6E. Hoboken, NJ:\n",
       "   Wiley, 2011.\n",
       ".. [2] Shah, Ramesh K., and Dusan P. Sekulic. Fundamentals of Heat\n",
       "   Exchanger Design. 1st edition. Hoboken, NJ: Wiley, 2002.\n",
       ".. [3] Holman, Jack. Heat Transfer. 10th edition. Boston: McGraw-Hill\n",
       "   Education, 2009.\n",
       ".. [4] Triboix, Alain. \"Exact and Approximate Formulas for Cross Flow Heat\n",
       "   Exchangers with Unmixed Fluids.\" International Communications in Heat\n",
       "   and Mass Transfer 36, no. 2 (February 1, 2009): 121-24.\n",
       "   doi:10.1016/j.icheatmasstransfer.2008.10.012.\n",
       "\u001b[0;31mFile:\u001b[0m      ~/anaconda3/lib/python3.10/site-packages/ht/hx.py\n",
       "\u001b[0;31mType:\u001b[0m      function"
      ]
     },
     "metadata": {},
     "output_type": "display_data"
    }
   ],
   "source": [
    "ht.effectiveness_from_NTU?"
   ]
  },
  {
   "cell_type": "code",
   "execution_count": null,
   "id": "07ac1c0c-0c85-471f-8d68-28c99c0e4207",
   "metadata": {},
   "outputs": [],
   "source": []
  }
 ],
 "metadata": {
  "kernelspec": {
   "display_name": "Python 3 (ipykernel)",
   "language": "python",
   "name": "python3"
  },
  "language_info": {
   "codemirror_mode": {
    "name": "ipython",
    "version": 3
   },
   "file_extension": ".py",
   "mimetype": "text/x-python",
   "name": "python",
   "nbconvert_exporter": "python",
   "pygments_lexer": "ipython3",
   "version": "3.10.9"
  }
 },
 "nbformat": 4,
 "nbformat_minor": 5
}
