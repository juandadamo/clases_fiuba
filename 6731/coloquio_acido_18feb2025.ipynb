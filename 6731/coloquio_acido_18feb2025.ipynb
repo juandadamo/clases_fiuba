{
 "cells": [
  {
   "cell_type": "code",
   "execution_count": 54,
   "id": "15449f6f-9f5d-40f8-80fa-f5b2ea2f7b15",
   "metadata": {},
   "outputs": [],
   "source": [
    "import matplotlib.pyplot as plt\n",
    "import numpy as np\n",
    "import ht \n",
    "import CoolProp as cp\n",
    "from CoolProp.CoolProp import PropsSI as propsi\n",
    "from IPython.display import Latex"
   ]
  },
  {
   "cell_type": "markdown",
   "id": "c6526639-bf91-4cd4-b9ed-491485f69ca0",
   "metadata": {},
   "source": [
    "Un flujo de 6kg/s de ácido sulfúrico (Cp=1480J/kg K) debe enfriarse en un intercambiador de calor en contracorriente de dos etapas. El ácido caliente a 175°C entra en un tanque, en el que se agita en contacto con unos serpentines de refrigeración, la descarga continua de este tanque a 89°C fluye hacia un segundo tanque agitado, del que sale a 46°C. Una corriente de agua a 20°C ingresa en el serpentín de refrigeración del tanque frío y sale del serpentín del tanque caliente a 80°C. Si los coeficientes globales de transferencia de calor son de 52 y 38W/m2 K en el tanque caliente y en el\n",
    "tanque frío, respectivamente, se pide:\n",
    "\n",
    "    1) La temperatura del agua de salida del tanque frio (que será la entrada al tanque\n",
    "\tcaliente).\n",
    "    2) Los perfiles de temperaturas para cada intercambiador. Considerar que en ambos casos, TODA\n",
    "\tla superficie externa del serpentín está en contacto con el ácido sulfúrico a la temperatura\n",
    "\tdel tanque.\n",
    "\t3) El calor intercambiado en cada uno de los equipos.\n",
    "\t4) La superficie de intercambio de cada unidad.\n",
    "\t5) Si la temperatura del agua a la entrada cambia repentinamente a 15°C, Calcular:\n",
    "        a. Las nuevas temperaturas de equilibro de los tanques.\n",
    "        b. El nuevo calor intercambiado\n",
    "\t\n",
    "    6) Suponer que se conoce la configuración constructiva de los intercambiadores en términos de \tlongitud, diámetro y cantidad de los tubos que conforman el serpentín. Existe una propuesta \tde reducir el diámetro de los tubos, manteniendo cantidad de tubos y la superficie de \tintercambio. Indicar el impacto relativo a la configuración original (aumenta o disminuye) \tque se esperaría para los siguientes parámetros:\n",
    "\n",
    "        a. Longitud de los tubos.\n",
    "        b. Coeficiente global de transmisión.\n",
    "        c. Caída de presión.\n"
   ]
  },
  {
   "cell_type": "code",
   "execution_count": 55,
   "id": "61d92378-877f-4cba-8d0e-3113df48c998",
   "metadata": {},
   "outputs": [],
   "source": [
    "Tae1 = 175\n",
    "Tas1 = 89\n",
    "Tae2 = Tas1\n",
    "Tas2 = 46\n",
    "\n",
    "Twe2 = 20\n",
    "Tws1 = 80\n",
    "\n",
    "U1 = 52\n",
    "U2 = 38\n",
    "ma = 6\n",
    "cpa = 1480\n",
    "Twref = (Twe2 + Tws1)/2\n",
    "cpw = propsi('C','T',273+Twref,'P',101.3e3,'Water')"
   ]
  },
  {
   "cell_type": "code",
   "execution_count": 61,
   "id": "823cbea3-df16-467f-9e84-377f0b971696",
   "metadata": {},
   "outputs": [
    {
     "data": {
      "text/latex": [
       "$\\dot m_w$=4.57kg/s"
      ],
      "text/plain": [
       "<IPython.core.display.Latex object>"
      ]
     },
     "metadata": {},
     "output_type": "display_data"
    },
    {
     "data": {
      "text/latex": [
       "$\\dot C_{\\min}$=8880.00"
      ],
      "text/plain": [
       "<IPython.core.display.Latex object>"
      ]
     },
     "metadata": {},
     "output_type": "display_data"
    },
    {
     "data": {
      "text/latex": [
       "$T_{ws2}$=40.0ºC"
      ],
      "text/plain": [
       "<IPython.core.display.Latex object>"
      ]
     },
     "metadata": {},
     "output_type": "display_data"
    },
    {
     "data": {
      "text/latex": [
       "$Q_{1}$=763.7kW"
      ],
      "text/plain": [
       "<IPython.core.display.Latex object>"
      ]
     },
     "metadata": {},
     "output_type": "display_data"
    },
    {
     "data": {
      "text/latex": [
       "$Q_{2}$=381.8kW"
      ],
      "text/plain": [
       "<IPython.core.display.Latex object>"
      ]
     },
     "metadata": {},
     "output_type": "display_data"
    }
   ],
   "source": [
    "#sin perdidas\n",
    "\n",
    "mw = ma*cpa*(Tae1-Tas2)/cpw/(Tws1-Twe2)\n",
    "display(Latex(f'$\\dot m_w$={mw:.2f}kg/s'))\n",
    "Cw = mw * cpw\n",
    "Ca = ma * cpa\n",
    "Cmin = np.min((Cw,Ca))\n",
    "Cmax = np.max((Cw,Ca))\n",
    "display(Latex(f'$\\dot C_{{\\min}}$={Cmin:.2f}'))\n",
    "\n",
    "Tws2 = Twe2 + ma*cpa*(Tae2-Tas2)/cpw/mw\n",
    "Twe1 = Tws2\n",
    "display(Latex(f'$T_{{ws2}}$={Tws2:.1f}ºC'))\n",
    "\n",
    "Qa1 = ma*cpa*(Tae1-Tas1)\n",
    "Qa2 = ma*cpa*(Tae2-Tas2)\n",
    "display(Latex(f'$Q_{{1}}$={Qa1*1e-3:.1f}kW'))\n",
    "display(Latex(f'$Q_{{2}}$={Qa2*1e-3:.1f}kW'))"
   ]
  },
  {
   "cell_type": "code",
   "execution_count": 64,
   "id": "a5243cd1-e8db-489c-a7f2-9ff07876828d",
   "metadata": {},
   "outputs": [
    {
     "data": {
      "text/latex": [
       "$\\varepsilon_{1}$=0.64"
      ],
      "text/plain": [
       "<IPython.core.display.Latex object>"
      ]
     },
     "metadata": {},
     "output_type": "display_data"
    },
    {
     "data": {
      "text/latex": [
       "$\\varepsilon_{2}$=0.62"
      ],
      "text/plain": [
       "<IPython.core.display.Latex object>"
      ]
     },
     "metadata": {},
     "output_type": "display_data"
    }
   ],
   "source": [
    "Qmax1 = Cmin*(Tae1-Twe1)\n",
    "Qmax2 = Cmin*(Tae2-Twe2)\n",
    "\n",
    "eps1 =  Qa1/Qmax1\n",
    "eps2 = Qa2/Qmax2\n",
    "display(Latex(f'$\\\\varepsilon_{{1}}$={eps1:.2f}'))\n",
    "display(Latex(f'$\\\\varepsilon_{{2}}$={eps2:.2f}'))\n",
    "\n",
    "Cr = Cmin / Cmax"
   ]
  },
  {
   "cell_type": "code",
   "execution_count": 65,
   "id": "088bbfd8-99c7-4c61-a439-831545cea7f7",
   "metadata": {},
   "outputs": [
    {
     "data": {
      "text/latex": [
       "$Nut_{1}$=1.24"
      ],
      "text/plain": [
       "<IPython.core.display.Latex object>"
      ]
     },
     "metadata": {},
     "output_type": "display_data"
    },
    {
     "data": {
      "text/latex": [
       "$Nut_{2}$=1.18"
      ],
      "text/plain": [
       "<IPython.core.display.Latex object>"
      ]
     },
     "metadata": {},
     "output_type": "display_data"
    }
   ],
   "source": [
    "Nut1 = ht.NTU_from_effectiveness(eps1,Cr,subtype='counterflow')\n",
    "Nut2 = ht.NTU_from_effectiveness(eps2,Cr,subtype='counterflow')\n",
    "display(Latex(f'$Nut_{{1}}$={Nut1:.2f}'))\n",
    "display(Latex(f'$Nut_{{2}}$={Nut2:.2f}'))"
   ]
  },
  {
   "cell_type": "code",
   "execution_count": 66,
   "id": "93519416-5b44-4b34-95a0-7225e17d18f3",
   "metadata": {},
   "outputs": [
    {
     "data": {
      "text/latex": [
       "$A_{1}$=211.37m$^2$"
      ],
      "text/plain": [
       "<IPython.core.display.Latex object>"
      ]
     },
     "metadata": {},
     "output_type": "display_data"
    },
    {
     "data": {
      "text/latex": [
       "$A_{2}$=276.87m$^2$"
      ],
      "text/plain": [
       "<IPython.core.display.Latex object>"
      ]
     },
     "metadata": {},
     "output_type": "display_data"
    }
   ],
   "source": [
    "#U1*A1/Cmin = Nut1\n",
    "A1 = Nut1/U1*Cmin\n",
    "A2 = Nut2/U2*Cmin\n",
    "display(Latex(f'$A_{{1}}$={A1:.2f}m$^2$'))\n",
    "display(Latex(f'$A_{{2}}$={A2:.2f}m$^2$'))"
   ]
  },
  {
   "cell_type": "markdown",
   "id": "d442c363-fe60-41fb-bf3e-45bcf93732b6",
   "metadata": {},
   "source": [
    "# cambio de temperatura de entrada de agua"
   ]
  },
  {
   "cell_type": "code",
   "execution_count": 60,
   "id": "747a7692-a64d-4632-a97a-36bfe2163c80",
   "metadata": {},
   "outputs": [],
   "source": [
    "Twe1 = 15\n"
   ]
  },
  {
   "cell_type": "code",
   "execution_count": 67,
   "id": "5098e083-99ff-495b-812e-d0602bd11e71",
   "metadata": {},
   "outputs": [
    {
     "data": {
      "text/plain": [
       "1144"
      ]
     },
     "execution_count": 67,
     "metadata": {},
     "output_type": "execute_result"
    }
   ],
   "source": []
  },
  {
   "cell_type": "code",
   "execution_count": null,
   "id": "776b627d-7853-4009-9aa1-429a0adf7e17",
   "metadata": {},
   "outputs": [],
   "source": []
  }
 ],
 "metadata": {
  "kernelspec": {
   "display_name": "Python 3 (ipykernel)",
   "language": "python",
   "name": "python3"
  },
  "language_info": {
   "codemirror_mode": {
    "name": "ipython",
    "version": 3
   },
   "file_extension": ".py",
   "mimetype": "text/x-python",
   "name": "python",
   "nbconvert_exporter": "python",
   "pygments_lexer": "ipython3",
   "version": "3.12.7"
  }
 },
 "nbformat": 4,
 "nbformat_minor": 5
}
