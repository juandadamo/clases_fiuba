{
 "cells": [
  {
   "cell_type": "code",
   "execution_count": 7,
   "metadata": {
    "_kg_hide-input": true,
    "_kg_hide-output": true,
    "slideshow": {
     "slide_type": "skip"
    }
   },
   "outputs": [],
   "source": [
    "import numpy as np\n",
    "import matplotlib.pyplot as plt\n",
    "from matplotlib import markers,lines,colors\n",
    "from scipy import interpolate\n",
    "import ht,fluids\n",
    "import CoolProp as cp\n",
    "import pandas as pd\n",
    "from IPython.display import  Latex"
   ]
  },
  {
   "cell_type": "code",
   "execution_count": 8,
   "metadata": {
    "_kg_hide-input": true,
    "slideshow": {
     "slide_type": "slide"
    }
   },
   "outputs": [
    {
     "data": {
      "text/latex": [
       "En un intercambiador de calor del tipo tubos concéntricos, se enfría aceite con agua. El aceite circula por un tubo interno de latón cuyo diámetro es \\(d_2/d_1=14/12\\)mm a una velocidad \\(v_1=4\\)m/s. La temperatura del aceite a la entrada en el intercambiador de calor es \\(t_1'=100^\\circ\\)C. El agua se mueve en contracorriente respecto al aceite por la holgura anular a una velocidad \\(v_2=2.5\\)m/s y su temperatura a la entrada es \\(t_2'=20^\\circ\\)C. El diámetro interno del tubo exterior es \\(d_3=22\\)mm."
      ],
      "text/plain": [
       "<IPython.core.display.Latex object>"
      ]
     },
     "metadata": {},
     "output_type": "display_data"
    },
    {
     "data": {
      "text/latex": [
       "Determinar la longitud total de la superficie de intercambio de calor con la cual la temperatura del aceite a la salida será \\(t_1''=60^\\circ\\)C. Se pueden despreciar las pérdidas de calor a través de la superficie externa del intercambiado"
      ],
      "text/plain": [
       "<IPython.core.display.Latex object>"
      ]
     },
     "metadata": {},
     "output_type": "display_data"
    }
   ],
   "source": [
    "texto = \"En un intercambiador de calor del tipo tubos concéntricos, se enfría aceite con agua. El aceite circula por un tubo interno de latón cuyo diámetro es \\(d_2/d_1=14/12\\)mm a una velocidad \\(v_1=4\\)m/s. La temperatura del aceite a la entrada en el intercambiador de calor es \\(t_1'=100^\\circ\\)C. El agua se mueve en contracorriente respecto al aceite por la holgura anular a una velocidad \\(v_2=2.5\\)m/s y su temperatura a la entrada es \\(t_2'=20^\\circ\\)C. El diámetro interno del tubo exterior es \\(d_3=22\\)mm.\"\n",
    "texto2 = \"Determinar la longitud total de la superficie de intercambio de calor con la cual la temperatura del aceite a la salida será \\(t_1''=60^\\circ\\)C. Se pueden despreciar las pérdidas de calor a través de la superficie externa del intercambiado\"\n",
    "display(Latex(texto))\n",
    "display(Latex(texto2))"
   ]
  },
  {
   "cell_type": "code",
   "execution_count": 9,
   "metadata": {
    "slideshow": {
     "slide_type": "slide"
    }
   },
   "outputs": [
    {
     "name": "stdout",
     "output_type": "stream",
     "text": [
      "796.3274019999999\n"
     ]
    }
   ],
   "source": [
    "\n",
    "t1e = 100\n",
    "t2e = 20\n",
    "v_1 = 4.\n",
    "v_2 = 2.5\n",
    "d1,d2,d3 = np.array([12,14,22])*1e-3\n",
    "espesor = (d2-d1)/2\n",
    "t1s = 60\n",
    "\n",
    "t1m = (t1e+t1s)/2\n",
    "\n",
    "#MK1\n",
    "cp_1 = 1989\n",
    "k_1 = 0.134\n",
    "rho_1 = 856\n",
    "mu_1 = 400e-4\n",
    "nu_1 = mu_1/rho_1\n",
    "Pr_1 = nu_1/(k_1/(rho_1*cp_1))\n",
    "#transformadores\n",
    "cp_1 = 2026\n",
    "k_1 = 0.1056\n",
    "rho_1 = 843\n",
    "mu_1 = 30.8e-4\n",
    "nu_1 = mu_1/rho_1\n",
    "Pr_1 = nu_1/(k_1/(rho_1*cp_1))\n",
    "\n",
    "\n",
    "cp_1 = cp.CoolProp.PropsSI('C','T',273+t1m,'P',101.3e3,'INCOMP::TCO')\n",
    "rho_1 = cp.CoolProp.PropsSI('D','T',273+t1m,'P',101.3e3,'INCOMP::TCO')\n",
    "mu_1 = cp.CoolProp.PropsSI('V','T',273+t1m,'P',101.3e3,'INCOMP::TCO')\n",
    "nu_1 = mu_1/rho_1\n",
    "Pr_1 = cp.CoolProp.PropsSI('Prandtl','T',273+t1m,'P',101.3e3,'INCOMP::TCO')\n",
    "k_1 = cp.CoolProp.PropsSI('L','T',273+t1m,'P',101.3e3,'INCOMP::TCO')\n",
    "\n",
    "print(rho_1)\n",
    "\n",
    "\n",
    "cp_2 = cp.CoolProp.PropsSI('C','T',273+t1m,'P',101.3e3,'Water')\n",
    "rho_2 = cp.CoolProp.PropsSI('D','T',273+t1m,'P',101.3e3,'Water')\n",
    "mu_2 = cp.CoolProp.PropsSI('V','T',273+t1m,'P',101.3e3,'Water')\n",
    "nu_2 = mu_2/rho_2\n",
    "Pr_2 = cp.CoolProp.PropsSI('Prandtl','T',273+t1m,'P',101.3e3,'Water')\n",
    "k_2 = cp.CoolProp.PropsSI('L','T',273+t1m,'P',101.3e3,'Water')\n",
    "area_1 = np.pi*d1**2/4\n",
    "caudal_1 = area_1 *v_1\n",
    "area_2 = np.pi*d3**2/4-np.pi*d2**2/4\n",
    "caudal_2 = area_2 * v_2\n",
    "C_1 = caudal_1*rho_1*cp_1\n",
    "C_2 = caudal_2*rho_2*cp_2\n",
    "Cmin = np.min((C_1,C_2))\n",
    "Cmax = np.max((C_1,C_2))\n",
    "Q_1 = C_1 * (t1e-t1s)\n",
    "\n",
    "Q_2 = Q_1\n",
    "t2s = Q_2/C_2+t2e\n",
    "Qmax = Cmin*(t1e-t2e)\n",
    "nmin = np.nonzero(np.array([C_1,C_2])==Cmin)[0]+1\n",
    "nmax = np.nonzero(np.array([C_1,C_2])==Cmax)[0]+1\n",
    "Cr = Cmin/Cmax "
   ]
  },
  {
   "cell_type": "code",
   "execution_count": 10,
   "metadata": {},
   "outputs": [],
   "source": [
    "cp_1 = cp.CoolProp.PropsSI('C','T',273+t1m,'P',101.3e3,'INCOMP::TCO')\n",
    "rho_1 = cp.CoolProp.PropsSI('D','T',273+t1m,'P',101.3e3,'INCOMP::TCO')\n",
    "mu_1 = cp.CoolProp.PropsSI('V','T',273+t1m,'P',101.3e3,'INCOMP::TCO')\n",
    "nu_1 = mu_1/rho_1\n",
    "Pr_1 = cp.CoolProp.PropsSI('Prandtl','T',273+t1m,'P',101.3e3,'INCOMP::TCO')\n",
    "k_1 = cp.CoolProp.PropsSI('L','T',273+t1m,'P',101.3e3,'INCOMP::TCO')"
   ]
  },
  {
   "cell_type": "code",
   "execution_count": 11,
   "metadata": {},
   "outputs": [
    {
     "data": {
      "text/plain": [
       "(2064.9877,\n",
       " 796.3274019999999,\n",
       " 0.0008122171103526035,\n",
       " 1.0199537380136564e-06,\n",
       " 0.108832644)"
      ]
     },
     "execution_count": 11,
     "metadata": {},
     "output_type": "execute_result"
    }
   ],
   "source": [
    "cp_1,rho_1,mu_1,nu_1,k_1"
   ]
  },
  {
   "cell_type": "code",
   "execution_count": 12,
   "metadata": {
    "slideshow": {
     "slide_type": "slide"
    }
   },
   "outputs": [
    {
     "data": {
      "text/latex": [
       "Considere los siguientes valores para las propiedades del aceite:"
      ],
      "text/plain": [
       "<IPython.core.display.Latex object>"
      ]
     },
     "metadata": {},
     "output_type": "display_data"
    },
    {
     "data": {
      "text/latex": [
       "\\(Cp_1\\) = 2065.0 J/K kg\\(~~~~\\)\\(k_1\\) = 0.1088 W/m"
      ],
      "text/plain": [
       "<IPython.core.display.Latex object>"
      ]
     },
     "metadata": {},
     "output_type": "display_data"
    },
    {
     "data": {
      "text/latex": [
       "\\(\r",
       "ho_1 = 796.3 \\)kg/m\\(^3~~~~\\)\\(\\mu_1 = 8.12\\cdot10^{-4} \\)kg/m s"
      ],
      "text/plain": [
       "<IPython.core.display.Latex object>"
      ]
     },
     "metadata": {},
     "output_type": "display_data"
    }
   ],
   "source": [
    "display(Latex(f\"Considere los siguientes valores para las propiedades del aceite:\"))\n",
    "display(Latex(f\"\\(Cp_1\\) = {cp_1:.1f} J/K kg\\(~~~~\\)\\(k_1\\) = {k_1:.4f} W/m\"))\n",
    "display(Latex(f\"\\(\\rho_1 = {rho_1:.1f} \\)kg/m\\(^3~~~~\\)\\(\\mu_1 = {mu_1*1e4:.2f}\\cdot10^{{-4}} \\)kg/m s\"))\n",
    "\n",
    "#mu_1 = 30.8e-4\n",
    "nu_1 = mu_1/rho_1\n",
    "Pr_1 = nu_1/(k_1/(rho_1*cp_1))"
   ]
  },
  {
   "cell_type": "code",
   "execution_count": 13,
   "metadata": {},
   "outputs": [
    {
     "data": {
      "text/plain": [
       "15.410985904262962"
      ]
     },
     "execution_count": 13,
     "metadata": {},
     "output_type": "execute_result"
    }
   ],
   "source": [
    "Pr_1"
   ]
  },
  {
   "cell_type": "code",
   "execution_count": 14,
   "metadata": {},
   "outputs": [
    {
     "data": {
      "text/plain": [
       "(6.618354882353883e-08, 1.0199537380136564e-06)"
      ]
     },
     "execution_count": 14,
     "metadata": {},
     "output_type": "execute_result"
    }
   ],
   "source": [
    "k_1/rho_1/cp_1,mu_1/rho_1"
   ]
  },
  {
   "cell_type": "code",
   "execution_count": 15,
   "metadata": {
    "slideshow": {
     "slide_type": "slide"
    }
   },
   "outputs": [
    {
     "name": "stdout",
     "output_type": "stream",
     "text": [
      "Calor intercambiado: Q=29.76 kW\n",
      "Calor maximo: Q=59.51 kW\n",
      "Temperatura salida agua 32.9 C\n",
      "C_R = 0.32\n",
      "Fluido 1 Cmin\n"
     ]
    }
   ],
   "source": [
    "print('Calor intercambiado: Q=%.2f kW'%(Q_1*1e-3))\n",
    "print('Calor maximo: Q=%.2f kW'%(Qmax*1e-3))\n",
    "print('Temperatura salida agua %.1f C'%t2s)\n",
    "print('C_R = %.2f'%Cr)\n",
    "print('Fluido %0d Cmin'%nmin[0])\n"
   ]
  },
  {
   "cell_type": "code",
   "execution_count": 16,
   "metadata": {
    "slideshow": {
     "slide_type": "slide"
    }
   },
   "outputs": [
    {
     "name": "stdout",
     "output_type": "stream",
     "text": [
      "Eficiencia = 0.50\n",
      "Nut = 0.76\n",
      "UA = 568.0\n"
     ]
    }
   ],
   "source": [
    "effectiveness = Q_1/Qmax\n",
    "Nut = ht.NTU_from_effectiveness(effectiveness, Cr, subtype='counterflow')\n",
    "UA = Nut*Cmin\n",
    "print('Eficiencia = %.2f'%effectiveness)\n",
    "print('Nut = %.2f'%Nut)\n",
    "print('UA = %.1f'%UA)"
   ]
  },
  {
   "cell_type": "code",
   "execution_count": 17,
   "metadata": {
    "slideshow": {
     "slide_type": "slide"
    }
   },
   "outputs": [
    {
     "name": "stdout",
     "output_type": "stream",
     "text": [
      "Reynolds 1 = 47060\n",
      "Reynolds 2 = 21919\n",
      "Nusselt 1 = 313\n",
      "Nusselt 2 = 89\n",
      "hc 1 = 2840\n",
      "hc 2 = 29761\n"
     ]
    }
   ],
   "source": [
    "Re_1 = d1*v_1/mu_1*rho_1\n",
    "perimetro_2 = np.pi*d2+np.pi*d3\n",
    "dhidr = area_2/perimetro_2\n",
    "Re_2 = dhidr*v_1/mu_2*rho_2\n",
    "Nu_1 = ht.conv_internal.laminar_T_const()\n",
    "Nu_1 = ht.conv_internal.turbulent_Colburn(Re_1,Pr_1)\n",
    "Nu_2 = ht.conv_internal.turbulent_Colburn(Re_2,Pr_2)\n",
    "print('Reynolds 1 = %0d'%Re_1)\n",
    "print('Reynolds 2 = %0d'%Re_2)\n",
    "print('Nusselt 1 = %0d'%Nu_1)\n",
    "print('Nusselt 2 = %0d'%Nu_2)\n",
    "hc_1 = Nu_1*k_1/d1 \n",
    "hc_2 = Nu_2*k_2/dhidr \n",
    "print('hc 1 = %0d'%hc_1)\n",
    "print('hc 2 = %0d'%hc_2)"
   ]
  },
  {
   "cell_type": "code",
   "execution_count": 18,
   "metadata": {
    "slideshow": {
     "slide_type": "slide"
    }
   },
   "outputs": [
    {
     "name": "stdout",
     "output_type": "stream",
     "text": [
      "U = 1779.4 W/m2\n",
      "Area total = 0.319 m2\n",
      "Longitud total L=7.26 m\n"
     ]
    }
   ],
   "source": [
    "laton = ht.insulation.nearest_material('brass')\n",
    "k_laton = ht.k_material(laton)\n",
    "\n",
    "Rtotal = 1/(hc_1)+d1/(hc_2*dhidr)+espesor/k_laton\n",
    "U = 1/Rtotal\n",
    "\n",
    "Atotal = UA/U\n",
    "L = Atotal/(np.pi*d2)\n",
    "print('U = %.1f W/m2'%U)\n",
    "print('Area total = %.3f m2'%Atotal)\n",
    "print('Longitud total L=%.2f m'%(L))"
   ]
  },
  {
   "cell_type": "code",
   "execution_count": null,
   "metadata": {},
   "outputs": [],
   "source": []
  },
  {
   "cell_type": "code",
   "execution_count": 19,
   "metadata": {},
   "outputs": [
    {
     "data": {
      "text/plain": [
       "72.18636562688543"
      ]
     },
     "execution_count": 19,
     "metadata": {},
     "output_type": "execute_result"
    }
   ],
   "source": [
    "ht.conv_internal.turbulent_Colburn(9000,10)"
   ]
  },
  {
   "cell_type": "code",
   "execution_count": 20,
   "metadata": {},
   "outputs": [
    {
     "name": "stdout",
     "output_type": "stream",
     "text": [
      "36.1269780579398 60.0\n"
     ]
    }
   ],
   "source": [
    "#Se reduce el caudal de agua un 20%, como cambian las temperaturas de salida?\n",
    "C_2_ = C_2*0.8\n",
    "\n",
    "Cr2 = Cmin/C_2\n",
    "\n",
    "t2s_ = Q_2/C_2_+t2e\n",
    "t1s_ = t1e-Q_2/C_1\n",
    "\n",
    "print(t2s_,t1s_)"
   ]
  },
  {
   "cell_type": "code",
   "execution_count": 21,
   "metadata": {},
   "outputs": [
    {
     "name": "stdout",
     "output_type": "stream",
     "text": [
      "36.12697805793981 70.0\n"
     ]
    }
   ],
   "source": [
    "#Temp aceite ingreso es 120\n",
    "t1e_ = 120\n",
    "\n",
    "Qmax_ = C_1*(t1e_-t2e)\n",
    "Q_2_ = effectiveness*Qmax_\n",
    "\n",
    "t2s__ = Q_2_/C_2+t2e\n",
    "t1s__ = t1e_-Q_2_/C_1\n",
    "\n",
    "print(t2s__,t1s__)"
   ]
  },
  {
   "cell_type": "code",
   "execution_count": 22,
   "metadata": {},
   "outputs": [
    {
     "name": "stdout",
     "output_type": "stream",
     "text": [
      "32.90158244635184 60\n"
     ]
    }
   ],
   "source": [
    "print(t2s,t1s)"
   ]
  },
  {
   "cell_type": "code",
   "execution_count": null,
   "metadata": {},
   "outputs": [],
   "source": []
  }
 ],
 "metadata": {
  "celltoolbar": "Slideshow",
  "kernelspec": {
   "display_name": "Python 3 (ipykernel)",
   "language": "python",
   "name": "python3"
  },
  "language_info": {
   "codemirror_mode": {
    "name": "ipython",
    "version": 3
   },
   "file_extension": ".py",
   "mimetype": "text/x-python",
   "name": "python",
   "nbconvert_exporter": "python",
   "pygments_lexer": "ipython3",
   "version": "3.12.7"
  }
 },
 "nbformat": 4,
 "nbformat_minor": 4
}
