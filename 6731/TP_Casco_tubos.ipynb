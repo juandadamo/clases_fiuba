{
 "cells": [
  {
   "cell_type": "code",
   "execution_count": 2,
   "metadata": {},
   "outputs": [],
   "source": [
    "# -*- coding: utf-8 -*-\n",
    "%matplotlib notebook\n",
    "import numpy as np\n",
    "import matplotlib.pyplot as plt\n",
    "import ht\n",
    "import CoolProp as cp\n",
    "import fluids"
   ]
  },
  {
   "cell_type": "markdown",
   "metadata": {},
   "source": [
    "### INTERCAMBIADORES DE CALOR\n",
    "\n",
    "\n",
    "#### OBJETIVO\n",
    "\n",
    "Diseño de un intercambiador de tipo casco y tubos para el calentamiento de etilenglicol, procesado en una industria química. \n",
    "\n",
    "#### ENUNCIADO\n",
    "\n",
    "Se requieren calentar un cantidad $\\dot m_F$ de etilenglicol desde un temperatura $T_{FE}$, garantizando a la salida una temperatura  $T_{FS}=40^\\circ$ C. Para ello se dispone de un caudal $\\dot m_C$ de agua que ingresa a $T_{CE}=65^\\circ$C. El agua no podrá enfriarse por debajo de los $T_{CS}=20^\\circ$ C por requerimientos del sistema de calentamiento de la planta. A los efectos del proceso, no afecta que bajo situaciones especiales la temperatura del etilenglicol esté por encima de lo establecido. Considerar al agua como el fluido que pasa por los tubos y al etilenglicol en un por la carcasa.\n",
    " \n",
    "\n",
    "Se pide:\n",
    "\n",
    "    1. Determinar las características de un intercambiador de casco y tubos que cumpla con los requerimientos. \n",
    "    2. Calcular las caídas de presión de ambas corrientes en su paso por el equipo.\n",
    "    3. Completar el cuadro de resumen que contenga las características constructivas y de operación fundamentales calculadas (Entregar el archivo Excel completo adjunto).\n",
    "    4. Hacer un plano conceptual a escala del equipo.\n",
    "    5. Hacer un plano a escala de la placa portatubos y su relación con la carcasa.\n",
    "    6. Durante la operación, el proceso sufre cierto desbalance que hace que la temperatura de entrada del etilenglicol disminuya 5ºC. Manteniendo los caudales constantes, determinar las nuevas temperaturas de salida. ¿Verifican las condiciones de funcionamiento requeridas? (Se recomienda utilizar el método e-NUT)\n",
    "    7. En los casos que no verifiquen, se dispone de un sistema de control del caudal de agua, para poder llevar al equipo dentro de los parámetros de funcionamiento adecuados. ¿Cuál es este nuevo caudal? (Se recomienda utilizar el método e-NUT)\n",
    "\n",
    "\n",
    "DATOS\n",
    "\n",
    "Corriente de Servicio: Agua de caldera tratada.\n",
    "\n",
    "Corriente de Proceso: Etilenglicol\n",
    "\n",
    "Temperatura del etilenglicol a la entrada – TFE [ºC] = 5+0.5·UNP\n",
    "\n",
    "Temperatura del etilenglicol a la salida – TFS [ºC] = 40\n",
    "\n",
    "Temperatura del agua a la entrada – TCE [ºC] = 65\n",
    "\n",
    "Temperatura del agua de salida mínima – TFSmin [ºC] = 20\n",
    "\n",
    "Caudal de etilenglicol – mF [kg/s] (45+UNP)/10\n",
    "\n",
    "Nota:\n",
    "    • UNP= último número de padrón (alumnos de intercambio UNP=4)\n",
    "\n",
    "\n",
    "\n",
    "\n"
   ]
  },
  {
   "cell_type": "code",
   "execution_count": null,
   "metadata": {},
   "outputs": [],
   "source": []
  },
  {
   "cell_type": "code",
   "execution_count": 10,
   "metadata": {},
   "outputs": [
    {
     "name": "stdout",
     "output_type": "stream",
     "text": [
      "m_f = 7.68\n",
      "DTLM = 28.4 \n",
      "Ft = 0.93 \n",
      "UA = 17161.50 \n",
      "Nut =0.84 \n"
     ]
    }
   ],
   "source": [
    "################\n",
    "#     DATOS    #\n",
    "################\n",
    "\n",
    "\n",
    "Tfe = 25\n",
    "Tfs_max = 40\n",
    "Tce = 72\n",
    "Tcs = 50\n",
    "Tfs  = Tfs_max\n",
    "m_c = 4.9\n",
    "L_tubos = 1.5\n",
    "Rf = 2e-4\n",
    "\n",
    "#Calor intercambiado\n",
    "\n",
    "\n",
    "#Q = C_c*m_c*(Tcs-Tce)\n",
    "Tc_media0 = (Tce+Tcs)/2\n",
    "C_c = cp.CoolProp.PropsSI('C','T',273+Tc_media0,'P',101.325e3,'Water')\n",
    "mu_c = cp.CoolProp.PropsSI('V','T',273+Tc_media0,'P',101.325e3,'Water')\n",
    "Q = C_c*m_c*(Tce-Tcs)\n",
    "\n",
    "\n",
    "Tf_media = (Tfe+Tfs)/2\n",
    "C_f = cp.CoolProp.PropsSI('C','T',273+Tf_media,'P',101.325e3,'INCOMP::MEG-20%')\n",
    "m_f = Q / C_f/(Tfs-Tfe)\n",
    "\n",
    "\n",
    "\n",
    "\n",
    "Cmin = np.min([C_c*m_c,C_f*m_f])\n",
    "Cmax = np.max([C_c*m_c,C_f*m_f])\n",
    "\n",
    "Cr = Cmin/Cmax\n",
    "\n",
    "Qmax = Cmin*(Tce-Tfe) \n",
    "epsilon = Q/Qmax\n",
    "\n",
    "dTlm = ht.LMTD(Tci=Tfe, Tco=Tfs, Thi=Tce, Tho=Tcs)\n",
    "\n",
    "# dos pasos de carcaza\n",
    "Ft = ht.F_LMTD_Fakheri(Tci=Tfe, Tco=Tfs, Thi=Tce, Tho=Tcs, shells=1)\n",
    "UA = Q/(dTlm*Ft)\n",
    "#Nut = ht.NTU_from_effectiveness(effectiveness=epsilon, Cr=Cr, subtype='S&T')\n",
    "Nut = ht.NTU_from_UA(UA,Cmin)\n",
    "\n",
    "print('m_f = %.2f'%m_f)\n",
    "print('DTLM = %.1f '%dTlm)\n",
    "print('Ft = %.2f '%Ft)\n",
    "print('UA = %.2f '%UA)\n",
    "print('Nut =%.2f '%Nut)\n"
   ]
  },
  {
   "cell_type": "code",
   "execution_count": 11,
   "metadata": {},
   "outputs": [
    {
     "name": "stdout",
     "output_type": "stream",
     "text": [
      "Area propuesta = 24.52\n"
     ]
    },
    {
     "name": "stderr",
     "output_type": "stream",
     "text": [
      "/tmp/ipykernel_21476/3096128654.py:9: DeprecationWarning: `np.int` is a deprecated alias for the builtin `int`. To silence this warning, use `int` by itself. Doing this will not modify any behavior and is safe. When replacing `np.int`, you may wish to use e.g. `np.int64` or `np.int32` to specify the precision. If you wish to review your current use, check the release note link for additional information.\n",
      "Deprecated in NumPy 1.20; for more details and guidance: https://numpy.org/devdocs/release/1.20.0-notes.html#deprecations\n",
      "  Ntubos_0  = np.int(A / (np.pi*D*L_tubos))\n"
     ]
    }
   ],
   "source": [
    "#U dentro de [800,1600]\n",
    "U = 700\n",
    "A = UA/U\n",
    "\n",
    "D = 25.4e-3\n",
    "e = 9e-4\n",
    "Di = D-2*e\n",
    "\n",
    "Ntubos_0  = np.int(A / (np.pi*D*L_tubos))\n",
    "\n",
    "print('Area propuesta = %.2f'%A)"
   ]
  },
  {
   "cell_type": "code",
   "execution_count": 12,
   "metadata": {},
   "outputs": [
    {
     "name": "stdout",
     "output_type": "stream",
     "text": [
      "N tubos = 204    N paso tubos = 4\n"
     ]
    }
   ],
   "source": [
    "#Proponemos Re~10000\n",
    "Re_design = 0.7e4\n",
    "m_t = m_c  # fluido caliente por tubos\n",
    "#Red = 4*m_t*Npasotubos / (np.pi*D*Ntubos )\n",
    "Npasotubos =  Re_design*(np.pi*Di*Ntubos_0*mu_c ) / (4*m_t)\n",
    "\n",
    "Npasotubos = np.ceil(Npasotubos)+1\n",
    "\n",
    "print('N tubos = %0d    N paso tubos = %0d'%(Ntubos_0,Npasotubos))\n"
   ]
  },
  {
   "cell_type": "code",
   "execution_count": 13,
   "metadata": {},
   "outputs": [
    {
     "name": "stdout",
     "output_type": "stream",
     "text": [
      "Diametro Carcasa = 22.17''\n",
      "Diametro Carcasa final = 23.25''\n",
      "Numero de tubos = 208\n"
     ]
    }
   ],
   "source": [
    "Dcarcasa2 = ht.DBundle_for_Ntubes_Phadkeb(Ntubos_0, D, 1.25*25e-3, Npasotubos, angle=90)\n",
    "\n",
    "print('Diametro Carcasa = %.2f\\'\\''%(Dcarcasa2/25.4e-3))\n",
    "\n",
    "Dcarcasa = 23.25*25.4e-3 ##el valor mas cercano a Dcarcasa2\n",
    "Do = D\n",
    "pitch = 1.25*25.4e-3\n",
    "\n",
    "\n",
    "Ntubos = ht.Ntubes(Dcarcasa, D, pitch, Ntp=Npasotubos, angle=90, Method=None)\n",
    "\n",
    "print('Diametro Carcasa final = %.2f\\'\\''%(Dcarcasa/25.4e-3))\n",
    "print('Numero de tubos = %0d'%(Ntubos))"
   ]
  },
  {
   "cell_type": "markdown",
   "metadata": {},
   "source": [
    "Arreglo cuadrado dX= 1.25'' D=1'' carcasa 23.25''\n",
    "determina Ntubos en su interior. Se va probando parámetros para ajustar el valor inicial\n",
    "Ntubos_0"
   ]
  },
  {
   "cell_type": "code",
   "execution_count": 14,
   "metadata": {},
   "outputs": [
    {
     "name": "stdout",
     "output_type": "stream",
     "text": [
      "Areal real = 24.90 m2\n"
     ]
    }
   ],
   "source": [
    "A_real = np.pi*L_tubos*D*Ntubos\n",
    "print('Areal real = %.2f m2'%A_real)"
   ]
  },
  {
   "cell_type": "code",
   "execution_count": 15,
   "metadata": {},
   "outputs": [
    {
     "name": "stdout",
     "output_type": "stream",
     "text": [
      "Reynolds = 10266\n"
     ]
    }
   ],
   "source": [
    "Re_d = 4*m_t*Npasotubos / (np.pi*D*Ntubos*mu_c )\n",
    "print('Reynolds = %.f'%Re_d)\n",
    "\n",
    "Pr_c = cp.CoolProp.PropsSI('PRANDTL','T',273+Tc_media0,'P',101.325e3,'Water')\n",
    "k_c = cp.CoolProp.PropsSI('L','T',273+Tc_media0,'P',101.325e3,'Water')"
   ]
  },
  {
   "cell_type": "code",
   "execution_count": 16,
   "metadata": {},
   "outputs": [],
   "source": [
    "Nu_c = ht.conv_internal.turbulent_Colburn(Re_d,Pr_c)\n",
    "h_c = Nu_c*k_c/Di"
   ]
  },
  {
   "cell_type": "code",
   "execution_count": 17,
   "metadata": {},
   "outputs": [
    {
     "name": "stdout",
     "output_type": "stream",
     "text": [
      "hf = 2353.05   hc=1475.32\n"
     ]
    }
   ],
   "source": [
    "# En la carcasa\n",
    "\n",
    "B = 0.25*Dcarcasa\n",
    "\n",
    "#Pag 76 Cao, Dequivalente\n",
    "Pt = pitch\n",
    "c = (1.25-1)*25.4e-3\n",
    "As = Dcarcasa*c*B/Pt\n",
    "Gs = m_f / As\n",
    "\n",
    "\n",
    "Deq = 4*(pitch**2-np.pi*D**2/4) / (np.pi*D)\n",
    "Aeq =  Deq**2*np.pi/4*Ntubos*Npasotubos/4\n",
    "\n",
    "Pr_f = cp.CoolProp.PropsSI('PRANDTL','T',273+Tf_media,'P',101.325e3,'INCOMP::MEG-20%')\n",
    "k_f = cp.CoolProp.PropsSI('L','T',273+Tf_media,'P',101.325e3,'INCOMP::MEG-20%')\n",
    "mu_f = cp.CoolProp.PropsSI('V','T',273+Tf_media,'P',101.325e3,'INCOMP::MEG-20%')\n",
    "\n",
    "Re_f = Deq*m_f/mu_f/Aeq\n",
    "\n",
    "Re_f = Deq*Gs/mu_f\n",
    "Nu_f = 0.36*Re_f**0.55*Pr_f**0.3333\n",
    "\n",
    "h_f = Nu_f*k_f/Deq\n",
    "\n",
    "print('hf = %.2f   hc=%.2f'%(h_f,h_c))"
   ]
  },
  {
   "cell_type": "code",
   "execution_count": 18,
   "metadata": {},
   "outputs": [],
   "source": [
    "# Temperatura de pared Tw\n",
    "\n",
    "# (Tcm-Tw)*A*h_c = (Tw-Tfm) *A*h_f\n",
    "#Tw*h_c+Tw*h_f = Tcm*h_c + Tfm*h_f\n",
    "\n",
    "Tw = (h_c*Tc_media0+h_f*Tf_media) / (h_c+h_f )\n",
    "#con este valor se corrigen las propiedades de los fluidos\n",
    "\n",
    "Tcmedia = (Tc_media0+Tw)/2\n",
    "Tfmedia = (Tf_media+Tw)/2\n",
    "\n",
    "Pr_f = cp.CoolProp.PropsSI('PRANDTL','T',273+Tfmedia,'P',101.325e3,'INCOMP::MEG-20%')\n",
    "k_f = cp.CoolProp.PropsSI('L','T',273+Tfmedia,'P',101.325e3,'INCOMP::MEG-20%')\n",
    "mu_f = cp.CoolProp.PropsSI('V','T',273+Tfmedia,'P',101.325e3,'INCOMP::MEG-20%')\n",
    "\n",
    "Pr_c = cp.CoolProp.PropsSI('PRANDTL','T',273+Tcmedia,'P',101.325e3,'Water')\n",
    "k_c = cp.CoolProp.PropsSI('L','T',273+Tcmedia,'P',101.325e3,'Water')\n",
    "mu_c = cp.CoolProp.PropsSI('V','T',273+Tcmedia,'P',101.325e3,'Water')\n",
    "rho_c = cp.CoolProp.PropsSI('D','T',273+Tcmedia,'P',101.325e3,'Water')\n",
    "rho_f = cp.CoolProp.PropsSI('D','T',273+Tfmedia,'P',101.325e3,'Water')\n",
    "\n",
    "mu_w = cp.CoolProp.PropsSI('V','T',273+Tw,'P',101.325e3,'Water')\n"
   ]
  },
  {
   "cell_type": "code",
   "execution_count": 19,
   "metadata": {},
   "outputs": [
    {
     "name": "stdout",
     "output_type": "stream",
     "text": [
      "hf = 2438.14   hc=1529.99\n"
     ]
    }
   ],
   "source": [
    "Re_f = Deq*m_f/mu_f/Aeq\n",
    "\n",
    "Re_f = Deq*Gs/mu_f\n",
    "Nu_f = 0.36*Re_f**0.55*Pr_f**0.3333\n",
    "\n",
    "h_f = Nu_f*k_f/Deq\n",
    "\n",
    "Nu_c = ht.conv_internal.turbulent_Colburn(Re_d,Pr_c)\n",
    "h_c = Nu_c*k_c/Di\n",
    "print('hf = %.2f   hc=%.2f'%(h_f,h_c))"
   ]
  },
  {
   "cell_type": "code",
   "execution_count": 20,
   "metadata": {},
   "outputs": [
    {
     "name": "stdout",
     "output_type": "stream",
     "text": [
      "U=654.08   Acalculo = 26.24\n",
      "A real inicial 24.90\n"
     ]
    }
   ],
   "source": [
    "Ulimpio = 1 / (D/Di/h_c+1/h_f )\n",
    "U = 1 / (1/Ulimpio + Rf *(1+D/Di))\n",
    "\n",
    "\n",
    "\n",
    "A_calculo = Q / (U*dTlm*Ft)\n",
    "\n",
    "print('U=%.2f   Acalculo = %.2f'%(U,A_calculo))\n",
    "print('A real inicial %.2f'%A_real)"
   ]
  },
  {
   "cell_type": "code",
   "execution_count": 21,
   "metadata": {},
   "outputs": [
    {
     "name": "stdout",
     "output_type": "stream",
     "text": [
      "factor friccion tubos = 0.032919 \n",
      "Gtubos = 215.4\n",
      "Delta p friccion = 803.71\n",
      "Delta p cabezales = 376.10\n",
      "Delta p tubos = 1179.81\n"
     ]
    }
   ],
   "source": [
    "# Caida de presion\n",
    "\n",
    "# Calculo para flujo en tubos\n",
    "roughness = fluids.roughness_Farshad('Carbon steel, bare', D=D)\n",
    "\n",
    "f_c = fluids.friction.friction_factor(Re=Re_d, eD=roughness/Di)\n",
    "\n",
    "f_c2 = 1.2*(0.0014+0.125/Re_d**.32)\n",
    "\n",
    "Gtubos = m_c*Npasotubos*4 / (Ntubos*np.pi*Di**2)\n",
    "\n",
    "\n",
    "Delta_p_friccion = 4*f_c*Npasotubos*L_tubos*Gtubos**2/(2*Di*rho_c)*(mu_c/mu_w)**-0.14\n",
    "\n",
    "Delta_p_cabezales = 4*Npasotubos*Gtubos**2/rho_c/2\n",
    "\n",
    "Delta_p_tubos = Delta_p_cabezales+Delta_p_friccion\n",
    "\n",
    "print('factor friccion tubos = %4f '%f_c)\n",
    "print('Gtubos = %.1f'%Gtubos)\n",
    "print('Delta p friccion = %.2f'%Delta_p_friccion)\n",
    "print('Delta p cabezales = %.2f'%Delta_p_cabezales)\n",
    "print('Delta p tubos = %.2f'%Delta_p_tubos)"
   ]
  },
  {
   "cell_type": "code",
   "execution_count": 22,
   "metadata": {},
   "outputs": [
    {
     "name": "stdout",
     "output_type": "stream",
     "text": [
      "Delta p carcasa = 7687.7\n"
     ]
    }
   ],
   "source": [
    "#calculo para flujo en carcasa\n",
    "\n",
    "\n",
    "LSpacing = Dcarcasa*0.25\n",
    "NBaffles = np.floor(L_tubos / LSpacing)\n",
    "\n",
    "Delta_p_carcasa = ht.conv_tube_bank.dP_Kern(m_f, rho_f, mu_f, Dcarcasa, LSpacing, pitch, D, NBaffles, mu_w=mu_w)\n",
    "print('Delta p carcasa = %.1f'%Delta_p_carcasa)\n"
   ]
  },
  {
   "cell_type": "code",
   "execution_count": null,
   "metadata": {},
   "outputs": [],
   "source": []
  }
 ],
 "metadata": {
  "anaconda-cloud": {},
  "kernelspec": {
   "display_name": "Python 3 (ipykernel)",
   "language": "python",
   "name": "python3"
  },
  "language_info": {
   "codemirror_mode": {
    "name": "ipython",
    "version": 3
   },
   "file_extension": ".py",
   "mimetype": "text/x-python",
   "name": "python",
   "nbconvert_exporter": "python",
   "pygments_lexer": "ipython3",
   "version": "3.9.12"
  },
  "latex_envs": {
   "LaTeX_envs_menu_present": true,
   "autoclose": true,
   "autocomplete": true,
   "bibliofile": "biblio.bib",
   "cite_by": "apalike",
   "current_citInitial": 1,
   "eqLabelWithNumbers": true,
   "eqNumInitial": 1,
   "hotkeys": {
    "equation": "Ctrl-E",
    "itemize": "Ctrl-I"
   },
   "labels_anchors": false,
   "latex_user_defs": false,
   "report_style_numbering": false,
   "user_envs_cfg": false
  }
 },
 "nbformat": 4,
 "nbformat_minor": 4
}
