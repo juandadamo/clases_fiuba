{
 "cells": [
  {
   "cell_type": "code",
   "execution_count": 4,
   "id": "353461bc-1020-43f0-b3bb-375bcb5356b5",
   "metadata": {},
   "outputs": [],
   "source": [
    "# -*- coding: utf-8 -*-\n",
    "%matplotlib notebook\n",
    "import numpy as np\n",
    "import matplotlib.pyplot as plt\n",
    "import ht, pint, fluids\n",
    "import CoolProp as cp\n",
    "import pandas as pd\n",
    "from IPython.display import Latex\n",
    "ureg = pint.UnitRegistry();#(fmt_locale='es_ES')"
   ]
  },
  {
   "cell_type": "markdown",
   "id": "8c861382-3235-4cf2-8fa8-c6b9f3388f58",
   "metadata": {},
   "source": [
    "EXAMPLE 9.1\n",
    "Loss of Hydrogen from a Storage Tank\n",
    "A spherical steel tank of 1 liter capacity and 2 mm wall thickness is used to store hydrogen\n",
    "at 400°C. The initial pressure is 9 bar, and there is a vacuum outside the tank. Calculate\n",
    "the time required for the pressure to drop to 5 bar. Data for the hydrogen-steel (1-2) system\n",
    "include the following items:\n",
    "\n",
    "Diffusion coefficient: $\\mathcal D_{1,2} = 1.65 \\times 10^{-6}e^{-4630/T}$ [m$^2$/s].\n",
    "\n",
    "Solubility relation: $m_{1,u} \\simeq 2.09 \\times 10^{-4}e^{-3950/T} P_{1,s}^{1/2}]$ for T in kelvins and P in bars.\n",
    "Solution\n",
    "Given: High-temperature hydrogen gas stored in a 1 liter steel tank.\n",
    "Required: Time required for pressure to drop from 9 bar to 5 bar.\n",
    "Assumptions: \n",
    "1. Quasi-steady diffusion through the steel.\n",
    "2. Wall curvature effects are negligible.\n",
    "3. The ideal gas law applies."
   ]
  },
  {
   "cell_type": "code",
   "execution_count": 68,
   "id": "37c60f53-c2d4-4ee6-94b9-cc42458a642a",
   "metadata": {},
   "outputs": [],
   "source": [
    "P_i = 9; P_f = 5\n",
    "Vol = 1e-3\n",
    "L = 2e-3\n",
    "T_i = 400\n",
    "Rg = 8.314\n",
    "rho_acero = 7800\n",
    "M_H = 2e-3\n",
    "\n",
    "def m1u (T,P):\n",
    "    return 2.09e-4*np.exp(-3950/T)*P**0.5\n",
    "def D12(T):\n",
    "    return 1.65e-6*np.exp(-4630/T)\n"
   ]
  },
  {
   "cell_type": "markdown",
   "id": "78928fd3-ca4d-44b6-a808-ecc5d4fd955a",
   "metadata": {},
   "source": [
    "\\begin{equation}\n",
    "m = \\frac{PV}{\\mathcal R /M)T}\n",
    "\\end{equation}\n",
    "\n",
    "\\begin{equation}\n",
    "\\frac{dm}{dt} = \\frac{V}{\\mathcal R /M)T}\\frac{dP}{dt}\n",
    "\\end{equation}\n",
    "\\begin{equation}\n",
    "\\frac{dP}{dt} = \\frac{dm}{dt}  \\frac{\\mathcal R T}{MV}\n",
    "\\end{equation}\n",
    "\n",
    "Por otro lado,\n",
    "\n",
    "\\begin{equation}\n",
    "\\frac{dm}{dt} = -\\frac{\\rho D_{1,2} A}{L}(m_{1,u}-m_{1,v})\n",
    "\\end{equation}\n",
    "\n",
    "\\begin{equation}\n",
    "\\frac{dP}{dt} = - \\frac{\\mathcal R T}{MV} \\frac{\\rho D_{1,2} A}{L}(m_{1,u}-m_{1,v})\n",
    "\\end{equation}\n",
    "\n",
    "$P_{1,s} = P$\n",
    "\n",
    "Luego, $m_{1,u} = KP_{1,s}$\n",
    "\n",
    "$P_{1,s'} = 0$ \n",
    "\n",
    "Luego, $m_{1,v} = 0$\n",
    "\n",
    "Entonces,\n",
    "\n",
    "\\begin{equation}\n",
    "\\frac{dP}{dt} = -B P^{1/2}~~~~~ B = \\frac{\\mathcal R T}{MV}\\frac{\\rho \\mathcal D_{12}A}{L} K\n",
    "\\end{equation}\n",
    "\n",
    "$P = \\left(P_0^{1/2}-\\frac{B t}{2}\\right)^2~~~~~~~~~~~$ o $~~~~~~~~ t = \\frac{2}{B}(P_0^{1/2}-P^{1/2})$\n"
   ]
  },
  {
   "cell_type": "code",
   "execution_count": 69,
   "id": "d5349b54-bbb2-4dd9-aec3-fcea1266bf15",
   "metadata": {},
   "outputs": [],
   "source": [
    "R = (Vol*3/4/np.pi)**(1/3)\n",
    "A = 4*np.pi*R**2\n",
    "Tk = T_i + 273\n",
    "\n",
    "conversionPa = 101.3e3\n",
    "K = m1u(Tk,P_i)/P_i**0.5/conversionPa**0.5\n",
    "D12(Tk)\n",
    "\n",
    "\n",
    "B = Rg*Tk*rho_acero*D12(Tk)*A/L*K/(M_H*Vol)"
   ]
  },
  {
   "cell_type": "code",
   "execution_count": 72,
   "id": "0fc48ed8-ab22-4297-bbd3-832ff2933633",
   "metadata": {},
   "outputs": [
    {
     "data": {
      "text/latex": [
       "Tiempo final = 81.3h"
      ],
      "text/plain": [
       "<IPython.core.display.Latex object>"
      ]
     },
     "metadata": {},
     "output_type": "display_data"
    }
   ],
   "source": [
    "P_0 = P_i\n",
    "P = 5\n",
    "\n",
    "t = 2/(B)*((P_0*conversionPa)**0.5-(P*conversionPa)**0.5)\n",
    "display(Latex(f'Tiempo final = {t/3600:.1f}h'))"
   ]
  },
  {
   "cell_type": "code",
   "execution_count": 73,
   "id": "697a3c5b-81b3-42cd-86a8-82ea64294a7c",
   "metadata": {},
   "outputs": [
    {
     "data": {
      "text/plain": [
       "1.8550775232954496e-09"
      ]
     },
     "execution_count": 73,
     "metadata": {},
     "output_type": "execute_result"
    }
   ],
   "source": [
    "K"
   ]
  },
  {
   "cell_type": "code",
   "execution_count": null,
   "id": "17d1994a-0b2c-41c4-b32f-a23784d5b30e",
   "metadata": {},
   "outputs": [],
   "source": []
  },
  {
   "cell_type": "code",
   "execution_count": null,
   "id": "1770ec43-6b4d-443d-a763-44605f5e5028",
   "metadata": {},
   "outputs": [],
   "source": []
  }
 ],
 "metadata": {
  "kernelspec": {
   "display_name": "Python 3 (ipykernel)",
   "language": "python",
   "name": "python3"
  },
  "language_info": {
   "codemirror_mode": {
    "name": "ipython",
    "version": 3
   },
   "file_extension": ".py",
   "mimetype": "text/x-python",
   "name": "python",
   "nbconvert_exporter": "python",
   "pygments_lexer": "ipython3",
   "version": "3.12.2"
  }
 },
 "nbformat": 4,
 "nbformat_minor": 5
}
