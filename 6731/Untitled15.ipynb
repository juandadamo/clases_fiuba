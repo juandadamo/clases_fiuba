{
 "cells": [
  {
   "cell_type": "code",
   "execution_count": 1,
   "id": "935c845a-c337-4a3a-b5ef-e2ef08abec26",
   "metadata": {},
   "outputs": [],
   "source": [
    "import ht, fluids\n",
    "import numpy as np\n",
    "import matplotlib.pyplot as plt\n"
   ]
  },
  {
   "cell_type": "code",
   "execution_count": 2,
   "id": "59072a0a-46b2-4e35-9d3c-d8b188eb0343",
   "metadata": {},
   "outputs": [],
   "source": [
    "D = 25.4e-3\n",
    "a = D*1.25\n",
    "b = D*1.25"
   ]
  },
  {
   "cell_type": "code",
   "execution_count": 4,
   "id": "513fb642-db06-4698-af7e-8c60db9963ad",
   "metadata": {},
   "outputs": [
    {
     "data": {
      "text/plain": [
       "<function ht.conv_external.Nu_cylinder_Zukauskas(Re, Pr, Prw=None)>"
      ]
     },
     "execution_count": 4,
     "metadata": {},
     "output_type": "execute_result"
    }
   ],
   "source": [
    "ht.conv_external.Nu_cylinder_Zukauskas"
   ]
  },
  {
   "cell_type": "code",
   "execution_count": null,
   "id": "830b50d2-badf-4338-bf99-4e882f15f85d",
   "metadata": {},
   "outputs": [],
   "source": []
  }
 ],
 "metadata": {
  "kernelspec": {
   "display_name": "Python 3 (ipykernel)",
   "language": "python",
   "name": "python3"
  },
  "language_info": {
   "codemirror_mode": {
    "name": "ipython",
    "version": 3
   },
   "file_extension": ".py",
   "mimetype": "text/x-python",
   "name": "python",
   "nbconvert_exporter": "python",
   "pygments_lexer": "ipython3",
   "version": "3.12.2"
  }
 },
 "nbformat": 4,
 "nbformat_minor": 5
}
