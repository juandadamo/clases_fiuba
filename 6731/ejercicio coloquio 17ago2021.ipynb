{
 "cells": [
  {
   "cell_type": "code",
   "execution_count": 41,
   "id": "c2c20209",
   "metadata": {},
   "outputs": [],
   "source": [
    "%matplotlib notebook\n",
    "import numpy as np\n",
    "import matplotlib.pyplot as plt\n",
    "from matplotlib import markers,lines,colors\n",
    "from scipy import interpolate\n",
    "import ht,fluids\n",
    "import CoolProp as cp\n",
    "import pandas as pd\n",
    "from IPython.display import  Latex"
   ]
  },
  {
   "cell_type": "markdown",
   "id": "da5153cd",
   "metadata": {},
   "source": [
    "Considere un intercambiador de calor de tubo en tubo, de flujo paralelo, con los siguientes parámetros:\n",
    "\n",
    "    Corriente fría:\n",
    "        Temperatura de entrada: TFE=40°C\n",
    "        Capacidad térmica del flujo: CF=20000W/K\n",
    "\n",
    "    Corriente caliente:\n",
    "        Temperatura de entrada: TCE=150°C\n",
    "        Capacidad térmica de flujo: CC=10000W/K\n",
    "\n",
    "    Superficie de intercambio: 30m2\n",
    "\n",
    "    Coeficiente global de transmisión: 500W/m2 K\n",
    "\n",
    "Se pide determinar:\n",
    "\n",
    "1.- El calor intercambiado\n",
    "\n",
    "2.- La temperatura de la corriente fría a la salida\n",
    "\n",
    "3.- La temperatura de la corriente caliente a la salida\n",
    "\n",
    "\n",
    "Un nuevo requerimiento de proceso exige que la temperatura caliente de salida sea de 90°C. Utilizando un equipo similar, se pide:\n",
    "\n",
    "4.- La nueva superficie de intercambio que cumpla el requerimiento, si se utilizara una configuración en flujo paralelo, y otra en contracorriente.\n",
    "\n",
    "5.- El nuevo calor intercambiado.\n",
    "\n",
    "6.- La nueva temperatura de la corriente fría de salida.\n",
    "\n"
   ]
  },
  {
   "cell_type": "code",
   "execution_count": 42,
   "id": "7858d49f",
   "metadata": {},
   "outputs": [],
   "source": [
    "Tfe = 40\n",
    "Cf = 20000\n",
    "Tce = 150\n",
    "Cc = 10000\n",
    "A = 30\n",
    "U = 500\n",
    "#flujo paralelo"
   ]
  },
  {
   "cell_type": "code",
   "execution_count": 51,
   "id": "405ac44c",
   "metadata": {},
   "outputs": [
    {
     "data": {
      "text/latex": [
       "\\(\\dot Q=\\)656.04kW"
      ],
      "text/plain": [
       "<IPython.core.display.Latex object>"
      ]
     },
     "metadata": {},
     "output_type": "display_data"
    },
    {
     "data": {
      "text/latex": [
       "\\(\\varepsilon =\\)0.60"
      ],
      "text/plain": [
       "<IPython.core.display.Latex object>"
      ]
     },
     "metadata": {},
     "output_type": "display_data"
    }
   ],
   "source": [
    "Cmin, Cmax = [np.min((Cc,Cf)),np.max((Cc,Cf))]\n",
    "Cr = Cmin/Cmax\n",
    "Nut = U*A/Cmin\n",
    "epsilon = ht.effectiveness_from_NTU(Nut, Cr, subtype='parallel')\n",
    "Qmax = Cmin * (Tce-Tfe)\n",
    "Q = Qmax*epsilon\n",
    "display(Latex(f'\\(\\dot Q=\\){Q*1e-3:.2f}kW'))\n",
    "display(Latex(f'\\(\\\\varepsilon =\\){epsilon:.2f}'))"
   ]
  },
  {
   "cell_type": "code",
   "execution_count": 48,
   "id": "35677e0d",
   "metadata": {},
   "outputs": [
    {
     "data": {
      "text/plain": [
       "(1100000, 1.5, 0.5)"
      ]
     },
     "execution_count": 48,
     "metadata": {},
     "output_type": "execute_result"
    }
   ],
   "source": [
    "Qmax,Nut,Cr"
   ]
  },
  {
   "cell_type": "code",
   "execution_count": 52,
   "id": "39b26382",
   "metadata": {},
   "outputs": [
    {
     "data": {
      "text/latex": [
       "\\(T_{fs} =\\)72.8\\(^\\circ\\)C"
      ],
      "text/plain": [
       "<IPython.core.display.Latex object>"
      ]
     },
     "metadata": {},
     "output_type": "display_data"
    },
    {
     "data": {
      "text/latex": [
       "\\(T_{cs} =\\)84.4\\(^\\circ\\)C"
      ],
      "text/plain": [
       "<IPython.core.display.Latex object>"
      ]
     },
     "metadata": {},
     "output_type": "display_data"
    }
   ],
   "source": [
    "Tfs = Tfe+Q/Cf\n",
    "display(Latex(f'\\(T_{{fs}} =\\){Tfs:.1f}\\(^\\circ\\)C'))\n",
    "\n",
    "Tcs = Tce-Q/Cc\n",
    "display(Latex(f'\\(T_{{cs}} =\\){Tcs:.1f}\\(^\\circ\\)C'))"
   ]
  },
  {
   "cell_type": "code",
   "execution_count": 53,
   "id": "c5610304",
   "metadata": {},
   "outputs": [
    {
     "data": {
      "text/latex": [
       "\\(\\dot Q=\\)600.00kW"
      ],
      "text/plain": [
       "<IPython.core.display.Latex object>"
      ]
     },
     "metadata": {},
     "output_type": "display_data"
    },
    {
     "data": {
      "text/latex": [
       "\\(\\varepsilon =\\)0.55"
      ],
      "text/plain": [
       "<IPython.core.display.Latex object>"
      ]
     },
     "metadata": {},
     "output_type": "display_data"
    },
    {
     "data": {
      "text/latex": [
       "\\(Nut_p =\\)1.14"
      ],
      "text/plain": [
       "<IPython.core.display.Latex object>"
      ]
     },
     "metadata": {},
     "output_type": "display_data"
    },
    {
     "data": {
      "text/latex": [
       "\\(Nut_c =\\)0.94"
      ],
      "text/plain": [
       "<IPython.core.display.Latex object>"
      ]
     },
     "metadata": {},
     "output_type": "display_data"
    },
    {
     "data": {
      "text/latex": [
       "\\(A_p =\\)17.60m\\(^2\\)"
      ],
      "text/plain": [
       "<IPython.core.display.Latex object>"
      ]
     },
     "metadata": {},
     "output_type": "display_data"
    },
    {
     "data": {
      "text/latex": [
       "\\(A_c =\\)21.28m\\(^2\\)"
      ],
      "text/plain": [
       "<IPython.core.display.Latex object>"
      ]
     },
     "metadata": {},
     "output_type": "display_data"
    }
   ],
   "source": [
    "Tcs = 90\n",
    "#mismo equipo\n",
    "\n",
    "Q = (Tce-Tcs)*Cc\n",
    "display(Latex(f'\\(\\dot Q=\\){Q*1e-3:.2f}kW'))\n",
    "\n",
    "epsilon = Q/Qmax\n",
    "display(Latex(f'\\(\\\\varepsilon =\\){epsilon:.2f}'))\n",
    "Nut_p = ht.NTU_from_effectiveness(epsilon,Cr,subtype='parallel')\n",
    "Nut_c = ht.NTU_from_effectiveness(epsilon,Cr,subtype='counterflow')\n",
    "display(Latex(f'\\(Nut_p =\\){Nut_p:.2f}'))\n",
    "display(Latex(f'\\(Nut_c =\\){Nut_c:.2f}'))\n",
    "\n",
    "A_p = Cmin/U/Nut_p\n",
    "A_c = Cmin/U/Nut_c\n",
    "\n",
    "\n",
    "display(Latex(f'\\(A_p =\\){A_p:.2f}m\\(^2\\)'))\n",
    "display(Latex(f'\\(A_c =\\){A_c:.2f}m\\(^2\\)'))"
   ]
  },
  {
   "cell_type": "code",
   "execution_count": 39,
   "id": "9291c6a5",
   "metadata": {},
   "outputs": [
    {
     "data": {
      "text/latex": [
       "\\(T_{fs} =\\)70.0\\(^\\circ\\)C"
      ],
      "text/plain": [
       "<IPython.core.display.Latex object>"
      ]
     },
     "metadata": {},
     "output_type": "display_data"
    }
   ],
   "source": [
    "Tfs = Tfe+Q/Cf\n",
    "display(Latex(f'\\(T_{{fs}} =\\){Tfs:.1f}\\(^\\circ\\)C'))"
   ]
  },
  {
   "cell_type": "code",
   "execution_count": null,
   "id": "b7fc3861",
   "metadata": {},
   "outputs": [],
   "source": []
  }
 ],
 "metadata": {
  "kernelspec": {
   "display_name": "Python 3 (ipykernel)",
   "language": "python",
   "name": "python3"
  },
  "language_info": {
   "codemirror_mode": {
    "name": "ipython",
    "version": 3
   },
   "file_extension": ".py",
   "mimetype": "text/x-python",
   "name": "python",
   "nbconvert_exporter": "python",
   "pygments_lexer": "ipython3",
   "version": "3.10.9"
  },
  "latex_envs": {
   "LaTeX_envs_menu_present": true,
   "autoclose": true,
   "autocomplete": true,
   "bibliofile": "biblio.bib",
   "cite_by": "apalike",
   "current_citInitial": 1,
   "eqLabelWithNumbers": true,
   "eqNumInitial": 1,
   "hotkeys": {
    "equation": "Ctrl-E",
    "itemize": "Ctrl-I"
   },
   "labels_anchors": false,
   "latex_user_defs": false,
   "report_style_numbering": false,
   "user_envs_cfg": false
  }
 },
 "nbformat": 4,
 "nbformat_minor": 5
}
