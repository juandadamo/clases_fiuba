{
 "cells": [
  {
   "cell_type": "code",
   "execution_count": 1,
   "metadata": {
    "_kg_hide-output": true,
    "execution": {
     "iopub.execute_input": "2021-04-15T16:23:19.680472Z",
     "iopub.status.busy": "2021-04-15T16:23:19.666391Z",
     "iopub.status.idle": "2021-04-15T16:23:40.451739Z",
     "shell.execute_reply": "2021-04-15T16:23:40.450980Z"
    },
    "papermill": {
     "duration": 20.816006,
     "end_time": "2021-04-15T16:23:40.451947",
     "exception": false,
     "start_time": "2021-04-15T16:23:19.635941",
     "status": "completed"
    },
    "tags": []
   },
   "outputs": [
    {
     "name": "stdout",
     "output_type": "stream",
     "text": [
      "Collecting ht\n",
      "  Downloading ht-1.0.1.tar.gz (899 kB)\n",
      "\u001b[K     |████████████████████████████████| 899 kB 858 kB/s \n",
      "\u001b[?25hCollecting CoolProp\n",
      "  Downloading CoolProp-6.4.1-cp37-cp37m-manylinux1_x86_64.whl (4.2 MB)\n",
      "\u001b[K     |████████████████████████████████| 4.2 MB 4.0 MB/s \n",
      "\u001b[?25hCollecting fluids\n",
      "  Downloading fluids-1.0.3.tar.gz (2.1 MB)\n",
      "\u001b[K     |████████████████████████████████| 2.1 MB 6.6 MB/s \n",
      "\u001b[?25hCollecting xlrd\n",
      "  Downloading xlrd-2.0.1-py2.py3-none-any.whl (96 kB)\n",
      "\u001b[K     |████████████████████████████████| 96 kB 2.1 MB/s \n",
      "\u001b[?25hCollecting xlwt\n",
      "  Downloading xlwt-1.3.0-py2.py3-none-any.whl (99 kB)\n",
      "\u001b[K     |████████████████████████████████| 99 kB 3.5 MB/s \n",
      "\u001b[?25hRequirement already satisfied: numpy>=1.5.0 in /opt/conda/lib/python3.7/site-packages (from fluids) (1.19.5)\n",
      "Requirement already satisfied: scipy>=0.9.0 in /opt/conda/lib/python3.7/site-packages (from fluids) (1.5.4)\n",
      "Building wheels for collected packages: fluids, ht\n",
      "  Building wheel for fluids (setup.py) ... \u001b[?25ldone\n",
      "\u001b[?25h  Created wheel for fluids: filename=fluids-1.0.3-py3-none-any.whl size=1479500 sha256=dd39c6d983827b97dbcd4ac02ff6c6be1001c97f0eb1ed9f939992f6d0f1e149\n",
      "  Stored in directory: /root/.cache/pip/wheels/5f/b7/22/db1c694ed45cbbd4c2af5e4bc6b8dc34436c22028525ac2143\n",
      "  Building wheel for ht (setup.py) ... \u001b[?25ldone\n",
      "\u001b[?25h  Created wheel for ht: filename=ht-1.0.1-py3-none-any.whl size=837891 sha256=f7cdcf6a6a9671f5d65fafe666d02511963c0abf22972d1e0153bf35cd815204\n",
      "  Stored in directory: /root/.cache/pip/wheels/27/7f/fd/663f7442317cb8408db8d87f256bb804274910c8f1c081cad1\n",
      "Successfully built fluids ht\n",
      "Installing collected packages: fluids, xlwt, xlrd, ht, CoolProp\n",
      "Successfully installed CoolProp-6.4.1 fluids-1.0.3 ht-1.0.1 xlrd-2.0.1 xlwt-1.3.0\n"
     ]
    }
   ],
   "source": [
    "!pip install ht CoolProp fluids xlrd xlwt"
   ]
  },
  {
   "cell_type": "code",
   "execution_count": 1,
   "metadata": {
    "_cell_guid": "b1076dfc-b9ad-4769-8c92-a6c4dae69d19",
    "_kg_hide-input": true,
    "_kg_hide-output": true,
    "_uuid": "8f2839f25d086af736a60e9eeb907d3b93b6e0e5",
    "execution": {
     "iopub.execute_input": "2021-04-15T16:23:40.540446Z",
     "iopub.status.busy": "2021-04-15T16:23:40.539736Z",
     "iopub.status.idle": "2021-04-15T16:23:40.722947Z",
     "shell.execute_reply": "2021-04-15T16:23:40.722412Z"
    },
    "papermill": {
     "duration": 0.228943,
     "end_time": "2021-04-15T16:23:40.723090",
     "exception": false,
     "start_time": "2021-04-15T16:23:40.494147",
     "status": "completed"
    },
    "tags": []
   },
   "outputs": [
    {
     "ename": "FileNotFoundError",
     "evalue": "[Errno 2] No such file or directory: '../input/prop-fluidos-intercambiadores/prop_fluidos_intercambiadores.py'",
     "output_type": "error",
     "traceback": [
      "\u001b[0;31m---------------------------------------------------------------------------\u001b[0m",
      "\u001b[0;31mFileNotFoundError\u001b[0m                         Traceback (most recent call last)",
      "\u001b[0;32m<ipython-input-1-16ce0528c354>\u001b[0m in \u001b[0;36m<module>\u001b[0;34m\u001b[0m\n\u001b[1;32m     14\u001b[0m \u001b[0;32mimport\u001b[0m \u001b[0mfluids\u001b[0m\u001b[0;34m\u001b[0m\u001b[0;34m\u001b[0m\u001b[0m\n\u001b[1;32m     15\u001b[0m \u001b[0;32mfrom\u001b[0m \u001b[0mshutil\u001b[0m \u001b[0;32mimport\u001b[0m \u001b[0mcopyfile\u001b[0m\u001b[0;34m\u001b[0m\u001b[0;34m\u001b[0m\u001b[0m\n\u001b[0;32m---> 16\u001b[0;31m \u001b[0mcopyfile\u001b[0m\u001b[0;34m(\u001b[0m\u001b[0msrc\u001b[0m \u001b[0;34m=\u001b[0m \u001b[0;34m\"../input/prop-fluidos-intercambiadores/prop_fluidos_intercambiadores.py\"\u001b[0m\u001b[0;34m,\u001b[0m \u001b[0mdst\u001b[0m \u001b[0;34m=\u001b[0m \u001b[0;34m\"../working/prop_fluidos_intercambiadores.py\"\u001b[0m\u001b[0;34m)\u001b[0m\u001b[0;34m\u001b[0m\u001b[0;34m\u001b[0m\u001b[0m\n\u001b[0m\u001b[1;32m     17\u001b[0m \u001b[0;32mfrom\u001b[0m \u001b[0mprop_fluidos_intercambiadores\u001b[0m \u001b[0;32mimport\u001b[0m \u001b[0mfluido_intercambiador\u001b[0m\u001b[0;34m\u001b[0m\u001b[0;34m\u001b[0m\u001b[0m\n\u001b[1;32m     18\u001b[0m \u001b[0;31m# Carga Datos Excel\u001b[0m\u001b[0;34m\u001b[0m\u001b[0;34m\u001b[0m\u001b[0;34m\u001b[0m\u001b[0m\n",
      "\u001b[0;32m/usr/lib/python3.8/shutil.py\u001b[0m in \u001b[0;36mcopyfile\u001b[0;34m(src, dst, follow_symlinks)\u001b[0m\n\u001b[1;32m    259\u001b[0m         \u001b[0mos\u001b[0m\u001b[0;34m.\u001b[0m\u001b[0msymlink\u001b[0m\u001b[0;34m(\u001b[0m\u001b[0mos\u001b[0m\u001b[0;34m.\u001b[0m\u001b[0mreadlink\u001b[0m\u001b[0;34m(\u001b[0m\u001b[0msrc\u001b[0m\u001b[0;34m)\u001b[0m\u001b[0;34m,\u001b[0m \u001b[0mdst\u001b[0m\u001b[0;34m)\u001b[0m\u001b[0;34m\u001b[0m\u001b[0;34m\u001b[0m\u001b[0m\n\u001b[1;32m    260\u001b[0m     \u001b[0;32melse\u001b[0m\u001b[0;34m:\u001b[0m\u001b[0;34m\u001b[0m\u001b[0;34m\u001b[0m\u001b[0m\n\u001b[0;32m--> 261\u001b[0;31m         \u001b[0;32mwith\u001b[0m \u001b[0mopen\u001b[0m\u001b[0;34m(\u001b[0m\u001b[0msrc\u001b[0m\u001b[0;34m,\u001b[0m \u001b[0;34m'rb'\u001b[0m\u001b[0;34m)\u001b[0m \u001b[0;32mas\u001b[0m \u001b[0mfsrc\u001b[0m\u001b[0;34m,\u001b[0m \u001b[0mopen\u001b[0m\u001b[0;34m(\u001b[0m\u001b[0mdst\u001b[0m\u001b[0;34m,\u001b[0m \u001b[0;34m'wb'\u001b[0m\u001b[0;34m)\u001b[0m \u001b[0;32mas\u001b[0m \u001b[0mfdst\u001b[0m\u001b[0;34m:\u001b[0m\u001b[0;34m\u001b[0m\u001b[0;34m\u001b[0m\u001b[0m\n\u001b[0m\u001b[1;32m    262\u001b[0m             \u001b[0;31m# macOS\u001b[0m\u001b[0;34m\u001b[0m\u001b[0;34m\u001b[0m\u001b[0;34m\u001b[0m\u001b[0m\n\u001b[1;32m    263\u001b[0m             \u001b[0;32mif\u001b[0m \u001b[0m_HAS_FCOPYFILE\u001b[0m\u001b[0;34m:\u001b[0m\u001b[0;34m\u001b[0m\u001b[0;34m\u001b[0m\u001b[0m\n",
      "\u001b[0;31mFileNotFoundError\u001b[0m: [Errno 2] No such file or directory: '../input/prop-fluidos-intercambiadores/prop_fluidos_intercambiadores.py'"
     ]
    }
   ],
   "source": [
    "import numpy as np # linear algebra\n",
    "import pandas as pd # data processing, CSV file I/O (e.g. pd.read_csv)\n",
    "import xlwt as xw\n",
    "# Input data files are available in the read-only \"../input/\" directory\n",
    "# For example, running this (by clicking run or pressing Shift+Enter) will list all files under the input directory\n",
    "lista_data = []\n",
    "import os\n",
    "for dirname, _, filenames in os.walk('/kaggle/input'):\n",
    "    for filename in filenames:\n",
    "        lista_data.append(os.path.join(dirname, filename))\n",
    "import matplotlib.pyplot as plt\n",
    "import ht\n",
    "import CoolProp as cp\n",
    "import fluids\n",
    "from shutil import copyfile\n",
    "copyfile(src = \"../input/prop-fluidos-intercambiadores/prop_fluidos_intercambiadores.py\", dst = \"../working/prop_fluidos_intercambiadores.py\")\n",
    "from prop_fluidos_intercambiadores import fluido_intercambiador\n",
    "# Carga Datos Excel\n",
    "data_excel = pd.read_excel(lista_data[1],sheet_name=1)"
   ]
  },
  {
   "cell_type": "markdown",
   "metadata": {
    "papermill": {
     "duration": 0.035948,
     "end_time": "2021-04-15T16:23:40.795859",
     "exception": false,
     "start_time": "2021-04-15T16:23:40.759911",
     "status": "completed"
    },
    "tags": []
   },
   "source": [
    "HIPOTESIS DE CALCULO:\n",
    "\n",
    "1. Intercambiador de calor tubular de tubos lisos (sin aletas)\n",
    "2. Flujo de gases de combustión de biomasa dentro de tubos\n",
    "3. Flujo cruzado de aire externo a tubos\n",
    "4. Distribución de tubos alineados"
   ]
  },
  {
   "cell_type": "code",
   "execution_count": 3,
   "metadata": {
    "execution": {
     "iopub.execute_input": "2021-04-15T16:23:40.888757Z",
     "iopub.status.busy": "2021-04-15T16:23:40.877315Z",
     "iopub.status.idle": "2021-04-15T16:23:40.893350Z",
     "shell.execute_reply": "2021-04-15T16:23:40.892419Z"
    },
    "papermill": {
     "duration": 0.06204,
     "end_time": "2021-04-15T16:23:40.893536",
     "exception": false,
     "start_time": "2021-04-15T16:23:40.831496",
     "status": "completed"
    },
    "tags": []
   },
   "outputs": [],
   "source": [
    "data = data_excel.to_numpy() # datos del archivo excel\n",
    "#constantes de calculo\n",
    "g = 9.8; cal2joule = 4.184\n",
    "###########################################################\n",
    "#           DATOS  del Intercambiador  \n",
    "#\n",
    "###########################################################\n",
    "# Definición de Flujos\n",
    "Gases = fluido_intercambiador('Gases combustion') \n",
    "Aire = fluido_intercambiador('Aire')\n",
    "# Temperaturas\n",
    "Gases.temp_entrada = data[20,4]    \n",
    "Gases.temp_salida = data[21,4]\n",
    "Aire.temp_entrada = data[22,4]\n",
    "Aire.temp_salida = data[12,5]\n",
    "# Calor\n",
    "Calor_ingreso = data[17,4]*cal2joule*1e3/3600\n",
    "Calor_intercambiado = data[18,4]*cal2joule*1e3/3600\n",
    "Q = Calor_intercambiado\n",
    "Gases.calor_intercambiado, Aire.calor_intercambiado = [Q,Q]\n",
    "\n",
    "# Geometría del Intercambiador\n",
    "Tubo_dext = data[13,4]\n",
    "Tubo_esp = data[13,6]*1e-3\n",
    "Tubo_dint = Tubo_dext-Tubo_esp*2\n",
    "Tubo_long = 2.68\n",
    "paso_tubos = data[47,4]\n",
    "Ncarcasa = 2\n",
    "Rf = data[58,4]  #factor de ensuciamiento. Ver Cao pag 524"
   ]
  },
  {
   "cell_type": "markdown",
   "metadata": {
    "papermill": {
     "duration": 0.054659,
     "end_time": "2021-04-15T16:23:41.002812",
     "exception": false,
     "start_time": "2021-04-15T16:23:40.948153",
     "status": "completed"
    },
    "tags": []
   },
   "source": [
    "Observación: Se propone un paso de tubos p = 1.5 D. En intercambiadores casco y tubo, lo usual es encontrar pasos p= D o p = 1.3D. Ver pej \n",
    "- Shah, R. K., & Sekulic, D. P. (2003). Fundamentals of heat exchanger design. John Wiley & Sons. \n",
    "- Cao, E. (2010). Heat transfer in process engineering. McGraw-Hill Education. (pags 509-522)\n",
    "\n",
    "Pero la elección p = 1.5D tiene razones de facilidad en la limpieza, pej."
   ]
  },
  {
   "cell_type": "code",
   "execution_count": 4,
   "metadata": {
    "execution": {
     "iopub.execute_input": "2021-04-15T16:23:41.120412Z",
     "iopub.status.busy": "2021-04-15T16:23:41.119694Z",
     "iopub.status.idle": "2021-04-15T16:23:41.125074Z",
     "shell.execute_reply": "2021-04-15T16:23:41.124555Z"
    },
    "papermill": {
     "duration": 0.067024,
     "end_time": "2021-04-15T16:23:41.125200",
     "exception": false,
     "start_time": "2021-04-15T16:23:41.058176",
     "status": "completed"
    },
    "tags": []
   },
   "outputs": [
    {
     "name": "stdout",
     "output_type": "stream",
     "text": [
      "Capacidad Térmica Mínima Cmin = 305.1 W/K\n",
      "Calor Máximo disponible Qmax=115.9 kW\n",
      "Eficiencia térmica del equipo = 0.53\n"
     ]
    }
   ],
   "source": [
    "#Capacidad Térmica Mínima\n",
    "Cmin = np.min((Aire.cp*Aire.caudal*Aire.rho,Gases.cp*Gases.caudal*Gases.rho))\n",
    "#Mayor Salto Térmico del sistema\n",
    "DeltaT_max = Gases.temp_entrada-Aire.temp_entrada\n",
    "#Calor Máximo disponible\n",
    "Qmax = Cmin*DeltaT_max\n",
    "#ficiencia térmica\n",
    "eficiencia = Q/Qmax\n",
    "\n",
    "print('Capacidad Térmica Mínima Cmin = %.1f W/K'%Cmin)\n",
    "print('Calor Máximo disponible Qmax=%.1f kW'%(Qmax*1e-3))\n",
    "print('Eficiencia térmica del equipo = %.2f'%eficiencia)"
   ]
  },
  {
   "cell_type": "markdown",
   "metadata": {
    "papermill": {
     "duration": 0.038958,
     "end_time": "2021-04-15T16:23:41.203094",
     "exception": false,
     "start_time": "2021-04-15T16:23:41.164136",
     "status": "completed"
    },
    "tags": []
   },
   "source": [
    "La estimación del factor $F_T$ para este tipo de intercambiadores la podemos estimar en base a resultado como los presentados en: \n",
    "- Annaratone, Donatello. Handbook for heat exchangers and tube banks design. Springer Science & Business Media, 2010.\n",
    "\n",
    "Allí se definen los números adimensionales:\n",
    "\\begin{eqnarray}\n",
    "\\psi &=& \\frac{ T_{CS} - T_{FE}}{ T_{CE} - T_{FE}}\\\\\n",
    "\\beta &=& \\frac{ \\eta \\dot C_C}{ \\dot C_F}\\\\\n",
    "\\gamma &=& \\frac{US}{\\eta C_C}\n",
    "\\end{eqnarray}\n",
    "Y surge el factor de correción \n",
    "\\begin{equation}\n",
    "\\chi_i = \\gamma_i / \\gamma\n",
    "\\end{equation}\n",
    "siendo $\\gamma_i$ el estimado para un intercambiador en general y $\\gamma$ la referencia de contracorriente."
   ]
  },
  {
   "cell_type": "code",
   "execution_count": 5,
   "metadata": {
    "execution": {
     "iopub.execute_input": "2021-04-15T16:23:41.289846Z",
     "iopub.status.busy": "2021-04-15T16:23:41.289129Z",
     "iopub.status.idle": "2021-04-15T16:23:41.293044Z",
     "shell.execute_reply": "2021-04-15T16:23:41.293594Z"
    },
    "papermill": {
     "duration": 0.051407,
     "end_time": "2021-04-15T16:23:41.293786",
     "exception": false,
     "start_time": "2021-04-15T16:23:41.242379",
     "status": "completed"
    },
    "tags": []
   },
   "outputs": [
    {
     "name": "stdout",
     "output_type": "stream",
     "text": [
      "psi = 0.47\n",
      "beta = 0.24\n"
     ]
    }
   ],
   "source": [
    "psi  =  (Gases.temp_salida- Aire.temp_entrada) /  (Gases.temp_entrada- Aire.temp_entrada) \n",
    "beta = eficiencia*Gases.caudal*Gases.cp / (Aire.caudal*Aire.cp)\n",
    "print('psi = %.2f'%psi)\n",
    "print('beta = %.2f'%beta)\n",
    "\n",
    "#de pags 104, 105\n",
    "gamma = 0.989"
   ]
  },
  {
   "cell_type": "code",
   "execution_count": 6,
   "metadata": {
    "execution": {
     "iopub.execute_input": "2021-04-15T16:23:41.375994Z",
     "iopub.status.busy": "2021-04-15T16:23:41.375124Z",
     "iopub.status.idle": "2021-04-15T16:23:41.382528Z",
     "shell.execute_reply": "2021-04-15T16:23:41.381661Z"
    },
    "papermill": {
     "duration": 0.051532,
     "end_time": "2021-04-15T16:23:41.382702",
     "exception": false,
     "start_time": "2021-04-15T16:23:41.331170",
     "status": "completed"
    },
    "tags": []
   },
   "outputs": [
    {
     "name": "stdout",
     "output_type": "stream",
     "text": [
      "Temperatura logaritmica media 247.5 C\n",
      "G_Gases =0.5 m3/h\n",
      "G_Aire =1.1 m3/h \n",
      "Area propuesta =16.6\n",
      "Numero de tubos 32\n"
     ]
    }
   ],
   "source": [
    "LMTD = ht.LMTD(Tci=Aire.temp_entrada, Tco=Aire.temp_salida, Thi=Gases.temp_entrada, Tho=Gases.temp_salida)\n",
    "\n",
    "#Ft = ht.F_LMTD_Fakheri(Tci=Aire.temp_entrada, Tco=Aire.temp_salida, Thi=Gases.temp_entrada, Tho=Gases.temp_salida, shells=Ncarcasa)\n",
    "################\n",
    "Ft = gamma\n",
    "\n",
    "\n",
    "#######################\n",
    "UA = Q/(LMTD*Ft)\n",
    "Upropuesto = 15\n",
    "Apropuesta = UA/Upropuesto\n",
    "Ntubos_0  = np.round(Apropuesta / (np.pi*Tubo_dext*Tubo_long))\n",
    "Ntubos_0 = np.round(Ntubos_0/4)*4\n",
    "print('Temperatura logaritmica media %.1f C'%LMTD)\n",
    "print('G_Gases =%.1f m3/h'%Gases.caudal)\n",
    "print('G_Aire =%.1f m3/h '%Aire.caudal)\n",
    "print('Area propuesta =%.1f'%Apropuesta)\n",
    "print('Numero de tubos %0d'%Ntubos_0)\n",
    "\n",
    "Npasostubos = 1\n",
    "Gases.area =  Tubo_dint**2/4*np.pi*Ntubos_0 #* Npasostubos\n",
    "Gases.long = Tubo_dint\n",
    "Gases.veloc = Gases.caudal / Gases.area\n",
    "Gases.Reynolds()\n",
    "#Npasotubos =  Re_design*(np.pi*Tubo_dext-Tubo_esp*2*Ntubos_0*m ) / (4*m_t)"
   ]
  },
  {
   "cell_type": "code",
   "execution_count": 7,
   "metadata": {
    "execution": {
     "iopub.execute_input": "2021-04-15T16:23:41.509771Z",
     "iopub.status.busy": "2021-04-15T16:23:41.508885Z",
     "iopub.status.idle": "2021-04-15T16:23:41.514958Z",
     "shell.execute_reply": "2021-04-15T16:23:41.514011Z"
    },
    "papermill": {
     "duration": 0.075338,
     "end_time": "2021-04-15T16:23:41.515145",
     "exception": false,
     "start_time": "2021-04-15T16:23:41.439807",
     "status": "completed"
    },
    "tags": []
   },
   "outputs": [
    {
     "name": "stdout",
     "output_type": "stream",
     "text": [
      "Area de pasaje del Aire 0.332 m2\n",
      "Velocidad del Aire 3.285 m/s\n"
     ]
    }
   ],
   "source": [
    "###########################################################\n",
    "# Determinacion de Area de pasaje del aire por la carcasa\n",
    "# alrededor del paquete de tubos\n",
    "###########################################################\n",
    "Tubo_area_ext = Tubo_dext**2/4*np.pi\n",
    "carcasa_huelgo = 20e-3\n",
    "nfilas = 4\n",
    "ncolumnas = Ntubos_0/nfilas\n",
    "\n",
    "carcasa_xmax,carcasa_ymax = [paso_tubos*(ncolumnas-1)+carcasa_huelgo*2+Tubo_dext,\n",
    "                                                       paso_tubos*(nfilas-1)+carcasa_huelgo*2+Tubo_dext]\n",
    "carcasa_area = carcasa_xmax*carcasa_ymax\n",
    "\n",
    "Veloc_aire_entrada  = Aire.caudal/(carcasa_xmax*Tubo_long/2)\n",
    "Veloc_aire_max = Veloc_aire_entrada*paso_tubos/(paso_tubos-Tubo_dext) #esta expresión no toma en cuenta el area entre tubo y carcasa (huelgo)\n",
    "\n",
    "\n",
    "Aire.area = (carcasa_xmax-Tubo_dext*ncolumnas)*Tubo_long/2\n",
    "Aire.long = Tubo_dext\n",
    "Aire.veloc = Aire.caudal  / Aire.area\n",
    "print('Area de pasaje del Aire %.3f m2'%Aire.area)\n",
    "print('Velocidad del Aire %.3f m/s'%Aire.veloc)"
   ]
  },
  {
   "cell_type": "code",
   "execution_count": 8,
   "metadata": {
    "execution": {
     "iopub.execute_input": "2021-04-15T16:23:41.660189Z",
     "iopub.status.busy": "2021-04-15T16:23:41.659351Z",
     "iopub.status.idle": "2021-04-15T16:23:41.664261Z",
     "shell.execute_reply": "2021-04-15T16:23:41.663436Z"
    },
    "papermill": {
     "duration": 0.08101,
     "end_time": "2021-04-15T16:23:41.664434",
     "exception": false,
     "start_time": "2021-04-15T16:23:41.583424",
     "status": "completed"
    },
    "tags": []
   },
   "outputs": [],
   "source": [
    "Aire.Reynolds() \n",
    "Re = Aire.Re\n",
    "pitch_parallel,pitch_normal = [paso_tubos,paso_tubos]\n",
    "Pr = Aire.Pr\n",
    "tube_rows = ncolumnas\n",
    "Aire.Nu = ht.conv_tube_bank.Nu_Zukauskas_Bejan(Re, Pr, tube_rows, pitch_parallel, pitch_normal, Pr_wall=None)\n",
    "Aire.hc = Aire.Nu*Aire.long / Aire.k"
   ]
  },
  {
   "cell_type": "markdown",
   "metadata": {
    "papermill": {
     "duration": 0.057943,
     "end_time": "2021-04-15T16:23:41.781034",
     "exception": false,
     "start_time": "2021-04-15T16:23:41.723091",
     "status": "completed"
    },
    "tags": []
   },
   "source": [
    "ŽUKAUSKAS, A. Heat transfer from tubes in crossflow. En Advances in heat transfer. Elsevier, 1972. p. 93-160."
   ]
  },
  {
   "cell_type": "code",
   "execution_count": 9,
   "metadata": {
    "execution": {
     "iopub.execute_input": "2021-04-15T16:23:41.903775Z",
     "iopub.status.busy": "2021-04-15T16:23:41.902909Z",
     "iopub.status.idle": "2021-04-15T16:23:41.908876Z",
     "shell.execute_reply": "2021-04-15T16:23:41.908188Z"
    },
    "papermill": {
     "duration": 0.069642,
     "end_time": "2021-04-15T16:23:41.909022",
     "exception": false,
     "start_time": "2021-04-15T16:23:41.839380",
     "status": "completed"
    },
    "tags": []
   },
   "outputs": [
    {
     "name": "stdout",
     "output_type": "stream",
     "text": [
      "Reynolds gases = 6921\n",
      "Coeficiente conveccion gases = 19.0\n"
     ]
    }
   ],
   "source": [
    "Gases.Nu = ht.conv_internal.turbulent_Colburn(Gases.Re,Gases.Pr)\n",
    "Gases.hc = Gases.Nu*Gases.k/Gases.long\n",
    "print('Reynolds gases = %.d'%Gases.Re)\n",
    "print('Coeficiente conveccion gases = %.1f'%Gases.hc)"
   ]
  },
  {
   "cell_type": "markdown",
   "metadata": {
    "papermill": {
     "duration": 0.038129,
     "end_time": "2021-04-15T16:23:41.986037",
     "exception": false,
     "start_time": "2021-04-15T16:23:41.947908",
     "status": "completed"
    },
    "tags": []
   },
   "source": [
    "COLBURN, Allan P. A method of correlating forced convection heat-transfer data and a comparison with fluid friction. International Journal of Heat and Mass Transfer, 1964, vol. 7, no 12, p. 1359-1384."
   ]
  },
  {
   "cell_type": "code",
   "execution_count": 10,
   "metadata": {
    "execution": {
     "iopub.execute_input": "2021-04-15T16:23:42.071489Z",
     "iopub.status.busy": "2021-04-15T16:23:42.070830Z",
     "iopub.status.idle": "2021-04-15T16:23:42.610244Z",
     "shell.execute_reply": "2021-04-15T16:23:42.609439Z"
    },
    "papermill": {
     "duration": 0.586064,
     "end_time": "2021-04-15T16:23:42.610420",
     "exception": false,
     "start_time": "2021-04-15T16:23:42.024356",
     "status": "completed"
    },
    "tags": []
   },
   "outputs": [
    {
     "name": "stdout",
     "output_type": "stream",
     "text": [
      "Banco de tubos Nu= 82.39\n",
      "Banco de tubos h_c= 179.31\n",
      "Banco de tubos Delta P= 43.17\n"
     ]
    }
   ],
   "source": [
    "Twall = (Aire.hc*Aire.temp_media+Gases.hc*Gases.temp_media) / (Aire.hc+Gases.hc)\n",
    "Pr_w = cp.CoolProp.PropsSI('Prandtl','T',273+Twall,'P',101.325e3,'Air')\n",
    "mu_w = cp.CoolProp.PropsSI('V','T',273+Twall,'P',101.325e3,'Air')\n",
    "Aire.Nu = ht.conv_tube_bank.Nu_Zukauskas_Bejan(Re, Pr, tube_rows, pitch_parallel, pitch_normal, Pr_wall=Pr_w)\n",
    "Aire.hc = Aire.Nu*Aire.long / Aire.k\n",
    "\n",
    "DeltaP_banco_tubos = Ncarcasa*ht.conv_tube_bank.dP_Zukauskas(Re, ncolumnas, pitch_normal, pitch_parallel, Tubo_dext, Aire.rho, Aire.veloc)\n",
    "Aire.DeltaP = DeltaP_banco_tubos  #+ DeltaP_Codo\n",
    "print('Banco de tubos Nu= %.2f'%Aire.Nu)\n",
    "print('Banco de tubos h_c= %.2f'%Aire.hc)\n",
    "print('Banco de tubos Delta P= %.2f'%Aire.DeltaP)"
   ]
  },
  {
   "cell_type": "code",
   "execution_count": 11,
   "metadata": {
    "execution": {
     "iopub.execute_input": "2021-04-15T16:23:42.698179Z",
     "iopub.status.busy": "2021-04-15T16:23:42.697269Z",
     "iopub.status.idle": "2021-04-15T16:23:42.704996Z",
     "shell.execute_reply": "2021-04-15T16:23:42.704370Z"
    },
    "papermill": {
     "duration": 0.055481,
     "end_time": "2021-04-15T16:23:42.705135",
     "exception": false,
     "start_time": "2021-04-15T16:23:42.649654",
     "status": "completed"
    },
    "tags": []
   },
   "outputs": [
    {
     "name": "stdout",
     "output_type": "stream",
     "text": [
      "U=15.15\n",
      "Acalculo = 16.45\n",
      "A propuesta inicial 16.62\n"
     ]
    }
   ],
   "source": [
    "Ulimpio = 1 / (Tubo_dext/Tubo_dint/Gases.hc+1/Aire.hc )\n",
    "Rf = 0.002\n",
    "U = 1 / (1/Ulimpio + Rf *(1+Tubo_dext/Tubo_dint))\n",
    "\n",
    "A_calculo = Q / (U*LMTD*Ft)\n",
    "\n",
    "print('U=%.2f'%U)\n",
    "print('Acalculo = %.2f'%A_calculo)\n",
    "print('A propuesta inicial %.2f'%Apropuesta)"
   ]
  },
  {
   "cell_type": "code",
   "execution_count": 12,
   "metadata": {
    "execution": {
     "iopub.execute_input": "2021-04-15T16:23:42.795027Z",
     "iopub.status.busy": "2021-04-15T16:23:42.793999Z",
     "iopub.status.idle": "2021-04-15T16:23:42.803015Z",
     "shell.execute_reply": "2021-04-15T16:23:42.802110Z"
    },
    "papermill": {
     "duration": 0.057332,
     "end_time": "2021-04-15T16:23:42.803199",
     "exception": false,
     "start_time": "2021-04-15T16:23:42.745867",
     "status": "completed"
    },
    "tags": []
   },
   "outputs": [
    {
     "name": "stdout",
     "output_type": "stream",
     "text": [
      "factor friccion tubos = 0.034917 \n",
      "Gtubos = 0.5\n",
      "Delta p friccion = 27.93\n",
      "Delta p tubos = 27.93\n"
     ]
    }
   ],
   "source": [
    "# Caida de presion\n",
    "\n",
    "# Calculo para flujo en tubos\n",
    "roughness = fluids.roughness_Farshad('Carbon steel, bare', D=Tubo_dint)\n",
    "\n",
    "f_c = fluids.friction.friction_factor(Re=Gases.Re, eD=roughness/Tubo_dint)\n",
    "\n",
    "f_c2 = 1.2*(0.0014+0.125/Gases.Re**.32)\n",
    "\n",
    "#Gtubos = m_c*Npasotubos*4 / (Ntubos*np.pi*Di**2)\n",
    "Gtubos = Gases.caudal\n",
    "\n",
    "Delta_p_friccion = f_c*Npasostubos*Gases.veloc**2*Tubo_long/Tubo_dint/2 *(Gases.mu/mu_w)**-0.14\n",
    "\n",
    "#Delta_p_cabezales = 4*Npasotubos*Gtubos**2/rho_c/2\n",
    "\n",
    "Delta_p_tubos = Delta_p_friccion#+Delta_p_cabezales\n",
    "Gases.DeltaP = Delta_p_tubos\n",
    "print('factor friccion tubos = %4f '%f_c)\n",
    "print('Gtubos = %.1f'%Gtubos)\n",
    "print('Delta p friccion = %.2f'%Delta_p_friccion)\n",
    "#print('Delta p cabezales = %.2f'%Delta_p_cabezales)\n",
    "print('Delta p tubos = %.2f'%Delta_p_tubos)"
   ]
  },
  {
   "cell_type": "code",
   "execution_count": 13,
   "metadata": {
    "_kg_hide-input": true,
    "execution": {
     "iopub.execute_input": "2021-04-15T16:23:42.897751Z",
     "iopub.status.busy": "2021-04-15T16:23:42.891914Z",
     "iopub.status.idle": "2021-04-15T16:23:42.964256Z",
     "shell.execute_reply": "2021-04-15T16:23:42.964777Z"
    },
    "papermill": {
     "duration": 0.121264,
     "end_time": "2021-04-15T16:23:42.964950",
     "exception": false,
     "start_time": "2021-04-15T16:23:42.843686",
     "status": "completed"
    },
    "tags": []
   },
   "outputs": [
    {
     "name": "stdout",
     "output_type": "stream",
     "text": [
      "Se puede volcar sobre un archivo Excel.\n"
     ]
    },
    {
     "data": {
      "text/html": [
       "<div>\n",
       "<style scoped>\n",
       "    .dataframe tbody tr th:only-of-type {\n",
       "        vertical-align: middle;\n",
       "    }\n",
       "\n",
       "    .dataframe tbody tr th {\n",
       "        vertical-align: top;\n",
       "    }\n",
       "\n",
       "    .dataframe thead th {\n",
       "        text-align: right;\n",
       "    }\n",
       "</style>\n",
       "<table border=\"1\" class=\"dataframe\">\n",
       "  <thead>\n",
       "    <tr style=\"text-align: right;\">\n",
       "      <th></th>\n",
       "      <th>Unnamed: 0</th>\n",
       "      <th>Unnamed: 1</th>\n",
       "      <th>Unnamed: 2</th>\n",
       "    </tr>\n",
       "  </thead>\n",
       "  <tbody>\n",
       "    <tr>\n",
       "      <th>0</th>\n",
       "      <td>Nombre Fluido</td>\n",
       "      <td>Aire</td>\n",
       "      <td>Gases Combustión</td>\n",
       "    </tr>\n",
       "    <tr>\n",
       "      <th>1</th>\n",
       "      <td>Caudal masico (kg/s)</td>\n",
       "      <td>1.21</td>\n",
       "      <td>0.29</td>\n",
       "    </tr>\n",
       "    <tr>\n",
       "      <th>2</th>\n",
       "      <td>Temperatura Entrada</td>\n",
       "      <td>20.0</td>\n",
       "      <td>400.0</td>\n",
       "    </tr>\n",
       "    <tr>\n",
       "      <th>3</th>\n",
       "      <td>Temperatura salida</td>\n",
       "      <td>70.0</td>\n",
       "      <td>200.0</td>\n",
       "    </tr>\n",
       "    <tr>\n",
       "      <th>4</th>\n",
       "      <td>Densidad kg/m3</td>\n",
       "      <td>1.11</td>\n",
       "      <td>0.62</td>\n",
       "    </tr>\n",
       "    <tr>\n",
       "      <th>5</th>\n",
       "      <td>Viscosidad cP</td>\n",
       "      <td>0.02</td>\n",
       "      <td>0.03</td>\n",
       "    </tr>\n",
       "    <tr>\n",
       "      <th>6</th>\n",
       "      <td>Calor específico J/Kg C</td>\n",
       "      <td>1007.2</td>\n",
       "      <td>1045.1</td>\n",
       "    </tr>\n",
       "    <tr>\n",
       "      <th>7</th>\n",
       "      <td>Conductividad térmica W/Kg C</td>\n",
       "      <td>0.028</td>\n",
       "      <td>0.044</td>\n",
       "    </tr>\n",
       "    <tr>\n",
       "      <th>8</th>\n",
       "      <td>Presión de entrada kPa</td>\n",
       "      <td>101.3</td>\n",
       "      <td>101.3</td>\n",
       "    </tr>\n",
       "    <tr>\n",
       "      <th>9</th>\n",
       "      <td>Velocidad m/s</td>\n",
       "      <td>3.29</td>\n",
       "      <td>3.29</td>\n",
       "    </tr>\n",
       "    <tr>\n",
       "      <th>10</th>\n",
       "      <td>Caída de presión Pa</td>\n",
       "      <td>43.165</td>\n",
       "      <td>27.932</td>\n",
       "    </tr>\n",
       "    <tr>\n",
       "      <th>11</th>\n",
       "      <td>Resistencia de ensuciamiento m2C/W</td>\n",
       "      <td>0.0010</td>\n",
       "      <td>0.0010</td>\n",
       "    </tr>\n",
       "    <tr>\n",
       "      <th>12</th>\n",
       "      <td>Calor intercambiado kW</td>\n",
       "      <td>61.0</td>\n",
       "      <td>NaN</td>\n",
       "    </tr>\n",
       "    <tr>\n",
       "      <th>13</th>\n",
       "      <td>Coeficiente Global de Transferencia</td>\n",
       "      <td>15.2</td>\n",
       "      <td>NaN</td>\n",
       "    </tr>\n",
       "    <tr>\n",
       "      <th>14</th>\n",
       "      <td>Número de pasos por carcasa</td>\n",
       "      <td>1</td>\n",
       "      <td>NaN</td>\n",
       "    </tr>\n",
       "    <tr>\n",
       "      <th>15</th>\n",
       "      <td>Número de pasos de carcasa</td>\n",
       "      <td>2.0</td>\n",
       "      <td>NaN</td>\n",
       "    </tr>\n",
       "    <tr>\n",
       "      <th>16</th>\n",
       "      <td>Tubos Longitud m</td>\n",
       "      <td>2.68</td>\n",
       "      <td>NaN</td>\n",
       "    </tr>\n",
       "    <tr>\n",
       "      <th>17</th>\n",
       "      <td>Tubos D exterior mm</td>\n",
       "      <td>60.30</td>\n",
       "      <td>NaN</td>\n",
       "    </tr>\n",
       "    <tr>\n",
       "      <th>18</th>\n",
       "      <td>Tubos D interior mm</td>\n",
       "      <td>56.30</td>\n",
       "      <td>NaN</td>\n",
       "    </tr>\n",
       "    <tr>\n",
       "      <th>19</th>\n",
       "      <td>Tubos espesor mm</td>\n",
       "      <td>2.00</td>\n",
       "      <td>NaN</td>\n",
       "    </tr>\n",
       "    <tr>\n",
       "      <th>20</th>\n",
       "      <td>Carcasa Lx m</td>\n",
       "      <td>0.73</td>\n",
       "      <td>NaN</td>\n",
       "    </tr>\n",
       "    <tr>\n",
       "      <th>21</th>\n",
       "      <td>Carcasa Ly m</td>\n",
       "      <td>0.37</td>\n",
       "      <td>NaN</td>\n",
       "    </tr>\n",
       "  </tbody>\n",
       "</table>\n",
       "</div>"
      ],
      "text/plain": [
       "                             Unnamed: 0 Unnamed: 1        Unnamed: 2\n",
       "0                         Nombre Fluido       Aire  Gases Combustión\n",
       "1                  Caudal masico (kg/s)       1.21              0.29\n",
       "2                   Temperatura Entrada       20.0             400.0\n",
       "3                    Temperatura salida       70.0             200.0\n",
       "4                        Densidad kg/m3       1.11              0.62\n",
       "5                         Viscosidad cP       0.02              0.03\n",
       "6               Calor específico J/Kg C     1007.2            1045.1\n",
       "7          Conductividad térmica W/Kg C      0.028             0.044\n",
       "8                Presión de entrada kPa      101.3             101.3\n",
       "9                         Velocidad m/s       3.29              3.29\n",
       "10                  Caída de presión Pa     43.165            27.932\n",
       "11   Resistencia de ensuciamiento m2C/W     0.0010            0.0010\n",
       "12               Calor intercambiado kW       61.0               NaN\n",
       "13  Coeficiente Global de Transferencia       15.2               NaN\n",
       "14          Número de pasos por carcasa          1               NaN\n",
       "15           Número de pasos de carcasa        2.0               NaN\n",
       "16                     Tubos Longitud m       2.68               NaN\n",
       "17                  Tubos D exterior mm      60.30               NaN\n",
       "18                  Tubos D interior mm      56.30               NaN\n",
       "19                     Tubos espesor mm       2.00               NaN\n",
       "20                         Carcasa Lx m       0.73               NaN\n",
       "21                         Carcasa Ly m       0.37               NaN"
      ]
     },
     "execution_count": 13,
     "metadata": {},
     "output_type": "execute_result"
    }
   ],
   "source": [
    "print('Se puede volcar sobre un archivo Excel.')\n",
    "# Workbook is created \n",
    "wb = xw.Workbook() \n",
    "xw.add_palette_colour(\"gris\", 0x21)\n",
    "wb.set_colour_RGB(0x21, 200, 200,200)  \n",
    "# add_sheet is used to create sheet. \n",
    "sheet1 = wb.add_sheet('Performance Unidad') \n",
    "style = xw.easyxf('pattern: pattern solid, fore_colour gris;')\n",
    "# Input data into rows \n",
    "sheet1.write(3, 0, 'Nombre Fluido') \n",
    "sheet1.write(3, 1, 'Aire') \n",
    "sheet1.write(3, 2, 'Gases Combustión') \n",
    "\n",
    "sheet1.write(4, 0, 'Caudal masico (kg/s)',style) \n",
    "sheet1.write(4, 1, '%.2f'%(Aire.caudal*Aire.rho),style) \n",
    "sheet1.write(4, 2, '%.2f'%(Gases.caudal*Gases.rho),style) \n",
    "\n",
    "sheet1.write(5, 0, 'Temperatura Entrada') \n",
    "sheet1.write(5, 1, '%.1f'%Aire.temp_entrada) \n",
    "sheet1.write(5, 2, '%.1f'%Gases.temp_entrada) \n",
    "\n",
    "sheet1.write(6, 0, 'Temperatura salida',style) \n",
    "sheet1.write(6, 1, '%.1f'%Aire.temp_salida,style) \n",
    "sheet1.write(6, 2, '%.1f'%Gases.temp_salida,style) \n",
    "\n",
    "\n",
    "sheet1.write(7, 0, 'Densidad kg/m3') \n",
    "sheet1.write(7, 1, '%.2f'%Aire.rho) \n",
    "sheet1.write(7, 2, '%.2f'%Gases.rho) \n",
    "\n",
    "sheet1.write(8, 0, 'Viscosidad cP',style) \n",
    "sheet1.write(8, 1, '%.2f'%(1e3*Aire.mu),style) \n",
    "sheet1.write(8, 2, '%.2f'%(1e3*Gases.mu),style) \n",
    "\n",
    "\n",
    "sheet1.write(9, 0, 'Calor específico J/Kg C')\n",
    "sheet1.write(9, 1, '%.1f'%Aire.cp)\n",
    "sheet1.write(9, 2, '%.1f'%Gases.cp)\n",
    "\n",
    "sheet1.write(10, 0, 'Conductividad térmica W/Kg C',style) \n",
    "sheet1.write(10, 1, '%.3f'%Aire.k,style) \n",
    "sheet1.write(10, 2, '%.3f'%Gases.k,style) \n",
    "\n",
    "sheet1.write(11, 0, 'Presión de entrada kPa') \n",
    "sheet1.write(11, 1, '%.1f'%(101.3))\n",
    "sheet1.write(11, 2, '%.1f'%(101.3))\n",
    "\n",
    "sheet1.write(12, 0, 'Velocidad m/s',style) \n",
    "sheet1.write(12, 1, '%.2f'%Aire.veloc,style)\n",
    "sheet1.write(12, 2, '%.2f'%Aire.veloc,style)\n",
    "\n",
    "sheet1.write(13, 0, 'Caída de presión Pa') \n",
    "sheet1.write(13, 1, '%.3f'%(Aire.DeltaP))\n",
    "sheet1.write(13, 2, '%.3f'%(Gases.DeltaP))\n",
    "\n",
    "\n",
    "sheet1.write(14, 0, 'Resistencia de ensuciamiento m2C/W',style) \n",
    "sheet1.write(14, 1, '%.4f'%(Rf/2),style)\n",
    "sheet1.write(14, 2, '%.4f'%(Rf/2),style)\n",
    "\n",
    "sheet1.write(15, 0, 'Calor intercambiado kW') \n",
    "sheet1.write(15, 1, '%.1f'%(Q/1e3))\n",
    "\n",
    "sheet1.write(16, 0, 'Coeficiente Global de Transferencia',style)\n",
    "sheet1.write(16, 1, '%.1f'%U,style)\n",
    "\n",
    "sheet1.write(17, 0, 'Número de pasos por carcasa')\n",
    "sheet1.write(17, 1, '%0d'%Npasostubos)\n",
    "\n",
    "sheet1.write(18, 0, 'Número de pasos de carcasa',style)\n",
    "sheet1.write(18, 1, '%.1f'%Ncarcasa,style)\n",
    "\n",
    "sheet1.write(19, 0, 'Tubos Longitud m')\n",
    "sheet1.write(19, 1, '%.2f'%Tubo_long)\n",
    "\n",
    "sheet1.write(20, 0, 'Tubos D exterior mm',style)\n",
    "sheet1.write(20, 1, '%.2f'%(Tubo_dext*1e3),style)\n",
    "\n",
    "sheet1.write(21, 0, 'Tubos D interior mm')\n",
    "sheet1.write(21, 1, '%.2f'%(Tubo_dint*1e3))\n",
    "             \n",
    "sheet1.write(22, 0, 'Tubos espesor mm',style)\n",
    "sheet1.write(22, 1, '%.2f'%(Tubo_esp*1e3),style)\n",
    "             \n",
    "sheet1.write(23,0,'Carcasa Lx m')             \n",
    "sheet1.write(23,1,'%.2f'%carcasa_xmax)\n",
    "             \n",
    "sheet1.write(24,0,'Carcasa Ly m',style)             \n",
    "sheet1.write(24,1,'%.2f'%carcasa_ymax,style)\n",
    "\n",
    "nombre_salida = 'Intercambiador_salida_TEMA.xls'\n",
    "wb.save(nombre_salida)\n",
    "data_salida_excel = pd.read_excel('./'+nombre_salida,skiprows=2)\n",
    "data_salida_excel"
   ]
  },
  {
   "cell_type": "code",
   "execution_count": null,
   "metadata": {
    "papermill": {
     "duration": 0.041616,
     "end_time": "2021-04-15T16:23:43.048469",
     "exception": false,
     "start_time": "2021-04-15T16:23:43.006853",
     "status": "completed"
    },
    "tags": []
   },
   "outputs": [],
   "source": []
  },
  {
   "cell_type": "code",
   "execution_count": 14,
   "metadata": {
    "_kg_hide-input": true,
    "execution": {
     "iopub.execute_input": "2021-04-15T16:23:43.183907Z",
     "iopub.status.busy": "2021-04-15T16:23:43.180878Z",
     "iopub.status.idle": "2021-04-15T16:23:44.599155Z",
     "shell.execute_reply": "2021-04-15T16:23:44.599693Z"
    },
    "papermill": {
     "duration": 1.509425,
     "end_time": "2021-04-15T16:23:44.599876",
     "exception": false,
     "start_time": "2021-04-15T16:23:43.090451",
     "status": "completed"
    },
    "tags": []
   },
   "outputs": [
    {
     "name": "stdout",
     "output_type": "stream",
     "text": [
      "Nusselt según paso transversal en nuestro banco de tubos.\n"
     ]
    },
    {
     "data": {
      "image/png": "[encoded data removed]",
      "text/plain": [
       "<Figure size 288x288 with 1 Axes>"
      ]
     },
     "metadata": {
      "needs_background": "light"
     },
     "output_type": "display_data"
    }
   ],
   "source": [
    "print('Nusselt según paso transversal en nuestro banco de tubos.')\n",
    "fig0,ax0 = plt.subplots(figsize=(4,4))\n",
    "paso_longitudinal = Tubo_dext*1.5\n",
    "paso_transversal = np.linspace(Tubo_dext,Tubo_dext*3,100)\n",
    "paso_longitudinal2 = Tubo_dext*1.3\n",
    "for i,paso_ti in enumerate(paso_transversal):\n",
    "    Nu = ht.conv_tube_bank.Nu_Zukauskas_Bejan(Re, Pr, tube_rows,paso_longitudinal,paso_ti, Pr_wall=None)\n",
    "    Nu2 = ht.conv_tube_bank.Nu_Zukauskas_Bejan(Re, Pr, tube_rows,paso_longitudinal,paso_ti*1.3/1.5, Pr_wall=None)\n",
    "    if i==0:\n",
    "        lin1, = ax0.plot(paso_ti/paso_longitudinal,Nu,'.',label = '$p_L=1.5D$')\n",
    "        lin2, = ax0.plot(paso_ti/paso_longitudinal,Nu2,'.',label = '$p_L=1.3D$')\n",
    "    else:\n",
    "        ax0.plot(paso_ti/paso_longitudinal,Nu,'.',color=lin1.get_color())\n",
    "        ax0.plot(paso_ti/paso_longitudinal,Nu2,'.',color=lin2.get_color())\n",
    "\n",
    "ax0.set_title('$paso_T = 1.5D$')\n",
    "ax0.set_xlabel('$paso_T/paso_L$')\n",
    "ax0.set_ylabel('Nu')\n",
    "ax0.grid()\n",
    "ax0.legend();"
   ]
  },
  {
   "cell_type": "markdown",
   "metadata": {
    "papermill": {
     "duration": 0.042513,
     "end_time": "2021-04-15T16:23:44.684863",
     "exception": false,
     "start_time": "2021-04-15T16:23:44.642350",
     "status": "completed"
    },
    "tags": []
   },
   "source": [
    "### Arreglo de tubos. Geometría"
   ]
  },
  {
   "cell_type": "code",
   "execution_count": 15,
   "metadata": {
    "execution": {
     "iopub.execute_input": "2021-04-15T16:23:44.777952Z",
     "iopub.status.busy": "2021-04-15T16:23:44.777182Z",
     "iopub.status.idle": "2021-04-15T16:23:44.780342Z",
     "shell.execute_reply": "2021-04-15T16:23:44.779714Z"
    },
    "papermill": {
     "duration": 0.052637,
     "end_time": "2021-04-15T16:23:44.780480",
     "exception": false,
     "start_time": "2021-04-15T16:23:44.727843",
     "status": "completed"
    },
    "tags": []
   },
   "outputs": [],
   "source": [
    "#datos geometría\n",
    "\n",
    "Tubo_area_int = Tubo_dint**2/4*np.pi\n",
    "Tubo_area_ext = Tubo_dext**2/4*np.pi\n",
    "Ntubos = Ntubos_0\n",
    "\n",
    "paso_tubos =pitch_normal\n",
    "carcasa_huelgo = 20e-3  #Cao pag 142 10mm\n"
   ]
  },
  {
   "cell_type": "code",
   "execution_count": 16,
   "metadata": {
    "_kg_hide-input": true,
    "execution": {
     "iopub.execute_input": "2021-04-15T16:23:44.880875Z",
     "iopub.status.busy": "2021-04-15T16:23:44.874881Z",
     "iopub.status.idle": "2021-04-15T16:23:45.477799Z",
     "shell.execute_reply": "2021-04-15T16:23:45.476425Z"
    },
    "papermill": {
     "duration": 0.654953,
     "end_time": "2021-04-15T16:23:45.477983",
     "exception": false,
     "start_time": "2021-04-15T16:23:44.823030",
     "status": "completed"
    },
    "tags": []
   },
   "outputs": [
    {
     "data": {
      "image/png": "[encoded data removed]",
      "text/plain": [
       "<Figure size 864x864 with 1 Axes>"
      ]
     },
     "metadata": {
      "needs_background": "light"
     },
     "output_type": "display_data"
    }
   ],
   "source": [
    "import matplotlib.patches as mpatches\n",
    "prop_cycle = plt.rcParams['axes.prop_cycle']\n",
    "colors = prop_cycle.by_key()['color']\n",
    "escala = 1/3\n",
    "coord_tubo = []\n",
    "for filai in np.arange(nfilas):\n",
    "    yi = filai*paso_tubos+carcasa_huelgo+Tubo_dext/2\n",
    "    for columnai in np.arange(ncolumnas):\n",
    "        xi = columnai*paso_tubos+carcasa_huelgo+Tubo_dext/2\n",
    "        coord_tubo.append([xi,yi])\n",
    "\n",
    "carcasa_area = carcasa_xmax*carcasa_ymax\n",
    "Area_pasaje_aire = carcasa_area-Ntubos*Tubo_area_ext        \n",
    "carcasa_espesor = 0\n",
    "carcasa_paso = 2*Tubo_dext\n",
    "fig0,ax0  = plt.subplots(figsize=(12,12))\n",
    "\n",
    "for i,coord_tuboi in enumerate(coord_tubo):\n",
    "    xi1,yi1 = coord_tuboi\n",
    "    xi1 +=2; \n",
    "    ax0.add_patch(plt.Circle((xi1, yi1), Tubo_dext/2, color='k',fill=False))\n",
    "    ax0.plot([0,Tubo_long*escala],[yi1,yi1],color='k',linestyle='-.',linewidth=1)\n",
    "    ax0.plot([0,Tubo_long*escala],[yi1+Tubo_dext/2,yi1+Tubo_dext/2],color='k')\n",
    "    ax0.plot([0,Tubo_long*escala],[yi1-Tubo_dext/2,yi1-Tubo_dext/2],color='k')\n",
    "ax0.set_aspect('equal')  \n",
    "lin, = ax0.plot([0,Tubo_long*escala],[0,0],linewidth=3)\n",
    "color_c = lin.get_color()\n",
    "ax0.plot([0,Tubo_long*escala],[carcasa_ymax,carcasa_ymax],linewidth=3,color=color_c)\n",
    "ax0.plot([0,0],[0,carcasa_ymax+carcasa_paso],linewidth=3,color=color_c)\n",
    "ax0.plot([Tubo_long*escala/2,Tubo_long*escala/2],[0,carcasa_ymax],linewidth=3,color=color_c)\n",
    "\n",
    "ax0.plot([Tubo_long*escala/2,Tubo_long*escala],[carcasa_ymax,carcasa_ymax],linewidth=3,color=color_c)\n",
    "ax0.plot([Tubo_long*escala/2,Tubo_long*escala],[0,0],linewidth=3,color=color_c)\n",
    "ax0.plot([Tubo_long*escala,Tubo_long*escala],[0,carcasa_ymax+carcasa_paso],linewidth=3,color=color_c)\n",
    "\n",
    "ax0.plot([0,Tubo_long*escala],[carcasa_ymax+carcasa_paso,carcasa_ymax+carcasa_paso]\n",
    "         ,linewidth=3,color=color_c)\n",
    "\n",
    "ax0.plot([2,2+carcasa_xmax],[0,0],linewidth=3,color=color_c)\n",
    "\n",
    "ax0.plot([2,2+carcasa_xmax],[carcasa_ymax,carcasa_ymax],linewidth=3,color=color_c)\n",
    "ax0.plot([2,2],[0,carcasa_ymax],linewidth=3,color=color_c)\n",
    "ax0.plot([2+carcasa_xmax,2+carcasa_xmax],[0,carcasa_ymax],linewidth=3,color=color_c)\n",
    "\n",
    "ax0.set_axis_off()\n",
    "arrow0 = mpatches.FancyArrowPatch((Tubo_long*escala/4,carcasa_ymax/2), (-.2, carcasa_ymax/2),\n",
    "                                 mutation_scale=50,color=colors[1],ec='k')\n",
    "\n",
    "arrow1 = mpatches.FancyArrowPatch((Tubo_long*escala/4, -.15), (Tubo_long*escala/4, .0),\n",
    "                                 mutation_scale=50,color=colors[0],ec='k')\n",
    "\n",
    "arrow2 = mpatches.FancyArrowPatch((3*Tubo_long*escala/4, 0), (3*Tubo_long*escala/4, -.15),\n",
    "                                 mutation_scale=50,color=colors[0],ec='k')\n",
    "arrow3 = mpatches.FancyArrowPatch((Tubo_long*escala/4, carcasa_ymax), \n",
    "                                  (2*Tubo_long*escala/4, carcasa_ymax+carcasa_paso/2),\n",
    "                                 mutation_scale=50,color=colors[0],ec='k',\n",
    "                                  connectionstyle=\"angle3, angleA=90, angleB=0\")\n",
    "arrow4 = mpatches.FancyArrowPatch((2*Tubo_long*escala/4, carcasa_ymax+carcasa_paso/2),(3*Tubo_long*escala/4, carcasa_ymax), \n",
    "                                 mutation_scale=50,color=colors[0],ec='k',\n",
    "                                  connectionstyle=\"angle3, angleA=0, angleB=120\")\n",
    "ax0.add_patch(arrow0)\n",
    "ax0.add_patch(arrow1)\n",
    "ax0.add_patch(arrow2);\n",
    "ax0.add_patch(arrow3);\n",
    "ax0.add_patch(arrow4);\n",
    "ax0.set_title('Esquema del Intercambiador',fontsize=18);"
   ]
  },
  {
   "cell_type": "code",
   "execution_count": null,
   "metadata": {
    "papermill": {
     "duration": 0.065993,
     "end_time": "2021-04-15T16:23:45.611672",
     "exception": false,
     "start_time": "2021-04-15T16:23:45.545679",
     "status": "completed"
    },
    "tags": []
   },
   "outputs": [],
   "source": []
  }
 ],
 "metadata": {
  "kernelspec": {
   "display_name": "Python 3 (ipykernel)",
   "language": "python",
   "name": "python3"
  },
  "language_info": {
   "codemirror_mode": {
    "name": "ipython",
    "version": 3
   },
   "file_extension": ".py",
   "mimetype": "text/x-python",
   "name": "python",
   "nbconvert_exporter": "python",
   "pygments_lexer": "ipython3",
   "version": "3.9.12"
  },
  "papermill": {
   "default_parameters": {},
   "duration": 35.215957,
   "end_time": "2021-04-15T16:23:46.494389",
   "environment_variables": {},
   "exception": null,
   "input_path": "__notebook__.ipynb",
   "output_path": "__notebook__.ipynb",
   "parameters": {},
   "start_time": "2021-04-15T16:23:11.278432",
   "version": "2.2.2"
  }
 },
 "nbformat": 4,
 "nbformat_minor": 4
}
