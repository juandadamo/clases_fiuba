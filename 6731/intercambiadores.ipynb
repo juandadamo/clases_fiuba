{
 "cells": [
  {
   "cell_type": "markdown",
   "metadata": {},
   "source": [
    "[Versión interactiva](https://mybinder.org/v2/git/https%3A%2F%2Fgithub.com%2Fjuandadamo%2Fclases_fiuba/HEAD?filepath=6731%2Fintercambiadores.ipynb)"
   ]
  },
  {
   "cell_type": "code",
   "execution_count": 1,
   "metadata": {
    "_cell_guid": "b1076dfc-b9ad-4769-8c92-a6c4dae69d19",
    "_uuid": "8f2839f25d086af736a60e9eeb907d3b93b6e0e5"
   },
   "outputs": [
    {
     "name": "stdout",
     "output_type": "stream",
     "text": [
      "Defaulting to user installation because normal site-packages is not writeable\n",
      "Requirement already satisfied: ht in /home/juan/.local/lib/python3.10/site-packages (1.0.1)\n",
      "Requirement already satisfied: numpy in /usr/local/lib/python3.10/dist-packages (1.26.4)\n",
      "Requirement already satisfied: matplotlib in /usr/lib/python3/dist-packages (3.5.1)\n",
      "Requirement already satisfied: scipy in /usr/local/lib/python3.10/dist-packages (1.13.0)\n",
      "Requirement already satisfied: fluids>=1.0.2 in /home/juan/.local/lib/python3.10/site-packages (from ht) (1.0.22)\n",
      "\u001b[33mDEPRECATION: flatbuffers 1.12.1-git20200711.33e2d80-dfsg1-0.6 has a non-standard version number. pip 24.1 will enforce this behaviour change. A possible replacement is to upgrade to a newer version of flatbuffers or contact the author to suggest that they release a version with a conforming version number. Discussion can be found at https://github.com/pypa/pip/issues/12063\u001b[0m\u001b[33m\n",
      "\u001b[0m\u001b[33mDEPRECATION: pdfminer-six -VERSION- has a non-standard version number. pip 24.1 will enforce this behaviour change. A possible replacement is to upgrade to a newer version of pdfminer-six or contact the author to suggest that they release a version with a conforming version number. Discussion can be found at https://github.com/pypa/pip/issues/12063\u001b[0m\u001b[33m\n",
      "\u001b[0m"
     ]
    }
   ],
   "source": [
    "!pip install ht numpy matplotlib scipy"
   ]
  },
  {
   "cell_type": "code",
   "execution_count": 36,
   "metadata": {
    "_cell_guid": "79c7e3d0-c299-4dcb-8224-4455121ee9b0",
    "_uuid": "d629ff2d2480ee46fbb7e2d37f6b5fab8052498a"
   },
   "outputs": [],
   "source": [
    "# Definimos el tipo de documento, \"matplotlib notebook\"\n",
    "# Importamos las librerías necesarias: numpy para los cálculos, \n",
    "# matplotlib para los gráficos.\n",
    "# como la función erfc no está incluida en numpy, debe importarse desde otra librería\n",
    "#%matplotlib notebook\n",
    "%matplotlib inline\n",
    "import ht as ht\n",
    "import numpy as np\n",
    "import matplotlib.pyplot as plt\n",
    "from scipy.special import erfc\n",
    "from IPython.display import Latex\n",
    "import matplotlib as mpl\n",
    "mpl.rcParams['xtick.labelsize'] = 14;\n",
    "mpl.rcParams['ytick.labelsize'] = 14;\n",
    "mpl.rcParams['font.family'] = 'serif';"
   ]
  },
  {
   "cell_type": "code",
   "execution_count": 37,
   "metadata": {},
   "outputs": [],
   "source": [
    "def deltaTx(x,Tc0,Tf0,UA,L,Cc,Cf):\n",
    "    return (Tc0-Tf0)*np.exp(-UA*(1/Cc-1/Cf)*x/L)"
   ]
  },
  {
   "cell_type": "markdown",
   "metadata": {},
   "source": [
    "# $$\\left(T_{C0}-T_{f0}\\right)~~ e^{-UA\\frac{x}{L}\\left(\\frac{1}{C_c}-\\frac{1}{C_f}\\right)}$$"
   ]
  },
  {
   "cell_type": "code",
   "execution_count": 38,
   "metadata": {},
   "outputs": [
    {
     "data": {
      "text/plain": [
       "0.7058823529411765"
      ]
     },
     "execution_count": 38,
     "metadata": {},
     "output_type": "execute_result"
    }
   ],
   "source": [
    "#Intercambiador Contracorriente\n",
    "\n",
    "Tfe = 5\n",
    "Tcs = 30\n",
    "Tce = 90\n",
    "\n",
    "L = 10\n",
    "xi = np.linspace(0,L,100)\n",
    "Cc,Cf = (100.,300)\n",
    "\n",
    "Qc = Cc*(Tce-Tcs)\n",
    "Qf = Qc\n",
    "\n",
    "Tfs = Tfe+Qf/Cf\n",
    "\n",
    "\n",
    "C1 = np.min((Cc,Cf))\n",
    "C2 = np.max((Cc,Cf))\n",
    "Cr = C1/C2\n",
    "Qmax = (Tce-Tfe)*C1\n",
    "epsilon = Qc/Qmax\n",
    "epsilon"
   ]
  },
  {
   "cell_type": "code",
   "execution_count": 40,
   "metadata": {},
   "outputs": [
    {
     "data": {
      "text/plain": [
       "2.124910008042162"
      ]
     },
     "execution_count": 40,
     "metadata": {},
     "output_type": "execute_result"
    }
   ],
   "source": [
    "ht.NTU_from_effectiveness(epsilon,Cr,  subtype='parallel')"
   ]
  },
  {
   "cell_type": "code",
   "execution_count": 43,
   "metadata": {},
   "outputs": [
    {
     "data": {
      "text/plain": [
       "143.32671675411547"
      ]
     },
     "execution_count": 43,
     "metadata": {},
     "output_type": "execute_result"
    }
   ],
   "source": [
    "UA "
   ]
  },
  {
   "cell_type": "code",
   "execution_count": 44,
   "metadata": {},
   "outputs": [],
   "source": [
    "Nut = ht.NTU_from_effectiveness(epsilon, Cr, subtype='counterflow')\n",
    "\n",
    "UA = C1 * Nut\n",
    "\n",
    "Tcx = np.copy(xi)  #funcion de temperaturas a lo largo de x\n",
    "Tcx[0] = Tce\n",
    "\n",
    "for i, xii in enumerate(xi[:-2]):\n",
    "    Tcx[i + 1] = Tcx[0] + np.trapz(\n",
    "        -UA / Cc / L * deltaTx(xi[:i + 1], Tce, Tfs, UA, L, Cc, Cf),\n",
    "        xi[:i + 1])\n",
    "Tcx[-1] = Tcs\n",
    "\n",
    "Tfx = np.copy(xi)\n",
    "Tfx[0] = Tfs\n",
    "for i, xii in enumerate(xi[:-2]):\n",
    "    Tfx[i + 1] = Tfx[0] + np.trapz(\n",
    "        -UA / Cf / L * deltaTx(xi[:i + 1], Tce, Tfs, UA, L, Cc, Cf),\n",
    "        xi[:i + 1])\n",
    "Tfx[-1] = Tfe"
   ]
  },
  {
   "cell_type": "code",
   "execution_count": 45,
   "metadata": {},
   "outputs": [
    {
     "data": {
      "image/png": "[encoded data removed]",
      "text/plain": [
       "<Figure size 500x500 with 1 Axes>"
      ]
     },
     "metadata": {},
     "output_type": "display_data"
    }
   ],
   "source": [
    "fig0, ax0 = plt.subplots(figsize=(5, 5))\n",
    "\n",
    "ax0.plot(xi, Tfx, label='$T_F$', linewidth=5)\n",
    "ax0.plot(xi, Tcx, label='$T_C$', linewidth=5)\n",
    "\n",
    "ax0.set_xlabel('$x$ [m]')\n",
    "ax0.set_ylabel('$T(x)$ [$^\\circ$ C]')\n",
    "ax0.grid('minor')\n",
    "ax0.legend()\n",
    "fig0.tight_layout()"
   ]
  },
  {
   "cell_type": "code",
   "execution_count": null,
   "metadata": {},
   "outputs": [],
   "source": []
  },
  {
   "cell_type": "code",
   "execution_count": null,
   "metadata": {},
   "outputs": [],
   "source": []
  },
  {
   "cell_type": "code",
   "execution_count": 46,
   "metadata": {},
   "outputs": [
    {
     "data": {
      "text/latex": [
       "$\\varepsilon=0.86$"
      ],
      "text/plain": [
       "<IPython.core.display.Latex object>"
      ]
     },
     "metadata": {},
     "output_type": "display_data"
    },
    {
     "data": {
      "text/latex": [
       "$Nut=2.00$"
      ],
      "text/plain": [
       "<IPython.core.display.Latex object>"
      ]
     },
     "metadata": {},
     "output_type": "display_data"
    }
   ],
   "source": [
    "#Intercambiador Casco y Tubos\n",
    "\n",
    "Tfe = 25\n",
    "Tcs = 30\n",
    "Tce = 61\n",
    "\n",
    "Cc,Cf = (100.,10300)\n",
    "\n",
    "Qc = Cc*(Tce-Tcs)\n",
    "Qf = Qc\n",
    "Tfs = Tfe+Qf/Cf\n",
    "\n",
    "\n",
    "C1 = np.min((Cc,Cf))\n",
    "C2 = np.max((Cc,Cf))\n",
    "Cr = C1/C2\n",
    "Qmax = (Tce-Tfe)*C1\n",
    "epsilon = Qc/Qmax\n",
    "Nut = ht.NTU_from_effectiveness(epsilon, Cr, subtype='1S&T')\n",
    "\n",
    "display(Latex(f'$\\\\varepsilon={epsilon:.2f}$'))\n",
    "display(Latex(f'$Nut={Nut:.2f}$'))"
   ]
  },
  {
   "cell_type": "code",
   "execution_count": 47,
   "metadata": {},
   "outputs": [],
   "source": [
    "\n",
    "UA = C1 * Nut\n",
    "\n",
    "Tcx = np.copy(xi)\n",
    "Tcx[0] = Tce\n",
    "for i, xii in enumerate(xi[:-2]):\n",
    "    Tcx[i + 1] = Tcx[0] + np.trapz(\n",
    "        -UA / Cc / L * deltaTx(xi[:i + 1], Tce, Tfs, UA, L, Cc, Cf),\n",
    "        xi[:i + 1])\n",
    "Tcx[-1] = Tcs\n",
    "\n",
    "Tfx = np.copy(xi)\n",
    "Tfx[0] = Tfs\n",
    "for i, xii in enumerate(xi[:-2]):\n",
    "    Tfx[i + 1] = Tfx[0] + np.trapz(\n",
    "        -UA / Cf / L * deltaTx(xi[:i + 1], Tce, Tfs, UA, L, Cc, Cf),\n",
    "        xi[:i + 1])\n",
    "Tfx[-1] = Tfe"
   ]
  },
  {
   "cell_type": "code",
   "execution_count": null,
   "metadata": {},
   "outputs": [],
   "source": []
  },
  {
   "cell_type": "code",
   "execution_count": 48,
   "metadata": {},
   "outputs": [
    {
     "data": {
      "image/png": "[encoded data removed]",
      "text/plain": [
       "<Figure size 500x500 with 1 Axes>"
      ]
     },
     "metadata": {},
     "output_type": "display_data"
    }
   ],
   "source": [
    "fig0, ax0 = plt.subplots(figsize=(5, 5))\n",
    "\n",
    "ax0.plot(xi, Tfx, label='$T_F$', linewidth=5)\n",
    "ax0.plot(xi, Tcx, label='$T_C$', linewidth=5)\n",
    "\n",
    "ax0.set_xlabel('$x$ [m]')\n",
    "ax0.set_ylabel('$T(x)$ [$^\\circ$ C]')\n",
    "ax0.grid('minor')\n",
    "ax0.legend()\n",
    "fig0.tight_layout()"
   ]
  },
  {
   "cell_type": "code",
   "execution_count": null,
   "metadata": {},
   "outputs": [],
   "source": []
  }
 ],
 "metadata": {
  "kernelspec": {
   "display_name": "Python 3 (ipykernel)",
   "language": "python",
   "name": "python3"
  },
  "language_info": {
   "codemirror_mode": {
    "name": "ipython",
    "version": 3
   },
   "file_extension": ".py",
   "mimetype": "text/x-python",
   "name": "python",
   "nbconvert_exporter": "python",
   "pygments_lexer": "ipython3",
   "version": "3.10.9"
  },
  "latex_envs": {
   "LaTeX_envs_menu_present": true,
   "autoclose": true,
   "autocomplete": true,
   "bibliofile": "biblio.bib",
   "cite_by": "apalike",
   "current_citInitial": 1,
   "eqLabelWithNumbers": true,
   "eqNumInitial": 1,
   "hotkeys": {
    "equation": "Ctrl-E",
    "itemize": "Ctrl-I"
   },
   "labels_anchors": false,
   "latex_user_defs": false,
   "report_style_numbering": false,
   "user_envs_cfg": false
  }
 },
 "nbformat": 4,
 "nbformat_minor": 4
}
