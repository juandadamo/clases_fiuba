{
 "cells": [
  {
   "cell_type": "code",
   "execution_count": 12,
   "metadata": {
    "_cell_guid": "b1076dfc-b9ad-4769-8c92-a6c4dae69d19",
    "_uuid": "8f2839f25d086af736a60e9eeb907d3b93b6e0e5"
   },
   "outputs": [
    {
     "name": "stdout",
     "output_type": "stream",
     "text": [
      "Requirement already satisfied: ht in /home/juan/.local/lib/python3.8/site-packages (0.1.55)\n",
      "Requirement already satisfied: numpy in /home/juan/.local/lib/python3.8/site-packages (1.19.3)\n",
      "Requirement already satisfied: matplotlib in /home/juan/.local/lib/python3.8/site-packages (3.3.2)\n",
      "Requirement already satisfied: scipy in /home/juan/.local/lib/python3.8/site-packages (1.5.0)\n",
      "Requirement already satisfied: fluids>=0.1.83 in /home/juan/.local/lib/python3.8/site-packages (from ht) (0.1.83)\n",
      "Requirement already satisfied: pillow>=6.2.0 in /home/juan/anaconda3/lib/python3.8/site-packages (from matplotlib) (8.2.0)\n",
      "Requirement already satisfied: python-dateutil>=2.1 in /home/juan/anaconda3/lib/python3.8/site-packages (from matplotlib) (2.8.1)\n",
      "Requirement already satisfied: cycler>=0.10 in /home/juan/.local/lib/python3.8/site-packages (from matplotlib) (0.10.0)\n",
      "Requirement already satisfied: pyparsing!=2.0.4,!=2.1.2,!=2.1.6,>=2.0.3 in /home/juan/anaconda3/lib/python3.8/site-packages (from matplotlib) (2.4.7)\n",
      "Requirement already satisfied: kiwisolver>=1.0.1 in /home/juan/.local/lib/python3.8/site-packages (from matplotlib) (1.2.0)\n",
      "Requirement already satisfied: certifi>=2020.06.20 in /home/juan/.local/lib/python3.8/site-packages (from matplotlib) (2020.6.20)\n",
      "Requirement already satisfied: six in /home/juan/anaconda3/lib/python3.8/site-packages (from cycler>=0.10->matplotlib) (1.15.0)\n"
     ]
    }
   ],
   "source": [
    "!pip install ht numpy matplotlib scipy"
   ]
  },
  {
   "cell_type": "code",
   "execution_count": 13,
   "metadata": {
    "_cell_guid": "79c7e3d0-c299-4dcb-8224-4455121ee9b0",
    "_uuid": "d629ff2d2480ee46fbb7e2d37f6b5fab8052498a"
   },
   "outputs": [],
   "source": [
    "# Definimos el tipo de documento, \"matplotlib notebook\"\n",
    "# Importamos las librerías necesarias: numpy para los cálculos, \n",
    "# matplotlib para los gráficos.\n",
    "# como la función erfc no está incluida en numpy, debe importarse desde otra librería\n",
    "#%matplotlib notebook\n",
    "%matplotlib inline\n",
    "import ht as ht\n",
    "import numpy as np\n",
    "import matplotlib.pyplot as plt\n",
    "from scipy.special import erfc\n",
    "\n",
    "import matplotlib as mpl\n",
    "mpl.rcParams['xtick.labelsize'] = 14;\n",
    "mpl.rcParams['ytick.labelsize'] = 14;\n",
    "mpl.rcParams['font.family'] = 'serif';"
   ]
  },
  {
   "cell_type": "code",
   "execution_count": 14,
   "metadata": {},
   "outputs": [],
   "source": [
    "def deltaTx(x,Tc0,Tf0,UA,L,Cc,Cf):\n",
    "    return (Tc0-Tf0)*np.exp(-UA*(1/Cc-1/Cf)*x/L)"
   ]
  },
  {
   "cell_type": "code",
   "execution_count": 15,
   "metadata": {},
   "outputs": [],
   "source": [
    "Tfe = 5\n",
    "Tcs = 30\n",
    "Tce = 90\n",
    "\n",
    "L = 10\n",
    "xi = np.linspace(0,L,100)\n",
    "Cc,Cf = (100.,300)\n",
    "\n",
    "Qc = Cc*(Tce-Tcs)\n",
    "Qf = Qc\n",
    "Tfs = Tfe+Qf/Cf\n",
    "\n",
    "\n",
    "C1 = np.min((Cc,Cf))\n",
    "C2 = np.max((Cc,Cf))\n",
    "Cr = C1/C2\n",
    "Qmax = (Tce-Tfe)*C1\n",
    "epsilon = Qc/Qmax\n"
   ]
  },
  {
   "cell_type": "code",
   "execution_count": 16,
   "metadata": {},
   "outputs": [],
   "source": [
    "Nut = ht.NTU_from_effectiveness(epsilon, Cr, subtype='counterflow')\n",
    "UA = C1 * Nut\n",
    "\n",
    "Tcx = np.copy(xi)\n",
    "Tcx[0] = Tce\n",
    "for i, xii in enumerate(xi[:-2]):\n",
    "    Tcx[i + 1] = Tcx[0] + np.trapz(\n",
    "        -UA / Cc / L * deltaTx(xi[:i + 1], Tce, Tfs, UA, L, Cc, Cf),\n",
    "        xi[:i + 1])\n",
    "Tcx[-1] = Tcs\n",
    "\n",
    "Tfx = np.copy(xi)\n",
    "Tfx[0] = Tfs\n",
    "for i, xii in enumerate(xi[:-2]):\n",
    "    Tfx[i + 1] = Tfx[0] + np.trapz(\n",
    "        -UA / Cf / L * deltaTx(xi[:i + 1], Tce, Tfs, UA, L, Cc, Cf),\n",
    "        xi[:i + 1])\n",
    "Tfx[-1] = Tfe"
   ]
  },
  {
   "cell_type": "code",
   "execution_count": 17,
   "metadata": {},
   "outputs": [
    {
     "data": {
      "image/png": "[encoded data removed]",
      "text/plain": [
       "<Figure size 360x360 with 1 Axes>"
      ]
     },
     "metadata": {
      "needs_background": "light"
     },
     "output_type": "display_data"
    }
   ],
   "source": [
    "fig0, ax0 = plt.subplots(figsize=(5, 5))\n",
    "\n",
    "ax0.plot(xi, Tfx, label='$T_F$', linewidth=5)\n",
    "ax0.plot(xi, Tcx, label='$T_C$', linewidth=5)\n",
    "\n",
    "ax0.set_xlabel('$x$ [m]')\n",
    "ax0.set_ylabel('$T(x)$ [$^\\circ$ C]')\n",
    "ax0.grid('minor')\n",
    "ax0.legend()\n",
    "fig0.tight_layout()"
   ]
  },
  {
   "cell_type": "code",
   "execution_count": null,
   "metadata": {},
   "outputs": [],
   "source": []
  },
  {
   "cell_type": "code",
   "execution_count": null,
   "metadata": {},
   "outputs": [],
   "source": []
  },
  {
   "cell_type": "code",
   "execution_count": null,
   "metadata": {},
   "outputs": [],
   "source": []
  }
 ],
 "metadata": {
  "kernelspec": {
   "display_name": "Python 3",
   "language": "python",
   "name": "python3"
  },
  "language_info": {
   "codemirror_mode": {
    "name": "ipython",
    "version": 3
   },
   "file_extension": ".py",
   "mimetype": "text/x-python",
   "name": "python",
   "nbconvert_exporter": "python",
   "pygments_lexer": "ipython3",
   "version": "3.8.8"
  },
  "latex_envs": {
   "LaTeX_envs_menu_present": true,
   "autoclose": true,
   "autocomplete": true,
   "bibliofile": "biblio.bib",
   "cite_by": "apalike",
   "current_citInitial": 1,
   "eqLabelWithNumbers": true,
   "eqNumInitial": 1,
   "hotkeys": {
    "equation": "Ctrl-E",
    "itemize": "Ctrl-I"
   },
   "labels_anchors": false,
   "latex_user_defs": false,
   "report_style_numbering": false,
   "user_envs_cfg": false
  }
 },
 "nbformat": 4,
 "nbformat_minor": 4
}
