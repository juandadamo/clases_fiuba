{
 "cells": [
  {
   "cell_type": "markdown",
   "metadata": {},
   "source": [
    "[Versión Interactiva]()"
   ]
  },
  {
   "cell_type": "code",
   "execution_count": 38,
   "metadata": {},
   "outputs": [
    {
     "name": "stdout",
     "output_type": "stream",
     "text": [
      "Requirement already satisfied: ht in /home/juan/.local/lib/python3.8/site-packages (0.1.55)\n",
      "Requirement already satisfied: CoolProp in /home/juan/.local/lib/python3.8/site-packages (6.4.1)\n",
      "Requirement already satisfied: matplotlib in /home/juan/.local/lib/python3.8/site-packages (3.3.2)\n",
      "Requirement already satisfied: numpy in /home/juan/.local/lib/python3.8/site-packages (1.19.3)\n",
      "Requirement already satisfied: scipy in /home/juan/.local/lib/python3.8/site-packages (1.5.0)\n",
      "Requirement already satisfied: fluids>=0.1.83 in /home/juan/.local/lib/python3.8/site-packages (from ht) (0.1.83)\n",
      "Requirement already satisfied: certifi>=2020.06.20 in /home/juan/.local/lib/python3.8/site-packages (from matplotlib) (2020.6.20)\n",
      "Requirement already satisfied: kiwisolver>=1.0.1 in /home/juan/.local/lib/python3.8/site-packages (from matplotlib) (1.2.0)\n",
      "Requirement already satisfied: python-dateutil>=2.1 in /home/juan/anaconda3/lib/python3.8/site-packages (from matplotlib) (2.8.1)\n",
      "Requirement already satisfied: pyparsing!=2.0.4,!=2.1.2,!=2.1.6,>=2.0.3 in /home/juan/anaconda3/lib/python3.8/site-packages (from matplotlib) (2.4.7)\n",
      "Requirement already satisfied: pillow>=6.2.0 in /home/juan/anaconda3/lib/python3.8/site-packages (from matplotlib) (8.2.0)\n",
      "Requirement already satisfied: cycler>=0.10 in /home/juan/.local/lib/python3.8/site-packages (from matplotlib) (0.10.0)\n",
      "Requirement already satisfied: six in /home/juan/anaconda3/lib/python3.8/site-packages (from cycler>=0.10->matplotlib) (1.15.0)\n"
     ]
    }
   ],
   "source": [
    "!pip install ht CoolProp matplotlib numpy scipy\n"
   ]
  },
  {
   "cell_type": "markdown",
   "metadata": {},
   "source": [
    "### Enunciado\n",
    "\n",
    "Calcular el flujo de calor para una placa cuadrada de 1 m de lado la cual condensa vapor a 6 kPa. Considere tres orientaciones posibles para la placa: (1) horizontal cara hacia abajo; (2) horizontal cara hacia arriba;\n",
    "(3) vertical (un sólo lado se encuentra activo).\n",
    "\n",
    "**(a)** Grafique el flujo de calor para cada orientación en función de la temperatura de la superficie de la placa.<br>\n",
    "**(b)** Decida cuál es la configuración que brinda la mayor velocidad de condensación por unidad de area superficial.<br>\n",
    "**(c)** Establezca las modificaciones que se producen si reducimos las dimensiones de la placa a 0.5 m por lado."
   ]
  },
  {
   "cell_type": "code",
   "execution_count": 39,
   "metadata": {},
   "outputs": [],
   "source": [
    "import numpy as np\n",
    "import CoolProp as cp\n",
    "import IPython.display as ipd\n",
    "from matplotlib import pyplot as plt\n",
    "\n",
    "# *********** Datos ***********\n",
    "g = 9.8\n",
    "P_sat = 6e3 # [Pa]\n",
    "T_sat = cp.CoolProp.PropsSI('T','P',P_sat,'Q',0,'Water')\n",
    "\n",
    "T_w = T_sat - 10.0 #temperatura de pared\n",
    "L = 1.0 #Largo\n",
    "W = 1.0 #ancho\n",
    "A = L * W   #Area"
   ]
  },
  {
   "cell_type": "code",
   "execution_count": 41,
   "metadata": {},
   "outputs": [
    {
     "name": "stdout",
     "output_type": "stream",
     "text": [
      "densidad agua 993.59, densidad vapor= 0.04\n",
      "viscosidad agua 7.07e-07, viscosidad vapor= 2.39e-04\n"
     ]
    }
   ],
   "source": [
    "#Propiedades de agua y vapor\n",
    "\n",
    "rho_a = cp.CoolProp.PropsSI('D','P',P_sat,'Q',0,'Water')\n",
    "k_a =  cp.CoolProp.PropsSI('L','P',P_sat,'Q',0,'Water')\n",
    "cp_a = cp.CoolProp.PropsSI('C','P',P_sat,'Q',0,'Water')\n",
    "mu_a = cp.CoolProp.PropsSI('V','P',P_sat,'Q',0,'Water')\n",
    "T_sat = cp.CoolProp.PropsSI('T','P',P_sat,'Q',0,'Water')\n",
    "sigma = cp.CoolProp.PropsSI('surface_tension','P',P_sat,'Q',0,'Water')\n",
    "nu_a = mu_a/rho_a\n",
    "\n",
    "rho_v = cp.CoolProp.PropsSI('D','P',P_sat,'Q',1,'Water')\n",
    "k_v =  cp.CoolProp.PropsSI('L','P',P_sat,'Q',1,'Water')\n",
    "cp_v = cp.CoolProp.PropsSI('C','P',P_sat,'Q',1,'Water')\n",
    "mu_v = cp.CoolProp.PropsSI('V','P',P_sat,'Q',1,'Water')\n",
    "nu_v = mu_v/rho_v\n",
    "\n",
    "H_a =   cp.CoolProp.PropsSI('H','P',P_sat,'Q',0,'Water')\n",
    "H_v = cp.CoolProp.PropsSI('H','P',P_sat,'Q',1,'Water')  \n",
    "Deltai_vap = H_v-H_a\n",
    "print('densidad agua %.2f, densidad vapor= %.2f'%(rho_a,rho_v))\n",
    "print('viscosidad agua %.2e, viscosidad vapor= %.2e'%(nu_a,nu_v))"
   ]
  },
  {
   "cell_type": "markdown",
   "metadata": {},
   "source": [
    "### Placa horizontal cara hacia abajo\n",
    "\n",
    "A fin de obtener el coeficiente de transferencia de calor para la condensación en película sobre una placa horizontal cara hacia abajo ($\\bar{h}_{ra}$), recurrimos a la correlación de Gerstmann y Griffith, 1967 (Ver Seccion 7.4.3 de <a name=\"ref-2\"/>[Nellis, 2008](#cite-nellis_klein_2008)):\n",
    "\n",
    "\\begin{equation}\n",
    "\\frac{\\bar{h}}{k_{l, s a t}} \\sqrt{\\frac{\\sigma}{\\left(\\rho_{l, s a t}-\\rho_{v, s a t}\\right) g}}=0.81 R a^{0.193}\\;\\;,\n",
    "\\;\\;\\;\\;\\;\\;1\\cdot10^{8}<Ra<1\\cdot10^{10}\n",
    "\\end{equation}\n",
    "\n",
    "donde\n",
    "\\begin{equation}\n",
    "R a=\\frac{g \\rho_{l, s a t}\\left(\\rho_{l, s a t}-\\rho_{v, s a t}\\right) \\Delta i_{v a p}}{\\mu_{l, s a t}\\left(T_{s a t}-T_{w}\\right)k_{l, s a t}}\\left[\\frac{\\sigma}{\\left(\\rho_{l, s a t}-\\rho_{v, s a t}\\right) g}\\right]^{3 / 2}\n",
    "\\end{equation}\n",
    "\n",
    "La velocidad de transferencia de calor está dada por la ley de enfriamiento de Newton:\n",
    "\n",
    "\\begin{equation}\n",
    "\\dot{q}_{ra}=A\\;\\bar{h}_{ra}\\left(T_{sat}-T_{w}\\right)\n",
    "\\end{equation}"
   ]
  },
  {
   "cell_type": "code",
   "execution_count": 42,
   "metadata": {},
   "outputs": [
    {
     "data": {
      "text/latex": [
       "$\\displaystyle \\textrm{Resultados a } T_{w} =    299\\;K:$"
      ],
      "text/plain": [
       "<IPython.core.display.Math object>"
      ]
     },
     "metadata": {},
     "output_type": "display_data"
    },
    {
     "data": {
      "text/latex": [
       "$\\displaystyle \\longrightarrow Ra = 1.0459e+08$"
      ],
      "text/plain": [
       "<IPython.core.display.Math object>"
      ]
     },
     "metadata": {},
     "output_type": "display_data"
    },
    {
     "data": {
      "text/latex": [
       "$\\displaystyle \\longrightarrow \\bar{h}_{ra} = 6632.0\\;W/m^{2}K$"
      ],
      "text/plain": [
       "<IPython.core.display.Math object>"
      ]
     },
     "metadata": {},
     "output_type": "display_data"
    },
    {
     "data": {
      "text/latex": [
       "$\\displaystyle \\longrightarrow \\dot{q}_{ra} = 66320.4\\;W$"
      ],
      "text/plain": [
       "<IPython.core.display.Math object>"
      ]
     },
     "metadata": {},
     "output_type": "display_data"
    }
   ],
   "source": [
    "# numero de Rayleigh \n",
    "Ra=(g*rho_lsat*(rho_a-rho_v)*Deltai_vap)/(mu_lsat*(T_sat-T_w)*k_a)*((sigma)/((rho_a-rho_v)*g))**(3/2)\n",
    "\n",
    "# longitud caracteristica\n",
    "Lc=np.sqrt(sigma/((rho_a-rho_v)*g))\n",
    "\n",
    "# coeficiente de transferencia\n",
    "h_ra=0.81*(Ra**0.193)*k_a/Lc\n",
    "\n",
    "# velocidad de transferencia\n",
    "q_ra=A*h_ra*(T_sat-T_w)\n",
    "\n",
    "# ****** Resultados ******\n",
    "objeto0 = ipd.Math(r'\\textrm{Resultados a } T_{w} = %s'%format(T_w,'6.0f')+'\\;K:')\n",
    "objeto1 = ipd.Math(r'\\longrightarrow Ra = %s'%format(Ra,'8.4e'))\n",
    "objeto2 = ipd.Math(r'\\longrightarrow \\bar{h}_{ra} = %s'%format(h_ra,'6.1f')+'\\;W/m^{2}K')\n",
    "objeto3 = ipd.Math(r'\\longrightarrow \\dot{q}_{ra} = %s'%format(q_ra,'6.1f')+'\\;W')\n",
    "ipd.display(objeto0,objeto1,objeto2,objeto3)"
   ]
  },
  {
   "cell_type": "markdown",
   "metadata": {},
   "source": [
    "### Placa horizontal cara hacia arriba\n",
    "\n",
    "A fin de obtener el coeficiente de transferencia de calor para la condensación en película sobre una placa horizontal cara hacia arriba ($\\bar{h}_{rb}$), recurrimos a la correlación de Nimmo y Leppert, 1970 (Ver Seccion 7.4.3 de <a name=\"ref-2\"/>[Nellis, 2008](#cite-nellis_klein_2008)):\n",
    "\n",
    "\\begin{equation}\n",
    "\\frac{\\bar{h} L}{k_{l, s a t}}=0.82\\left[\\frac{\\rho_{l, s a t}^{2} g \\Delta i_{v a p} L^{3}}{\\mu_{l, s a t}\\left(T_{s a t}-T_{w}\\right) k_{l, s a t}}\\right]^{1 / 5}\n",
    "\\end{equation}\n",
    "\n",
    "La velocidad de transferencia de calor está dada por la ley de enfriamiento de Newton:\n",
    "\n",
    "\\begin{equation}\n",
    "\\dot{q}_{rb}=A\\;\\bar{h}_{rb}\\left(T_{sat}-T_{w}\\right)\n",
    "\\end{equation}"
   ]
  },
  {
   "cell_type": "code",
   "execution_count": 43,
   "metadata": {},
   "outputs": [
    {
     "data": {
      "text/latex": [
       "$\\displaystyle \\textrm{Resultados a } T_{w} =    299\\;K:$"
      ],
      "text/plain": [
       "<IPython.core.display.Math object>"
      ]
     },
     "metadata": {},
     "output_type": "display_data"
    },
    {
     "data": {
      "text/latex": [
       "$\\displaystyle \\longrightarrow Nu = 1.1461e+03$"
      ],
      "text/plain": [
       "<IPython.core.display.Math object>"
      ]
     },
     "metadata": {},
     "output_type": "display_data"
    },
    {
     "data": {
      "text/latex": [
       "$\\displaystyle \\longrightarrow \\bar{h}_{rb} =  714.3\\;W/m^{2}K$"
      ],
      "text/plain": [
       "<IPython.core.display.Math object>"
      ]
     },
     "metadata": {},
     "output_type": "display_data"
    },
    {
     "data": {
      "text/latex": [
       "$\\displaystyle \\longrightarrow \\dot{q}_{rb} = 7143.4\\;W$"
      ],
      "text/plain": [
       "<IPython.core.display.Math object>"
      ]
     },
     "metadata": {},
     "output_type": "display_data"
    }
   ],
   "source": [
    "# numero de Nusselt \n",
    "Nu=0.82*((rho_a**2*g*Deltai_vap*L**3)/(mu_a*(T_sat-T_w)*k_a))**(1/5)\n",
    "\n",
    "# coeficiente de transferencia\n",
    "h_rb=Nu*k_a/L\n",
    "\n",
    "# velocidad de transferencia\n",
    "q_rb=A*h_rb*(T_sat-T_w)\n",
    "\n",
    "# ****** Resultados ******\n",
    "objeto0 = ipd.Math(r'\\textrm{Resultados a } T_{w} = %s'%format(T_w,'6.0f')+'\\;K:')\n",
    "objeto1 = ipd.Math(r'\\longrightarrow Nu = %s'%format(Nu,'8.4e'))\n",
    "objeto2 = ipd.Math(r'\\longrightarrow \\bar{h}_{rb} = %s'%format(h_rb,'6.1f')+'\\;W/m^{2}K')\n",
    "objeto3 = ipd.Math(r'\\longrightarrow \\dot{q}_{rb} = %s'%format(q_rb,'6.1f')+'\\;W')\n",
    "ipd.display(objeto0,objeto1,objeto2,objeto3)"
   ]
  },
  {
   "cell_type": "markdown",
   "metadata": {},
   "source": [
    "### Placa vertical\n",
    "\n",
    "A fin de obtener el coeficiente de transferencia de calor para la condensación en película sobre una placa vertical ($\\bar{h}_{v}$), recurrimos a la correlación de Butterworth, 1981 (Ver Seccion 7.4.3 de <a name=\"ref-2\"/>[Nellis, 2008](#cite-nellis_klein_2008)):\n",
    "\n",
    "\\begin{equation}\n",
    "\\frac{\\bar{h}}{k_{l, s a t}}\\left[\\frac{\\mu_{l, s a t}^{2}}{\\rho_{l, s a t}\\left(\\rho_{l, s a t}-\\rho_{v, s a t}\\right) g}\\right]^{1 / 3}=\\frac{R e_{c}}{1.08 R e_{c}^{1.22}-5.2}\\;\\;,\n",
    "\\;\\;\\;\\;\\;\\;30<Re_{c}<1600\n",
    "\\end{equation}\n",
    "\n",
    "donde el número de Reynolds para la película de condensado, $Re_{c}$, se define en base a la velocidad media del líquido en la película ($u_m$) y al diámetro hidráulico asociado al flujo a través de la película ($D_h$). Se tiene:\n",
    "\n",
    "\\begin{equation}\n",
    "\\dot{m}_{c}=\\rho_{l,sat}\\;u_{m}W\\delta\n",
    "\\end{equation}\n",
    "\n",
    "\\begin{equation}\n",
    "D_{h}=\\frac{4 A_{c}}{p e r}=\\frac{4 W \\delta}{2 W}=2 \\delta\n",
    "\\end{equation}\n",
    "\n",
    "donde $\\dot{m}_{c}$ es el caudal másico de líquido condensado y $\\delta$ el espesor de película. Entonces:\n",
    "\n",
    "\\begin{equation}\n",
    "R e_{c}=\\frac{\\rho_{l, s a t}\\;u_{m} D_{h}}{\\mu_{l, s a t}}=\\frac{2 \\dot{m}_{c}}{W \\mu_{l, s a t}}\n",
    "\\end{equation}\n",
    "\n",
    "La velocidad de transferencia de calor está dada por la ley de enfriamiento de Newton:\n",
    "\n",
    "\\begin{equation}\n",
    "\\dot{q}_{v}=A\\;\\bar{h}_{v}\\left(T_{sat}-T_{w}\\right)\n",
    "\\end{equation}\n",
    "\n",
    "### Procedimiento de cálculo\n",
    "\n",
    "El caudal de condensado $\\dot{m}_{c}$ usualmente no se especifica por lo cual debe calcularse. Esto conduce a un proceso iterativo a fin de obtener el número de Reynolds y el coeficiente de transferencia.\n",
    "En el estado estacionario, existe un balance entre la velocidad a la cual el elemento calentador produce vapor y la velocidad a la cual se produce condensado en la placa. \n",
    "Como punto de partida, suponemos un número de Reynolds y calculamos el coeficiente $\\bar{h}_{v}$ y la velocidad de transferencia $\\dot{q}_{v}$. Teniendo en cuenta que el caudal másico de vapor está dado por:\n",
    "\\begin{equation}\n",
    "\\dot{m}_{v}=\\frac{\\dot{q}_{v}}{\\Delta i_{vap}}\n",
    "\\end{equation} \n",
    "\n",
    "ajustamos el número de Reynolds de forma tal de satisfacer el balance $\\dot{m}_{c}=\\dot{m}_{v}$."
   ]
  },
  {
   "cell_type": "code",
   "execution_count": 44,
   "metadata": {},
   "outputs": [
    {
     "data": {
      "text/latex": [
       "$\\displaystyle \\textrm{Resultados a } T_{w} =    299\\;K:$"
      ],
      "text/plain": [
       "<IPython.core.display.Math object>"
      ]
     },
     "metadata": {},
     "output_type": "display_data"
    },
    {
     "data": {
      "text/latex": [
       "$\\displaystyle \\longrightarrow Re_{c} =  73.17$"
      ],
      "text/plain": [
       "<IPython.core.display.Math object>"
      ]
     },
     "metadata": {},
     "output_type": "display_data"
    },
    {
     "data": {
      "text/latex": [
       "$\\displaystyle \\longrightarrow \\bar{h}_{v} = 6209.6\\;W/m^{2}K$"
      ],
      "text/plain": [
       "<IPython.core.display.Math object>"
      ]
     },
     "metadata": {},
     "output_type": "display_data"
    },
    {
     "data": {
      "text/latex": [
       "$\\displaystyle \\longrightarrow \\dot{q}_{v} = 62095.6\\;W$"
      ],
      "text/plain": [
       "<IPython.core.display.Math object>"
      ]
     },
     "metadata": {},
     "output_type": "display_data"
    },
    {
     "data": {
      "image/png": "[encoded data removed]",
      "text/plain": [
       "<Figure size 720x432 with 1 Axes>"
      ]
     },
     "metadata": {
      "needs_background": "light"
     },
     "output_type": "display_data"
    }
   ],
   "source": [
    "# longitud caracteristica\n",
    "Lc = ((mu_a**2) / (rho_a * (rho_a - rho_v) * g))**(1 / 3)\n",
    "\n",
    "# ********* Proceso iterativo *********\n",
    "Re_out = 100.0\n",
    "TOL = 0.1\n",
    "error = 100.0\n",
    "niter = 0\n",
    "iterv = np.array([]).astype(int)\n",
    "errorv = np.array([])\n",
    "\n",
    "while error > TOL:\n",
    "    Re = Re_out\n",
    "\n",
    "    Nu = Re / (1.08 * (Re**1.22) - 5.2)  # numero de Nusselt\n",
    "    h_v = Nu * k_a / Lc  # coeficiente de transferencia\n",
    "    q_v = A * h_v * (T_sat - T_w)  # velocidad de transferencia\n",
    "    mv = q_v / Deltai_vap  # caudal masico de vapor\n",
    "    mc = mv  # caudal masico de condensado\n",
    "    Re_out = 2 * mc / (W * mu_a)  # numero de Reynolds\n",
    "\n",
    "    error = np.abs(Re - Re_out) / Re_out * 100\n",
    "    niter = niter + 1\n",
    "    errorv = np.append(errorv, error)\n",
    "    iterv = np.append(iterv, niter)\n",
    "\n",
    "# ********* Grafica error *********\n",
    "plt.figure(figsize=(10, 6))\n",
    "plt.plot(iterv,\n",
    "         errorv,\n",
    "         color='g',\n",
    "         marker='d',\n",
    "         markersize=8,\n",
    "         linestyle='-',\n",
    "         linewidth=2)\n",
    "plt.xlabel('iteración', fontsize=20, color='k')\n",
    "plt.ylabel('error (%)', fontsize=20, color='k')\n",
    "plt.title('Procedimiento de cálculo, Placa vertical', fontsize=20)\n",
    "plt.grid(b=True, which='major')\n",
    "plt.grid(b=True, which='minor')\n",
    "\n",
    "# ****** Resultados ******\n",
    "objeto0 = ipd.Math(r'\\textrm{Resultados a } T_{w} = %s' % format(T_w, '6.0f') +\n",
    "                   '\\;K:')\n",
    "objeto1 = ipd.Math(r'\\longrightarrow Re_{c} = %s' % format(Re_out, '6.2f'))\n",
    "objeto2 = ipd.Math(r'\\longrightarrow \\bar{h}_{v} = %s' % format(h_v, '6.1f') +\n",
    "                   '\\;W/m^{2}K')\n",
    "objeto3 = ipd.Math(r'\\longrightarrow \\dot{q}_{v} = %s' % format(q_v, '6.1f') +\n",
    "                   '\\;W')\n",
    "ipd.display(objeto0, objeto1, objeto2, objeto3)"
   ]
  },
  {
   "cell_type": "markdown",
   "metadata": {},
   "source": [
    "## Efecto causado por cambios en la temperatura de pared\n",
    "\n",
    "A continuación, procuramos construir las funciones $\\dot{q}_{ra}=f_{a}(T_{w})$, $\\dot{q}_{rb}=f_{b}(T_{w})$ variando la temperatura de la superficie en el rango $[T_{sat}-10,T_{sat})$."
   ]
  },
  {
   "cell_type": "code",
   "execution_count": 49,
   "metadata": {},
   "outputs": [
    {
     "data": {
      "image/png": "[encoded data removed]",
      "text/plain": [
       "<Figure size 288x288 with 1 Axes>"
      ]
     },
     "metadata": {
      "needs_background": "light"
     },
     "output_type": "display_data"
    }
   ],
   "source": [
    "def condensate():\n",
    "\n",
    "    # Placa horizontal cara hacia abajo\n",
    "    Ra = (g * rho_lsat * (rho_a - rho_v) *\n",
    "          Deltai_vap) / (mu_a * (T_sat - T_w) * k_a) * ((sigma) / (\n",
    "              (rho_a - rho_v) * g))**(3 / 2)\n",
    "    Lc = np.sqrt(sigma / ((rho_a - rho_v) * g))\n",
    "    h_ra = 0.81 * (Ra**0.193) * k_a / Lc\n",
    "    q_ra = A * h_ra * (T_sat - T_w)\n",
    "\n",
    "    # Placa horizontal cara hacia arriba\n",
    "    Nu = 0.82 * ((rho_a**2 * g * Deltai_vap * L**3) /\n",
    "                 (mu_a * (T_sat - T_w) * k_a))**(1 / 5)\n",
    "    h_rb = Nu * k_a / L\n",
    "    q_rb = A * h_rb * (T_sat - T_w)\n",
    "\n",
    "    return q_ra, q_rb\n",
    "\n",
    "\n",
    "q_ra_v = []\n",
    "q_rb_v = []\n",
    "Twini = T_sat - 10\n",
    "Twfin = T_sat\n",
    "dTw = 0.1\n",
    "temps = np.arange(Twini, Twfin, dTw)\n",
    "\n",
    "for T_w in temps:  # [K]\n",
    "    [q_ra, q_rb] = condensate()\n",
    "    q_ra_v.append(q_ra)\n",
    "    q_rb_v.append(q_rb)\n",
    "\n",
    "# ********* GRAFICA *********\n",
    "plt.figure(figsize=(4, 4))\n",
    "plt.plot(temps, q_ra_v, 'r-', lw=3, label='cara abajo')\n",
    "plt.plot(temps, q_rb_v, 'b-', lw=3, label='cara arriba')\n",
    "plt.ylabel('flujo de calor [$W$]', color='k')\n",
    "plt.xlabel('temperatura de pared [$K$]', color='k')\n",
    "plt.tick_params(axis='both', which='major')\n",
    "plt.grid(b=True, which='major')\n",
    "plt.title('Efecto de cambios en la temperatura de pared, placa horizontal'         )\n",
    "plt.legend();"
   ]
  },
  {
   "cell_type": "markdown",
   "metadata": {},
   "source": [
    "<div class=\"alert alert-block alert-warning\">\n",
    "<h2>Respuesta (b)</h2>       \n",
    "\n",
    "La placa horizontal cara abajo resulta la configuración que brinda la mayor velocidad de condensación. El mejor desempeño se logra en aquella configuración para la cual la gravedad contribuye en mayor parte al drenaje del condensado.\n",
    "</div>"
   ]
  },
  {
   "cell_type": "markdown",
   "metadata": {},
   "source": [
    "## Efecto causado al reducir las dimensiones de la placa\n",
    "\n",
    "Finalmente, procuramos evaluar cómo se modifican las funciones $\\dot{q}_{ra}=f_{a}(T_{w})$, $\\dot{q}_{rb}=f_{b}(T_{w})$ al reducir las dimensiones de la placa a 0.5 m por lado."
   ]
  },
  {
   "cell_type": "code",
   "execution_count": 51,
   "metadata": {
    "scrolled": true
   },
   "outputs": [
    {
     "data": {
      "image/png": "[encoded data removed]",
      "text/plain": [
       "<Figure size 288x288 with 1 Axes>"
      ]
     },
     "metadata": {
      "needs_background": "light"
     },
     "output_type": "display_data"
    }
   ],
   "source": [
    "# Geometria de la nueva configuracion\n",
    "L = L / 2\n",
    "W = W / 2\n",
    "A = L * W\n",
    "\n",
    "# Funciones resultado de la nueva configuracion\n",
    "q_ra_v1 = []\n",
    "q_rb_v1 = []\n",
    "\n",
    "for T_w in temps:  # [K]\n",
    "    [q_ra, q_rb] = condensate()\n",
    "    q_ra_v1.append(q_ra)\n",
    "    q_rb_v1.append(q_rb)\n",
    "\n",
    "# ********* GRAFICA *********\n",
    "plt.figure(figsize=(4, 4))\n",
    "plt.plot(temps, q_ra_v, 'r-', lw=3, label='cara abajo, L=W=1m')\n",
    "plt.plot(temps, q_rb_v, 'b-', lw=3, label='cara arriba, L=W=1m')\n",
    "plt.plot(temps, q_ra_v1, 'r--', lw=3, label='cara abajo, L=W=0.5m')\n",
    "plt.plot(temps, q_rb_v1, 'b--', lw=3, label='cara arriba, L=W=0.5m')\n",
    "plt.ylabel('flujo de calor [$W$]',  color='k')\n",
    "plt.xlabel('temperatura de pared [$K$]', color='k')\n",
    "plt.tick_params(axis='both', which='major')\n",
    "plt.grid(b=True, which='major')\n",
    "plt.title('Efecto de cambios en las dimensiones de la placa horizontal')\n",
    "plt.legend();"
   ]
  },
  {
   "cell_type": "markdown",
   "metadata": {},
   "source": [
    "<!--bibtex\n",
    "\n",
    "@book{incropera2007fundamentals,\n",
    "  title={Fundamentals of heat and mass transfer},\n",
    "  author={Incropera, Frank P and Lavine, Adrienne S and Bergman, Theodore L and DeWitt, David P},\n",
    "  year={2007},\n",
    "  publisher={Wiley}\n",
    "}\n",
    "\n",
    "@book{nellis_klein_2008, place={Cambridge}, title={Heat Transfer}, DOI={10.1017/CBO9780511841606}, publisher={Cambridge University Press}, author={Nellis, Gregory and Klein, Sanford}, year={2008}}\n",
    "\n",
    "... Other Bibtex entries go here.\n",
    "\n",
    "-->"
   ]
  }
 ],
 "metadata": {
  "anaconda-cloud": {},
  "kernelspec": {
   "display_name": "Python 3",
   "language": "python",
   "name": "python3"
  },
  "language_info": {
   "codemirror_mode": {
    "name": "ipython",
    "version": 3
   },
   "file_extension": ".py",
   "mimetype": "text/x-python",
   "name": "python",
   "nbconvert_exporter": "python",
   "pygments_lexer": "ipython3",
   "version": "3.8.8"
  },
  "latex_envs": {
   "LaTeX_envs_menu_present": true,
   "autoclose": false,
   "autocomplete": true,
   "bibliofile": "biblio.bib",
   "cite_by": "apalike",
   "current_citInitial": 1,
   "eqLabelWithNumbers": true,
   "eqNumInitial": 1,
   "hotkeys": {
    "equation": "Ctrl-E",
    "itemize": "Ctrl-I"
   },
   "labels_anchors": false,
   "latex_user_defs": false,
   "report_style_numbering": false,
   "user_envs_cfg": false
  }
 },
 "nbformat": 4,
 "nbformat_minor": 1
}
