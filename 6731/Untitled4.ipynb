{
 "cells": [
  {
   "attachments": {},
   "cell_type": "markdown",
   "id": "965b4708",
   "metadata": {},
   "source": [
    "## Barco de Ponyo\n",
    "\n",
    "William Purcell (1920)\n",
    "![image](https://upload.wikimedia.org/wikipedia/commons/4/40/Purcellpoppop.jpg?1631121454272)\n",
    "\n",
    "https://upload.wikimedia.org/wikipedia/commons/f/f6/Jonespoppop.JPG Paul Jones (1934))"
   ]
  },
  {
   "cell_type": "code",
   "execution_count": null,
   "id": "e6c0f3a4",
   "metadata": {},
   "outputs": [],
   "source": []
  }
 ],
 "metadata": {
  "kernelspec": {
   "display_name": "Python 3",
   "language": "python",
   "name": "python3"
  },
  "language_info": {
   "codemirror_mode": {
    "name": "ipython",
    "version": 3
   },
   "file_extension": ".py",
   "mimetype": "text/x-python",
   "name": "python",
   "nbconvert_exporter": "python",
   "pygments_lexer": "ipython3",
   "version": "3.8.8"
  },
  "latex_envs": {
   "LaTeX_envs_menu_present": true,
   "autoclose": true,
   "autocomplete": true,
   "bibliofile": "biblio.bib",
   "cite_by": "apalike",
   "current_citInitial": 1,
   "eqLabelWithNumbers": true,
   "eqNumInitial": 1,
   "hotkeys": {
    "equation": "Ctrl-E",
    "itemize": "Ctrl-I"
   },
   "labels_anchors": false,
   "latex_user_defs": false,
   "report_style_numbering": false,
   "user_envs_cfg": false
  }
 },
 "nbformat": 4,
 "nbformat_minor": 5
}
