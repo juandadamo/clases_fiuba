{
 "cells": [
  {
   "cell_type": "markdown",
   "id": "6e38769f-2fdf-43cc-b064-06ab7f239922",
   "metadata": {},
   "source": [
    "Un intercambiador de flujo cruzado consta de 40 tubos de 10 mm de\n",
    "diámetro externo, y 1 mm de espesor de pared, ubicados en un ducto con\n",
    "sección transversal de 1 m × 1 m. No se tienen aletas sujetas a los tubos, a\n",
    "los que entra agua frı́a a 18 ◦ C con una velocidad promedio de 3 m/s (en un\n",
    "solo paso), en tanto que al canal entra aire caliente a 130 ◦ C, a una velocidad\n",
    "promedio de 12m/s. Si el coeficiente de transferencia de calor total referido\n",
    "a la superficie interna de los tubos es de 130 W/m2 °C.\n",
    "a. Determine las temperaturas de salida de los dos fluidos.\n",
    "b. El calor intercambiado.\n",
    "c. La eficiencia del intercambiador.\n",
    "d. A partir de considerar el circuito eléctrico equivalente, se pide escribir\n",
    "la expresión que permitirı́a calcular el coeficiente global de transmisión,\n",
    "e. si se conocieran cada uno de los aspectos térmicos del equipo (No se\n",
    "requiere hacer ningún cálculo).\n",
    "f. En búsqueda de mejorar el desempeño del equipo, se propone agregar\n",
    "aletas a la superficie externa. Se pide:\n",
    "i) ¿Cuál es la resistencia térmica que afecta la nueva configuración?\n",
    "¿Aumenta o la disminuye?\n",
    "ii) Asumiendo que se conocen todos los parámetros geométricos de\n",
    "la nueva configuración, reescribir la expresión del punto d, que\n",
    "contemple el aletado.\n",
    "Tomar para el agua: Cp = 4180 J/kg◦ C – ρ = 1000 kg/m3 , y para el aire:\n",
    "Cp = 1010 J/kg◦ C – ρ = 1 kg/m3"
   ]
  },
  {
   "cell_type": "code",
   "execution_count": 3,
   "id": "02815ea6-5ae7-4173-8ec6-069d168de05f",
   "metadata": {},
   "outputs": [
    {
     "name": "stdout",
     "output_type": "stream",
     "text": [
      "Flujo másico de agua: 6.03 kg/s\n",
      "Flujo másico de aire: 11.04 kg/s\n",
      "Área total interna de los tubos: 1.0053 m^2\n"
     ]
    }
   ],
   "source": [
    "# Importar bibliotecas necesarias\n",
    "from IPython.display import Latex\n",
    "import numpy as np\n",
    "import matplotlib.pyplot as plt\n",
    "import ht\n",
    "#from ht.conv import overall_heat_transfer_coefficient\n",
    "from CoolProp.CoolProp import PropsSI\n",
    "\n",
    "# Datos del problema\n",
    "\n",
    "# Propiedades del agua (fluido frío)\n",
    "cp_agua = 4180  # Capacidad calorífica específica [J/kg·°C]\n",
    "rho_agua = 1000  # Densidad [kg/m^3]\n",
    "T_in_agua = 18  # Temperatura de entrada del agua [°C]\n",
    "v_agua = 3  # Velocidad promedio del agua [m/s]\n",
    "\n",
    "# Propiedades del aire (fluido caliente)\n",
    "cp_aire = 1010  # Capacidad calorífica específica [J/kg·°C]\n",
    "rho_aire = 1  # Densidad [kg/m^3]\n",
    "T_in_aire = 130  # Temperatura de entrada del aire [°C]\n",
    "v_aire = 12  # Velocidad promedio del aire [m/s]\n",
    "\n",
    "# Geometría del intercambiador\n",
    "Lt = 1  # largo de tubos dentro del intercambiador de flujo cruzado\n",
    "d_ext = 10e-3  # Diámetro externo de los tubos [m]\n",
    "espesor_pared = 1e-3  # Espesor de la pared de los tubos [m]\n",
    "d_int = d_ext - 2 * espesor_pared  # Diámetro interno de los tubos [m]\n",
    "n_tubos = 40  # Número de tubos\n",
    "area_transversal = 1  # Área de la sección transversal del ducto [m^2]\n",
    "area_tubos_transversal = d_ext*8\n",
    "area_pasaje_aire = area_transversal - area_tubos_transversal\n",
    "h_total = 3000  # Coeficiente de transferencia de calor total [W/m^2·°C]\n",
    "\n",
    "# Cálculo de áreas\n",
    "area_pasaje_agua  = np.pi*d_int**2/4 * n_tubos\n",
    "area_superficie_tubo = np.pi * d_int * Lt  # Área interna de un tubo por unidad de longitud [m^2/m]\n",
    "area_total_tubos = n_tubos * area_superficie_tubo  # Área total interna de los tubos [m^2]\n",
    "\n",
    "# Flujo másico (masa = densidad * volumen)\n",
    "m_dot_agua = rho_agua * (v_agua * area_pasaje_agua)  # Flujo másico de agua [kg/s]\n",
    "m_dot_aire = rho_aire * (v_aire * area_pasaje_aire)  # Flujo másico de aire [kg/s]\n",
    "\n",
    "# Imprimir valores iniciales para verificar\n",
    "print(f\"Flujo másico de agua: {m_dot_agua:.2f} kg/s\")\n",
    "print(f\"Flujo másico de aire: {m_dot_aire:.2f} kg/s\")\n",
    "print(f\"Área total interna de los tubos: {area_total_tubos:.4f} m^2\")\n",
    "\n",
    "# Placeholder para cálculo de temperaturas de salida\n",
    "# Esto se resolverá iterativamente usando balances de energía y ecuaciones de transferencia de calor\n",
    "T_out_agua = None  # A determinar\n",
    "T_out_aire = None  # A determinar\n",
    "\n",
    "# Graficar coeficientes de transferencia de calor o comportamiento del sistema (ejemplo básico)\n",
    "\n",
    "\n",
    "# Próximos pasos:\n",
    "# - Calcular las temperaturas de salida usando balances de energía\n",
    "# - Determinar el calor intercambiado\n",
    "# - Implementar eficiencia del intercambiador y coeficientes globales\n"
   ]
  },
  {
   "cell_type": "code",
   "execution_count": 4,
   "id": "df141e52-5e1d-4885-ab5d-ad59cdd3da3d",
   "metadata": {},
   "outputs": [
    {
     "data": {
      "text/plain": [
       "0.0020106192982974674"
      ]
     },
     "execution_count": 4,
     "metadata": {},
     "output_type": "execute_result"
    }
   ],
   "source": [
    "area_pasaje_agua"
   ]
  },
  {
   "cell_type": "code",
   "execution_count": 7,
   "id": "05cc0db3-3d9d-486b-95c8-763649e51cd3",
   "metadata": {},
   "outputs": [
    {
     "data": {
      "text/plain": [
       "0.92"
      ]
     },
     "execution_count": 7,
     "metadata": {},
     "output_type": "execute_result"
    }
   ],
   "source": [
    "area_pasaje_aire"
   ]
  },
  {
   "cell_type": "code",
   "execution_count": 8,
   "id": "b2839155-ccdd-40c6-a8ae-a0ba74802b61",
   "metadata": {},
   "outputs": [
    {
     "data": {
      "text/latex": [
       "$C_r=0.44$"
      ],
      "text/plain": [
       "<IPython.core.display.Latex object>"
      ]
     },
     "metadata": {},
     "output_type": "display_data"
    }
   ],
   "source": [
    "Cmax = cp_agua*m_dot_agua\n",
    "Cmin = cp_aire*m_dot_aire\n",
    "Cr = Cmin/Cmax\n",
    "\n",
    "display (Latex(f'$C_r={Cr:.2f}$'))"
   ]
  },
  {
   "cell_type": "code",
   "execution_count": 9,
   "id": "f555bf8f-c600-45a6-841e-2c8bfad8219b",
   "metadata": {},
   "outputs": [
    {
     "data": {
      "text/latex": [
       "$UA=3015.9$ w/K$"
      ],
      "text/plain": [
       "<IPython.core.display.Latex object>"
      ]
     },
     "metadata": {},
     "output_type": "display_data"
    }
   ],
   "source": [
    "Lt = 1\n",
    "\n",
    "Ai = np.pi*d_int*Lt*n_tubos\n",
    "Ui = h_total\n",
    "display(Latex(f'$UA={Ui*Ai:.1f}$ w/K$'))"
   ]
  },
  {
   "cell_type": "code",
   "execution_count": 10,
   "id": "7ff4e8ad-2291-455e-8889-7a5093f00a71",
   "metadata": {},
   "outputs": [],
   "source": [
    "Nut = Ui*Ai/Cmin"
   ]
  },
  {
   "cell_type": "code",
   "execution_count": 11,
   "id": "ce41adaa-f622-47a0-92c3-5a26874afc9e",
   "metadata": {},
   "outputs": [
    {
     "data": {
      "text/plain": [
       "0.22597332190738867"
      ]
     },
     "execution_count": 11,
     "metadata": {},
     "output_type": "execute_result"
    }
   ],
   "source": [
    "ht.effectiveness_from_NTU(Nut,Cr)"
   ]
  },
  {
   "cell_type": "code",
   "execution_count": 12,
   "id": "07ac1c0c-0c85-471f-8d68-28c99c0e4207",
   "metadata": {},
   "outputs": [
    {
     "data": {
      "text/plain": [
       "0.2704771978983894"
      ]
     },
     "execution_count": 12,
     "metadata": {},
     "output_type": "execute_result"
    }
   ],
   "source": [
    "Nut"
   ]
  },
  {
   "cell_type": "code",
   "execution_count": null,
   "id": "64877822-a06f-4e87-8d17-5ce332a794af",
   "metadata": {},
   "outputs": [],
   "source": []
  }
 ],
 "metadata": {
  "kernelspec": {
   "display_name": "Python 3 (ipykernel)",
   "language": "python",
   "name": "python3"
  },
  "language_info": {
   "codemirror_mode": {
    "name": "ipython",
    "version": 3
   },
   "file_extension": ".py",
   "mimetype": "text/x-python",
   "name": "python",
   "nbconvert_exporter": "python",
   "pygments_lexer": "ipython3",
   "version": "3.10.9"
  }
 },
 "nbformat": 4,
 "nbformat_minor": 5
}
