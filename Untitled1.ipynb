{
 "cells": [
  {
   "cell_type": "code",
   "execution_count": 1,
   "id": "651ea5d6-386c-4234-8300-1102f3fe94f4",
   "metadata": {},
   "outputs": [
    {
     "data": {
      "text/latex": [
       "$\\displaystyle \\left(\\mathbf{{theta}_{c}} \\mathbf{{z}_{c}}\\right)\\mathbf{\\hat{i}_{c}} + \\left(\\mathbf{{z}_{c}}\\right)\\mathbf{\\hat{j}_{c}} + \\left(\\mathbf{{r}_{c}} \\mathbf{{theta}_{c}}\\right)\\mathbf{\\hat{k}_{c}}$"
      ],
      "text/plain": [
       "c.theta*c.z*c.i + c.z*c.j + c.r*c.theta*c.k"
      ]
     },
     "execution_count": 1,
     "metadata": {},
     "output_type": "execute_result"
    }
   ],
   "source": [
    "\n",
    "import sympy as sp\n",
    "from sympy.vector import *\n",
    "C = CoordSys3D('C')\n",
    "delop = Del()\n",
    "vel = C.i + C.j + C.k\n",
    "scalar_field = C.x*C.y*C.z\n",
    "vector_field = C.x*C.y*C.z*C.i\n",
    "(vel.dot(delop))(scalar_field)\n",
    "C.x*C.y + C.x*C.z + C.y*C.z\n",
    "(vel & delop)(vector_field)\n",
    "(C.x*C.y + C.x*C.z + C.y*C.z)*C.i\n",
    "c = CoordSys3D('c', transformation='cylindrical', variable_names=(\"r\", \"theta\", \"z\"))\n",
    "gradient(c.r*c.theta*c.z)\n",
    "c.theta*c.z*c.i + c.z*c.j + c.r*c.theta*c.k"
   ]
  },
  {
   "cell_type": "code",
   "execution_count": 2,
   "id": "adb71d33-17ab-48e5-8c22-768f23d4e3e1",
   "metadata": {},
   "outputs": [
    {
     "data": {
      "text/latex": [
       "$\\displaystyle \\left(\\mathbf{{x}_{C}} \\mathbf{{y}_{C}} \\mathbf{{z}_{C}}\\right)\\mathbf{\\hat{i}_{C}}$"
      ],
      "text/plain": [
       "C.x*C.y*C.z*C.i"
      ]
     },
     "execution_count": 2,
     "metadata": {},
     "output_type": "execute_result"
    }
   ],
   "source": [
    "vector_field"
   ]
  },
  {
   "cell_type": "code",
   "execution_count": 3,
   "id": "4d4f10d3-c7ae-40d4-ab07-be19d8534dd4",
   "metadata": {},
   "outputs": [
    {
     "data": {
      "text/latex": [
       "$\\displaystyle \\mathbf{{x}_{C}} \\mathbf{{y}_{C}} \\mathbf{{z}_{C}}$"
      ],
      "text/plain": [
       "C.x*C.y*C.z"
      ]
     },
     "execution_count": 3,
     "metadata": {},
     "output_type": "execute_result"
    }
   ],
   "source": [
    "scalar_field"
   ]
  },
  {
   "cell_type": "code",
   "execution_count": 4,
   "id": "98dd0534-5cb4-40a4-a248-fdf8ac87480e",
   "metadata": {},
   "outputs": [
    {
     "data": {
      "text/latex": [
       "$\\displaystyle \\left(\\frac{\\partial}{\\partial \\mathbf{{x}_{C}}} \\mathbf{{x}_{C}} \\mathbf{{y}_{C}} \\mathbf{{z}_{C}}\\right)\\mathbf{\\hat{i}_{C}} + \\left(\\frac{\\partial}{\\partial \\mathbf{{y}_{C}}} \\mathbf{{x}_{C}} \\mathbf{{y}_{C}} \\mathbf{{z}_{C}}\\right)\\mathbf{\\hat{j}_{C}} + \\left(\\frac{\\partial}{\\partial \\mathbf{{z}_{C}}} \\mathbf{{x}_{C}} \\mathbf{{y}_{C}} \\mathbf{{z}_{C}}\\right)\\mathbf{\\hat{k}_{C}}$"
      ],
      "text/plain": [
       "(Derivative(C.x*C.y*C.z, C.x))*C.i + (Derivative(C.x*C.y*C.z, C.y))*C.j + (Derivative(C.x*C.y*C.z, C.z))*C.k"
      ]
     },
     "execution_count": 4,
     "metadata": {},
     "output_type": "execute_result"
    }
   ],
   "source": [
    "delop(scalar_field)"
   ]
  },
  {
   "cell_type": "code",
   "execution_count": null,
   "id": "bef56865-f4f6-46a1-acaf-d611629c0312",
   "metadata": {},
   "outputs": [],
   "source": []
  },
  {
   "cell_type": "code",
   "execution_count": 5,
   "id": "e31cb78b-e8c6-424c-857a-b364eb8686bf",
   "metadata": {},
   "outputs": [],
   "source": [
    "A = sp.Symbol('A')\n",
    "P = CoordSys3D('P', transformation='spherical',  vector_names=('er','eth','ez'), variable_names=list('rtz'))"
   ]
  },
  {
   "cell_type": "code",
   "execution_count": 10,
   "id": "28067223-ebd4-45c5-b0cb-1b0276202b49",
   "metadata": {},
   "outputs": [],
   "source": [
    "sol_r = A*1/P.r*P.er"
   ]
  },
  {
   "cell_type": "code",
   "execution_count": 16,
   "id": "1177bb6b-10e4-46fd-a33a-e2310447fcd0",
   "metadata": {},
   "outputs": [
    {
     "data": {
      "text/latex": [
       "$\\displaystyle \\left(\\frac{A}{\\mathbf{{r}_{P}}}\\right)\\mathbf{\\hat{er}_{P}}$"
      ],
      "text/plain": [
       "A/P.r*P.er"
      ]
     },
     "execution_count": 16,
     "metadata": {},
     "output_type": "execute_result"
    }
   ],
   "source": [
    "sol_r"
   ]
  },
  {
   "cell_type": "code",
   "execution_count": 12,
   "id": "8267fde1-4d06-4ba0-996a-07f4e1fa0e19",
   "metadata": {},
   "outputs": [
    {
     "data": {
      "text/plain": [
       "\u001b[0;31mInit signature:\u001b[0m \u001b[0mDel\u001b[0m\u001b[0;34m(\u001b[0m\u001b[0;34m)\u001b[0m\u001b[0;34m\u001b[0m\u001b[0;34m\u001b[0m\u001b[0m\n",
       "\u001b[0;31mDocstring:\u001b[0m     \n",
       "Represents the vector differential operator, usually represented in\n",
       "mathematical expressions as the 'nabla' symbol.\n",
       "\u001b[0;31mFile:\u001b[0m           ~/anaconda3/lib/python3.10/site-packages/sympy/vector/deloperator.py\n",
       "\u001b[0;31mType:\u001b[0m           ManagedProperties\n",
       "\u001b[0;31mSubclasses:\u001b[0m     \n"
      ]
     },
     "metadata": {},
     "output_type": "display_data"
    }
   ],
   "source": [
    "Del?"
   ]
  },
  {
   "cell_type": "code",
   "execution_count": 13,
   "id": "532123b5-2ca3-416c-a8ca-7fa8aa077f91",
   "metadata": {},
   "outputs": [
    {
     "data": {
      "text/latex": [
       "$\\displaystyle \\left(\\mathbf{{x}_{C}} \\mathbf{{y}_{C}} \\mathbf{{z}_{C}}\\right)\\mathbf{\\hat{i}_{C}}$"
      ],
      "text/plain": [
       "C.x*C.y*C.z*C.i"
      ]
     },
     "execution_count": 13,
     "metadata": {},
     "output_type": "execute_result"
    }
   ],
   "source": [
    "(vel.dot(delop))"
   ]
  },
  {
   "cell_type": "code",
   "execution_count": null,
   "id": "8359e69a-d86c-4efd-9787-61557ff8f38e",
   "metadata": {},
   "outputs": [],
   "source": []
  }
 ],
 "metadata": {
  "kernelspec": {
   "display_name": "Python 3 (ipykernel)",
   "language": "python",
   "name": "python3"
  },
  "language_info": {
   "codemirror_mode": {
    "name": "ipython",
    "version": 3
   },
   "file_extension": ".py",
   "mimetype": "text/x-python",
   "name": "python",
   "nbconvert_exporter": "python",
   "pygments_lexer": "ipython3",
   "version": "3.10.9"
  }
 },
 "nbformat": 4,
 "nbformat_minor": 5
}
