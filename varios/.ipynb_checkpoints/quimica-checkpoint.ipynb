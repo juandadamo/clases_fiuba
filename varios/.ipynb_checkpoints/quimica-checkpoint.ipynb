{
 "cells": [
  {
   "cell_type": "markdown",
   "id": "b395410a",
   "metadata": {},
   "source": [
    "[version interactiva](https://mybinder.org/v2/git/https%3A%2F%2Fgithub.com%2Fjuandadamo%2Fclases_fiuba/HEAD?filepath=varios%2Fquimica.ipynb)"
   ]
  },
  {
   "cell_type": "code",
   "execution_count": 18,
   "id": "8125345e",
   "metadata": {},
   "outputs": [
    {
     "name": "stdout",
     "output_type": "stream",
     "text": [
      "Requirement already satisfied: numpy in /home/juan/anaconda3/lib/python3.8/site-packages (1.20.1)\n",
      "Requirement already satisfied: matplotlib in /home/juan/anaconda3/lib/python3.8/site-packages (3.3.4)\n",
      "Requirement already satisfied: chempy in /home/juan/anaconda3/lib/python3.8/site-packages (0.8.1)\n",
      "Requirement already satisfied: kiwisolver>=1.0.1 in /home/juan/anaconda3/lib/python3.8/site-packages (from matplotlib) (1.3.1)\n",
      "Requirement already satisfied: pillow>=6.2.0 in /home/juan/anaconda3/lib/python3.8/site-packages (from matplotlib) (8.2.0)\n",
      "Requirement already satisfied: python-dateutil>=2.1 in /home/juan/anaconda3/lib/python3.8/site-packages (from matplotlib) (2.8.1)\n",
      "Requirement already satisfied: cycler>=0.10 in /home/juan/anaconda3/lib/python3.8/site-packages (from matplotlib) (0.10.0)\n",
      "Requirement already satisfied: pyparsing!=2.0.4,!=2.1.2,!=2.1.6,>=2.0.3 in /home/juan/anaconda3/lib/python3.8/site-packages (from matplotlib) (2.4.7)\n",
      "Requirement already satisfied: pyodesys>=0.14.0 in /home/juan/anaconda3/lib/python3.8/site-packages (from chempy) (0.14.0)\n",
      "Requirement already satisfied: sympy!=1.2,>=1.1.1 in /home/juan/anaconda3/lib/python3.8/site-packages (from chempy) (1.8)\n",
      "Requirement already satisfied: scipy>=1.0.1 in /home/juan/anaconda3/lib/python3.8/site-packages (from chempy) (1.6.2)\n",
      "Requirement already satisfied: dot2tex>=2.11.3 in /home/juan/anaconda3/lib/python3.8/site-packages (from chempy) (2.11.3)\n",
      "Requirement already satisfied: pyneqsys>=0.5.5 in /home/juan/anaconda3/lib/python3.8/site-packages (from chempy) (0.5.7)\n",
      "Requirement already satisfied: pulp>=1.6.8 in /home/juan/anaconda3/lib/python3.8/site-packages (from chempy) (2.5.0)\n",
      "Requirement already satisfied: sym>=0.3.4 in /home/juan/anaconda3/lib/python3.8/site-packages (from chempy) (0.3.5)\n",
      "Requirement already satisfied: quantities>=0.12.1 in /home/juan/anaconda3/lib/python3.8/site-packages (from chempy) (0.12.5)\n",
      "Requirement already satisfied: six in /home/juan/anaconda3/lib/python3.8/site-packages (from cycler>=0.10->matplotlib) (1.15.0)\n",
      "Requirement already satisfied: notebook>=5.7.8 in /home/juan/anaconda3/lib/python3.8/site-packages (from pyodesys>=0.14.0->chempy) (6.3.0)\n",
      "Requirement already satisfied: terminado>=0.8.3 in /home/juan/anaconda3/lib/python3.8/site-packages (from notebook>=5.7.8->pyodesys>=0.14.0->chempy) (0.9.4)\n",
      "Requirement already satisfied: prometheus-client in /home/juan/anaconda3/lib/python3.8/site-packages (from notebook>=5.7.8->pyodesys>=0.14.0->chempy) (0.10.1)\n",
      "Requirement already satisfied: jinja2 in /home/juan/anaconda3/lib/python3.8/site-packages (from notebook>=5.7.8->pyodesys>=0.14.0->chempy) (2.11.3)\n",
      "Requirement already satisfied: nbformat in /home/juan/anaconda3/lib/python3.8/site-packages (from notebook>=5.7.8->pyodesys>=0.14.0->chempy) (5.1.3)\n",
      "Requirement already satisfied: ipython-genutils in /home/juan/anaconda3/lib/python3.8/site-packages (from notebook>=5.7.8->pyodesys>=0.14.0->chempy) (0.2.0)\n",
      "Requirement already satisfied: Send2Trash>=1.5.0 in /home/juan/anaconda3/lib/python3.8/site-packages (from notebook>=5.7.8->pyodesys>=0.14.0->chempy) (1.5.0)\n",
      "Requirement already satisfied: ipykernel in /home/juan/anaconda3/lib/python3.8/site-packages (from notebook>=5.7.8->pyodesys>=0.14.0->chempy) (5.3.4)\n",
      "Requirement already satisfied: argon2-cffi in /home/juan/anaconda3/lib/python3.8/site-packages (from notebook>=5.7.8->pyodesys>=0.14.0->chempy) (20.1.0)\n",
      "Requirement already satisfied: jupyter-core>=4.6.1 in /home/juan/anaconda3/lib/python3.8/site-packages (from notebook>=5.7.8->pyodesys>=0.14.0->chempy) (4.7.1)\n",
      "Requirement already satisfied: nbconvert in /home/juan/anaconda3/lib/python3.8/site-packages (from notebook>=5.7.8->pyodesys>=0.14.0->chempy) (6.0.7)\n",
      "Requirement already satisfied: pyzmq>=17 in /home/juan/anaconda3/lib/python3.8/site-packages (from notebook>=5.7.8->pyodesys>=0.14.0->chempy) (20.0.0)\n",
      "Requirement already satisfied: tornado>=6.1 in /home/juan/anaconda3/lib/python3.8/site-packages (from notebook>=5.7.8->pyodesys>=0.14.0->chempy) (6.1)\n",
      "Requirement already satisfied: jupyter-client>=5.3.4 in /home/juan/anaconda3/lib/python3.8/site-packages (from notebook>=5.7.8->pyodesys>=0.14.0->chempy) (6.1.12)\n",
      "Requirement already satisfied: traitlets>=4.2.1 in /home/juan/anaconda3/lib/python3.8/site-packages (from notebook>=5.7.8->pyodesys>=0.14.0->chempy) (5.0.5)\n",
      "Requirement already satisfied: mpmath>=0.19 in /home/juan/anaconda3/lib/python3.8/site-packages (from sympy!=1.2,>=1.1.1->chempy) (1.2.1)\n",
      "Requirement already satisfied: ptyprocess in /home/juan/anaconda3/lib/python3.8/site-packages (from terminado>=0.8.3->notebook>=5.7.8->pyodesys>=0.14.0->chempy) (0.7.0)\n",
      "Requirement already satisfied: cffi>=1.0.0 in /home/juan/anaconda3/lib/python3.8/site-packages (from argon2-cffi->notebook>=5.7.8->pyodesys>=0.14.0->chempy) (1.14.5)\n",
      "Requirement already satisfied: pycparser in /home/juan/anaconda3/lib/python3.8/site-packages (from cffi>=1.0.0->argon2-cffi->notebook>=5.7.8->pyodesys>=0.14.0->chempy) (2.20)\n",
      "Requirement already satisfied: ipython>=5.0.0 in /home/juan/anaconda3/lib/python3.8/site-packages (from ipykernel->notebook>=5.7.8->pyodesys>=0.14.0->chempy) (7.25.0)\n",
      "Requirement already satisfied: decorator in /home/juan/anaconda3/lib/python3.8/site-packages (from ipython>=5.0.0->ipykernel->notebook>=5.7.8->pyodesys>=0.14.0->chempy) (5.0.6)\n",
      "Requirement already satisfied: pickleshare in /home/juan/anaconda3/lib/python3.8/site-packages (from ipython>=5.0.0->ipykernel->notebook>=5.7.8->pyodesys>=0.14.0->chempy) (0.7.5)\n",
      "Requirement already satisfied: backcall in /home/juan/anaconda3/lib/python3.8/site-packages (from ipython>=5.0.0->ipykernel->notebook>=5.7.8->pyodesys>=0.14.0->chempy) (0.2.0)\n",
      "Requirement already satisfied: setuptools>=18.5 in /home/juan/anaconda3/lib/python3.8/site-packages (from ipython>=5.0.0->ipykernel->notebook>=5.7.8->pyodesys>=0.14.0->chempy) (52.0.0.post20210125)\n",
      "Requirement already satisfied: prompt-toolkit!=3.0.0,!=3.0.1,<3.1.0,>=2.0.0 in /home/juan/anaconda3/lib/python3.8/site-packages (from ipython>=5.0.0->ipykernel->notebook>=5.7.8->pyodesys>=0.14.0->chempy) (3.0.17)\n",
      "Requirement already satisfied: pygments in /home/juan/anaconda3/lib/python3.8/site-packages (from ipython>=5.0.0->ipykernel->notebook>=5.7.8->pyodesys>=0.14.0->chempy) (2.8.1)\n",
      "Requirement already satisfied: matplotlib-inline in /home/juan/anaconda3/lib/python3.8/site-packages (from ipython>=5.0.0->ipykernel->notebook>=5.7.8->pyodesys>=0.14.0->chempy) (0.1.2)\n",
      "Requirement already satisfied: jedi>=0.16 in /home/juan/anaconda3/lib/python3.8/site-packages (from ipython>=5.0.0->ipykernel->notebook>=5.7.8->pyodesys>=0.14.0->chempy) (0.17.2)\n",
      "Requirement already satisfied: pexpect>4.3 in /home/juan/anaconda3/lib/python3.8/site-packages (from ipython>=5.0.0->ipykernel->notebook>=5.7.8->pyodesys>=0.14.0->chempy) (4.8.0)\n",
      "Requirement already satisfied: parso<0.8.0,>=0.7.0 in /home/juan/anaconda3/lib/python3.8/site-packages (from jedi>=0.16->ipython>=5.0.0->ipykernel->notebook>=5.7.8->pyodesys>=0.14.0->chempy) (0.7.0)\n",
      "Requirement already satisfied: wcwidth in /home/juan/anaconda3/lib/python3.8/site-packages (from prompt-toolkit!=3.0.0,!=3.0.1,<3.1.0,>=2.0.0->ipython>=5.0.0->ipykernel->notebook>=5.7.8->pyodesys>=0.14.0->chempy) (0.2.5)\n",
      "Requirement already satisfied: MarkupSafe>=0.23 in /home/juan/anaconda3/lib/python3.8/site-packages (from jinja2->notebook>=5.7.8->pyodesys>=0.14.0->chempy) (1.1.1)\n",
      "Requirement already satisfied: mistune<2,>=0.8.1 in /home/juan/anaconda3/lib/python3.8/site-packages (from nbconvert->notebook>=5.7.8->pyodesys>=0.14.0->chempy) (0.8.4)\n",
      "Requirement already satisfied: testpath in /home/juan/anaconda3/lib/python3.8/site-packages (from nbconvert->notebook>=5.7.8->pyodesys>=0.14.0->chempy) (0.4.4)\n",
      "Requirement already satisfied: defusedxml in /home/juan/anaconda3/lib/python3.8/site-packages (from nbconvert->notebook>=5.7.8->pyodesys>=0.14.0->chempy) (0.7.1)\n",
      "Requirement already satisfied: jupyterlab-pygments in /home/juan/anaconda3/lib/python3.8/site-packages (from nbconvert->notebook>=5.7.8->pyodesys>=0.14.0->chempy) (0.1.2)\n",
      "Requirement already satisfied: entrypoints>=0.2.2 in /home/juan/anaconda3/lib/python3.8/site-packages (from nbconvert->notebook>=5.7.8->pyodesys>=0.14.0->chempy) (0.3)\n",
      "Requirement already satisfied: pandocfilters>=1.4.1 in /home/juan/anaconda3/lib/python3.8/site-packages (from nbconvert->notebook>=5.7.8->pyodesys>=0.14.0->chempy) (1.4.3)\n",
      "Requirement already satisfied: bleach in /home/juan/anaconda3/lib/python3.8/site-packages (from nbconvert->notebook>=5.7.8->pyodesys>=0.14.0->chempy) (3.3.0)\n",
      "Requirement already satisfied: nbclient<0.6.0,>=0.5.0 in /home/juan/anaconda3/lib/python3.8/site-packages (from nbconvert->notebook>=5.7.8->pyodesys>=0.14.0->chempy) (0.5.3)\n"
     ]
    },
    {
     "name": "stdout",
     "output_type": "stream",
     "text": [
      "Requirement already satisfied: nest-asyncio in /home/juan/anaconda3/lib/python3.8/site-packages (from nbclient<0.6.0,>=0.5.0->nbconvert->notebook>=5.7.8->pyodesys>=0.14.0->chempy) (1.5.1)\n",
      "Requirement already satisfied: async-generator in /home/juan/anaconda3/lib/python3.8/site-packages (from nbclient<0.6.0,>=0.5.0->nbconvert->notebook>=5.7.8->pyodesys>=0.14.0->chempy) (1.10)\n",
      "Requirement already satisfied: jsonschema!=2.5.0,>=2.4 in /home/juan/anaconda3/lib/python3.8/site-packages (from nbformat->notebook>=5.7.8->pyodesys>=0.14.0->chempy) (3.2.0)\n",
      "Requirement already satisfied: attrs>=17.4.0 in /home/juan/anaconda3/lib/python3.8/site-packages (from jsonschema!=2.5.0,>=2.4->nbformat->notebook>=5.7.8->pyodesys>=0.14.0->chempy) (20.3.0)\n",
      "Requirement already satisfied: pyrsistent>=0.14.0 in /home/juan/anaconda3/lib/python3.8/site-packages (from jsonschema!=2.5.0,>=2.4->nbformat->notebook>=5.7.8->pyodesys>=0.14.0->chempy) (0.17.3)\n",
      "Requirement already satisfied: webencodings in /home/juan/anaconda3/lib/python3.8/site-packages (from bleach->nbconvert->notebook>=5.7.8->pyodesys>=0.14.0->chempy) (0.5.1)\n",
      "Requirement already satisfied: packaging in /home/juan/anaconda3/lib/python3.8/site-packages (from bleach->nbconvert->notebook>=5.7.8->pyodesys>=0.14.0->chempy) (20.9)\n"
     ]
    }
   ],
   "source": [
    "!pip install  numpy matplotlib chempy"
   ]
  },
  {
   "cell_type": "markdown",
   "id": "b22bc15d",
   "metadata": {},
   "source": [
    "$$\\require{mhchem}$$   "
   ]
  },
  {
   "cell_type": "code",
   "execution_count": 19,
   "id": "ccf1c133",
   "metadata": {},
   "outputs": [],
   "source": [
    "%reload_ext autoreload\n",
    "%autoreload 2\n",
    "%matplotlib notebook\n",
    "import chempy\n",
    "import numpy as np\n",
    "import matplotlib.pyplot as plt\n",
    "from IPython.display import  Latex"
   ]
  },
  {
   "cell_type": "code",
   "execution_count": 184,
   "id": "d5cebce2",
   "metadata": {},
   "outputs": [
    {
     "data": {
      "text/latex": [
       "Ecuación química, balance estequiométrico"
      ],
      "text/plain": [
       "<IPython.core.display.Latex object>"
      ]
     },
     "metadata": {},
     "output_type": "display_data"
    },
    {
     "data": {
      "text/latex": [
       "\\(\\ce{ 1CO2 + 2 KOH -> 1 H2O +1 K2CO3 }  \\)"
      ],
      "text/plain": [
       "<IPython.core.display.Latex object>"
      ]
     },
     "metadata": {},
     "output_type": "display_data"
    },
    {
     "data": {
      "text/latex": [
       "Ecuación química, fracciones en masa"
      ],
      "text/plain": [
       "<IPython.core.display.Latex object>"
      ]
     },
     "metadata": {},
     "output_type": "display_data"
    },
    {
     "data": {
      "text/latex": [
       "\\(\\ce{ 28\\%~~~~~ 72\\% ~~~~~~~~~~~~~ 12\\%~~~~~~~ 88\\% }  \\)"
      ],
      "text/plain": [
       "<IPython.core.display.Latex object>"
      ]
     },
     "metadata": {},
     "output_type": "display_data"
    }
   ],
   "source": [
    "lista_moleculas = []\n",
    "\n",
    "reac, prod = chempy.balance_stoichiometry({'KOH', 'CO2'}, {'K2CO3', 'H2O'})\n",
    "\n",
    "for molecules in [reac, prod]:\n",
    "    fracs = chempy.mass_fractions(molecules)\n",
    "    esteqs = list(molecules.values())\n",
    "    for i,frac_i in enumerate(fracs.items()):\n",
    "        nombre,wt = frac_i\n",
    "        lista_moleculas.append((nombre,esteqs[i],wt))\n",
    "        #print(esteqs[i],frac_i)\n",
    "display(Latex('Ecuación química, balance estequiométrico'))\n",
    "display(Latex(f'\\(\\ce{{ {lista_moleculas[0][1]}{lista_moleculas[0][0]} + {lista_moleculas[1][1]} {lista_moleculas[1][0]} -> {lista_moleculas[2][1]} {lista_moleculas[2][0]} +{lista_moleculas[3][1]} {lista_moleculas[3][0]} }}  \\)'))\n",
    "display(Latex('Ecuación química, fracciones en masa'))\n",
    "display(Latex(f'\\(\\ce{{ {lista_moleculas[0][2]*100:.0f}\\\\%~~~~~ {lista_moleculas[1][2]*100:.0f}\\\\% ~~~~~~~~~~~~~ {lista_moleculas[2][2]*100:.0f}\\\\%~~~~~~~ {lista_moleculas[3][2]*100:.0f}\\\\% }}  \\)'))"
   ]
  }
 ],
 "metadata": {
  "kernelspec": {
   "display_name": "Python 3",
   "language": "python",
   "name": "python3"
  },
  "language_info": {
   "codemirror_mode": {
    "name": "ipython",
    "version": 3
   },
   "file_extension": ".py",
   "mimetype": "text/x-python",
   "name": "python",
   "nbconvert_exporter": "python",
   "pygments_lexer": "ipython3",
   "version": "3.8.8"
  },
  "latex_envs": {
   "LaTeX_envs_menu_present": true,
   "autoclose": true,
   "autocomplete": true,
   "bibliofile": "biblio.bib",
   "cite_by": "apalike",
   "current_citInitial": 1,
   "eqLabelWithNumbers": true,
   "eqNumInitial": 1,
   "hotkeys": {
    "equation": "Ctrl-E",
    "itemize": "Ctrl-I"
   },
   "labels_anchors": false,
   "latex_user_defs": false,
   "report_style_numbering": false,
   "user_envs_cfg": false
  }
 },
 "nbformat": 4,
 "nbformat_minor": 5
}
